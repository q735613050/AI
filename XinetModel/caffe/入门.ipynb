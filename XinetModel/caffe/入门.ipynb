{
 "cells": [
  {
   "cell_type": "markdown",
   "metadata": {},
   "source": [
    "# 生成 HDF5 文件"
   ]
  },
  {
   "cell_type": "code",
   "execution_count": 4,
   "metadata": {},
   "outputs": [],
   "source": [
    "import pickle\n",
    "import numpy as np\n",
    "import h5py\n",
    "\n",
    "with open('../MXNet/data.pkl', 'rb') as f:\n",
    "    samples, labels = pickle.load(f)\n",
    "sample_size = len(labels)\n",
    "\n",
    "samples = np.array(samples).reshape((sample_size, 2))\n",
    "labels = np.array(labels).reshape((sample_size, 1))\n",
    "\n",
    "h5_filename = 'data.h5'\n",
    "with h5py.File(h5_filename, 'w') as h:\n",
    "    h.create_dataset('data', data=samples)\n",
    "    h.create_dataset('label', data=labels)\n",
    "\n",
    "with open('data_h5.txt', 'w') as f:\n",
    "    f.write(h5_filename)"
   ]
  }
 ],
 "metadata": {
  "kernelspec": {
   "display_name": "Python 3",
   "language": "python",
   "name": "python3"
  },
  "language_info": {
   "codemirror_mode": {
    "name": "ipython",
    "version": 3
   },
   "file_extension": ".py",
   "mimetype": "text/x-python",
   "name": "python",
   "nbconvert_exporter": "python",
   "pygments_lexer": "ipython3",
   "version": "3.6.5"
  }
 },
 "nbformat": 4,
 "nbformat_minor": 2
}
