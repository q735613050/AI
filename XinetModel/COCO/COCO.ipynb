{
 "cells": [
  {
   "cell_type": "code",
   "execution_count": 1,
   "metadata": {
    "scrolled": true
   },
   "outputs": [],
   "source": [
    "import sys \n",
    "sys.path.append('E:/xlab')\n",
    "\n",
    "from base.file import ZipBunch, Bunch"
   ]
  },
  {
   "cell_type": "code",
   "execution_count": 2,
   "metadata": {},
   "outputs": [],
   "source": [
    "import numpy as np\n",
    "import os\n",
    "import json    "
   ]
  },
  {
   "cell_type": "code",
   "execution_count": 3,
   "metadata": {},
   "outputs": [],
   "source": [
    "root = 'E:/Data/coco/'\n",
    "ZB = ZipBunch(root)"
   ]
  },
  {
   "cell_type": "code",
   "execution_count": 4,
   "metadata": {},
   "outputs": [
    {
     "data": {
      "text/plain": [
       "{'annotations_trainval2017': <zipfile.ZipFile filename='E:/Data/coco/annotations_trainval2017.zip' mode='r'>,\n",
       " 'image_info_test2017': <zipfile.ZipFile filename='E:/Data/coco/image_info_test2017.zip' mode='r'>,\n",
       " 'image_info_unlabeled2017': <zipfile.ZipFile filename='E:/Data/coco/image_info_unlabeled2017.zip' mode='r'>,\n",
       " 'panoptic_annotations_trainval2017': <zipfile.ZipFile filename='E:/Data/coco/panoptic_annotations_trainval2017.zip' mode='r'>,\n",
       " 'stuff_annotations_trainval2017': <zipfile.ZipFile filename='E:/Data/coco/stuff_annotations_trainval2017.zip' mode='r'>,\n",
       " 'test2017': <zipfile.ZipFile filename='E:/Data/coco/test2017.zip' mode='r'>,\n",
       " 'train2017': <zipfile.ZipFile filename='E:/Data/coco/train2017.zip' mode='r'>,\n",
       " 'unlabeled2017': <zipfile.ZipFile filename='E:/Data/coco/unlabeled2017.zip' mode='r'>,\n",
       " 'val2017': <zipfile.ZipFile filename='E:/Data/coco/val2017.zip' mode='r'>}"
      ]
     },
     "execution_count": 4,
     "metadata": {},
     "output_type": "execute_result"
    }
   ],
   "source": [
    "ZB"
   ]
  },
  {
   "cell_type": "code",
   "execution_count": 5,
   "metadata": {},
   "outputs": [],
   "source": [
    "class Annotation(Bunch):\n",
    "    \n",
    "    def __init__(self, ZB, *args, **kwds):\n",
    "        super().__init__(*args, **kwds)\n",
    "        annZ = ZB.annotations_trainval2017\n",
    "        \n",
    "        for name in annZ.namelist():\n",
    "            with annZ.open(name) as fp:\n",
    "                class_name, _ = os.path.splitext(name)\n",
    "                class_name = class_name.split('/')[1]\n",
    "                self[class_name] = Bunch(json.load(fp))"
   ]
  },
  {
   "cell_type": "code",
   "execution_count": 6,
   "metadata": {},
   "outputs": [],
   "source": [
    "annZ = Annotation(ZB)"
   ]
  },
  {
   "cell_type": "code",
   "execution_count": 7,
   "metadata": {},
   "outputs": [
    {
     "data": {
      "text/plain": [
       "dict_keys(['info', 'licenses', 'images', 'annotations', 'categories'])"
      ]
     },
     "execution_count": 7,
     "metadata": {},
     "output_type": "execute_result"
    }
   ],
   "source": [
    "annZ.instances_val2017.keys()"
   ]
  },
  {
   "cell_type": "code",
   "execution_count": 15,
   "metadata": {},
   "outputs": [
    {
     "data": {
      "text/plain": [
       "{'segmentation': [[510.66,\n",
       "   423.01,\n",
       "   511.72,\n",
       "   420.03,\n",
       "   510.45,\n",
       "   416.0,\n",
       "   510.34,\n",
       "   413.02,\n",
       "   510.77,\n",
       "   410.26,\n",
       "   510.77,\n",
       "   407.5,\n",
       "   510.34,\n",
       "   405.16,\n",
       "   511.51,\n",
       "   402.83,\n",
       "   511.41,\n",
       "   400.49,\n",
       "   510.24,\n",
       "   398.16,\n",
       "   509.39,\n",
       "   397.31,\n",
       "   504.61,\n",
       "   399.22,\n",
       "   502.17,\n",
       "   399.64,\n",
       "   500.89,\n",
       "   401.66,\n",
       "   500.47,\n",
       "   402.08,\n",
       "   499.09,\n",
       "   401.87,\n",
       "   495.79,\n",
       "   401.98,\n",
       "   490.59,\n",
       "   401.77,\n",
       "   488.79,\n",
       "   401.77,\n",
       "   485.39,\n",
       "   398.58,\n",
       "   483.9,\n",
       "   397.31,\n",
       "   481.56,\n",
       "   396.35,\n",
       "   478.48,\n",
       "   395.93,\n",
       "   476.68,\n",
       "   396.03,\n",
       "   475.4,\n",
       "   396.77,\n",
       "   473.92,\n",
       "   398.79,\n",
       "   473.28,\n",
       "   399.96,\n",
       "   473.49,\n",
       "   401.87,\n",
       "   474.56,\n",
       "   403.47,\n",
       "   473.07,\n",
       "   405.59,\n",
       "   473.39,\n",
       "   407.71,\n",
       "   476.68,\n",
       "   409.41,\n",
       "   479.23,\n",
       "   409.73,\n",
       "   481.56,\n",
       "   410.69,\n",
       "   480.4,\n",
       "   411.85,\n",
       "   481.35,\n",
       "   414.93,\n",
       "   479.86,\n",
       "   418.65,\n",
       "   477.32,\n",
       "   420.03,\n",
       "   476.04,\n",
       "   422.58,\n",
       "   479.02,\n",
       "   422.58,\n",
       "   480.29,\n",
       "   423.01,\n",
       "   483.79,\n",
       "   419.93,\n",
       "   486.66,\n",
       "   416.21,\n",
       "   490.06,\n",
       "   415.57,\n",
       "   492.18,\n",
       "   416.85,\n",
       "   491.65,\n",
       "   420.24,\n",
       "   492.82,\n",
       "   422.9,\n",
       "   493.56,\n",
       "   424.39,\n",
       "   496.43,\n",
       "   424.6,\n",
       "   498.02,\n",
       "   423.01,\n",
       "   498.13,\n",
       "   421.31,\n",
       "   497.07,\n",
       "   420.03,\n",
       "   497.07,\n",
       "   415.15,\n",
       "   496.33,\n",
       "   414.51,\n",
       "   501.1,\n",
       "   411.96,\n",
       "   502.06,\n",
       "   411.32,\n",
       "   503.02,\n",
       "   415.04,\n",
       "   503.33,\n",
       "   418.12,\n",
       "   501.1,\n",
       "   420.24,\n",
       "   498.98,\n",
       "   421.63,\n",
       "   500.47,\n",
       "   424.39,\n",
       "   505.03,\n",
       "   423.32,\n",
       "   506.2,\n",
       "   421.31,\n",
       "   507.69,\n",
       "   419.5,\n",
       "   506.31,\n",
       "   423.32,\n",
       "   510.03,\n",
       "   423.01,\n",
       "   510.45,\n",
       "   423.01]],\n",
       " 'area': 702.1057499999998,\n",
       " 'iscrowd': 0,\n",
       " 'image_id': 289343,\n",
       " 'bbox': [473.07, 395.93, 38.65, 28.67],\n",
       " 'category_id': 18,\n",
       " 'id': 1768}"
      ]
     },
     "execution_count": 15,
     "metadata": {},
     "output_type": "execute_result"
    }
   ],
   "source": [
    "annZ.instances_val2017.annotations[0]"
   ]
  },
  {
   "cell_type": "code",
   "execution_count": 11,
   "metadata": {
    "scrolled": true
   },
   "outputs": [
    {
     "data": {
      "text/plain": [
       "[{'supercategory': 'person', 'id': 1, 'name': 'person'},\n",
       " {'supercategory': 'vehicle', 'id': 2, 'name': 'bicycle'},\n",
       " {'supercategory': 'vehicle', 'id': 3, 'name': 'car'},\n",
       " {'supercategory': 'vehicle', 'id': 4, 'name': 'motorcycle'},\n",
       " {'supercategory': 'vehicle', 'id': 5, 'name': 'airplane'},\n",
       " {'supercategory': 'vehicle', 'id': 6, 'name': 'bus'},\n",
       " {'supercategory': 'vehicle', 'id': 7, 'name': 'train'},\n",
       " {'supercategory': 'vehicle', 'id': 8, 'name': 'truck'},\n",
       " {'supercategory': 'vehicle', 'id': 9, 'name': 'boat'},\n",
       " {'supercategory': 'outdoor', 'id': 10, 'name': 'traffic light'},\n",
       " {'supercategory': 'outdoor', 'id': 11, 'name': 'fire hydrant'},\n",
       " {'supercategory': 'outdoor', 'id': 13, 'name': 'stop sign'},\n",
       " {'supercategory': 'outdoor', 'id': 14, 'name': 'parking meter'},\n",
       " {'supercategory': 'outdoor', 'id': 15, 'name': 'bench'},\n",
       " {'supercategory': 'animal', 'id': 16, 'name': 'bird'},\n",
       " {'supercategory': 'animal', 'id': 17, 'name': 'cat'},\n",
       " {'supercategory': 'animal', 'id': 18, 'name': 'dog'},\n",
       " {'supercategory': 'animal', 'id': 19, 'name': 'horse'},\n",
       " {'supercategory': 'animal', 'id': 20, 'name': 'sheep'},\n",
       " {'supercategory': 'animal', 'id': 21, 'name': 'cow'},\n",
       " {'supercategory': 'animal', 'id': 22, 'name': 'elephant'},\n",
       " {'supercategory': 'animal', 'id': 23, 'name': 'bear'},\n",
       " {'supercategory': 'animal', 'id': 24, 'name': 'zebra'},\n",
       " {'supercategory': 'animal', 'id': 25, 'name': 'giraffe'},\n",
       " {'supercategory': 'accessory', 'id': 27, 'name': 'backpack'},\n",
       " {'supercategory': 'accessory', 'id': 28, 'name': 'umbrella'},\n",
       " {'supercategory': 'accessory', 'id': 31, 'name': 'handbag'},\n",
       " {'supercategory': 'accessory', 'id': 32, 'name': 'tie'},\n",
       " {'supercategory': 'accessory', 'id': 33, 'name': 'suitcase'},\n",
       " {'supercategory': 'sports', 'id': 34, 'name': 'frisbee'},\n",
       " {'supercategory': 'sports', 'id': 35, 'name': 'skis'},\n",
       " {'supercategory': 'sports', 'id': 36, 'name': 'snowboard'},\n",
       " {'supercategory': 'sports', 'id': 37, 'name': 'sports ball'},\n",
       " {'supercategory': 'sports', 'id': 38, 'name': 'kite'},\n",
       " {'supercategory': 'sports', 'id': 39, 'name': 'baseball bat'},\n",
       " {'supercategory': 'sports', 'id': 40, 'name': 'baseball glove'},\n",
       " {'supercategory': 'sports', 'id': 41, 'name': 'skateboard'},\n",
       " {'supercategory': 'sports', 'id': 42, 'name': 'surfboard'},\n",
       " {'supercategory': 'sports', 'id': 43, 'name': 'tennis racket'},\n",
       " {'supercategory': 'kitchen', 'id': 44, 'name': 'bottle'},\n",
       " {'supercategory': 'kitchen', 'id': 46, 'name': 'wine glass'},\n",
       " {'supercategory': 'kitchen', 'id': 47, 'name': 'cup'},\n",
       " {'supercategory': 'kitchen', 'id': 48, 'name': 'fork'},\n",
       " {'supercategory': 'kitchen', 'id': 49, 'name': 'knife'},\n",
       " {'supercategory': 'kitchen', 'id': 50, 'name': 'spoon'},\n",
       " {'supercategory': 'kitchen', 'id': 51, 'name': 'bowl'},\n",
       " {'supercategory': 'food', 'id': 52, 'name': 'banana'},\n",
       " {'supercategory': 'food', 'id': 53, 'name': 'apple'},\n",
       " {'supercategory': 'food', 'id': 54, 'name': 'sandwich'},\n",
       " {'supercategory': 'food', 'id': 55, 'name': 'orange'},\n",
       " {'supercategory': 'food', 'id': 56, 'name': 'broccoli'},\n",
       " {'supercategory': 'food', 'id': 57, 'name': 'carrot'},\n",
       " {'supercategory': 'food', 'id': 58, 'name': 'hot dog'},\n",
       " {'supercategory': 'food', 'id': 59, 'name': 'pizza'},\n",
       " {'supercategory': 'food', 'id': 60, 'name': 'donut'},\n",
       " {'supercategory': 'food', 'id': 61, 'name': 'cake'},\n",
       " {'supercategory': 'furniture', 'id': 62, 'name': 'chair'},\n",
       " {'supercategory': 'furniture', 'id': 63, 'name': 'couch'},\n",
       " {'supercategory': 'furniture', 'id': 64, 'name': 'potted plant'},\n",
       " {'supercategory': 'furniture', 'id': 65, 'name': 'bed'},\n",
       " {'supercategory': 'furniture', 'id': 67, 'name': 'dining table'},\n",
       " {'supercategory': 'furniture', 'id': 70, 'name': 'toilet'},\n",
       " {'supercategory': 'electronic', 'id': 72, 'name': 'tv'},\n",
       " {'supercategory': 'electronic', 'id': 73, 'name': 'laptop'},\n",
       " {'supercategory': 'electronic', 'id': 74, 'name': 'mouse'},\n",
       " {'supercategory': 'electronic', 'id': 75, 'name': 'remote'},\n",
       " {'supercategory': 'electronic', 'id': 76, 'name': 'keyboard'},\n",
       " {'supercategory': 'electronic', 'id': 77, 'name': 'cell phone'},\n",
       " {'supercategory': 'appliance', 'id': 78, 'name': 'microwave'},\n",
       " {'supercategory': 'appliance', 'id': 79, 'name': 'oven'},\n",
       " {'supercategory': 'appliance', 'id': 80, 'name': 'toaster'},\n",
       " {'supercategory': 'appliance', 'id': 81, 'name': 'sink'},\n",
       " {'supercategory': 'appliance', 'id': 82, 'name': 'refrigerator'},\n",
       " {'supercategory': 'indoor', 'id': 84, 'name': 'book'},\n",
       " {'supercategory': 'indoor', 'id': 85, 'name': 'clock'},\n",
       " {'supercategory': 'indoor', 'id': 86, 'name': 'vase'},\n",
       " {'supercategory': 'indoor', 'id': 87, 'name': 'scissors'},\n",
       " {'supercategory': 'indoor', 'id': 88, 'name': 'teddy bear'},\n",
       " {'supercategory': 'indoor', 'id': 89, 'name': 'hair drier'},\n",
       " {'supercategory': 'indoor', 'id': 90, 'name': 'toothbrush'}]"
      ]
     },
     "execution_count": 11,
     "metadata": {},
     "output_type": "execute_result"
    }
   ],
   "source": [
    "annZ.instances_train2017.categories"
   ]
  },
  {
   "cell_type": "code",
   "execution_count": null,
   "metadata": {},
   "outputs": [],
   "source": []
  }
 ],
 "metadata": {
  "kernelspec": {
   "display_name": "Python 3",
   "language": "python",
   "name": "python3"
  },
  "language_info": {
   "codemirror_mode": {
    "name": "ipython",
    "version": 3
   },
   "file_extension": ".py",
   "mimetype": "text/x-python",
   "name": "python",
   "nbconvert_exporter": "python",
   "pygments_lexer": "ipython3",
   "version": "3.6.5"
  },
  "latex_envs": {
   "LaTeX_envs_menu_present": true,
   "autoclose": false,
   "autocomplete": true,
   "bibliofile": "biblio.bib",
   "cite_by": "apalike",
   "current_citInitial": 1,
   "eqLabelWithNumbers": true,
   "eqNumInitial": 1,
   "hotkeys": {
    "equation": "Ctrl-E",
    "itemize": "Ctrl-I"
   },
   "labels_anchors": false,
   "latex_user_defs": false,
   "report_style_numbering": false,
   "user_envs_cfg": false
  },
  "nbTranslate": {
   "displayLangs": [
    "*"
   ],
   "hotkey": "alt-t",
   "langInMainMenu": true,
   "sourceLang": "en",
   "targetLang": "fr",
   "useGoogleTranslate": true
  },
  "toc": {
   "nav_menu": {},
   "number_sections": true,
   "sideBar": true,
   "skip_h1_title": false,
   "title_cell": "Table of Contents",
   "title_sidebar": "Contents",
   "toc_cell": false,
   "toc_position": {},
   "toc_section_display": true,
   "toc_window_display": false
  },
  "varInspector": {
   "cols": {
    "lenName": 16,
    "lenType": 16,
    "lenVar": 40
   },
   "kernels_config": {
    "python": {
     "delete_cmd_postfix": "",
     "delete_cmd_prefix": "del ",
     "library": "var_list.py",
     "varRefreshCmd": "print(var_dic_list())"
    },
    "r": {
     "delete_cmd_postfix": ") ",
     "delete_cmd_prefix": "rm(",
     "library": "var_list.r",
     "varRefreshCmd": "cat(var_dic_list()) "
    }
   },
   "types_to_exclude": [
    "module",
    "function",
    "builtin_function_or_method",
    "instance",
    "_Feature"
   ],
   "window_display": false
  }
 },
 "nbformat": 4,
 "nbformat_minor": 2
}
