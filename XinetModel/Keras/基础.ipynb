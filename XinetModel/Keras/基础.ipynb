{
 "cells": [
  {
   "cell_type": "markdown",
   "metadata": {},
   "source": [
    "# 数据预处理——`keras.preprocessing`\n",
    "\n",
    "- text\n",
    "- sequence\n",
    "- image"
   ]
  },
  {
   "cell_type": "code",
   "execution_count": 8,
   "metadata": {},
   "outputs": [],
   "source": [
    "from keras import preprocessing"
   ]
  },
  {
   "cell_type": "markdown",
   "metadata": {},
   "source": [
    "## [文字预处理](http://keras-cn.readthedocs.io/en/latest/preprocessing/text/)"
   ]
  },
  {
   "cell_type": "code",
   "execution_count": 10,
   "metadata": {},
   "outputs": [],
   "source": [
    "txt = 'In this paper, we present a simple and modularized neural network architecture, named interleaved group convolutional \\\n",
    "neural networks (IGCNets). The main point lies in a novel building block, a pair of two successive \\\n",
    "interleaved group convolutions: primary group convolution and secondary group convolution.'"
   ]
  },
  {
   "cell_type": "code",
   "execution_count": 12,
   "metadata": {},
   "outputs": [
    {
     "data": {
      "text/plain": [
       "['in', 'this', 'paper', 'we', 'present', 'a']"
      ]
     },
     "execution_count": 12,
     "metadata": {},
     "output_type": "execute_result"
    }
   ],
   "source": [
    "out1 = preprocessing.text.text_to_word_sequence(txt)\n",
    "out1[:6]"
   ]
  },
  {
   "cell_type": "code",
   "execution_count": 13,
   "metadata": {},
   "outputs": [
    {
     "data": {
      "text/plain": [
       "['In', 'this', 'paper', 'we', 'present', 'a']"
      ]
     },
     "execution_count": 13,
     "metadata": {},
     "output_type": "execute_result"
    }
   ],
   "source": [
    "out2 = preprocessing.text.text_to_word_sequence(txt, lower=False)\n",
    "out2[:6]"
   ]
  },
  {
   "cell_type": "code",
   "execution_count": 14,
   "metadata": {},
   "outputs": [
    {
     "data": {
      "text/plain": [
       "['In', 't', 'is', 'p', 'per,', 'we']"
      ]
     },
     "execution_count": 14,
     "metadata": {},
     "output_type": "execute_result"
    }
   ],
   "source": [
    "out3 = preprocessing.text.text_to_word_sequence(txt, lower=False, filters='Tha')\n",
    "out3[:6]"
   ]
  },
  {
   "cell_type": "markdown",
   "metadata": {},
   "source": [
    "### 中文处理——[`jieba`](https://github.com/fxsjy/jieba)\n",
    "\n",
    "`jieba` 是一个 python 实现的分词库，对中文有着很强大的分词能力。\n",
    "\n",
    "#### jieba 库的优点\n",
    "1. 支持三种分词模式：\n",
    "    - a. 精确模式，试图将句子最精确地切开，适合文本分析；\n",
    "    - b. 全模式，把句子中所有的可以成词的词语都扫描出来, 速度非常快，但是不能解决歧义；\n",
    "    - c. 搜索引擎模式，在精确模式的基础上，对长词再次切分，提高召回率，适合用于搜索引擎分词。\n",
    "2. 支持自定义词典\n",
    "\n",
    "#### 分词"
   ]
  },
  {
   "cell_type": "code",
   "execution_count": 16,
   "metadata": {},
   "outputs": [],
   "source": [
    "import jieba"
   ]
  },
  {
   "cell_type": "code",
   "execution_count": 17,
   "metadata": {},
   "outputs": [
    {
     "name": "stderr",
     "output_type": "stream",
     "text": [
      "Building prefix dict from the default dictionary ...\n",
      "Dumping model to file cache C:\\Users\\q7356\\AppData\\Local\\Temp\\jieba.cache\n",
      "Loading model cost 1.575 seconds.\n",
      "Prefix dict has been built succesfully.\n"
     ]
    },
    {
     "name": "stdout",
     "output_type": "stream",
     "text": [
      "他/来到/了/网易/杭研/大厦\n"
     ]
    }
   ],
   "source": [
    "words=jieba.cut(\"他来到了网易杭研大厦\")\n",
    "print(\"/\".join(words))"
   ]
  },
  {
   "cell_type": "markdown",
   "metadata": {},
   "source": [
    "#### 加入自定义字典\n",
    "```py\n",
    "jieba.load_userdict(\"dict.txt\")\n",
    "words=jieba.cut(\"他来到了网易杭研大厦\")\n",
    "print \"/\".join(words)\n",
    "print type(words)\n",
    "```\n",
    "自定义的词典：`dict.txt`\n",
    "```md\n",
    "杭研大厦 100 n\n",
    "```"
   ]
  },
  {
   "cell_type": "markdown",
   "metadata": {},
   "source": [
    "#### 允许程序在运行的时候，动态的修改词典"
   ]
  },
  {
   "cell_type": "code",
   "execution_count": 19,
   "metadata": {},
   "outputs": [
    {
     "name": "stdout",
     "output_type": "stream",
     "text": [
      "我们/中/出/了/一个/叛徒\n"
     ]
    }
   ],
   "source": [
    "words =jieba.cut(\"我们中出了一个叛徒\",HMM=False)\n",
    "#jieba.suggest_freq(('中出'),True)\n",
    "print('/'.join(words))"
   ]
  },
  {
   "cell_type": "markdown",
   "metadata": {},
   "source": [
    "## [序列预处理](http://keras-cn.readthedocs.io/en/latest/preprocessing/sequence/)\n",
    "\n",
    "- 填充序列 `pad_sequences`\n",
    "- 跳字 `skipgrams`\n",
    "\n",
    "## [图片预处理](http://keras-cn.readthedocs.io/en/latest/preprocessing/image/)\n",
    "\n",
    "- 图片生成器 `ImageDataGenerator`"
   ]
  },
  {
   "cell_type": "code",
   "execution_count": null,
   "metadata": {},
   "outputs": [],
   "source": []
  }
 ],
 "metadata": {
  "kernelspec": {
   "display_name": "Python 3",
   "language": "python",
   "name": "python3"
  },
  "language_info": {
   "codemirror_mode": {
    "name": "ipython",
    "version": 3
   },
   "file_extension": ".py",
   "mimetype": "text/x-python",
   "name": "python",
   "nbconvert_exporter": "python",
   "pygments_lexer": "ipython3",
   "version": "3.6.4"
  }
 },
 "nbformat": 4,
 "nbformat_minor": 2
}
