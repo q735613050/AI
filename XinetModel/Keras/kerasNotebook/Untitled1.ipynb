{
 "cells": [
  {
   "cell_type": "code",
   "execution_count": 1,
   "metadata": {
    "scrolled": false
   },
   "outputs": [
    {
     "name": "stderr",
     "output_type": "stream",
     "text": [
      "C:\\Program Files (x86)\\Microsoft Visual Studio\\Shared\\Anaconda3_64\\lib\\site-packages\\sklearn\\externals\\joblib\\func_inspect.py:53: DeprecationWarning: invalid escape sequence \\<\n",
      "  '\\<doctest (.*\\.rst)\\[(.*)\\]\\>', source_file).groups()\n",
      "C:\\Program Files (x86)\\Microsoft Visual Studio\\Shared\\Anaconda3_64\\lib\\site-packages\\sklearn\\externals\\joblib\\_memory_helpers.py:10: DeprecationWarning: invalid escape sequence \\s\n",
      "  cookie_re = re.compile(\"coding[:=]\\s*([-\\w.]+)\")\n",
      "C:\\Program Files (x86)\\Microsoft Visual Studio\\Shared\\Anaconda3_64\\lib\\site-packages\\sklearn\\metrics\\classification.py:349: DeprecationWarning: invalid escape sequence \\k\n",
      "  \"\"\"\n",
      "C:\\Program Files (x86)\\Microsoft Visual Studio\\Shared\\Anaconda3_64\\lib\\site-packages\\sklearn\\metrics\\cluster\\supervised.py:578: DeprecationWarning: invalid escape sequence \\s\n",
      "  \"\"\"\n"
     ]
    }
   ],
   "source": [
    "import zipfile\n",
    "import os\n",
    "import sys\n",
    "\n",
    "import cv2\n",
    "import numpy as np\n",
    "import mxnet as mx\n",
    "from mxnet import nd\n",
    "from mxnet.gluon import nn\n",
    "from mxnet.gluon.model_zoo import vision as models\n",
    "\n",
    "sys.path.append('E:/xinlib')\n",
    "from xcv import TrainerImage, NameIter\n",
    "#from base.file import split_names\n",
    "#from base.filename import FileName, nameBunch"
   ]
  },
  {
   "cell_type": "code",
   "execution_count": 2,
   "metadata": {
    "scrolled": true
   },
   "outputs": [
    {
     "name": "stdout",
     "output_type": "stream",
     "text": [
      "各个类下的样本大小：\n"
     ]
    },
    {
     "data": {
      "image/png": "[encoded data removed]",
      "text/plain": [
       "<Figure size 432x288 with 1 Axes>"
      ]
     },
     "metadata": {},
     "output_type": "display_data"
    },
    {
     "name": "stdout",
     "output_type": "stream",
     "text": [
      "类别数： 100\n"
     ]
    }
   ],
   "source": [
    "root  = 'E:/Data/Badidu/'\n",
    "root1 = root + os.listdir(root)[0]\n",
    "T = TrainerImage(root1, prob = .2, resize = 224)\n",
    "n_class = T.n_class\n",
    "batch_size = 9\n",
    "ctx = mx.gpu(0)\n",
    "print('类别数：', n_class)"
   ]
  },
  {
   "cell_type": "code",
   "execution_count": 3,
   "metadata": {},
   "outputs": [],
   "source": [
    "train_set, val_set = T.ZF.split_set(T.trainset, prob=.2)"
   ]
  },
  {
   "cell_type": "code",
   "execution_count": 4,
   "metadata": {},
   "outputs": [],
   "source": [
    "class BRR(nn.HybridBlock):\n",
    "    def __init__(self, features, **kwargs):\n",
    "        super().__init__(**kwargs)\n",
    "        self.features = features\n",
    "        with self.features.name_scope():\n",
    "            self.output = nn.HybridSequential()\n",
    "            self.output.add(\n",
    "                nn.Dense(1000),\n",
    "                nn.Activation('relu'),\n",
    "                #nn.Dropout(0.5),\n",
    "                nn.Dense(500),\n",
    "                nn.Activation('relu'),\n",
    "                nn.Dense(n_class)\n",
    "            )\n",
    "            \n",
    "    def hybrid_forward(self, F, x):\n",
    "        x = self.features(x)\n",
    "        x = self.output(x)\n",
    "        return x\n",
    "    \n",
    "net = models.densenet201(pretrained=True, ctx=ctx)\n",
    "finetune_net = BRR(net.features)\n",
    "finetune_net.output.initialize(mx.init.MSRAPrelu(), ctx =ctx)\n",
    "finetune_net.hybridize()"
   ]
  },
  {
   "cell_type": "code",
   "execution_count": null,
   "metadata": {
    "scrolled": true
   },
   "outputs": [
    {
     "name": "stderr",
     "output_type": "stream",
     "text": [
      "INFO:mxboard.event_file_writer:successfully opened events file: D:/logs//cross_entropy/brr0\\events.out.tfevents.1528631268.Xinet\n",
      "INFO:mxboard.event_file_writer:wrote 1 event to disk\n",
      "INFO:mxboard.event_file_writer:wrote 1 event to disk\n",
      "C:\\Program Files (x86)\\Microsoft Visual Studio\\Shared\\Anaconda3_64\\lib\\site-packages\\PIL\\GifImagePlugin.py:783: DeprecationWarning: invalid escape sequence \\*\n",
      "  \"\"\"\n",
      "INFO:mxboard.event_file_writer:successfully opened events file: D:/logs/events.out.tfevents.1528631269.Xinet\n",
      "INFO:mxboard.event_file_writer:wrote 1 event to disk\n",
      "INFO:mxboard.event_file_writer:wrote 1 event to disk\n",
      "INFO:mxboard.event_file_writer:wrote 3 events to disk\n",
      "INFO:mxboard.event_file_writer:wrote 3 events to disk\n",
      "INFO:mxboard.event_file_writer:wrote 3 events to disk\n",
      "INFO:mxboard.event_file_writer:wrote 3 events to disk\n",
      "INFO:mxboard.event_file_writer:wrote 3 events to disk\n",
      "INFO:mxboard.event_file_writer:wrote 3 events to disk\n",
      "INFO:mxboard.event_file_writer:wrote 3 events to disk\n",
      "INFO:mxboard.event_file_writer:wrote 3 events to disk\n",
      "INFO:mxboard.event_file_writer:wrote 3 events to disk\n",
      "INFO:mxboard.event_file_writer:wrote 3 events to disk\n",
      "INFO:mxboard.event_file_writer:wrote 3 events to disk\n",
      "INFO:mxboard.event_file_writer:wrote 3 events to disk\n",
      "INFO:mxboard.event_file_writer:wrote 3 events to disk\n",
      "INFO:mxboard.event_file_writer:wrote 3 events to disk\n",
      "INFO:mxboard.event_file_writer:wrote 3 events to disk\n",
      "INFO:mxboard.event_file_writer:wrote 3 events to disk\n",
      "INFO:mxboard.event_file_writer:wrote 3 events to disk\n",
      "INFO:mxboard.event_file_writer:wrote 3 events to disk\n",
      "INFO:mxboard.event_file_writer:wrote 3 events to disk\n",
      "INFO:mxboard.event_file_writer:wrote 3 events to disk\n",
      "INFO:mxboard.event_file_writer:wrote 3 events to disk\n",
      "INFO:mxboard.event_file_writer:wrote 3 events to disk\n",
      "INFO:mxboard.event_file_writer:wrote 3 events to disk\n",
      "INFO:mxboard.event_file_writer:wrote 3 events to disk\n",
      "INFO:mxboard.event_file_writer:wrote 3 events to disk\n",
      "INFO:mxboard.event_file_writer:wrote 3 events to disk\n",
      "INFO:mxboard.event_file_writer:wrote 3 events to disk\n",
      "INFO:mxboard.event_file_writer:wrote 3 events to disk\n",
      "INFO:mxboard.event_file_writer:wrote 3 events to disk\n",
      "INFO:mxboard.event_file_writer:wrote 3 events to disk\n",
      "INFO:mxboard.event_file_writer:wrote 3 events to disk\n",
      "INFO:mxboard.event_file_writer:wrote 3 events to disk\n",
      "INFO:mxboard.event_file_writer:wrote 3 events to disk\n",
      "INFO:mxboard.event_file_writer:wrote 3 events to disk\n",
      "INFO:mxboard.event_file_writer:wrote 3 events to disk\n",
      "INFO:mxboard.event_file_writer:wrote 3 events to disk\n",
      "INFO:mxboard.event_file_writer:wrote 3 events to disk\n",
      "INFO:mxboard.event_file_writer:wrote 3 events to disk\n",
      "INFO:mxboard.event_file_writer:wrote 3 events to disk\n",
      "INFO:mxboard.event_file_writer:wrote 3 events to disk\n",
      "INFO:mxboard.event_file_writer:wrote 3 events to disk\n",
      "INFO:mxboard.event_file_writer:wrote 3 events to disk\n",
      "INFO:mxboard.event_file_writer:wrote 3 events to disk\n",
      "INFO:mxboard.event_file_writer:wrote 3 events to disk\n",
      "INFO:mxboard.event_file_writer:wrote 3 events to disk\n",
      "INFO:mxboard.event_file_writer:wrote 3 events to disk\n",
      "INFO:mxboard.event_file_writer:wrote 3 events to disk\n",
      "INFO:mxboard.event_file_writer:wrote 3 events to disk\n",
      "INFO:mxboard.event_file_writer:wrote 3 events to disk\n",
      "INFO:mxboard.event_file_writer:wrote 3 events to disk\n",
      "INFO:mxboard.event_file_writer:wrote 3 events to disk\n",
      "INFO:mxboard.event_file_writer:wrote 3 events to disk\n",
      "INFO:mxboard.event_file_writer:wrote 3 events to disk\n",
      "INFO:mxboard.event_file_writer:wrote 3 events to disk\n",
      "INFO:mxboard.event_file_writer:wrote 3 events to disk\n",
      "INFO:mxboard.event_file_writer:wrote 3 events to disk\n",
      "INFO:mxboard.event_file_writer:wrote 3 events to disk\n",
      "INFO:mxboard.event_file_writer:wrote 3 events to disk\n",
      "INFO:mxboard.event_file_writer:wrote 3 events to disk\n",
      "INFO:mxboard.event_file_writer:wrote 3 events to disk\n",
      "INFO:mxboard.event_file_writer:wrote 3 events to disk\n",
      "INFO:mxboard.event_file_writer:wrote 3 events to disk\n",
      "INFO:mxboard.event_file_writer:wrote 3 events to disk\n",
      "INFO:mxboard.event_file_writer:wrote 3 events to disk\n",
      "INFO:mxboard.event_file_writer:wrote 3 events to disk\n",
      "INFO:mxboard.event_file_writer:wrote 3 events to disk\n"
     ]
    },
    {
     "name": "stdout",
     "output_type": "stream",
     "text": [
      "[Epoch 0 Batch 200] Training: accuracy=0.012714\n"
     ]
    },
    {
     "name": "stderr",
     "output_type": "stream",
     "text": [
      "INFO:mxboard.event_file_writer:wrote 3 events to disk\n",
      "INFO:mxboard.event_file_writer:wrote 3 events to disk\n",
      "INFO:mxboard.event_file_writer:wrote 3 events to disk\n",
      "INFO:mxboard.event_file_writer:wrote 3 events to disk\n",
      "INFO:mxboard.event_file_writer:wrote 3 events to disk\n",
      "INFO:mxboard.event_file_writer:wrote 3 events to disk\n",
      "INFO:mxboard.event_file_writer:wrote 3 events to disk\n",
      "INFO:mxboard.event_file_writer:wrote 3 events to disk\n",
      "INFO:mxboard.event_file_writer:wrote 3 events to disk\n",
      "INFO:mxboard.event_file_writer:wrote 3 events to disk\n",
      "INFO:mxboard.event_file_writer:wrote 3 events to disk\n",
      "INFO:mxboard.event_file_writer:wrote 3 events to disk\n",
      "INFO:mxboard.event_file_writer:wrote 3 events to disk\n",
      "INFO:mxboard.event_file_writer:wrote 3 events to disk\n",
      "INFO:mxboard.event_file_writer:wrote 3 events to disk\n",
      "INFO:mxboard.event_file_writer:wrote 3 events to disk\n",
      "INFO:mxboard.event_file_writer:wrote 3 events to disk\n",
      "INFO:mxboard.event_file_writer:wrote 3 events to disk\n",
      "INFO:mxboard.event_file_writer:wrote 3 events to disk\n",
      "INFO:mxboard.event_file_writer:wrote 3 events to disk\n",
      "INFO:mxboard.event_file_writer:wrote 3 events to disk\n",
      "INFO:mxboard.event_file_writer:wrote 3 events to disk\n",
      "INFO:mxboard.event_file_writer:wrote 3 events to disk\n",
      "INFO:mxboard.event_file_writer:wrote 3 events to disk\n",
      "INFO:mxboard.event_file_writer:wrote 3 events to disk\n",
      "INFO:mxboard.event_file_writer:wrote 3 events to disk\n",
      "INFO:mxboard.event_file_writer:wrote 3 events to disk\n",
      "INFO:mxboard.event_file_writer:wrote 3 events to disk\n",
      "INFO:mxboard.event_file_writer:wrote 3 events to disk\n",
      "INFO:mxboard.event_file_writer:wrote 3 events to disk\n",
      "INFO:mxboard.event_file_writer:wrote 3 events to disk\n",
      "INFO:mxboard.event_file_writer:wrote 3 events to disk\n"
     ]
    }
   ],
   "source": [
    "T.train((1, 2), ctx, finetune_net, 1000, batch_size)"
   ]
  },
  {
   "cell_type": "code",
   "execution_count": null,
   "metadata": {},
   "outputs": [],
   "source": []
  }
 ],
 "metadata": {
  "kernelspec": {
   "display_name": "Python 3",
   "language": "python",
   "name": "python3"
  },
  "language_info": {
   "codemirror_mode": {
    "name": "ipython",
    "version": 3
   },
   "file_extension": ".py",
   "mimetype": "text/x-python",
   "name": "python",
   "nbconvert_exporter": "python",
   "pygments_lexer": "ipython3",
   "version": "3.6.4"
  }
 },
 "nbformat": 4,
 "nbformat_minor": 2
}
