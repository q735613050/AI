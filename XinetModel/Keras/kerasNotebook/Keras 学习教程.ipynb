{
 "cells": [
  {
   "cell_type": "markdown",
   "metadata": {},
   "source": [
    "# 1 序贯（Sequential）模型\n",
    "序贯模型是多个网络层的线性堆叠，也就是“一条路走到黑”。\n",
    "可以通过向 Sequential 模型传递一个 layer 的 `list` 来构造该模型："
   ]
  },
  {
   "cell_type": "code",
   "execution_count": 10,
   "metadata": {},
   "outputs": [],
   "source": [
    "from keras.models import Sequential\n",
    "from keras.layers import Dense, Activation\n",
    "\n",
    "model = Sequential([Dense(32, input_shape=(784,)),\n",
    "                    Activation('relu'),\n",
    "                    Dense(10),\n",
    "                    Activation('softmax'),\n",
    "                   ])"
   ]
  },
  {
   "cell_type": "markdown",
   "metadata": {},
   "source": [
    "也可以通过 `.add()` 方法一个个的将 layer 加入模型中："
   ]
  },
  {
   "cell_type": "code",
   "execution_count": 11,
   "metadata": {},
   "outputs": [],
   "source": [
    "model = Sequential()\n",
    "model.add(Dense(32, input_shape=(784,)))\n",
    "model.add(Activation('relu'))"
   ]
  },
  {
   "cell_type": "markdown",
   "metadata": {},
   "source": [
    "## 1.1 指定输入数据的 shape\n",
    "模型需要知道输入数据的shape，因此，`Sequential` 的第一层需要接受一个关于输入数据 shape 的参数，后面的各个层则可以自动的推导出中间数据的shape，因此不需要为每个层都指定这个参数。有几种方法来为第一层指定输入数据的 shape：\n",
    "- 传递一个`input_shape`的关键字参数给第一层，`input_shape`是一个 tuple 类型的数据，其中也可以填入 `None` ，如果填入 `None` 则表示此位置可能是任何正整数。数据的 `batch` 大小不应包含在其中。\n",
    "- 有些2D层，如 `Dense`，支持通过指定其输入维度 `input_dim` 来隐含的指定输入数据 shape,是一个 Int 类型的数据。一些 3D 的时域层支持通过参数`input_dim` 和`input_length` 来指定输入 shape。\n",
    "- 如果你需要为输入指定一个固定大小的 `batch_size`（常用于stateful RNN网络），可以传递 `batch_size` 参数到一个层中，例如你想指定输入张量的`batch` 大小是$32$，数据shape是$(6，8)$，则你需要传递 `batch_size=32` 和 `input_shape=(6,8)`。"
   ]
  },
  {
   "cell_type": "code",
   "execution_count": 12,
   "metadata": {},
   "outputs": [],
   "source": [
    "model = Sequential()\n",
    "model.add(Dense(32, input_dim=784))"
   ]
  },
  {
   "cell_type": "code",
   "execution_count": 13,
   "metadata": {},
   "outputs": [],
   "source": [
    "model = Sequential()\n",
    "model.add(Dense(32, input_shape=(784,)))"
   ]
  },
  {
   "cell_type": "markdown",
   "metadata": {},
   "source": [
    "## 1.2 编译\n",
    "在训练模型之前，我们需要通过 `compile` 来对学习过程进行配置。\n",
    "`compile`接收三个参数：\n",
    "- 优化器 `optimizer`：该参数可指定为已预定义的优化器名，如 `rmsprop、adagrad` ，或一个`Optimizer` 类的对象，详情见[优化器optimizers](http://keras-cn.readthedocs.io/en/latest/other/optimizers/)。\n",
    "- 损失函数 `loss`：该参数为模型试图最小化的目标函数，它可为预定义的损失函数名，如 `categorical_crossentropy、mse`，也可以为一个自定义损失函数。详情见[损失函数loss ](http://keras-cn.readthedocs.io/en/latest/other/objectives/)。\n",
    "- 指标列表 `metrics`：对分类问题，我们一般将该列表设置为 `metrics=['accuracy']`。指标可以是一个预定义指标的名字,也可以是一个用户定制的函数.指标函数应该返回单个张量,或一个完成 `metric_name - > metric_value`映射的字典."
   ]
  },
  {
   "cell_type": "code",
   "execution_count": 14,
   "metadata": {},
   "outputs": [],
   "source": [
    "# For a multi-class classification problem\n",
    "model.compile(optimizer='rmsprop',\n",
    "              loss='categorical_crossentropy',\n",
    "              metrics=['accuracy'])\n",
    "\n",
    "# For a binary classification problem\n",
    "model.compile(optimizer='rmsprop',\n",
    "              loss='binary_crossentropy',\n",
    "              metrics=['accuracy'])\n",
    "\n",
    "# For a mean squared error regression problem\n",
    "model.compile(optimizer='rmsprop',\n",
    "              loss='mse')\n",
    "\n",
    "# For custom metrics\n",
    "import keras.backend as K\n",
    "\n",
    "def mean_pred(y_true, y_pred):\n",
    "    return K.mean(y_pred)\n",
    "\n",
    "model.compile(optimizer='rmsprop',\n",
    "              loss='binary_crossentropy',\n",
    "              metrics=['accuracy', mean_pred])"
   ]
  },
  {
   "cell_type": "markdown",
   "metadata": {},
   "source": [
    "## 1.3 训练\n",
    "Keras以Numpy数组作为输入数据和标签的数据类型。训练模型一般使用fit函数，"
   ]
  },
  {
   "cell_type": "code",
   "execution_count": 15,
   "metadata": {},
   "outputs": [
    {
     "name": "stdout",
     "output_type": "stream",
     "text": [
      "Epoch 1/10\n",
      "1000/1000 [==============================] - 5s 5ms/step - loss: 0.7077 - acc: 0.5080\n",
      "Epoch 2/10\n",
      "1000/1000 [==============================] - 0s 396us/step - loss: 0.7023 - acc: 0.5350\n",
      "Epoch 3/10\n",
      "1000/1000 [==============================] - 0s 141us/step - loss: 0.6901 - acc: 0.5410\n",
      "Epoch 4/10\n",
      "1000/1000 [==============================] - 0s 138us/step - loss: 0.6867 - acc: 0.5570\n",
      "Epoch 5/10\n",
      "1000/1000 [==============================] - 0s 205us/step - loss: 0.6790 - acc: 0.5820\n",
      "Epoch 6/10\n",
      "1000/1000 [==============================] - 0s 228us/step - loss: 0.6739 - acc: 0.5880\n",
      "Epoch 7/10\n",
      "1000/1000 [==============================] - 0s 242us/step - loss: 0.6678 - acc: 0.5990\n",
      "Epoch 8/10\n",
      "1000/1000 [==============================] - 0s 186us/step - loss: 0.6668 - acc: 0.6040\n",
      "Epoch 9/10\n",
      "1000/1000 [==============================] - 0s 141us/step - loss: 0.6624 - acc: 0.6110\n",
      "Epoch 10/10\n",
      "1000/1000 [==============================] - 0s 183us/step - loss: 0.6572 - acc: 0.6070\n"
     ]
    },
    {
     "ename": "NameError",
     "evalue": "name 'keras' is not defined",
     "output_type": "error",
     "traceback": [
      "\u001b[1;31m---------------------------------------------------------------------------\u001b[0m",
      "\u001b[1;31mNameError\u001b[0m                                 Traceback (most recent call last)",
      "\u001b[1;32m<ipython-input-15-6b89043fcf65>\u001b[0m in \u001b[0;36m<module>\u001b[1;34m()\u001b[0m\n\u001b[0;32m     30\u001b[0m \u001b[1;33m\u001b[0m\u001b[0m\n\u001b[0;32m     31\u001b[0m \u001b[1;31m# Convert labels to categorical one-hot encoding\u001b[0m\u001b[1;33m\u001b[0m\u001b[1;33m\u001b[0m\u001b[0m\n\u001b[1;32m---> 32\u001b[1;33m \u001b[0mone_hot_labels\u001b[0m \u001b[1;33m=\u001b[0m \u001b[0mkeras\u001b[0m\u001b[1;33m.\u001b[0m\u001b[0mutils\u001b[0m\u001b[1;33m.\u001b[0m\u001b[0mto_categorical\u001b[0m\u001b[1;33m(\u001b[0m\u001b[0mlabels\u001b[0m\u001b[1;33m,\u001b[0m \u001b[0mnum_classes\u001b[0m\u001b[1;33m=\u001b[0m\u001b[1;36m10\u001b[0m\u001b[1;33m)\u001b[0m\u001b[1;33m\u001b[0m\u001b[0m\n\u001b[0m\u001b[0;32m     33\u001b[0m \u001b[1;33m\u001b[0m\u001b[0m\n\u001b[0;32m     34\u001b[0m \u001b[1;31m# Train the model, iterating on the data in batches of 32 samples\u001b[0m\u001b[1;33m\u001b[0m\u001b[1;33m\u001b[0m\u001b[0m\n",
      "\u001b[1;31mNameError\u001b[0m: name 'keras' is not defined"
     ]
    }
   ],
   "source": [
    "# For a single-input model with 2 classes (binary classification):\n",
    "\n",
    "model = Sequential()\n",
    "model.add(Dense(32, activation='relu', input_dim=100))\n",
    "model.add(Dense(1, activation='sigmoid'))\n",
    "model.compile(optimizer='rmsprop',\n",
    "              loss='binary_crossentropy',\n",
    "              metrics=['accuracy'])\n",
    "\n",
    "# Generate dummy data\n",
    "import numpy as np\n",
    "data = np.random.random((1000, 100))\n",
    "labels = np.random.randint(2, size=(1000, 1))\n",
    "\n",
    "# Train the model, iterating on the data in batches of 32 samples\n",
    "model.fit(data, labels, epochs=10, batch_size=32)\n",
    "# For a single-input model with 10 classes (categorical classification):\n",
    "\n",
    "model = Sequential()\n",
    "model.add(Dense(32, activation='relu', input_dim=100))\n",
    "model.add(Dense(10, activation='softmax'))\n",
    "model.compile(optimizer='rmsprop',\n",
    "              loss='categorical_crossentropy',\n",
    "              metrics=['accuracy'])\n",
    "\n",
    "# Generate dummy data\n",
    "import numpy as np\n",
    "data = np.random.random((1000, 100))\n",
    "labels = np.random.randint(10, size=(1000, 1))\n",
    "\n",
    "# Convert labels to categorical one-hot encoding\n",
    "one_hot_labels = keras.utils.to_categorical(labels, num_classes=10)\n",
    "\n",
    "# Train the model, iterating on the data in batches of 32 samples\n",
    "model.fit(data, one_hot_labels, epochs=10, batch_size=32)"
   ]
  },
  {
   "cell_type": "markdown",
   "metadata": {},
   "source": [
    "### 基于多层感知器的softmax多分类："
   ]
  },
  {
   "cell_type": "code",
   "execution_count": 19,
   "metadata": {},
   "outputs": [
    {
     "name": "stdout",
     "output_type": "stream",
     "text": [
      "Epoch 1/20\n",
      "1000/1000 [==============================] - 1s 919us/step - loss: 2.4567 - acc: 0.1020\n",
      "Epoch 2/20\n",
      "1000/1000 [==============================] - 0s 55us/step - loss: 2.3691 - acc: 0.1130\n",
      "Epoch 3/20\n",
      "1000/1000 [==============================] - 0s 58us/step - loss: 2.3450 - acc: 0.1080\n",
      "Epoch 4/20\n",
      "1000/1000 [==============================] - 0s 65us/step - loss: 2.3284 - acc: 0.1060\n",
      "Epoch 5/20\n",
      "1000/1000 [==============================] - 0s 62us/step - loss: 2.3391 - acc: 0.1020\n",
      "Epoch 6/20\n",
      "1000/1000 [==============================] - 0s 63us/step - loss: 2.3201 - acc: 0.1130\n",
      "Epoch 7/20\n",
      "1000/1000 [==============================] - 0s 63us/step - loss: 2.3103 - acc: 0.1060\n",
      "Epoch 8/20\n",
      "1000/1000 [==============================] - 0s 56us/step - loss: 2.3126 - acc: 0.0970\n",
      "Epoch 9/20\n",
      "1000/1000 [==============================] - 0s 58us/step - loss: 2.3152 - acc: 0.1010\n",
      "Epoch 10/20\n",
      "1000/1000 [==============================] - 0s 56us/step - loss: 2.3025 - acc: 0.1290\n",
      "Epoch 11/20\n",
      "1000/1000 [==============================] - 0s 59us/step - loss: 2.3022 - acc: 0.1140\n",
      "Epoch 12/20\n",
      "1000/1000 [==============================] - 0s 60us/step - loss: 2.2974 - acc: 0.1280\n",
      "Epoch 13/20\n",
      "1000/1000 [==============================] - 0s 79us/step - loss: 2.3029 - acc: 0.1210\n",
      "Epoch 14/20\n",
      "1000/1000 [==============================] - 0s 78us/step - loss: 2.3030 - acc: 0.1140\n",
      "Epoch 15/20\n",
      "1000/1000 [==============================] - 0s 116us/step - loss: 2.3000 - acc: 0.1270\n",
      "Epoch 16/20\n",
      "1000/1000 [==============================] - 0s 124us/step - loss: 2.3019 - acc: 0.1000\n",
      "Epoch 17/20\n",
      "1000/1000 [==============================] - 0s 92us/step - loss: 2.2985 - acc: 0.1180\n",
      "Epoch 18/20\n",
      "1000/1000 [==============================] - 0s 89us/step - loss: 2.3090 - acc: 0.0980\n",
      "Epoch 19/20\n",
      "1000/1000 [==============================] - 0s 99us/step - loss: 2.2952 - acc: 0.1260\n",
      "Epoch 20/20\n",
      "1000/1000 [==============================] - 0s 97us/step - loss: 2.2998 - acc: 0.1120\n",
      "100/100 [==============================] - 0s 943us/step\n"
     ]
    }
   ],
   "source": [
    "from keras.models import Sequential\n",
    "from keras.layers import Dense, Dropout, Activation\n",
    "from keras.optimizers import SGD\n",
    "\n",
    "# Generate dummy data\n",
    "import numpy as np\n",
    "x_train = np.random.random((1000, 20))\n",
    "y_train = keras.utils.to_categorical(np.random.randint(10, size=(1000, 1)), num_classes=10)\n",
    "x_test = np.random.random((100, 20))\n",
    "y_test = keras.utils.to_categorical(np.random.randint(10, size=(100, 1)), num_classes=10)\n",
    "\n",
    "model = Sequential()\n",
    "# Dense(64) is a fully-connected layer with 64 hidden units.\n",
    "# in the first layer, you must specify the expected input data shape:\n",
    "# here, 20-dimensional vectors.\n",
    "model.add(Dense(64, activation='relu', input_dim=20))\n",
    "model.add(Dropout(0.5))\n",
    "model.add(Dense(64, activation='relu'))\n",
    "model.add(Dropout(0.5))\n",
    "model.add(Dense(10, activation='softmax'))\n",
    "\n",
    "sgd = SGD(lr=0.01, decay=1e-6, momentum=0.9, nesterov=True)\n",
    "model.compile(loss='categorical_crossentropy',\n",
    "              optimizer=sgd,\n",
    "              metrics=['accuracy'])\n",
    "\n",
    "model.fit(x_train, y_train,\n",
    "          epochs=20,\n",
    "          batch_size=128)\n",
    "score = model.evaluate(x_test, y_test, batch_size=128)"
   ]
  },
  {
   "cell_type": "markdown",
   "metadata": {},
   "source": [
    "### MLP的二分类："
   ]
  },
  {
   "cell_type": "code",
   "execution_count": 20,
   "metadata": {},
   "outputs": [
    {
     "name": "stdout",
     "output_type": "stream",
     "text": [
      "Epoch 1/20\n",
      "1000/1000 [==============================] - 1s 862us/step - loss: 0.7224 - acc: 0.4840\n",
      "Epoch 2/20\n",
      "1000/1000 [==============================] - 0s 51us/step - loss: 0.7030 - acc: 0.5140\n",
      "Epoch 3/20\n",
      "1000/1000 [==============================] - 0s 55us/step - loss: 0.7098 - acc: 0.4710\n",
      "Epoch 4/20\n",
      "1000/1000 [==============================] - 0s 53us/step - loss: 0.6991 - acc: 0.5080\n",
      "Epoch 5/20\n",
      "1000/1000 [==============================] - 0s 51us/step - loss: 0.7090 - acc: 0.4850\n",
      "Epoch 6/20\n",
      "1000/1000 [==============================] - 0s 50us/step - loss: 0.6946 - acc: 0.5140\n",
      "Epoch 7/20\n",
      "1000/1000 [==============================] - 0s 53us/step - loss: 0.6970 - acc: 0.5320\n",
      "Epoch 8/20\n",
      "1000/1000 [==============================] - 0s 51us/step - loss: 0.6950 - acc: 0.5070\n",
      "Epoch 9/20\n",
      "1000/1000 [==============================] - 0s 53us/step - loss: 0.6975 - acc: 0.5090\n",
      "Epoch 10/20\n",
      "1000/1000 [==============================] - 0s 55us/step - loss: 0.6955 - acc: 0.5060\n",
      "Epoch 11/20\n",
      "1000/1000 [==============================] - 0s 52us/step - loss: 0.6961 - acc: 0.5210\n",
      "Epoch 12/20\n",
      "1000/1000 [==============================] - 0s 48us/step - loss: 0.6943 - acc: 0.5320\n",
      "Epoch 13/20\n",
      "1000/1000 [==============================] - 0s 52us/step - loss: 0.6932 - acc: 0.4960\n",
      "Epoch 14/20\n",
      "1000/1000 [==============================] - 0s 57us/step - loss: 0.6947 - acc: 0.5300\n",
      "Epoch 15/20\n",
      "1000/1000 [==============================] - 0s 51us/step - loss: 0.6907 - acc: 0.5320\n",
      "Epoch 16/20\n",
      "1000/1000 [==============================] - 0s 53us/step - loss: 0.6863 - acc: 0.5340\n",
      "Epoch 17/20\n",
      "1000/1000 [==============================] - 0s 52us/step - loss: 0.6916 - acc: 0.5020\n",
      "Epoch 18/20\n",
      "1000/1000 [==============================] - 0s 52us/step - loss: 0.6899 - acc: 0.5340\n",
      "Epoch 19/20\n",
      "1000/1000 [==============================] - 0s 51us/step - loss: 0.6933 - acc: 0.5140\n",
      "Epoch 20/20\n",
      "1000/1000 [==============================] - 0s 49us/step - loss: 0.6884 - acc: 0.5290\n",
      "100/100 [==============================] - 0s 962us/step\n"
     ]
    }
   ],
   "source": [
    "import numpy as np\n",
    "from keras.models import Sequential\n",
    "from keras.layers import Dense, Dropout\n",
    "\n",
    "# Generate dummy data\n",
    "x_train = np.random.random((1000, 20))\n",
    "y_train = np.random.randint(2, size=(1000, 1))\n",
    "x_test = np.random.random((100, 20))\n",
    "y_test = np.random.randint(2, size=(100, 1))\n",
    "\n",
    "model = Sequential()\n",
    "model.add(Dense(64, input_dim=20, activation='relu'))\n",
    "model.add(Dropout(0.5))\n",
    "model.add(Dense(64, activation='relu'))\n",
    "model.add(Dropout(0.5))\n",
    "model.add(Dense(1, activation='sigmoid'))\n",
    "\n",
    "model.compile(loss='binary_crossentropy',\n",
    "              optimizer='rmsprop',\n",
    "              metrics=['accuracy'])\n",
    "model.fit(x_train, y_train,\n",
    "          epochs=20,\n",
    "          batch_size=128)\n",
    "score = model.evaluate(x_test, y_test, batch_size=128)"
   ]
  },
  {
   "cell_type": "markdown",
   "metadata": {},
   "source": [
    "### 类似VGG的卷积神经网络："
   ]
  },
  {
   "cell_type": "code",
   "execution_count": 21,
   "metadata": {},
   "outputs": [
    {
     "name": "stdout",
     "output_type": "stream",
     "text": [
      "WARNING:tensorflow:From C:\\ProgramData\\Anaconda3\\lib\\site-packages\\keras\\backend\\tensorflow_backend.py:1264: calling reduce_prod (from tensorflow.python.ops.math_ops) with keep_dims is deprecated and will be removed in a future version.\n",
      "Instructions for updating:\n",
      "keep_dims is deprecated, use keepdims instead\n",
      "Epoch 1/10\n",
      "100/100 [==============================] - 4s 43ms/step - loss: 2.3713\n",
      "Epoch 2/10\n",
      "100/100 [==============================] - 1s 6ms/step - loss: 2.3049\n",
      "Epoch 3/10\n",
      "100/100 [==============================] - 1s 6ms/step - loss: 2.3083\n",
      "Epoch 4/10\n",
      "100/100 [==============================] - 1s 6ms/step - loss: 2.2827\n",
      "Epoch 5/10\n",
      "100/100 [==============================] - 1s 6ms/step - loss: 2.2745\n",
      "Epoch 6/10\n",
      "100/100 [==============================] - 1s 6ms/step - loss: 2.2948\n",
      "Epoch 7/10\n",
      "100/100 [==============================] - 1s 6ms/step - loss: 2.3193\n",
      "Epoch 8/10\n",
      "100/100 [==============================] - 1s 6ms/step - loss: 2.2937\n",
      "Epoch 9/10\n",
      "100/100 [==============================] - 1s 6ms/step - loss: 2.2816\n",
      "Epoch 10/10\n",
      "100/100 [==============================] - 1s 6ms/step - loss: 2.2752\n",
      "20/20 [==============================] - 0s 14ms/step\n"
     ]
    }
   ],
   "source": [
    "import numpy as np\n",
    "import keras\n",
    "from keras.models import Sequential\n",
    "from keras.layers import Dense, Dropout, Flatten\n",
    "from keras.layers import Conv2D, MaxPooling2D\n",
    "from keras.optimizers import SGD\n",
    "\n",
    "# Generate dummy data\n",
    "x_train = np.random.random((100, 100, 100, 3))\n",
    "y_train = keras.utils.to_categorical(np.random.randint(10, size=(100, 1)), num_classes=10)\n",
    "x_test = np.random.random((20, 100, 100, 3))\n",
    "y_test = keras.utils.to_categorical(np.random.randint(10, size=(20, 1)), num_classes=10)\n",
    "\n",
    "model = Sequential()\n",
    "# input: 100x100 images with 3 channels -> (100, 100, 3) tensors.\n",
    "# this applies 32 convolution filters of size 3x3 each.\n",
    "model.add(Conv2D(32, (3, 3), activation='relu', input_shape=(100, 100, 3)))\n",
    "model.add(Conv2D(32, (3, 3), activation='relu'))\n",
    "model.add(MaxPooling2D(pool_size=(2, 2)))\n",
    "model.add(Dropout(0.25))\n",
    "\n",
    "model.add(Conv2D(64, (3, 3), activation='relu'))\n",
    "model.add(Conv2D(64, (3, 3), activation='relu'))\n",
    "model.add(MaxPooling2D(pool_size=(2, 2)))\n",
    "model.add(Dropout(0.25))\n",
    "\n",
    "model.add(Flatten())\n",
    "model.add(Dense(256, activation='relu'))\n",
    "model.add(Dropout(0.5))\n",
    "model.add(Dense(10, activation='softmax'))\n",
    "\n",
    "sgd = SGD(lr=0.01, decay=1e-6, momentum=0.9, nesterov=True)\n",
    "model.compile(loss='categorical_crossentropy', optimizer=sgd)\n",
    "\n",
    "model.fit(x_train, y_train, batch_size=32, epochs=10)\n",
    "score = model.evaluate(x_test, y_test, batch_size=32)"
   ]
  },
  {
   "cell_type": "markdown",
   "metadata": {},
   "source": [
    "### 使用LSTM的序列分类"
   ]
  },
  {
   "cell_type": "code",
   "execution_count": 24,
   "metadata": {},
   "outputs": [
    {
     "ename": "NameError",
     "evalue": "name 'max_features' is not defined",
     "output_type": "error",
     "traceback": [
      "\u001b[1;31m---------------------------------------------------------------------------\u001b[0m",
      "\u001b[1;31mNameError\u001b[0m                                 Traceback (most recent call last)",
      "\u001b[1;32m<ipython-input-24-b96b42b04ade>\u001b[0m in \u001b[0;36m<module>\u001b[1;34m()\u001b[0m\n\u001b[0;32m      5\u001b[0m \u001b[1;33m\u001b[0m\u001b[0m\n\u001b[0;32m      6\u001b[0m \u001b[0mmodel\u001b[0m \u001b[1;33m=\u001b[0m \u001b[0mSequential\u001b[0m\u001b[1;33m(\u001b[0m\u001b[1;33m)\u001b[0m\u001b[1;33m\u001b[0m\u001b[0m\n\u001b[1;32m----> 7\u001b[1;33m \u001b[0mmodel\u001b[0m\u001b[1;33m.\u001b[0m\u001b[0madd\u001b[0m\u001b[1;33m(\u001b[0m\u001b[0mEmbedding\u001b[0m\u001b[1;33m(\u001b[0m\u001b[0mmax_features\u001b[0m\u001b[1;33m,\u001b[0m \u001b[0moutput_dim\u001b[0m\u001b[1;33m=\u001b[0m\u001b[1;36m256\u001b[0m\u001b[1;33m)\u001b[0m\u001b[1;33m)\u001b[0m\u001b[1;33m\u001b[0m\u001b[0m\n\u001b[0m\u001b[0;32m      8\u001b[0m \u001b[0mmodel\u001b[0m\u001b[1;33m.\u001b[0m\u001b[0madd\u001b[0m\u001b[1;33m(\u001b[0m\u001b[0mLSTM\u001b[0m\u001b[1;33m(\u001b[0m\u001b[1;36m128\u001b[0m\u001b[1;33m)\u001b[0m\u001b[1;33m)\u001b[0m\u001b[1;33m\u001b[0m\u001b[0m\n\u001b[0;32m      9\u001b[0m \u001b[0mmodel\u001b[0m\u001b[1;33m.\u001b[0m\u001b[0madd\u001b[0m\u001b[1;33m(\u001b[0m\u001b[0mDropout\u001b[0m\u001b[1;33m(\u001b[0m\u001b[1;36m0.5\u001b[0m\u001b[1;33m)\u001b[0m\u001b[1;33m)\u001b[0m\u001b[1;33m\u001b[0m\u001b[0m\n",
      "\u001b[1;31mNameError\u001b[0m: name 'max_features' is not defined"
     ]
    }
   ],
   "source": [
    "from keras.models import Sequential\n",
    "from keras.layers import Dense, Dropout\n",
    "from keras.layers import Embedding\n",
    "from keras.layers import LSTM\n",
    "\n",
    "model = Sequential()\n",
    "model.add(Embedding(max_features, output_dim=256))\n",
    "model.add(LSTM(128))\n",
    "model.add(Dropout(0.5))\n",
    "model.add(Dense(1, activation='sigmoid'))\n",
    "\n",
    "model.compile(loss='binary_crossentropy',\n",
    "              optimizer='rmsprop',\n",
    "              metrics=['accuracy'])\n",
    "\n",
    "model.fit(x_train, y_train, batch_size=16, epochs=10)\n",
    "score = model.evaluate(x_test, y_test, batch_size=16)"
   ]
  },
  {
   "cell_type": "markdown",
   "metadata": {},
   "source": [
    "### 使用1D卷积的序列分类"
   ]
  },
  {
   "cell_type": "code",
   "execution_count": 23,
   "metadata": {},
   "outputs": [
    {
     "ename": "NameError",
     "evalue": "name 'seq_length' is not defined",
     "output_type": "error",
     "traceback": [
      "\u001b[1;31m---------------------------------------------------------------------------\u001b[0m",
      "\u001b[1;31mNameError\u001b[0m                                 Traceback (most recent call last)",
      "\u001b[1;32m<ipython-input-23-f5c36da31620>\u001b[0m in \u001b[0;36m<module>\u001b[1;34m()\u001b[0m\n\u001b[0;32m      5\u001b[0m \u001b[1;33m\u001b[0m\u001b[0m\n\u001b[0;32m      6\u001b[0m \u001b[0mmodel\u001b[0m \u001b[1;33m=\u001b[0m \u001b[0mSequential\u001b[0m\u001b[1;33m(\u001b[0m\u001b[1;33m)\u001b[0m\u001b[1;33m\u001b[0m\u001b[0m\n\u001b[1;32m----> 7\u001b[1;33m \u001b[0mmodel\u001b[0m\u001b[1;33m.\u001b[0m\u001b[0madd\u001b[0m\u001b[1;33m(\u001b[0m\u001b[0mConv1D\u001b[0m\u001b[1;33m(\u001b[0m\u001b[1;36m64\u001b[0m\u001b[1;33m,\u001b[0m \u001b[1;36m3\u001b[0m\u001b[1;33m,\u001b[0m \u001b[0mactivation\u001b[0m\u001b[1;33m=\u001b[0m\u001b[1;34m'relu'\u001b[0m\u001b[1;33m,\u001b[0m \u001b[0minput_shape\u001b[0m\u001b[1;33m=\u001b[0m\u001b[1;33m(\u001b[0m\u001b[0mseq_length\u001b[0m\u001b[1;33m,\u001b[0m \u001b[1;36m100\u001b[0m\u001b[1;33m)\u001b[0m\u001b[1;33m)\u001b[0m\u001b[1;33m)\u001b[0m\u001b[1;33m\u001b[0m\u001b[0m\n\u001b[0m\u001b[0;32m      8\u001b[0m \u001b[0mmodel\u001b[0m\u001b[1;33m.\u001b[0m\u001b[0madd\u001b[0m\u001b[1;33m(\u001b[0m\u001b[0mConv1D\u001b[0m\u001b[1;33m(\u001b[0m\u001b[1;36m64\u001b[0m\u001b[1;33m,\u001b[0m \u001b[1;36m3\u001b[0m\u001b[1;33m,\u001b[0m \u001b[0mactivation\u001b[0m\u001b[1;33m=\u001b[0m\u001b[1;34m'relu'\u001b[0m\u001b[1;33m)\u001b[0m\u001b[1;33m)\u001b[0m\u001b[1;33m\u001b[0m\u001b[0m\n\u001b[0;32m      9\u001b[0m \u001b[0mmodel\u001b[0m\u001b[1;33m.\u001b[0m\u001b[0madd\u001b[0m\u001b[1;33m(\u001b[0m\u001b[0mMaxPooling1D\u001b[0m\u001b[1;33m(\u001b[0m\u001b[1;36m3\u001b[0m\u001b[1;33m)\u001b[0m\u001b[1;33m)\u001b[0m\u001b[1;33m\u001b[0m\u001b[0m\n",
      "\u001b[1;31mNameError\u001b[0m: name 'seq_length' is not defined"
     ]
    }
   ],
   "source": [
    "from keras.models import Sequential\n",
    "from keras.layers import Dense, Dropout\n",
    "from keras.layers import Embedding\n",
    "from keras.layers import Conv1D, GlobalAveragePooling1D, MaxPooling1D\n",
    "\n",
    "model = Sequential()\n",
    "model.add(Conv1D(64, 3, activation='relu', input_shape=(seq_length, 100)))\n",
    "model.add(Conv1D(64, 3, activation='relu'))\n",
    "model.add(MaxPooling1D(3))\n",
    "model.add(Conv1D(128, 3, activation='relu'))\n",
    "model.add(Conv1D(128, 3, activation='relu'))\n",
    "model.add(GlobalAveragePooling1D())\n",
    "model.add(Dropout(0.5))\n",
    "model.add(Dense(1, activation='sigmoid'))\n",
    "\n",
    "model.compile(loss='binary_crossentropy',\n",
    "              optimizer='rmsprop',\n",
    "              metrics=['accuracy'])\n",
    "\n",
    "model.fit(x_train, y_train, batch_size=16, epochs=10)\n",
    "score = model.evaluate(x_test, y_test, batch_size=16)"
   ]
  },
  {
   "cell_type": "markdown",
   "metadata": {},
   "source": [
    "### 用于序列分类的栈式LSTM\n",
    "在该模型中，我们将三个LSTM堆叠在一起，是该模型能够学习更高层次的时域特征表示。\n",
    "开始的两层LSTM返回其全部输出序列，而第三层LSTM只返回其输出序列的最后一步结果，从而其时域维度降低（即将输入序列转换为单个向量）"
   ]
  },
  {
   "cell_type": "code",
   "execution_count": 25,
   "metadata": {},
   "outputs": [
    {
     "name": "stdout",
     "output_type": "stream",
     "text": [
      "Train on 1000 samples, validate on 100 samples\n",
      "Epoch 1/5\n",
      "1000/1000 [==============================] - 4s 4ms/step - loss: 11.5130 - acc: 0.1190 - val_loss: 11.1773 - val_acc: 0.1200\n",
      "Epoch 2/5\n",
      "1000/1000 [==============================] - 1s 683us/step - loss: 11.5117 - acc: 0.1090 - val_loss: 11.1774 - val_acc: 0.1200\n",
      "Epoch 3/5\n",
      "1000/1000 [==============================] - 1s 685us/step - loss: 11.5116 - acc: 0.1030 - val_loss: 11.1744 - val_acc: 0.1200\n",
      "Epoch 4/5\n",
      "1000/1000 [==============================] - 1s 691us/step - loss: 11.5111 - acc: 0.1040 - val_loss: 11.1764 - val_acc: 0.0900\n",
      "Epoch 5/5\n",
      "1000/1000 [==============================] - 1s 682us/step - loss: 11.5112 - acc: 0.1030 - val_loss: 11.1766 - val_acc: 0.1100\n"
     ]
    },
    {
     "data": {
      "text/plain": [
       "<keras.callbacks.History at 0x191979f6198>"
      ]
     },
     "execution_count": 25,
     "metadata": {},
     "output_type": "execute_result"
    }
   ],
   "source": [
    "from keras.models import Sequential\n",
    "from keras.layers import LSTM, Dense\n",
    "import numpy as np\n",
    "\n",
    "data_dim = 16\n",
    "timesteps = 8\n",
    "num_classes = 10\n",
    "\n",
    "# expected input data shape: (batch_size, timesteps, data_dim)\n",
    "model = Sequential()\n",
    "model.add(LSTM(32, return_sequences=True,\n",
    "               input_shape=(timesteps, data_dim)))  # returns a sequence of vectors of dimension 32\n",
    "model.add(LSTM(32, return_sequences=True))  # returns a sequence of vectors of dimension 32\n",
    "model.add(LSTM(32))  # return a single vector of dimension 32\n",
    "model.add(Dense(10, activation='softmax'))\n",
    "\n",
    "model.compile(loss='categorical_crossentropy',\n",
    "              optimizer='rmsprop',\n",
    "              metrics=['accuracy'])\n",
    "\n",
    "# Generate dummy training data\n",
    "x_train = np.random.random((1000, timesteps, data_dim))\n",
    "y_train = np.random.random((1000, num_classes))\n",
    "\n",
    "# Generate dummy validation data\n",
    "x_val = np.random.random((100, timesteps, data_dim))\n",
    "y_val = np.random.random((100, num_classes))\n",
    "\n",
    "model.fit(x_train, y_train,\n",
    "          batch_size=64, epochs=5,\n",
    "          validation_data=(x_val, y_val))"
   ]
  },
  {
   "cell_type": "markdown",
   "metadata": {},
   "source": [
    "### 采用stateful LSTM的相同模型\n",
    "stateful LSTM的特点是，在处理过一个batch的训练数据后，其内部状态（记忆）会被作为下一个batch的训练数据的初始状态。状态LSTM使得我们可以在合理的计算复杂度内处理较长序列"
   ]
  },
  {
   "cell_type": "code",
   "execution_count": 26,
   "metadata": {},
   "outputs": [
    {
     "name": "stdout",
     "output_type": "stream",
     "text": [
      "Train on 320 samples, validate on 96 samples\n",
      "Epoch 1/5\n",
      "320/320 [==============================] - 3s 10ms/step - loss: 11.5195 - acc: 0.0969 - val_loss: 11.4322 - val_acc: 0.0833\n",
      "Epoch 2/5\n",
      "320/320 [==============================] - 0s 1ms/step - loss: 11.5146 - acc: 0.1094 - val_loss: 11.4324 - val_acc: 0.0938\n",
      "Epoch 3/5\n",
      "320/320 [==============================] - 0s 1ms/step - loss: 11.5138 - acc: 0.1094 - val_loss: 11.4324 - val_acc: 0.0938\n",
      "Epoch 4/5\n",
      "320/320 [==============================] - 0s 1ms/step - loss: 11.5132 - acc: 0.1094 - val_loss: 11.4326 - val_acc: 0.0938\n",
      "Epoch 5/5\n",
      "320/320 [==============================] - 0s 1ms/step - loss: 11.5126 - acc: 0.1031 - val_loss: 11.4328 - val_acc: 0.0833\n"
     ]
    },
    {
     "data": {
      "text/plain": [
       "<keras.callbacks.History at 0x191bf4fec18>"
      ]
     },
     "execution_count": 26,
     "metadata": {},
     "output_type": "execute_result"
    }
   ],
   "source": [
    "from keras.models import Sequential\n",
    "from keras.layers import LSTM, Dense\n",
    "import numpy as np\n",
    "\n",
    "data_dim = 16\n",
    "timesteps = 8\n",
    "num_classes = 10\n",
    "batch_size = 32\n",
    "\n",
    "# Expected input batch shape: (batch_size, timesteps, data_dim)\n",
    "# Note that we have to provide the full batch_input_shape since the network is stateful.\n",
    "# the sample of index i in batch k is the follow-up for the sample i in batch k-1.\n",
    "model = Sequential()\n",
    "model.add(LSTM(32, return_sequences=True, stateful=True,\n",
    "               batch_input_shape=(batch_size, timesteps, data_dim)))\n",
    "model.add(LSTM(32, return_sequences=True, stateful=True))\n",
    "model.add(LSTM(32, stateful=True))\n",
    "model.add(Dense(10, activation='softmax'))\n",
    "\n",
    "model.compile(loss='categorical_crossentropy',\n",
    "              optimizer='rmsprop',\n",
    "              metrics=['accuracy'])\n",
    "\n",
    "# Generate dummy training data\n",
    "x_train = np.random.random((batch_size * 10, timesteps, data_dim))\n",
    "y_train = np.random.random((batch_size * 10, num_classes))\n",
    "\n",
    "# Generate dummy validation data\n",
    "x_val = np.random.random((batch_size * 3, timesteps, data_dim))\n",
    "y_val = np.random.random((batch_size * 3, num_classes))\n",
    "\n",
    "model.fit(x_train, y_train,\n",
    "          batch_size=batch_size, epochs=5, shuffle=False,\n",
    "          validation_data=(x_val, y_val))"
   ]
  },
  {
   "cell_type": "markdown",
   "metadata": {},
   "source": [
    "# Keras FAQ：\n",
    "常见问题: http://keras-cn.readthedocs.io/en/latest/for_beginners/FAQ/"
   ]
  },
  {
   "cell_type": "code",
   "execution_count": null,
   "metadata": {},
   "outputs": [],
   "source": []
  }
 ],
 "metadata": {
  "kernelspec": {
   "display_name": "Python 3",
   "language": "python",
   "name": "python3"
  },
  "language_info": {
   "codemirror_mode": {
    "name": "ipython",
    "version": 3
   },
   "file_extension": ".py",
   "mimetype": "text/x-python",
   "name": "python",
   "nbconvert_exporter": "python",
   "pygments_lexer": "ipython3",
   "version": "3.6.1"
  }
 },
 "nbformat": 4,
 "nbformat_minor": 2
}
