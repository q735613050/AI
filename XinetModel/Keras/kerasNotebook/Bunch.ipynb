{
 "cells": [
  {
   "cell_type": "markdown",
   "metadata": {},
   "source": [
    "# 「Bunch」的设计模式\n",
    "\n",
    "当树这样的数据结构被原型化，它往往会是一个非常有用且很灵活的类型。Bunch Pattern 字面意思大概是指链式的束式结构，主要用于松散的数据存储数据。"
   ]
  },
  {
   "cell_type": "code",
   "execution_count": 76,
   "metadata": {},
   "outputs": [],
   "source": [
    "class Bunch(dict):\n",
    "    def __init__(self, *args, **kwds):\n",
    "        super().__init__(*args, **kwds)\n",
    "        self.__dict__ = self"
   ]
  },
  {
   "cell_type": "markdown",
   "metadata": {},
   "source": [
    "## 1 能让我们以命令行参数的形式创建相关对象，并设置任何属性。\n",
    "\n",
    "当一个函数接收 `*args` 和 `**kwargs` 的时候，也就意味着该函数能够接收任意数量任意类型的值。"
   ]
  },
  {
   "cell_type": "code",
   "execution_count": 15,
   "metadata": {},
   "outputs": [
    {
     "data": {
      "text/plain": [
       "'54'"
      ]
     },
     "execution_count": 15,
     "metadata": {},
     "output_type": "execute_result"
    }
   ],
   "source": [
    "x = Bunch(age=\"54\",address=\"Beijing\")  \n",
    "x.age  "
   ]
  },
  {
   "cell_type": "markdown",
   "metadata": {},
   "source": [
    "由于它继承自 `dict` 类，我们可以自然而然获得大量相关内容，如对于相关`键值/属性值`的遍历，或者简单查询一个属性是否存在。"
   ]
  },
  {
   "cell_type": "code",
   "execution_count": 17,
   "metadata": {},
   "outputs": [],
   "source": [
    "# 二叉树\n",
    "T = Bunch\n",
    "t = T(left=T(left='a', right='b'), right=T(left='c'))"
   ]
  },
  {
   "cell_type": "code",
   "execution_count": 18,
   "metadata": {},
   "outputs": [
    {
     "data": {
      "text/plain": [
       "{'left': 'a', 'right': 'b'}"
      ]
     },
     "execution_count": 18,
     "metadata": {},
     "output_type": "execute_result"
    }
   ],
   "source": [
    "t.left "
   ]
  },
  {
   "cell_type": "code",
   "execution_count": 19,
   "metadata": {},
   "outputs": [
    {
     "data": {
      "text/plain": [
       "'b'"
      ]
     },
     "execution_count": 19,
     "metadata": {},
     "output_type": "execute_result"
    }
   ],
   "source": [
    "t.left.right "
   ]
  },
  {
   "cell_type": "code",
   "execution_count": 20,
   "metadata": {},
   "outputs": [
    {
     "data": {
      "text/plain": [
       "'b'"
      ]
     },
     "execution_count": 20,
     "metadata": {},
     "output_type": "execute_result"
    }
   ],
   "source": [
    "t['left']['right']"
   ]
  },
  {
   "cell_type": "code",
   "execution_count": 21,
   "metadata": {},
   "outputs": [
    {
     "data": {
      "text/plain": [
       "True"
      ]
     },
     "execution_count": 21,
     "metadata": {},
     "output_type": "execute_result"
    }
   ],
   "source": [
    "\"left\" in t.right "
   ]
  },
  {
   "cell_type": "code",
   "execution_count": 22,
   "metadata": {
    "scrolled": false
   },
   "outputs": [
    {
     "data": {
      "text/plain": [
       "False"
      ]
     },
     "execution_count": 22,
     "metadata": {},
     "output_type": "execute_result"
    }
   ],
   "source": [
    "\"right\" in t.right"
   ]
  },
  {
   "cell_type": "code",
   "execution_count": 23,
   "metadata": {},
   "outputs": [
    {
     "name": "stdout",
     "output_type": "stream",
     "text": [
      "{'name': 'wangying', 'age': '23'}\n",
      "wangying\n",
      "23\n"
     ]
    }
   ],
   "source": [
    "person = Bunch(name='wangying', age='23')\n",
    "print(person)\n",
    "print(person.name)\n",
    "print(person['age'])"
   ]
  },
  {
   "cell_type": "code",
   "execution_count": 24,
   "metadata": {},
   "outputs": [
    {
     "name": "stdout",
     "output_type": "stream",
     "text": [
      "dict_items([('name', 'wangying'), ('age', '23')])\n",
      "dict_keys(['name', 'age'])\n",
      "dict_values(['wangying', '23'])\n",
      "{}\n"
     ]
    }
   ],
   "source": [
    "print(person.items())\n",
    "print(person.keys())\n",
    "print(person.values())\n",
    "person.clear()\n",
    "print(person)"
   ]
  },
  {
   "cell_type": "markdown",
   "metadata": {},
   "source": [
    "可见，我们还可以使用 `.` 或者 `[]` 运算符来访问对象的属性值（相当灵活方便！）\n",
    "\n",
    "当然，该模式下不仅可用于树结构的创建，如果你希望有一个灵活的对象，并且属性可以从构造器中被动态设置时，也可以用该模式来实现。\n",
    "\n",
    "接下来，让我们探索下，The Bunch pattern 拥有这些能力的原因何在。"
   ]
  },
  {
   "cell_type": "markdown",
   "metadata": {},
   "source": [
    "## 2 `self.__dict__ = self`\n",
    "\n",
    "- `self.__dict__` 操作的就是对象的成员，如果我们不将我们新加入的属性值加入到我们的对象成员记录 `__dict__` 中去，我们也就不能使用 `.` 运算符获取到该属性值；\n",
    "- 此时等式右边的 `self` 中存储了该对象接受到的所有属性值信息，因此这个等式相当于将当前所有构造传入的属性值信息存储到了 `__dict__` 中去，方便我们使用 Bunch 类创建的对象使用 `.` 运算符访问其属性值信息。"
   ]
  },
  {
   "cell_type": "markdown",
   "metadata": {},
   "source": [
    "## 3 sklearn 中的 Bunch"
   ]
  },
  {
   "cell_type": "code",
   "execution_count": 25,
   "metadata": {},
   "outputs": [],
   "source": [
    "from sklearn.datasets import base"
   ]
  },
  {
   "cell_type": "code",
   "execution_count": 26,
   "metadata": {},
   "outputs": [],
   "source": [
    "x = base.Bunch(A=1, B=2, c=3)  "
   ]
  },
  {
   "cell_type": "code",
   "execution_count": 27,
   "metadata": {},
   "outputs": [
    {
     "data": {
      "text/plain": [
       "{'A': 1, 'B': 2, 'c': 3}"
      ]
     },
     "execution_count": 27,
     "metadata": {},
     "output_type": "execute_result"
    }
   ],
   "source": [
    "x"
   ]
  },
  {
   "cell_type": "code",
   "execution_count": null,
   "metadata": {},
   "outputs": [],
   "source": []
  }
 ],
 "metadata": {
  "kernelspec": {
   "display_name": "Python 3",
   "language": "python",
   "name": "python3"
  },
  "language_info": {
   "codemirror_mode": {
    "name": "ipython",
    "version": 3
   },
   "file_extension": ".py",
   "mimetype": "text/x-python",
   "name": "python",
   "nbconvert_exporter": "python",
   "pygments_lexer": "ipython3",
   "version": "3.6.4"
  }
 },
 "nbformat": 4,
 "nbformat_minor": 2
}
