{
 "cells": [
  {
   "cell_type": "markdown",
   "metadata": {},
   "source": [
    "# 关于Keras模型\n",
    "Keras有两种类型的模型，序贯模型（Sequential）和函数式模型（Model），函数式模型应用更为广泛，序贯模型是函数式模型的一种特殊情况。\n",
    "\n",
    "两类模型有一些方法是相同的：\n",
    "- `model.summary()`：打印出模型概况，它实际调用的是`keras.utils.print_summary`\n",
    "- `model.get_config()`:返回包含模型配置信息的Python字典。模型也可以从它的`config`信息中重构回去\n",
    "\n",
    "```python\n",
    "config = model.get_config()\n",
    "model = Model.from_config(config)\n",
    "# or, for Sequential:\n",
    "model = Sequential.from_config(config)\n",
    "```\n",
    "\n",
    "- `model.get_layer()`：依据层名或下标获得层对象\n",
    "- `model.get_weights()`：返回模型权重张量的列表，类型为`numpy.array`\n",
    "- `model.set_weights()`：从 `numpy.array` 里将权重载入给模型，要求数组具有与 `model.get_weights()` 相同的形状。\n",
    "- `model.to_json`：返回代表模型的 JSON 字符串，仅包含网络结构，不包含权值。可以从 JSON 字符串中重构原模型：\n",
    "\n",
    "```python\n",
    "from models import model_from_json\n",
    "\n",
    "json_string = model.to_json()\n",
    "model = model_from_json(json_string)\n",
    "```\n",
    "\n",
    "- `model.to_yaml`：与 `model.to_json` 类似，同样可以从产生的 YAML 字符串中重构模型\n",
    "\n",
    "```python\n",
    "from models import model_from_yaml\n",
    "\n",
    "yaml_string = model.to_yaml()\n",
    "model = model_from_yaml(yaml_string)\n",
    "```\n",
    "\n",
    "- `model.save_weights(filepath)`：将模型权重保存到指定路径，文件类型是 HDF5（后缀是`.h5`）\n",
    "- `model.load_weights(filepath, by_name=False)`：从 HDF5 文件中加载权重到当前模型中, 默认情况下模型的结构将保持不变。如果想将权重载入不同的模型（有些层相同）中，则设置 `by_name=True`，只有名字匹配的层才会载入权重。"
   ]
  },
  {
   "cell_type": "markdown",
   "metadata": {},
   "source": [
    "## 函数式（Functional）模型\n",
    "函数式模型称作Functional，但它的类名是 `Model`，因此我们有时候也用Model来代表函数式模型。\n",
    "\n",
    "Keras函数式模型接口是用户定义多输出模型、非循环有向模型或具有共享层的模型等复杂模型的途径。一句话，只要你的模型不是类似VGG一样一条路走到黑的模型，或者你的模型需要多于一个的输出，那么你总应该选择函数式模型。函数式模型是最广泛的一类模型，序贯模型（Sequential）只是它的一种特殊情况。更多关于序列模型的资料参考： [序贯模型API](http://keras-cn.readthedocs.io/en/latest/models/sequential/#sequential)\n",
    "\n",
    "# 1 第一个模型：全连接网络\n",
    "在开始前，有几个概念需要澄清：\n",
    "- 层对象接受张量为参数，返回一个张量。\n",
    "- 输入是张量，输出也是张量的一个框架就是一个模型，通过 `Model` 定义。\n",
    "- 这样的模型可以被像Keras的 `Sequential` 一样被训练"
   ]
  },
  {
   "cell_type": "markdown",
   "metadata": {},
   "source": [
    "```python\n",
    "from keras.layers import Input, Dense\n",
    "from keras.models import Model\n",
    "\n",
    "# This returns a tensor\n",
    "inputs = Input(shape=(784,))\n",
    "\n",
    "# a layer instance is callable on a tensor, and returns a tensor\n",
    "x = Dense(64, activation='relu')(inputs)\n",
    "x = Dense(64, activation='relu')(x)\n",
    "predictions = Dense(10, activation='softmax')(x)\n",
    "\n",
    "# This creates a model that includes\n",
    "# the Input layer and three Dense layers\n",
    "model = Model(inputs=inputs, outputs=predictions)\n",
    "model.compile(optimizer='rmsprop',\n",
    "              loss='categorical_crossentropy',\n",
    "              metrics=['accuracy'])\n",
    "model.fit(data, labels)  # starts training\n",
    "```"
   ]
  },
  {
   "cell_type": "markdown",
   "metadata": {},
   "source": [
    "## 所有的模型都是可调用的，就像层一样\n",
    "利用函数式模型的接口，我们可以很容易的重用已经训练好的模型：你可以把模型当作一个层一样，通过提供一个 `tensor` 来调用它。注意当你调用一个模型时，你不仅仅重用了它的结构，也重用了它的权重。"
   ]
  },
  {
   "cell_type": "code",
   "execution_count": 7,
   "metadata": {},
   "outputs": [],
   "source": [
    "x = Input(shape=(784,))\n",
    "# This works, and returns the 10-way softmax we defined above.\n",
    "y = model(x)"
   ]
  },
  {
   "cell_type": "markdown",
   "metadata": {},
   "source": [
    "这种方式可以允许你快速的创建能处理序列信号的模型，你可以很快将一个图像分类的模型变为一个对视频分类的模型，只需要一行代码："
   ]
  },
  {
   "cell_type": "code",
   "execution_count": 8,
   "metadata": {},
   "outputs": [],
   "source": [
    "from keras.layers import TimeDistributed\n",
    "\n",
    "# Input tensor for sequences of 20 timesteps,\n",
    "# each containing a 784-dimensional vector\n",
    "input_sequences = Input(shape=(20, 784))\n",
    "\n",
    "# This applies our previous model to every timestep in the input sequences.\n",
    "# the output of the previous model was a 10-way softmax,\n",
    "# so the output of the layer below will be a sequence of 20 vectors of size 10.\n",
    "processed_sequences = TimeDistributed(model)(input_sequences)"
   ]
  },
  {
   "cell_type": "markdown",
   "metadata": {},
   "source": [
    "## 多输入和多输出模型\n",
    "使用函数式模型的一个典型场景是搭建多输入、多输出的模型。"
   ]
  },
  {
   "cell_type": "code",
   "execution_count": 10,
   "metadata": {},
   "outputs": [],
   "source": [
    "from keras.layers import Conv2D, MaxPooling2D, Input\n",
    "\n",
    "input_img = Input(shape=(256, 256, 3))\n",
    "\n",
    "tower_1 = Conv2D(64, (1, 1), padding='same', activation='relu')(input_img)\n",
    "tower_1 = Conv2D(64, (3, 3), padding='same', activation='relu')(tower_1)\n",
    "\n",
    "tower_2 = Conv2D(64, (1, 1), padding='same', activation='relu')(input_img)\n",
    "tower_2 = Conv2D(64, (5, 5), padding='same', activation='relu')(tower_2)\n",
    "\n",
    "tower_3 = MaxPooling2D((3, 3), strides=(1, 1), padding='same')(input_img)\n",
    "tower_3 = Conv2D(64, (1, 1), padding='same', activation='relu')(tower_3)\n",
    "\n",
    "output = keras.layers.concatenate([tower_1, tower_2, tower_3], axis=1)"
   ]
  },
  {
   "cell_type": "markdown",
   "metadata": {},
   "source": [
    "更多内容参考：[快速开始函数式（Functional）模型](http://keras-cn.readthedocs.io/en/latest/getting_started/functional_API/)"
   ]
  },
  {
   "cell_type": "markdown",
   "metadata": {},
   "source": [
    "### 示例"
   ]
  },
  {
   "cell_type": "code",
   "execution_count": 14,
   "metadata": {},
   "outputs": [],
   "source": [
    "from keras.models import Model\n",
    "from keras.layers import Input, Dense"
   ]
  },
  {
   "cell_type": "code",
   "execution_count": 26,
   "metadata": {},
   "outputs": [],
   "source": [
    "# 定义输入层 Input，主要是为了定义输入的矩阵尺寸\n",
    "a = Input(shape= (None, 28, 28))\n",
    "\n",
    "# 定义各个连接层\n",
    "x = Dense(64, activation= 'relu')(a)\n",
    "x = Dense(64, activation= 'relu')(x)\n",
    "\n",
    "# 定义输出层\n",
    "y = Dense(10, activation= 'relu')(x)"
   ]
  },
  {
   "cell_type": "code",
   "execution_count": 19,
   "metadata": {},
   "outputs": [],
   "source": [
    "# 定义模型对象\n",
    "model = Model(inputs= a, outputs= y)"
   ]
  },
  {
   "cell_type": "code",
   "execution_count": 29,
   "metadata": {},
   "outputs": [],
   "source": [
    "# 编译模型\n",
    "\n",
    "model.compile(optimizer= 'rmsprop', loss= 'categorical_crossentropy', metrics= ['accuracy'])\n"
   ]
  },
  {
   "cell_type": "code",
   "execution_count": null,
   "metadata": {},
   "outputs": [],
   "source": []
  }
 ],
 "metadata": {
  "kernelspec": {
   "display_name": "Python 3",
   "language": "python",
   "name": "python3"
  },
  "language_info": {
   "codemirror_mode": {
    "name": "ipython",
    "version": 3
   },
   "file_extension": ".py",
   "mimetype": "text/x-python",
   "name": "python",
   "nbconvert_exporter": "python",
   "pygments_lexer": "ipython3",
   "version": "3.6.1"
  }
 },
 "nbformat": 4,
 "nbformat_minor": 2
}
