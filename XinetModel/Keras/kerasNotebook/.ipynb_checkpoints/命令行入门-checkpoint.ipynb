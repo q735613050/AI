{
 "cells": [
  {
   "cell_type": "markdown",
   "metadata": {},
   "source": [
    "# 命令行入门\n",
    "\n",
    "**名词解释**：\n",
    "- CIL：command line interface（命令行界面）\n",
    "\n",
    "## 常用命令（Windows PowerShell）\n",
    "\n",
    "- `pwd`：print working directory（打印工作目录）\n",
    "- `hostname`：计算机在网络中的名称\n",
    "- `mkdir`：创建目录\n",
    "- `cd`：更改目录\n",
    "    - `cd ~`：回到根目录\n",
    "    - `cd ..`：回到上一级目录\n",
    "    - `cd ../../..`：回到上三级目录\n",
    "    - 对于目录名有空格的情况，使用类似 `cd 'f g h'` 的命令来切换\n",
    "- `ls`：列出目录中的内容\n",
    "- `rmdir`删除目录\n",
    "- `pushd`：推送目录，即保存当前位置并转到一个新的位置（栈）\n",
    "- `popd`：弹出目录，即回到先前保存的位置（栈）\n",
    "- `touch`（Windows 中是 `New-Item`）创建一个空文件\n",
    "- `cp`：将文件从一个地方复制到另一个地方\n",
    "    - `cp a.txt b.txt`\n",
    "    - `cp a.txt somes/`\n",
    "    - `cp -Recurse something newplace`  复制目录\n",
    "- `mv`：移动文件\n",
    "- `less`：逐页查看文件（Linux）\n",
    "- `more`：逐页查看文件（Windows）\n",
    "- `robocopy`：更可靠的复制命令\n",
    "- `cat`：流文件内容显示\n",
    "    - `more a.txt`\n",
    "    - `cat a.txt`\n",
    "    - `cat a.txt, a1.txt`\n",
    "- `rm`：删除文件\n",
    "- `type`：打印整个文件\n",
    "- `dir -r`：寻找文件\n",
    "- `help`：阅读手册\n",
    "- `helpctr`：寻找恰当的手册页面\n",
    "- `echo`：打印一些参数\n",
    "- `set`：导出/设定一个新的环境变量\n",
    "- `exit`：退出 shell\n",
    "- `runas`：成为超级用户 root\n",
    "- `Select-String`：在文件中查找内容"
   ]
  },
  {
   "cell_type": "code",
   "execution_count": null,
   "metadata": {},
   "outputs": [],
   "source": []
  }
 ],
 "metadata": {
  "kernelspec": {
   "display_name": "Python 3",
   "language": "python",
   "name": "python3"
  },
  "language_info": {
   "codemirror_mode": {
    "name": "ipython",
    "version": 3
   },
   "file_extension": ".py",
   "mimetype": "text/x-python",
   "name": "python",
   "nbconvert_exporter": "python",
   "pygments_lexer": "ipython3",
   "version": "3.6.5"
  }
 },
 "nbformat": 4,
 "nbformat_minor": 2
}
