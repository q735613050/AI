{
 "cells": [
  {
   "cell_type": "markdown",
   "metadata": {},
   "source": [
    "本文摘录了大量 `机器学习算法原理与编程实践_郑捷著_电子工业出版社` 的原文。\n",
    "源码：[机器学习算法原理与编程实践](https://github.com/wenbo/MLBook)\n",
    "\n",
    "### [wiki](https://zh.wikipedia.org/zh-hans/推薦系統)\n",
    "\n",
    "推荐系统是一种信息过滤系统，用于预测用户对物品的「评分」或「偏好」。\n",
    "\n",
    "精彩推荐：\n",
    "- [《推荐系统实战》- 笔记与思考](https://www.cnblogs.com/buptzym/p/7140639.html)\n",
    "- [Surprise——Python的推荐系统库（1）](https://blog.csdn.net/qq_26877377/article/details/79980107)\n",
    "\n",
    "### 存在问题（背景）\n",
    "\n",
    "- **关键词**的信息量不足，基于关键词的检索在很多情况下不能精准和深刻地反映用户的潜在需求；\n",
    "- 通用的搜索引擎只有而且必须对用户提供尽量丰富而无差别的信息，这样才能应对不同种类的需求，以及需求的变换。\n",
    "\n",
    "因此，如何平衡搜索的广度与深度（精准程度）是推荐系统所要解决的主要问题。\n",
    "\n",
    "推荐系统着眼于**需求**二字：\n",
    "- 需求的定位；\n",
    "- 需求的个性化；\n",
    "- 需求的模糊性衍生。\n",
    "\n",
    "### 推荐系统的应用\n",
    "\n",
    "- 把包销售：经常一起购买的产品；\n",
    "- **协同过滤**：购买了此产品的顾客同时也购买的产品；（除了促销之外，也可以帮助用户定位购买需求）\n",
    "- 用户的商品评论列表。\n",
    "\n",
    "推荐系统通过研究用户的兴趣偏好，由智能算法进行个性化的计算，发现用户的潜在兴趣点，从而引导用户发现需求。\n",
    "\n",
    "### 推荐系统的架构\n",
    "![](http://static.zybuluo.com/xinet/nv0xlf5fudcw8jzuja1bhcl1/%E6%8D%95%E8%8E%B7.PNG)\n",
    "\n",
    "![捕获.PNG-233.8kB][1]\n",
    "![捕获1.PNG-512.6kB][2]\n",
    "\n",
    "\n",
    "  [1]: http://static.zybuluo.com/xinet/otbwdn2j9meo0b2bks3b4w4u/%E6%8D%95%E8%8E%B7.PNG\n",
    "  [2]: http://static.zybuluo.com/xinet/0gba1a2zgmrsvwv0w8fccfvt/%E6%8D%95%E8%8E%B71.PNG\n",
    "\n",
    "前两种方法较为简单，应用也不广泛。\n",
    "\n",
    "## 协同过滤（Collaborative Filtering，CF）\n",
    "\n",
    "推荐模型：\n",
    "- 基于用户的推荐技术：找到具有相似品味的人所喜欢的物品——User CF；\n",
    "- 基于物品的推荐技术：从一个人喜欢的物品中找出相似的物品——Item CF。\n",
    "\n",
    "### 数据预处理\n",
    "\n",
    "![](http://static.zybuluo.com/xinet/aisvgo78hcufm70604oz1b87/%E6%8D%95%E8%8E%B7.PNG)\n",
    "\n",
    "预处理策略：\n",
    "- 减噪\n",
    "- 归一化\n",
    "- 聚类（缩减计算量）\n",
    "\n",
    "### 使用 Scikit-Learn 的 KMeans 聚类\n",
    "\n",
    "![](http://static.zybuluo.com/xinet/0lctfv21ucngkvkarmv2mz91/%E6%8D%95%E8%8E%B7.PNG)\n",
    "\n",
    "### KMeans 的基本原理\n",
    "给定要划分的数目 $k$：\n",
    "- 首先创建一个初始划分，随机选择 $k$ 个对象，每个对象初始地代表了一个聚类中心。对于其他对象，根据其与各个聚类中心的距离，将它们赋给最近的簇。\n",
    "- 然后采用一种迭代的重定位技术，尝试通过对象在划分的簇之间移动来改进划分，直到聚类中心不发生变化为止。\n",
    "    - **重定位技术**：就是当有新的对象加入到簇中或已有对象离开簇时，重新计算聚类的平均值（作为聚类中心），然后对对象进行重新分配。"
   ]
  },
  {
   "cell_type": "code",
   "execution_count": 1,
   "metadata": {},
   "outputs": [
    {
     "data": {
      "text/plain": [
       "['4k2_far.txt',\n",
       " 'figure_0.png',\n",
       " 'figure_1.png',\n",
       " 'figure_2.png',\n",
       " 'figure_3.png',\n",
       " 'testSet.txt']"
      ]
     },
     "execution_count": 1,
     "metadata": {},
     "output_type": "execute_result"
    }
   ],
   "source": [
    "import os \n",
    "import pandas as pd\n",
    "\n",
    "import sys\n",
    "sys.path.append('E:/xinlib')\n",
    "import chaos\n",
    "\n",
    "\n",
    "root = 'D:/MLBook' + '/chapter04/testdata'\n",
    "os.listdir(root)"
   ]
  },
  {
   "cell_type": "markdown",
   "metadata": {},
   "source": [
    "`File2Table` 的使用参考：[机器学习的数学基础](http://www.cnblogs.com/q735613050/p/9126826.html)"
   ]
  },
  {
   "cell_type": "code",
   "execution_count": 2,
   "metadata": {},
   "outputs": [],
   "source": [
    "T = chaos.File2Table(root)\n",
    "for p in T.to_pandas('\\t'):\n",
    "    break"
   ]
  },
  {
   "cell_type": "code",
   "execution_count": 3,
   "metadata": {
    "scrolled": true
   },
   "outputs": [
    {
     "data": {
      "text/html": [
       "<div>\n",
       "<style scoped>\n",
       "    .dataframe tbody tr th:only-of-type {\n",
       "        vertical-align: middle;\n",
       "    }\n",
       "\n",
       "    .dataframe tbody tr th {\n",
       "        vertical-align: top;\n",
       "    }\n",
       "\n",
       "    .dataframe thead th {\n",
       "        text-align: right;\n",
       "    }\n",
       "</style>\n",
       "<table border=\"1\" class=\"dataframe\">\n",
       "  <thead>\n",
       "    <tr style=\"text-align: right;\">\n",
       "      <th></th>\n",
       "      <th>0</th>\n",
       "      <th>1</th>\n",
       "      <th>2</th>\n",
       "    </tr>\n",
       "  </thead>\n",
       "  <tbody>\n",
       "    <tr>\n",
       "      <th>0</th>\n",
       "      <td>1</td>\n",
       "      <td>2.7266</td>\n",
       "      <td>3.0102</td>\n",
       "    </tr>\n",
       "    <tr>\n",
       "      <th>1</th>\n",
       "      <td>1</td>\n",
       "      <td>3.1304</td>\n",
       "      <td>2.4673</td>\n",
       "    </tr>\n",
       "    <tr>\n",
       "      <th>2</th>\n",
       "      <td>1</td>\n",
       "      <td>3.0492</td>\n",
       "      <td>2.525</td>\n",
       "    </tr>\n",
       "    <tr>\n",
       "      <th>3</th>\n",
       "      <td>1</td>\n",
       "      <td>3.226</td>\n",
       "      <td>3.1649</td>\n",
       "    </tr>\n",
       "    <tr>\n",
       "      <th>4</th>\n",
       "      <td>1</td>\n",
       "      <td>2.7223</td>\n",
       "      <td>2.5713</td>\n",
       "    </tr>\n",
       "  </tbody>\n",
       "</table>\n",
       "</div>"
      ],
      "text/plain": [
       "   0       1       2\n",
       "0  1  2.7266  3.0102\n",
       "1  1  3.1304  2.4673\n",
       "2  1  3.0492   2.525\n",
       "3  1   3.226  3.1649\n",
       "4  1  2.7223  2.5713"
      ]
     },
     "execution_count": 3,
     "metadata": {},
     "output_type": "execute_result"
    }
   ],
   "source": [
    "p.head()"
   ]
  },
  {
   "cell_type": "markdown",
   "metadata": {},
   "source": [
    "参考[在 Pandas 中更改列的数据类型](https://www.cnblogs.com/q735613050/p/9130312.html)特征列的数据类型转换方法。"
   ]
  },
  {
   "cell_type": "code",
   "execution_count": 4,
   "metadata": {
    "scrolled": true
   },
   "outputs": [
    {
     "data": {
      "text/plain": [
       "0    object\n",
       "1    object\n",
       "2    object\n",
       "dtype: object"
      ]
     },
     "execution_count": 4,
     "metadata": {},
     "output_type": "execute_result"
    }
   ],
   "source": [
    "p.dtypes"
   ]
  },
  {
   "cell_type": "code",
   "execution_count": 23,
   "metadata": {
    "scrolled": true
   },
   "outputs": [
    {
     "data": {
      "text/plain": [
       "0      int32\n",
       "1    float64\n",
       "2    float64\n",
       "dtype: object"
      ]
     },
     "execution_count": 23,
     "metadata": {},
     "output_type": "execute_result"
    }
   ],
   "source": [
    "p[[1, 2]] = p[[1, 2]].astype(float)\n",
    "p[[0]] = p[[0]].astype(int)\n",
    "p.dtypes"
   ]
  },
  {
   "cell_type": "code",
   "execution_count": 42,
   "metadata": {},
   "outputs": [
    {
     "name": "stdout",
     "output_type": "stream",
     "text": [
      "Populating the interactive namespace from numpy and matplotlib\n"
     ]
    }
   ],
   "source": [
    "from sklearn.cluster import KMeans\n",
    "from pylab import mpl\n",
    "\n",
    "mpl.rcParams['font.sans-serif'] = ['FangSong'] # 指定默认字体\n",
    "mpl.rcParams['axes.unicode_minus'] = False # 解决保存图像是负号'-'显示为方块的问题\n",
    "\n",
    "%pylab inline"
   ]
  },
  {
   "cell_type": "code",
   "execution_count": 46,
   "metadata": {},
   "outputs": [
    {
     "data": {
      "text/plain": [
       "KMeans(algorithm='auto', copy_x=True, init='k-means++', max_iter=300,\n",
       "    n_clusters=4, n_init=10, n_jobs=1, precompute_distances='auto',\n",
       "    random_state=None, tol=0.0001, verbose=0)"
      ]
     },
     "execution_count": 46,
     "metadata": {},
     "output_type": "execute_result"
    }
   ],
   "source": [
    "k = len(set(p[0]))\n",
    "M = p[[1, 2]]\n",
    "kmeans = KMeans(init='k-means++', n_clusters=k)\n",
    "kmeans.fit(M)"
   ]
  },
  {
   "cell_type": "code",
   "execution_count": 81,
   "metadata": {
    "scrolled": false
   },
   "outputs": [
    {
     "data": {
      "image/png": "[encoded data removed]",
      "text/plain": [
       "<Figure size 432x288 with 1 Axes>"
      ]
     },
     "metadata": {},
     "output_type": "display_data"
    }
   ],
   "source": [
    "ax = p.plot.scatter(x=1, y=0, color='DarkRed', label='feture1')\n",
    "# 将之下这个 data 画在上一个 ax 上面\n",
    "p.plot.scatter(x=2, y=0, color='LightGreen', label='feture2', ax=ax)\n",
    "plt.show()"
   ]
  },
  {
   "cell_type": "code",
   "execution_count": 71,
   "metadata": {
    "scrolled": true
   },
   "outputs": [
    {
     "data": {
      "text/html": [
       "<div>\n",
       "<style scoped>\n",
       "    .dataframe tbody tr th:only-of-type {\n",
       "        vertical-align: middle;\n",
       "    }\n",
       "\n",
       "    .dataframe tbody tr th {\n",
       "        vertical-align: top;\n",
       "    }\n",
       "\n",
       "    .dataframe thead th {\n",
       "        text-align: right;\n",
       "    }\n",
       "</style>\n",
       "<table border=\"1\" class=\"dataframe\">\n",
       "  <thead>\n",
       "    <tr style=\"text-align: right;\">\n",
       "      <th></th>\n",
       "      <th>cluster_centers_1</th>\n",
       "      <th>cluster_centers_2</th>\n",
       "    </tr>\n",
       "  </thead>\n",
       "  <tbody>\n",
       "    <tr>\n",
       "      <th>0</th>\n",
       "      <td>3.022117</td>\n",
       "      <td>6.007702</td>\n",
       "    </tr>\n",
       "    <tr>\n",
       "      <th>1</th>\n",
       "      <td>8.081695</td>\n",
       "      <td>7.975067</td>\n",
       "    </tr>\n",
       "    <tr>\n",
       "      <th>2</th>\n",
       "      <td>2.958321</td>\n",
       "      <td>2.985985</td>\n",
       "    </tr>\n",
       "    <tr>\n",
       "      <th>3</th>\n",
       "      <td>6.994380</td>\n",
       "      <td>5.054563</td>\n",
       "    </tr>\n",
       "  </tbody>\n",
       "</table>\n",
       "</div>"
      ],
      "text/plain": [
       "   cluster_centers_1  cluster_centers_2\n",
       "0           3.022117           6.007702\n",
       "1           8.081695           7.975067\n",
       "2           2.958321           2.985985\n",
       "3           6.994380           5.054563"
      ]
     },
     "execution_count": 71,
     "metadata": {},
     "output_type": "execute_result"
    }
   ],
   "source": [
    "cluster_centers = pd.DataFrame(kmeans.cluster_centers_, columns=['cluster_centers_1', 'cluster_centers_2'])\n",
    "cluster_centers"
   ]
  },
  {
   "cell_type": "code",
   "execution_count": 79,
   "metadata": {
    "scrolled": true
   },
   "outputs": [
    {
     "data": {
      "image/png": "[encoded data removed]",
      "text/plain": [
       "<Figure size 432x288 with 1 Axes>"
      ]
     },
     "metadata": {},
     "output_type": "display_data"
    }
   ],
   "source": [
    "ax = p.plot.scatter(x=1, y=2, color='DarkBlue', label='数据', s=20)\n",
    "cluster_centers.plot.scatter(x='cluster_centers_1', y='cluster_centers_2', color='LightGreen', label='聚类中心', ax=ax, s=70)\n",
    "plt.show()"
   ]
  },
  {
   "cell_type": "markdown",
   "metadata": {},
   "source": []
  },
  {
   "cell_type": "code",
   "execution_count": null,
   "metadata": {},
   "outputs": [],
   "source": []
  }
 ],
 "metadata": {
  "kernelspec": {
   "display_name": "Python 3",
   "language": "python",
   "name": "python3"
  },
  "language_info": {
   "codemirror_mode": {
    "name": "ipython",
    "version": 3
   },
   "file_extension": ".py",
   "mimetype": "text/x-python",
   "name": "python",
   "nbconvert_exporter": "python",
   "pygments_lexer": "ipython3",
   "version": "3.6.4"
  }
 },
 "nbformat": 4,
 "nbformat_minor": 2
}
