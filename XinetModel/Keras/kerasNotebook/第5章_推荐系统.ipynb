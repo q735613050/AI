{
 "cells": [
  {
   "cell_type": "markdown",
   "metadata": {},
   "source": [
    "本代码应用 movielens 的数据集，讲解如何利用深度学习构造推荐系统模型。推荐系统的目标函数有很多，比如推荐评分最高的，或者推荐点击率最高的等等。有时候我们还会兼顾推荐内容的多样性。我们在这里讲解的是最根本的基于用户给内容打分的情形。这里的核心思想是对用户和内容建模，从而预测用户对未看过内容的打分。推荐系统进而会把预测的高分内容呈现给用户。"
   ]
  },
  {
   "cell_type": "code",
   "execution_count": 1,
   "metadata": {},
   "outputs": [
    {
     "name": "stderr",
     "output_type": "stream",
     "text": [
      "Using CNTK backend\n"
     ]
    }
   ],
   "source": [
    "import math\n",
    "import pandas as pd\n",
    "import numpy as np\n",
    "import matplotlib.pyplot as plt\n",
    "from keras.models import Sequential\n",
    "from keras.layers import Embedding, Dropout, Dense, Reshape\n",
    "from keras.layers.merge import Dot, Concatenate\n",
    "from keras.models import Model, Input"
   ]
  },
  {
   "cell_type": "markdown",
   "metadata": {},
   "source": [
    "依常规，我们首先得进行探索性分析，看看数据集和评分分布长什么样子的。借此我们还要计算评分稀疏性，因为所有的推荐系统都是基于大量缺失数据的。在这里，我们的思路是预测整个评分表，把缺失数据还原。"
   ]
  },
  {
   "cell_type": "code",
   "execution_count": 2,
   "metadata": {
    "scrolled": true
   },
   "outputs": [
    {
     "name": "stdout",
     "output_type": "stream",
     "text": [
      "[6040, 3952, 1000209]\n"
     ]
    },
    {
     "data": {
      "image/png": "[encoded data removed]",
      "text/plain": [
       "<Figure size 432x288 with 1 Axes>"
      ]
     },
     "metadata": {},
     "output_type": "display_data"
    },
    {
     "name": "stdout",
     "output_type": "stream",
     "text": [
      "3.581564453029317\n"
     ]
    }
   ],
   "source": [
    "ratings = pd.read_csv('./data/ratings.dat', sep = '::', \\\n",
    "    engine='python',names = ['user_id','movie_id','rating','timestamp'])\n",
    "n_users = np.max(ratings['user_id'])\n",
    "n_movies = np.max(ratings['movie_id'])\n",
    "print([n_users, n_movies, len(ratings)])\n",
    "\n",
    "plt.hist(ratings['rating'])\n",
    "plt.show()\n",
    "print(np.mean(ratings['rating']))"
   ]
  },
  {
   "cell_type": "markdown",
   "metadata": {},
   "source": [
    "接下来我们进行对**用户**和**内容**的建模，使用的是我们熟悉的 Emdbedding 思想。我们使用的 Embedding 维度为128。读者可以自行调整。"
   ]
  },
  {
   "cell_type": "markdown",
   "metadata": {},
   "source": [
    "`Embedding`（嵌入层）是使用在模型第一层的一个网络层，其目的是将所有索引标号映射到紧致的低维向量中："
   ]
  },
  {
   "cell_type": "code",
   "execution_count": 3,
   "metadata": {},
   "outputs": [],
   "source": [
    "k = 128    \n",
    "model1 = Sequential()\n",
    "model1.add(Embedding(n_users + 1, k, input_length = 1))\n",
    "model1.add(Reshape((k,)))\n",
    "model2 = Sequential()\n",
    "model2.add(Embedding(n_movies + 1, k, input_length = 1))\n",
    "model2.add(Reshape((k,)))"
   ]
  },
  {
   "cell_type": "code",
   "execution_count": 4,
   "metadata": {},
   "outputs": [
    {
     "data": {
      "text/plain": [
       "(Input('embedding_2_input', [#], [1]),\n",
       " Composite(Reshape): Input('embedding_2_input', [#], [1]) -> Output('Reshape21_Output_0', [#], [128]))"
      ]
     },
     "execution_count": 4,
     "metadata": {},
     "output_type": "execute_result"
    }
   ],
   "source": [
    "model2.input, model2.output"
   ]
  },
  {
   "cell_type": "markdown",
   "metadata": {},
   "source": [
    "我们的思路是通过计算用户和内容的向量乘积，得出评分。"
   ]
  },
  {
   "cell_type": "code",
   "execution_count": 5,
   "metadata": {},
   "outputs": [],
   "source": [
    "model = Sequential()\n",
    "m = Dot(axes=1)([model1.output, model2.output])\n",
    "model_output = m\n",
    "model = Model([model1.input, model2.input], model_output)\n",
    "model.compile(loss = 'mse', optimizer = 'adam')\n",
    "#model.compile(loss = 'mse', optimizer = 'rmsprop')\n",
    "#model.compile(loss = 'mse', optimizer = 'adagrad')"
   ]
  },
  {
   "cell_type": "markdown",
   "metadata": {},
   "source": [
    "准备好训练数据，代入模型。"
   ]
  },
  {
   "cell_type": "code",
   "execution_count": 6,
   "metadata": {},
   "outputs": [],
   "source": [
    "users = ratings['user_id'].values\n",
    "movies = ratings['movie_id'].values\n",
    "X_train = [users, movies]\n",
    "y_train = ratings['rating'].values"
   ]
  },
  {
   "cell_type": "code",
   "execution_count": 7,
   "metadata": {
    "scrolled": true
   },
   "outputs": [
    {
     "name": "stdout",
     "output_type": "stream",
     "text": [
      "Epoch 1/50\n",
      "1000209/1000209 [==============================] - 29s 29us/step - loss: 4.2396\n",
      "Epoch 2/50\n",
      "1000209/1000209 [==============================] - 29s 29us/step - loss: 0.8231\n",
      "Epoch 3/50\n",
      "1000209/1000209 [==============================] - 29s 29us/step - loss: 0.7453\n",
      "Epoch 4/50\n",
      "1000209/1000209 [==============================] - 29s 29us/step - loss: 0.6807\n",
      "Epoch 5/50\n",
      "1000209/1000209 [==============================] - 29s 29us/step - loss: 0.6159\n",
      "Epoch 6/50\n",
      "1000209/1000209 [==============================] - 29s 29us/step - loss: 0.5457\n",
      "Epoch 7/50\n",
      "1000209/1000209 [==============================] - 29s 29us/step - loss: 0.4744\n",
      "Epoch 8/50\n",
      "1000209/1000209 [==============================] - 30s 30us/step - loss: 0.4080\n",
      "Epoch 9/50\n",
      "1000209/1000209 [==============================] - 30s 30us/step - loss: 0.3519\n",
      "Epoch 10/50\n",
      "1000209/1000209 [==============================] - 29s 29us/step - loss: 0.3076\n",
      "Epoch 11/50\n",
      "1000209/1000209 [==============================] - 30s 30us/step - loss: 0.2733\n",
      "Epoch 12/50\n",
      "1000209/1000209 [==============================] - 30s 30us/step - loss: 0.2472\n",
      "Epoch 13/50\n",
      "1000209/1000209 [==============================] - 29s 29us/step - loss: 0.2269\n",
      "Epoch 14/50\n",
      "1000209/1000209 [==============================] - 30s 30us/step - loss: 0.2113\n",
      "Epoch 15/50\n",
      "1000209/1000209 [==============================] - 30s 30us/step - loss: 0.1985\n",
      "Epoch 16/50\n",
      "1000209/1000209 [==============================] - 32s 32us/step - loss: 0.1880\n",
      "Epoch 17/50\n",
      "1000209/1000209 [==============================] - 30s 30us/step - loss: 0.1793\n",
      "Epoch 18/50\n",
      "1000209/1000209 [==============================] - 29s 29us/step - loss: 0.1718\n",
      "Epoch 19/50\n",
      "1000209/1000209 [==============================] - 29s 29us/step - loss: 0.1654\n",
      "Epoch 20/50\n",
      "1000209/1000209 [==============================] - 28s 28us/step - loss: 0.1598\n",
      "Epoch 21/50\n",
      "1000209/1000209 [==============================] - 28s 28us/step - loss: 0.1550\n",
      "Epoch 22/50\n",
      "1000209/1000209 [==============================] - 28s 28us/step - loss: 0.1507\n",
      "Epoch 23/50\n",
      "1000209/1000209 [==============================] - 28s 28us/step - loss: 0.1468\n",
      "Epoch 24/50\n",
      "1000209/1000209 [==============================] - 28s 28us/step - loss: 0.1433\n",
      "Epoch 25/50\n",
      "1000209/1000209 [==============================] - 28s 28us/step - loss: 0.1404\n",
      "Epoch 26/50\n",
      "1000209/1000209 [==============================] - 28s 28us/step - loss: 0.1373\n",
      "Epoch 27/50\n",
      "1000209/1000209 [==============================] - 28s 28us/step - loss: 0.1348\n",
      "Epoch 28/50\n",
      "1000209/1000209 [==============================] - 29s 29us/step - loss: 0.1325\n",
      "Epoch 29/50\n",
      "1000209/1000209 [==============================] - 30s 30us/step - loss: 0.1302\n",
      "Epoch 30/50\n",
      "1000209/1000209 [==============================] - 29s 29us/step - loss: 0.1283\n",
      "Epoch 31/50\n",
      "1000209/1000209 [==============================] - 28s 28us/step - loss: 0.1265\n",
      "Epoch 32/50\n",
      "1000209/1000209 [==============================] - 28s 28us/step - loss: 0.1247\n",
      "Epoch 33/50\n",
      "1000209/1000209 [==============================] - 29s 29us/step - loss: 0.1232\n",
      "Epoch 34/50\n",
      "1000209/1000209 [==============================] - 28s 28us/step - loss: 0.1218\n",
      "Epoch 35/50\n",
      "1000209/1000209 [==============================] - 28s 28us/step - loss: 0.1204\n",
      "Epoch 36/50\n",
      "1000209/1000209 [==============================] - 29s 29us/step - loss: 0.1190\n",
      "Epoch 37/50\n",
      "1000209/1000209 [==============================] - 29s 29us/step - loss: 0.1179\n",
      "Epoch 38/50\n",
      "1000209/1000209 [==============================] - 28s 28us/step - loss: 0.1167\n",
      "Epoch 39/50\n",
      "1000209/1000209 [==============================] - 28s 28us/step - loss: 0.1157\n",
      "Epoch 40/50\n",
      "1000209/1000209 [==============================] - 28s 28us/step - loss: 0.1146\n",
      "Epoch 41/50\n",
      "1000209/1000209 [==============================] - 29s 29us/step - loss: 0.1137\n",
      "Epoch 42/50\n",
      "1000209/1000209 [==============================] - 28s 28us/step - loss: 0.1127\n",
      "Epoch 43/50\n",
      "1000209/1000209 [==============================] - 29s 29us/step - loss: 0.1119\n",
      "Epoch 44/50\n",
      "1000209/1000209 [==============================] - 28s 28us/step - loss: 0.1111\n",
      "Epoch 45/50\n",
      "1000209/1000209 [==============================] - 28s 28us/step - loss: 0.1103\n",
      "Epoch 46/50\n",
      "1000209/1000209 [==============================] - 28s 28us/step - loss: 0.1096\n",
      "Epoch 47/50\n",
      "1000209/1000209 [==============================] - 28s 28us/step - loss: 0.1089\n",
      "Epoch 48/50\n",
      "1000209/1000209 [==============================] - 28s 28us/step - loss: 0.1083\n",
      "Epoch 49/50\n",
      "1000209/1000209 [==============================] - 28s 28us/step - loss: 0.1075\n",
      "Epoch 50/50\n",
      "1000209/1000209 [==============================] - 28s 28us/step - loss: 0.1069\n"
     ]
    },
    {
     "data": {
      "text/plain": [
       "<keras.callbacks.History at 0x2bb288c7f98>"
      ]
     },
     "execution_count": 7,
     "metadata": {},
     "output_type": "execute_result"
    }
   ],
   "source": [
    "model.fit(X_train, y_train, batch_size = 500, epochs = 50)"
   ]
  },
  {
   "cell_type": "markdown",
   "metadata": {},
   "source": [
    "我们看下模型预测效果。注意到我们这里作为演示，只做了模型拟合程度，读者可以把原始数据集分成训练，校对和测试数据集，评估模型准确率。我们这里看一个例子，预测第 `10` 号用户对第 `99` 号内容的打分。"
   ]
  },
  {
   "cell_type": "code",
   "execution_count": 8,
   "metadata": {},
   "outputs": [],
   "source": [
    "i=10\n",
    "j=99\n",
    "pred = model.predict([np.array([users[i]]), np.array([movies[j]])])"
   ]
  },
  {
   "cell_type": "code",
   "execution_count": 9,
   "metadata": {},
   "outputs": [
    {
     "name": "stdout",
     "output_type": "stream",
     "text": [
      "[[ 2.25138307]]\n"
     ]
    }
   ],
   "source": [
    "print(pred)"
   ]
  },
  {
   "cell_type": "markdown",
   "metadata": {},
   "source": [
    "我们计算模型在训练数据集上的均方差。这告诉我们拟合程度的好坏。"
   ]
  },
  {
   "cell_type": "code",
   "execution_count": 10,
   "metadata": {},
   "outputs": [
    {
     "name": "stdout",
     "output_type": "stream",
     "text": [
      "1000209/1000209 [==============================] - 23s 23us/step\n",
      "0.0862701111813\n"
     ]
    }
   ],
   "source": [
    "mse = model.evaluate(x=X_train, y = y_train, batch_size=128)\n",
    "print(mse)"
   ]
  },
  {
   "cell_type": "markdown",
   "metadata": {},
   "source": [
    "我们接下来构建深度学习模型。这里的想法与上述稍微不同。我们把用户和内容的 Embedding 合并在一起（concatenate)，作为输入层，然后通过网络模型提取一层层特征，最后用线性变换得出预测评分。"
   ]
  },
  {
   "cell_type": "code",
   "execution_count": 11,
   "metadata": {},
   "outputs": [],
   "source": [
    "k = 128\n",
    "input_1 = Input(shape=(1,))\n",
    "model1 = Embedding(n_users + 1, k, input_length = 1)(input_1)\n",
    "model1 = Reshape((k,))(model1)\n",
    "input_2 = Input(shape=(1,))\n",
    "model2 = Embedding(n_movies + 1, k, input_length = 1)(input_2)\n",
    "model2 = Reshape((k,))(model2)"
   ]
  },
  {
   "cell_type": "code",
   "execution_count": 12,
   "metadata": {},
   "outputs": [
    {
     "data": {
      "text/plain": [
       "(Input('input_1', [#], [1]),\n",
       " Input('input_2', [#], [1]),\n",
       " Composite(Reshape): Input('input_1', [#], [1]) -> Output('Reshape450_Output_0', [#], [128]),\n",
       " Composite(Reshape): Input('input_2', [#], [1]) -> Output('Reshape460_Output_0', [#], [128]))"
      ]
     },
     "execution_count": 12,
     "metadata": {},
     "output_type": "execute_result"
    }
   ],
   "source": [
    "input_1,input_2, model1,model2"
   ]
  },
  {
   "cell_type": "code",
   "execution_count": 13,
   "metadata": {},
   "outputs": [],
   "source": [
    "model = Concatenate()([model1, model2])\n",
    "model = Dropout(0.2)(model)\n",
    "model = Dense(k, activation = 'relu')(model)\n",
    "model = Dropout(0.5)(model)\n",
    "model = Dense(int(k/4), activation = 'relu')(model)\n",
    "model = Dropout(0.5)(model)\n",
    "model = Dense(int(k/16), activation = 'relu')(model)\n",
    "model = Dropout(0.5)(model)\n",
    "yhat = Dense(1, activation = 'linear')(model)\n",
    "model = Model([input_1, input_2], yhat)\n",
    "model.compile(loss = 'mse', optimizer = \"adam\")"
   ]
  },
  {
   "cell_type": "markdown",
   "metadata": {},
   "source": [
    "和之前一样，我们准备好训练数据集，代入模型训练。并通过均方差计算模型的拟合程度。"
   ]
  },
  {
   "cell_type": "code",
   "execution_count": 14,
   "metadata": {},
   "outputs": [],
   "source": [
    "users = ratings['user_id'].values\n",
    "movies = ratings['movie_id'].values\n",
    "label = ratings['rating'].values\n",
    "X_train = [users, movies]\n",
    "y_train = label"
   ]
  },
  {
   "cell_type": "code",
   "execution_count": 15,
   "metadata": {
    "scrolled": true
   },
   "outputs": [
    {
     "name": "stdout",
     "output_type": "stream",
     "text": [
      "Epoch 1/50\n",
      "1000209/1000209 [==============================] - 20s 20us/step - loss: 3.8554\n",
      "Epoch 2/50\n",
      "1000209/1000209 [==============================] - 20s 20us/step - loss: 2.1430\n",
      "Epoch 3/50\n",
      "1000209/1000209 [==============================] - 20s 20us/step - loss: 1.4905\n",
      "Epoch 4/50\n",
      "1000209/1000209 [==============================] - 24s 24us/step - loss: 1.1942 0s - loss: 1.\n",
      "Epoch 5/50\n",
      "1000209/1000209 [==============================] - 22s 22us/step - loss: 1.0134\n",
      "Epoch 6/50\n",
      "1000209/1000209 [==============================] - 22s 22us/step - loss: 0.9326\n",
      "Epoch 7/50\n",
      "1000209/1000209 [==============================] - 20s 20us/step - loss: 0.9102\n",
      "Epoch 8/50\n",
      "1000209/1000209 [==============================] - 20s 20us/step - loss: 0.9028\n",
      "Epoch 9/50\n",
      "1000209/1000209 [==============================] - 20s 20us/step - loss: 0.8967\n",
      "Epoch 10/50\n",
      "1000209/1000209 [==============================] - 20s 20us/step - loss: 0.8925\n",
      "Epoch 11/50\n",
      "1000209/1000209 [==============================] - 21s 21us/step - loss: 0.8872\n",
      "Epoch 12/50\n",
      "1000209/1000209 [==============================] - 21s 21us/step - loss: 0.8831\n",
      "Epoch 13/50\n",
      "1000209/1000209 [==============================] - 25s 25us/step - loss: 0.8808\n",
      "Epoch 14/50\n",
      "1000209/1000209 [==============================] - 23s 23us/step - loss: 0.8769\n",
      "Epoch 15/50\n",
      "1000209/1000209 [==============================] - 22s 22us/step - loss: 0.8750\n",
      "Epoch 16/50\n",
      "1000209/1000209 [==============================] - 20s 20us/step - loss: 0.8706\n",
      "Epoch 17/50\n",
      "1000209/1000209 [==============================] - 20s 20us/step - loss: 0.8695 \n",
      "Epoch 18/50\n",
      "1000209/1000209 [==============================] - 21s 21us/step - loss: 0.8675\n",
      "Epoch 19/50\n",
      "1000209/1000209 [==============================] - 20s 20us/step - loss: 0.8640\n",
      "Epoch 20/50\n",
      "1000209/1000209 [==============================] - 21s 21us/step - loss: 0.8620\n",
      "Epoch 21/50\n",
      "1000209/1000209 [==============================] - 22s 22us/step - loss: 0.8605\n",
      "Epoch 22/50\n",
      "1000209/1000209 [==============================] - 21s 21us/step - loss: 0.8586 0s - loss: 0.\n",
      "Epoch 23/50\n",
      "1000209/1000209 [==============================] - 22s 22us/step - loss: 0.8567\n",
      "Epoch 24/50\n",
      "1000209/1000209 [==============================] - 20s 20us/step - loss: 0.8549\n",
      "Epoch 25/50\n",
      "1000209/1000209 [==============================] - 23s 23us/step - loss: 0.8519\n",
      "Epoch 26/50\n",
      "1000209/1000209 [==============================] - 19s 19us/step - loss: 0.8518\n",
      "Epoch 27/50\n",
      "1000209/1000209 [==============================] - 19s 19us/step - loss: 0.8496\n",
      "Epoch 28/50\n",
      "1000209/1000209 [==============================] - 20s 20us/step - loss: 0.8484\n",
      "Epoch 29/50\n",
      "1000209/1000209 [==============================] - 20s 20us/step - loss: 0.8462\n",
      "Epoch 30/50\n",
      "1000209/1000209 [==============================] - 19s 19us/step - loss: 0.8443\n",
      "Epoch 31/50\n",
      "1000209/1000209 [==============================] - 19s 19us/step - loss: 0.8439\n",
      "Epoch 32/50\n",
      "1000209/1000209 [==============================] - 19s 19us/step - loss: 0.8427\n",
      "Epoch 33/50\n",
      "1000209/1000209 [==============================] - 20s 20us/step - loss: 0.8396\n",
      "Epoch 34/50\n",
      "1000209/1000209 [==============================] - 19s 19us/step - loss: 0.8390\n",
      "Epoch 35/50\n",
      "1000209/1000209 [==============================] - 20s 20us/step - loss: 0.8369\n",
      "Epoch 36/50\n",
      "1000209/1000209 [==============================] - 19s 19us/step - loss: 0.8356\n",
      "Epoch 37/50\n",
      "1000209/1000209 [==============================] - 19s 19us/step - loss: 0.8355\n",
      "Epoch 38/50\n",
      "1000209/1000209 [==============================] - 20s 20us/step - loss: 0.8333\n",
      "Epoch 39/50\n",
      "1000209/1000209 [==============================] - 19s 19us/step - loss: 0.8324\n",
      "Epoch 40/50\n",
      "1000209/1000209 [==============================] - 19s 19us/step - loss: 0.8324\n",
      "Epoch 41/50\n",
      "1000209/1000209 [==============================] - 20s 20us/step - loss: 0.8302\n",
      "Epoch 42/50\n",
      "1000209/1000209 [==============================] - 20s 20us/step - loss: 0.8284\n",
      "Epoch 43/50\n",
      "1000209/1000209 [==============================] - 21s 21us/step - loss: 0.8275\n",
      "Epoch 44/50\n",
      "1000209/1000209 [==============================] - 22s 22us/step - loss: 0.8258 0s - l\n",
      "Epoch 45/50\n",
      "1000209/1000209 [==============================] - 20s 20us/step - loss: 0.8265\n",
      "Epoch 46/50\n",
      "1000209/1000209 [==============================] - 21s 21us/step - loss: 0.8252\n",
      "Epoch 47/50\n",
      "1000209/1000209 [==============================] - 20s 20us/step - loss: 0.8238\n",
      "Epoch 48/50\n",
      "1000209/1000209 [==============================] - 21s 21us/step - loss: 0.8235\n",
      "Epoch 49/50\n",
      "1000209/1000209 [==============================] - 20s 20us/step - loss: 0.8212\n",
      "Epoch 50/50\n",
      "1000209/1000209 [==============================] - 21s 21us/step - loss: 0.8207\n"
     ]
    },
    {
     "data": {
      "text/plain": [
       "<keras.callbacks.History at 0x2bb289b94a8>"
      ]
     },
     "execution_count": 15,
     "metadata": {},
     "output_type": "execute_result"
    }
   ],
   "source": [
    "model.fit(X_train, y_train, batch_size = 1000, epochs = 50)"
   ]
  },
  {
   "cell_type": "code",
   "execution_count": 16,
   "metadata": {},
   "outputs": [
    {
     "name": "stdout",
     "output_type": "stream",
     "text": [
      "1000209/1000209 [==============================] - 33s 33us/step\n",
      "0.682069986752\n"
     ]
    }
   ],
   "source": [
    "i,j = 10,99\n",
    "pred = model.predict([np.array([users[i]]), np.array([movies[j]])])\n",
    "\n",
    "mse = model.evaluate(x=X_train, y=y_train, batch_size=128)\n",
    "print(mse)"
   ]
  }
 ],
 "metadata": {
  "kernelspec": {
   "display_name": "Python 3",
   "language": "python",
   "name": "python3"
  },
  "language_info": {
   "codemirror_mode": {
    "name": "ipython",
    "version": 3
   },
   "file_extension": ".py",
   "mimetype": "text/x-python",
   "name": "python",
   "nbconvert_exporter": "python",
   "pygments_lexer": "ipython3",
   "version": "3.6.4"
  }
 },
 "nbformat": 4,
 "nbformat_minor": 2
}
