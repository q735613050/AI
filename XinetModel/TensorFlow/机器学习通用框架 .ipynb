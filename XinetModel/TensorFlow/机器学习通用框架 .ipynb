{
 "cells": [
  {
   "cell_type": "markdown",
   "metadata": {},
   "source": [
    "```py\n",
    "import tensorflow as tf\n",
    "\n",
    "# ----------------------\n",
    "# 初始化变量和模型参数，定义训练闭环中的运算\n",
    "\n",
    "def inference(X):\n",
    "    '''\n",
    "    计算推断模型在数据 X 上的输出，并将结果返回\n",
    "    '''\n",
    "    pass\n",
    "\n",
    "def loss(X, Y):\n",
    "    '''\n",
    "    依据训练数据 X 及其期望输出 Y 计算损失\n",
    "    '''\n",
    "    pass\n",
    "\n",
    "def inputs():\n",
    "    '''\n",
    "    读取或生成训练数据 X 及其期望输出 Y \n",
    "    '''\n",
    "    pass\n",
    "    #return X, Y\n",
    "\n",
    "def train(total_loss):\n",
    "    '''\n",
    "    依据计算的总损失训练或调整模型参数\n",
    "    '''\n",
    "    pass\n",
    "\n",
    "def evaluate(sess, X, Y):\n",
    "    '''\n",
    "    对训练得到的模型进行评估\n",
    "    '''\n",
    "    pass\n",
    "\n",
    "# -----------------------------------------------------\n",
    "#  在一个 Session 中启动数据流图，搭建流程\n",
    "\n",
    "g = tf.Graph()\n",
    "saver = tf.train.Saver()  # 保存模型的训练检查点\n",
    "\n",
    "with tf.Session(graph=g) as sess:\n",
    "    tf.global_variables_initializer()\n",
    "    \n",
    "    X, Y = inputs()\n",
    "    total_loss = loss(X, Y)\n",
    "    train_op train(total_loss)\n",
    "    \n",
    "    coord = tf.train.Coordinator()\n",
    "    threads = tf.train.start_queue_runners(sess=sess, coord=coord)\n",
    "    \n",
    "    # 实际的训练次数\n",
    "    training_steps = 1000\n",
    "    for step in range(training_steps):\n",
    "        sess.run([train_op])\n",
    "        \n",
    "        if step % 10 == 0\n",
    "            print('Loss: ', sess.run([total_loss]))\n",
    "            \n",
    "        if step % 1000 == 0:\n",
    "            saver.save(sess, 'my model', global_step = step)\n",
    "    \n",
    "    # 模型评估\n",
    "    evaluate(sess, X, Y)\n",
    "    \n",
    "    coord.request_stop()\n",
    "    coord.join(threads)\n",
    "    \n",
    "    # 保存训练检查点\n",
    "    saver.save(sess, 'my model', global_step = training_steps)\n",
    "    \n",
    "# ----------------------\n",
    "# 从某个检查点恢复训练\n",
    "\n",
    "with tf.Session(graph=g):\n",
    "    # 模型设置。。。。。。\n",
    "    initial_step = 0\n",
    "    \n",
    "    # 验证之前是否已经保存了检查点文件\n",
    "    ckpt = tf.train.get_checkpoint_state(path)\n",
    "    if ckpt and ckpt.model_checkpoint_path:\n",
    "        # 从检查点恢复模型参数\n",
    "        saver.restore(sess, ckpt.model_checkpoint_path)\n",
    "        init_step = int(ckpt.model_checkpoint_path.rsplit('-', 1)[1])\n",
    "        \n",
    "    # 实际的训练闭环\n",
    "    for step in range(init_step, training_steps):\n",
    "        ......\n",
    "```\n",
    "\n",
    "`tf.gradients` 可以用来求导。"
   ]
  }
 ],
 "metadata": {
  "kernelspec": {
   "display_name": "Python [conda env:Anaconda3]",
   "language": "python",
   "name": "conda-env-Anaconda3-py"
  },
  "language_info": {
   "codemirror_mode": {
    "name": "ipython",
    "version": 3
   },
   "file_extension": ".py",
   "mimetype": "text/x-python",
   "name": "python",
   "nbconvert_exporter": "python",
   "pygments_lexer": "ipython3",
   "version": "3.6.5"
  },
  "latex_envs": {
   "LaTeX_envs_menu_present": true,
   "autoclose": false,
   "autocomplete": true,
   "bibliofile": "biblio.bib",
   "cite_by": "apalike",
   "current_citInitial": 1,
   "eqLabelWithNumbers": true,
   "eqNumInitial": 1,
   "hotkeys": {
    "equation": "Ctrl-E",
    "itemize": "Ctrl-I"
   },
   "labels_anchors": false,
   "latex_user_defs": false,
   "report_style_numbering": false,
   "user_envs_cfg": false
  },
  "nbTranslate": {
   "displayLangs": [
    "*"
   ],
   "hotkey": "alt-t",
   "langInMainMenu": true,
   "sourceLang": "en",
   "targetLang": "fr",
   "useGoogleTranslate": true
  },
  "toc": {
   "base_numbering": 1,
   "nav_menu": {},
   "number_sections": true,
   "sideBar": true,
   "skip_h1_title": false,
   "title_cell": "Table of Contents",
   "title_sidebar": "Contents",
   "toc_cell": false,
   "toc_position": {},
   "toc_section_display": true,
   "toc_window_display": false
  },
  "varInspector": {
   "cols": {
    "lenName": 16,
    "lenType": 16,
    "lenVar": 40
   },
   "kernels_config": {
    "python": {
     "delete_cmd_postfix": "",
     "delete_cmd_prefix": "del ",
     "library": "var_list.py",
     "varRefreshCmd": "print(var_dic_list())"
    },
    "r": {
     "delete_cmd_postfix": ") ",
     "delete_cmd_prefix": "rm(",
     "library": "var_list.r",
     "varRefreshCmd": "cat(var_dic_list()) "
    }
   },
   "types_to_exclude": [
    "module",
    "function",
    "builtin_function_or_method",
    "instance",
    "_Feature"
   ],
   "window_display": false
  }
 },
 "nbformat": 4,
 "nbformat_minor": 2
}
