{
 "cells": [
  {
   "cell_type": "markdown",
   "metadata": {},
   "source": [
    "- TensorFlow 中文主页: https://tensorflow.google.cn/\n",
    "\n",
    "下面主要介绍 [Low Level APIs](https://tensorflow.google.cn/guide/low_level_intro)：\n",
    "\n",
    "## TensorFlow Core Walkthrough\n",
    "\n",
    "一般地，TensorFlow 编程由以下两个独立的部分组成：\n",
    "\n",
    "- 通过 `tf.Graph` 建立计算图 (Building the computational graph (a `tf.Graph`).)\n",
    "- 使用 `tf.Session` 运行计算图(Running the computational graph (using a `tf.Session`).)"
   ]
  },
  {
   "cell_type": "code",
   "execution_count": 2,
   "metadata": {
    "ExecuteTime": {
     "end_time": "2018-10-08T13:52:04.894775Z",
     "start_time": "2018-10-08T13:52:04.890786Z"
    }
   },
   "outputs": [],
   "source": [
    "import numpy as np\n",
    "import tensorflow as tf"
   ]
  },
  {
   "cell_type": "markdown",
   "metadata": {},
   "source": [
    "## Graph 与 Session\n",
    "\n",
    "A computational graph is a series of TensorFlow operations arranged into a graph. The graph is composed of two types of objects.\n",
    "\n",
    "- `tf.Operation` (or \"ops\"): The nodes of the graph. Operations describe calculations that consume and produce tensors.\n",
    "- `tf.Tensor`: The edges in the graph. These represent the values that will flow through the graph. Most TensorFlow functions return tf.Tensors.\n",
    "\n",
    "计算图是由一系列 TensorFlow 的运算 (ops) 按照一定的顺序排列构成的。在一个 `tf.Graph` 中包含两种类型的对象：\n",
    "\n",
    "- `tf.Operation` (or \"ops\"): 图的节点（nodes）. 节点描述了如何 对 Tensor 的输入和输出进行计算；\n",
    "- `tf.Tensor`: 图的边（edges）. 边代表了流经计算图的值。\n",
    "\n",
    "大多数 TensorFlow 函数均返回 `tf.Tensors`.\n",
    "\n",
    "**重要: `tf.Tensors` 并不存储 values, 而它仅仅是处理计算图中元素的一个 handle.**"
   ]
  },
  {
   "cell_type": "code",
   "execution_count": 4,
   "metadata": {
    "ExecuteTime": {
     "end_time": "2018-10-08T14:19:52.846743Z",
     "start_time": "2018-10-08T14:19:52.790920Z"
    }
   },
   "outputs": [
    {
     "name": "stdout",
     "output_type": "stream",
     "text": [
      "Tensor(\"Const:0\", shape=(), dtype=float32)\n",
      "Tensor(\"Const_1:0\", shape=(), dtype=float32)\n",
      "Tensor(\"add:0\", shape=(), dtype=float32)\n"
     ]
    }
   ],
   "source": [
    "a = tf.constant(3.0, dtype=tf.float32)\n",
    "b = tf.constant(4.0)  # also tf.float32 implicitly\n",
    "total = a + b\n",
    "print(a)\n",
    "print(b)\n",
    "print(total)"
   ]
  },
  {
   "cell_type": "markdown",
   "metadata": {},
   "source": [
    "上面说的不是很好理解，我说下自己的理解：\n",
    "\n",
    "- `tf.Tensor` 可以理解为一个符号，比如数学中的未知元 $x$ (仅仅是一个**代表**, 它可以是数组，字符串等)\n",
    "- `tf.Operation` 可以理解为 $x$ 的方程，比如 $x^7 + 3x^5 + 1$ (只要你可以定义一个合理的运算规则, 若 $x$ 是字符串，该方程也可能成立)\n",
    "\n",
    "比如，当你传入 $x=1$，则会输出运算的结果 $x^7 + 3x^5 + 1 = 10$；当没有值传递给 $x$ 时，它们仅仅是一串符号而已。\n",
    "\n",
    "换句话说，`tf.Graph` 是一个定义了各种 `tf.Tensor` 的依赖关系 (`tf.Operation`) 抽象计算图，而 `tf.Session` 可以看作是 `tf.Graph` 的一个实例（具象化）。\n",
    "\n",
    "## Datasets\n",
    "\n",
    "对于一些简单的实验，使用 `tf.placeholder` 即可 feed 数据。但是，对于数据量比较大或者实验比较复杂，则使用迭代器是一个很好的选择：\n",
    "\n",
    "- To get a runnable `tf.Tensor` from a Dataset you must first convert it to a `tf.data.Iterator`, and then call the Iterator's `tf.data.Iterator.get_next` method.\n",
    "\n",
    "- The simplest way to create an Iterator is with the `tf.data.Dataset.make_one_shot_iterator` method. For example, in the following code the next_item tensor will return a row from the my_data array on each run call:"
   ]
  },
  {
   "cell_type": "code",
   "execution_count": 6,
   "metadata": {
    "ExecuteTime": {
     "end_time": "2018-10-08T15:03:46.342478Z",
     "start_time": "2018-10-08T15:03:46.301591Z"
    }
   },
   "outputs": [],
   "source": [
    "my_data = [\n",
    "    [0, 1, ],\n",
    "    [2, 3, ],\n",
    "    [4, 5, ],\n",
    "    [6, 7, ],\n",
    "]\n",
    "slices = tf.data.Dataset.from_tensor_slices(my_data)\n",
    "next_item = slices.make_one_shot_iterator().get_next()"
   ]
  },
  {
   "cell_type": "code",
   "execution_count": 7,
   "metadata": {
    "ExecuteTime": {
     "end_time": "2018-10-08T15:03:55.568686Z",
     "start_time": "2018-10-08T15:03:55.563698Z"
    }
   },
   "outputs": [
    {
     "data": {
      "text/plain": [
       "<tf.Tensor 'IteratorGetNext:0' shape=(2,) dtype=int32>"
      ]
     },
     "execution_count": 7,
     "metadata": {},
     "output_type": "execute_result"
    }
   ],
   "source": [
    "next_item"
   ]
  },
  {
   "cell_type": "markdown",
   "metadata": {},
   "source": [
    "注意，当此迭代器 Costume 尽所有数据时，你再运行 `.get_next()` 会报错，为此，TensorFlow 提供了一个异常处理机制：` tf.errors.OutOfRangeError`, 下面是一个使用的例子：\n",
    "\n",
    "```python\n",
    "while True:\n",
    "    try:\n",
    "        print(sess.run(next_item))\n",
    "    except tf.errors.OutOfRangeError:\n",
    "        break\n",
    "```\n",
    "\n",
    "如果 Dataset 依赖于节点的状态，那么你需要在使用迭代器之前对其进行初始化：\n",
    "\n",
    "```py\n",
    "r = tf.random_normal([10, 3])\n",
    "dataset = tf.data.Dataset.from_tensor_slices(r)\n",
    "iterator = dataset.make_initializable_iterator()\n",
    "next_row = iterator.get_next()\n",
    "\n",
    "sess.run(iterator.initializer)\n",
    "while True:\n",
    "    try:\n",
    "        print(sess.run(next_row))\n",
    "    except tf.errors.OutOfRangeError:\n",
    "        break\n",
    "```\n",
    "\n",
    "详细见[datasets](https://tensorflow.google.cn/guide/datasets)\n",
    "\n",
    "## Layers\n",
    "\n",
    "使用 [`tf.layers`](https://tensorflow.google.cn/api_docs/python/tf/layers) 将需要训练的参数投入到计算图中是一个很好的选择。\n",
    "\n",
    "下面我们使用 `tf.layers` 创建一个线性模型："
   ]
  },
  {
   "cell_type": "code",
   "execution_count": 8,
   "metadata": {
    "ExecuteTime": {
     "end_time": "2018-10-08T15:23:55.745082Z",
     "start_time": "2018-10-08T15:23:55.481816Z"
    },
    "scrolled": true
   },
   "outputs": [
    {
     "name": "stdout",
     "output_type": "stream",
     "text": [
      "2.915727\n",
      "2.0932546\n",
      "1.5221393\n",
      "1.1254379\n",
      "0.84976107\n",
      "0.6580632\n",
      "0.524639\n",
      "0.43165198\n",
      "0.36672604\n",
      "0.32127345\n",
      "0.28933543\n",
      "0.26677722\n",
      "0.2507299\n",
      "0.2392027\n",
      "0.2308142\n",
      "0.224606\n",
      "0.21991292\n",
      "0.21627343\n",
      "0.21336734\n",
      "0.21097241\n",
      "0.20893447\n",
      "0.20714638\n",
      "0.20553397\n",
      "0.20404565\n",
      "0.20264567\n",
      "0.20130913\n",
      "0.20001884\n",
      "0.19876285\n",
      "0.19753277\n",
      "0.19632277\n",
      "0.19512892\n",
      "0.19394833\n",
      "0.19277908\n",
      "0.19161972\n",
      "0.19046944\n",
      "0.1893274\n",
      "0.18819323\n",
      "0.18706644\n",
      "0.18594694\n",
      "0.18483445\n",
      "0.18372881\n",
      "0.18263\n",
      "0.18153784\n",
      "0.18045224\n",
      "0.17937325\n",
      "0.17830072\n",
      "0.17723463\n",
      "0.17617494\n",
      "0.17512155\n",
      "0.17407453\n",
      "0.17303377\n",
      "0.17199922\n",
      "0.17097089\n",
      "0.16994862\n",
      "0.16893259\n",
      "0.1679225\n",
      "0.16691852\n",
      "0.16592054\n",
      "0.16492856\n",
      "0.16394243\n",
      "0.16296226\n",
      "0.16198795\n",
      "0.16101941\n",
      "0.16005675\n",
      "0.15909976\n",
      "0.15814856\n",
      "0.15720297\n",
      "0.15626311\n",
      "0.15532887\n",
      "0.15440014\n",
      "0.15347703\n",
      "0.1525594\n",
      "0.15164725\n",
      "0.1507406\n",
      "0.14983936\n",
      "0.1489435\n",
      "0.14805298\n",
      "0.14716777\n",
      "0.1462879\n",
      "0.14541325\n",
      "0.14454384\n",
      "0.14367963\n",
      "0.14282064\n",
      "0.14196673\n",
      "0.1411179\n",
      "0.1402742\n",
      "0.1394355\n",
      "0.13860185\n",
      "0.13777319\n",
      "0.13694946\n",
      "0.13613066\n",
      "0.13531674\n",
      "0.1345077\n",
      "0.13370353\n",
      "0.13290411\n",
      "0.13210952\n",
      "0.13131963\n",
      "0.13053448\n",
      "0.12975407\n",
      "0.12897828\n",
      "[[-0.5781567]\n",
      " [-1.2801565]\n",
      " [-1.9821564]\n",
      " [-2.684156 ]]\n"
     ]
    }
   ],
   "source": [
    "x = tf.constant([[1], [2], [3], [4]], dtype=tf.float32)\n",
    "y_true = tf.constant([[0], [-1], [-2], [-3]], dtype=tf.float32)\n",
    "\n",
    "linear_model = tf.layers.Dense(units=1)\n",
    "\n",
    "y_pred = linear_model(x)\n",
    "loss = tf.losses.mean_squared_error(labels=y_true, predictions=y_pred)\n",
    "\n",
    "optimizer = tf.train.GradientDescentOptimizer(0.01)\n",
    "train = optimizer.minimize(loss)\n",
    "\n",
    "init = tf.global_variables_initializer()\n",
    "\n",
    "sess = tf.Session()\n",
    "sess.run(init)\n",
    "for i in range(100):\n",
    "    _, loss_value = sess.run((train, loss))\n",
    "    print(loss_value)\n",
    "\n",
    "print(sess.run(y_pred))"
   ]
  },
  {
   "cell_type": "code",
   "execution_count": null,
   "metadata": {},
   "outputs": [],
   "source": []
  }
 ],
 "metadata": {
  "kernelspec": {
   "display_name": "Python [conda root]",
   "language": "python",
   "name": "conda-root-py"
  },
  "language_info": {
   "codemirror_mode": {
    "name": "ipython",
    "version": 3
   },
   "file_extension": ".py",
   "mimetype": "text/x-python",
   "name": "python",
   "nbconvert_exporter": "python",
   "pygments_lexer": "ipython3",
   "version": "3.6.5"
  },
  "latex_envs": {
   "LaTeX_envs_menu_present": true,
   "autoclose": false,
   "autocomplete": true,
   "bibliofile": "biblio.bib",
   "cite_by": "apalike",
   "current_citInitial": 1,
   "eqLabelWithNumbers": true,
   "eqNumInitial": 1,
   "hotkeys": {
    "equation": "Ctrl-E",
    "itemize": "Ctrl-I"
   },
   "labels_anchors": false,
   "latex_user_defs": false,
   "report_style_numbering": false,
   "user_envs_cfg": false
  },
  "nbTranslate": {
   "displayLangs": [
    "*"
   ],
   "hotkey": "alt-t",
   "langInMainMenu": true,
   "sourceLang": "en",
   "targetLang": "fr",
   "useGoogleTranslate": true
  },
  "toc": {
   "base_numbering": 1,
   "nav_menu": {},
   "number_sections": true,
   "sideBar": true,
   "skip_h1_title": false,
   "title_cell": "Table of Contents",
   "title_sidebar": "Contents",
   "toc_cell": false,
   "toc_position": {},
   "toc_section_display": true,
   "toc_window_display": false
  },
  "varInspector": {
   "cols": {
    "lenName": 16,
    "lenType": 16,
    "lenVar": 40
   },
   "kernels_config": {
    "python": {
     "delete_cmd_postfix": "",
     "delete_cmd_prefix": "del ",
     "library": "var_list.py",
     "varRefreshCmd": "print(var_dic_list())"
    },
    "r": {
     "delete_cmd_postfix": ") ",
     "delete_cmd_prefix": "rm(",
     "library": "var_list.r",
     "varRefreshCmd": "cat(var_dic_list()) "
    }
   },
   "types_to_exclude": [
    "module",
    "function",
    "builtin_function_or_method",
    "instance",
    "_Feature"
   ],
   "window_display": false
  }
 },
 "nbformat": 4,
 "nbformat_minor": 2
}
