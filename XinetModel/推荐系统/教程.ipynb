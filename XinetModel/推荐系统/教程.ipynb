{
 "cells": [
  {
   "cell_type": "markdown",
   "metadata": {},
   "source": [
    "# [Python推荐系统库——`Surprise`](https://blog.csdn.net/mycafe_/article/details/79146764)\n",
    "\n",
    "- 官方网站：http://surpriselib.com/"
   ]
  },
  {
   "cell_type": "code",
   "execution_count": 2,
   "metadata": {
    "scrolled": true
   },
   "outputs": [
    {
     "name": "stdout",
     "output_type": "stream",
     "text": [
      "Dataset ml-100k could not be found. Do you want to download it? [Y/n] y\n",
      "Trying to download dataset from http://files.grouplens.org/datasets/movielens/ml-100k.zip...\n",
      "Done! Dataset ml-100k has been saved to C:\\Users\\q7356/.surprise_data/ml-100k\n",
      "Evaluating RMSE, MAE of algorithm SVD on 5 split(s).\n",
      "\n",
      "                  Fold 1  Fold 2  Fold 3  Fold 4  Fold 5  Mean    Std     \n",
      "RMSE (testset)    0.9399  0.9324  0.9392  0.9274  0.9329  0.9344  0.0046  \n",
      "MAE (testset)     0.7416  0.7341  0.7406  0.7336  0.7322  0.7364  0.0039  \n",
      "Fit time          8.40    8.49    8.75    8.66    8.87    8.64    0.17    \n",
      "Test time         0.57    0.25    0.33    0.25    0.29    0.34    0.12    \n"
     ]
    },
    {
     "data": {
      "text/plain": [
       "{'fit_time': (8.395996332168579,\n",
       "  8.493998527526855,\n",
       "  8.751997947692871,\n",
       "  8.664016008377075,\n",
       "  8.873999118804932),\n",
       " 'test_mae': array([ 0.74156402,  0.73412141,  0.74062012,  0.73358096,  0.73217815]),\n",
       " 'test_rmse': array([ 0.93994054,  0.93237038,  0.93915464,  0.92744347,  0.93292899]),\n",
       " 'test_time': (0.5650033950805664,\n",
       "  0.24899983406066895,\n",
       "  0.332003116607666,\n",
       "  0.25298380851745605,\n",
       "  0.2869987487792969)}"
      ]
     },
     "execution_count": 2,
     "metadata": {},
     "output_type": "execute_result"
    }
   ],
   "source": [
    "from surprise import SVD\n",
    "from surprise import Dataset\n",
    "from surprise.model_selection import cross_validate\n",
    "\n",
    "# Load the movielens-100k dataset (download it if needed).\n",
    "data = Dataset.load_builtin('ml-100k')\n",
    "\n",
    "# Use the famous SVD algorithm.\n",
    "algo = SVD()\n",
    "\n",
    "# Run 5-fold cross-validation and print results.\n",
    "cross_validate(algo, data, measures=['RMSE', 'MAE'], cv=5, verbose=True)"
   ]
  },
  {
   "cell_type": "markdown",
   "metadata": {},
   "source": [
    "## [教程](http://surprise.readthedocs.io/en/stable/getting_started.html)\n",
    "\n",
    "任何推荐系统本质上都是在做排序问题。"
   ]
  },
  {
   "cell_type": "code",
   "execution_count": null,
   "metadata": {},
   "outputs": [],
   "source": []
  }
 ],
 "metadata": {
  "kernelspec": {
   "display_name": "Python 3",
   "language": "python",
   "name": "python3"
  },
  "language_info": {
   "codemirror_mode": {
    "name": "ipython",
    "version": 3
   },
   "file_extension": ".py",
   "mimetype": "text/x-python",
   "name": "python",
   "nbconvert_exporter": "python",
   "pygments_lexer": "ipython3",
   "version": "3.6.4"
  }
 },
 "nbformat": 4,
 "nbformat_minor": 2
}
