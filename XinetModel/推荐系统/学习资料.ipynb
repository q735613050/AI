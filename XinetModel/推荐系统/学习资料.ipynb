{
 "cells": [
  {
   "cell_type": "markdown",
   "metadata": {},
   "source": [
    "- [推荐系统总结MF->PMF->CTR->CDL->CNN](https://blog.csdn.net/lmm6895071/article/details/75688936)\n",
    "- [深度学习在推荐系统上的运用，具体用了卷积神经网络（CNN）提取文本特征，融合PMF模型进行推荐](https://blog.csdn.net/meyh0x5vDTk48P2/article/details/79923625)\n",
    "- [推荐系统中基于深度学习的混合协同过滤模型](https://zhuanlan.zhihu.com/p/25234865)\n",
    "- [受限玻尔兹曼机与推荐系统](https://www.cnblogs.com/zyber/p/8279643.html)\n",
    "- [卷积神经网络(CNN)融合PMF模型构建推荐系统](http://www.sohu.com/a/228117241_609569)\n",
    "- [解密深度学习在智能推荐系统的实践与应用](https://www.zybuluo.com/Frankchen/note/338775)"
   ]
  },
  {
   "cell_type": "code",
   "execution_count": null,
   "metadata": {},
   "outputs": [],
   "source": []
  }
 ],
 "metadata": {
  "kernelspec": {
   "display_name": "Python 3",
   "language": "python",
   "name": "python3"
  },
  "language_info": {
   "codemirror_mode": {
    "name": "ipython",
    "version": 3
   },
   "file_extension": ".py",
   "mimetype": "text/x-python",
   "name": "python",
   "nbconvert_exporter": "python",
   "pygments_lexer": "ipython3",
   "version": "3.6.4"
  }
 },
 "nbformat": 4,
 "nbformat_minor": 2
}
