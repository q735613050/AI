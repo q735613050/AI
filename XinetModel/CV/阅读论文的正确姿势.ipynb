{
 "cells": [
  {
   "cell_type": "markdown",
   "metadata": {},
   "source": [
    "- [给正在读论文的你：如何高效阅读文献？](http://itech.ifeng.com/yidian/44905203/news.shtml?ch=ref_zbs_ydzx_news&yidian_docid=0IX3IV3l&yidian_s=9&yidian_appid=yidian)\n",
    "\n",
    "- [有没有比sci-hub更好用的论文下载平台？](https://zhuanlan.zhihu.com/p/36690564)\n",
    "    - https://lunwen.im/"
   ]
  },
  {
   "cell_type": "code",
   "execution_count": null,
   "metadata": {},
   "outputs": [],
   "source": []
  }
 ],
 "metadata": {
  "kernelspec": {
   "display_name": "Python 3",
   "language": "python",
   "name": "python3"
  },
  "language_info": {
   "codemirror_mode": {
    "name": "ipython",
    "version": 3
   },
   "file_extension": ".py",
   "mimetype": "text/x-python",
   "name": "python",
   "nbconvert_exporter": "python",
   "pygments_lexer": "ipython3",
   "version": "3.6.4"
  }
 },
 "nbformat": 4,
 "nbformat_minor": 2
}
