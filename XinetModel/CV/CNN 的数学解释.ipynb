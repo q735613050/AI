{
 "cells": [
  {
   "cell_type": "markdown",
   "metadata": {},
   "source": [
    "# 卷积神经网络的数学解释\n",
    "\n",
    "- [Conv Nets: A Modular Perspective](http://colah.github.io/posts/2014-07-Conv-Nets-Modular/)\n",
    "- [Understanding Convolutions](http://colah.github.io/posts/2014-07-Understanding-Convolutions/)\n",
    "- [Groups & Group Convolutions](http://colah.github.io/posts/2014-12-Groups-Convolution/)\n",
    "- [A Tutorial on Filter Groups (Grouped Convolution)](https://blog.yani.io/filter-group-tutorial/)"
   ]
  },
  {
   "cell_type": "markdown",
   "metadata": {},
   "source": [
    "![](http://static.zybuluo.com/xinet/39w204x9tczffv1bsm5ehiux/image_1ceilmthn9nmbd4vpg1kpet6011.png)\n",
    "\n",
    "![](http://static.zybuluo.com/xinet/an0t7oqdgg8yw9u0kwx0a16a/Conv-9-Conv2Max2Conv2%5B1%5D.png)"
   ]
  },
  {
   "cell_type": "code",
   "execution_count": null,
   "metadata": {},
   "outputs": [],
   "source": []
  }
 ],
 "metadata": {
  "kernelspec": {
   "display_name": "Python 3",
   "language": "python",
   "name": "python3"
  },
  "language_info": {
   "codemirror_mode": {
    "name": "ipython",
    "version": 3
   },
   "file_extension": ".py",
   "mimetype": "text/x-python",
   "name": "python",
   "nbconvert_exporter": "python",
   "pygments_lexer": "ipython3",
   "version": "3.6.4"
  }
 },
 "nbformat": 4,
 "nbformat_minor": 2
}
