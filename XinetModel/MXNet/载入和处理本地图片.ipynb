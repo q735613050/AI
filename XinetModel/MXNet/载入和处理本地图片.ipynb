{
 "cells": [
  {
   "cell_type": "code",
   "execution_count": 1,
   "metadata": {
    "ExecuteTime": {
     "end_time": "2018-05-10T12:30:48.662652Z",
     "start_time": "2018-05-10T12:30:30.081338Z"
    }
   },
   "outputs": [
    {
     "data": {
      "text/plain": [
       "['E:\\\\Data\\\\Badidu\\\\datasets\\\\test.txt',\n",
       " 'E:\\\\Data\\\\Badidu\\\\datasets\\\\train.txt']"
      ]
     },
     "execution_count": 1,
     "metadata": {},
     "output_type": "execute_result"
    }
   ],
   "source": [
    "import sys \n",
    "sys.path.append('E:/xinlib')\n",
    "import xcv\n",
    "from xcv import XCV\n",
    "\n",
    "from mxnet import gluon, nd, autograd, image\n",
    "from mxnet.gluon import nn\n",
    "from gluoncv.model_zoo import get_model\n",
    "import mxnet as mx\n",
    "import numpy as np\n",
    "\n",
    "batch_size = 64\n",
    "    \n",
    "resize = 32\n",
    "prob = 0.5\n",
    "loader = XCV(batch_size, prob, resize)\n",
    "annotations = loader.unzip_lables()\n",
    "annotations"
   ]
  },
  {
   "cell_type": "code",
   "execution_count": 2,
   "metadata": {
    "ExecuteTime": {
     "end_time": "2018-05-10T12:30:48.694316Z",
     "start_time": "2018-05-10T12:30:48.668594Z"
    }
   },
   "outputs": [
    {
     "data": {
      "text/plain": [
       "100"
      ]
     },
     "execution_count": 2,
     "metadata": {},
     "output_type": "execute_result"
    }
   ],
   "source": [
    "_, n_class = loader.train_(annotations[1])\n",
    "n_class"
   ]
  },
  {
   "cell_type": "code",
   "execution_count": 3,
   "metadata": {
    "ExecuteTime": {
     "end_time": "2018-05-10T12:30:48.748272Z",
     "start_time": "2018-05-10T12:30:48.698367Z"
    }
   },
   "outputs": [],
   "source": [
    "class X(nn.HybridBlock):\n",
    "    '''\n",
    "    此网络有两个输出\n",
    "    '''\n",
    "    def __init__(self, n_class, **kwargs):\n",
    "        super().__init__(**kwargs)\n",
    "        self.n_class = n_class\n",
    "        \n",
    "        with self.name_scope():\n",
    "            self.features = get_model(\n",
    "                'cifar_wideresnet40_8', classes=10, pretrained=False).features[:6]\n",
    "            self.features.add(\n",
    "                nn.BatchNorm(axis=1),\n",
    "                nn.Activation(activation='relu'),\n",
    "                nn.Conv2D(channels=256, kernel_size=1, padding=0),\n",
    "\n",
    "                nn.BatchNorm(axis=1),\n",
    "                nn.Conv2D(channels=self.n_class, kernel_size=1, padding=0))\n",
    "            self.out = nn.HybridSequential()\n",
    "            self.out.add(\n",
    "                nn.GlobalAvgPool2D(),\n",
    "                nn.Flatten())\n",
    "            self.outimg = nn.HybridSequential(prefix='out_image')\n",
    "            self.outimg.add(\n",
    "                nn.BatchNorm(axis=1),\n",
    "                nn.Conv2D(channels=50, kernel_size=1, padding=0),\n",
    "                nn.Activation(activation='relu'),\n",
    "\n",
    "                nn.BatchNorm(axis=1),\n",
    "                nn.Conv2D(channels=3, kernel_size=1, padding=0),\n",
    "            )\n",
    "\n",
    "    def hybrid_forward(self, F, x):\n",
    "        x = self.features(x)\n",
    "        out = self.out(x)\n",
    "        imgout = self.outimg(x)\n",
    "        return out, imgout\n",
    "    \n",
    "net = X(n_class)"
   ]
  },
  {
   "cell_type": "code",
   "execution_count": 4,
   "metadata": {
    "ExecuteTime": {
     "end_time": "2018-05-10T12:30:48.774199Z",
     "start_time": "2018-05-10T12:30:48.759246Z"
    }
   },
   "outputs": [],
   "source": [
    "loader.transform_train = loader.transform_test"
   ]
  },
  {
   "cell_type": "code",
   "execution_count": 5,
   "metadata": {
    "ExecuteTime": {
     "end_time": "2018-05-10T12:31:58.558434Z",
     "start_time": "2018-05-10T12:30:48.778194Z"
    },
    "scrolled": true
   },
   "outputs": [
    {
     "name": "stderr",
     "output_type": "stream",
     "text": [
      "INFO:mxboard.event_file_writer:successfully opened events file: D:/logs/cross_entropy/x0\\events.out.tfevents.1525955458.Xinet\n",
      "INFO:mxboard.event_file_writer:wrote 1 event to disk\n",
      "INFO:mxboard.event_file_writer:wrote 1 event to disk\n",
      "INFO:mxboard.event_file_writer:successfully opened events file: D:/logs\\events.out.tfevents.1525955459.Xinet\n",
      "INFO:mxboard.event_file_writer:wrote 1 event to disk\n",
      "INFO:mxboard.event_file_writer:wrote 1 event to disk\n",
      "INFO:mxboard.event_file_writer:wrote 13 events to disk\n"
     ]
    },
    {
     "name": "stdout",
     "output_type": "stream",
     "text": [
      "[Epoch 0] Training: accuracy=0.0418502: 46.78872323036194 s"
     ]
    },
    {
     "name": "stderr",
     "output_type": "stream",
     "text": [
      "INFO:mxboard.event_file_writer:wrote 1 event to disk\n"
     ]
    },
    {
     "name": "stdout",
     "output_type": "stream",
     "text": [
      "\n"
     ]
    },
    {
     "name": "stderr",
     "output_type": "stream",
     "text": [
      "INFO:mxboard.event_file_writer:successfully opened events file: D:/logs/accuracy_curves/x0_train_acc\\events.out.tfevents.1525955495.Xinet\n",
      "INFO:mxboard.event_file_writer:wrote 1 event to disk\n",
      "INFO:mxboard.event_file_writer:wrote 1 event to disk\n"
     ]
    },
    {
     "name": "stdout",
     "output_type": "stream",
     "text": [
      "[Epoch 0] Validation: accuracy=0.00880411\n"
     ]
    },
    {
     "name": "stderr",
     "output_type": "stream",
     "text": [
      "INFO:mxboard.event_file_writer:successfully opened events file: D:/logs/accuracy_curves/x0_valid_acc\\events.out.tfevents.1525955517.Xinet\n",
      "INFO:mxboard.event_file_writer:wrote 1 event to disk\n",
      "INFO:mxboard.event_file_writer:wrote 1 event to disk\n",
      "INFO:mxboard.event_file_writer:wrote 8 events to disk\n"
     ]
    }
   ],
   "source": [
    "loader.train(annotations[1], net, 1)"
   ]
  },
  {
   "cell_type": "code",
   "execution_count": 6,
   "metadata": {
    "ExecuteTime": {
     "end_time": "2018-05-10T12:31:58.575357Z",
     "start_time": "2018-05-10T12:31:58.568342Z"
    }
   },
   "outputs": [],
   "source": [
    "import json\n",
    "\n",
    "def get_result():\n",
    "    with open('D:/logs/%s_scalar_dict.json'%net.name, encoding='utf-8') as f:\n",
    "        return json.load(f)"
   ]
  },
  {
   "cell_type": "code",
   "execution_count": 7,
   "metadata": {
    "ExecuteTime": {
     "end_time": "2018-05-10T12:31:58.591315Z",
     "start_time": "2018-05-10T12:31:58.578332Z"
    }
   },
   "outputs": [],
   "source": [
    "def get_params(net, k):\n",
    "    '''\n",
    "    k::模型参数的序号\n",
    "    '''\n",
    "    fname = loader.logdir + '/models/%s-%04d.params' % (net.name,k)\n",
    "    params = net.load_params(fname, ctx=loader.ctx) \n",
    "    return params"
   ]
  },
  {
   "cell_type": "code",
   "execution_count": 8,
   "metadata": {
    "ExecuteTime": {
     "end_time": "2018-05-10T12:31:59.623196Z",
     "start_time": "2018-05-10T12:31:58.599260Z"
    },
    "scrolled": true
   },
   "outputs": [
    {
     "ename": "AssertionError",
     "evalue": "Parameter 'cifarwideresnet0_batchnorm0_gamma' is missing in file 'D:/logs/models/x0-0000.params', which contains parameters: 'x0_x0_cifarwideresnet0_batchnorm0_gamma', 'x0_x0_cifarwideresnet0_batchnorm0_beta', 'x0_x0_cifarwideresnet0_batchnorm0_running_mean', ..., 'x0_x0_batchnorm3_running_mean', 'x0_x0_batchnorm3_running_var', 'x0_x0_conv3_weight', 'x0_x0_conv3_bias'. Please make sure source and target networks have the same prefix.",
     "output_type": "error",
     "traceback": [
      "\u001b[1;31m---------------------------------------------------------------------------\u001b[0m",
      "\u001b[1;31mAssertionError\u001b[0m                            Traceback (most recent call last)",
      "\u001b[1;32m<ipython-input-8-5cf3c1caf5e2>\u001b[0m in \u001b[0;36m<module>\u001b[1;34m()\u001b[0m\n\u001b[1;32m----> 1\u001b[1;33m \u001b[0mget_params\u001b[0m\u001b[1;33m(\u001b[0m\u001b[0mnet\u001b[0m\u001b[1;33m,\u001b[0m \u001b[1;36m0\u001b[0m\u001b[1;33m)\u001b[0m\u001b[1;33m\u001b[0m\u001b[0m\n\u001b[0m",
      "\u001b[1;32m<ipython-input-7-c112bb509afb>\u001b[0m in \u001b[0;36mget_params\u001b[1;34m(net, k)\u001b[0m\n\u001b[0;32m      4\u001b[0m     '''\n\u001b[0;32m      5\u001b[0m     \u001b[0mfname\u001b[0m \u001b[1;33m=\u001b[0m \u001b[0mloader\u001b[0m\u001b[1;33m.\u001b[0m\u001b[0mlogdir\u001b[0m \u001b[1;33m+\u001b[0m \u001b[1;34m'/models/%s-%04d.params'\u001b[0m \u001b[1;33m%\u001b[0m \u001b[1;33m(\u001b[0m\u001b[0mnet\u001b[0m\u001b[1;33m.\u001b[0m\u001b[0mname\u001b[0m\u001b[1;33m,\u001b[0m\u001b[0mk\u001b[0m\u001b[1;33m)\u001b[0m\u001b[1;33m\u001b[0m\u001b[0m\n\u001b[1;32m----> 6\u001b[1;33m     \u001b[0mparams\u001b[0m \u001b[1;33m=\u001b[0m \u001b[0mnet\u001b[0m\u001b[1;33m.\u001b[0m\u001b[0mload_params\u001b[0m\u001b[1;33m(\u001b[0m\u001b[0mfname\u001b[0m\u001b[1;33m,\u001b[0m \u001b[0mctx\u001b[0m\u001b[1;33m=\u001b[0m\u001b[0mloader\u001b[0m\u001b[1;33m.\u001b[0m\u001b[0mctx\u001b[0m\u001b[1;33m)\u001b[0m\u001b[1;33m\u001b[0m\u001b[0m\n\u001b[0m\u001b[0;32m      7\u001b[0m     \u001b[1;32mreturn\u001b[0m \u001b[0mparams\u001b[0m\u001b[1;33m\u001b[0m\u001b[0m\n",
      "\u001b[1;32mC:\\ProgramData\\Anaconda3\\lib\\site-packages\\mxnet\\gluon\\block.py\u001b[0m in \u001b[0;36mload_params\u001b[1;34m(self, filename, ctx, allow_missing, ignore_extra)\u001b[0m\n\u001b[0;32m    338\u001b[0m             \u001b[1;32mdel\u001b[0m \u001b[0mloaded\u001b[0m\u001b[1;33m\u001b[0m\u001b[0m\n\u001b[0;32m    339\u001b[0m             self.collect_params().load(\n\u001b[1;32m--> 340\u001b[1;33m                 filename, ctx, allow_missing, ignore_extra, self.prefix)\n\u001b[0m\u001b[0;32m    341\u001b[0m             \u001b[1;32mreturn\u001b[0m\u001b[1;33m\u001b[0m\u001b[0m\n\u001b[0;32m    342\u001b[0m \u001b[1;33m\u001b[0m\u001b[0m\n",
      "\u001b[1;32mC:\\ProgramData\\Anaconda3\\lib\\site-packages\\mxnet\\gluon\\parameter.py\u001b[0m in \u001b[0;36mload\u001b[1;34m(self, filename, ctx, allow_missing, ignore_extra, restore_prefix)\u001b[0m\n\u001b[0;32m    776\u001b[0m                     \u001b[1;34m\"Parameter '%s' is missing in file '%s', which contains parameters: %s. \"\u001b[0m\u001b[0;31m \u001b[0m\u001b[0;31m\\\u001b[0m\u001b[1;33m\u001b[0m\u001b[0m\n\u001b[0;32m    777\u001b[0m                     \"Please make sure source and target networks have the same prefix.\"%(\n\u001b[1;32m--> 778\u001b[1;33m                         name[lprefix:], filename, _brief_print_list(arg_dict.keys()))\n\u001b[0m\u001b[0;32m    779\u001b[0m         \u001b[1;32mfor\u001b[0m \u001b[0mname\u001b[0m \u001b[1;32min\u001b[0m \u001b[0marg_dict\u001b[0m\u001b[1;33m:\u001b[0m\u001b[1;33m\u001b[0m\u001b[0m\n\u001b[0;32m    780\u001b[0m             \u001b[1;32mif\u001b[0m \u001b[0mname\u001b[0m \u001b[1;32mnot\u001b[0m \u001b[1;32min\u001b[0m \u001b[0mself\u001b[0m\u001b[1;33m.\u001b[0m\u001b[0m_params\u001b[0m\u001b[1;33m:\u001b[0m\u001b[1;33m\u001b[0m\u001b[0m\n",
      "\u001b[1;31mAssertionError\u001b[0m: Parameter 'cifarwideresnet0_batchnorm0_gamma' is missing in file 'D:/logs/models/x0-0000.params', which contains parameters: 'x0_x0_cifarwideresnet0_batchnorm0_gamma', 'x0_x0_cifarwideresnet0_batchnorm0_beta', 'x0_x0_cifarwideresnet0_batchnorm0_running_mean', ..., 'x0_x0_batchnorm3_running_mean', 'x0_x0_batchnorm3_running_var', 'x0_x0_conv3_weight', 'x0_x0_conv3_bias'. Please make sure source and target networks have the same prefix."
     ]
    }
   ],
   "source": [
    "get_params(net, 0)"
   ]
  },
  {
   "cell_type": "code",
   "execution_count": 44,
   "metadata": {
    "ExecuteTime": {
     "end_time": "2018-05-10T13:57:50.682672Z",
     "start_time": "2018-05-10T13:57:50.676658Z"
    }
   },
   "outputs": [
    {
     "data": {
      "text/plain": [
       "0.0109375"
      ]
     },
     "execution_count": 44,
     "metadata": {},
     "output_type": "execute_result"
    }
   ],
   "source": [
    "a = 0.7\n",
    "b  = a * .25**3\n",
    "b"
   ]
  },
  {
   "cell_type": "code",
   "execution_count": 14,
   "metadata": {
    "ExecuteTime": {
     "end_time": "2018-05-10T13:54:24.236983Z",
     "start_time": "2018-05-10T13:54:24.230999Z"
    }
   },
   "outputs": [
    {
     "data": {
      "text/plain": [
       "0.22200000000000003"
      ]
     },
     "execution_count": 14,
     "metadata": {},
     "output_type": "execute_result"
    }
   ],
   "source": [
    "a * .74"
   ]
  },
  {
   "cell_type": "code",
   "execution_count": null,
   "metadata": {},
   "outputs": [],
   "source": []
  }
 ],
 "metadata": {
  "kernelspec": {
   "display_name": "Python 3",
   "language": "python",
   "name": "python3"
  },
  "language_info": {
   "codemirror_mode": {
    "name": "ipython",
    "version": 3
   },
   "file_extension": ".py",
   "mimetype": "text/x-python",
   "name": "python",
   "nbconvert_exporter": "python",
   "pygments_lexer": "ipython3",
   "version": "3.6.4"
  },
  "latex_envs": {
   "LaTeX_envs_menu_present": true,
   "autoclose": false,
   "autocomplete": true,
   "bibliofile": "biblio.bib",
   "cite_by": "apalike",
   "current_citInitial": 1,
   "eqLabelWithNumbers": true,
   "eqNumInitial": 1,
   "hotkeys": {
    "equation": "Ctrl-E",
    "itemize": "Ctrl-I"
   },
   "labels_anchors": false,
   "latex_user_defs": false,
   "report_style_numbering": false,
   "user_envs_cfg": false
  },
  "nbTranslate": {
   "displayLangs": [
    "*"
   ],
   "hotkey": "alt-t",
   "langInMainMenu": true,
   "sourceLang": "en",
   "targetLang": "fr",
   "useGoogleTranslate": true
  },
  "toc": {
   "nav_menu": {},
   "number_sections": true,
   "sideBar": true,
   "skip_h1_title": false,
   "title_cell": "Table of Contents",
   "title_sidebar": "Contents",
   "toc_cell": false,
   "toc_position": {},
   "toc_section_display": true,
   "toc_window_display": false
  },
  "varInspector": {
   "cols": {
    "lenName": 16,
    "lenType": 16,
    "lenVar": 40
   },
   "kernels_config": {
    "python": {
     "delete_cmd_postfix": "",
     "delete_cmd_prefix": "del ",
     "library": "var_list.py",
     "varRefreshCmd": "print(var_dic_list())"
    },
    "r": {
     "delete_cmd_postfix": ") ",
     "delete_cmd_prefix": "rm(",
     "library": "var_list.r",
     "varRefreshCmd": "cat(var_dic_list()) "
    }
   },
   "types_to_exclude": [
    "module",
    "function",
    "builtin_function_or_method",
    "instance",
    "_Feature"
   ],
   "window_display": false
  }
 },
 "nbformat": 4,
 "nbformat_minor": 2
}
