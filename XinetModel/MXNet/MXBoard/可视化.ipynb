{
 "cells": [
  {
   "cell_type": "markdown",
   "metadata": {},
   "source": [
    "# [Logging MXNet Data for Visualization in TensorBoard](https://github.com/awslabs/mxboard/blob/master/demo.md)\n",
    "\n",
    "## `Symbol`\n",
    "\n",
    "The following code would plot a toy network defined using symbols. Users can double click the node block to expand or collapse the node for exposing or hiding extra sub-nodes of an operator."
   ]
  },
  {
   "cell_type": "code",
   "execution_count": 3,
   "metadata": {
    "ExecuteTime": {
     "end_time": "2018-05-03T11:32:47.215523Z",
     "start_time": "2018-05-03T11:32:47.197004Z"
    }
   },
   "outputs": [],
   "source": [
    "import mxnet as mx\n",
    "from mxboard import SummaryWriter\n",
    "\n",
    "data = mx.sym.Variable('data')\n",
    "weight = mx.sym.Variable('weight')\n",
    "bias = mx.sym.Variable('fc1_bias', lr_mult=1.0)\n",
    "conv1 = mx.symbol.Convolution(data=data, weight=weight, name='conv1', num_filter=32, kernel=(3, 3))\n",
    "conv2 = mx.symbol.Convolution(data=data, weight=weight, name='conv2', num_filter=32, kernel=(3, 3))\n",
    "conv3 = conv1 + conv2\n",
    "bn1 = mx.symbol.BatchNorm(data=conv3, name=\"bn1\")\n",
    "act1 = mx.symbol.Activation(data=bn1, name='relu1', act_type=\"relu\")\n",
    "sum1 = act1 + conv3\n",
    "mp1 = mx.symbol.Pooling(data=sum1, name='mp1', kernel=(2, 2), stride=(2, 2), pool_type='max')\n",
    "fc1 = mx.sym.FullyConnected(data=mp1, bias=bias, name='fc1', num_hidden=10, lr_mult=0)\n",
    "fc2 = mx.sym.FullyConnected(data=fc1, name='fc2', num_hidden=10, wd_mult=0.5)\n",
    "sc1 = mx.symbol.SliceChannel(data=fc2, num_outputs=10, name=\"slice_1\", squeeze_axis=0)\n",
    "\n",
    "with SummaryWriter(logdir='D:/logs') as sw:\n",
    "    sw.add_graph(sc1)"
   ]
  },
  {
   "cell_type": "markdown",
   "metadata": {},
   "source": [
    "## HybridBlock\n",
    "To visualize a Gluon model built using HybridBlocks, users must first call `hybridize()`, `initialize()`, and `forward()` functions to generate a graph symbol which will be used later to plot network structures."
   ]
  },
  {
   "cell_type": "code",
   "execution_count": 4,
   "metadata": {
    "ExecuteTime": {
     "end_time": "2018-05-03T11:36:14.963548Z",
     "start_time": "2018-05-03T11:36:14.916552Z"
    }
   },
   "outputs": [],
   "source": [
    "from mxnet.gluon import nn\n",
    "from mxboard import SummaryWriter\n",
    "import mxnet as mx\n",
    "\n",
    "net = nn.HybridSequential()\n",
    "with net.name_scope():\n",
    "    net.add(nn.Dense(128, activation='relu'))\n",
    "    net.add(nn.Dense(64, activation='relu'))\n",
    "    net.add(nn.Dense(10))\n",
    "\n",
    "# The following three lines hybridize the network, initialize the parameters,\n",
    "# and run forward pass once to generate a symbol which will be used later\n",
    "# for plotting the network.\n",
    "net.hybridize()\n",
    "net.initialize()\n",
    "net.forward(mx.nd.ones((1,)))\n",
    "\n",
    "with SummaryWriter(logdir='D:/logs') as sw:\n",
    "    sw.add_graph(net)"
   ]
  },
  {
   "cell_type": "markdown",
   "metadata": {},
   "source": [
    "Users can explore more sophisticated network structures provided by **MXNet Gluon Model Zoo**. For example, the following code would plot the network `Inception V3` for you."
   ]
  },
  {
   "cell_type": "code",
   "execution_count": 5,
   "metadata": {
    "ExecuteTime": {
     "end_time": "2018-05-03T11:38:47.204751Z",
     "start_time": "2018-05-03T11:38:46.743744Z"
    }
   },
   "outputs": [],
   "source": [
    "from mxnet.gluon.model_zoo.vision import get_model\n",
    "from mxboard import SummaryWriter\n",
    "import mxnet as mx\n",
    "\n",
    "net = get_model('inceptionv3')\n",
    "net.hybridize()\n",
    "net.initialize()\n",
    "net.forward(mx.nd.ones((1, 3, 299, 299)))\n",
    "\n",
    "with SummaryWriter(logdir='D:/logs') as sw:\n",
    "    sw.add_graph(net)"
   ]
  },
  {
   "cell_type": "markdown",
   "metadata": {},
   "source": [
    "## `Scalar`\n",
    "\n",
    "`Scalar` values often appear in terms of curves, such as training accuracy as time evolves. Here is an example of plotting the curve of $y=sin(\\frac{x}{100})$ where $x$ is in the range of $[0, 2\\pi]$."
   ]
  },
  {
   "cell_type": "code",
   "execution_count": 6,
   "metadata": {
    "ExecuteTime": {
     "end_time": "2018-05-03T11:44:21.915737Z",
     "start_time": "2018-05-03T11:44:21.856690Z"
    }
   },
   "outputs": [],
   "source": [
    "import numpy as np\n",
    "from mxboard import SummaryWriter\n",
    "\n",
    "x_vals = np.arange(start=0, stop=2 * np.pi, step=0.01)\n",
    "y_vals = np.sin(x_vals)\n",
    "with SummaryWriter(logdir='D:/logs') as sw:\n",
    "    for x, y in zip(x_vals, y_vals):\n",
    "        sw.add_scalar(tag='sin_function_curve', value=y, global_step=x * 100)"
   ]
  },
  {
   "cell_type": "markdown",
   "metadata": {},
   "source": [
    "Please note that the `tag` parameter in the API is for differentiating plots. MXBoard allows users to draw multiple curves in the same plot by specifying the same `tag` and different scalar names for `values`. The following example demonstrates logging five curves in the same plot named \"curves\" in TensorBoard. Each curve has a name attached except `y5`. It exports logged scalar values into a json file in the end."
   ]
  },
  {
   "cell_type": "code",
   "execution_count": 1,
   "metadata": {
    "ExecuteTime": {
     "end_time": "2018-05-03T12:51:53.333136Z",
     "start_time": "2018-05-03T12:51:34.026711Z"
    }
   },
   "outputs": [
    {
     "name": "stderr",
     "output_type": "stream",
     "text": [
      "WARNING:root:D:/scalars.json already exists and will be overwritten by scalar dict\n",
      "INFO:mxboard.event_file_writer:wrote 628 events to disk\n",
      "INFO:mxboard.event_file_writer:wrote 628 events to disk\n",
      "INFO:mxboard.event_file_writer:wrote 628 events to disk\n",
      "INFO:mxboard.event_file_writer:wrote 628 events to disk\n",
      "INFO:mxboard.event_file_writer:wrote 628 events to disk\n"
     ]
    }
   ],
   "source": [
    "import numpy as np\n",
    "from mxboard import SummaryWriter\n",
    "\n",
    "xs = np.arange(start=0, stop=2 * np.pi, step=0.01)\n",
    "y_sin = np.sin(xs)\n",
    "y_cos = np.cos(xs)\n",
    "y_exp_sin = np.exp(y_sin)\n",
    "y_exp_cos = np.exp(y_cos)\n",
    "y_sin2 = y_sin * y_sin\n",
    "with SummaryWriter(logdir='D:/logs') as sw:\n",
    "    for x, y1, y2, y3, y4, y5 in zip(xs, y_sin, y_cos, y_exp_sin, y_exp_cos, y_sin2):\n",
    "        sw.add_scalar('curves1', {'sin': y1, 'cos': y2}, x * 100)  # log y1 with name 'sin' and y2 with name 'cos'\n",
    "        sw.add_scalar('curves2', ('exp(sin)', y3), x * 100)  # log y3 with name 'exp(sin)'\n",
    "        sw.add_scalar('curves', ['exp(cos)', y4], x * 100)  # log y4 with name 'exp(cos)'\n",
    "        sw.add_scalar('curves', y5, x * 100)  # log y5 without specifying scalar name\n",
    "    sw.export_scalars('D:/scalars.json')"
   ]
  },
  {
   "cell_type": "markdown",
   "metadata": {},
   "source": [
    "## `Histogram`\n",
    "We can visulize the value distributions of tensors by logging NDArrays in terms of histograms. The following code snippet generates a series of normal distributions with smaller and smaller standard deviations."
   ]
  },
  {
   "cell_type": "code",
   "execution_count": 3,
   "metadata": {
    "ExecuteTime": {
     "end_time": "2018-05-03T11:57:10.801118Z",
     "start_time": "2018-05-03T11:57:10.742116Z"
    }
   },
   "outputs": [],
   "source": [
    "import mxnet as mx\n",
    "from mxboard import SummaryWriter\n",
    "\n",
    "\n",
    "with SummaryWriter(logdir='D:/logs') as sw:\n",
    "    for i in range(10):\n",
    "        # create a normal distribution with fixed mean and decreasing std\n",
    "        data = mx.nd.normal(loc=0, scale=10.0/(i+1), shape=(10, 3, 8, 8))\n",
    "        sw.add_histogram(tag='norml_dist', values=data, bins=200, global_step=i)"
   ]
  },
  {
   "cell_type": "markdown",
   "metadata": {},
   "source": [
    "## Image\n",
    "The image logging API can take MXNet `NDArray` or `numpy.ndarray` of 2-4 dimensions. It will preprocess the input image and write the processed image to the event file. When the input image data is 2D or 3D, it represents a single image. When the input image data is a 4D tensor, which represents a batch of images, the logging API would make a grid of those images by stitching them together before write them to the event file. The following code snippet saves 15 same images for visualization in TensorBoard."
   ]
  },
  {
   "cell_type": "code",
   "execution_count": 4,
   "metadata": {
    "ExecuteTime": {
     "end_time": "2018-05-03T11:58:55.630143Z",
     "start_time": "2018-05-03T11:58:52.564495Z"
    }
   },
   "outputs": [],
   "source": [
    "import mxnet as mx\n",
    "import numpy as np\n",
    "from mxboard import SummaryWriter\n",
    "from scipy import misc\n",
    "\n",
    "# get a raccoon face image from scipy\n",
    "# and convert its layout from HWC to CHW\n",
    "face = misc.face().transpose((2, 0, 1))\n",
    "# add a batch axis in the beginning\n",
    "face = face.reshape((1,) + face.shape)\n",
    "# replicate the face by 15 times\n",
    "faces = [face] * 15\n",
    "# concatenate the faces along the batch axis\n",
    "faces = np.concatenate(faces, axis=0)\n",
    "\n",
    "img = mx.nd.array(faces, dtype=faces.dtype)\n",
    "with SummaryWriter(logdir='D:/logs') as sw:\n",
    "    # write batched faces to the event file\n",
    "    sw.add_image(tag='faces', image=img)"
   ]
  },
  {
   "cell_type": "markdown",
   "metadata": {},
   "source": [
    "## `Embedding`\n",
    "Embedding visualization enables people to get an intuition on how data is clustered in 2D or 3D space. The following code takes 2,560 images of handwritten digits from the MNIST dataset and log them as embedding vectors with labels and original images."
   ]
  },
  {
   "cell_type": "code",
   "execution_count": 7,
   "metadata": {
    "ExecuteTime": {
     "end_time": "2018-05-03T12:02:53.607020Z",
     "start_time": "2018-05-03T12:02:50.924910Z"
    }
   },
   "outputs": [],
   "source": [
    "import numpy as np\n",
    "import mxnet as mx\n",
    "from mxnet import gluon\n",
    "from mxboard import SummaryWriter\n",
    "\n",
    "\n",
    "batch_size = 128\n",
    "\n",
    "\n",
    "def transformer(data, label):\n",
    "    data = data.reshape((-1,)).astype(np.float32)/255\n",
    "    return data, label\n",
    "\n",
    "# training dataset containing MNIST images and labels\n",
    "train_data = gluon.data.DataLoader(\n",
    "    gluon.data.vision.MNIST('E:/Data/MXNet/mnist', train=True, transform=transformer),\n",
    "    batch_size=batch_size, shuffle=True, last_batch='discard')\n",
    "\n",
    "initialized = False\n",
    "embedding = None\n",
    "labels = None\n",
    "images = None\n",
    "\n",
    "for i, (data, label) in enumerate(train_data):\n",
    "    if i >= 20:\n",
    "        # only fetch the first 20 batches of images\n",
    "        break\n",
    "    if initialized:  # after the first batch, concatenate the current batch with the existing one\n",
    "        embedding = mx.nd.concat(*(embedding, data), dim=0)\n",
    "        labels = mx.nd.concat(*(labels, label), dim=0)\n",
    "        images = mx.nd.concat(*(images, data.reshape(batch_size, 1, 28, 28)), dim=0)\n",
    "    else:  # first batch of images, directly assign\n",
    "        embedding = data\n",
    "        labels = label\n",
    "        images = data.reshape(batch_size, 1, 28, 28)\n",
    "        initialized = True\n",
    "\n",
    "with SummaryWriter(logdir='D:/logs') as sw:\n",
    "    sw.add_embedding(tag='mnist', embedding=embedding, labels=labels, images=images)"
   ]
  },
  {
   "cell_type": "code",
   "execution_count": null,
   "metadata": {},
   "outputs": [],
   "source": []
  },
  {
   "cell_type": "code",
   "execution_count": null,
   "metadata": {},
   "outputs": [],
   "source": []
  }
 ],
 "metadata": {
  "kernelspec": {
   "display_name": "Python 3",
   "language": "python",
   "name": "python3"
  },
  "language_info": {
   "codemirror_mode": {
    "name": "ipython",
    "version": 3
   },
   "file_extension": ".py",
   "mimetype": "text/x-python",
   "name": "python",
   "nbconvert_exporter": "python",
   "pygments_lexer": "ipython3",
   "version": "3.6.4"
  },
  "latex_envs": {
   "LaTeX_envs_menu_present": true,
   "autoclose": false,
   "autocomplete": true,
   "bibliofile": "biblio.bib",
   "cite_by": "apalike",
   "current_citInitial": 1,
   "eqLabelWithNumbers": true,
   "eqNumInitial": 1,
   "hotkeys": {
    "equation": "Ctrl-E",
    "itemize": "Ctrl-I"
   },
   "labels_anchors": false,
   "latex_user_defs": false,
   "report_style_numbering": false,
   "user_envs_cfg": false
  },
  "nbTranslate": {
   "displayLangs": [
    "*"
   ],
   "hotkey": "alt-t",
   "langInMainMenu": true,
   "sourceLang": "en",
   "targetLang": "fr",
   "useGoogleTranslate": true
  },
  "toc": {
   "nav_menu": {},
   "number_sections": true,
   "sideBar": true,
   "skip_h1_title": false,
   "title_cell": "Table of Contents",
   "title_sidebar": "Contents",
   "toc_cell": false,
   "toc_position": {
    "height": "calc(100% - 180px)",
    "left": "10px",
    "top": "150px",
    "width": "231px"
   },
   "toc_section_display": true,
   "toc_window_display": true
  },
  "varInspector": {
   "cols": {
    "lenName": 16,
    "lenType": 16,
    "lenVar": 40
   },
   "kernels_config": {
    "python": {
     "delete_cmd_postfix": "",
     "delete_cmd_prefix": "del ",
     "library": "var_list.py",
     "varRefreshCmd": "print(var_dic_list())"
    },
    "r": {
     "delete_cmd_postfix": ") ",
     "delete_cmd_prefix": "rm(",
     "library": "var_list.r",
     "varRefreshCmd": "cat(var_dic_list()) "
    }
   },
   "types_to_exclude": [
    "module",
    "function",
    "builtin_function_or_method",
    "instance",
    "_Feature"
   ],
   "window_display": false
  }
 },
 "nbformat": 4,
 "nbformat_minor": 2
}
