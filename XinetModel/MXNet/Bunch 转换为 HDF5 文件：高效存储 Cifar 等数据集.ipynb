{
 "cells": [
  {
   "cell_type": "code",
   "execution_count": 1,
   "metadata": {},
   "outputs": [
    {
     "ename": "NameError",
     "evalue": "name 'Bunch' is not defined",
     "output_type": "error",
     "traceback": [
      "\u001b[1;31m---------------------------------------------------------------------------\u001b[0m",
      "\u001b[1;31mNameError\u001b[0m                                 Traceback (most recent call last)",
      "\u001b[1;32m<ipython-input-1-4678773a39b6>\u001b[0m in \u001b[0;36m<module>\u001b[1;34m()\u001b[0m\n\u001b[1;32m----> 1\u001b[1;33m \u001b[1;32mclass\u001b[0m \u001b[0mXHDF5\u001b[0m\u001b[1;33m(\u001b[0m\u001b[0mBunch\u001b[0m\u001b[1;33m)\u001b[0m\u001b[1;33m:\u001b[0m\u001b[1;33m\u001b[0m\u001b[0m\n\u001b[0m\u001b[0;32m      2\u001b[0m \u001b[1;33m\u001b[0m\u001b[0m\n\u001b[0;32m      3\u001b[0m     \u001b[1;32mdef\u001b[0m \u001b[0m__init__\u001b[0m\u001b[1;33m(\u001b[0m\u001b[0mself\u001b[0m\u001b[1;33m,\u001b[0m \u001b[0mpath\u001b[0m\u001b[1;33m,\u001b[0m \u001b[1;33m*\u001b[0m\u001b[0margs\u001b[0m\u001b[1;33m,\u001b[0m \u001b[1;33m**\u001b[0m\u001b[0mkwds\u001b[0m\u001b[1;33m)\u001b[0m\u001b[1;33m:\u001b[0m\u001b[1;33m\u001b[0m\u001b[0m\n\u001b[0;32m      4\u001b[0m         '''\n\u001b[0;32m      5\u001b[0m         \u001b[0m从数据库中\u001b[0m \u001b[0mcopy\u001b[0m \u001b[0m一份数据到指定位置\u001b[0m\u001b[0;31m，\u001b[0m\u001b[0m防止损坏原始数据\u001b[0m\u001b[1;33m\u001b[0m\u001b[0m\n",
      "\u001b[1;31mNameError\u001b[0m: name 'Bunch' is not defined"
     ]
    }
   ],
   "source": [
    "class XHDF5(Bunch):\n",
    "    \n",
    "    def __init__(self, path, *args, **kwds):\n",
    "        '''\n",
    "        从数据库中 copy 一份数据到指定位置，防止损坏原始数据\n",
    "        '''\n",
    "        super().__init__(*args, **kwds)\n",
    "        \n",
    "    def __iter__(self, X, Y ,batch_size):\n",
    "        n = X.nrows\n",
    "        idx = np.arange(n)\n",
    "        if X.name.startswith('train'):\n",
    "            np.random.shuffle(idx)\n",
    "        for i in range(0, n ,batch_size):\n",
    "            k = idx[i: min(n, i + batch_size)].tolist()\n",
    "            yield np.take(X, k, 0), np.take(Y, k, 0)"
   ]
  },
  {
   "cell_type": "code",
   "execution_count": 6,
   "metadata": {},
   "outputs": [],
   "source": [
    "import sys \n",
    "sys.path.append('E:/xinlib')\n",
    "from base.filez import Bunch\n",
    "import tables as tb\n",
    "import numpy as np\n",
    "import zipfile"
   ]
  },
  {
   "cell_type": "code",
   "execution_count": null,
   "metadata": {},
   "outputs": [],
   "source": [
    "struct.unpack('l8c*', Header)"
   ]
  },
  {
   "cell_type": "code",
   "execution_count": null,
   "metadata": {},
   "outputs": [],
   "source": [
    "class parCASIA(Bunch):\n",
    "    \n",
    "    def __init__(self, name, *args, **kwds):\n",
    "        super().__init__(*args, **kwds)\n",
    "        a = Z.read(name)\n",
    "        Header = struct.unpack('l', a[:4])[0]\n",
    "        Format_code = a[4:12].decode('ascii').rstrip('\\x00')\n",
    "        k = sizeHeader - 50\n",
    "        text = a[12 : k].decode().rstrip('\\x00')\n",
    "        Code_type = a[k : k + 20].decode().rstrip('\\x00')\n",
    "        Code_length = struct.unpack('h', a[k + 20 : k + 22])[0]\n",
    "        Data_type = a[k + 22 : k + 42].decode().rstrip('\\x00')\n",
    "        Sample_number, D = struct.unpack('ll', a[k + 42 : k + 50])"
   ]
  },
  {
   "cell_type": "code",
   "execution_count": 9,
   "metadata": {},
   "outputs": [],
   "source": [
    "import struct"
   ]
  },
  {
   "cell_type": "code",
   "execution_count": 11,
   "metadata": {},
   "outputs": [],
   "source": [
    "name = 'OLHWDB1.0trn/022.mpf'\n",
    "root = 'E:/OCR/CASIA/'\n",
    "Z = zipfile.ZipFile(f'{root}OLHWDB1.0trn.zip')\n",
    "a = Z.read(name)\n",
    "sizeHeader = struct.unpack('l', a[:4])[0]\n",
    "Format_code = a[4:12].decode('ascii').rstrip('\\x00')\n",
    "k = sizeHeader - 50\n",
    "text = a[12 : k].decode().rstrip('\\x00')\n",
    "Code_type = a[k : k + 20].decode().rstrip('\\x00')\n",
    "Code_length = struct.unpack('h', a[k + 20 : k + 22])[0]\n",
    "Data_type = a[k + 22 : k + 42].decode().rstrip('\\x00')\n",
    "Sample_number, D = struct.unpack('ll', a[k + 42 : k + 50])"
   ]
  },
  {
   "cell_type": "code",
   "execution_count": 12,
   "metadata": {},
   "outputs": [
    {
     "data": {
      "text/plain": [
       "'°¡'"
      ]
     },
     "execution_count": 12,
     "metadata": {},
     "output_type": "execute_result"
    }
   ],
   "source": [
    "a[k + 50 : k + 52].decode('iso-8859-1')"
   ]
  },
  {
   "cell_type": "code",
   "execution_count": 13,
   "metadata": {},
   "outputs": [
    {
     "data": {
      "text/plain": [
       "'낡'"
      ]
     },
     "execution_count": 13,
     "metadata": {},
     "output_type": "execute_result"
    }
   ],
   "source": [
    "a[k + 50 : k + 52].decode('utf-16-be')"
   ]
  },
  {
   "cell_type": "code",
   "execution_count": 14,
   "metadata": {
    "scrolled": true
   },
   "outputs": [
    {
     "data": {
      "text/plain": [
       "(1922358,)"
      ]
     },
     "execution_count": 14,
     "metadata": {},
     "output_type": "execute_result"
    }
   ],
   "source": [
    "np.frombuffer(a[k + 52: ], np.uint8).shape"
   ]
  },
  {
   "cell_type": "code",
   "execution_count": 15,
   "metadata": {},
   "outputs": [
    {
     "data": {
      "text/plain": [
       "b'\\xb0\\xa1\\x00\\x1eT2\\r \\x1c\\x05\\x00\\x00\\x03\\x081LW,\\x02\\x03\\x00\\x00\\x02\\x00\\x02\\x03\\x04\\x08\\x01\\x00\\x00\\x02\\x01\\x00\\x0e1\\r\\x00\\n\\x1b\\x06\\x00\\x16\\x18\\x02\\x02+4\\t\\x00'"
      ]
     },
     "execution_count": 15,
     "metadata": {},
     "output_type": "execute_result"
    }
   ],
   "source": [
    "a[k + 50 : k + 100]"
   ]
  },
  {
   "cell_type": "code",
   "execution_count": 16,
   "metadata": {},
   "outputs": [
    {
     "data": {
      "text/plain": [
       "(3740, 512)"
      ]
     },
     "execution_count": 16,
     "metadata": {},
     "output_type": "execute_result"
    }
   ],
   "source": [
    "struct.unpack('ll', a[k + 42 : k + 50])"
   ]
  },
  {
   "cell_type": "code",
   "execution_count": null,
   "metadata": {},
   "outputs": [],
   "source": [
    "3740 * 512"
   ]
  },
  {
   "cell_type": "code",
   "execution_count": null,
   "metadata": {},
   "outputs": [],
   "source": [
    "len(a) - 1914880"
   ]
  },
  {
   "cell_type": "code",
   "execution_count": 24,
   "metadata": {
    "scrolled": true
   },
   "outputs": [],
   "source": [
    "X = np.frombuffer(a[7611:], np.uint8).reshape((3740, 512))[0]"
   ]
  },
  {
   "cell_type": "code",
   "execution_count": 28,
   "metadata": {},
   "outputs": [
    {
     "data": {
      "text/plain": [
       "16.0"
      ]
     },
     "execution_count": 28,
     "metadata": {},
     "output_type": "execute_result"
    }
   ],
   "source": [
    "512 / 32"
   ]
  },
  {
   "cell_type": "code",
   "execution_count": null,
   "metadata": {},
   "outputs": [],
   "source": []
  }
 ],
 "metadata": {
  "kernelspec": {
   "display_name": "Python 3",
   "language": "python",
   "name": "python3"
  },
  "language_info": {
   "codemirror_mode": {
    "name": "ipython",
    "version": 3
   },
   "file_extension": ".py",
   "mimetype": "text/x-python",
   "name": "python",
   "nbconvert_exporter": "python",
   "pygments_lexer": "ipython3",
   "version": "3.6.5"
  }
 },
 "nbformat": 4,
 "nbformat_minor": 2
}
