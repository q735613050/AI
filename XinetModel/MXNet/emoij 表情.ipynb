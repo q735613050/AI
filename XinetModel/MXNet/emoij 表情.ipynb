{
 "cells": [
  {
   "cell_type": "markdown",
   "metadata": {},
   "source": [
    "参考资料：https://www.cnblogs.com/xiangyuecn/p/8598605.html"
   ]
  },
  {
   "cell_type": "code",
   "execution_count": 4,
   "metadata": {},
   "outputs": [
    {
     "name": "stdout",
     "output_type": "stream",
     "text": [
      "傻吊，你好！\n",
      "😁 请稍后。。。。。。\n",
      "🐤🐤🐤🐤🐤🐤🐤🐤🐤🐤🐤🐤🐤🐤🐤🐤🐤🐤🐤🐤🐤🐤🐤🐤🐤🐤🐤🐤🐤🐤\n",
      "你的电脑中毒了！\n",
      "😈😈😈😈😈😈😈😈😈😈😈😈😈😈😈😈😈😈😈😈😈😈😈😈😈😈😈😈😈😈😈😈😈😈😈😈😈😈😈😈😈😈😈😈😈😈😈😈😈😈😈😈😈😈😈😈😈😈😈😈😈😈😈😈😈😈😈😈😈😈😈😈😈😈😈😈😈😈😈😈😈😈😈😈😈😈😈😈😈😈😈😈😈😈😈😈😈😈😈😈\n"
     ]
    }
   ],
   "source": [
    "# default-character-set = utf8mb4\n",
    "\n",
    "import time\n",
    "\n",
    "\n",
    "print('傻吊，你好！')\n",
    "start = time.time()\n",
    "print('😁'.encode('utf-32').decode('utf-32'), '请稍后。。。。。。')\n",
    "\n",
    "time.sleep(5)\n",
    "t = int(time.time() - start)\n",
    "print('🐤'.encode('utf-32').decode('utf-32') * 30)\n",
    "\n",
    "print('你的电脑中毒了！')\n",
    "print('😈'.encode('utf-32').decode('utf-32') * 100)"
   ]
  },
  {
   "cell_type": "code",
   "execution_count": null,
   "metadata": {},
   "outputs": [],
   "source": []
  }
 ],
 "metadata": {
  "kernelspec": {
   "display_name": "Python 3",
   "language": "python",
   "name": "python3"
  },
  "language_info": {
   "codemirror_mode": {
    "name": "ipython",
    "version": 3
   },
   "file_extension": ".py",
   "mimetype": "text/x-python",
   "name": "python",
   "nbconvert_exporter": "python",
   "pygments_lexer": "ipython3",
   "version": "3.6.5"
  },
  "widgets": {
   "application/vnd.jupyter.widget-state+json": {
    "state": {},
    "version_major": 2,
    "version_minor": 0
   }
  }
 },
 "nbformat": 4,
 "nbformat_minor": 2
}
