{
 "cells": [
  {
   "cell_type": "markdown",
   "metadata": {},
   "source": [
    "在日常生活中，我们难免会遇到一些问题：\n",
    "- 自己辛辛苦苦写完的资料，好不容易打印出来却发现源文件丢了。\n",
    "- 难的收集了一些名片，却要很麻烦的一个一个录入信息。快递公司的业务越来越好，但每天却需要花费很多时间登记录入运单，效率非常的低。\n",
    "\n",
    "OCR 文字识别技术为上面的问题的解决提供了便利。\n",
    "\n",
    "# 什么是 OCR？\n",
    "\n",
    "OCR 是实时高效的定位与识别图片中的所有文字信息，返回文字框位置与文字内容。支持多场景、任意版面的整图文字的识别，以及中英文、字母、数字的识别。通俗的来说，就是将图片上的文字内容，智能识别成为可编辑的文本。\n",
    " \n",
    "# OCR 的技术原理是什么？\n",
    "\n",
    "OCR 本质是图像识别。其原理也和其他的图像识别问题基本一样。包含两大关键技术：**文本检测**和**文字识别**。先将图像中的特征的提取并检测目标区域，之后对目标区域的的字符进行分割和分类。\n",
    "\n",
    "首先*文本定位*，接着进行*倾斜文本矫正*，之后*分割出单字*后，并对*单字识别*，最后基于统计模型（如隐马尔科夫链，HMM）进行*语义纠错*。\n",
    "\n",
    "# OCR 技术的难点是什么？\n",
    "\n",
    "复杂背景、艺术字体、低分辨率、非均匀光照、图像退化、字符形变、多语言混合、文本行复杂版式、检测框字符残缺，等等。\n",
    "\n",
    "# 如克服这些难点的？\n",
    "\n",
    "从几个方面入手。一是**使用场景**，另一方面是从技术上的改进腾讯优图实验室在文本检测技术方进行了深度优化，提出了 **Compact Inception**，通过设计合理的网络结构来提升各尺度的文字检测／提取能力。同时引入 RNN 多层自适应网络和 Refinement 结构来提升检测完整性和准确性。\n",
    "![](https://pic4.zhimg.com/80/v2-f9043e73b3d0c642a2f8a75a96a88cd2_hd.jpg)\n",
    "\n",
    "- [InternetShortcut1](https://link.zhihu.com/?target=https%3A//cloud.tencent.com/developer/article/1029969)\n",
    "- [InternetShortcut2](https://link.zhihu.com/?target=https%3A//cloud.tencent.com/developer/article/1008463)\n",
    "- [InternetShortcut3](https://link.zhihu.com/?target=https%3A//cloud.tencent.com/developer/article/1007166)\n"
   ]
  },
  {
   "cell_type": "code",
   "execution_count": null,
   "metadata": {},
   "outputs": [],
   "source": []
  }
 ],
 "metadata": {
  "kernelspec": {
   "display_name": "Python 3",
   "language": "python",
   "name": "python3"
  },
  "language_info": {
   "codemirror_mode": {
    "name": "ipython",
    "version": 3
   },
   "file_extension": ".py",
   "mimetype": "text/x-python",
   "name": "python",
   "nbconvert_exporter": "python",
   "pygments_lexer": "ipython3",
   "version": "3.6.5"
  }
 },
 "nbformat": 4,
 "nbformat_minor": 2
}
