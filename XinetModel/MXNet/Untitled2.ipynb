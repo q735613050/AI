{
 "cells": [
  {
   "cell_type": "code",
   "execution_count": 1,
   "metadata": {
    "ExecuteTime": {
     "end_time": "2018-09-27T06:20:47.622531Z",
     "start_time": "2018-09-27T06:20:36.959024Z"
    }
   },
   "outputs": [
    {
     "name": "stderr",
     "output_type": "stream",
     "text": [
      "C:\\ProgramData\\Anaconda3\\lib\\site-packages\\h5py\\__init__.py:36: FutureWarning: Conversion of the second argument of issubdtype from `float` to `np.floating` is deprecated. In future, it will be treated as `np.float64 == np.dtype(float).type`.\n",
      "  from ._conv import register_converters as _register_converters\n"
     ]
    }
   ],
   "source": [
    "import sys\n",
    "sys.path.append('E:/zlab/')\n",
    "from loader import Loader, aug_dataset, try_all_gpus, Bunch"
   ]
  },
  {
   "cell_type": "markdown",
   "metadata": {},
   "source": [
    "## 载入数据"
   ]
  },
  {
   "cell_type": "code",
   "execution_count": 2,
   "metadata": {
    "ExecuteTime": {
     "end_time": "2018-09-27T06:20:48.983005Z",
     "start_time": "2018-09-27T06:20:47.635471Z"
    }
   },
   "outputs": [
    {
     "data": {
      "text/plain": [
       "/cifar10 (Group) 'https://www.cs.toronto.edu/~kriz/cifar.html'\n",
       "  children := ['label_names' (Array), 'testX' (Array), 'testY' (Array), 'trainX' (Array), 'trainY' (Array)]"
      ]
     },
     "execution_count": 2,
     "metadata": {},
     "output_type": "execute_result"
    }
   ],
   "source": [
    "import numpy as np\n",
    "import tables as tb\n",
    "\n",
    "h5 = tb.open_file('E:/xdata/X.h5')\n",
    "dataset = h5.root.cifar10\n",
    "dataset"
   ]
  },
  {
   "cell_type": "markdown",
   "metadata": {},
   "source": [
    "### 划分数据集"
   ]
  },
  {
   "cell_type": "code",
   "execution_count": 3,
   "metadata": {
    "ExecuteTime": {
     "end_time": "2018-09-27T06:20:50.033289Z",
     "start_time": "2018-09-27T06:20:49.069774Z"
    }
   },
   "outputs": [],
   "source": [
    "from sklearn.model_selection import train_test_split\n",
    "import gluonbook as gb\n",
    "\n",
    "X_train, X_val, y_train, y_val = train_test_split(\n",
    "    dataset.testX[:], dataset.testY[:], test_size=0.9, random_state=42)\n",
    "\n",
    "X_train = X_train.transpose((0, 2, 3, 1))\n",
    "X_val = X_val.transpose((0, 2, 3, 1))"
   ]
  },
  {
   "cell_type": "code",
   "execution_count": 4,
   "metadata": {
    "ExecuteTime": {
     "end_time": "2018-09-27T06:20:51.906202Z",
     "start_time": "2018-09-27T06:20:50.071155Z"
    }
   },
   "outputs": [],
   "source": [
    "batch_size = 32\n",
    "validset = Loader(X_val, y_val, batch_size, True)\n",
    "trainset = Loader(dataset.trainX, dataset.trainY, batch_size, True)"
   ]
  },
  {
   "cell_type": "code",
   "execution_count": 5,
   "metadata": {
    "ExecuteTime": {
     "end_time": "2018-09-27T06:21:02.068017Z",
     "start_time": "2018-09-27T06:21:00.613338Z"
    }
   },
   "outputs": [],
   "source": [
    "from mxnet import nd\n",
    "ctx = try_all_gpus()[0]\n",
    "\n",
    "aug = aug_dataset()  # 数据增强\n",
    "for X, y in iter(validset):\n",
    "    X = nd.array(X)\n",
    "    X = nd.stack(*[aug.train(x) for x in X])\n",
    "    break"
   ]
  },
  {
   "cell_type": "code",
   "execution_count": 6,
   "metadata": {
    "ExecuteTime": {
     "end_time": "2018-09-27T06:28:06.385239Z",
     "start_time": "2018-09-27T06:28:06.381249Z"
    }
   },
   "outputs": [],
   "source": [
    "B = Bunch"
   ]
  },
  {
   "cell_type": "markdown",
   "metadata": {},
   "source": [
    "## 迁移学习"
   ]
  },
  {
   "cell_type": "code",
   "execution_count": null,
   "metadata": {
    "ExecuteTime": {
     "end_time": "2018-09-26T14:26:21.413572Z",
     "start_time": "2018-09-26T14:26:21.015638Z"
    }
   },
   "outputs": [],
   "source": [
    "from mxnet.gluon import model_zoo\n",
    "pretrained_net = model_zoo.vision.resnet50_v2(pretrained=True)"
   ]
  },
  {
   "cell_type": "code",
   "execution_count": null,
   "metadata": {
    "ExecuteTime": {
     "end_time": "2018-09-26T14:30:39.548414Z",
     "start_time": "2018-09-26T14:30:39.236277Z"
    },
    "scrolled": false
   },
   "outputs": [],
   "source": [
    "pretrained_net(X)"
   ]
  },
  {
   "cell_type": "code",
   "execution_count": null,
   "metadata": {
    "ExecuteTime": {
     "end_time": "2018-09-26T14:40:39.001088Z",
     "start_time": "2018-09-26T14:40:38.932233Z"
    },
    "scrolled": true
   },
   "outputs": [],
   "source": [
    "for X, y in validset:\n",
    "    X = nd.array(X).as_in_context()\n",
    "    X = nd.stack(*[aug.train(x) for x in X])\n",
    "    break"
   ]
  },
  {
   "cell_type": "code",
   "execution_count": null,
   "metadata": {
    "ExecuteTime": {
     "end_time": "2018-09-26T14:37:30.548624Z",
     "start_time": "2018-09-26T14:37:30.540625Z"
    }
   },
   "outputs": [],
   "source": []
  },
  {
   "cell_type": "code",
   "execution_count": null,
   "metadata": {},
   "outputs": [],
   "source": []
  }
 ],
 "metadata": {
  "kernelspec": {
   "display_name": "Python [conda env:Anaconda3]",
   "language": "python",
   "name": "conda-env-Anaconda3-py"
  },
  "language_info": {
   "codemirror_mode": {
    "name": "ipython",
    "version": 3
   },
   "file_extension": ".py",
   "mimetype": "text/x-python",
   "name": "python",
   "nbconvert_exporter": "python",
   "pygments_lexer": "ipython3",
   "version": "3.6.5"
  },
  "latex_envs": {
   "LaTeX_envs_menu_present": true,
   "autoclose": false,
   "autocomplete": true,
   "bibliofile": "biblio.bib",
   "cite_by": "apalike",
   "current_citInitial": 1,
   "eqLabelWithNumbers": true,
   "eqNumInitial": 1,
   "hotkeys": {
    "equation": "Ctrl-E",
    "itemize": "Ctrl-I"
   },
   "labels_anchors": false,
   "latex_user_defs": false,
   "report_style_numbering": false,
   "user_envs_cfg": false
  },
  "nbTranslate": {
   "displayLangs": [
    "*"
   ],
   "hotkey": "alt-t",
   "langInMainMenu": true,
   "sourceLang": "en",
   "targetLang": "fr",
   "useGoogleTranslate": true
  },
  "toc": {
   "base_numbering": 1,
   "nav_menu": {},
   "number_sections": true,
   "sideBar": true,
   "skip_h1_title": false,
   "title_cell": "Table of Contents",
   "title_sidebar": "Contents",
   "toc_cell": false,
   "toc_position": {},
   "toc_section_display": true,
   "toc_window_display": false
  },
  "varInspector": {
   "cols": {
    "lenName": 16,
    "lenType": 16,
    "lenVar": 40
   },
   "kernels_config": {
    "python": {
     "delete_cmd_postfix": "",
     "delete_cmd_prefix": "del ",
     "library": "var_list.py",
     "varRefreshCmd": "print(var_dic_list())"
    },
    "r": {
     "delete_cmd_postfix": ") ",
     "delete_cmd_prefix": "rm(",
     "library": "var_list.r",
     "varRefreshCmd": "cat(var_dic_list()) "
    }
   },
   "types_to_exclude": [
    "module",
    "function",
    "builtin_function_or_method",
    "instance",
    "_Feature"
   ],
   "window_display": false
  }
 },
 "nbformat": 4,
 "nbformat_minor": 2
}
