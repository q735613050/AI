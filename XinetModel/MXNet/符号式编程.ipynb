{
 "cells": [
  {
   "cell_type": "code",
   "execution_count": null,
   "metadata": {
    "ExecuteTime": {
     "end_time": "2018-04-16T07:07:19.358852Z",
     "start_time": "2018-04-16T07:07:19.355848Z"
    }
   },
   "outputs": [],
   "source": [
    "import mxnet as mx\n",
    "from mxnet import nd, autograd, gluon\n",
    "from mxnet.gluon import nn"
   ]
  },
  {
   "cell_type": "code",
   "execution_count": null,
   "metadata": {
    "ExecuteTime": {
     "end_time": "2018-04-16T07:11:40.053418Z",
     "start_time": "2018-04-16T07:11:40.048419Z"
    }
   },
   "outputs": [],
   "source": [
    "a = mx.sym.Variable('a')\n",
    "b = mx.sym.Variable('b')\n",
    "c = mx.sym.Variable('c')\n",
    "\n",
    "# 定义计算关系\n",
    "d = (a + b) * c"
   ]
  },
  {
   "cell_type": "markdown",
   "metadata": {},
   "source": [
    "# 基本操作\n",
    "## 指定每个输入符号对应的输出"
   ]
  },
  {
   "cell_type": "code",
   "execution_count": null,
   "metadata": {
    "ExecuteTime": {
     "end_time": "2018-04-16T07:07:51.689040Z",
     "start_time": "2018-04-16T07:07:51.659032Z"
    }
   },
   "outputs": [],
   "source": [
    "input_args = {\n",
    "    'a' : nd.array([1]),\n",
    "    'b' : nd.array([2]),\n",
    "    'c' : nd.array([3])\n",
    "}"
   ]
  },
  {
   "cell_type": "markdown",
   "metadata": {},
   "source": [
    "`a`, `b`, `c`, d` 定义的只是计算关系，执行计算（包括申请内存等操作）需要 Executor 用 `bind()` 函数指定输入，`d` 为输出。"
   ]
  },
  {
   "cell_type": "code",
   "execution_count": null,
   "metadata": {
    "ExecuteTime": {
     "end_time": "2018-04-16T07:11:43.836765Z",
     "start_time": "2018-04-16T07:11:43.807240Z"
    }
   },
   "outputs": [],
   "source": [
    "executor = d.bind(ctx=mx.cpu(), args=input_args)"
   ]
  },
  {
   "cell_type": "markdown",
   "metadata": {
    "ExecuteTime": {
     "end_time": "2018-04-16T07:12:07.183364Z",
     "start_time": "2018-04-16T07:12:07.178360Z"
    }
   },
   "source": [
    "## 执行计算"
   ]
  },
  {
   "cell_type": "code",
   "execution_count": null,
   "metadata": {
    "ExecuteTime": {
     "end_time": "2018-04-16T07:13:05.047837Z",
     "start_time": "2018-04-16T07:13:05.032834Z"
    }
   },
   "outputs": [],
   "source": [
    "executor.forward()"
   ]
  },
  {
   "cell_type": "code",
   "execution_count": null,
   "metadata": {
    "ExecuteTime": {
     "end_time": "2018-04-16T07:14:04.463488Z",
     "start_time": "2018-04-16T07:14:04.456486Z"
    }
   },
   "outputs": [],
   "source": [
    "executor.outputs[0].asnumpy()"
   ]
  },
  {
   "cell_type": "markdown",
   "metadata": {},
   "source": [
    "符号式计算是函数式编程的思路，计算是延迟的（Lazy），符号变量只是用来把数据的 NDArray 和 Symbol 绑定起来，实际的计算发生在 Executor 调用时。\n",
    "\n",
    "### 初始化一个变量用来保存关于 $a$ 的梯度"
   ]
  },
  {
   "cell_type": "code",
   "execution_count": null,
   "metadata": {
    "ExecuteTime": {
     "end_time": "2018-04-16T07:19:26.845495Z",
     "start_time": "2018-04-16T07:19:26.841487Z"
    }
   },
   "outputs": [],
   "source": [
    "grad_a = mx.nd.empty(1)"
   ]
  },
  {
   "cell_type": "markdown",
   "metadata": {
    "ExecuteTime": {
     "end_time": "2018-04-16T07:19:27.344168Z",
     "start_time": "2018-04-16T07:19:27.339198Z"
    }
   },
   "source": [
    "### 在 `bind()` 函数中指定要求梯度的变量"
   ]
  },
  {
   "cell_type": "code",
   "execution_count": null,
   "metadata": {
    "ExecuteTime": {
     "end_time": "2018-04-16T07:23:11.402806Z",
     "start_time": "2018-04-16T07:23:11.392797Z"
    }
   },
   "outputs": [],
   "source": [
    "executor = d.bind(\n",
    "    ctx=mx.cpu(0),\n",
    "    args = input_args,\n",
    "    args_grad = {'a' : grad_a}\n",
    ")"
   ]
  },
  {
   "cell_type": "markdown",
   "metadata": {},
   "source": [
    "因为梯度是传播的，所以最后的输出节点的梯度需要指定，这里用$1$："
   ]
  },
  {
   "cell_type": "code",
   "execution_count": null,
   "metadata": {
    "ExecuteTime": {
     "end_time": "2018-04-16T07:24:51.310835Z",
     "start_time": "2018-04-16T07:24:51.295830Z"
    }
   },
   "outputs": [],
   "source": [
    "executor.backward(out_grads=mx.nd.ones(1))"
   ]
  },
  {
   "cell_type": "code",
   "execution_count": null,
   "metadata": {
    "ExecuteTime": {
     "end_time": "2018-04-16T07:26:14.889881Z",
     "start_time": "2018-04-16T07:26:14.881879Z"
    }
   },
   "outputs": [],
   "source": [
    "# 计算出梯度，将自动刷新在 grad_a 中\n",
    "grad_a"
   ]
  },
  {
   "cell_type": "markdown",
   "metadata": {},
   "source": [
    "`mx.kvstore` 模块支持分布式计算。"
   ]
  },
  {
   "cell_type": "code",
   "execution_count": null,
   "metadata": {
    "ExecuteTime": {
     "end_time": "2018-04-16T07:38:12.316603Z",
     "start_time": "2018-04-16T07:38:11.949359Z"
    }
   },
   "outputs": [],
   "source": [
    "import pickle\n",
    "import numpy as np\n",
    "import matplotlib.pyplot as plt\n",
    "\n",
    "\n",
    "def cos_curve(x):\n",
    "    return 0.25*np.sin(2*x*np.pi+0.5*np.pi) + 0.5\n",
    "\n",
    "\n",
    "np.random.seed(123)\n",
    "samples = []\n",
    "labels = []\n",
    "\n",
    "sample_density = 50\n",
    "for i in range(sample_density):\n",
    "    x1, x2 = np.random.random(2)\n",
    "    bound = cos_curve(x1)\n",
    "    if bound - 0.1 < x2 <= bound + 0.1:\n",
    "        continue\n",
    "    else:\n",
    "        samples.append((x1, x2))\n",
    "        if x2 > bound:\n",
    "            labels.append(1)\n",
    "        else:\n",
    "            labels.append(0)\n",
    "\n",
    "with open('data.pkl', 'wb') as f:\n",
    "    pickle.dump((samples, labels), f)\n",
    "\n",
    "for i, sample in enumerate(samples):\n",
    "    plt.plot(sample[0], sample[1],\n",
    "             'o' if labels[i] else '^',\n",
    "             mec='r' if labels[i] else 'b',\n",
    "             mfc='none',\n",
    "             markersize=10)\n",
    "\n",
    "x1 = np.linspace(0, 1)\n",
    "plt.plot(x1, cos_curve(x1), 'k--')\n",
    "plt.show()"
   ]
  },
  {
   "cell_type": "code",
   "execution_count": null,
   "metadata": {
    "ExecuteTime": {
     "end_time": "2018-04-16T07:39:43.524832Z",
     "start_time": "2018-04-16T07:39:36.950390Z"
    },
    "scrolled": true
   },
   "outputs": [],
   "source": [
    "import pickle\n",
    "import logging\n",
    "import numpy as np\n",
    "import mxnet as mx\n",
    "import matplotlib.pyplot as plt\n",
    "from mpl_toolkits.mplot3d import Axes3D\n",
    "\n",
    "# Define the network\n",
    "data = mx.sym.Variable('data')\n",
    "fc1 = mx.sym.FullyConnected(data=data, name='fc1', num_hidden=2)\n",
    "sigmoid1 = mx.sym.Activation(data=fc1, name='sigmoid1', act_type='sigmoid')\n",
    "fc2 = mx.sym.FullyConnected(data=sigmoid1, name='fc2', num_hidden=2)\n",
    "mlp = mx.sym.SoftmaxOutput(data=fc2, name='softmax')\n",
    "\n",
    "shape = {'data': (2, )}\n",
    "mlp_dot = mx.viz.plot_network(symbol=mlp, shape=shape)\n",
    "mlp_dot.render('simple_mlp.gv', view=True)\n",
    "\n",
    "# Load data & train the model\n",
    "with open('data.pkl', 'rb') as f:\n",
    "    samples, labels = pickle.load(f)\n",
    "\n",
    "logging.getLogger().setLevel(logging.DEBUG)\n",
    "\n",
    "batch_size = len(labels)\n",
    "samples = np.array(samples)\n",
    "labels = np.array(labels)\n",
    "\n",
    "train_iter = mx.io.NDArrayIter(samples, labels, batch_size)\n",
    "\n",
    "model = mx.model.FeedForward.create(\n",
    "    symbol=mlp, X=train_iter, num_epoch=1000, learning_rate=0.1, momentum=0.99)\n",
    "'''\n",
    "# Alternative interface to train the model\n",
    "model = mx.model.FeedForward(\n",
    "    symbol=mlp,\n",
    "    num_epoch=1000,\n",
    "    learning_rate=0.1,\n",
    "    momentum=0.99)\n",
    "model.fit(X=train_iter)\n",
    "'''\n",
    "\n",
    "print(model.predict(mx.nd.array([[0.5, 0.5]])))\n",
    "\n",
    "# Visualize result\n",
    "X = np.arange(0, 1.05, 0.05)\n",
    "Y = np.arange(0, 1.05, 0.05)\n",
    "X, Y = np.meshgrid(X, Y)\n",
    "\n",
    "grids = mx.nd.array(\n",
    "    [[X[i][j], Y[i][j]] for i in range(X.shape[0]) for j in range(X.shape[1])])\n",
    "grid_probs = model.predict(grids)[:, 1].reshape(X.shape)\n",
    "\n",
    "fig = plt.figure('Sample Surface')\n",
    "ax = fig.gca(projection='3d')\n",
    "\n",
    "ax.plot_surface(\n",
    "    X, Y, grid_probs, alpha=0.15, color='k', rstride=2, cstride=2, lw=0.5)\n",
    "samples0 = samples[labels == 0]\n",
    "samples0_probs = model.predict(samples0)[:, 1]\n",
    "samples1 = samples[labels == 1]\n",
    "samples1_probs = model.predict(samples1)[:, 1]\n",
    "\n",
    "ax.scatter(\n",
    "    samples0[:, 0], samples0[:, 1], samples0_probs, c='b', marker='^', s=50)\n",
    "ax.scatter(\n",
    "    samples1[:, 0], samples1[:, 1], samples1_probs, c='r', marker='o', s=50)\n",
    "\n",
    "plt.show()"
   ]
  },
  {
   "cell_type": "code",
   "execution_count": null,
   "metadata": {
    "ExecuteTime": {
     "end_time": "2018-04-16T07:46:38.590922Z",
     "start_time": "2018-04-16T07:46:38.582923Z"
    }
   },
   "outputs": [],
   "source": [
    "net = nn.HybridSequential()\n",
    "with net.name_scope():\n",
    "    net.add(\n",
    "        nn.Conv2D(channels=20, kernel_size=5, activation='relu'),\n",
    "        nn.MaxPool2D(pool_size=2, strides=2),\n",
    "        nn.Conv2D(channels=50, kernel_size=3, activation='relu'),\n",
    "        nn.MaxPool2D(pool_size=2, strides=2),\n",
    "        nn.Flatten(),\n",
    "        nn.Dense(128, activation=\"relu\"),\n",
    "        nn.Dense(10)\n",
    "    )"
   ]
  },
  {
   "cell_type": "code",
   "execution_count": null,
   "metadata": {
    "ExecuteTime": {
     "end_time": "2018-04-16T07:49:31.683573Z",
     "start_time": "2018-04-16T07:49:31.670069Z"
    },
    "scrolled": true
   },
   "outputs": [],
   "source": [
    "net.initialize()\n",
    "net.hybridize()\n",
    "net"
   ]
  },
  {
   "cell_type": "code",
   "execution_count": null,
   "metadata": {
    "ExecuteTime": {
     "end_time": "2018-04-16T07:51:01.406298Z",
     "start_time": "2018-04-16T07:51:01.402297Z"
    }
   },
   "outputs": [],
   "source": [
    "x = nd.random.normal(shape=(100, 32, 32, 3))"
   ]
  },
  {
   "cell_type": "code",
   "execution_count": null,
   "metadata": {
    "ExecuteTime": {
     "end_time": "2018-04-16T07:51:02.269533Z",
     "start_time": "2018-04-16T07:51:02.232556Z"
    },
    "scrolled": true
   },
   "outputs": [],
   "source": [
    "net(x)"
   ]
  },
  {
   "cell_type": "code",
   "execution_count": null,
   "metadata": {
    "ExecuteTime": {
     "end_time": "2018-04-16T07:51:15.761033Z",
     "start_time": "2018-04-16T07:51:15.742036Z"
    }
   },
   "outputs": [],
   "source": [
    "mx.viz.plot_network(symbol=net, shape={'x':(200, 32, 32, 3)})"
   ]
  },
  {
   "cell_type": "code",
   "execution_count": null,
   "metadata": {},
   "outputs": [],
   "source": [
    "import mxnet as mx\n",
    "\n",
    "a = mx.sym.Variable('a')\n",
    "b = mx.sym.Variable('b')\n",
    "c = mx.sym.add_n(a,b,name=\"c\")\n",
    "mx.viz.plot_network(symbol=c)"
   ]
  },
  {
   "cell_type": "code",
   "execution_count": null,
   "metadata": {},
   "outputs": [],
   "source": []
  }
 ],
 "metadata": {
  "kernelspec": {
   "display_name": "Python 3",
   "language": "python",
   "name": "python3"
  },
  "language_info": {
   "codemirror_mode": {
    "name": "ipython",
    "version": 3
   },
   "file_extension": ".py",
   "mimetype": "text/x-python",
   "name": "python",
   "nbconvert_exporter": "python",
   "pygments_lexer": "ipython3",
   "version": "3.6.5"
  },
  "latex_envs": {
   "LaTeX_envs_menu_present": true,
   "autoclose": false,
   "autocomplete": true,
   "bibliofile": "biblio.bib",
   "cite_by": "apalike",
   "current_citInitial": 1,
   "eqLabelWithNumbers": true,
   "eqNumInitial": 1,
   "hotkeys": {
    "equation": "Ctrl-E",
    "itemize": "Ctrl-I"
   },
   "labels_anchors": false,
   "latex_user_defs": false,
   "report_style_numbering": false,
   "user_envs_cfg": false
  },
  "nbTranslate": {
   "displayLangs": [
    "*"
   ],
   "hotkey": "alt-t",
   "langInMainMenu": true,
   "sourceLang": "en",
   "targetLang": "fr",
   "useGoogleTranslate": true
  },
  "toc": {
   "nav_menu": {},
   "number_sections": true,
   "sideBar": true,
   "skip_h1_title": false,
   "title_cell": "Table of Contents",
   "title_sidebar": "Contents",
   "toc_cell": false,
   "toc_position": {},
   "toc_section_display": true,
   "toc_window_display": false
  },
  "varInspector": {
   "cols": {
    "lenName": 16,
    "lenType": 16,
    "lenVar": 40
   },
   "kernels_config": {
    "python": {
     "delete_cmd_postfix": "",
     "delete_cmd_prefix": "del ",
     "library": "var_list.py",
     "varRefreshCmd": "print(var_dic_list())"
    },
    "r": {
     "delete_cmd_postfix": ") ",
     "delete_cmd_prefix": "rm(",
     "library": "var_list.r",
     "varRefreshCmd": "cat(var_dic_list()) "
    }
   },
   "types_to_exclude": [
    "module",
    "function",
    "builtin_function_or_method",
    "instance",
    "_Feature"
   ],
   "window_display": false
  }
 },
 "nbformat": 4,
 "nbformat_minor": 2
}
