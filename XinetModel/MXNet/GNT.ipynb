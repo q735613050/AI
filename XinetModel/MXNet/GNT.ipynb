{
 "cells": [
  {
   "cell_type": "code",
   "execution_count": 1,
   "metadata": {},
   "outputs": [],
   "source": [
    "import os\n",
    "import struct\n",
    "import numpy as np\n",
    "import zipfile\n",
    "import tables as tb\n",
    "import pickle\n",
    "\n",
    "\n",
    "class Bunch(dict):\n",
    "    def __init__(self, *args, **kwds):\n",
    "        super().__init__(*args, **kwds)\n",
    "        self.__dict__ = self\n",
    "\n",
    "            \n",
    "class GNT:\n",
    "    \n",
    "    def __init__(self, buffer):\n",
    "        self.buffer = buffer\n",
    "          \n",
    "    def __iter__(self):\n",
    "        j = 0\n",
    "        for i, _ in enumerate(self.buffer):\n",
    "            if i == j:\n",
    "                size = np.frombuffer(self.buffer[j : j + 4], 'I')[0]\n",
    "                tag = self.buffer[j + 4: j + 6].decode('gb18030')\n",
    "                width, height = np.frombuffer(self.buffer[j + 6: j + 10], 'H')\n",
    "                bitmap = np.frombuffer(self.buffer[j + 10: j + size], 'B').reshape((height, width))\n",
    "                j += size\n",
    "                yield {tag : bitmap}\n",
    "\n",
    "                \n",
    "class HW(Bunch):\n",
    "    \n",
    "    def __init__(self, root, filename, *args, **kwds):\n",
    "        super().__init__(*args, **kwds)\n",
    "        self._type(filename)\n",
    "        path = f'{root}{filename}'\n",
    "        self.Z = zipfile.ZipFile(path)\n",
    "        \n",
    "    def _type(self, filename):\n",
    "        if 'gnt' in filename:\n",
    "            self['type'] = 'gnt'\n",
    "        elif 'pot' in filename:\n",
    "            self['type'] = 'pot'\n",
    "        else:\n",
    "            self['type'] = 'mpf'\n",
    "\n",
    "                \n",
    "class Feature(Bunch):\n",
    "\n",
    "    def __init__(self, root, *args, **kwds):\n",
    "        super().__init__(*args, **kwds)\n",
    "        for filename in os.listdir(root):\n",
    "            name, _ = os.path.splitext(filename)\n",
    "            name = name.replace('.', '')\n",
    "            hw = HW(root, filename)\n",
    "            self[name] = hw\n",
    "            \n",
    "            \n",
    "class DataSet(Bunch):\n",
    "        \n",
    "    def __init__(self, dataset, *args, **kwds):\n",
    "        super().__init__(*args, **kwds)\n",
    "        for info in dataset.Z.infolist():\n",
    "            if not info.is_dir():\n",
    "                name = 'writer' + os.path.splitext(info.filename)[0]\n",
    "                name = name.replace('-', '_').replace('.', '')\n",
    "                buffer = dataset.Z.read(info)\n",
    "                \n",
    "                if dataset.type == 'gnt':\n",
    "                    self[name] = self._gnt(buffer)\n",
    "            \n",
    "    def _gnt(self, buffer):\n",
    "        gnt = GNT(buffer)\n",
    "        X = np.asanyarray([item for item in iter(gnt)])\n",
    "        return X"
   ]
  },
  {
   "cell_type": "code",
   "execution_count": 2,
   "metadata": {},
   "outputs": [],
   "source": [
    "temp = 'D:/temp/'\n",
    "\n",
    "root = 'E:/OCR/CASIA/HW/'"
   ]
  },
  {
   "cell_type": "code",
   "execution_count": 3,
   "metadata": {
    "scrolled": false
   },
   "outputs": [
    {
     "name": "stdout",
     "output_type": "stream",
     "text": [
      "Wall time: 26.7 ms\n"
     ]
    }
   ],
   "source": [
    "%%time\n",
    "ft = Feature(root)\n",
    "dataset = ft.HWDB11trn_gnt"
   ]
  },
  {
   "cell_type": "code",
   "execution_count": 4,
   "metadata": {},
   "outputs": [
    {
     "name": "stdout",
     "output_type": "stream",
     "text": [
      "Wall time: 27min 11s\n"
     ]
    }
   ],
   "source": [
    "%%time\n",
    "D = DataSet(dataset)"
   ]
  },
  {
   "cell_type": "code",
   "execution_count": 15,
   "metadata": {},
   "outputs": [
    {
     "data": {
      "text/plain": [
       "(3749,)"
      ]
     },
     "execution_count": 15,
     "metadata": {},
     "output_type": "execute_result"
    }
   ],
   "source": [
    "D.writer1001_c.shape"
   ]
  },
  {
   "cell_type": "code",
   "execution_count": null,
   "metadata": {},
   "outputs": [],
   "source": []
  }
 ],
 "metadata": {
  "kernelspec": {
   "display_name": "Python 3",
   "language": "python",
   "name": "python3"
  },
  "language_info": {
   "codemirror_mode": {
    "name": "ipython",
    "version": 3
   },
   "file_extension": ".py",
   "mimetype": "text/x-python",
   "name": "python",
   "nbconvert_exporter": "python",
   "pygments_lexer": "ipython3",
   "version": "3.6.5"
  }
 },
 "nbformat": 4,
 "nbformat_minor": 2
}
