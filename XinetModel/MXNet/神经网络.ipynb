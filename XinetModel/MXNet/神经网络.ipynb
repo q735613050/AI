{
 "cells": [
  {
   "cell_type": "code",
   "execution_count": 1,
   "metadata": {
    "ExecuteTime": {
     "end_time": "2018-04-12T14:31:52.816329Z",
     "start_time": "2018-04-12T14:31:35.993889Z"
    }
   },
   "outputs": [
    {
     "name": "stderr",
     "output_type": "stream",
     "text": [
      "Using CNTK backend\n",
      "C:\\ProgramData\\Anaconda3\\lib\\site-packages\\keras\\backend\\cntk_backend.py:21: UserWarning: CNTK backend warning: GPU is not detected. CNTK's CPU version is not fully optimized,please run with GPU to get better performance.\n",
      "  'CNTK backend warning: GPU is not detected. '\n"
     ]
    }
   ],
   "source": [
    "import sys\n",
    "sys.path.append('E:/xinlib')\n",
    "import numpy as np\n",
    "from xintab import DataLoader\n",
    "import xintab\n",
    "\n",
    "import mxnet as mx\n",
    "from mxnet import gluon, autograd, nd\n",
    "from mxnet.gluon import nn\n",
    "\n",
    "\n",
    "class Xinet(nn.Block):\n",
    "    def __init__(self, **kwargs):\n",
    "        super().__init__(**kwargs)\n",
    "        self.net = nn.Sequential()\n",
    "        with self.name_scope():\n",
    "            self.net.add(\n",
    "                nn.Conv2D(channels=20, kernel_size=5),\n",
    "                ### 添加了批量归一化层\n",
    "                nn.BatchNorm(axis=1),\n",
    "                nn.Activation(activation='relu'),\n",
    "                nn.MaxPool2D(pool_size=2, strides=2),\n",
    "                # 第二层卷积\n",
    "                nn.Conv2D(channels=50, kernel_size=3),\n",
    "                nn.BatchNorm(axis=1),\n",
    "                nn.Activation(activation='relu'),\n",
    "                nn.MaxPool2D(pool_size=2, strides=2),\n",
    "                # 第一层全连接\n",
    "                nn.Dense(128, activation=\"relu\"),\n",
    "                nn.Dense(10, activation='relu')\n",
    "            )\n",
    "    def forward(self, x):\n",
    "        return self.net(x)\n",
    "            \n",
    "ctx = xintab.try_gpu()\n",
    "batch_size = 256"
   ]
  },
  {
   "cell_type": "code",
   "execution_count": 2,
   "metadata": {
    "ExecuteTime": {
     "end_time": "2018-04-12T14:33:16.822613Z",
     "start_time": "2018-04-12T14:31:54.871344Z"
    },
    "scrolled": true
   },
   "outputs": [
    {
     "name": "stdout",
     "output_type": "stream",
     "text": [
      "Start training on  gpu(0)\n",
      "Epoch 0. Loss: 22.6518, Train acc 0.100209, valid acc 0.0961944, Time 7.7 sec\n",
      "_____________________________________________________________________________________\n",
      "Test acc 0.100509\n",
      "=====================================================================================\n",
      "Epoch 1. Loss: 2.37082, Train acc 0.100888, valid acc 0.0967026, Time 6.611 sec\n",
      "_____________________________________________________________________________________\n",
      "Epoch 2. Loss: 2.28054, Train acc 0.102045, valid acc 0.095579, Time 6.575 sec\n",
      "_____________________________________________________________________________________\n",
      "Epoch 3. Loss: 2.30259, Train acc 0.101478, valid acc 0.095579, Time 6.59798 sec\n",
      "_____________________________________________________________________________________\n",
      "Epoch 4. Loss: 2.30259, Train acc 0.10145, valid acc 0.095579, Time 6.57102 sec\n",
      "_____________________________________________________________________________________\n",
      "Epoch 5. Loss: 2.30259, Train acc 0.101337, valid acc 0.095579, Time 6.56302 sec\n",
      "_____________________________________________________________________________________\n",
      "Epoch 6. Loss: 2.30259, Train acc 0.101394, valid acc 0.095579, Time 6.60401 sec\n",
      "_____________________________________________________________________________________\n",
      "Epoch 7. Loss: 2.30259, Train acc 0.101563, valid acc 0.095579, Time 6.63399 sec\n",
      "_____________________________________________________________________________________\n",
      "Epoch 8. Loss: 2.30259, Train acc 0.101478, valid acc 0.095579, Time 6.59704 sec\n",
      "_____________________________________________________________________________________\n",
      "Epoch 9. Loss: 2.30259, Train acc 0.101422, valid acc 0.095579, Time 6.57696 sec\n",
      "_____________________________________________________________________________________\n"
     ]
    }
   ],
   "source": [
    "mnist = nn.Sequential()\n",
    "mnist.add(Xinet(prefix='train_'))\n",
    "mnist.initialize(ctx=ctx, init=mx.init.Xavier())\n",
    "loader = DataLoader('cifar10')\n",
    "loss = gluon.loss.SoftmaxCrossEntropyLoss()\n",
    "trainer = gluon.Trainer(mnist.collect_params(), 'rmsprop', {'learning_rate': 0.1, 'gamma1': 0.9})\n",
    "loader.train(mnist, loss, trainer, 10, batch_size, 0.75)\n",
    "loader.myh5.close()"
   ]
  },
  {
   "cell_type": "code",
   "execution_count": null,
   "metadata": {},
   "outputs": [],
   "source": []
  }
 ],
 "metadata": {
  "kernelspec": {
   "display_name": "Python 3",
   "language": "python",
   "name": "python3"
  },
  "language_info": {
   "codemirror_mode": {
    "name": "ipython",
    "version": 3
   },
   "file_extension": ".py",
   "mimetype": "text/x-python",
   "name": "python",
   "nbconvert_exporter": "python",
   "pygments_lexer": "ipython3",
   "version": "3.6.4"
  },
  "latex_envs": {
   "LaTeX_envs_menu_present": true,
   "autoclose": false,
   "autocomplete": true,
   "bibliofile": "biblio.bib",
   "cite_by": "apalike",
   "current_citInitial": 1,
   "eqLabelWithNumbers": true,
   "eqNumInitial": 1,
   "hotkeys": {
    "equation": "Ctrl-E",
    "itemize": "Ctrl-I"
   },
   "labels_anchors": false,
   "latex_user_defs": false,
   "report_style_numbering": false,
   "user_envs_cfg": false
  },
  "nbTranslate": {
   "displayLangs": [
    "*"
   ],
   "hotkey": "alt-t",
   "langInMainMenu": true,
   "sourceLang": "en",
   "targetLang": "fr",
   "useGoogleTranslate": true
  },
  "toc": {
   "nav_menu": {},
   "number_sections": true,
   "sideBar": true,
   "skip_h1_title": false,
   "title_cell": "Table of Contents",
   "title_sidebar": "Contents",
   "toc_cell": false,
   "toc_position": {},
   "toc_section_display": true,
   "toc_window_display": false
  },
  "varInspector": {
   "cols": {
    "lenName": 16,
    "lenType": 16,
    "lenVar": 40
   },
   "kernels_config": {
    "python": {
     "delete_cmd_postfix": "",
     "delete_cmd_prefix": "del ",
     "library": "var_list.py",
     "varRefreshCmd": "print(var_dic_list())"
    },
    "r": {
     "delete_cmd_postfix": ") ",
     "delete_cmd_prefix": "rm(",
     "library": "var_list.r",
     "varRefreshCmd": "cat(var_dic_list()) "
    }
   },
   "types_to_exclude": [
    "module",
    "function",
    "builtin_function_or_method",
    "instance",
    "_Feature"
   ],
   "window_display": false
  },
  "widgets": {
   "application/vnd.jupyter.widget-state+json": {
    "state": {},
    "version_major": 2,
    "version_minor": 0
   }
  }
 },
 "nbformat": 4,
 "nbformat_minor": 2
}
