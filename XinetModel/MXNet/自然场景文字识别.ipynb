{
 "cells": [
  {
   "cell_type": "markdown",
   "metadata": {},
   "source": [
    "参考资料：\n",
    "- [随笔分类 - 论文阅读_自然场景文字识别](http://www.cnblogs.com/lillylin/category/905423.html)\n",
    "- [Towards End-to-end Text Spotting with Convolutional Recurrent Neural Networks阅读笔记](https://blog.csdn.net/u010238520/article/details/77386939)\n",
    "- [深度学习文字识别论文综述](https://blog.csdn.net/awangpanfeng/article/details/50896303)\n",
    "- [OCR 技术汇总](https://blog.csdn.net/wmsbeijing/article/details/79063043)\n",
    "- [文本检测之PixelLink](https://zhuanlan.zhihu.com/p/38171172)\n",
    "- [深入浅出了解OCR识别票据原理](https://www.cnblogs.com/qcloud1001/p/8081438.html)\n",
    "- [TensorFlow与中文手写汉字识别](http://python.jobbole.com/87509/)"
   ]
  },
  {
   "cell_type": "code",
   "execution_count": null,
   "metadata": {},
   "outputs": [],
   "source": []
  }
 ],
 "metadata": {
  "kernelspec": {
   "display_name": "Python 3",
   "language": "python",
   "name": "python3"
  },
  "language_info": {
   "codemirror_mode": {
    "name": "ipython",
    "version": 3
   },
   "file_extension": ".py",
   "mimetype": "text/x-python",
   "name": "python",
   "nbconvert_exporter": "python",
   "pygments_lexer": "ipython3",
   "version": "3.6.5"
  }
 },
 "nbformat": 4,
 "nbformat_minor": 2
}
