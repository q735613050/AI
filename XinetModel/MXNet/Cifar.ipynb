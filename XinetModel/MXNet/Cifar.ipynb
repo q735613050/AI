{
 "cells": [
  {
   "cell_type": "markdown",
   "metadata": {},
   "source": [
    "# MSRA初始化\n",
    "“Xavier” 是一种相对不错的初始化方法，在博文[“深度学习——Xavier初始化方法”](https://blog.csdn.net/shuzfan/article/details/51338178)中有介绍。但是，Xavier推导的时候假设激活函数是线性的，显然我们目前常用的ReLU和PReLU并不满足这一条件。\n",
    "\n",
    "只考虑输入个数时，[MSRA](https://blog.csdn.net/shuzfan/article/details/51347572) 初始化是一个均值为`0`方差为`2/n`的高斯分布：\n",
    "\n",
    "# [【CV知识学习】神经网络梯度与归一化问题总结+highway network、ResNet的思考](http://www.cnblogs.com/jie-dcai/p/5803220.html)\n",
    "\n",
    "可以看到，当网络加深，训练的误差反而上升了，而加入了highway之后，这个问题得到了缓解。一般来说，深度网络训练困难是由于梯度回流受阻的问题，可能浅层网络没有办法得到调整，或者我自己YY的一个原因是（回流的信息经过网络之后已经变形了，很可能就出现了internal covariate shift类似的问题了）。Highway Network 受LSTM启发，增加了一个门函数，让网络的输出由两部分组成，分别是网络的直接输入以及输入变形后的部分。"
   ]
  },
  {
   "cell_type": "code",
   "execution_count": 1,
   "metadata": {
    "scrolled": true
   },
   "outputs": [
    {
     "name": "stderr",
     "output_type": "stream",
     "text": [
      "C:\\ProgramData\\Anaconda3\\lib\\site-packages\\h5py\\__init__.py:36: FutureWarning: Conversion of the second argument of issubdtype from `float` to `np.floating` is deprecated. In future, it will be treated as `np.float64 == np.dtype(float).type`.\n",
      "  from ._conv import register_converters as _register_converters\n"
     ]
    }
   ],
   "source": [
    "import sys\n",
    "sys.path.append('E:/xlab')\n",
    "\n",
    "\n",
    "from mxnet.gluon import nn\n",
    "from mxnet import nd, autograd, init\n",
    "from gluoncv.model_zoo import get_model\n",
    "import tables as tb\n",
    "\n",
    "from base.xloader import Loader\n",
    "\n",
    "\n",
    "xpath = 'E:/xdata/X.h5'\n",
    "h5 = tb.open_file(xpath)\n",
    "cifar = h5.root.cifar10\n",
    "\n",
    "batch_size = 256\n",
    "train_data = Loader(cifar.trainX, cifar.trainY, batch_size, True)\n",
    "test_data = Loader(cifar.testX, cifar.testY, batch_size, False)"
   ]
  },
  {
   "cell_type": "code",
   "execution_count": 2,
   "metadata": {
    "scrolled": true
   },
   "outputs": [],
   "source": [
    "pnet = get_model('cifar_resnet20_v2', pretrained = True)"
   ]
  },
  {
   "cell_type": "code",
   "execution_count": 5,
   "metadata": {},
   "outputs": [],
   "source": [
    "for imgs, labels in iter(train_data):\n",
    "    X = nd.array(imgs)\n",
    "    break"
   ]
  },
  {
   "cell_type": "code",
   "execution_count": 22,
   "metadata": {},
   "outputs": [
    {
     "data": {
      "text/plain": [
       "\n",
       "[[0.00336762 0.01516689 0.00253347 ... 0.00504274 0.00964877 0.05146184]\n",
       " [0.00439547 0.02479693 0.         ... 0.12292846 0.0666824  0.00936293]\n",
       " [0.0187403  0.02740918 0.01029928 ... 0.         0.02759702 0.02019245]\n",
       " ...\n",
       " [0.0615379  0.08300509 0.         ... 0.01976576 0.09429143 0.        ]\n",
       " [0.03057484 0.02722096 0.         ... 0.01825439 0.06992494 0.10787252]\n",
       " [0.06040259 0.05962146 0.01497491 ... 0.01512903 0.0538373  0.01285281]]\n",
       "<NDArray 10x256 @cpu(0)>"
      ]
     },
     "execution_count": 22,
     "metadata": {},
     "output_type": "execute_result"
    }
   ],
   "source": [
    "x = nd.random.normal(shape=(10, 3, 64, 64))\n",
    "xnet.features(x)"
   ]
  },
  {
   "cell_type": "code",
   "execution_count": 36,
   "metadata": {},
   "outputs": [],
   "source": [
    "class XNet(nn.HybridSequential):\n",
    "    \n",
    "    def __init__(self, classes = 100, **kwargs):\n",
    "        super().__init__(**kwargs)\n",
    "        self.features = get_model('cifar_resnet20_v2', classes = 10).features\n",
    "        self.features.add(\n",
    "            nn.Dense(classes)\n",
    "        )\n",
    "        \n",
    "    def hybird_forward(self, F, x):\n",
    "        x = self.features(x)\n",
    "        return x"
   ]
  },
  {
   "cell_type": "code",
   "execution_count": 37,
   "metadata": {},
   "outputs": [],
   "source": [
    "net = XNet()\n",
    "net.initialize(init.Xavier(magnitude=2))\n",
    "net.hybridize()"
   ]
  },
  {
   "cell_type": "code",
   "execution_count": 39,
   "metadata": {},
   "outputs": [],
   "source": []
  },
  {
   "cell_type": "code",
   "execution_count": null,
   "metadata": {},
   "outputs": [],
   "source": []
  }
 ],
 "metadata": {
  "kernelspec": {
   "display_name": "Python 3",
   "language": "python",
   "name": "python3"
  },
  "language_info": {
   "codemirror_mode": {
    "name": "ipython",
    "version": 3
   },
   "file_extension": ".py",
   "mimetype": "text/x-python",
   "name": "python",
   "nbconvert_exporter": "python",
   "pygments_lexer": "ipython3",
   "version": "3.6.5"
  }
 },
 "nbformat": 4,
 "nbformat_minor": 2
}
