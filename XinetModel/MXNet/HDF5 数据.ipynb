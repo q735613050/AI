{
 "cells": [
  {
   "cell_type": "markdown",
   "metadata": {},
   "source": [
    "```sh\n",
    "name in ['cifar10', 'cifar100', 'fashion_mnist', 'mnist', 'boston_housing']\n",
    "将 HDF5 数据库中的数据集转换为迭代器。\n",
    "在采用 MXNet 训练结束后，需要运行 `myh5.close()` 关闭数据库。\n",
    "```"
   ]
  },
  {
   "cell_type": "code",
   "execution_count": 1,
   "metadata": {
    "scrolled": true
   },
   "outputs": [
    {
     "name": "stderr",
     "output_type": "stream",
     "text": [
      "C:\\Program Files (x86)\\Microsoft Visual Studio\\Shared\\Anaconda3_64\\lib\\site-packages\\sklearn\\externals\\joblib\\func_inspect.py:53: DeprecationWarning: invalid escape sequence \\<\n",
      "  '\\<doctest (.*\\.rst)\\[(.*)\\]\\>', source_file).groups()\n",
      "C:\\Program Files (x86)\\Microsoft Visual Studio\\Shared\\Anaconda3_64\\lib\\site-packages\\sklearn\\externals\\joblib\\_memory_helpers.py:10: DeprecationWarning: invalid escape sequence \\s\n",
      "  cookie_re = re.compile(\"coding[:=]\\s*([-\\w.]+)\")\n",
      "Using CNTK backend\n",
      "C:\\Program Files (x86)\\Microsoft Visual Studio\\Shared\\Anaconda3_64\\lib\\site-packages\\cntk\\default_options.py:89: DeprecationWarning: inspect.getargspec() is deprecated, use inspect.signature() or inspect.getfullargspec()\n",
      "  args, _, _, _ = getargspec(function_or_class) if isfunction(function_or_class) else getargspec(function_or_class.__init__)\n"
     ]
    }
   ],
   "source": [
    "import sys\n",
    "from gluoncv.model_zoo import get_model\n",
    "from mxnet import nd, gluon\n",
    "from mxnet.gluon import nn\n",
    "import mxnet as mx\n",
    "\n",
    "sys.path.append('E:/xinlib')\n",
    "from hcv import Loaderh5, TrainerHDF5"
   ]
  },
  {
   "cell_type": "code",
   "execution_count": 2,
   "metadata": {
    "scrolled": true
   },
   "outputs": [],
   "source": [
    "Li = Loaderh5('cifar10', 'fdg')"
   ]
  },
  {
   "cell_type": "code",
   "execution_count": 3,
   "metadata": {},
   "outputs": [],
   "source": [
    "ctx = mx.gpu(0)\n",
    "\n",
    "model_name = 'cifar_wideresnet40_8'\n",
    "finetune_net = get_model(model_name, pretrained=True)\n",
    "with finetune_net.name_scope():\n",
    "    finetune_net.output = nn.Dense(10)\n",
    "finetune_net.output.initialize(mx.init.Xavier(), ctx = ctx)\n",
    "finetune_net.collect_params().reset_ctx(ctx)\n",
    "finetune_net.hybridize()"
   ]
  },
  {
   "cell_type": "code",
   "execution_count": 4,
   "metadata": {},
   "outputs": [],
   "source": [
    "resize = 32\n",
    "T = TrainerHDF5(Li, resize)"
   ]
  },
  {
   "cell_type": "code",
   "execution_count": 5,
   "metadata": {
    "scrolled": true
   },
   "outputs": [
    {
     "name": "stderr",
     "output_type": "stream",
     "text": [
      "INFO:mxboard.event_file_writer:successfully opened events file: D:/logs/cross_entropy/cifarwideresnet0\\events.out.tfevents.1526619482.Xinet\n",
      "INFO:mxboard.event_file_writer:wrote 1 event to disk\n",
      "INFO:mxboard.event_file_writer:wrote 1 event to disk\n",
      "C:\\Program Files (x86)\\Microsoft Visual Studio\\Shared\\Anaconda3_64\\lib\\site-packages\\PIL\\GifImagePlugin.py:783: DeprecationWarning: invalid escape sequence \\*\n",
      "  \"\"\"\n",
      "INFO:mxboard.event_file_writer:successfully opened events file: D:/logs\\events.out.tfevents.1526619483.Xinet\n",
      "INFO:mxboard.event_file_writer:wrote 1 event to disk\n",
      "INFO:mxboard.event_file_writer:wrote 1 event to disk\n",
      "INFO:mxboard.event_file_writer:wrote 13 events to disk\n",
      "INFO:mxboard.event_file_writer:wrote 13 events to disk\n",
      "INFO:mxboard.event_file_writer:wrote 13 events to disk\n",
      "INFO:mxboard.event_file_writer:wrote 13 events to disk\n",
      "INFO:mxboard.event_file_writer:wrote 13 events to disk\n",
      "INFO:mxboard.event_file_writer:wrote 13 events to disk\n",
      "INFO:mxboard.event_file_writer:wrote 13 events to disk\n",
      "INFO:mxboard.event_file_writer:wrote 13 events to disk\n",
      "INFO:mxboard.event_file_writer:wrote 13 events to disk\n",
      "INFO:mxboard.event_file_writer:wrote 13 events to disk\n",
      "INFO:mxboard.event_file_writer:wrote 13 events to disk\n",
      "INFO:mxboard.event_file_writer:wrote 13 events to disk\n",
      "INFO:mxboard.event_file_writer:wrote 13 events to disk\n",
      "INFO:mxboard.event_file_writer:wrote 13 events to disk\n",
      "INFO:mxboard.event_file_writer:wrote 13 events to disk\n"
     ]
    },
    {
     "name": "stdout",
     "output_type": "stream",
     "text": [
      "[Epoch 0 Batch 200] Training: accuracy=0.597093\n"
     ]
    },
    {
     "name": "stderr",
     "output_type": "stream",
     "text": [
      "INFO:mxboard.event_file_writer:wrote 13 events to disk\n",
      "INFO:mxboard.event_file_writer:wrote 13 events to disk\n",
      "INFO:mxboard.event_file_writer:wrote 13 events to disk\n",
      "INFO:mxboard.event_file_writer:wrote 13 events to disk\n",
      "INFO:mxboard.event_file_writer:wrote 13 events to disk\n",
      "INFO:mxboard.event_file_writer:wrote 13 events to disk\n",
      "INFO:mxboard.event_file_writer:wrote 13 events to disk\n",
      "INFO:mxboard.event_file_writer:wrote 13 events to disk\n",
      "INFO:mxboard.event_file_writer:wrote 13 events to disk\n",
      "INFO:mxboard.event_file_writer:wrote 13 events to disk\n",
      "INFO:mxboard.event_file_writer:wrote 13 events to disk\n",
      "INFO:mxboard.event_file_writer:wrote 13 events to disk\n",
      "INFO:mxboard.event_file_writer:wrote 13 events to disk\n",
      "INFO:mxboard.event_file_writer:wrote 13 events to disk\n",
      "INFO:mxboard.event_file_writer:wrote 13 events to disk\n"
     ]
    },
    {
     "name": "stdout",
     "output_type": "stream",
     "text": [
      "[Epoch 0 Batch 400] Training: accuracy=0.637547\n"
     ]
    },
    {
     "name": "stderr",
     "output_type": "stream",
     "text": [
      "INFO:mxboard.event_file_writer:wrote 13 events to disk\n",
      "INFO:mxboard.event_file_writer:wrote 13 events to disk\n",
      "INFO:mxboard.event_file_writer:wrote 13 events to disk\n",
      "INFO:mxboard.event_file_writer:wrote 13 events to disk\n",
      "INFO:mxboard.event_file_writer:wrote 13 events to disk\n",
      "INFO:mxboard.event_file_writer:wrote 13 events to disk\n",
      "INFO:mxboard.event_file_writer:wrote 13 events to disk\n",
      "INFO:mxboard.event_file_writer:wrote 13 events to disk\n",
      "INFO:mxboard.event_file_writer:wrote 13 events to disk\n",
      "INFO:mxboard.event_file_writer:wrote 13 events to disk\n",
      "INFO:mxboard.event_file_writer:wrote 13 events to disk\n",
      "INFO:mxboard.event_file_writer:wrote 13 events to disk\n"
     ]
    },
    {
     "name": "stdout",
     "output_type": "stream",
     "text": [
      "[Epoch 0] Training: accuracy=0.659114: 899.4457881450653 s"
     ]
    },
    {
     "name": "stderr",
     "output_type": "stream",
     "text": [
      "INFO:mxboard.event_file_writer:wrote 1 event to disk"
     ]
    },
    {
     "name": "stdout",
     "output_type": "stream",
     "text": [
      "\n"
     ]
    },
    {
     "name": "stderr",
     "output_type": "stream",
     "text": [
      "\n",
      "INFO:mxboard.event_file_writer:successfully opened events file: D:/logs/accuracy_curves/cifarwideresnet0_train_acc\\events.out.tfevents.1526620376.Xinet\n",
      "INFO:mxboard.event_file_writer:wrote 1 event to disk\n",
      "INFO:mxboard.event_file_writer:wrote 1 event to disk\n"
     ]
    },
    {
     "name": "stdout",
     "output_type": "stream",
     "text": [
      "[Epoch 0] Validation: accuracy=0.822467\n"
     ]
    },
    {
     "name": "stderr",
     "output_type": "stream",
     "text": [
      "INFO:mxboard.event_file_writer:successfully opened events file: D:/logs/accuracy_curves/cifarwideresnet0_valid_acc\\events.out.tfevents.1526620496.Xinet\n",
      "INFO:mxboard.event_file_writer:wrote 1 event to disk\n",
      "INFO:mxboard.event_file_writer:wrote 1 event to disk\n"
     ]
    },
    {
     "name": "stdout",
     "output_type": "stream",
     "text": [
      "[Epoch 0] Test: accuracy=0.8047\n"
     ]
    },
    {
     "name": "stderr",
     "output_type": "stream",
     "text": [
      "INFO:mxboard.event_file_writer:successfully opened events file: D:/logs/accuracy_curves/cifarwideresnet0_test_acc\\events.out.tfevents.1526620577.Xinet\n",
      "INFO:mxboard.event_file_writer:wrote 1 event to disk\n",
      "INFO:mxboard.event_file_writer:wrote 1 event to disk\n",
      "INFO:mxboard.event_file_writer:wrote 1 event to disk\n",
      "INFO:mxboard.event_file_writer:wrote 1 event to disk\n",
      "INFO:mxboard.event_file_writer:wrote 11 events to disk\n",
      "INFO:mxboard.event_file_writer:wrote 11 events to disk\n",
      "INFO:mxboard.event_file_writer:wrote 11 events to disk\n",
      "INFO:mxboard.event_file_writer:wrote 11 events to disk\n",
      "INFO:mxboard.event_file_writer:wrote 11 events to disk\n",
      "INFO:mxboard.event_file_writer:wrote 11 events to disk\n",
      "INFO:mxboard.event_file_writer:wrote 11 events to disk\n",
      "INFO:mxboard.event_file_writer:wrote 11 events to disk\n",
      "INFO:mxboard.event_file_writer:wrote 11 events to disk\n",
      "INFO:mxboard.event_file_writer:wrote 11 events to disk\n",
      "INFO:mxboard.event_file_writer:wrote 11 events to disk\n",
      "INFO:mxboard.event_file_writer:wrote 11 events to disk\n",
      "INFO:mxboard.event_file_writer:wrote 11 events to disk\n",
      "INFO:mxboard.event_file_writer:wrote 11 events to disk\n",
      "INFO:mxboard.event_file_writer:wrote 11 events to disk\n",
      "INFO:mxboard.event_file_writer:wrote 11 events to disk\n",
      "INFO:mxboard.event_file_writer:wrote 11 events to disk\n",
      "INFO:mxboard.event_file_writer:wrote 11 events to disk\n"
     ]
    },
    {
     "name": "stdout",
     "output_type": "stream",
     "text": [
      "[Epoch 1 Batch 200] Training: accuracy=0.728545\n"
     ]
    },
    {
     "name": "stderr",
     "output_type": "stream",
     "text": [
      "INFO:mxboard.event_file_writer:wrote 11 events to disk\n",
      "INFO:mxboard.event_file_writer:wrote 11 events to disk\n",
      "INFO:mxboard.event_file_writer:wrote 11 events to disk\n",
      "INFO:mxboard.event_file_writer:wrote 11 events to disk\n",
      "INFO:mxboard.event_file_writer:wrote 11 events to disk\n",
      "INFO:mxboard.event_file_writer:wrote 11 events to disk\n",
      "INFO:mxboard.event_file_writer:wrote 11 events to disk\n",
      "INFO:mxboard.event_file_writer:wrote 11 events to disk\n",
      "INFO:mxboard.event_file_writer:wrote 11 events to disk\n",
      "INFO:mxboard.event_file_writer:wrote 11 events to disk\n",
      "INFO:mxboard.event_file_writer:wrote 11 events to disk\n",
      "INFO:mxboard.event_file_writer:wrote 11 events to disk\n",
      "INFO:mxboard.event_file_writer:wrote 11 events to disk\n",
      "INFO:mxboard.event_file_writer:wrote 11 events to disk\n",
      "INFO:mxboard.event_file_writer:wrote 11 events to disk\n",
      "INFO:mxboard.event_file_writer:wrote 11 events to disk\n",
      "INFO:mxboard.event_file_writer:wrote 11 events to disk\n",
      "INFO:mxboard.event_file_writer:wrote 11 events to disk\n"
     ]
    },
    {
     "name": "stdout",
     "output_type": "stream",
     "text": [
      "[Epoch 1 Batch 400] Training: accuracy=0.734959\n"
     ]
    },
    {
     "name": "stderr",
     "output_type": "stream",
     "text": [
      "INFO:mxboard.event_file_writer:wrote 11 events to disk\n",
      "INFO:mxboard.event_file_writer:wrote 11 events to disk\n",
      "INFO:mxboard.event_file_writer:wrote 11 events to disk\n",
      "INFO:mxboard.event_file_writer:wrote 11 events to disk\n",
      "INFO:mxboard.event_file_writer:wrote 11 events to disk\n",
      "INFO:mxboard.event_file_writer:wrote 11 events to disk\n",
      "INFO:mxboard.event_file_writer:wrote 11 events to disk\n",
      "INFO:mxboard.event_file_writer:wrote 11 events to disk\n",
      "INFO:mxboard.event_file_writer:wrote 11 events to disk\n",
      "INFO:mxboard.event_file_writer:wrote 11 events to disk\n",
      "INFO:mxboard.event_file_writer:wrote 11 events to disk\n",
      "INFO:mxboard.event_file_writer:wrote 11 events to disk\n",
      "INFO:mxboard.event_file_writer:wrote 11 events to disk\n"
     ]
    },
    {
     "name": "stdout",
     "output_type": "stream",
     "text": [
      "[Epoch 1] Training: accuracy=0.740286: 1070.2224848270416 s\n"
     ]
    },
    {
     "name": "stderr",
     "output_type": "stream",
     "text": [
      "INFO:mxboard.event_file_writer:wrote 1 event to disk\n"
     ]
    },
    {
     "name": "stdout",
     "output_type": "stream",
     "text": [
      "[Epoch 1] Validation: accuracy=0.835067\n"
     ]
    },
    {
     "name": "stderr",
     "output_type": "stream",
     "text": [
      "INFO:mxboard.event_file_writer:wrote 1 event to disk\n"
     ]
    },
    {
     "name": "stdout",
     "output_type": "stream",
     "text": [
      "[Epoch 1] Test: accuracy=0.8174\n"
     ]
    },
    {
     "name": "stderr",
     "output_type": "stream",
     "text": [
      "INFO:mxboard.event_file_writer:wrote 1 event to disk\n",
      "INFO:mxboard.event_file_writer:wrote 8 events to disk\n",
      "INFO:mxboard.event_file_writer:wrote 1 event to disk\n",
      "INFO:mxboard.event_file_writer:wrote 11 events to disk\n",
      "INFO:mxboard.event_file_writer:wrote 11 events to disk\n",
      "INFO:mxboard.event_file_writer:wrote 11 events to disk\n",
      "INFO:mxboard.event_file_writer:wrote 11 events to disk\n",
      "INFO:mxboard.event_file_writer:wrote 11 events to disk\n",
      "INFO:mxboard.event_file_writer:wrote 11 events to disk\n",
      "INFO:mxboard.event_file_writer:wrote 11 events to disk\n",
      "INFO:mxboard.event_file_writer:wrote 11 events to disk\n",
      "INFO:mxboard.event_file_writer:wrote 11 events to disk\n",
      "INFO:mxboard.event_file_writer:wrote 11 events to disk\n",
      "INFO:mxboard.event_file_writer:wrote 11 events to disk\n",
      "INFO:mxboard.event_file_writer:wrote 11 events to disk\n",
      "INFO:mxboard.event_file_writer:wrote 11 events to disk\n",
      "INFO:mxboard.event_file_writer:wrote 11 events to disk\n",
      "INFO:mxboard.event_file_writer:wrote 11 events to disk\n",
      "INFO:mxboard.event_file_writer:wrote 11 events to disk\n",
      "INFO:mxboard.event_file_writer:wrote 11 events to disk\n",
      "INFO:mxboard.event_file_writer:wrote 11 events to disk\n"
     ]
    },
    {
     "name": "stdout",
     "output_type": "stream",
     "text": [
      "[Epoch 2 Batch 200] Training: accuracy=0.758240\n"
     ]
    },
    {
     "name": "stderr",
     "output_type": "stream",
     "text": [
      "INFO:mxboard.event_file_writer:wrote 11 events to disk\n",
      "INFO:mxboard.event_file_writer:wrote 11 events to disk\n",
      "INFO:mxboard.event_file_writer:wrote 11 events to disk\n",
      "INFO:mxboard.event_file_writer:wrote 11 events to disk\n",
      "INFO:mxboard.event_file_writer:wrote 11 events to disk\n",
      "INFO:mxboard.event_file_writer:wrote 11 events to disk\n",
      "INFO:mxboard.event_file_writer:wrote 11 events to disk\n",
      "INFO:mxboard.event_file_writer:wrote 11 events to disk\n",
      "INFO:mxboard.event_file_writer:wrote 11 events to disk\n",
      "INFO:mxboard.event_file_writer:wrote 11 events to disk\n",
      "INFO:mxboard.event_file_writer:wrote 11 events to disk\n",
      "INFO:mxboard.event_file_writer:wrote 11 events to disk\n",
      "INFO:mxboard.event_file_writer:wrote 11 events to disk\n",
      "INFO:mxboard.event_file_writer:wrote 11 events to disk\n",
      "INFO:mxboard.event_file_writer:wrote 11 events to disk\n",
      "INFO:mxboard.event_file_writer:wrote 11 events to disk\n",
      "INFO:mxboard.event_file_writer:wrote 11 events to disk\n",
      "INFO:mxboard.event_file_writer:wrote 11 events to disk\n"
     ]
    },
    {
     "name": "stdout",
     "output_type": "stream",
     "text": [
      "[Epoch 2 Batch 400] Training: accuracy=0.760365\n"
     ]
    },
    {
     "name": "stderr",
     "output_type": "stream",
     "text": [
      "INFO:mxboard.event_file_writer:wrote 11 events to disk\n",
      "INFO:mxboard.event_file_writer:wrote 11 events to disk\n",
      "INFO:mxboard.event_file_writer:wrote 11 events to disk\n",
      "INFO:mxboard.event_file_writer:wrote 11 events to disk\n",
      "INFO:mxboard.event_file_writer:wrote 11 events to disk\n",
      "INFO:mxboard.event_file_writer:wrote 11 events to disk\n",
      "INFO:mxboard.event_file_writer:wrote 11 events to disk\n",
      "INFO:mxboard.event_file_writer:wrote 11 events to disk\n",
      "INFO:mxboard.event_file_writer:wrote 11 events to disk\n",
      "INFO:mxboard.event_file_writer:wrote 11 events to disk\n",
      "INFO:mxboard.event_file_writer:wrote 11 events to disk\n",
      "INFO:mxboard.event_file_writer:wrote 11 events to disk\n",
      "INFO:mxboard.event_file_writer:wrote 11 events to disk\n"
     ]
    },
    {
     "name": "stdout",
     "output_type": "stream",
     "text": [
      "[Epoch 2] Training: accuracy=0.766971: 1071.6429522037506 s\n"
     ]
    },
    {
     "name": "stderr",
     "output_type": "stream",
     "text": [
      "INFO:mxboard.event_file_writer:wrote 1 event to disk\n"
     ]
    },
    {
     "name": "stdout",
     "output_type": "stream",
     "text": [
      "[Epoch 2] Validation: accuracy=0.846333\n"
     ]
    },
    {
     "name": "stderr",
     "output_type": "stream",
     "text": [
      "INFO:mxboard.event_file_writer:wrote 1 event to disk\n"
     ]
    },
    {
     "name": "stdout",
     "output_type": "stream",
     "text": [
      "[Epoch 2] Test: accuracy=0.841\n"
     ]
    },
    {
     "name": "stderr",
     "output_type": "stream",
     "text": [
      "INFO:mxboard.event_file_writer:wrote 1 event to disk\n",
      "INFO:mxboard.event_file_writer:wrote 8 events to disk\n",
      "INFO:mxboard.event_file_writer:wrote 1 event to disk\n",
      "INFO:mxboard.event_file_writer:wrote 10 events to disk\n",
      "INFO:mxboard.event_file_writer:wrote 10 events to disk\n",
      "INFO:mxboard.event_file_writer:wrote 10 events to disk\n",
      "INFO:mxboard.event_file_writer:wrote 11 events to disk\n",
      "INFO:mxboard.event_file_writer:wrote 11 events to disk\n",
      "INFO:mxboard.event_file_writer:wrote 11 events to disk\n",
      "INFO:mxboard.event_file_writer:wrote 11 events to disk\n",
      "INFO:mxboard.event_file_writer:wrote 11 events to disk\n",
      "INFO:mxboard.event_file_writer:wrote 11 events to disk\n",
      "INFO:mxboard.event_file_writer:wrote 11 events to disk\n",
      "INFO:mxboard.event_file_writer:wrote 11 events to disk\n",
      "INFO:mxboard.event_file_writer:wrote 11 events to disk\n",
      "INFO:mxboard.event_file_writer:wrote 11 events to disk\n",
      "INFO:mxboard.event_file_writer:wrote 11 events to disk\n",
      "INFO:mxboard.event_file_writer:wrote 11 events to disk\n",
      "INFO:mxboard.event_file_writer:wrote 11 events to disk\n",
      "INFO:mxboard.event_file_writer:wrote 11 events to disk\n",
      "INFO:mxboard.event_file_writer:wrote 11 events to disk\n"
     ]
    },
    {
     "name": "stdout",
     "output_type": "stream",
     "text": [
      "[Epoch 3 Batch 200] Training: accuracy=0.774021\n"
     ]
    },
    {
     "name": "stderr",
     "output_type": "stream",
     "text": [
      "INFO:mxboard.event_file_writer:wrote 11 events to disk\n",
      "INFO:mxboard.event_file_writer:wrote 11 events to disk\n",
      "INFO:mxboard.event_file_writer:wrote 11 events to disk\n",
      "INFO:mxboard.event_file_writer:wrote 11 events to disk\n",
      "INFO:mxboard.event_file_writer:wrote 11 events to disk\n",
      "INFO:mxboard.event_file_writer:wrote 11 events to disk\n",
      "INFO:mxboard.event_file_writer:wrote 11 events to disk\n",
      "INFO:mxboard.event_file_writer:wrote 11 events to disk\n",
      "INFO:mxboard.event_file_writer:wrote 11 events to disk\n",
      "INFO:mxboard.event_file_writer:wrote 11 events to disk\n",
      "INFO:mxboard.event_file_writer:wrote 11 events to disk\n",
      "INFO:mxboard.event_file_writer:wrote 11 events to disk\n",
      "INFO:mxboard.event_file_writer:wrote 11 events to disk\n",
      "INFO:mxboard.event_file_writer:wrote 11 events to disk\n",
      "INFO:mxboard.event_file_writer:wrote 11 events to disk\n",
      "INFO:mxboard.event_file_writer:wrote 11 events to disk\n",
      "INFO:mxboard.event_file_writer:wrote 10 events to disk\n",
      "INFO:mxboard.event_file_writer:wrote 11 events to disk\n"
     ]
    },
    {
     "name": "stdout",
     "output_type": "stream",
     "text": [
      "[Epoch 3 Batch 400] Training: accuracy=0.775912\n"
     ]
    },
    {
     "name": "stderr",
     "output_type": "stream",
     "text": [
      "INFO:mxboard.event_file_writer:wrote 11 events to disk\n",
      "INFO:mxboard.event_file_writer:wrote 11 events to disk\n",
      "INFO:mxboard.event_file_writer:wrote 11 events to disk\n",
      "INFO:mxboard.event_file_writer:wrote 11 events to disk\n",
      "INFO:mxboard.event_file_writer:wrote 10 events to disk\n",
      "INFO:mxboard.event_file_writer:wrote 10 events to disk\n",
      "INFO:mxboard.event_file_writer:wrote 11 events to disk\n",
      "INFO:mxboard.event_file_writer:wrote 11 events to disk\n",
      "INFO:mxboard.event_file_writer:wrote 11 events to disk\n",
      "INFO:mxboard.event_file_writer:wrote 11 events to disk\n",
      "INFO:mxboard.event_file_writer:wrote 11 events to disk\n",
      "INFO:mxboard.event_file_writer:wrote 11 events to disk\n",
      "INFO:mxboard.event_file_writer:wrote 10 events to disk\n",
      "INFO:mxboard.event_file_writer:wrote 11 events to disk\n"
     ]
    },
    {
     "name": "stdout",
     "output_type": "stream",
     "text": [
      "[Epoch 3] Training: accuracy=0.780171: 1080.1547627449036 s\n"
     ]
    },
    {
     "name": "stderr",
     "output_type": "stream",
     "text": [
      "INFO:mxboard.event_file_writer:wrote 1 event to disk\n"
     ]
    },
    {
     "name": "stdout",
     "output_type": "stream",
     "text": [
      "[Epoch 3] Validation: accuracy=0.8542\n"
     ]
    },
    {
     "name": "stderr",
     "output_type": "stream",
     "text": [
      "INFO:mxboard.event_file_writer:wrote 1 event to disk\n"
     ]
    },
    {
     "name": "stdout",
     "output_type": "stream",
     "text": [
      "[Epoch 3] Test: accuracy=0.8429\n"
     ]
    },
    {
     "name": "stderr",
     "output_type": "stream",
     "text": [
      "INFO:mxboard.event_file_writer:wrote 1 event to disk\n",
      "INFO:mxboard.event_file_writer:wrote 4 events to disk\n",
      "INFO:mxboard.event_file_writer:wrote 1 event to disk\n",
      "INFO:mxboard.event_file_writer:wrote 11 events to disk\n",
      "INFO:mxboard.event_file_writer:wrote 10 events to disk\n",
      "INFO:mxboard.event_file_writer:wrote 10 events to disk\n",
      "INFO:mxboard.event_file_writer:wrote 10 events to disk\n",
      "INFO:mxboard.event_file_writer:wrote 11 events to disk\n",
      "INFO:mxboard.event_file_writer:wrote 10 events to disk\n",
      "INFO:mxboard.event_file_writer:wrote 11 events to disk\n",
      "INFO:mxboard.event_file_writer:wrote 11 events to disk\n",
      "INFO:mxboard.event_file_writer:wrote 11 events to disk\n",
      "INFO:mxboard.event_file_writer:wrote 11 events to disk\n",
      "INFO:mxboard.event_file_writer:wrote 10 events to disk\n",
      "INFO:mxboard.event_file_writer:wrote 11 events to disk\n",
      "INFO:mxboard.event_file_writer:wrote 11 events to disk\n",
      "INFO:mxboard.event_file_writer:wrote 10 events to disk\n",
      "INFO:mxboard.event_file_writer:wrote 10 events to disk\n",
      "INFO:mxboard.event_file_writer:wrote 10 events to disk\n",
      "INFO:mxboard.event_file_writer:wrote 10 events to disk\n",
      "INFO:mxboard.event_file_writer:wrote 10 events to disk\n",
      "INFO:mxboard.event_file_writer:wrote 10 events to disk\n"
     ]
    },
    {
     "name": "stdout",
     "output_type": "stream",
     "text": [
      "[Epoch 4 Batch 200] Training: accuracy=0.779773\n"
     ]
    },
    {
     "name": "stderr",
     "output_type": "stream",
     "text": [
      "INFO:mxboard.event_file_writer:wrote 10 events to disk\n",
      "INFO:mxboard.event_file_writer:wrote 10 events to disk\n",
      "INFO:mxboard.event_file_writer:wrote 9 events to disk\n",
      "INFO:mxboard.event_file_writer:wrote 10 events to disk\n",
      "INFO:mxboard.event_file_writer:wrote 10 events to disk\n",
      "INFO:mxboard.event_file_writer:wrote 10 events to disk\n",
      "INFO:mxboard.event_file_writer:wrote 10 events to disk\n",
      "INFO:mxboard.event_file_writer:wrote 10 events to disk\n",
      "INFO:mxboard.event_file_writer:wrote 10 events to disk\n",
      "INFO:mxboard.event_file_writer:wrote 10 events to disk\n",
      "INFO:mxboard.event_file_writer:wrote 10 events to disk\n",
      "INFO:mxboard.event_file_writer:wrote 11 events to disk\n",
      "INFO:mxboard.event_file_writer:wrote 10 events to disk\n",
      "INFO:mxboard.event_file_writer:wrote 10 events to disk\n",
      "INFO:mxboard.event_file_writer:wrote 10 events to disk\n",
      "INFO:mxboard.event_file_writer:wrote 11 events to disk\n",
      "INFO:mxboard.event_file_writer:wrote 11 events to disk\n",
      "INFO:mxboard.event_file_writer:wrote 10 events to disk\n",
      "INFO:mxboard.event_file_writer:wrote 10 events to disk\n",
      "INFO:mxboard.event_file_writer:wrote 10 events to disk\n"
     ]
    },
    {
     "name": "stdout",
     "output_type": "stream",
     "text": [
      "[Epoch 4 Batch 400] Training: accuracy=0.786978\n"
     ]
    },
    {
     "name": "stderr",
     "output_type": "stream",
     "text": [
      "INFO:mxboard.event_file_writer:wrote 10 events to disk\n",
      "INFO:mxboard.event_file_writer:wrote 10 events to disk\n",
      "INFO:mxboard.event_file_writer:wrote 11 events to disk\n",
      "INFO:mxboard.event_file_writer:wrote 10 events to disk\n",
      "INFO:mxboard.event_file_writer:wrote 10 events to disk\n",
      "INFO:mxboard.event_file_writer:wrote 10 events to disk\n",
      "INFO:mxboard.event_file_writer:wrote 10 events to disk\n",
      "INFO:mxboard.event_file_writer:wrote 10 events to disk\n",
      "INFO:mxboard.event_file_writer:wrote 10 events to disk\n",
      "INFO:mxboard.event_file_writer:wrote 10 events to disk\n",
      "INFO:mxboard.event_file_writer:wrote 10 events to disk\n",
      "INFO:mxboard.event_file_writer:wrote 10 events to disk\n",
      "INFO:mxboard.event_file_writer:wrote 10 events to disk\n",
      "INFO:mxboard.event_file_writer:wrote 10 events to disk\n"
     ]
    },
    {
     "name": "stdout",
     "output_type": "stream",
     "text": [
      "[Epoch 4] Training: accuracy=0.788114: 1113.302874803543 s\n"
     ]
    },
    {
     "name": "stderr",
     "output_type": "stream",
     "text": [
      "INFO:mxboard.event_file_writer:wrote 1 event to disk\n"
     ]
    },
    {
     "name": "stdout",
     "output_type": "stream",
     "text": [
      "[Epoch 4] Validation: accuracy=0.8552\n"
     ]
    },
    {
     "name": "stderr",
     "output_type": "stream",
     "text": [
      "INFO:mxboard.event_file_writer:wrote 1 event to disk\n"
     ]
    },
    {
     "name": "stdout",
     "output_type": "stream",
     "text": [
      "[Epoch 4] Test: accuracy=0.8474\n"
     ]
    },
    {
     "name": "stderr",
     "output_type": "stream",
     "text": [
      "INFO:mxboard.event_file_writer:wrote 1 event to disk\n",
      "INFO:mxboard.event_file_writer:wrote 6 events to disk\n",
      "INFO:mxboard.event_file_writer:wrote 1 event to disk\n",
      "INFO:mxboard.event_file_writer:wrote 10 events to disk\n",
      "INFO:mxboard.event_file_writer:wrote 10 events to disk\n",
      "INFO:mxboard.event_file_writer:wrote 10 events to disk\n",
      "INFO:mxboard.event_file_writer:wrote 10 events to disk\n",
      "INFO:mxboard.event_file_writer:wrote 10 events to disk\n",
      "INFO:mxboard.event_file_writer:wrote 10 events to disk\n",
      "INFO:mxboard.event_file_writer:wrote 10 events to disk\n",
      "INFO:mxboard.event_file_writer:wrote 10 events to disk\n",
      "INFO:mxboard.event_file_writer:wrote 10 events to disk\n",
      "INFO:mxboard.event_file_writer:wrote 10 events to disk\n",
      "INFO:mxboard.event_file_writer:wrote 10 events to disk\n",
      "INFO:mxboard.event_file_writer:wrote 10 events to disk\n",
      "INFO:mxboard.event_file_writer:wrote 10 events to disk\n",
      "INFO:mxboard.event_file_writer:wrote 11 events to disk\n",
      "INFO:mxboard.event_file_writer:wrote 9 events to disk\n",
      "INFO:mxboard.event_file_writer:wrote 10 events to disk\n",
      "INFO:mxboard.event_file_writer:wrote 10 events to disk\n",
      "INFO:mxboard.event_file_writer:wrote 10 events to disk\n",
      "INFO:mxboard.event_file_writer:wrote 10 events to disk\n",
      "INFO:mxboard.event_file_writer:wrote 10 events to disk\n"
     ]
    },
    {
     "name": "stdout",
     "output_type": "stream",
     "text": [
      "[Epoch 5 Batch 200] Training: accuracy=0.799984\n"
     ]
    },
    {
     "name": "stderr",
     "output_type": "stream",
     "text": [
      "INFO:mxboard.event_file_writer:wrote 10 events to disk\n",
      "INFO:mxboard.event_file_writer:wrote 10 events to disk\n",
      "INFO:mxboard.event_file_writer:wrote 10 events to disk\n",
      "INFO:mxboard.event_file_writer:wrote 10 events to disk\n",
      "INFO:mxboard.event_file_writer:wrote 11 events to disk\n",
      "INFO:mxboard.event_file_writer:wrote 11 events to disk\n",
      "INFO:mxboard.event_file_writer:wrote 10 events to disk\n",
      "INFO:mxboard.event_file_writer:wrote 10 events to disk\n",
      "INFO:mxboard.event_file_writer:wrote 10 events to disk\n",
      "INFO:mxboard.event_file_writer:wrote 10 events to disk\n",
      "INFO:mxboard.event_file_writer:wrote 10 events to disk\n",
      "INFO:mxboard.event_file_writer:wrote 10 events to disk\n",
      "INFO:mxboard.event_file_writer:wrote 10 events to disk\n",
      "INFO:mxboard.event_file_writer:wrote 10 events to disk\n",
      "INFO:mxboard.event_file_writer:wrote 10 events to disk\n",
      "INFO:mxboard.event_file_writer:wrote 10 events to disk\n",
      "INFO:mxboard.event_file_writer:wrote 10 events to disk\n",
      "INFO:mxboard.event_file_writer:wrote 11 events to disk\n",
      "INFO:mxboard.event_file_writer:wrote 10 events to disk\n"
     ]
    },
    {
     "name": "stdout",
     "output_type": "stream",
     "text": [
      "[Epoch 5 Batch 400] Training: accuracy=0.796719\n"
     ]
    },
    {
     "name": "stderr",
     "output_type": "stream",
     "text": [
      "INFO:mxboard.event_file_writer:wrote 11 events to disk\n",
      "INFO:mxboard.event_file_writer:wrote 11 events to disk\n",
      "INFO:mxboard.event_file_writer:wrote 10 events to disk\n",
      "INFO:mxboard.event_file_writer:wrote 10 events to disk\n",
      "INFO:mxboard.event_file_writer:wrote 11 events to disk\n",
      "INFO:mxboard.event_file_writer:wrote 10 events to disk\n",
      "INFO:mxboard.event_file_writer:wrote 10 events to disk\n",
      "INFO:mxboard.event_file_writer:wrote 10 events to disk\n",
      "INFO:mxboard.event_file_writer:wrote 10 events to disk\n",
      "INFO:mxboard.event_file_writer:wrote 10 events to disk\n",
      "INFO:mxboard.event_file_writer:wrote 10 events to disk\n",
      "INFO:mxboard.event_file_writer:wrote 10 events to disk\n",
      "INFO:mxboard.event_file_writer:wrote 10 events to disk\n",
      "INFO:mxboard.event_file_writer:wrote 10 events to disk\n",
      "INFO:mxboard.event_file_writer:wrote 10 events to disk\n"
     ]
    },
    {
     "name": "stdout",
     "output_type": "stream",
     "text": [
      "[Epoch 5] Training: accuracy=0.797457: 1126.6152369976044 s\n"
     ]
    },
    {
     "name": "stderr",
     "output_type": "stream",
     "text": [
      "INFO:mxboard.event_file_writer:wrote 1 event to disk\n"
     ]
    },
    {
     "name": "stdout",
     "output_type": "stream",
     "text": [
      "[Epoch 5] Validation: accuracy=0.895067\n"
     ]
    },
    {
     "name": "stderr",
     "output_type": "stream",
     "text": [
      "INFO:mxboard.event_file_writer:wrote 1 event to disk\n"
     ]
    },
    {
     "name": "stdout",
     "output_type": "stream",
     "text": [
      "[Epoch 5] Test: accuracy=0.8868\n"
     ]
    },
    {
     "name": "stderr",
     "output_type": "stream",
     "text": [
      "INFO:mxboard.event_file_writer:wrote 1 event to disk\n",
      "INFO:mxboard.event_file_writer:wrote 1 event to disk\n",
      "INFO:mxboard.event_file_writer:wrote 1 event to disk\n",
      "INFO:mxboard.event_file_writer:wrote 10 events to disk\n",
      "INFO:mxboard.event_file_writer:wrote 10 events to disk\n",
      "INFO:mxboard.event_file_writer:wrote 10 events to disk\n",
      "INFO:mxboard.event_file_writer:wrote 10 events to disk\n",
      "INFO:mxboard.event_file_writer:wrote 10 events to disk\n",
      "INFO:mxboard.event_file_writer:wrote 10 events to disk\n",
      "INFO:mxboard.event_file_writer:wrote 10 events to disk\n",
      "INFO:mxboard.event_file_writer:wrote 10 events to disk\n",
      "INFO:mxboard.event_file_writer:wrote 10 events to disk\n",
      "INFO:mxboard.event_file_writer:wrote 11 events to disk\n",
      "INFO:mxboard.event_file_writer:wrote 10 events to disk\n",
      "INFO:mxboard.event_file_writer:wrote 10 events to disk\n",
      "INFO:mxboard.event_file_writer:wrote 10 events to disk\n",
      "INFO:mxboard.event_file_writer:wrote 11 events to disk\n",
      "INFO:mxboard.event_file_writer:wrote 10 events to disk\n",
      "INFO:mxboard.event_file_writer:wrote 10 events to disk\n",
      "INFO:mxboard.event_file_writer:wrote 11 events to disk\n",
      "INFO:mxboard.event_file_writer:wrote 11 events to disk\n",
      "INFO:mxboard.event_file_writer:wrote 10 events to disk\n"
     ]
    },
    {
     "name": "stdout",
     "output_type": "stream",
     "text": [
      "[Epoch 6 Batch 200] Training: accuracy=0.801150\n"
     ]
    },
    {
     "name": "stderr",
     "output_type": "stream",
     "text": [
      "INFO:mxboard.event_file_writer:wrote 11 events to disk\n",
      "INFO:mxboard.event_file_writer:wrote 10 events to disk\n",
      "INFO:mxboard.event_file_writer:wrote 10 events to disk\n",
      "INFO:mxboard.event_file_writer:wrote 11 events to disk\n",
      "INFO:mxboard.event_file_writer:wrote 11 events to disk\n",
      "INFO:mxboard.event_file_writer:wrote 11 events to disk\n",
      "INFO:mxboard.event_file_writer:wrote 10 events to disk\n",
      "INFO:mxboard.event_file_writer:wrote 10 events to disk\n",
      "INFO:mxboard.event_file_writer:wrote 10 events to disk\n",
      "INFO:mxboard.event_file_writer:wrote 11 events to disk\n",
      "INFO:mxboard.event_file_writer:wrote 11 events to disk\n",
      "INFO:mxboard.event_file_writer:wrote 11 events to disk\n",
      "INFO:mxboard.event_file_writer:wrote 11 events to disk\n",
      "INFO:mxboard.event_file_writer:wrote 11 events to disk\n",
      "INFO:mxboard.event_file_writer:wrote 11 events to disk\n",
      "INFO:mxboard.event_file_writer:wrote 11 events to disk\n",
      "INFO:mxboard.event_file_writer:wrote 11 events to disk\n",
      "INFO:mxboard.event_file_writer:wrote 11 events to disk\n",
      "INFO:mxboard.event_file_writer:wrote 11 events to disk\n"
     ]
    },
    {
     "name": "stdout",
     "output_type": "stream",
     "text": [
      "[Epoch 6 Batch 400] Training: accuracy=0.801590\n"
     ]
    },
    {
     "name": "stderr",
     "output_type": "stream",
     "text": [
      "INFO:mxboard.event_file_writer:wrote 11 events to disk\n",
      "INFO:mxboard.event_file_writer:wrote 11 events to disk\n",
      "INFO:mxboard.event_file_writer:wrote 11 events to disk\n",
      "INFO:mxboard.event_file_writer:wrote 11 events to disk\n",
      "INFO:mxboard.event_file_writer:wrote 11 events to disk\n",
      "INFO:mxboard.event_file_writer:wrote 11 events to disk\n",
      "INFO:mxboard.event_file_writer:wrote 11 events to disk\n",
      "INFO:mxboard.event_file_writer:wrote 11 events to disk\n",
      "INFO:mxboard.event_file_writer:wrote 11 events to disk\n",
      "INFO:mxboard.event_file_writer:wrote 11 events to disk\n",
      "INFO:mxboard.event_file_writer:wrote 10 events to disk\n",
      "INFO:mxboard.event_file_writer:wrote 11 events to disk\n",
      "INFO:mxboard.event_file_writer:wrote 11 events to disk\n"
     ]
    },
    {
     "name": "stdout",
     "output_type": "stream",
     "text": [
      "[Epoch 6] Training: accuracy=0.800971: 1099.1629004478455 s\n"
     ]
    },
    {
     "name": "stderr",
     "output_type": "stream",
     "text": [
      "INFO:mxboard.event_file_writer:wrote 1 event to disk\n"
     ]
    },
    {
     "name": "stdout",
     "output_type": "stream",
     "text": [
      "[Epoch 6] Validation: accuracy=0.8864\n"
     ]
    },
    {
     "name": "stderr",
     "output_type": "stream",
     "text": [
      "INFO:mxboard.event_file_writer:wrote 1 event to disk\n"
     ]
    },
    {
     "name": "stdout",
     "output_type": "stream",
     "text": [
      "[Epoch 6] Test: accuracy=0.8812\n"
     ]
    },
    {
     "name": "stderr",
     "output_type": "stream",
     "text": [
      "INFO:mxboard.event_file_writer:wrote 1 event to disk\n",
      "INFO:mxboard.event_file_writer:wrote 7 events to disk\n",
      "INFO:mxboard.event_file_writer:wrote 1 event to disk\n",
      "INFO:mxboard.event_file_writer:wrote 11 events to disk\n",
      "INFO:mxboard.event_file_writer:wrote 10 events to disk\n",
      "INFO:mxboard.event_file_writer:wrote 10 events to disk\n",
      "INFO:mxboard.event_file_writer:wrote 10 events to disk\n",
      "INFO:mxboard.event_file_writer:wrote 10 events to disk\n",
      "INFO:mxboard.event_file_writer:wrote 11 events to disk\n",
      "INFO:mxboard.event_file_writer:wrote 11 events to disk\n",
      "INFO:mxboard.event_file_writer:wrote 10 events to disk\n",
      "INFO:mxboard.event_file_writer:wrote 10 events to disk\n",
      "INFO:mxboard.event_file_writer:wrote 11 events to disk\n",
      "INFO:mxboard.event_file_writer:wrote 11 events to disk\n",
      "INFO:mxboard.event_file_writer:wrote 10 events to disk\n",
      "INFO:mxboard.event_file_writer:wrote 11 events to disk\n",
      "INFO:mxboard.event_file_writer:wrote 11 events to disk\n",
      "INFO:mxboard.event_file_writer:wrote 11 events to disk\n",
      "INFO:mxboard.event_file_writer:wrote 11 events to disk\n",
      "INFO:mxboard.event_file_writer:wrote 11 events to disk\n",
      "INFO:mxboard.event_file_writer:wrote 11 events to disk\n"
     ]
    },
    {
     "name": "stdout",
     "output_type": "stream",
     "text": [
      "[Epoch 7 Batch 200] Training: accuracy=0.803560\n"
     ]
    },
    {
     "name": "stderr",
     "output_type": "stream",
     "text": [
      "INFO:mxboard.event_file_writer:wrote 11 events to disk\n",
      "INFO:mxboard.event_file_writer:wrote 11 events to disk\n",
      "INFO:mxboard.event_file_writer:wrote 11 events to disk\n",
      "INFO:mxboard.event_file_writer:wrote 11 events to disk\n",
      "INFO:mxboard.event_file_writer:wrote 11 events to disk\n",
      "INFO:mxboard.event_file_writer:wrote 11 events to disk\n",
      "INFO:mxboard.event_file_writer:wrote 11 events to disk\n",
      "INFO:mxboard.event_file_writer:wrote 11 events to disk\n",
      "INFO:mxboard.event_file_writer:wrote 11 events to disk\n",
      "INFO:mxboard.event_file_writer:wrote 11 events to disk\n",
      "INFO:mxboard.event_file_writer:wrote 11 events to disk\n",
      "INFO:mxboard.event_file_writer:wrote 11 events to disk\n",
      "INFO:mxboard.event_file_writer:wrote 11 events to disk\n",
      "INFO:mxboard.event_file_writer:wrote 11 events to disk\n",
      "INFO:mxboard.event_file_writer:wrote 11 events to disk\n",
      "INFO:mxboard.event_file_writer:wrote 11 events to disk\n",
      "INFO:mxboard.event_file_writer:wrote 11 events to disk\n",
      "INFO:mxboard.event_file_writer:wrote 11 events to disk\n",
      "INFO:mxboard.event_file_writer:wrote 11 events to disk\n"
     ]
    },
    {
     "name": "stdout",
     "output_type": "stream",
     "text": [
      "[Epoch 7 Batch 400] Training: accuracy=0.806382\n"
     ]
    },
    {
     "name": "stderr",
     "output_type": "stream",
     "text": [
      "INFO:mxboard.event_file_writer:wrote 11 events to disk\n",
      "INFO:mxboard.event_file_writer:wrote 11 events to disk\n",
      "INFO:mxboard.event_file_writer:wrote 11 events to disk\n",
      "INFO:mxboard.event_file_writer:wrote 11 events to disk\n",
      "INFO:mxboard.event_file_writer:wrote 11 events to disk\n",
      "INFO:mxboard.event_file_writer:wrote 11 events to disk\n",
      "INFO:mxboard.event_file_writer:wrote 11 events to disk\n",
      "INFO:mxboard.event_file_writer:wrote 11 events to disk\n",
      "INFO:mxboard.event_file_writer:wrote 11 events to disk\n",
      "INFO:mxboard.event_file_writer:wrote 11 events to disk\n",
      "INFO:mxboard.event_file_writer:wrote 11 events to disk\n",
      "INFO:mxboard.event_file_writer:wrote 11 events to disk\n",
      "INFO:mxboard.event_file_writer:wrote 11 events to disk\n"
     ]
    },
    {
     "name": "stdout",
     "output_type": "stream",
     "text": [
      "[Epoch 7] Training: accuracy=0.806829: 1081.7122650146484 s\n"
     ]
    },
    {
     "name": "stderr",
     "output_type": "stream",
     "text": [
      "INFO:mxboard.event_file_writer:wrote 1 event to disk\n"
     ]
    },
    {
     "name": "stdout",
     "output_type": "stream",
     "text": [
      "[Epoch 7] Validation: accuracy=0.8876\n"
     ]
    },
    {
     "name": "stderr",
     "output_type": "stream",
     "text": [
      "INFO:mxboard.event_file_writer:wrote 1 event to disk\n"
     ]
    },
    {
     "name": "stdout",
     "output_type": "stream",
     "text": [
      "[Epoch 7] Test: accuracy=0.8841\n"
     ]
    },
    {
     "name": "stderr",
     "output_type": "stream",
     "text": [
      "INFO:mxboard.event_file_writer:wrote 1 event to disk\n",
      "INFO:mxboard.event_file_writer:wrote 4 events to disk\n",
      "INFO:mxboard.event_file_writer:wrote 1 event to disk\n",
      "INFO:mxboard.event_file_writer:wrote 11 events to disk\n",
      "INFO:mxboard.event_file_writer:wrote 11 events to disk\n",
      "INFO:mxboard.event_file_writer:wrote 11 events to disk\n",
      "INFO:mxboard.event_file_writer:wrote 11 events to disk\n",
      "INFO:mxboard.event_file_writer:wrote 11 events to disk\n",
      "INFO:mxboard.event_file_writer:wrote 11 events to disk\n",
      "INFO:mxboard.event_file_writer:wrote 11 events to disk\n",
      "INFO:mxboard.event_file_writer:wrote 11 events to disk\n",
      "INFO:mxboard.event_file_writer:wrote 11 events to disk\n",
      "INFO:mxboard.event_file_writer:wrote 11 events to disk\n",
      "INFO:mxboard.event_file_writer:wrote 11 events to disk\n",
      "INFO:mxboard.event_file_writer:wrote 11 events to disk\n",
      "INFO:mxboard.event_file_writer:wrote 11 events to disk\n",
      "INFO:mxboard.event_file_writer:wrote 11 events to disk\n",
      "INFO:mxboard.event_file_writer:wrote 11 events to disk\n",
      "INFO:mxboard.event_file_writer:wrote 11 events to disk\n",
      "INFO:mxboard.event_file_writer:wrote 11 events to disk\n",
      "INFO:mxboard.event_file_writer:wrote 11 events to disk\n"
     ]
    },
    {
     "name": "stdout",
     "output_type": "stream",
     "text": [
      "[Epoch 8 Batch 200] Training: accuracy=0.812655\n"
     ]
    },
    {
     "name": "stderr",
     "output_type": "stream",
     "text": [
      "INFO:mxboard.event_file_writer:wrote 11 events to disk\n",
      "INFO:mxboard.event_file_writer:wrote 11 events to disk\n",
      "INFO:mxboard.event_file_writer:wrote 11 events to disk\n",
      "INFO:mxboard.event_file_writer:wrote 11 events to disk\n",
      "INFO:mxboard.event_file_writer:wrote 11 events to disk\n",
      "INFO:mxboard.event_file_writer:wrote 11 events to disk\n",
      "INFO:mxboard.event_file_writer:wrote 11 events to disk\n",
      "INFO:mxboard.event_file_writer:wrote 11 events to disk\n",
      "INFO:mxboard.event_file_writer:wrote 11 events to disk\n",
      "INFO:mxboard.event_file_writer:wrote 11 events to disk\n",
      "INFO:mxboard.event_file_writer:wrote 11 events to disk\n",
      "INFO:mxboard.event_file_writer:wrote 11 events to disk\n",
      "INFO:mxboard.event_file_writer:wrote 11 events to disk\n",
      "INFO:mxboard.event_file_writer:wrote 11 events to disk\n",
      "INFO:mxboard.event_file_writer:wrote 11 events to disk\n",
      "INFO:mxboard.event_file_writer:wrote 11 events to disk\n",
      "INFO:mxboard.event_file_writer:wrote 11 events to disk\n",
      "INFO:mxboard.event_file_writer:wrote 11 events to disk\n"
     ]
    },
    {
     "name": "stdout",
     "output_type": "stream",
     "text": [
      "[Epoch 8 Batch 400] Training: accuracy=0.812149\n"
     ]
    },
    {
     "name": "stderr",
     "output_type": "stream",
     "text": [
      "INFO:mxboard.event_file_writer:wrote 11 events to disk\n",
      "INFO:mxboard.event_file_writer:wrote 11 events to disk\n",
      "INFO:mxboard.event_file_writer:wrote 11 events to disk\n",
      "INFO:mxboard.event_file_writer:wrote 11 events to disk\n",
      "INFO:mxboard.event_file_writer:wrote 11 events to disk\n",
      "INFO:mxboard.event_file_writer:wrote 11 events to disk\n",
      "INFO:mxboard.event_file_writer:wrote 11 events to disk\n",
      "INFO:mxboard.event_file_writer:wrote 11 events to disk\n",
      "INFO:mxboard.event_file_writer:wrote 11 events to disk\n",
      "INFO:mxboard.event_file_writer:wrote 11 events to disk\n",
      "INFO:mxboard.event_file_writer:wrote 11 events to disk\n",
      "INFO:mxboard.event_file_writer:wrote 11 events to disk\n",
      "INFO:mxboard.event_file_writer:wrote 11 events to disk\n"
     ]
    },
    {
     "name": "stdout",
     "output_type": "stream",
     "text": [
      "[Epoch 8] Training: accuracy=0.809914: 1075.6573278903961 s\n"
     ]
    },
    {
     "name": "stderr",
     "output_type": "stream",
     "text": [
      "INFO:mxboard.event_file_writer:wrote 1 event to disk\n"
     ]
    },
    {
     "name": "stdout",
     "output_type": "stream",
     "text": [
      "[Epoch 8] Validation: accuracy=0.8998\n"
     ]
    },
    {
     "name": "stderr",
     "output_type": "stream",
     "text": [
      "INFO:mxboard.event_file_writer:wrote 1 event to disk\n"
     ]
    },
    {
     "name": "stdout",
     "output_type": "stream",
     "text": [
      "[Epoch 8] Test: accuracy=0.8841\n"
     ]
    },
    {
     "name": "stderr",
     "output_type": "stream",
     "text": [
      "INFO:mxboard.event_file_writer:wrote 1 event to disk\n",
      "INFO:mxboard.event_file_writer:wrote 8 events to disk\n",
      "INFO:mxboard.event_file_writer:wrote 1 event to disk\n",
      "INFO:mxboard.event_file_writer:wrote 11 events to disk\n",
      "INFO:mxboard.event_file_writer:wrote 10 events to disk\n",
      "INFO:mxboard.event_file_writer:wrote 10 events to disk\n",
      "INFO:mxboard.event_file_writer:wrote 10 events to disk\n",
      "INFO:mxboard.event_file_writer:wrote 10 events to disk\n",
      "INFO:mxboard.event_file_writer:wrote 10 events to disk\n",
      "INFO:mxboard.event_file_writer:wrote 10 events to disk\n",
      "INFO:mxboard.event_file_writer:wrote 10 events to disk\n",
      "INFO:mxboard.event_file_writer:wrote 10 events to disk\n",
      "INFO:mxboard.event_file_writer:wrote 11 events to disk\n",
      "INFO:mxboard.event_file_writer:wrote 11 events to disk\n",
      "INFO:mxboard.event_file_writer:wrote 11 events to disk\n",
      "INFO:mxboard.event_file_writer:wrote 11 events to disk\n",
      "INFO:mxboard.event_file_writer:wrote 11 events to disk\n",
      "INFO:mxboard.event_file_writer:wrote 11 events to disk\n",
      "INFO:mxboard.event_file_writer:wrote 11 events to disk\n",
      "INFO:mxboard.event_file_writer:wrote 11 events to disk\n",
      "INFO:mxboard.event_file_writer:wrote 10 events to disk\n",
      "INFO:mxboard.event_file_writer:wrote 10 events to disk\n"
     ]
    },
    {
     "name": "stdout",
     "output_type": "stream",
     "text": [
      "[Epoch 9 Batch 200] Training: accuracy=0.821984\n"
     ]
    },
    {
     "name": "stderr",
     "output_type": "stream",
     "text": [
      "INFO:mxboard.event_file_writer:wrote 10 events to disk\n",
      "INFO:mxboard.event_file_writer:wrote 10 events to disk\n",
      "INFO:mxboard.event_file_writer:wrote 11 events to disk\n",
      "INFO:mxboard.event_file_writer:wrote 11 events to disk\n",
      "INFO:mxboard.event_file_writer:wrote 10 events to disk\n",
      "INFO:mxboard.event_file_writer:wrote 11 events to disk\n",
      "INFO:mxboard.event_file_writer:wrote 11 events to disk\n",
      "INFO:mxboard.event_file_writer:wrote 11 events to disk\n",
      "INFO:mxboard.event_file_writer:wrote 10 events to disk\n",
      "INFO:mxboard.event_file_writer:wrote 10 events to disk\n",
      "INFO:mxboard.event_file_writer:wrote 10 events to disk\n",
      "INFO:mxboard.event_file_writer:wrote 10 events to disk\n",
      "INFO:mxboard.event_file_writer:wrote 10 events to disk\n",
      "INFO:mxboard.event_file_writer:wrote 10 events to disk\n",
      "INFO:mxboard.event_file_writer:wrote 10 events to disk\n",
      "INFO:mxboard.event_file_writer:wrote 10 events to disk\n",
      "INFO:mxboard.event_file_writer:wrote 10 events to disk\n",
      "INFO:mxboard.event_file_writer:wrote 10 events to disk\n",
      "INFO:mxboard.event_file_writer:wrote 10 events to disk\n"
     ]
    },
    {
     "name": "stdout",
     "output_type": "stream",
     "text": [
      "[Epoch 9 Batch 400] Training: accuracy=0.816786\n"
     ]
    },
    {
     "name": "stderr",
     "output_type": "stream",
     "text": [
      "INFO:mxboard.event_file_writer:wrote 11 events to disk\n",
      "INFO:mxboard.event_file_writer:wrote 11 events to disk\n",
      "INFO:mxboard.event_file_writer:wrote 10 events to disk\n",
      "INFO:mxboard.event_file_writer:wrote 10 events to disk\n",
      "INFO:mxboard.event_file_writer:wrote 10 events to disk\n",
      "INFO:mxboard.event_file_writer:wrote 10 events to disk\n",
      "INFO:mxboard.event_file_writer:wrote 10 events to disk\n",
      "INFO:mxboard.event_file_writer:wrote 10 events to disk\n",
      "INFO:mxboard.event_file_writer:wrote 11 events to disk\n",
      "INFO:mxboard.event_file_writer:wrote 11 events to disk\n",
      "INFO:mxboard.event_file_writer:wrote 10 events to disk\n",
      "INFO:mxboard.event_file_writer:wrote 10 events to disk\n",
      "INFO:mxboard.event_file_writer:wrote 11 events to disk\n",
      "INFO:mxboard.event_file_writer:wrote 10 events to disk\n"
     ]
    },
    {
     "name": "stdout",
     "output_type": "stream",
     "text": [
      "[Epoch 9] Training: accuracy=0.815514: 1102.474143743515 s\n"
     ]
    },
    {
     "name": "stderr",
     "output_type": "stream",
     "text": [
      "INFO:mxboard.event_file_writer:wrote 1 event to disk\n"
     ]
    },
    {
     "name": "stdout",
     "output_type": "stream",
     "text": [
      "[Epoch 9] Validation: accuracy=0.8692\n"
     ]
    },
    {
     "name": "stderr",
     "output_type": "stream",
     "text": [
      "INFO:mxboard.event_file_writer:wrote 1 event to disk\n"
     ]
    },
    {
     "name": "stdout",
     "output_type": "stream",
     "text": [
      "[Epoch 9] Test: accuracy=0.8649\n"
     ]
    },
    {
     "name": "stderr",
     "output_type": "stream",
     "text": [
      "INFO:mxboard.event_file_writer:wrote 1 event to disk\n",
      "INFO:mxboard.event_file_writer:wrote 8 events to disk\n",
      "INFO:mxboard.event_file_writer:wrote 1 event to disk\n",
      "INFO:mxboard.event_file_writer:wrote 11 events to disk\n",
      "INFO:mxboard.event_file_writer:wrote 11 events to disk\n",
      "INFO:mxboard.event_file_writer:wrote 11 events to disk\n",
      "INFO:mxboard.event_file_writer:wrote 10 events to disk\n",
      "INFO:mxboard.event_file_writer:wrote 11 events to disk\n",
      "INFO:mxboard.event_file_writer:wrote 11 events to disk\n",
      "INFO:mxboard.event_file_writer:wrote 11 events to disk\n",
      "INFO:mxboard.event_file_writer:wrote 11 events to disk\n",
      "INFO:mxboard.event_file_writer:wrote 10 events to disk\n",
      "INFO:mxboard.event_file_writer:wrote 10 events to disk\n",
      "INFO:mxboard.event_file_writer:wrote 11 events to disk\n",
      "INFO:mxboard.event_file_writer:wrote 11 events to disk\n",
      "INFO:mxboard.event_file_writer:wrote 11 events to disk\n",
      "INFO:mxboard.event_file_writer:wrote 11 events to disk\n",
      "INFO:mxboard.event_file_writer:wrote 11 events to disk\n",
      "INFO:mxboard.event_file_writer:wrote 11 events to disk\n",
      "INFO:mxboard.event_file_writer:wrote 11 events to disk\n",
      "INFO:mxboard.event_file_writer:wrote 10 events to disk\n"
     ]
    },
    {
     "name": "stdout",
     "output_type": "stream",
     "text": [
      "[Epoch 10 Batch 200] Training: accuracy=0.828203\n"
     ]
    },
    {
     "name": "stderr",
     "output_type": "stream",
     "text": [
      "INFO:mxboard.event_file_writer:wrote 10 events to disk\n",
      "INFO:mxboard.event_file_writer:wrote 11 events to disk\n",
      "INFO:mxboard.event_file_writer:wrote 11 events to disk\n",
      "INFO:mxboard.event_file_writer:wrote 11 events to disk\n",
      "INFO:mxboard.event_file_writer:wrote 10 events to disk\n",
      "INFO:mxboard.event_file_writer:wrote 10 events to disk\n",
      "INFO:mxboard.event_file_writer:wrote 10 events to disk\n",
      "INFO:mxboard.event_file_writer:wrote 11 events to disk\n",
      "INFO:mxboard.event_file_writer:wrote 11 events to disk\n",
      "INFO:mxboard.event_file_writer:wrote 11 events to disk\n",
      "INFO:mxboard.event_file_writer:wrote 10 events to disk\n",
      "INFO:mxboard.event_file_writer:wrote 10 events to disk\n",
      "INFO:mxboard.event_file_writer:wrote 10 events to disk\n",
      "INFO:mxboard.event_file_writer:wrote 11 events to disk\n",
      "INFO:mxboard.event_file_writer:wrote 11 events to disk\n",
      "INFO:mxboard.event_file_writer:wrote 11 events to disk\n",
      "INFO:mxboard.event_file_writer:wrote 10 events to disk\n",
      "INFO:mxboard.event_file_writer:wrote 10 events to disk\n",
      "INFO:mxboard.event_file_writer:wrote 10 events to disk\n"
     ]
    },
    {
     "name": "stdout",
     "output_type": "stream",
     "text": [
      "[Epoch 10 Batch 400] Training: accuracy=0.828943\n"
     ]
    },
    {
     "name": "stderr",
     "output_type": "stream",
     "text": [
      "INFO:mxboard.event_file_writer:wrote 11 events to disk\n",
      "INFO:mxboard.event_file_writer:wrote 11 events to disk\n",
      "INFO:mxboard.event_file_writer:wrote 11 events to disk\n",
      "INFO:mxboard.event_file_writer:wrote 10 events to disk\n",
      "INFO:mxboard.event_file_writer:wrote 10 events to disk\n",
      "INFO:mxboard.event_file_writer:wrote 11 events to disk\n",
      "INFO:mxboard.event_file_writer:wrote 11 events to disk\n",
      "INFO:mxboard.event_file_writer:wrote 11 events to disk\n",
      "INFO:mxboard.event_file_writer:wrote 11 events to disk\n",
      "INFO:mxboard.event_file_writer:wrote 10 events to disk\n",
      "INFO:mxboard.event_file_writer:wrote 10 events to disk\n",
      "INFO:mxboard.event_file_writer:wrote 11 events to disk\n",
      "INFO:mxboard.event_file_writer:wrote 11 events to disk\n",
      "INFO:mxboard.event_file_writer:wrote 11 events to disk\n"
     ]
    },
    {
     "name": "stdout",
     "output_type": "stream",
     "text": [
      "[Epoch 10] Training: accuracy=0.832429: 1094.3900578022003 s\n"
     ]
    },
    {
     "name": "stderr",
     "output_type": "stream",
     "text": [
      "INFO:mxboard.event_file_writer:wrote 1 event to disk\n"
     ]
    },
    {
     "name": "stdout",
     "output_type": "stream",
     "text": [
      "[Epoch 10] Validation: accuracy=0.917867\n"
     ]
    },
    {
     "name": "stderr",
     "output_type": "stream",
     "text": [
      "INFO:mxboard.event_file_writer:wrote 1 event to disk\n"
     ]
    },
    {
     "name": "stdout",
     "output_type": "stream",
     "text": [
      "[Epoch 10] Test: accuracy=0.909\n"
     ]
    },
    {
     "name": "stderr",
     "output_type": "stream",
     "text": [
      "INFO:mxboard.event_file_writer:wrote 1 event to disk\n",
      "INFO:mxboard.event_file_writer:wrote 4 events to disk\n",
      "INFO:mxboard.event_file_writer:wrote 1 event to disk\n",
      "INFO:mxboard.event_file_writer:wrote 11 events to disk\n",
      "INFO:mxboard.event_file_writer:wrote 11 events to disk\n",
      "INFO:mxboard.event_file_writer:wrote 10 events to disk\n",
      "INFO:mxboard.event_file_writer:wrote 10 events to disk\n",
      "INFO:mxboard.event_file_writer:wrote 11 events to disk\n",
      "INFO:mxboard.event_file_writer:wrote 11 events to disk\n",
      "INFO:mxboard.event_file_writer:wrote 11 events to disk\n",
      "INFO:mxboard.event_file_writer:wrote 11 events to disk\n",
      "INFO:mxboard.event_file_writer:wrote 10 events to disk\n",
      "INFO:mxboard.event_file_writer:wrote 10 events to disk\n",
      "INFO:mxboard.event_file_writer:wrote 11 events to disk\n",
      "INFO:mxboard.event_file_writer:wrote 11 events to disk\n",
      "INFO:mxboard.event_file_writer:wrote 11 events to disk\n",
      "INFO:mxboard.event_file_writer:wrote 11 events to disk\n",
      "INFO:mxboard.event_file_writer:wrote 11 events to disk\n",
      "INFO:mxboard.event_file_writer:wrote 11 events to disk\n",
      "INFO:mxboard.event_file_writer:wrote 11 events to disk\n",
      "INFO:mxboard.event_file_writer:wrote 11 events to disk\n"
     ]
    },
    {
     "name": "stdout",
     "output_type": "stream",
     "text": [
      "[Epoch 11 Batch 200] Training: accuracy=0.835743\n"
     ]
    },
    {
     "name": "stderr",
     "output_type": "stream",
     "text": [
      "INFO:mxboard.event_file_writer:wrote 11 events to disk\n",
      "INFO:mxboard.event_file_writer:wrote 11 events to disk\n",
      "INFO:mxboard.event_file_writer:wrote 11 events to disk\n",
      "INFO:mxboard.event_file_writer:wrote 10 events to disk\n",
      "INFO:mxboard.event_file_writer:wrote 10 events to disk\n",
      "INFO:mxboard.event_file_writer:wrote 10 events to disk\n",
      "INFO:mxboard.event_file_writer:wrote 11 events to disk\n",
      "INFO:mxboard.event_file_writer:wrote 11 events to disk\n",
      "INFO:mxboard.event_file_writer:wrote 11 events to disk\n",
      "INFO:mxboard.event_file_writer:wrote 10 events to disk\n",
      "INFO:mxboard.event_file_writer:wrote 10 events to disk\n",
      "INFO:mxboard.event_file_writer:wrote 10 events to disk\n",
      "INFO:mxboard.event_file_writer:wrote 11 events to disk\n",
      "INFO:mxboard.event_file_writer:wrote 11 events to disk\n",
      "INFO:mxboard.event_file_writer:wrote 10 events to disk\n",
      "INFO:mxboard.event_file_writer:wrote 10 events to disk\n",
      "INFO:mxboard.event_file_writer:wrote 10 events to disk\n",
      "INFO:mxboard.event_file_writer:wrote 10 events to disk\n",
      "INFO:mxboard.event_file_writer:wrote 10 events to disk\n"
     ]
    },
    {
     "name": "stdout",
     "output_type": "stream",
     "text": [
      "[Epoch 11 Batch 400] Training: accuracy=0.838568\n"
     ]
    },
    {
     "name": "stderr",
     "output_type": "stream",
     "text": [
      "INFO:mxboard.event_file_writer:wrote 10 events to disk\n",
      "INFO:mxboard.event_file_writer:wrote 10 events to disk\n",
      "INFO:mxboard.event_file_writer:wrote 10 events to disk\n",
      "INFO:mxboard.event_file_writer:wrote 11 events to disk\n",
      "INFO:mxboard.event_file_writer:wrote 11 events to disk\n",
      "INFO:mxboard.event_file_writer:wrote 11 events to disk\n",
      "INFO:mxboard.event_file_writer:wrote 11 events to disk\n",
      "INFO:mxboard.event_file_writer:wrote 11 events to disk\n",
      "INFO:mxboard.event_file_writer:wrote 11 events to disk\n",
      "INFO:mxboard.event_file_writer:wrote 11 events to disk\n",
      "INFO:mxboard.event_file_writer:wrote 10 events to disk\n",
      "INFO:mxboard.event_file_writer:wrote 11 events to disk\n",
      "INFO:mxboard.event_file_writer:wrote 11 events to disk\n",
      "INFO:mxboard.event_file_writer:wrote 11 events to disk\n"
     ]
    },
    {
     "name": "stdout",
     "output_type": "stream",
     "text": [
      "[Epoch 11] Training: accuracy=0.839171: 1095.1437902450562 s\n"
     ]
    },
    {
     "name": "stderr",
     "output_type": "stream",
     "text": [
      "INFO:mxboard.event_file_writer:wrote 1 event to disk\n"
     ]
    },
    {
     "name": "stdout",
     "output_type": "stream",
     "text": [
      "[Epoch 11] Validation: accuracy=0.913067\n"
     ]
    },
    {
     "name": "stderr",
     "output_type": "stream",
     "text": [
      "INFO:mxboard.event_file_writer:wrote 1 event to disk\n"
     ]
    },
    {
     "name": "stdout",
     "output_type": "stream",
     "text": [
      "[Epoch 11] Test: accuracy=0.9047\n"
     ]
    },
    {
     "name": "stderr",
     "output_type": "stream",
     "text": [
      "INFO:mxboard.event_file_writer:wrote 1 event to disk\n",
      "INFO:mxboard.event_file_writer:wrote 5 events to disk\n",
      "INFO:mxboard.event_file_writer:wrote 1 event to disk\n",
      "INFO:mxboard.event_file_writer:wrote 10 events to disk\n",
      "INFO:mxboard.event_file_writer:wrote 11 events to disk\n",
      "INFO:mxboard.event_file_writer:wrote 11 events to disk\n",
      "INFO:mxboard.event_file_writer:wrote 11 events to disk\n",
      "INFO:mxboard.event_file_writer:wrote 11 events to disk\n",
      "INFO:mxboard.event_file_writer:wrote 11 events to disk\n",
      "INFO:mxboard.event_file_writer:wrote 11 events to disk\n",
      "INFO:mxboard.event_file_writer:wrote 11 events to disk\n",
      "INFO:mxboard.event_file_writer:wrote 11 events to disk\n",
      "INFO:mxboard.event_file_writer:wrote 11 events to disk\n",
      "INFO:mxboard.event_file_writer:wrote 11 events to disk\n",
      "INFO:mxboard.event_file_writer:wrote 11 events to disk\n",
      "INFO:mxboard.event_file_writer:wrote 11 events to disk\n",
      "INFO:mxboard.event_file_writer:wrote 11 events to disk\n",
      "INFO:mxboard.event_file_writer:wrote 11 events to disk\n",
      "INFO:mxboard.event_file_writer:wrote 11 events to disk\n",
      "INFO:mxboard.event_file_writer:wrote 11 events to disk\n",
      "INFO:mxboard.event_file_writer:wrote 11 events to disk\n"
     ]
    },
    {
     "name": "stdout",
     "output_type": "stream",
     "text": [
      "[Epoch 12 Batch 200] Training: accuracy=0.839397\n"
     ]
    },
    {
     "name": "stderr",
     "output_type": "stream",
     "text": [
      "INFO:mxboard.event_file_writer:wrote 11 events to disk\n",
      "INFO:mxboard.event_file_writer:wrote 11 events to disk\n",
      "INFO:mxboard.event_file_writer:wrote 11 events to disk\n",
      "INFO:mxboard.event_file_writer:wrote 11 events to disk\n",
      "INFO:mxboard.event_file_writer:wrote 11 events to disk\n",
      "INFO:mxboard.event_file_writer:wrote 11 events to disk\n",
      "INFO:mxboard.event_file_writer:wrote 11 events to disk\n",
      "INFO:mxboard.event_file_writer:wrote 11 events to disk\n",
      "INFO:mxboard.event_file_writer:wrote 11 events to disk\n",
      "INFO:mxboard.event_file_writer:wrote 11 events to disk\n",
      "INFO:mxboard.event_file_writer:wrote 11 events to disk\n",
      "INFO:mxboard.event_file_writer:wrote 11 events to disk\n",
      "INFO:mxboard.event_file_writer:wrote 11 events to disk\n",
      "INFO:mxboard.event_file_writer:wrote 11 events to disk\n",
      "INFO:mxboard.event_file_writer:wrote 11 events to disk\n",
      "INFO:mxboard.event_file_writer:wrote 11 events to disk\n",
      "INFO:mxboard.event_file_writer:wrote 11 events to disk\n",
      "INFO:mxboard.event_file_writer:wrote 11 events to disk\n"
     ]
    },
    {
     "name": "stdout",
     "output_type": "stream",
     "text": [
      "[Epoch 12 Batch 400] Training: accuracy=0.837438\n"
     ]
    },
    {
     "name": "stderr",
     "output_type": "stream",
     "text": [
      "INFO:mxboard.event_file_writer:wrote 11 events to disk\n",
      "INFO:mxboard.event_file_writer:wrote 11 events to disk\n",
      "INFO:mxboard.event_file_writer:wrote 11 events to disk\n",
      "INFO:mxboard.event_file_writer:wrote 11 events to disk\n",
      "INFO:mxboard.event_file_writer:wrote 11 events to disk\n",
      "INFO:mxboard.event_file_writer:wrote 11 events to disk\n",
      "INFO:mxboard.event_file_writer:wrote 11 events to disk\n",
      "INFO:mxboard.event_file_writer:wrote 11 events to disk\n",
      "INFO:mxboard.event_file_writer:wrote 11 events to disk\n",
      "INFO:mxboard.event_file_writer:wrote 11 events to disk\n",
      "INFO:mxboard.event_file_writer:wrote 11 events to disk\n",
      "INFO:mxboard.event_file_writer:wrote 11 events to disk\n",
      "INFO:mxboard.event_file_writer:wrote 11 events to disk\n"
     ]
    },
    {
     "name": "stdout",
     "output_type": "stream",
     "text": [
      "[Epoch 12] Training: accuracy=0.837: 1079.3056228160858 s\n"
     ]
    },
    {
     "name": "stderr",
     "output_type": "stream",
     "text": [
      "INFO:mxboard.event_file_writer:wrote 1 event to disk\n"
     ]
    },
    {
     "name": "stdout",
     "output_type": "stream",
     "text": [
      "[Epoch 12] Validation: accuracy=0.923533\n"
     ]
    },
    {
     "name": "stderr",
     "output_type": "stream",
     "text": [
      "INFO:mxboard.event_file_writer:wrote 1 event to disk\n"
     ]
    },
    {
     "name": "stdout",
     "output_type": "stream",
     "text": [
      "[Epoch 12] Test: accuracy=0.9083\n"
     ]
    },
    {
     "name": "stderr",
     "output_type": "stream",
     "text": [
      "INFO:mxboard.event_file_writer:wrote 1 event to disk\n",
      "INFO:mxboard.event_file_writer:wrote 9 events to disk\n",
      "INFO:mxboard.event_file_writer:wrote 1 event to disk\n",
      "INFO:mxboard.event_file_writer:wrote 11 events to disk\n",
      "INFO:mxboard.event_file_writer:wrote 11 events to disk\n",
      "INFO:mxboard.event_file_writer:wrote 11 events to disk\n",
      "INFO:mxboard.event_file_writer:wrote 11 events to disk\n",
      "INFO:mxboard.event_file_writer:wrote 11 events to disk\n",
      "INFO:mxboard.event_file_writer:wrote 11 events to disk\n",
      "INFO:mxboard.event_file_writer:wrote 11 events to disk\n",
      "INFO:mxboard.event_file_writer:wrote 11 events to disk\n",
      "INFO:mxboard.event_file_writer:wrote 11 events to disk\n",
      "INFO:mxboard.event_file_writer:wrote 11 events to disk\n",
      "INFO:mxboard.event_file_writer:wrote 11 events to disk\n",
      "INFO:mxboard.event_file_writer:wrote 11 events to disk\n",
      "INFO:mxboard.event_file_writer:wrote 11 events to disk\n",
      "INFO:mxboard.event_file_writer:wrote 11 events to disk\n",
      "INFO:mxboard.event_file_writer:wrote 11 events to disk\n",
      "INFO:mxboard.event_file_writer:wrote 11 events to disk\n",
      "INFO:mxboard.event_file_writer:wrote 11 events to disk\n",
      "INFO:mxboard.event_file_writer:wrote 11 events to disk\n"
     ]
    },
    {
     "name": "stdout",
     "output_type": "stream",
     "text": [
      "[Epoch 13 Batch 200] Training: accuracy=0.840096\n"
     ]
    },
    {
     "name": "stderr",
     "output_type": "stream",
     "text": [
      "INFO:mxboard.event_file_writer:wrote 11 events to disk\n",
      "INFO:mxboard.event_file_writer:wrote 11 events to disk\n",
      "INFO:mxboard.event_file_writer:wrote 11 events to disk\n",
      "INFO:mxboard.event_file_writer:wrote 11 events to disk\n",
      "INFO:mxboard.event_file_writer:wrote 11 events to disk\n",
      "INFO:mxboard.event_file_writer:wrote 11 events to disk\n",
      "INFO:mxboard.event_file_writer:wrote 11 events to disk\n",
      "INFO:mxboard.event_file_writer:wrote 11 events to disk\n",
      "INFO:mxboard.event_file_writer:wrote 11 events to disk\n",
      "INFO:mxboard.event_file_writer:wrote 11 events to disk\n",
      "INFO:mxboard.event_file_writer:wrote 11 events to disk\n",
      "INFO:mxboard.event_file_writer:wrote 11 events to disk\n",
      "INFO:mxboard.event_file_writer:wrote 11 events to disk\n",
      "INFO:mxboard.event_file_writer:wrote 11 events to disk\n",
      "INFO:mxboard.event_file_writer:wrote 11 events to disk\n",
      "INFO:mxboard.event_file_writer:wrote 11 events to disk\n",
      "INFO:mxboard.event_file_writer:wrote 11 events to disk\n",
      "INFO:mxboard.event_file_writer:wrote 11 events to disk\n"
     ]
    },
    {
     "name": "stdout",
     "output_type": "stream",
     "text": [
      "[Epoch 13 Batch 400] Training: accuracy=0.836931\n"
     ]
    },
    {
     "name": "stderr",
     "output_type": "stream",
     "text": [
      "INFO:mxboard.event_file_writer:wrote 11 events to disk\n",
      "INFO:mxboard.event_file_writer:wrote 11 events to disk\n",
      "INFO:mxboard.event_file_writer:wrote 11 events to disk\n",
      "INFO:mxboard.event_file_writer:wrote 11 events to disk\n",
      "INFO:mxboard.event_file_writer:wrote 11 events to disk\n",
      "INFO:mxboard.event_file_writer:wrote 11 events to disk\n",
      "INFO:mxboard.event_file_writer:wrote 11 events to disk\n",
      "INFO:mxboard.event_file_writer:wrote 11 events to disk\n",
      "INFO:mxboard.event_file_writer:wrote 11 events to disk\n",
      "INFO:mxboard.event_file_writer:wrote 11 events to disk\n",
      "INFO:mxboard.event_file_writer:wrote 11 events to disk\n",
      "INFO:mxboard.event_file_writer:wrote 11 events to disk\n",
      "INFO:mxboard.event_file_writer:wrote 11 events to disk\n"
     ]
    },
    {
     "name": "stdout",
     "output_type": "stream",
     "text": [
      "[Epoch 13] Training: accuracy=0.836514: 1074.4167342185974 s\n"
     ]
    },
    {
     "name": "stderr",
     "output_type": "stream",
     "text": [
      "INFO:mxboard.event_file_writer:wrote 1 event to disk\n"
     ]
    },
    {
     "name": "stdout",
     "output_type": "stream",
     "text": [
      "[Epoch 13] Validation: accuracy=0.918867\n"
     ]
    },
    {
     "name": "stderr",
     "output_type": "stream",
     "text": [
      "INFO:mxboard.event_file_writer:wrote 1 event to disk\n"
     ]
    },
    {
     "name": "stdout",
     "output_type": "stream",
     "text": [
      "[Epoch 13] Test: accuracy=0.9112\n"
     ]
    },
    {
     "name": "stderr",
     "output_type": "stream",
     "text": [
      "INFO:mxboard.event_file_writer:wrote 1 event to disk\n",
      "INFO:mxboard.event_file_writer:wrote 8 events to disk\n",
      "INFO:mxboard.event_file_writer:wrote 1 event to disk\n",
      "INFO:mxboard.event_file_writer:wrote 11 events to disk\n",
      "INFO:mxboard.event_file_writer:wrote 11 events to disk\n",
      "INFO:mxboard.event_file_writer:wrote 11 events to disk\n",
      "INFO:mxboard.event_file_writer:wrote 11 events to disk\n",
      "INFO:mxboard.event_file_writer:wrote 11 events to disk\n",
      "INFO:mxboard.event_file_writer:wrote 11 events to disk\n",
      "INFO:mxboard.event_file_writer:wrote 11 events to disk\n",
      "INFO:mxboard.event_file_writer:wrote 11 events to disk\n",
      "INFO:mxboard.event_file_writer:wrote 11 events to disk\n",
      "INFO:mxboard.event_file_writer:wrote 11 events to disk\n",
      "INFO:mxboard.event_file_writer:wrote 11 events to disk\n",
      "INFO:mxboard.event_file_writer:wrote 11 events to disk\n",
      "INFO:mxboard.event_file_writer:wrote 11 events to disk\n",
      "INFO:mxboard.event_file_writer:wrote 11 events to disk\n",
      "INFO:mxboard.event_file_writer:wrote 11 events to disk\n",
      "INFO:mxboard.event_file_writer:wrote 11 events to disk\n",
      "INFO:mxboard.event_file_writer:wrote 11 events to disk\n",
      "INFO:mxboard.event_file_writer:wrote 11 events to disk\n"
     ]
    },
    {
     "name": "stdout",
     "output_type": "stream",
     "text": [
      "[Epoch 14 Batch 200] Training: accuracy=0.837065\n"
     ]
    },
    {
     "name": "stderr",
     "output_type": "stream",
     "text": [
      "INFO:mxboard.event_file_writer:wrote 11 events to disk\n",
      "INFO:mxboard.event_file_writer:wrote 11 events to disk\n",
      "INFO:mxboard.event_file_writer:wrote 11 events to disk\n",
      "INFO:mxboard.event_file_writer:wrote 11 events to disk\n",
      "INFO:mxboard.event_file_writer:wrote 11 events to disk\n",
      "INFO:mxboard.event_file_writer:wrote 11 events to disk\n",
      "INFO:mxboard.event_file_writer:wrote 11 events to disk\n",
      "INFO:mxboard.event_file_writer:wrote 11 events to disk\n",
      "INFO:mxboard.event_file_writer:wrote 11 events to disk\n",
      "INFO:mxboard.event_file_writer:wrote 11 events to disk\n",
      "INFO:mxboard.event_file_writer:wrote 11 events to disk\n",
      "INFO:mxboard.event_file_writer:wrote 11 events to disk\n",
      "INFO:mxboard.event_file_writer:wrote 11 events to disk\n",
      "INFO:mxboard.event_file_writer:wrote 11 events to disk\n",
      "INFO:mxboard.event_file_writer:wrote 11 events to disk\n",
      "INFO:mxboard.event_file_writer:wrote 11 events to disk\n",
      "INFO:mxboard.event_file_writer:wrote 11 events to disk\n",
      "INFO:mxboard.event_file_writer:wrote 11 events to disk\n"
     ]
    },
    {
     "name": "stdout",
     "output_type": "stream",
     "text": [
      "[Epoch 14 Batch 400] Training: accuracy=0.839542\n"
     ]
    },
    {
     "name": "stderr",
     "output_type": "stream",
     "text": [
      "INFO:mxboard.event_file_writer:wrote 11 events to disk\n",
      "INFO:mxboard.event_file_writer:wrote 11 events to disk\n",
      "INFO:mxboard.event_file_writer:wrote 11 events to disk\n",
      "INFO:mxboard.event_file_writer:wrote 11 events to disk\n",
      "INFO:mxboard.event_file_writer:wrote 11 events to disk\n",
      "INFO:mxboard.event_file_writer:wrote 11 events to disk\n",
      "INFO:mxboard.event_file_writer:wrote 11 events to disk\n",
      "INFO:mxboard.event_file_writer:wrote 11 events to disk\n",
      "INFO:mxboard.event_file_writer:wrote 11 events to disk\n",
      "INFO:mxboard.event_file_writer:wrote 11 events to disk\n",
      "INFO:mxboard.event_file_writer:wrote 11 events to disk\n",
      "INFO:mxboard.event_file_writer:wrote 11 events to disk\n",
      "INFO:mxboard.event_file_writer:wrote 11 events to disk\n"
     ]
    },
    {
     "name": "stdout",
     "output_type": "stream",
     "text": [
      "[Epoch 14] Training: accuracy=0.839743: 1066.7396411895752 s\n"
     ]
    },
    {
     "name": "stderr",
     "output_type": "stream",
     "text": [
      "INFO:mxboard.event_file_writer:wrote 1 event to disk\n"
     ]
    },
    {
     "name": "stdout",
     "output_type": "stream",
     "text": [
      "[Epoch 14] Validation: accuracy=0.8916\n"
     ]
    },
    {
     "name": "stderr",
     "output_type": "stream",
     "text": [
      "INFO:mxboard.event_file_writer:wrote 1 event to disk\n"
     ]
    },
    {
     "name": "stdout",
     "output_type": "stream",
     "text": [
      "[Epoch 14] Test: accuracy=0.8831\n"
     ]
    },
    {
     "name": "stderr",
     "output_type": "stream",
     "text": [
      "INFO:mxboard.event_file_writer:wrote 1 event to disk\n",
      "INFO:mxboard.event_file_writer:wrote 8 events to disk\n",
      "INFO:mxboard.event_file_writer:wrote 1 event to disk\n",
      "INFO:mxboard.event_file_writer:wrote 11 events to disk\n",
      "INFO:mxboard.event_file_writer:wrote 11 events to disk\n",
      "INFO:mxboard.event_file_writer:wrote 11 events to disk\n",
      "INFO:mxboard.event_file_writer:wrote 11 events to disk\n",
      "INFO:mxboard.event_file_writer:wrote 11 events to disk\n",
      "INFO:mxboard.event_file_writer:wrote 11 events to disk\n",
      "INFO:mxboard.event_file_writer:wrote 11 events to disk\n",
      "INFO:mxboard.event_file_writer:wrote 11 events to disk\n",
      "INFO:mxboard.event_file_writer:wrote 11 events to disk\n",
      "INFO:mxboard.event_file_writer:wrote 11 events to disk\n",
      "INFO:mxboard.event_file_writer:wrote 11 events to disk\n",
      "INFO:mxboard.event_file_writer:wrote 11 events to disk\n",
      "INFO:mxboard.event_file_writer:wrote 11 events to disk\n",
      "INFO:mxboard.event_file_writer:wrote 11 events to disk\n",
      "INFO:mxboard.event_file_writer:wrote 11 events to disk\n",
      "INFO:mxboard.event_file_writer:wrote 11 events to disk\n",
      "INFO:mxboard.event_file_writer:wrote 11 events to disk\n",
      "INFO:mxboard.event_file_writer:wrote 11 events to disk\n"
     ]
    },
    {
     "name": "stdout",
     "output_type": "stream",
     "text": [
      "[Epoch 15 Batch 200] Training: accuracy=0.839630\n"
     ]
    },
    {
     "name": "stderr",
     "output_type": "stream",
     "text": [
      "INFO:mxboard.event_file_writer:wrote 11 events to disk\n",
      "INFO:mxboard.event_file_writer:wrote 11 events to disk\n",
      "INFO:mxboard.event_file_writer:wrote 11 events to disk\n",
      "INFO:mxboard.event_file_writer:wrote 11 events to disk\n",
      "INFO:mxboard.event_file_writer:wrote 11 events to disk\n",
      "INFO:mxboard.event_file_writer:wrote 11 events to disk\n",
      "INFO:mxboard.event_file_writer:wrote 11 events to disk\n",
      "INFO:mxboard.event_file_writer:wrote 11 events to disk\n",
      "INFO:mxboard.event_file_writer:wrote 11 events to disk\n",
      "INFO:mxboard.event_file_writer:wrote 11 events to disk\n",
      "INFO:mxboard.event_file_writer:wrote 11 events to disk\n",
      "INFO:mxboard.event_file_writer:wrote 11 events to disk\n",
      "INFO:mxboard.event_file_writer:wrote 11 events to disk\n",
      "INFO:mxboard.event_file_writer:wrote 11 events to disk\n",
      "INFO:mxboard.event_file_writer:wrote 11 events to disk\n",
      "INFO:mxboard.event_file_writer:wrote 11 events to disk\n",
      "INFO:mxboard.event_file_writer:wrote 11 events to disk\n",
      "INFO:mxboard.event_file_writer:wrote 11 events to disk\n"
     ]
    },
    {
     "name": "stdout",
     "output_type": "stream",
     "text": [
      "[Epoch 15 Batch 400] Training: accuracy=0.839230\n"
     ]
    },
    {
     "name": "stderr",
     "output_type": "stream",
     "text": [
      "INFO:mxboard.event_file_writer:wrote 11 events to disk\n",
      "INFO:mxboard.event_file_writer:wrote 11 events to disk\n",
      "INFO:mxboard.event_file_writer:wrote 11 events to disk\n",
      "INFO:mxboard.event_file_writer:wrote 10 events to disk\n",
      "INFO:mxboard.event_file_writer:wrote 9 events to disk\n",
      "INFO:mxboard.event_file_writer:wrote 10 events to disk\n",
      "INFO:mxboard.event_file_writer:wrote 11 events to disk\n",
      "INFO:mxboard.event_file_writer:wrote 11 events to disk\n",
      "INFO:mxboard.event_file_writer:wrote 11 events to disk\n",
      "INFO:mxboard.event_file_writer:wrote 10 events to disk\n",
      "INFO:mxboard.event_file_writer:wrote 10 events to disk\n",
      "INFO:mxboard.event_file_writer:wrote 10 events to disk\n",
      "INFO:mxboard.event_file_writer:wrote 10 events to disk\n",
      "INFO:mxboard.event_file_writer:wrote 11 events to disk\n"
     ]
    },
    {
     "name": "stdout",
     "output_type": "stream",
     "text": [
      "[Epoch 15] Training: accuracy=0.839229: 1069.8688011169434 s\n"
     ]
    },
    {
     "name": "stderr",
     "output_type": "stream",
     "text": [
      "INFO:mxboard.event_file_writer:wrote 1 event to disk\n"
     ]
    },
    {
     "name": "stdout",
     "output_type": "stream",
     "text": [
      "[Epoch 15] Validation: accuracy=0.923933\n"
     ]
    },
    {
     "name": "stderr",
     "output_type": "stream",
     "text": [
      "INFO:mxboard.event_file_writer:wrote 1 event to disk\n"
     ]
    },
    {
     "name": "stdout",
     "output_type": "stream",
     "text": [
      "[Epoch 15] Test: accuracy=0.9135\n"
     ]
    },
    {
     "name": "stderr",
     "output_type": "stream",
     "text": [
      "INFO:mxboard.event_file_writer:wrote 1 event to disk\n",
      "INFO:mxboard.event_file_writer:wrote 5 events to disk\n",
      "INFO:mxboard.event_file_writer:wrote 1 event to disk\n",
      "INFO:mxboard.event_file_writer:wrote 11 events to disk\n",
      "INFO:mxboard.event_file_writer:wrote 10 events to disk\n",
      "INFO:mxboard.event_file_writer:wrote 10 events to disk\n",
      "INFO:mxboard.event_file_writer:wrote 11 events to disk\n",
      "INFO:mxboard.event_file_writer:wrote 11 events to disk\n",
      "INFO:mxboard.event_file_writer:wrote 11 events to disk\n",
      "INFO:mxboard.event_file_writer:wrote 11 events to disk\n",
      "INFO:mxboard.event_file_writer:wrote 10 events to disk\n",
      "INFO:mxboard.event_file_writer:wrote 10 events to disk\n",
      "INFO:mxboard.event_file_writer:wrote 9 events to disk\n",
      "INFO:mxboard.event_file_writer:wrote 9 events to disk\n",
      "INFO:mxboard.event_file_writer:wrote 11 events to disk\n",
      "INFO:mxboard.event_file_writer:wrote 10 events to disk\n",
      "INFO:mxboard.event_file_writer:wrote 10 events to disk\n",
      "INFO:mxboard.event_file_writer:wrote 10 events to disk\n",
      "INFO:mxboard.event_file_writer:wrote 11 events to disk\n",
      "INFO:mxboard.event_file_writer:wrote 11 events to disk\n",
      "INFO:mxboard.event_file_writer:wrote 11 events to disk\n",
      "INFO:mxboard.event_file_writer:wrote 10 events to disk\n"
     ]
    },
    {
     "name": "stdout",
     "output_type": "stream",
     "text": [
      "[Epoch 16 Batch 200] Training: accuracy=0.845616\n"
     ]
    },
    {
     "name": "stderr",
     "output_type": "stream",
     "text": [
      "INFO:mxboard.event_file_writer:wrote 11 events to disk\n",
      "INFO:mxboard.event_file_writer:wrote 11 events to disk\n",
      "INFO:mxboard.event_file_writer:wrote 11 events to disk\n",
      "INFO:mxboard.event_file_writer:wrote 11 events to disk\n",
      "INFO:mxboard.event_file_writer:wrote 11 events to disk\n",
      "INFO:mxboard.event_file_writer:wrote 11 events to disk\n",
      "INFO:mxboard.event_file_writer:wrote 11 events to disk\n",
      "INFO:mxboard.event_file_writer:wrote 10 events to disk\n",
      "INFO:mxboard.event_file_writer:wrote 10 events to disk\n",
      "INFO:mxboard.event_file_writer:wrote 10 events to disk\n",
      "INFO:mxboard.event_file_writer:wrote 10 events to disk\n",
      "INFO:mxboard.event_file_writer:wrote 10 events to disk\n",
      "INFO:mxboard.event_file_writer:wrote 10 events to disk\n",
      "INFO:mxboard.event_file_writer:wrote 10 events to disk\n",
      "INFO:mxboard.event_file_writer:wrote 10 events to disk\n",
      "INFO:mxboard.event_file_writer:wrote 11 events to disk\n",
      "INFO:mxboard.event_file_writer:wrote 11 events to disk\n",
      "INFO:mxboard.event_file_writer:wrote 11 events to disk\n",
      "INFO:mxboard.event_file_writer:wrote 11 events to disk\n"
     ]
    },
    {
     "name": "stdout",
     "output_type": "stream",
     "text": [
      "[Epoch 16 Batch 400] Training: accuracy=0.844179\n"
     ]
    },
    {
     "name": "stderr",
     "output_type": "stream",
     "text": [
      "INFO:mxboard.event_file_writer:wrote 11 events to disk\n",
      "INFO:mxboard.event_file_writer:wrote 10 events to disk\n",
      "INFO:mxboard.event_file_writer:wrote 10 events to disk\n",
      "INFO:mxboard.event_file_writer:wrote 11 events to disk\n",
      "INFO:mxboard.event_file_writer:wrote 11 events to disk\n",
      "INFO:mxboard.event_file_writer:wrote 11 events to disk\n",
      "INFO:mxboard.event_file_writer:wrote 11 events to disk\n",
      "INFO:mxboard.event_file_writer:wrote 10 events to disk\n",
      "INFO:mxboard.event_file_writer:wrote 11 events to disk\n",
      "INFO:mxboard.event_file_writer:wrote 11 events to disk\n",
      "INFO:mxboard.event_file_writer:wrote 11 events to disk\n",
      "INFO:mxboard.event_file_writer:wrote 11 events to disk\n",
      "INFO:mxboard.event_file_writer:wrote 11 events to disk\n"
     ]
    },
    {
     "name": "stdout",
     "output_type": "stream",
     "text": [
      "[Epoch 16] Training: accuracy=0.841629: 1101.35103058815 s\n"
     ]
    },
    {
     "name": "stderr",
     "output_type": "stream",
     "text": [
      "INFO:mxboard.event_file_writer:wrote 1 event to disk\n"
     ]
    },
    {
     "name": "stdout",
     "output_type": "stream",
     "text": [
      "[Epoch 16] Validation: accuracy=0.9062\n"
     ]
    },
    {
     "name": "stderr",
     "output_type": "stream",
     "text": [
      "INFO:mxboard.event_file_writer:wrote 1 event to disk\n"
     ]
    },
    {
     "name": "stdout",
     "output_type": "stream",
     "text": [
      "[Epoch 16] Test: accuracy=0.8956\n"
     ]
    },
    {
     "name": "stderr",
     "output_type": "stream",
     "text": [
      "INFO:mxboard.event_file_writer:wrote 1 event to disk\n",
      "INFO:mxboard.event_file_writer:wrote 9 events to disk\n",
      "INFO:mxboard.event_file_writer:wrote 1 event to disk\n",
      "INFO:mxboard.event_file_writer:wrote 11 events to disk\n",
      "INFO:mxboard.event_file_writer:wrote 11 events to disk\n",
      "INFO:mxboard.event_file_writer:wrote 11 events to disk\n",
      "INFO:mxboard.event_file_writer:wrote 10 events to disk\n",
      "INFO:mxboard.event_file_writer:wrote 10 events to disk\n",
      "INFO:mxboard.event_file_writer:wrote 11 events to disk\n",
      "INFO:mxboard.event_file_writer:wrote 11 events to disk\n",
      "INFO:mxboard.event_file_writer:wrote 11 events to disk\n",
      "INFO:mxboard.event_file_writer:wrote 10 events to disk\n",
      "INFO:mxboard.event_file_writer:wrote 10 events to disk\n",
      "INFO:mxboard.event_file_writer:wrote 11 events to disk\n",
      "INFO:mxboard.event_file_writer:wrote 11 events to disk\n",
      "INFO:mxboard.event_file_writer:wrote 10 events to disk\n",
      "INFO:mxboard.event_file_writer:wrote 11 events to disk\n",
      "INFO:mxboard.event_file_writer:wrote 11 events to disk\n",
      "INFO:mxboard.event_file_writer:wrote 10 events to disk\n",
      "INFO:mxboard.event_file_writer:wrote 11 events to disk\n",
      "INFO:mxboard.event_file_writer:wrote 11 events to disk\n"
     ]
    },
    {
     "name": "stdout",
     "output_type": "stream",
     "text": [
      "[Epoch 17 Batch 200] Training: accuracy=0.847326\n"
     ]
    },
    {
     "name": "stderr",
     "output_type": "stream",
     "text": [
      "INFO:mxboard.event_file_writer:wrote 11 events to disk\n",
      "INFO:mxboard.event_file_writer:wrote 11 events to disk\n",
      "INFO:mxboard.event_file_writer:wrote 11 events to disk\n",
      "INFO:mxboard.event_file_writer:wrote 11 events to disk\n",
      "INFO:mxboard.event_file_writer:wrote 11 events to disk\n",
      "INFO:mxboard.event_file_writer:wrote 11 events to disk\n",
      "INFO:mxboard.event_file_writer:wrote 11 events to disk\n",
      "INFO:mxboard.event_file_writer:wrote 10 events to disk\n",
      "INFO:mxboard.event_file_writer:wrote 10 events to disk\n",
      "INFO:mxboard.event_file_writer:wrote 10 events to disk\n",
      "INFO:mxboard.event_file_writer:wrote 8 events to disk\n",
      "INFO:mxboard.event_file_writer:wrote 10 events to disk\n",
      "INFO:mxboard.event_file_writer:wrote 11 events to disk\n",
      "INFO:mxboard.event_file_writer:wrote 10 events to disk\n",
      "INFO:mxboard.event_file_writer:wrote 10 events to disk\n",
      "INFO:mxboard.event_file_writer:wrote 10 events to disk\n",
      "INFO:mxboard.event_file_writer:wrote 10 events to disk\n",
      "INFO:mxboard.event_file_writer:wrote 10 events to disk\n",
      "INFO:mxboard.event_file_writer:wrote 10 events to disk\n",
      "INFO:mxboard.event_file_writer:wrote 10 events to disk\n"
     ]
    },
    {
     "name": "stdout",
     "output_type": "stream",
     "text": [
      "[Epoch 17 Batch 400] Training: accuracy=0.842854\n"
     ]
    },
    {
     "name": "stderr",
     "output_type": "stream",
     "text": [
      "INFO:mxboard.event_file_writer:wrote 10 events to disk\n",
      "INFO:mxboard.event_file_writer:wrote 10 events to disk\n",
      "INFO:mxboard.event_file_writer:wrote 10 events to disk\n",
      "INFO:mxboard.event_file_writer:wrote 11 events to disk\n",
      "INFO:mxboard.event_file_writer:wrote 11 events to disk\n",
      "INFO:mxboard.event_file_writer:wrote 11 events to disk\n",
      "INFO:mxboard.event_file_writer:wrote 11 events to disk\n",
      "INFO:mxboard.event_file_writer:wrote 11 events to disk\n",
      "INFO:mxboard.event_file_writer:wrote 11 events to disk\n",
      "INFO:mxboard.event_file_writer:wrote 11 events to disk\n",
      "INFO:mxboard.event_file_writer:wrote 11 events to disk\n",
      "INFO:mxboard.event_file_writer:wrote 10 events to disk\n",
      "INFO:mxboard.event_file_writer:wrote 11 events to disk\n"
     ]
    },
    {
     "name": "stdout",
     "output_type": "stream",
     "text": [
      "[Epoch 17] Training: accuracy=0.842314: 1100.855847120285 s\n"
     ]
    },
    {
     "name": "stderr",
     "output_type": "stream",
     "text": [
      "INFO:mxboard.event_file_writer:wrote 1 event to disk\n"
     ]
    },
    {
     "name": "stdout",
     "output_type": "stream",
     "text": [
      "[Epoch 17] Validation: accuracy=0.907533\n"
     ]
    },
    {
     "name": "stderr",
     "output_type": "stream",
     "text": [
      "INFO:mxboard.event_file_writer:wrote 1 event to disk\n"
     ]
    },
    {
     "name": "stdout",
     "output_type": "stream",
     "text": [
      "[Epoch 17] Test: accuracy=0.8964\n"
     ]
    },
    {
     "name": "stderr",
     "output_type": "stream",
     "text": [
      "INFO:mxboard.event_file_writer:wrote 1 event to disk\n",
      "INFO:mxboard.event_file_writer:wrote 10 events to disk\n",
      "INFO:mxboard.event_file_writer:wrote 1 event to disk\n",
      "INFO:mxboard.event_file_writer:wrote 10 events to disk\n",
      "INFO:mxboard.event_file_writer:wrote 10 events to disk\n",
      "INFO:mxboard.event_file_writer:wrote 11 events to disk\n",
      "INFO:mxboard.event_file_writer:wrote 11 events to disk\n",
      "INFO:mxboard.event_file_writer:wrote 11 events to disk\n",
      "INFO:mxboard.event_file_writer:wrote 11 events to disk\n",
      "INFO:mxboard.event_file_writer:wrote 11 events to disk\n",
      "INFO:mxboard.event_file_writer:wrote 11 events to disk\n",
      "INFO:mxboard.event_file_writer:wrote 11 events to disk\n",
      "INFO:mxboard.event_file_writer:wrote 11 events to disk\n",
      "INFO:mxboard.event_file_writer:wrote 11 events to disk\n",
      "INFO:mxboard.event_file_writer:wrote 11 events to disk\n",
      "INFO:mxboard.event_file_writer:wrote 11 events to disk\n",
      "INFO:mxboard.event_file_writer:wrote 11 events to disk\n",
      "INFO:mxboard.event_file_writer:wrote 10 events to disk\n",
      "INFO:mxboard.event_file_writer:wrote 11 events to disk\n",
      "INFO:mxboard.event_file_writer:wrote 11 events to disk\n",
      "INFO:mxboard.event_file_writer:wrote 11 events to disk\n"
     ]
    },
    {
     "name": "stdout",
     "output_type": "stream",
     "text": [
      "[Epoch 18 Batch 200] Training: accuracy=0.843206\n"
     ]
    },
    {
     "name": "stderr",
     "output_type": "stream",
     "text": [
      "INFO:mxboard.event_file_writer:wrote 11 events to disk\n",
      "INFO:mxboard.event_file_writer:wrote 11 events to disk\n",
      "INFO:mxboard.event_file_writer:wrote 11 events to disk\n",
      "INFO:mxboard.event_file_writer:wrote 11 events to disk\n",
      "INFO:mxboard.event_file_writer:wrote 11 events to disk\n",
      "INFO:mxboard.event_file_writer:wrote 11 events to disk\n",
      "INFO:mxboard.event_file_writer:wrote 10 events to disk\n",
      "INFO:mxboard.event_file_writer:wrote 11 events to disk\n",
      "INFO:mxboard.event_file_writer:wrote 11 events to disk\n",
      "INFO:mxboard.event_file_writer:wrote 11 events to disk\n",
      "INFO:mxboard.event_file_writer:wrote 11 events to disk\n",
      "INFO:mxboard.event_file_writer:wrote 11 events to disk\n",
      "INFO:mxboard.event_file_writer:wrote 11 events to disk\n",
      "INFO:mxboard.event_file_writer:wrote 11 events to disk\n",
      "INFO:mxboard.event_file_writer:wrote 11 events to disk\n",
      "INFO:mxboard.event_file_writer:wrote 11 events to disk\n",
      "INFO:mxboard.event_file_writer:wrote 10 events to disk\n",
      "INFO:mxboard.event_file_writer:wrote 11 events to disk\n"
     ]
    },
    {
     "name": "stdout",
     "output_type": "stream",
     "text": [
      "[Epoch 18 Batch 400] Training: accuracy=0.846322\n"
     ]
    },
    {
     "name": "stderr",
     "output_type": "stream",
     "text": [
      "INFO:mxboard.event_file_writer:wrote 10 events to disk\n",
      "INFO:mxboard.event_file_writer:wrote 11 events to disk\n",
      "INFO:mxboard.event_file_writer:wrote 11 events to disk\n",
      "INFO:mxboard.event_file_writer:wrote 11 events to disk\n",
      "INFO:mxboard.event_file_writer:wrote 10 events to disk\n",
      "INFO:mxboard.event_file_writer:wrote 11 events to disk\n"
     ]
    },
    {
     "ename": "KeyboardInterrupt",
     "evalue": "",
     "output_type": "error",
     "traceback": [
      "\u001b[1;31m---------------------------------------------------------------------------\u001b[0m",
      "\u001b[1;31mKeyboardInterrupt\u001b[0m                         Traceback (most recent call last)",
      "\u001b[1;32m<ipython-input-5-52e34440af77>\u001b[0m in \u001b[0;36m<module>\u001b[1;34m()\u001b[0m\n\u001b[0;32m      1\u001b[0m \u001b[0mbatch_size\u001b[0m \u001b[1;33m=\u001b[0m \u001b[1;36m64\u001b[0m\u001b[1;33m\u001b[0m\u001b[0m\n\u001b[1;32m----> 2\u001b[1;33m \u001b[0mT\u001b[0m\u001b[1;33m.\u001b[0m\u001b[0mtrain\u001b[0m\u001b[1;33m(\u001b[0m\u001b[0mbatch_size\u001b[0m\u001b[1;33m,\u001b[0m \u001b[0mfinetune_net\u001b[0m\u001b[1;33m,\u001b[0m \u001b[1;36m500\u001b[0m\u001b[1;33m)\u001b[0m\u001b[1;33m\u001b[0m\u001b[0m\n\u001b[0m",
      "\u001b[1;32mE:/xinlib\\hcv.py\u001b[0m in \u001b[0;36mtrain\u001b[1;34m(self, batch_size, net, epochs)\u001b[0m\n\u001b[0;32m    111\u001b[0m                     \u001b[0mloss\u001b[0m \u001b[1;33m=\u001b[0m \u001b[0mloss_fn\u001b[0m\u001b[1;33m(\u001b[0m\u001b[0moutputs\u001b[0m\u001b[1;33m,\u001b[0m \u001b[0mlabels\u001b[0m\u001b[1;33m)\u001b[0m\u001b[1;33m\u001b[0m\u001b[0m\n\u001b[0;32m    112\u001b[0m                     sw.add_scalar('cross_entropy',\n\u001b[1;32m--> 113\u001b[1;33m                                   \u001b[1;33m{\u001b[0m\u001b[0mnet\u001b[0m\u001b[1;33m.\u001b[0m\u001b[0mname\u001b[0m\u001b[1;33m:\u001b[0m \u001b[0mloss\u001b[0m\u001b[1;33m.\u001b[0m\u001b[0mmean\u001b[0m\u001b[1;33m(\u001b[0m\u001b[1;33m)\u001b[0m\u001b[1;33m.\u001b[0m\u001b[0masscalar\u001b[0m\u001b[1;33m(\u001b[0m\u001b[1;33m)\u001b[0m\u001b[1;33m}\u001b[0m\u001b[1;33m,\u001b[0m\u001b[1;33m\u001b[0m\u001b[0m\n\u001b[0m\u001b[0;32m    114\u001b[0m                                   global_step)\n\u001b[0;32m    115\u001b[0m                 \u001b[0mglobal_step\u001b[0m \u001b[1;33m+=\u001b[0m \u001b[1;36m1\u001b[0m\u001b[1;33m\u001b[0m\u001b[0m\n",
      "\u001b[1;32mC:\\Program Files (x86)\\Microsoft Visual Studio\\Shared\\Anaconda3_64\\lib\\site-packages\\mxnet\\ndarray\\ndarray.py\u001b[0m in \u001b[0;36masscalar\u001b[1;34m(self)\u001b[0m\n\u001b[0;32m   1892\u001b[0m         \u001b[1;32mif\u001b[0m \u001b[0mself\u001b[0m\u001b[1;33m.\u001b[0m\u001b[0mshape\u001b[0m \u001b[1;33m!=\u001b[0m \u001b[1;33m(\u001b[0m\u001b[1;36m1\u001b[0m\u001b[1;33m,\u001b[0m\u001b[1;33m)\u001b[0m\u001b[1;33m:\u001b[0m\u001b[1;33m\u001b[0m\u001b[0m\n\u001b[0;32m   1893\u001b[0m             \u001b[1;32mraise\u001b[0m \u001b[0mValueError\u001b[0m\u001b[1;33m(\u001b[0m\u001b[1;34m\"The current array is not a scalar\"\u001b[0m\u001b[1;33m)\u001b[0m\u001b[1;33m\u001b[0m\u001b[0m\n\u001b[1;32m-> 1894\u001b[1;33m         \u001b[1;32mreturn\u001b[0m \u001b[0mself\u001b[0m\u001b[1;33m.\u001b[0m\u001b[0masnumpy\u001b[0m\u001b[1;33m(\u001b[0m\u001b[1;33m)\u001b[0m\u001b[1;33m[\u001b[0m\u001b[1;36m0\u001b[0m\u001b[1;33m]\u001b[0m\u001b[1;33m\u001b[0m\u001b[0m\n\u001b[0m\u001b[0;32m   1895\u001b[0m \u001b[1;33m\u001b[0m\u001b[0m\n\u001b[0;32m   1896\u001b[0m     \u001b[1;32mdef\u001b[0m \u001b[0mastype\u001b[0m\u001b[1;33m(\u001b[0m\u001b[0mself\u001b[0m\u001b[1;33m,\u001b[0m \u001b[0mdtype\u001b[0m\u001b[1;33m,\u001b[0m \u001b[0mcopy\u001b[0m\u001b[1;33m=\u001b[0m\u001b[1;32mTrue\u001b[0m\u001b[1;33m)\u001b[0m\u001b[1;33m:\u001b[0m\u001b[1;33m\u001b[0m\u001b[0m\n",
      "\u001b[1;32mC:\\Program Files (x86)\\Microsoft Visual Studio\\Shared\\Anaconda3_64\\lib\\site-packages\\mxnet\\ndarray\\ndarray.py\u001b[0m in \u001b[0;36masnumpy\u001b[1;34m(self)\u001b[0m\n\u001b[0;32m   1874\u001b[0m             \u001b[0mself\u001b[0m\u001b[1;33m.\u001b[0m\u001b[0mhandle\u001b[0m\u001b[1;33m,\u001b[0m\u001b[1;33m\u001b[0m\u001b[0m\n\u001b[0;32m   1875\u001b[0m             \u001b[0mdata\u001b[0m\u001b[1;33m.\u001b[0m\u001b[0mctypes\u001b[0m\u001b[1;33m.\u001b[0m\u001b[0mdata_as\u001b[0m\u001b[1;33m(\u001b[0m\u001b[0mctypes\u001b[0m\u001b[1;33m.\u001b[0m\u001b[0mc_void_p\u001b[0m\u001b[1;33m)\u001b[0m\u001b[1;33m,\u001b[0m\u001b[1;33m\u001b[0m\u001b[0m\n\u001b[1;32m-> 1876\u001b[1;33m             ctypes.c_size_t(data.size)))\n\u001b[0m\u001b[0;32m   1877\u001b[0m         \u001b[1;32mreturn\u001b[0m \u001b[0mdata\u001b[0m\u001b[1;33m\u001b[0m\u001b[0m\n\u001b[0;32m   1878\u001b[0m \u001b[1;33m\u001b[0m\u001b[0m\n",
      "\u001b[1;31mKeyboardInterrupt\u001b[0m: "
     ]
    }
   ],
   "source": [
    "batch_size = 64\n",
    "T.train(batch_size, finetune_net, 500)"
   ]
  },
  {
   "cell_type": "code",
   "execution_count": null,
   "metadata": {},
   "outputs": [],
   "source": []
  }
 ],
 "metadata": {
  "kernelspec": {
   "display_name": "Python 3",
   "language": "python",
   "name": "python3"
  },
  "language_info": {
   "codemirror_mode": {
    "name": "ipython",
    "version": 3
   },
   "file_extension": ".py",
   "mimetype": "text/x-python",
   "name": "python",
   "nbconvert_exporter": "python",
   "pygments_lexer": "ipython3",
   "version": "3.6.4"
  }
 },
 "nbformat": 4,
 "nbformat_minor": 2
}
