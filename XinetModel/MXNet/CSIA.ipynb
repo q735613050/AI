{
 "cells": [
  {
   "cell_type": "code",
   "execution_count": 1,
   "metadata": {},
   "outputs": [],
   "source": [
    "import os\n",
    "import struct\n",
    "import numpy as np\n",
    "import zipfile\n",
    "import tables as tb\n",
    "import pickle\n",
    "\n",
    "\n",
    "class Bunch(dict):\n",
    "    def __init__(self, *args, **kwds):\n",
    "        super().__init__(*args, **kwds)\n",
    "        self.__dict__ = self\n",
    "        \n",
    "        \n",
    "class MPF(Bunch):\n",
    "    \n",
    "    def __init__(self, buffer, *args, **kwds):\n",
    "        super().__init__(*args, **kwds)\n",
    "        size = struct.unpack('l', buffer[:4])[0]\n",
    "        dt = np.dtype({'names': \n",
    "                       ['Format code', 'text', \n",
    "                        'Code type', 'Code length',\n",
    "                        'Data type', 'nrows', 'ndims'],\n",
    "                       'formats': f'S8 S{size-62} S20 h S20 l l'.split(' ')})\n",
    "        self.header = np.frombuffer(buffer[4:size], dtype=dt)\n",
    "        self.feature = buffer[size:]\n",
    "        \n",
    "    def __iter__(self):\n",
    "        n = self.header['Code length'][0]\n",
    "        ndims = self.header['ndims'][0]\n",
    "        m =  n + ndims\n",
    "        for i in range(0, m * self.header['nrows'][0], m):\n",
    "            label = self.feature[i: i + n].decode('gb18030')\n",
    "            data = np.frombuffer(self.feature[i + n : m], 'B')\n",
    "            yield data, label\n",
    "\n",
    "\n",
    "class PTTS(Bunch):\n",
    "    def __init__(self, buffer, *args, **kwds):\n",
    "        super().__init__(*args, **kwds)\n",
    "\n",
    "        \n",
    "class POT(Bunch):\n",
    "    \n",
    "    def __init__(self, buffer, *args, **kwds):\n",
    "        super().__init__(*args, **kwds)\n",
    "        self.buffer = buffer\n",
    "        self.dt = np.dtype({'names': ['Sample size', 'Tag code', 'Stoke number'],\n",
    "                       'formats': 'H S4 H'.split(' ')})\n",
    "        \n",
    "    def __iter__(self):\n",
    "        j = 0\n",
    "        for i, _ in enumerate(self.buffer):\n",
    "            if i == j:\n",
    "                item = np.frombuffer(buffer[j : j + 8], dtype=self.dt)\n",
    "                size = item['Sample size'][0]\n",
    "                tag_code = item['Tag code'][0].decode('gb18030')\n",
    "                stroke_num = item['Stoke number'][0]\n",
    "                strokes = np.frombuffer(self.buffer[j + 8: j + size], dtype='h')\n",
    "                j += size\n",
    "                print(i)\n",
    "            else:\n",
    "                continue\n",
    "            yield tag_code, stroke_num, strokes\n",
    "            \n",
    "        \n",
    "class GNT(Bunch):\n",
    "    \n",
    "    def __init__(self, buffer, *args, **kwds):\n",
    "        super().__init__(*args, **kwds)\n",
    "        self.buffer = buffer\n",
    "          \n",
    "    def __iter__(self):\n",
    "        j = 0\n",
    "        for i, _ in enumerate(self.buffer):\n",
    "            if i == j:\n",
    "                size = np.frombuffer(self.buffer[j : j + 4], 'I')[0]\n",
    "                tag = self.buffer[j + 4: j + 6].decode('gb18030')\n",
    "                width, height = np.frombuffer(self.buffer[j + 6: j + 10], 'H')\n",
    "                bitmap = np.frombuffer(self.buffer[j + 10: j + size], 'B').reshape((height, width))\n",
    "                j += size\n",
    "                yield {tag : bitmap}\n",
    "        \n",
    "class DGR(Bunch):\n",
    "    \n",
    "    def __init__(self, buffer, *args, **kwds):\n",
    "        super().__init__(*args, **kwds)\n",
    "        \n",
    "\n",
    "class HW(Bunch):\n",
    "    \n",
    "    def __init__(self, root, filename, *args, **kwds):\n",
    "        super().__init__(*args, **kwds)\n",
    "        self._type(filename)\n",
    "        path = f'{root}{filename}'\n",
    "        self.Z = zipfile.ZipFile(path)\n",
    "        \n",
    "    def _type(self, filename):\n",
    "        if 'gnt' in filename:\n",
    "            self['type'] = 'gnt'\n",
    "        elif 'pot' in filename:\n",
    "            self['type'] = 'pot'\n",
    "        else:\n",
    "            self['type'] = 'mpf'\n",
    "            \n",
    "    def __iter__(self):\n",
    "        for info in self.Z.infolist():\n",
    "            if not info.is_dir():\n",
    "                buffer = self.Z.read(info)\n",
    "                yield buffer\n",
    "        \n",
    "class Feature(Bunch):\n",
    "\n",
    "    def __init__(self, root, *args, **kwds):\n",
    "        super().__init__(*args, **kwds)\n",
    "        for filename in os.listdir(root):\n",
    "            name, _ = os.path.splitext(filename)\n",
    "            name = name.replace('.', '')\n",
    "            hw = HW(root, filename)\n",
    "            self[name] = hw"
   ]
  },
  {
   "cell_type": "code",
   "execution_count": 2,
   "metadata": {},
   "outputs": [],
   "source": [
    "root = 'E:/OCR/CASIA/HW/'"
   ]
  },
  {
   "cell_type": "code",
   "execution_count": 3,
   "metadata": {
    "scrolled": true
   },
   "outputs": [
    {
     "name": "stdout",
     "output_type": "stream",
     "text": [
      "Wall time: 616 ms\n"
     ]
    }
   ],
   "source": [
    "%%time\n",
    "ft = Feature(root)\n",
    "dataset = ft.HWDB11tst_gnt"
   ]
  },
  {
   "cell_type": "code",
   "execution_count": 4,
   "metadata": {
    "scrolled": true
   },
   "outputs": [
    {
     "name": "stdout",
     "output_type": "stream",
     "text": [
      "Wall time: 11.4 s\n"
     ]
    }
   ],
   "source": [
    "%%time\n",
    "gnts = []\n",
    "for buffer in iter(dataset):\n",
    "    gnts.append(GNT(buffer))"
   ]
  },
  {
   "cell_type": "code",
   "execution_count": 6,
   "metadata": {},
   "outputs": [],
   "source": [
    "gnt = gnts[0]"
   ]
  },
  {
   "cell_type": "code",
   "execution_count": 7,
   "metadata": {},
   "outputs": [],
   "source": [
    "for item in iter(gnt):\n",
    "    break"
   ]
  },
  {
   "cell_type": "code",
   "execution_count": 8,
   "metadata": {},
   "outputs": [
    {
     "data": {
      "text/plain": [
       "{'角': array([[255, 255, 255, ..., 255, 255, 255],\n",
       "        [255, 255, 255, ..., 255, 255, 255],\n",
       "        [255, 255, 255, ..., 255, 255, 255],\n",
       "        ...,\n",
       "        [255, 255, 255, ..., 255, 255, 255],\n",
       "        [255, 255, 255, ..., 255, 255, 255],\n",
       "        [255, 255, 255, ..., 255, 255, 255]], dtype=uint8)}"
      ]
     },
     "execution_count": 8,
     "metadata": {},
     "output_type": "execute_result"
    }
   ],
   "source": [
    "item"
   ]
  },
  {
   "cell_type": "code",
   "execution_count": 23,
   "metadata": {},
   "outputs": [
    {
     "name": "stdout",
     "output_type": "stream",
     "text": [
      "Wall time: 33min 29s\n"
     ]
    }
   ],
   "source": [
    "%%time\n",
    "X = np.asanyarray([item for item in iter(gnt)])"
   ]
  },
  {
   "cell_type": "code",
   "execution_count": 41,
   "metadata": {},
   "outputs": [],
   "source": [
    "A = pd.DataFrame.from_dict(X)"
   ]
  }
 ],
 "metadata": {
  "kernelspec": {
   "display_name": "Python 3",
   "language": "python",
   "name": "python3"
  },
  "language_info": {
   "codemirror_mode": {
    "name": "ipython",
    "version": 3
   },
   "file_extension": ".py",
   "mimetype": "text/x-python",
   "name": "python",
   "nbconvert_exporter": "python",
   "pygments_lexer": "ipython3",
   "version": "3.6.5"
  }
 },
 "nbformat": 4,
 "nbformat_minor": 2
}
