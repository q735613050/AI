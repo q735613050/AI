{
 "cells": [
  {
   "cell_type": "markdown",
   "metadata": {},
   "source": [
    "# 获取数据"
   ]
  },
  {
   "cell_type": "code",
   "execution_count": 1,
   "metadata": {
    "ExecuteTime": {
     "end_time": "2018-04-12T07:00:08.201070Z",
     "start_time": "2018-04-12T06:59:53.467075Z"
    }
   },
   "outputs": [],
   "source": [
    "from mxnet import gluon, nd, autograd\n",
    "root= 'E:/Data/MXNet/fashion_mnist'\n",
    "\n",
    "def transform(data, label):\n",
    "        '''转换为 `float32` 数据类型'''\n",
    "        return nd.transpose(data.astype('float32'), (2, 0, 1)) / 255, label.astype('float32')\n",
    "    \n",
    "mnist_train = gluon.data.vision.FashionMNIST(root, train= True, transform= transform)\n",
    "mnist_test = gluon.data.vision.FashionMNIST(root, train= False, transform= transform)\n",
    "\n",
    "batch_size = 256\n",
    "\n",
    "train_data = gluon.data.DataLoader(mnist_train, batch_size, shuffle= True)\n",
    "test_data = gluon.data.DataLoader(mnist_test, batch_size, shuffle= False)"
   ]
  },
  {
   "cell_type": "code",
   "execution_count": 2,
   "metadata": {
    "ExecuteTime": {
     "end_time": "2018-04-12T07:00:50.759860Z",
     "start_time": "2018-04-12T07:00:50.638863Z"
    }
   },
   "outputs": [
    {
     "name": "stdout",
     "output_type": "stream",
     "text": [
      "data.shape: (256, 1, 28, 28) \n",
      "label.shape: (256,)\n"
     ]
    }
   ],
   "source": [
    "for data, label in train_data:\n",
    "    # change data from batch x height x weight x channel to batch x channel x height x weight\n",
    "    print('data.shape: {} \\nlabel.shape: {}'.format(data.shape, label.shape))\n",
    "    break"
   ]
  },
  {
   "cell_type": "markdown",
   "metadata": {},
   "source": [
    "# 定义模型\n",
    "\n",
    "因为卷积网络计算比全连接要复杂，这里我们默认使用 GPU 来计算。如果 GPU 不能用，默认使用CPU。（下面这段代码会保存在 `utils.py` 里可以下次重复使用）。"
   ]
  },
  {
   "cell_type": "code",
   "execution_count": 3,
   "metadata": {
    "ExecuteTime": {
     "end_time": "2018-04-12T07:00:56.519865Z",
     "start_time": "2018-04-12T07:00:53.478890Z"
    }
   },
   "outputs": [
    {
     "data": {
      "text/plain": [
       "gpu(0)"
      ]
     },
     "execution_count": 3,
     "metadata": {},
     "output_type": "execute_result"
    }
   ],
   "source": [
    "import mxnet as mx\n",
    "from mxnet.gluon import nn\n",
    "\n",
    "try:\n",
    "    ctx = mx.gpu()\n",
    "    _ = nd.zeros((1,), ctx= ctx)\n",
    "except:\n",
    "    ctx = mx.cpu()\n",
    "ctx"
   ]
  },
  {
   "cell_type": "code",
   "execution_count": 4,
   "metadata": {
    "ExecuteTime": {
     "end_time": "2018-04-12T07:00:56.559862Z",
     "start_time": "2018-04-12T07:00:56.545861Z"
    },
    "scrolled": true
   },
   "outputs": [
    {
     "data": {
      "text/plain": [
       "Sequential(\n",
       "  (0): Conv2D(None -> 20, kernel_size=(5, 5), stride=(1, 1))\n",
       "  (1): Dropout(p = 0.2, axes=())\n",
       "  (2): MaxPool2D(size=(2, 2), stride=(2, 2), padding=(0, 0), ceil_mode=False)\n",
       "  (3): Conv2D(None -> 50, kernel_size=(3, 3), stride=(1, 1))\n",
       "  (4): Dropout(p = 0.5, axes=())\n",
       "  (5): MaxPool2D(size=(2, 2), stride=(2, 2), padding=(0, 0), ceil_mode=False)\n",
       "  (6): Conv2D(None -> 50, kernel_size=(1, 1), stride=(1, 1))\n",
       "  (7): MaxPool2D(size=(2, 2), stride=(2, 2), padding=(0, 0), ceil_mode=False)\n",
       "  (8): Flatten\n",
       "  (9): Dense(None -> 128, Activation(relu))\n",
       "  (10): Dense(None -> 10, linear)\n",
       ")"
      ]
     },
     "execution_count": 4,
     "metadata": {},
     "output_type": "execute_result"
    }
   ],
   "source": [
    "net = nn.Sequential()\n",
    "drop_prob1 = 0.2\n",
    "drop_prob2 = 0.5\n",
    "\n",
    "with net.name_scope():\n",
    "    net.add(\n",
    "        nn.Conv2D(channels= 20, kernel_size= 5, activation= 'relu'),\n",
    "        nn.Dropout(drop_prob1),\n",
    "        nn.MaxPool2D(pool_size= 2, strides= 2),\n",
    "        nn.Conv2D(channels= 50, kernel_size= 3, activation= 'relu'),\n",
    "        nn.Dropout(drop_prob2),\n",
    "        nn.MaxPool2D(pool_size= 2, strides= 2),\n",
    "        nn.Conv2D(channels= 50, kernel_size= 1, activation= 'relu'),\n",
    "        nn.MaxPool2D(pool_size= 2, strides= 2),\n",
    "        nn.Flatten(),\n",
    "        nn.Dense(128, activation= 'relu'),\n",
    "        nn.Dense(10)\n",
    "    )\n",
    "    \n",
    "net"
   ]
  },
  {
   "cell_type": "markdown",
   "metadata": {},
   "source": [
    "# 优化与评估"
   ]
  },
  {
   "cell_type": "code",
   "execution_count": 5,
   "metadata": {
    "ExecuteTime": {
     "end_time": "2018-04-12T07:00:57.755864Z",
     "start_time": "2018-04-12T07:00:57.746860Z"
    }
   },
   "outputs": [],
   "source": [
    "def softmax(output):\n",
    "    exp = nd.exp(output)\n",
    "    return exp/exp.sum(axis=1, keepdims=True)\n",
    "\n",
    "def cross_entropy(yhat, y):\n",
    "    '''效果与 `y` 做了 `one-hot` 相同'''\n",
    "    return - nd.pick(nd.log(yhat), y)\n",
    "\n",
    "def SGD(params, lr):\n",
    "    for param in params:\n",
    "        param[:] -= lr * param.grad \n",
    "        \n",
    "def accuracy(output, label):\n",
    "    y = nd.softmax(output)\n",
    "    return nd.mean(y.argmax(axis= 1)==label).asscalar()\n",
    "\n",
    "def evaluate_accuracy(data_iterator, net, ctx):\n",
    "    acc = nd.array([0.], ctx= ctx)\n",
    "    n = 0.\n",
    "    if isinstance(data_iterator, mx.io.MXDataIter):\n",
    "        data_iterator.reset()\n",
    "    for data, label in data_iterator:\n",
    "        label = label.as_in_context(ctx)\n",
    "        data = data.as_in_context(ctx)\n",
    "        out = net(data)\n",
    "        y = nd.softmax(out)\n",
    "        acc += nd.sum(y.argmax(axis=1)==label)\n",
    "        n += len(label)\n",
    "        acc.wait_to_read() # don't push too many operators into backend\n",
    "    return acc.asscalar() / n"
   ]
  },
  {
   "cell_type": "markdown",
   "metadata": {},
   "source": [
    "# 训练"
   ]
  },
  {
   "cell_type": "code",
   "execution_count": 6,
   "metadata": {
    "ExecuteTime": {
     "end_time": "2018-04-12T07:08:32.266194Z",
     "start_time": "2018-04-12T07:00:59.859862Z"
    },
    "scrolled": true
   },
   "outputs": [
    {
     "name": "stdout",
     "output_type": "stream",
     "text": [
      "Epoch 0. Loss: 1.73458, Train acc 0.331012, Test acc 0.5898, Time 26.589 sec\n",
      "Epoch 1. Loss: 0.888757, Train acc 0.654876, Test acc 0.7018, Time 22.561 sec\n",
      "Epoch 2. Loss: 0.668082, Train acc 0.742869, Test acc 0.7517, Time 20.87 sec\n",
      "Epoch 3. Loss: 0.606005, Train acc 0.76942, Test acc 0.7821, Time 20.563 sec\n",
      "Epoch 4. Loss: 0.568968, Train acc 0.784236, Test acc 0.7858, Time 20.8652 sec\n",
      "Epoch 5. Loss: 0.539016, Train acc 0.795662, Test acc 0.7878, Time 20.9731 sec\n",
      "Epoch 6. Loss: 0.517214, Train acc 0.803834, Test acc 0.8124, Time 20.631 sec\n",
      "Epoch 7. Loss: 0.500371, Train acc 0.809935, Test acc 0.8041, Time 20.653 sec\n",
      "Epoch 8. Loss: 0.484058, Train acc 0.818384, Test acc 0.8198, Time 20.613 sec\n",
      "Epoch 9. Loss: 0.470489, Train acc 0.821326, Test acc 0.8295, Time 22.3667 sec\n",
      "Epoch 10. Loss: 0.45821, Train acc 0.827432, Test acc 0.813, Time 21.2812 sec\n",
      "Epoch 11. Loss: 0.448811, Train acc 0.829859, Test acc 0.8306, Time 21.3541 sec\n",
      "Epoch 12. Loss: 0.436275, Train acc 0.835949, Test acc 0.8481, Time 21.274 sec\n",
      "Epoch 13. Loss: 0.426863, Train acc 0.83883, Test acc 0.8113, Time 21.8686 sec\n",
      "Epoch 14. Loss: 0.422562, Train acc 0.842193, Test acc 0.8301, Time 20.7929 sec\n",
      "Epoch 15. Loss: 0.414837, Train acc 0.844343, Test acc 0.854, Time 24.644 sec\n",
      "Epoch 16. Loss: 0.404481, Train acc 0.848188, Test acc 0.853, Time 25.9101 sec\n",
      "Epoch 17. Loss: 0.402417, Train acc 0.848737, Test acc 0.8381, Time 25.073 sec\n",
      "Epoch 18. Loss: 0.395892, Train acc 0.852233, Test acc 0.8388, Time 26.9628 sec\n",
      "Epoch 19. Loss: 0.391318, Train acc 0.854327, Test acc 0.863, Time 26.5252 sec\n"
     ]
    }
   ],
   "source": [
    "from time import time\n",
    "\n",
    "weight_decay = 0.001    # 正则化项系数\n",
    "lr = 0.2              # 学习率\n",
    "\n",
    "net.initialize(ctx= ctx)\n",
    "softmax_cross_entropy = gluon.loss.SoftmaxCrossEntropyLoss()\n",
    "trainer = gluon.Trainer(net.collect_params(), 'SGD', {'learning_rate': lr, 'wd': weight_decay})\n",
    "\n",
    "epochs = 20\n",
    "for epoch in range(epochs):\n",
    "    train_loss = 0.\n",
    "    train_acc = 0.\n",
    "    m = len(train_data)\n",
    "    \n",
    "    start = time()\n",
    "    for data, label in train_data:\n",
    "        label = label.as_in_context(ctx)\n",
    "        data = data.as_in_context(ctx)\n",
    "        with autograd.record():\n",
    "            output = net(data)\n",
    "            loss = softmax_cross_entropy(output, label)\n",
    "        loss.backward()\n",
    "        # 将梯度做平均，这样学习率会对 batch size 不那么敏感\n",
    "        trainer.step(batch_size)\n",
    "        \n",
    "        train_loss += nd.mean(loss).asscalar()\n",
    "        train_acc += accuracy(output, label)\n",
    "\n",
    "    test_acc = evaluate_accuracy(test_data, net, ctx)\n",
    "    print((\"Epoch %d. Loss: %g, Train acc %g, Test acc %g, Time %g sec\" % (\n",
    "            epoch, train_loss/m, train_acc/m, test_acc, time() - start)))"
   ]
  },
  {
   "cell_type": "markdown",
   "metadata": {},
   "source": [
    "# 保存训练期间最高准确率的模型\n",
    "\n",
    "```py\n",
    "best_acc = 0\n",
    "epochs = 10\n",
    "for epoch in range(epochs):\n",
    "    # training\n",
    "    # validation\n",
    "    val_acc = acc_function\n",
    "    if val_acc > best_acc:\n",
    "        best_acc = val_acc\n",
    "        # save model\n",
    "        model.save_params()\n",
    "```"
   ]
  },
  {
   "cell_type": "code",
   "execution_count": null,
   "metadata": {},
   "outputs": [],
   "source": []
  }
 ],
 "metadata": {
  "kernelspec": {
   "display_name": "Python 3",
   "language": "python",
   "name": "python3"
  },
  "language_info": {
   "codemirror_mode": {
    "name": "ipython",
    "version": 3
   },
   "file_extension": ".py",
   "mimetype": "text/x-python",
   "name": "python",
   "nbconvert_exporter": "python",
   "pygments_lexer": "ipython3",
   "version": "3.6.4"
  },
  "latex_envs": {
   "LaTeX_envs_menu_present": true,
   "autoclose": false,
   "autocomplete": true,
   "bibliofile": "biblio.bib",
   "cite_by": "apalike",
   "current_citInitial": 1,
   "eqLabelWithNumbers": true,
   "eqNumInitial": 1,
   "hotkeys": {
    "equation": "Ctrl-E",
    "itemize": "Ctrl-I"
   },
   "labels_anchors": false,
   "latex_user_defs": false,
   "report_style_numbering": false,
   "user_envs_cfg": false
  },
  "nbTranslate": {
   "displayLangs": [
    "*"
   ],
   "hotkey": "alt-t",
   "langInMainMenu": true,
   "sourceLang": "en",
   "targetLang": "fr",
   "useGoogleTranslate": true
  },
  "toc": {
   "nav_menu": {},
   "number_sections": true,
   "sideBar": true,
   "skip_h1_title": false,
   "title_cell": "Table of Contents",
   "title_sidebar": "Contents",
   "toc_cell": false,
   "toc_position": {
    "height": "calc(100% - 180px)",
    "left": "10px",
    "top": "150px",
    "width": "268px"
   },
   "toc_section_display": true,
   "toc_window_display": true
  },
  "varInspector": {
   "cols": {
    "lenName": 16,
    "lenType": 16,
    "lenVar": 40
   },
   "kernels_config": {
    "python": {
     "delete_cmd_postfix": "",
     "delete_cmd_prefix": "del ",
     "library": "var_list.py",
     "varRefreshCmd": "print(var_dic_list())"
    },
    "r": {
     "delete_cmd_postfix": ") ",
     "delete_cmd_prefix": "rm(",
     "library": "var_list.r",
     "varRefreshCmd": "cat(var_dic_list()) "
    }
   },
   "types_to_exclude": [
    "module",
    "function",
    "builtin_function_or_method",
    "instance",
    "_Feature"
   ],
   "window_display": false
  }
 },
 "nbformat": 4,
 "nbformat_minor": 2
}
