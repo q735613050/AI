{
 "cells": [
  {
   "cell_type": "code",
   "execution_count": null,
   "metadata": {},
   "outputs": [],
   "source": [
    "import tarfile, os\n",
    "import numpy as np"
   ]
  },
  {
   "cell_type": "code",
   "execution_count": null,
   "metadata": {},
   "outputs": [],
   "source": [
    "root = 'E:/Data/MINC/'"
   ]
  },
  {
   "cell_type": "code",
   "execution_count": null,
   "metadata": {
    "scrolled": true
   },
   "outputs": [],
   "source": [
    "path1 = 'D:/datasets/MINC/'\n",
    "for name in os.listdir(root):\n",
    "    path = f'{root}{name}'\n",
    "    if tarfile.is_tarfile(path):\n",
    "        tar = tarfile.open(path, 'r:gz')\n",
    "        tar.extractall(path1) # 解压全部"
   ]
  },
  {
   "cell_type": "code",
   "execution_count": null,
   "metadata": {
    "scrolled": true
   },
   "outputs": [],
   "source": [
    "path2 = path1 + 'minc/'"
   ]
  },
  {
   "cell_type": "code",
   "execution_count": null,
   "metadata": {
    "scrolled": true
   },
   "outputs": [],
   "source": [
    "def get_label_dict(path):\n",
    "    label_dict = {}\n",
    "    for name in os.listdir(path):\n",
    "        path3 = path + name\n",
    "        if os.path.isfile(path3):\n",
    "            if not name == 'README.txt':\n",
    "                k = os.path.splitext(name)[0]\n",
    "                label_dict[k] = np.loadtxt(path3, dtype = 'U')\n",
    "    return label_dict"
   ]
  },
  {
   "cell_type": "code",
   "execution_count": null,
   "metadata": {
    "scrolled": false
   },
   "outputs": [],
   "source": [
    "label_dict = get_label_dict(path2)\n",
    "label_dict"
   ]
  },
  {
   "cell_type": "code",
   "execution_count": null,
   "metadata": {},
   "outputs": [],
   "source": [
    "with open(path2 + 'README.txt') as fp:\n",
    "    print(fp.read())"
   ]
  }
 ],
 "metadata": {
  "kernelspec": {
   "display_name": "Python 3",
   "language": "python",
   "name": "python3"
  },
  "language_info": {
   "codemirror_mode": {
    "name": "ipython",
    "version": 3
   },
   "file_extension": ".py",
   "mimetype": "text/x-python",
   "name": "python",
   "nbconvert_exporter": "python",
   "pygments_lexer": "ipython3",
   "version": "3.6.5"
  }
 },
 "nbformat": 4,
 "nbformat_minor": 2
}
