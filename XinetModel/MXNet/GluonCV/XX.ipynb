{
 "cells": [
  {
   "cell_type": "markdown",
   "metadata": {},
   "source": [
    "# 载入数据"
   ]
  },
  {
   "cell_type": "code",
   "execution_count": 1,
   "metadata": {
    "ExecuteTime": {
     "end_time": "2018-10-15T05:19:57.560486Z",
     "start_time": "2018-10-15T05:19:36.018308Z"
    },
    "scrolled": true
   },
   "outputs": [
    {
     "name": "stderr",
     "output_type": "stream",
     "text": [
      "C:\\ProgramData\\Anaconda3\\lib\\site-packages\\h5py\\__init__.py:36: FutureWarning: Conversion of the second argument of issubdtype from `float` to `np.floating` is deprecated. In future, it will be treated as `np.float64 == np.dtype(float).type`.\n",
      "  from ._conv import register_converters as _register_converters\n"
     ]
    }
   ],
   "source": [
    "import sys\n",
    "sys.path.append('E:/zlab/')\n",
    "from gluonx.cifar import Cifar\n",
    "from gluonx.loader import Transforms, Loader\n",
    "# ---------------------------------------------\n",
    "import time\n",
    "import numpy as np\n",
    "import mxnet as mx\n",
    "\n",
    "from mxnet import gluon, nd, init\n",
    "from mxnet import autograd as ag\n",
    "from mxnet.gluon import nn\n",
    "\n",
    "from gluoncv.model_zoo import get_model\n",
    "from gluoncv.utils import makedirs, TrainingHistory\n",
    "\n",
    "batch_size = 8\n",
    "cifar = Cifar(batch_size)"
   ]
  },
  {
   "cell_type": "code",
   "execution_count": 2,
   "metadata": {
    "ExecuteTime": {
     "end_time": "2018-10-15T05:19:57.576433Z",
     "start_time": "2018-10-15T05:19:57.563440Z"
    }
   },
   "outputs": [],
   "source": [
    "class SemiModel(nn.HybridBlock):\n",
    "    def __init__(self, features, **kwargs):\n",
    "        super().__init__(**kwargs)\n",
    "        self.features = features\n",
    "        self.output = nn.Dense(10)\n",
    "\n",
    "    def hybrid_forward(self, F, x):\n",
    "        x = self.features(x)\n",
    "        return self.output(x)\n",
    "\n",
    "\n",
    "class TrainX(Transforms):\n",
    "    def __init__(self, ctx, net, *args, **kwargs):\n",
    "        super().__init__(*args, **kwargs)\n",
    "        self.__dict__ = self\n",
    "        self.ctx = ctx\n",
    "        # 网络预设\n",
    "        _net = get_model('resnet50_v2', pretrained=True)\n",
    "        net.features = _net.features\n",
    "        net.output.initialize(init.Xavier(magnitude=0.24))\n",
    "        net.collect_params().reset_ctx(self.ctx)\n",
    "        net.hybridize()\n",
    "        self.net = net\n",
    "        self._opt(self.net)\n",
    "        \n",
    "    def get_data(self, batch, aug):\n",
    "        Xs = nd.stack(*[aug(x)for x in batch[0]]).as_in_context(self.ctx)\n",
    "        ys = batch[1].as_in_context(self.ctx)\n",
    "        return Xs, ys\n",
    "\n",
    "    def test_metric(self, net, val_data):\n",
    "        metric = mx.metric.Accuracy()\n",
    "        for i, batch in enumerate(val_data):\n",
    "            Xs, ys = self.get_data(batch, self.test_aug)\n",
    "            outputs = net(Xs)\n",
    "            metric.update(ys, outputs)\n",
    "        return metric.get()\n",
    "    \n",
    "    def _opt(self, net):\n",
    "        '''\n",
    "        Opt 初始化\n",
    "        '''\n",
    "        # Nesterov accelerated gradient descent\n",
    "        optimizer = 'nag'\n",
    "        # Set parameters\n",
    "        optimizer_params = {'learning_rate': 0.1, 'wd': 0.0001, 'momentum': 0.9}\n",
    "        # Define our trainer for net\n",
    "        self.trainer = gluon.Trainer(net.collect_params(), optimizer, optimizer_params)\n",
    "        self.loss_fn = gluon.loss.SoftmaxCrossEntropyLoss()\n",
    "        \n",
    "    def train_op(self, epochs, trainset, valset):\n",
    "        lr_decay_count = 0\n",
    "        # Learning rate decay factor\n",
    "        lr_decay = 0.1\n",
    "        # Epochs where learning rate decays\n",
    "        lr_decay_epoch = [50, 80, np.inf]\n",
    "        train_metric = mx.metric.Accuracy()\n",
    "        train_history = TrainingHistory(['training-error', 'validation-error'])\n",
    "        for epoch in range(epochs):\n",
    "            tic = time.time()\n",
    "            train_metric.reset()\n",
    "            train_loss = 0\n",
    "            # Learning rate decay\n",
    "            if epoch == lr_decay_epoch[lr_decay_count]:\n",
    "                self.trainer.set_learning_rate(self.trainer.learning_rate*lr_decay)\n",
    "                lr_decay_count += 1\n",
    "            # Loop through each batch of training data\n",
    "            for i, batch in enumerate(trainset):\n",
    "                # Extract data and label\n",
    "                Xs, ys = self.get_data(batch, self.train_aug)\n",
    "                # AutoGrad\n",
    "                with ag.record():\n",
    "                    yhats = self.net(Xs)\n",
    "                    loss = self.loss_fn(yhats, ys)\n",
    "                # Backpropagation\n",
    "                loss.backward()\n",
    "                # Optimize\n",
    "                self.trainer.step(trainset.batch_size)\n",
    "                # Update metrics\n",
    "                train_loss += loss.sum().asscalar()\n",
    "                train_metric.update(ys, yhats)\n",
    "            name, acc = train_metric.get()\n",
    "            # Evaluate on Validation data\n",
    "            name, val_acc = self.test_metric(self.net, valset)\n",
    "            # Update history and print metrics\n",
    "            train_history.update([1-acc, 1-val_acc])\n",
    "            print('[Epoch %d] train=%f val=%f loss=%f time: %f' %\n",
    "                  (epoch, acc, val_acc, train_loss, time.time()-tic))\n",
    "        # We can plot the metric scores with:\n",
    "        train_history.plot()"
   ]
  },
  {
   "cell_type": "code",
   "execution_count": 3,
   "metadata": {
    "ExecuteTime": {
     "end_time": "2018-10-15T05:20:04.084041Z",
     "start_time": "2018-10-15T05:19:57.579426Z"
    }
   },
   "outputs": [
    {
     "name": "stdout",
     "output_type": "stream",
     "text": [
      "Populating the interactive namespace from numpy and matplotlib\n"
     ]
    }
   ],
   "source": [
    "%pylab inline\n",
    "pretrain_net = get_model('resnet50_v2')\n",
    "#pretrain_net = get_model('cifar_resnet20_v1')\n",
    "net = SemiModel(pretrain_net.features)\n",
    "ctx = mx.gpu(0)\n",
    "T = TrainX(ctx, net)"
   ]
  },
  {
   "cell_type": "code",
   "execution_count": null,
   "metadata": {
    "ExecuteTime": {
     "start_time": "2018-10-15T05:19:36.448Z"
    },
    "scrolled": true
   },
   "outputs": [
    {
     "name": "stdout",
     "output_type": "stream",
     "text": [
      "[Epoch 0] train=0.117000 val=0.144600 loss=5545.713727 time: 296.483500\n",
      "[Epoch 1] train=0.162000 val=0.204000 loss=2530.144938 time: 288.860395\n",
      "[Epoch 2] train=0.151000 val=0.191900 loss=2330.034595 time: 288.784674\n",
      "[Epoch 3] train=0.171000 val=0.175900 loss=2175.302428 time: 288.503599\n",
      "[Epoch 4] train=0.182000 val=0.186700 loss=2178.732402 time: 299.822724\n",
      "[Epoch 5] train=0.185000 val=0.192000 loss=2144.155262 time: 330.330363\n",
      "[Epoch 6] train=0.186000 val=0.216500 loss=2161.694029 time: 289.067921\n",
      "[Epoch 7] train=0.181000 val=0.213500 loss=2125.943246 time: 287.586124\n"
     ]
    }
   ],
   "source": [
    "T.train_op(500, cifar.trainset, cifar.testset)"
   ]
  },
  {
   "cell_type": "raw",
   "metadata": {
    "ExecuteTime": {
     "end_time": "2018-10-14T14:10:17.736893Z",
     "start_time": "2018-10-14T14:10:02.846311Z"
    }
   },
   "source": [
    "yhats = []\n",
    "for batch in cifar.unlabelset:\n",
    "    Xs, ys = T.get_data(batch, T.test_aug)\n",
    "    yhats.extend(T.net(Xs).argmax(axis=1).asnumpy())\n",
    "\n",
    "X = nd.concatenate([cifar.trainset.X, cifar.unlabelset.X]).asnumpy()\n",
    "y = nd.concatenate([cifar.trainset.Y, -nd.ones_like(cifar.unlabelset.Y)]).asnumpy()"
   ]
  },
  {
   "cell_type": "raw",
   "metadata": {
    "ExecuteTime": {
     "end_time": "2018-10-14T14:13:04.745199Z",
     "start_time": "2018-10-14T14:12:50.533579Z"
    }
   },
   "source": [
    "features = []\n",
    "for batch in cifar.unlabelset:\n",
    "    Xs, ys = T.get_data(batch, T.test_aug)\n",
    "    features.extend(T.net.features(Xs).asnumpy())"
   ]
  },
  {
   "cell_type": "code",
   "execution_count": null,
   "metadata": {},
   "outputs": [],
   "source": []
  }
 ],
 "metadata": {
  "kernelspec": {
   "display_name": "Python [default]",
   "language": "python",
   "name": "python3"
  },
  "language_info": {
   "codemirror_mode": {
    "name": "ipython",
    "version": 3
   },
   "file_extension": ".py",
   "mimetype": "text/x-python",
   "name": "python",
   "nbconvert_exporter": "python",
   "pygments_lexer": "ipython3",
   "version": "3.6.5"
  },
  "latex_envs": {
   "LaTeX_envs_menu_present": true,
   "autoclose": false,
   "autocomplete": true,
   "bibliofile": "biblio.bib",
   "cite_by": "apalike",
   "current_citInitial": 1,
   "eqLabelWithNumbers": true,
   "eqNumInitial": 1,
   "hotkeys": {
    "equation": "Ctrl-E",
    "itemize": "Ctrl-I"
   },
   "labels_anchors": false,
   "latex_user_defs": false,
   "report_style_numbering": false,
   "user_envs_cfg": false
  },
  "nbTranslate": {
   "displayLangs": [
    "*"
   ],
   "hotkey": "alt-t",
   "langInMainMenu": true,
   "sourceLang": "en",
   "targetLang": "fr",
   "useGoogleTranslate": true
  },
  "toc": {
   "base_numbering": 1,
   "nav_menu": {},
   "number_sections": true,
   "sideBar": true,
   "skip_h1_title": false,
   "title_cell": "Table of Contents",
   "title_sidebar": "Contents",
   "toc_cell": false,
   "toc_position": {},
   "toc_section_display": true,
   "toc_window_display": false
  },
  "varInspector": {
   "cols": {
    "lenName": 16,
    "lenType": 16,
    "lenVar": 40
   },
   "kernels_config": {
    "python": {
     "delete_cmd_postfix": "",
     "delete_cmd_prefix": "del ",
     "library": "var_list.py",
     "varRefreshCmd": "print(var_dic_list())"
    },
    "r": {
     "delete_cmd_postfix": ") ",
     "delete_cmd_prefix": "rm(",
     "library": "var_list.r",
     "varRefreshCmd": "cat(var_dic_list()) "
    }
   },
   "types_to_exclude": [
    "module",
    "function",
    "builtin_function_or_method",
    "instance",
    "_Feature"
   ],
   "window_display": false
  }
 },
 "nbformat": 4,
 "nbformat_minor": 2
}
