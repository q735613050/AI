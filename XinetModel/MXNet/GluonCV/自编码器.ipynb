{
 "cells": [
  {
   "cell_type": "code",
   "execution_count": 4,
   "metadata": {
    "ExecuteTime": {
     "end_time": "2018-10-03T12:08:33.624374Z",
     "start_time": "2018-10-03T12:08:32.923526Z"
    }
   },
   "outputs": [],
   "source": [
    "import sys\n",
    "sys.path.append('E:/zlab/')\n",
    "from loader import Loader, SemiXModel, XModel\n",
    "# ------------------------------------\n",
    "import time\n",
    "import numpy as np\n",
    "from sklearn.model_selection import train_test_split\n",
    "\n",
    "import tables as tb\n",
    "import mxnet as mx\n",
    "from mxnet import nd, autograd, gluon\n",
    "import gluonbook as gb\n",
    "from mxnet import gluon, init, nd\n",
    "from mxnet.gluon import data as gdata, loss as gloss, model_zoo\n",
    "\n",
    "h5 = tb.open_file('E:/xdata/X.h5')\n",
    "\n",
    "data = h5.root.cifar10\n",
    "\n",
    "X = data.trainX[:]\n",
    "y = data.trainY[:]\n",
    "X_train, X_unlabel, y_train, y__unlabel = train_test_split(\n",
    "    X, y, test_size=0.98, random_state=42)\n",
    "\n",
    "batch_size = 32\n",
    "trainset = Loader(X_train, y_train, batch_size, shuffle=True)\n",
    "testset = Loader(data.testX, data.testY, batch_size, shuffle=False)\n",
    "unlabelset = Loader(X_unlabel, y__unlabel, 128, shuffle=True)\n",
    "\n",
    "# ------------\n",
    "pretrained_net = model_zoo.vision.resnet50_v2(pretrained=True)\n",
    "finetune_net = model_zoo.vision.resnet50_v2(classes=10)\n",
    "finetune_net.features = pretrained_net.features\n",
    "finetune_net.output.initialize(init.Xavier())"
   ]
  },
  {
   "cell_type": "code",
   "execution_count": 3,
   "metadata": {
    "ExecuteTime": {
     "end_time": "2018-10-03T12:08:05.393531Z",
     "start_time": "2018-10-03T12:08:00.559604Z"
    },
    "scrolled": true
   },
   "outputs": [],
   "source": [
    "learning_rate = 0.05\n",
    "epochs = 100\n",
    "\n",
    "SM = SemiXModel(trainset, testset, unlabelset, finetune_net)\n",
    "\n",
    "#net = SM.train(learning_rate, batch_size, epochs)"
   ]
  },
  {
   "cell_type": "code",
   "execution_count": 5,
   "metadata": {
    "ExecuteTime": {
     "end_time": "2018-10-03T12:08:49.214124Z",
     "start_time": "2018-10-03T12:08:48.864881Z"
    }
   },
   "outputs": [],
   "source": [
    "XM = XModel(trainset, testset, finetune_net)"
   ]
  },
  {
   "cell_type": "code",
   "execution_count": 11,
   "metadata": {
    "ExecuteTime": {
     "end_time": "2018-10-03T12:10:31.679299Z",
     "start_time": "2018-10-03T12:10:31.645043Z"
    }
   },
   "outputs": [],
   "source": [
    "for features, labels in iter(XM.testset):\n",
    "    ys = nd.array(labels)\n",
    "    Xs = nd.stack(*[XM.aug.test(nd.array(x)) for x in features])\n",
    "    Xs = Xs.as_in_context(XM.ctx)\n",
    "    y_hats = XM.net(Xs)\n",
    "    \n",
    "    Y_ = nd.concat(*[y_hats])\n",
    "    break"
   ]
  },
  {
   "cell_type": "code",
   "execution_count": 12,
   "metadata": {
    "ExecuteTime": {
     "end_time": "2018-10-03T12:10:40.011855Z",
     "start_time": "2018-10-03T12:10:40.003919Z"
    },
    "scrolled": true
   },
   "outputs": [
    {
     "data": {
      "text/plain": [
       "\n",
       "[[-2.49721527e-01  1.52786934e+00 -3.43045443e-01 -5.10813355e-01\n",
       "   7.40163267e-01  3.63533288e-01  8.51983190e-01 -1.59381032e+00\n",
       "   1.67389452e+00 -2.84208745e-01]\n",
       " [-9.50222313e-02  2.61418581e+00 -1.14246893e+00 -2.93449372e-01\n",
       "   1.07296491e+00  5.21471560e-01  9.71140563e-01 -1.02084458e-01\n",
       "   4.91728902e-01 -6.24709666e-01]\n",
       " [-9.74178612e-01  2.09942675e+00 -3.18102151e-01 -6.88672125e-01\n",
       "   6.63622737e-01  6.29193068e-01  1.49738669e+00  5.21191001e-01\n",
       "   1.71566463e+00 -4.54443097e-01]\n",
       " [-1.23794365e+00  2.10908914e+00 -1.99633884e+00 -2.93017316e+00\n",
       "   1.74743736e+00  2.17181206e-01  2.10669208e+00 -1.76511943e-01\n",
       "   6.84043646e-01 -1.88615739e+00]\n",
       " [ 3.01124036e-01  2.89109468e+00 -2.27055001e+00 -1.96049571e+00\n",
       "  -6.17368817e-02  1.84199065e-01  8.59018564e-01 -1.21635079e+00\n",
       "   4.29620624e-01  4.78704512e-01]\n",
       " [ 7.66122937e-01  7.71434128e-01  1.10347599e-01 -1.24498200e+00\n",
       "  -1.00844061e+00  8.97678077e-01  1.92166162e+00 -2.73866057e-01\n",
       "   1.44086552e+00  1.38869494e-01]\n",
       " [-2.47666478e-01  1.35316920e+00 -1.97276092e+00 -1.93646359e+00\n",
       "   3.10410023e-01  7.93850720e-01  2.73343945e+00 -1.41473389e+00\n",
       "   1.10239112e+00 -5.70315003e-01]\n",
       " [ 9.81308818e-01  1.23825693e+00 -4.73903418e-01 -8.90421689e-01\n",
       "   2.43821740e-03  2.31454521e-01  1.62656081e+00  2.15077609e-01\n",
       "   8.63964438e-01 -7.04006314e-01]\n",
       " [ 8.62977743e-01 -5.56873977e-01 -1.59032345e-02 -1.20506310e+00\n",
       "   2.99376160e-01 -2.50938088e-01  1.49573600e+00 -6.90291524e-01\n",
       "   3.82370412e-01 -8.14613938e-01]\n",
       " [ 1.10678363e+00  1.24894035e+00 -9.35674489e-01 -1.57142293e+00\n",
       "   4.45652783e-01  9.01749730e-01  1.44898665e+00 -1.39893365e+00\n",
       "   5.99513054e-01  3.14468622e-01]\n",
       " [ 1.00645304e-01  2.07271361e+00 -1.62294340e+00 -2.37205124e+00\n",
       "   6.76246703e-01 -1.14113629e-01  2.04970717e+00 -9.88054276e-02\n",
       "   6.52250648e-01  1.45448595e-01]\n",
       " [-4.08499956e-01  1.57548332e+00 -5.66729248e-01 -4.08942699e-01\n",
       "   1.46035266e+00  6.77046001e-01  9.14312482e-01  9.23465192e-02\n",
       "   1.61641932e+00 -7.76297569e-01]\n",
       " [-8.06761146e-01  2.01911449e+00 -9.98756215e-02 -1.17888188e+00\n",
       "   5.08284628e-01 -1.36423111e-01  3.10769558e-01 -4.85300183e-01\n",
       "   1.01120889e+00 -1.23220265e-01]\n",
       " [-7.74155557e-01  2.39126730e+00 -2.41834354e+00 -2.25510168e+00\n",
       "   4.74833250e-01  3.95260572e-01  1.54777992e+00 -1.62133539e+00\n",
       "   1.53797936e+00  8.98097754e-02]\n",
       " [-3.90193582e-01  1.17427790e+00 -1.39111698e+00 -1.67185378e+00\n",
       "   9.95958328e-01  1.41811997e-01  1.20735967e+00 -1.10855627e+00\n",
       "   1.33538103e+00 -7.42709756e-01]\n",
       " [ 7.37697184e-02  1.36424124e+00 -1.59245205e+00 -8.29907596e-01\n",
       "   2.62479067e-01  4.93979037e-01  1.46908808e+00 -1.24636066e+00\n",
       "   4.02257621e-01 -3.94223362e-01]\n",
       " [ 1.66870010e+00  2.84879804e+00 -1.82091677e+00 -3.21215057e+00\n",
       "   8.81899178e-01  1.19397783e+00  8.27529788e-01 -2.59668303e+00\n",
       "   5.31096816e-01  6.75934672e-01]\n",
       " [-5.31314611e-02  1.13299155e+00 -6.07834280e-01 -4.56684858e-01\n",
       "   1.75748575e+00  1.26215243e+00 -1.47896618e-01 -1.37886310e+00\n",
       "   9.80746210e-01 -9.80352521e-01]\n",
       " [-2.27343589e-01  1.88196802e+00 -1.60141897e+00 -1.68076301e+00\n",
       "   1.53899670e-01  1.71685743e+00  8.30338359e-01 -4.21468228e-01\n",
       "   2.62710500e+00 -5.48274338e-01]\n",
       " [-4.45773959e-01  3.14740801e+00 -2.29183722e+00 -1.33969235e+00\n",
       "   7.64692307e-01 -1.87447071e-02  5.74927151e-01 -1.43153358e+00\n",
       "   1.20133162e+00 -8.64358068e-01]\n",
       " [-6.83848977e-01  1.99185848e+00 -4.85796839e-01 -2.09961867e+00\n",
       "   1.27188575e+00  4.71910834e-01  1.10213375e+00 -7.89330006e-01\n",
       "   2.05395603e+00 -3.13898534e-01]\n",
       " [ 3.03138447e+00  1.92123151e+00 -1.70919085e+00 -1.93238091e+00\n",
       "  -8.77713263e-02 -8.49593937e-01  2.95569944e+00 -1.01248014e+00\n",
       "  -1.09043980e+00 -2.37994999e-01]\n",
       " [-1.18137479e-01  6.94613516e-01 -1.15276921e+00 -1.90090168e+00\n",
       "   1.50773680e+00  8.18556428e-01  1.45290840e+00 -1.01986468e-01\n",
       "   1.04373670e+00 -5.56895554e-01]\n",
       " [-4.42751348e-01  7.34743893e-01  4.01485622e-01 -3.58279377e-01\n",
       "   7.72260070e-01 -4.70436513e-01  1.10739255e+00  1.15649879e-01\n",
       "   3.57335746e-01 -4.57001776e-02]\n",
       " [-5.60334444e-01  2.48130172e-01  1.55393958e-01 -5.46225429e-01\n",
       "   3.66094798e-01  3.96464884e-01  1.14245546e+00 -1.11242652e+00\n",
       "   5.47852159e-01 -3.30435991e-01]\n",
       " [ 1.67423201e+00  6.50286853e-01 -2.74086118e+00 -1.06149721e+00\n",
       "  -1.44774175e+00  5.38255632e-01  2.69699764e+00 -2.87734568e-01\n",
       "   9.86962676e-01 -1.02234721e-01]\n",
       " [-5.85603893e-01  2.02931356e+00 -1.92743015e+00 -2.97104597e+00\n",
       "   2.29189634e-01 -1.30373120e-01  1.97486925e+00 -8.89293075e-01\n",
       "   1.61756587e+00 -9.38096523e-01]\n",
       " [-5.79702020e-01  2.39566588e+00 -3.33010793e+00 -1.31255913e+00\n",
       "   4.74324465e-01  1.30995572e+00  1.77785766e+00 -1.90327883e+00\n",
       "   9.67613459e-01  9.52078998e-02]\n",
       " [-3.06003839e-01  2.14333487e+00 -1.13342428e+00 -2.00820231e+00\n",
       "   5.11225462e-01  1.33096325e+00  9.43900168e-01 -1.20456743e+00\n",
       "   9.35290694e-01 -3.42683136e-01]\n",
       " [ 8.85375679e-01  2.14298010e+00 -2.02192092e+00 -7.05547214e-01\n",
       "   9.24838185e-01  5.35303354e-01  1.48237324e+00 -1.33281493e+00\n",
       "  -8.61876011e-02 -2.20173165e-01]\n",
       " [-4.24782038e-01  2.52901506e+00 -1.04422355e+00 -1.02773273e+00\n",
       "   3.16637993e-01  1.02608085e+00  1.06756020e+00 -1.90592647e+00\n",
       "  -5.13853431e-01 -4.21051145e-01]\n",
       " [ 7.43404865e-01  5.26012540e-01  5.32362461e-02 -4.73691911e-01\n",
       "   1.14290464e+00 -4.59926069e-01  1.41301203e+00  4.88735795e-01\n",
       "  -9.96839821e-01 -8.47634077e-01]]\n",
       "<NDArray 32x10 @gpu(0)>"
      ]
     },
     "execution_count": 12,
     "metadata": {},
     "output_type": "execute_result"
    }
   ],
   "source": [
    "y_hats"
   ]
  },
  {
   "cell_type": "code",
   "execution_count": null,
   "metadata": {},
   "outputs": [],
   "source": []
  }
 ],
 "metadata": {
  "kernelspec": {
   "display_name": "Python [conda env:Anaconda3]",
   "language": "python",
   "name": "conda-env-Anaconda3-py"
  },
  "language_info": {
   "codemirror_mode": {
    "name": "ipython",
    "version": 3
   },
   "file_extension": ".py",
   "mimetype": "text/x-python",
   "name": "python",
   "nbconvert_exporter": "python",
   "pygments_lexer": "ipython3",
   "version": "3.6.5"
  },
  "latex_envs": {
   "LaTeX_envs_menu_present": true,
   "autoclose": false,
   "autocomplete": true,
   "bibliofile": "biblio.bib",
   "cite_by": "apalike",
   "current_citInitial": 1,
   "eqLabelWithNumbers": true,
   "eqNumInitial": 1,
   "hotkeys": {
    "equation": "Ctrl-E",
    "itemize": "Ctrl-I"
   },
   "labels_anchors": false,
   "latex_user_defs": false,
   "report_style_numbering": false,
   "user_envs_cfg": false
  },
  "nbTranslate": {
   "displayLangs": [
    "*"
   ],
   "hotkey": "alt-t",
   "langInMainMenu": true,
   "sourceLang": "en",
   "targetLang": "fr",
   "useGoogleTranslate": true
  },
  "toc": {
   "base_numbering": 1,
   "nav_menu": {},
   "number_sections": true,
   "sideBar": true,
   "skip_h1_title": false,
   "title_cell": "Table of Contents",
   "title_sidebar": "Contents",
   "toc_cell": false,
   "toc_position": {},
   "toc_section_display": true,
   "toc_window_display": false
  },
  "varInspector": {
   "cols": {
    "lenName": 16,
    "lenType": 16,
    "lenVar": 40
   },
   "kernels_config": {
    "python": {
     "delete_cmd_postfix": "",
     "delete_cmd_prefix": "del ",
     "library": "var_list.py",
     "varRefreshCmd": "print(var_dic_list())"
    },
    "r": {
     "delete_cmd_postfix": ") ",
     "delete_cmd_prefix": "rm(",
     "library": "var_list.r",
     "varRefreshCmd": "cat(var_dic_list()) "
    }
   },
   "types_to_exclude": [
    "module",
    "function",
    "builtin_function_or_method",
    "instance",
    "_Feature"
   ],
   "window_display": false
  }
 },
 "nbformat": 4,
 "nbformat_minor": 2
}
