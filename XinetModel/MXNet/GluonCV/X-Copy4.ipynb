{
 "cells": [
  {
   "cell_type": "code",
   "execution_count": 1,
   "metadata": {
    "ExecuteTime": {
     "end_time": "2018-10-10T05:10:04.974986Z",
     "start_time": "2018-10-10T05:09:44.820738Z"
    }
   },
   "outputs": [
    {
     "name": "stderr",
     "output_type": "stream",
     "text": [
      "C:\\ProgramData\\Anaconda3\\lib\\site-packages\\h5py\\__init__.py:36: FutureWarning: Conversion of the second argument of issubdtype from `float` to `np.floating` is deprecated. In future, it will be treated as `np.float64 == np.dtype(float).type`.\n",
      "  from ._conv import register_converters as _register_converters\n"
     ]
    }
   ],
   "source": [
    "import sys\n",
    "sys.path.append('E:/zlab')\n",
    "from loader import Loader\n",
    "from xtrain import XModel"
   ]
  },
  {
   "cell_type": "markdown",
   "metadata": {},
   "source": [
    "# 载入数据"
   ]
  },
  {
   "cell_type": "code",
   "execution_count": 2,
   "metadata": {
    "ExecuteTime": {
     "end_time": "2018-10-10T05:10:05.513597Z",
     "start_time": "2018-10-10T05:10:05.032821Z"
    }
   },
   "outputs": [],
   "source": [
    "import tables as tb\n",
    "import numpy as np\n",
    "\n",
    "h5 = tb.open_file('E:/xdata/X.h5')\n",
    "#h5 = tb.open_file('./X.h5')\n",
    "\n",
    "data = h5.root.cifar10"
   ]
  },
  {
   "cell_type": "markdown",
   "metadata": {},
   "source": [
    "## 划分数据集"
   ]
  },
  {
   "cell_type": "code",
   "execution_count": 3,
   "metadata": {
    "ExecuteTime": {
     "end_time": "2018-10-10T05:10:07.951227Z",
     "start_time": "2018-10-10T05:10:05.638176Z"
    },
    "scrolled": true
   },
   "outputs": [],
   "source": [
    "from sklearn.model_selection import train_test_split\n",
    "\n",
    "X = data.trainX[:]\n",
    "y = data.trainY[:]\n",
    "X_train, X_unlabel, y_train, y_unlabel = train_test_split(\n",
    "    X, y, test_size=0.98, random_state=42)\n",
    "\n",
    "batch_size = 32\n",
    "trainset = Loader(batch_size, X_train, y_train, shuffle=True, name='train')\n",
    "testset = Loader(\n",
    "    batch_size, data.testX, data.testY, shuffle=False, name='test')\n",
    "unlabelset = Loader(\n",
    "    batch_size,\n",
    "    X_unlabel[:10000],\n",
    "    y_unlabel[:10000],\n",
    "    shuffle=False,\n",
    "    name='agent')"
   ]
  },
  {
   "cell_type": "markdown",
   "metadata": {},
   "source": [
    "# 模型的配置"
   ]
  },
  {
   "cell_type": "code",
   "execution_count": 4,
   "metadata": {
    "ExecuteTime": {
     "end_time": "2018-10-10T05:10:14.989015Z",
     "start_time": "2018-10-10T05:10:08.122776Z"
    }
   },
   "outputs": [
    {
     "name": "stdout",
     "output_type": "stream",
     "text": [
      "training on gpu(0)\n"
     ]
    }
   ],
   "source": [
    "from mxnet.gluon import nn, model_zoo\n",
    "from mxnet import nd, init\n",
    "\n",
    "\n",
    "class SemiModel(nn.HybridBlock):\n",
    "    def __init__(self, features, **kwargs):\n",
    "        super().__init__(**kwargs)\n",
    "        self.features = features\n",
    "        #self.features1 = nn.HybridSequential()\n",
    "        #self.features.add(nn.Dense(1024), nn.Activation('relu'))\n",
    "        self.output = nn.Dense(10)\n",
    "\n",
    "    def hybrid_forward(self, F, x):\n",
    "        x = self.features(x)\n",
    "        #x= self.features1(x)\n",
    "        return self.output(x)\n",
    "\n",
    "\n",
    "pretrain_net = model_zoo.vision.resnet50_v2(pretrained=False)\n",
    "net = SemiModel(pretrain_net.features)\n",
    "net.hybridize()\n",
    "\n",
    "# 网络预设\n",
    "_net = model_zoo.vision.resnet50_v2(pretrained=True)\n",
    "net.features = _net.features\n",
    "net.output.initialize(init.Xavier(magnitude=0.24))\n",
    "\n",
    "# 超参数设定\n",
    "epochs = 500\n",
    "learning_rate = 0.1\n",
    "model = XModel(learning_rate)\n",
    "ctx = model.ctx\n",
    "print('training on', ctx)\n",
    "net.collect_params().reset_ctx(ctx)"
   ]
  },
  {
   "cell_type": "code",
   "execution_count": 30,
   "metadata": {
    "ExecuteTime": {
     "end_time": "2018-10-10T05:47:37.837805Z",
     "start_time": "2018-10-10T05:47:37.449571Z"
    }
   },
   "outputs": [],
   "source": [
    "y\n",
    "        self.features_u = self.unlabel.X.reshape((-1, 32 * 32 * 3)) / 255\n",
    "        self.features_l = self.train.X.reshape((-1, 32 * 32 * 3)) / 255\n",
    "        self.y_agent = -np.ones_like(self.unlabel.Y)\n",
    "        self.X_ = np.concatenate([self.features_l, self.features_u])\n",
    "        self.y_ = np.concatenate([self.train.Y, self.y_agent])\n",
    "\n",
    "    def get_features(self, ctx, net, data_iter):\n",
    "        for x in data_iter:\n",
    "            x = nd.array(x, ctx=ctx).transpose((0, 3, 1, 2))\n",
    "            features = net.features(x)\n",
    "            yield features\n",
    "\n",
    "bunch = Bunch(trainset, unlabelset, batch_size=32)"
   ]
  },
  {
   "cell_type": "code",
   "execution_count": null,
   "metadata": {},
   "outputs": [],
   "source": []
  },
  {
   "cell_type": "code",
   "execution_count": null,
   "metadata": {
    "ExecuteTime": {
     "start_time": "2018-10-10T05:58:51.383Z"
    }
   },
   "outputs": [],
   "source": [
    "from sklearn.semi_supervised import LabelPropagation\n",
    "from sklearn.metrics import classification_report, accuracy_score\n",
    "\n",
    "lbp = LabelPropagation(kernel='knn', n_jobs=-1, max_iter=100)\n",
    "lbp.fit(bunch.X_, bunch.y_) "
   ]
  },
  {
   "cell_type": "code",
   "execution_count": 35,
   "metadata": {
    "ExecuteTime": {
     "end_time": "2018-10-10T05:58:32.177977Z",
     "start_time": "2018-10-10T05:58:32.163012Z"
    }
   },
   "outputs": [
    {
     "ename": "NameError",
     "evalue": "name 'accuracy_score' is not defined",
     "output_type": "error",
     "traceback": [
      "\u001b[1;31m---------------------------------------------------------------------------\u001b[0m",
      "\u001b[1;31mNameError\u001b[0m                                 Traceback (most recent call last)",
      "\u001b[1;32m<ipython-input-35-c05a0e6e4341>\u001b[0m in \u001b[0;36m<module>\u001b[1;34m()\u001b[0m\n\u001b[0;32m      1\u001b[0m \u001b[0my_hats\u001b[0m \u001b[1;33m=\u001b[0m \u001b[0mlbp\u001b[0m\u001b[1;33m.\u001b[0m\u001b[0mtransduction_\u001b[0m\u001b[1;33m[\u001b[0m\u001b[0mbunch\u001b[0m\u001b[1;33m.\u001b[0m\u001b[0mtrain\u001b[0m\u001b[1;33m.\u001b[0m\u001b[0mY\u001b[0m\u001b[1;33m.\u001b[0m\u001b[0mshape\u001b[0m\u001b[1;33m[\u001b[0m\u001b[1;36m0\u001b[0m\u001b[1;33m]\u001b[0m\u001b[1;33m:\u001b[0m\u001b[1;33m]\u001b[0m\u001b[1;33m\u001b[0m\u001b[0m\n\u001b[1;32m----> 2\u001b[1;33m \u001b[0magency_acc\u001b[0m \u001b[1;33m=\u001b[0m \u001b[0maccuracy_score\u001b[0m\u001b[1;33m(\u001b[0m\u001b[0mbunch\u001b[0m\u001b[1;33m.\u001b[0m\u001b[0munlabel\u001b[0m\u001b[1;33m.\u001b[0m\u001b[0mY\u001b[0m\u001b[1;33m,\u001b[0m \u001b[0my_hats\u001b[0m\u001b[1;33m)\u001b[0m\u001b[1;33m\u001b[0m\u001b[0m\n\u001b[0m",
      "\u001b[1;31mNameError\u001b[0m: name 'accuracy_score' is not defined"
     ]
    }
   ],
   "source": [
    "y_hats = lbp.transduction_[bunch.train.Y.shape[0]:]\n",
    "agency_acc = accuracy_score(bunch.unlabel.Y, y_hats)"
   ]
  },
  {
   "cell_type": "code",
   "execution_count": null,
   "metadata": {},
   "outputs": [],
   "source": [
    "def ssl(self):\n",
    "        '''\n",
    "        标签传播\n",
    "        '''\n",
    "        \n",
    "        self._lbp.fit(X, y_)  # 必须将 X 缩放到 [0,1]\n",
    "        self.y_hats = self._lbp.transduction_[self.train.Y.shape[0]:]\n",
    "        self.agency_acc = accuracy_score(self.unlabel.Y, self.y_hats)\n",
    "        print('微调前的预测精度: ', self.agency_acc)\n",
    "        if np.unique(self.y_hats).size == 10:\n",
    "            print('==' * 27)\n",
    "            print('分类指标：')\n",
    "            print(classification_report(self.unlabel.Y, self.y_hats))\n",
    "            print('==' * 27)\n",
    "            \n",
    "            \n",
    "def agent(self, net):\n",
    "        '''\n",
    "        net:: 神经网络\n",
    "        inference::输出 net 的 features\n",
    "        '''\n",
    "        # 提取有标签数据的特征\n",
    "        self.features_l = np.concatenate([\n",
    "            f.asnumpy() for f in self.get_features(net, self.X_l)\n",
    "        ])\n",
    "        # 提取无标签数据的特征\n",
    "        self.features_u = np.concatenate([\n",
    "            f.asnumpy() for f in self.get_features(net, self.X_u)\n",
    "        ])\n",
    "        self.ssl()\n",
    "        print('微调后的预测精度: ', self.agency_acc)"
   ]
  },
  {
   "cell_type": "code",
   "execution_count": null,
   "metadata": {},
   "outputs": [],
   "source": []
  }
 ],
 "metadata": {
  "kernelspec": {
   "display_name": "Python [default]",
   "language": "python",
   "name": "python3"
  },
  "language_info": {
   "codemirror_mode": {
    "name": "ipython",
    "version": 3
   },
   "file_extension": ".py",
   "mimetype": "text/x-python",
   "name": "python",
   "nbconvert_exporter": "python",
   "pygments_lexer": "ipython3",
   "version": "3.6.5"
  },
  "latex_envs": {
   "LaTeX_envs_menu_present": true,
   "autoclose": false,
   "autocomplete": true,
   "bibliofile": "biblio.bib",
   "cite_by": "apalike",
   "current_citInitial": 1,
   "eqLabelWithNumbers": true,
   "eqNumInitial": 1,
   "hotkeys": {
    "equation": "Ctrl-E",
    "itemize": "Ctrl-I"
   },
   "labels_anchors": false,
   "latex_user_defs": false,
   "report_style_numbering": false,
   "user_envs_cfg": false
  },
  "nbTranslate": {
   "displayLangs": [
    "*"
   ],
   "hotkey": "alt-t",
   "langInMainMenu": true,
   "sourceLang": "en",
   "targetLang": "fr",
   "useGoogleTranslate": true
  },
  "toc": {
   "base_numbering": 1,
   "nav_menu": {},
   "number_sections": true,
   "sideBar": true,
   "skip_h1_title": false,
   "title_cell": "Table of Contents",
   "title_sidebar": "Contents",
   "toc_cell": false,
   "toc_position": {},
   "toc_section_display": true,
   "toc_window_display": false
  },
  "varInspector": {
   "cols": {
    "lenName": 16,
    "lenType": 16,
    "lenVar": 40
   },
   "kernels_config": {
    "python": {
     "delete_cmd_postfix": "",
     "delete_cmd_prefix": "del ",
     "library": "var_list.py",
     "varRefreshCmd": "print(var_dic_list())"
    },
    "r": {
     "delete_cmd_postfix": ") ",
     "delete_cmd_prefix": "rm(",
     "library": "var_list.r",
     "varRefreshCmd": "cat(var_dic_list()) "
    }
   },
   "types_to_exclude": [
    "module",
    "function",
    "builtin_function_or_method",
    "instance",
    "_Feature"
   ],
   "window_display": false
  }
 },
 "nbformat": 4,
 "nbformat_minor": 2
}
