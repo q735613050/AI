{
 "cells": [
  {
   "cell_type": "code",
   "execution_count": 1,
   "metadata": {
    "ExecuteTime": {
     "end_time": "2018-05-07T07:54:02.616215Z",
     "start_time": "2018-05-07T07:53:29.078901Z"
    }
   },
   "outputs": [],
   "source": [
    "from gluoncv.model_zoo import get_model\n",
    "import mxnet as mx\n",
    "\n",
    "from mxboard import SummaryWriter\n",
    "from mxnet import gluon, nd, image\n",
    "from mxnet.gluon.data.vision import transforms\n",
    "from mxnet import autograd as ag\n",
    "from mxnet.gluon import nn"
   ]
  },
  {
   "cell_type": "code",
   "execution_count": 2,
   "metadata": {
    "ExecuteTime": {
     "end_time": "2018-05-07T07:54:15.824343Z",
     "start_time": "2018-05-07T07:54:15.805791Z"
    }
   },
   "outputs": [],
   "source": [
    "def vgg_block(num_convs, channels):\n",
    "    out = nn.HybridSequential()\n",
    "    for _ in range(num_convs):\n",
    "        out.add(\n",
    "            nn.Conv2D(channels=channels, kernel_size=3, padding=1),\n",
    "            nn.BatchNorm(axis=1),\n",
    "            nn.Activation(activation='relu'),\n",
    "\n",
    "            nn.Conv2D(channels=channels, kernel_size=1, padding=0),\n",
    "            nn.BatchNorm(axis=1),\n",
    "            nn.Activation(activation='relu'),\n",
    "        )\n",
    "    out.add(nn.MaxPool2D(pool_size=2, strides=2))\n",
    "    return out\n",
    "\n",
    "\n",
    "def vgg_stack(architecture):\n",
    "    out = nn.HybridSequential()\n",
    "    for (num_convs, channels) in architecture:\n",
    "        out.add(vgg_block(num_convs, channels))\n",
    "    return out\n",
    "\n",
    "\n",
    "n_classes = 10\n",
    "architecture = ((2, 64), (2, 256), (2, 512))\n",
    "\n",
    "class Xt(nn.HybridBlock):\n",
    "    def __init__(self, **kwargs):\n",
    "        super().__init__(**kwargs)\n",
    "        widenet = get_model('cifar_wideresnet40_8', classes = 10, pretrained = True, ctx = d.ctx)\n",
    "        self.cifar_wideresnet = widenet.features[:8]\n",
    "        self.cifar_wideresnet.add(nn.AvgPool2D(pool_size=(2, 2), strides=2, padding=0))\n",
    "        \n",
    "        self.vgg = vgg_stack(architecture)\n",
    "        self.net = nn.HybridSequential()\n",
    "        self.net.add(\n",
    "            nn.Conv2D(channels=128, kernel_size=1, padding=0),\n",
    "            nn.BatchNorm(axis=1),\n",
    "            nn.Activation(activation='relu'),\n",
    "\n",
    "            nn.Conv2D(channels=n_classes, kernel_size=1, padding=0),\n",
    "            nn.GlobalAvgPool2D(),\n",
    "            nn.Flatten()\n",
    "        )\n",
    "    def hybrid_forward(self, F, x):\n",
    "        out1 = self.net(self.cifar_wideresnet(x)) \n",
    "        out2 = self.net(self.vgg(x))\n",
    "        out = out1 + out2\n",
    "        return out"
   ]
  },
  {
   "cell_type": "code",
   "execution_count": null,
   "metadata": {},
   "outputs": [],
   "source": []
  }
 ],
 "metadata": {
  "kernelspec": {
   "display_name": "Python 3",
   "language": "python",
   "name": "python3"
  },
  "language_info": {
   "codemirror_mode": {
    "name": "ipython",
    "version": 3
   },
   "file_extension": ".py",
   "mimetype": "text/x-python",
   "name": "python",
   "nbconvert_exporter": "python",
   "pygments_lexer": "ipython3",
   "version": "3.6.4"
  },
  "latex_envs": {
   "LaTeX_envs_menu_present": true,
   "autoclose": false,
   "autocomplete": true,
   "bibliofile": "biblio.bib",
   "cite_by": "apalike",
   "current_citInitial": 1,
   "eqLabelWithNumbers": true,
   "eqNumInitial": 1,
   "hotkeys": {
    "equation": "Ctrl-E",
    "itemize": "Ctrl-I"
   },
   "labels_anchors": false,
   "latex_user_defs": false,
   "report_style_numbering": false,
   "user_envs_cfg": false
  },
  "nbTranslate": {
   "displayLangs": [
    "*"
   ],
   "hotkey": "alt-t",
   "langInMainMenu": true,
   "sourceLang": "en",
   "targetLang": "fr",
   "useGoogleTranslate": true
  },
  "toc": {
   "nav_menu": {},
   "number_sections": true,
   "sideBar": true,
   "skip_h1_title": false,
   "title_cell": "Table of Contents",
   "title_sidebar": "Contents",
   "toc_cell": false,
   "toc_position": {},
   "toc_section_display": true,
   "toc_window_display": false
  },
  "varInspector": {
   "cols": {
    "lenName": 16,
    "lenType": 16,
    "lenVar": 40
   },
   "kernels_config": {
    "python": {
     "delete_cmd_postfix": "",
     "delete_cmd_prefix": "del ",
     "library": "var_list.py",
     "varRefreshCmd": "print(var_dic_list())"
    },
    "r": {
     "delete_cmd_postfix": ") ",
     "delete_cmd_prefix": "rm(",
     "library": "var_list.r",
     "varRefreshCmd": "cat(var_dic_list()) "
    }
   },
   "types_to_exclude": [
    "module",
    "function",
    "builtin_function_or_method",
    "instance",
    "_Feature"
   ],
   "window_display": false
  }
 },
 "nbformat": 4,
 "nbformat_minor": 2
}
