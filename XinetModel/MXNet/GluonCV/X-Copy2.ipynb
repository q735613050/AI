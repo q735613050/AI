{
 "cells": [
  {
   "cell_type": "code",
   "execution_count": 1,
   "metadata": {
    "ExecuteTime": {
     "end_time": "2018-10-10T03:47:44.252416Z",
     "start_time": "2018-10-10T03:47:19.613933Z"
    },
    "scrolled": true
   },
   "outputs": [
    {
     "name": "stderr",
     "output_type": "stream",
     "text": [
      "C:\\ProgramData\\Anaconda3\\lib\\site-packages\\h5py\\__init__.py:36: FutureWarning: Conversion of the second argument of issubdtype from `float` to `np.floating` is deprecated. In future, it will be treated as `np.float64 == np.dtype(float).type`.\n",
      "  from ._conv import register_converters as _register_converters\n"
     ]
    }
   ],
   "source": [
    "import sys\n",
    "sys.path.append('E:/zlab/')\n",
    "from loader import Loader\n",
    "# ----------------\n",
    "\n",
    "import time\n",
    "import numpy as np\n",
    "import pandas as pd\n",
    "from sklearn.model_selection import train_test_split\n",
    "\n",
    "import tables as tb\n",
    "import mxnet as mx\n",
    "from mxnet import nd, autograd, gluon\n",
    "import gluonbook as gb\n",
    "from mxnet import gluon, init, nd\n",
    "from mxnet.gluon import data as gdata, loss as gloss, model_zoo, nn\n",
    "from sklearn.semi_supervised.label_propagation import LabelSpreading\n",
    "from sklearn.preprocessing import MinMaxScaler\n",
    "from sklearn.metrics import classification_report, accuracy_score\n",
    "from mxboard import SummaryWriter"
   ]
  },
  {
   "cell_type": "markdown",
   "metadata": {},
   "source": [
    "# 载入数据"
   ]
  },
  {
   "cell_type": "code",
   "execution_count": 2,
   "metadata": {
    "ExecuteTime": {
     "end_time": "2018-10-10T03:47:44.391050Z",
     "start_time": "2018-10-10T03:47:44.276355Z"
    }
   },
   "outputs": [],
   "source": [
    "import tables as tb\n",
    "\n",
    "h5 = tb.open_file('E:/xdata/X.h5')\n",
    "#h5 = tb.open_file('./X.h5')\n",
    "\n",
    "data = h5.root.cifar10"
   ]
  },
  {
   "cell_type": "markdown",
   "metadata": {},
   "source": [
    "## 划分数据集"
   ]
  },
  {
   "cell_type": "code",
   "execution_count": 3,
   "metadata": {
    "ExecuteTime": {
     "end_time": "2018-10-10T03:47:46.734811Z",
     "start_time": "2018-10-10T03:47:44.466844Z"
    },
    "scrolled": true
   },
   "outputs": [],
   "source": [
    "from sklearn.model_selection import train_test_split\n",
    "\n",
    "X = data.trainX[:]\n",
    "y = data.trainY[:]\n",
    "X_train, X_unlabel, y_train, y_unlabel = train_test_split(\n",
    "    X, y, test_size=0.98, random_state=42)\n",
    "\n",
    "batch_size = 32\n",
    "trainset = Loader(batch_size, X_train, y_train, shuffle=True, name='train')\n",
    "testset = Loader(\n",
    "    batch_size, data.testX, data.testY, shuffle=False, name='test')\n",
    "unlabelset = Loader(\n",
    "    batch_size,\n",
    "    X_unlabel[:10000],\n",
    "    y_unlabel[:10000],\n",
    "    shuffle=False,\n",
    "    name='agent')"
   ]
  },
  {
   "cell_type": "code",
   "execution_count": null,
   "metadata": {
    "ExecuteTime": {
     "end_time": "2018-10-07T14:27:12.345185Z",
     "start_time": "2018-10-07T14:27:11.342863Z"
    },
    "scrolled": true
   },
   "outputs": [],
   "source": [
    "for imgs, labels in iter(trainset):\n",
    "    trainset.show_imgs(data.label_names, imgs.astype(np.uint8), labels)\n",
    "    break"
   ]
  },
  {
   "cell_type": "markdown",
   "metadata": {},
   "source": [
    "# 模型的配置"
   ]
  },
  {
   "cell_type": "code",
   "execution_count": 4,
   "metadata": {
    "ExecuteTime": {
     "end_time": "2018-10-10T03:47:47.323205Z",
     "start_time": "2018-10-10T03:47:46.807581Z"
    }
   },
   "outputs": [],
   "source": [
    "class SemiModel(nn.HybridBlock):\n",
    "    def __init__(self, features, **kwargs):\n",
    "        super().__init__(**kwargs)\n",
    "        self.features = features\n",
    "        self.output = nn.Dense(10)\n",
    "        \n",
    "    def hybrid_forward(self, F, x):\n",
    "        x = self.features(x)\n",
    "        return self.output(x)\n",
    "\n",
    "pretrain_net = model_zoo.vision.resnet50_v2(pretrained=False)\n",
    "net = SemiModel(pretrain_net.features)\n",
    "\n",
    "# 网络预设\n",
    "_net = model_zoo.vision.resnet50_v2(pretrained=True)\n",
    "net.features = _net.features\n",
    "#net.features.add(nn.Flatten())\n",
    "#net.features[-1].initialize(init.Xavier(magnitude=2.24))\n",
    "net.output.initialize(init.Xavier(magnitude=2.24))"
   ]
  },
  {
   "cell_type": "markdown",
   "metadata": {},
   "source": [
    "# 模型超参数设定"
   ]
  },
  {
   "cell_type": "code",
   "execution_count": 5,
   "metadata": {
    "ExecuteTime": {
     "end_time": "2018-10-10T03:48:50.166325Z",
     "start_time": "2018-10-10T03:48:35.107012Z"
    }
   },
   "outputs": [
    {
     "name": "stdout",
     "output_type": "stream",
     "text": [
      "training on gpu(0)\n"
     ]
    }
   ],
   "source": [
    "from ztrain import XModel\n",
    "\n",
    "# 超参数设定\n",
    "epochs = 500\n",
    "learning_rate = 0.1\n",
    "model = XModel(learning_rate)\n",
    "ctx = model.ctx\n",
    "print('training on', ctx)\n",
    "net.collect_params().reset_ctx(ctx)\n",
    "net.hybridize()"
   ]
  },
  {
   "cell_type": "markdown",
   "metadata": {},
   "source": [
    "# 数据打包"
   ]
  },
  {
   "cell_type": "code",
   "execution_count": 6,
   "metadata": {
    "ExecuteTime": {
     "end_time": "2018-10-10T03:49:06.673737Z",
     "start_time": "2018-10-10T03:48:50.364795Z"
    },
    "scrolled": true
   },
   "outputs": [
    {
     "name": "stderr",
     "output_type": "stream",
     "text": [
      "C:\\ProgramData\\Anaconda3\\lib\\site-packages\\sklearn\\utils\\validation.py:590: DataConversionWarning: Data with input dtype uint8 was converted to float64 by MinMaxScaler.\n",
      "  warnings.warn(msg, DataConversionWarning)\n"
     ]
    },
    {
     "name": "stdout",
     "output_type": "stream",
     "text": [
      "分类指标：\n",
      "              precision    recall  f1-score   support\n",
      "\n",
      "           0       0.32      0.48      0.38       973\n",
      "           1       0.50      0.15      0.23       979\n",
      "           2       0.29      0.09      0.14      1030\n",
      "           3       0.29      0.03      0.05      1023\n",
      "           4       0.20      0.44      0.27       933\n",
      "           5       0.36      0.21      0.26      1015\n",
      "           6       0.23      0.55      0.32       996\n",
      "           7       0.58      0.13      0.22       994\n",
      "           8       0.31      0.64      0.42      1017\n",
      "           9       0.52      0.23      0.32      1040\n",
      "\n",
      "   micro avg       0.29      0.29      0.29     10000\n",
      "   macro avg       0.36      0.30      0.26     10000\n",
      "weighted avg       0.36      0.29      0.26     10000\n",
      "\n"
     ]
    }
   ],
   "source": [
    "class DataLoader(dict):\n",
    "    def __init__(self, ctx, batch_size, trainset, unlabelset, *args, **kwargs):\n",
    "        '''\n",
    "        初始化数据迭代器和标签传播算法\n",
    "        '''\n",
    "        self.__dict__ = self\n",
    "        self.ctx = ctx\n",
    "        self.train = trainset\n",
    "        self.unlabel = unlabelset\n",
    "        self.X_l = Loader(\n",
    "            batch_size, self.train.X, shuffle=False, name='x_train')\n",
    "        self.X_u = Loader(\n",
    "            batch_size, self.unlabel.X, shuffle=False, name='x_test')\n",
    "        self.features_u = self.unlabel.X.reshape((-1, 32 * 32 * 3))\n",
    "        self.features_l = self.train.X.reshape((-1, 32 * 32 * 3))\n",
    "        _min_max_scaler = MinMaxScaler()\n",
    "        self.features_l = _min_max_scaler.fit_transform(self.features_l)\n",
    "        self.features_u = _min_max_scaler.transform(self.features_u)\n",
    "        self.y_agent = -np.ones_like(self.unlabel.Y)\n",
    "        self._lbp = LabelSpreading(gamma=0.025, n_jobs=-1, max_iter=100)\n",
    "        self.ssl()\n",
    "\n",
    "    def ssl(self):\n",
    "        '''\n",
    "        标签传播\n",
    "        '''\n",
    "        X = np.concatenate([self.features_l, self.features_u])\n",
    "        y_ = np.concatenate([trainset.Y, self.y_agent])\n",
    "        self._lbp.fit(X, y_)  # 必须将 X 缩放到 [0,1]\n",
    "        self.y_hats = self._lbp.transduction_[self.train.Y.shape[0]:]\n",
    "        print('分类指标：')\n",
    "        print(classification_report(self.unlabel.Y, self.y_hats))\n",
    "\n",
    "    def get_features(self, net, data_iter):\n",
    "        for x in data_iter:\n",
    "            x = nd.array(x, ctx=self.ctx).transpose((0, 3, 1, 2))\n",
    "            features = net.features(x)\n",
    "            yield features\n",
    "\n",
    "    def agent(self, net):\n",
    "        '''\n",
    "        net:: 神经网络\n",
    "        inference::输出 net 的 features\n",
    "        '''\n",
    "        # 提取有标签数据的特征\n",
    "        self.features_l = np.concatenate(\n",
    "            [f.asnumpy() for f in dataset.get_features(net, dataset.X_l)])\n",
    "        # 提取无标签数据的特征\n",
    "        self.features_u = np.concatenate(\n",
    "            [f.asnumpy() for f in dataset.get_features(net, dataset.X_u)])\n",
    "        self.ssl()\n",
    "        self.agency_acc = accuracy_score(dataset.unlabel.Y, self.y_hats)\n",
    "\n",
    "dataset = DataLoader(ctx, batch_size, trainset, unlabelset)"
   ]
  },
  {
   "cell_type": "code",
   "execution_count": 7,
   "metadata": {
    "ExecuteTime": {
     "end_time": "2018-10-10T03:50:02.880992Z",
     "start_time": "2018-10-10T03:49:11.808003Z"
    }
   },
   "outputs": [
    {
     "name": "stdout",
     "output_type": "stream",
     "text": [
      "分类指标：\n",
      "              precision    recall  f1-score   support\n",
      "\n",
      "           0       0.11      0.53      0.18       973\n",
      "           1       0.18      0.09      0.12       979\n",
      "           2       0.19      0.13      0.16      1030\n",
      "           3       0.14      0.07      0.09      1023\n",
      "           4       0.22      0.19      0.21       933\n",
      "           5       0.22      0.09      0.13      1015\n",
      "           6       0.26      0.19      0.22       996\n",
      "           7       0.20      0.14      0.16       994\n",
      "           8       0.35      0.23      0.28      1017\n",
      "           9       0.21      0.07      0.11      1040\n",
      "\n",
      "   micro avg       0.17      0.17      0.17     10000\n",
      "   macro avg       0.21      0.17      0.17     10000\n",
      "weighted avg       0.21      0.17      0.17     10000\n",
      "\n"
     ]
    },
    {
     "name": "stderr",
     "output_type": "stream",
     "text": [
      "C:\\ProgramData\\Anaconda3\\lib\\site-packages\\sklearn\\semi_supervised\\label_propagation.py:297: RuntimeWarning: invalid value encountered in true_divide\n",
      "  self.label_distributions_ /= normalizer\n"
     ]
    }
   ],
   "source": [
    "y_pre = dataset.y_hats  # 微调前的预测标签\n",
    "dataset.agent(net)"
   ]
  },
  {
   "cell_type": "code",
   "execution_count": null,
   "metadata": {},
   "outputs": [],
   "source": []
  },
  {
   "cell_type": "markdown",
   "metadata": {},
   "source": [
    "# 训练和调优"
   ]
  },
  {
   "cell_type": "code",
   "execution_count": null,
   "metadata": {
    "ExecuteTime": {
     "start_time": "2018-10-07T14:26:46.857Z"
    },
    "scrolled": true
   },
   "outputs": [],
   "source": [
    "logdir = 'D:/graph/'\n",
    "sw = SummaryWriter(logdir, flush_secs=5)  # 可视化\n",
    "y_pre = dataset.y_hats  # 微调前的预测标签\n",
    "dataset.agent(net)\n",
    "epoch = 1\n",
    "while epoch < 500:\n",
    "    print('微调有标签数据')\n",
    "    print('~_~' * 25)\n",
    "    sw.add_scalar('accuracy_curves',\n",
    "                  {unlabelset.name + '_SSL': dataset.agency_acc}, epoch)\n",
    "    net = model.train(net, dataset.train, testset, epochs=10, start=epoch)\n",
    "    dataset.agent(net)\n",
    "    print(unlabelset.name + '_SSL: ', dataset.agency_acc)\n",
    "    epoch += 10\n",
    "    X_u_set = Loader(\n",
    "            batch_size,\n",
    "            dataset.unlabel.X,\n",
    "            dataset.y_hats,\n",
    "            shuffle=True,\n",
    "            name='train_agent')\n",
    "    print('-_' * 50)\n",
    "    print('微调带有代理标签数据')\n",
    "    net = model.train(net, X_u_set, testset, epochs=1, start=epoch)\n",
    "    dataset.agent(net)\n",
    "    epoch += 1"
   ]
  }
 ],
 "metadata": {
  "kernelspec": {
   "display_name": "Python [default]",
   "language": "python",
   "name": "python3"
  },
  "language_info": {
   "codemirror_mode": {
    "name": "ipython",
    "version": 3
   },
   "file_extension": ".py",
   "mimetype": "text/x-python",
   "name": "python",
   "nbconvert_exporter": "python",
   "pygments_lexer": "ipython3",
   "version": "3.6.5"
  },
  "latex_envs": {
   "LaTeX_envs_menu_present": true,
   "autoclose": false,
   "autocomplete": true,
   "bibliofile": "biblio.bib",
   "cite_by": "apalike",
   "current_citInitial": 1,
   "eqLabelWithNumbers": true,
   "eqNumInitial": 1,
   "hotkeys": {
    "equation": "Ctrl-E",
    "itemize": "Ctrl-I"
   },
   "labels_anchors": false,
   "latex_user_defs": false,
   "report_style_numbering": false,
   "user_envs_cfg": false
  },
  "nbTranslate": {
   "displayLangs": [
    "*"
   ],
   "hotkey": "alt-t",
   "langInMainMenu": true,
   "sourceLang": "en",
   "targetLang": "fr",
   "useGoogleTranslate": true
  },
  "toc": {
   "base_numbering": 1,
   "nav_menu": {},
   "number_sections": true,
   "sideBar": true,
   "skip_h1_title": false,
   "title_cell": "Table of Contents",
   "title_sidebar": "Contents",
   "toc_cell": false,
   "toc_position": {},
   "toc_section_display": true,
   "toc_window_display": false
  },
  "varInspector": {
   "cols": {
    "lenName": 16,
    "lenType": 16,
    "lenVar": 40
   },
   "kernels_config": {
    "python": {
     "delete_cmd_postfix": "",
     "delete_cmd_prefix": "del ",
     "library": "var_list.py",
     "varRefreshCmd": "print(var_dic_list())"
    },
    "r": {
     "delete_cmd_postfix": ") ",
     "delete_cmd_prefix": "rm(",
     "library": "var_list.r",
     "varRefreshCmd": "cat(var_dic_list()) "
    }
   },
   "types_to_exclude": [
    "module",
    "function",
    "builtin_function_or_method",
    "instance",
    "_Feature"
   ],
   "window_display": false
  }
 },
 "nbformat": 4,
 "nbformat_minor": 2
}
