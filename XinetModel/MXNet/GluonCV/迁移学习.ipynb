{
 "cells": [
  {
   "cell_type": "markdown",
   "metadata": {},
   "source": [
    "# 通过关键词和图片搜索引擎下载图片\n",
    "\n",
    "通过在搜索引擎中搜索给定关键词，然后对返回结果的静态网页版本的源代码进行匹配找到所有图片 URL 进行下载。\n",
    "\n",
    "** 实现思路 **\n",
    "\n",
    "- 先在一个文本文件中以 UTF-8 格式保存要下载的关键词列表\n",
    "- 然后编写脚本自动为每一个关键词分配多进程，并行进行网页源码获取和图片下载。\n",
    "\n",
    "下面我以美食为例来说明："
   ]
  },
  {
   "cell_type": "code",
   "execution_count": 8,
   "metadata": {},
   "outputs": [],
   "source": [
    "import os\n",
    "import re\n",
    "import urllib\n",
    "from multiprocessing import Process"
   ]
  },
  {
   "cell_type": "code",
   "execution_count": 2,
   "metadata": {},
   "outputs": [],
   "source": [
    "root = 'D:/datasets/food/'"
   ]
  },
  {
   "cell_type": "code",
   "execution_count": 5,
   "metadata": {},
   "outputs": [],
   "source": [
    "if not os.path.exists(root):\n",
    "    os.mkdir(root)  # 创建数据根目录"
   ]
  },
  {
   "cell_type": "code",
   "execution_count": 6,
   "metadata": {},
   "outputs": [],
   "source": [
    "keywords_list = ['烤鸭', '鹿肉', '地锅鸡', '包子', '水饺', '麻花', '鸡汤']"
   ]
  },
  {
   "cell_type": "markdown",
   "metadata": {},
   "source": [
    "将 `keywords_list` 写入磁盘："
   ]
  },
  {
   "cell_type": "code",
   "execution_count": 7,
   "metadata": {},
   "outputs": [],
   "source": [
    "with open(f'{root}keywords.txt', 'w') as fp:\n",
    "    for k in keywords_list:\n",
    "        fp.write(k+'\\n')"
   ]
  },
  {
   "cell_type": "markdown",
   "metadata": {},
   "source": [
    "我仅需要获取图片的格式是："
   ]
  },
  {
   "cell_type": "code",
   "execution_count": 9,
   "metadata": {},
   "outputs": [],
   "source": [
    "IMAGE_FORMAT = ['jpg', 'png', 'jpeg']"
   ]
  },
  {
   "cell_type": "markdown",
   "metadata": {},
   "source": [
    "## 定义搜索引擎获取关键词和指定样本的模板的 API\n",
    "\n",
    "```py\n",
    "import os\n",
    "import re\n",
    "import urllib\n",
    "from multiprocessing import Process\n",
    "\n",
    "\n",
    "# {keyword} 是关键词字段\n",
    "# {index} 是图片的开始下标字段\n",
    "SUPPORTED_FORMATS = ['jpg', 'png', 'jpeg']\n",
    "URL_TEMPLATE = r'http://image.b***u.com/search/flip?tn=b***uimage&ie=utf-8&word={keyword}&pn={index}'\n",
    "\n",
    "# 定义每个进程的下载函数\n",
    "def download_images_from_baidu(dir_name, keyword, start_index, end_index):\n",
    "    '''\n",
    "    dir_name: 文件要保存的位置\n",
    "    keyword：关键词\n",
    "    start_index：要下载文件的开始编号\n",
    "    end_index：要下载文件的结束编号\n",
    "    '''\n",
    "    index = start_index\n",
    "    while index < end_index:\n",
    "        url = URL_TEMPLATE.format(keyword=keyword, index=index)\n",
    "        try:\n",
    "            html_text = urllib.urlopen(url).read().decode('utf-8', 'ignore')\n",
    "            image_urls = re.findall(r'\"objURL\":\"(.*?)\"', html_text)\n",
    "            if not image_urls:\n",
    "                print('Cannot retrieve anymore image urls \\nStopping ...'.format(url))\n",
    "                break\n",
    "        except IOError as e:\n",
    "            print(e)\n",
    "            print('Cannot open {}. \\nStopping ...'.format(url))\n",
    "            break\n",
    "\n",
    "        downloaded_urls = []\n",
    "        for url in image_urls:\n",
    "            filename = url.split('/')[-1]\n",
    "            ext = filename[filename.rfind('.')+1:]\n",
    "            if ext.lower() not in SUPPORTED_FORMATS:\n",
    "                index += 1\n",
    "                continue\n",
    "            filename = '{}/{:0>6d}.{}'.format(dir_name, index, ext)\n",
    "            cmd = 'wget \"{}\" -t 3 -T 5 -O {}'.format(url, filename)\n",
    "            os.system(cmd)\n",
    "            \n",
    "            if os.path.exists(filename) and os.path.getsize(filename) > 1024:\n",
    "                index_url = '{:0>6d},{}'.format(index, url)\n",
    "                downloaded_urls.append(index_url)\n",
    "            else:\n",
    "                os.system('rm {}'.format(filename))\n",
    "\n",
    "            index += 1\n",
    "            if index >= end_index:\n",
    "                break\n",
    "\n",
    "        with open('{}_urls.txt'.format(dir_name), 'a') as furls:\n",
    "            urls_text = '{}\\n'.format('\\n'.join(downloaded_urls))\n",
    "            if len(urls_text) > 11:\n",
    "                furls.write(urls_text)\n",
    "\n",
    "# 启动下载任务的函数\n",
    "def download_images(keywords, num_per_kw, procs_per_kw):\n",
    "    args_list = []\n",
    "    for class_id, keyword in enumerate(keywords):\n",
    "        dir_name = '{:0>3d}'.format(class_id)\n",
    "        os.system('mkdir -p {}'.format(dir_name))\n",
    "        num_per_proc = int(round(float(num_per_kw/procs_per_kw)))\n",
    "        for i in range(procs_per_kw):\n",
    "            start_index = i * num_per_proc\n",
    "            end_index = start_index + num_per_proc - 1\n",
    "            args_list.append((dir_name, keyword, start_index, end_index))\n",
    "\n",
    "    processes = [Process(target=download_images_from_baidu, args=x) for x in args_list]\n",
    "\n",
    "    print('Starting to download images with {} processes ...'.format(len(processes)))\n",
    "\n",
    "    for p in processes:\n",
    "        p.start()\n",
    "\n",
    "    for p in processes:\n",
    "        p.join()\n",
    "\n",
    "    print('Done!')\n",
    "\n",
    "if __name__ == \"__main__\":\n",
    "    with open('keywords.txt', 'rb') as f:\n",
    "        foods = f.read().split()\n",
    "     # 设置每个类别下载目标为 20 000 张，每个类别用 3 个进程下载\n",
    "    download_images(foods, 20000, 3)\n",
    "```\n",
    "\n",
    "将上面的代码封装为 `collect_data.py` 并放置在 `keywords.txt` 同一目录下。"
   ]
  },
  {
   "cell_type": "code",
   "execution_count": 10,
   "metadata": {},
   "outputs": [],
   "source": [
    "import urllib"
   ]
  }
 ],
 "metadata": {
  "kernelspec": {
   "display_name": "Python 3",
   "language": "python",
   "name": "python3"
  },
  "language_info": {
   "codemirror_mode": {
    "name": "ipython",
    "version": 3
   },
   "file_extension": ".py",
   "mimetype": "text/x-python",
   "name": "python",
   "nbconvert_exporter": "python",
   "pygments_lexer": "ipython3",
   "version": "3.6.5"
  }
 },
 "nbformat": 4,
 "nbformat_minor": 2
}
