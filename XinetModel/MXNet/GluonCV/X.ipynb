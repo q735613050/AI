{
 "cells": [
  {
   "cell_type": "markdown",
   "metadata": {},
   "source": [
    "# 载入数据"
   ]
  },
  {
   "cell_type": "code",
   "execution_count": 1,
   "metadata": {
    "ExecuteTime": {
     "end_time": "2018-10-13T13:29:03.629271Z",
     "start_time": "2018-10-13T13:28:44.106366Z"
    },
    "scrolled": true
   },
   "outputs": [
    {
     "name": "stderr",
     "output_type": "stream",
     "text": [
      "C:\\ProgramData\\Anaconda3\\lib\\site-packages\\h5py\\__init__.py:36: FutureWarning: Conversion of the second argument of issubdtype from `float` to `np.floating` is deprecated. In future, it will be treated as `np.float64 == np.dtype(float).type`.\n",
      "  from ._conv import register_converters as _register_converters\n"
     ]
    }
   ],
   "source": [
    "import sys\n",
    "sys.path.append('E:/zlab/')\n",
    "from gluonx.cifar import Cifar\n",
    "from gluonx.loader import Transforms\n",
    "# ---------------------------------------------\n",
    "import time\n",
    "import numpy as np\n",
    "import mxnet as mx\n",
    "\n",
    "from mxnet import gluon, nd, init\n",
    "from mxnet import autograd as ag\n",
    "from mxnet.gluon import nn\n",
    "\n",
    "from gluoncv.model_zoo import get_model\n",
    "from gluoncv.utils import makedirs, TrainingHistory\n",
    "\n",
    "batch_size = 8\n",
    "cifar = Cifar(batch_size)"
   ]
  },
  {
   "cell_type": "code",
   "execution_count": 5,
   "metadata": {
    "ExecuteTime": {
     "end_time": "2018-10-13T13:30:00.935320Z",
     "start_time": "2018-10-13T13:30:00.915361Z"
    }
   },
   "outputs": [],
   "source": [
    "class SemiModel(nn.HybridBlock):\n",
    "    def __init__(self, features, **kwargs):\n",
    "        super().__init__(**kwargs)\n",
    "        self.features = features\n",
    "        self.output = nn.Dense(10)\n",
    "\n",
    "    def hybrid_forward(self, F, x):\n",
    "        x = self.features(x)\n",
    "        return self.output(x)\n",
    "\n",
    "\n",
    "class TrainX(Transforms):\n",
    "    def __init__(self, ctx, net, *args, **kwargs):\n",
    "        super().__init__(*args, **kwargs)\n",
    "        self.__dict__ = self\n",
    "        self.ctx = ctx\n",
    "        # 网络预设\n",
    "        _net = get_model('cifar_resnet20_v1', pretrained=True)\n",
    "        net.features = _net.features\n",
    "        net.output.initialize(init.Xavier(magnitude=0.24))\n",
    "        net.collect_params().reset_ctx(self.ctx)\n",
    "        net.hybridize()\n",
    "        self.net = net\n",
    "        self._opt(self.net)\n",
    "        \n",
    "    def get_data(self, batch, aug):\n",
    "        Xs = nd.stack(*[aug(x)for x in batch[0]]).as_in_context(self.ctx)\n",
    "        ys = batch[1].as_in_context(self.ctx)\n",
    "        return Xs, ys\n",
    "\n",
    "    def test_metric(self, net, val_data):\n",
    "        metric = mx.metric.Accuracy()\n",
    "        for i, batch in enumerate(val_data):\n",
    "            Xs, ys = self.get_data(batch, self.test_aug)\n",
    "            outputs = net(Xs)\n",
    "            metric.update(ys, outputs)\n",
    "        return metric.get()\n",
    "    \n",
    "    def _opt(self, net):\n",
    "        '''\n",
    "        Opt 初始化\n",
    "        '''\n",
    "        # Nesterov accelerated gradient descent\n",
    "        optimizer = 'nag'\n",
    "        # Set parameters\n",
    "        optimizer_params = {'learning_rate': 0.1, 'wd': 0.0001, 'momentum': 0.9}\n",
    "        # Define our trainer for net\n",
    "        self.trainer = gluon.Trainer(net.collect_params(), optimizer, optimizer_params)\n",
    "        self.loss_fn = gluon.loss.SoftmaxCrossEntropyLoss()\n",
    "        \n",
    "    def train_op(self, epochs, trainset, valset):\n",
    "        lr_decay_count = 0\n",
    "        # Learning rate decay factor\n",
    "        lr_decay = 0.1\n",
    "        # Epochs where learning rate decays\n",
    "        lr_decay_epoch = [80, 160, np.inf]\n",
    "        train_metric = mx.metric.Accuracy()\n",
    "        train_history = TrainingHistory(['training-error', 'validation-error'])\n",
    "        for epoch in range(epochs):\n",
    "            tic = time.time()\n",
    "            train_metric.reset()\n",
    "            train_loss = 0\n",
    "            # Learning rate decay\n",
    "            if epoch == lr_decay_epoch[lr_decay_count]:\n",
    "                self.trainer.set_learning_rate(self.trainer.learning_rate*lr_decay)\n",
    "                lr_decay_count += 1\n",
    "            # Loop through each batch of training data\n",
    "            for i, batch in enumerate(trainset):\n",
    "                # Extract data and label\n",
    "                Xs, ys = self.get_data(batch, self.train_aug)\n",
    "                # AutoGrad\n",
    "                with ag.record():\n",
    "                    yhats = self.net(Xs)\n",
    "                    loss = self.loss_fn(yhats, ys)\n",
    "                # Backpropagation\n",
    "                loss.backward()\n",
    "                # Optimize\n",
    "                self.trainer.step(trainset.batch_size)\n",
    "                # Update metrics\n",
    "                train_loss += loss.sum().asscalar()\n",
    "                train_metric.update(ys, yhats)\n",
    "            name, acc = train_metric.get()\n",
    "            # Evaluate on Validation data\n",
    "            name, val_acc = self.test_metric(self.net, valset)\n",
    "            # Update history and print metrics\n",
    "            train_history.update([1-acc, 1-val_acc])\n",
    "            print('[Epoch %d] train=%f val=%f loss=%f time: %f' %\n",
    "                  (epoch, acc, val_acc, train_loss, time.time()-tic))\n",
    "        # We can plot the metric scores with:\n",
    "        train_history.plot()"
   ]
  },
  {
   "cell_type": "code",
   "execution_count": 6,
   "metadata": {
    "ExecuteTime": {
     "end_time": "2018-10-13T13:30:03.168346Z",
     "start_time": "2018-10-13T13:30:03.062380Z"
    }
   },
   "outputs": [
    {
     "name": "stdout",
     "output_type": "stream",
     "text": [
      "Populating the interactive namespace from numpy and matplotlib\n"
     ]
    },
    {
     "name": "stderr",
     "output_type": "stream",
     "text": [
      "C:\\ProgramData\\Anaconda3\\lib\\site-packages\\mxnet\\gluon\\block.py:421: UserWarning: load_params is deprecated. Please use load_parameters.\n",
      "  warnings.warn(\"load_params is deprecated. Please use load_parameters.\")\n"
     ]
    }
   ],
   "source": [
    "%pylab inline\n",
    "#pretrain_net = get_model('resnet50_v2')\n",
    "pretrain_net = get_model('cifar_resnet20_v1')\n",
    "net = SemiModel(pretrain_net.features)\n",
    "ctx = mx.gpu(0)\n",
    "T = TrainX(ctx, net)"
   ]
  },
  {
   "cell_type": "code",
   "execution_count": 7,
   "metadata": {
    "ExecuteTime": {
     "end_time": "2018-10-13T14:09:01.845221Z",
     "start_time": "2018-10-13T13:30:03.989133Z"
    },
    "scrolled": true
   },
   "outputs": [
    {
     "name": "stdout",
     "output_type": "stream",
     "text": [
      "[Epoch 0] train=0.141000 val=0.150400 loss=2321.988731 time: 170.923959\n",
      "[Epoch 1] train=0.155000 val=0.184900 loss=2171.827522 time: 167.741445\n",
      "[Epoch 2] train=0.183000 val=0.155000 loss=2181.532764 time: 175.984311\n",
      "[Epoch 3] train=0.195000 val=0.181000 loss=2125.135861 time: 172.076050\n",
      "[Epoch 4] train=0.179000 val=0.204000 loss=2126.414108 time: 168.035015\n",
      "[Epoch 5] train=0.191000 val=0.165800 loss=2124.126733 time: 172.490623\n",
      "[Epoch 6] train=0.221000 val=0.191600 loss=2038.952611 time: 168.631577\n",
      "[Epoch 7] train=0.202000 val=0.169700 loss=2072.118306 time: 169.712934\n",
      "[Epoch 8] train=0.249000 val=0.170500 loss=1995.646701 time: 168.221692\n",
      "[Epoch 9] train=0.236000 val=0.171200 loss=1991.790123 time: 167.692465\n",
      "[Epoch 10] train=0.227000 val=0.142700 loss=2012.541627 time: 169.557547\n",
      "[Epoch 11] train=0.263000 val=0.184400 loss=2013.327776 time: 168.114671\n",
      "[Epoch 12] train=0.245000 val=0.190400 loss=1998.488708 time: 167.571918\n"
     ]
    },
    {
     "ename": "KeyboardInterrupt",
     "evalue": "",
     "output_type": "error",
     "traceback": [
      "\u001b[1;31m---------------------------------------------------------------------------\u001b[0m",
      "\u001b[1;31mKeyboardInterrupt\u001b[0m                         Traceback (most recent call last)",
      "\u001b[1;32m<ipython-input-7-a269e715b789>\u001b[0m in \u001b[0;36m<module>\u001b[1;34m()\u001b[0m\n\u001b[1;32m----> 1\u001b[1;33m \u001b[0mT\u001b[0m\u001b[1;33m.\u001b[0m\u001b[0mtrain_op\u001b[0m\u001b[1;33m(\u001b[0m\u001b[1;36m100\u001b[0m\u001b[1;33m,\u001b[0m \u001b[0mcifar\u001b[0m\u001b[1;33m.\u001b[0m\u001b[0mtrainset\u001b[0m\u001b[1;33m,\u001b[0m \u001b[0mcifar\u001b[0m\u001b[1;33m.\u001b[0m\u001b[0mtestset\u001b[0m\u001b[1;33m)\u001b[0m\u001b[1;33m\u001b[0m\u001b[0m\n\u001b[0m",
      "\u001b[1;32m<ipython-input-5-c969e8063419>\u001b[0m in \u001b[0;36mtrain_op\u001b[1;34m(self, epochs, trainset, valset)\u001b[0m\n\u001b[0;32m     82\u001b[0m             \u001b[0mname\u001b[0m\u001b[1;33m,\u001b[0m \u001b[0macc\u001b[0m \u001b[1;33m=\u001b[0m \u001b[0mtrain_metric\u001b[0m\u001b[1;33m.\u001b[0m\u001b[0mget\u001b[0m\u001b[1;33m(\u001b[0m\u001b[1;33m)\u001b[0m\u001b[1;33m\u001b[0m\u001b[0m\n\u001b[0;32m     83\u001b[0m             \u001b[1;31m# Evaluate on Validation data\u001b[0m\u001b[1;33m\u001b[0m\u001b[1;33m\u001b[0m\u001b[0m\n\u001b[1;32m---> 84\u001b[1;33m             \u001b[0mname\u001b[0m\u001b[1;33m,\u001b[0m \u001b[0mval_acc\u001b[0m \u001b[1;33m=\u001b[0m \u001b[0mself\u001b[0m\u001b[1;33m.\u001b[0m\u001b[0mtest_metric\u001b[0m\u001b[1;33m(\u001b[0m\u001b[0mself\u001b[0m\u001b[1;33m.\u001b[0m\u001b[0mnet\u001b[0m\u001b[1;33m,\u001b[0m \u001b[0mvalset\u001b[0m\u001b[1;33m)\u001b[0m\u001b[1;33m\u001b[0m\u001b[0m\n\u001b[0m\u001b[0;32m     85\u001b[0m             \u001b[1;31m# Update history and print metrics\u001b[0m\u001b[1;33m\u001b[0m\u001b[1;33m\u001b[0m\u001b[0m\n\u001b[0;32m     86\u001b[0m             \u001b[0mtrain_history\u001b[0m\u001b[1;33m.\u001b[0m\u001b[0mupdate\u001b[0m\u001b[1;33m(\u001b[0m\u001b[1;33m[\u001b[0m\u001b[1;36m1\u001b[0m\u001b[1;33m-\u001b[0m\u001b[0macc\u001b[0m\u001b[1;33m,\u001b[0m \u001b[1;36m1\u001b[0m\u001b[1;33m-\u001b[0m\u001b[0mval_acc\u001b[0m\u001b[1;33m]\u001b[0m\u001b[1;33m)\u001b[0m\u001b[1;33m\u001b[0m\u001b[0m\n",
      "\u001b[1;32m<ipython-input-5-c969e8063419>\u001b[0m in \u001b[0;36mtest_metric\u001b[1;34m(self, net, val_data)\u001b[0m\n\u001b[0;32m     34\u001b[0m             \u001b[0mXs\u001b[0m\u001b[1;33m,\u001b[0m \u001b[0mys\u001b[0m \u001b[1;33m=\u001b[0m \u001b[0mself\u001b[0m\u001b[1;33m.\u001b[0m\u001b[0mget_data\u001b[0m\u001b[1;33m(\u001b[0m\u001b[0mbatch\u001b[0m\u001b[1;33m,\u001b[0m \u001b[0mself\u001b[0m\u001b[1;33m.\u001b[0m\u001b[0mtest_aug\u001b[0m\u001b[1;33m)\u001b[0m\u001b[1;33m\u001b[0m\u001b[0m\n\u001b[0;32m     35\u001b[0m             \u001b[0moutputs\u001b[0m \u001b[1;33m=\u001b[0m \u001b[0mnet\u001b[0m\u001b[1;33m(\u001b[0m\u001b[0mXs\u001b[0m\u001b[1;33m)\u001b[0m\u001b[1;33m\u001b[0m\u001b[0m\n\u001b[1;32m---> 36\u001b[1;33m             \u001b[0mmetric\u001b[0m\u001b[1;33m.\u001b[0m\u001b[0mupdate\u001b[0m\u001b[1;33m(\u001b[0m\u001b[0mys\u001b[0m\u001b[1;33m,\u001b[0m \u001b[0moutputs\u001b[0m\u001b[1;33m)\u001b[0m\u001b[1;33m\u001b[0m\u001b[0m\n\u001b[0m\u001b[0;32m     37\u001b[0m         \u001b[1;32mreturn\u001b[0m \u001b[0mmetric\u001b[0m\u001b[1;33m.\u001b[0m\u001b[0mget\u001b[0m\u001b[1;33m(\u001b[0m\u001b[1;33m)\u001b[0m\u001b[1;33m\u001b[0m\u001b[0m\n\u001b[0;32m     38\u001b[0m \u001b[1;33m\u001b[0m\u001b[0m\n",
      "\u001b[1;32mC:\\ProgramData\\Anaconda3\\lib\\site-packages\\mxnet\\metric.py\u001b[0m in \u001b[0;36mupdate\u001b[1;34m(self, labels, preds)\u001b[0m\n\u001b[0;32m    416\u001b[0m             \u001b[1;32mif\u001b[0m \u001b[0mpred_label\u001b[0m\u001b[1;33m.\u001b[0m\u001b[0mshape\u001b[0m \u001b[1;33m!=\u001b[0m \u001b[0mlabel\u001b[0m\u001b[1;33m.\u001b[0m\u001b[0mshape\u001b[0m\u001b[1;33m:\u001b[0m\u001b[1;33m\u001b[0m\u001b[0m\n\u001b[0;32m    417\u001b[0m                 \u001b[0mpred_label\u001b[0m \u001b[1;33m=\u001b[0m \u001b[0mndarray\u001b[0m\u001b[1;33m.\u001b[0m\u001b[0margmax\u001b[0m\u001b[1;33m(\u001b[0m\u001b[0mpred_label\u001b[0m\u001b[1;33m,\u001b[0m \u001b[0maxis\u001b[0m\u001b[1;33m=\u001b[0m\u001b[0mself\u001b[0m\u001b[1;33m.\u001b[0m\u001b[0maxis\u001b[0m\u001b[1;33m)\u001b[0m\u001b[1;33m\u001b[0m\u001b[0m\n\u001b[1;32m--> 418\u001b[1;33m             \u001b[0mpred_label\u001b[0m \u001b[1;33m=\u001b[0m \u001b[0mpred_label\u001b[0m\u001b[1;33m.\u001b[0m\u001b[0masnumpy\u001b[0m\u001b[1;33m(\u001b[0m\u001b[1;33m)\u001b[0m\u001b[1;33m.\u001b[0m\u001b[0mastype\u001b[0m\u001b[1;33m(\u001b[0m\u001b[1;34m'int32'\u001b[0m\u001b[1;33m)\u001b[0m\u001b[1;33m\u001b[0m\u001b[0m\n\u001b[0m\u001b[0;32m    419\u001b[0m             \u001b[0mlabel\u001b[0m \u001b[1;33m=\u001b[0m \u001b[0mlabel\u001b[0m\u001b[1;33m.\u001b[0m\u001b[0masnumpy\u001b[0m\u001b[1;33m(\u001b[0m\u001b[1;33m)\u001b[0m\u001b[1;33m.\u001b[0m\u001b[0mastype\u001b[0m\u001b[1;33m(\u001b[0m\u001b[1;34m'int32'\u001b[0m\u001b[1;33m)\u001b[0m\u001b[1;33m\u001b[0m\u001b[0m\n\u001b[0;32m    420\u001b[0m             \u001b[1;31m# flatten before checking shapes to avoid shape miss match\u001b[0m\u001b[1;33m\u001b[0m\u001b[1;33m\u001b[0m\u001b[0m\n",
      "\u001b[1;32mC:\\ProgramData\\Anaconda3\\lib\\site-packages\\mxnet\\ndarray\\ndarray.py\u001b[0m in \u001b[0;36masnumpy\u001b[1;34m(self)\u001b[0m\n\u001b[0;32m   1970\u001b[0m             \u001b[0mself\u001b[0m\u001b[1;33m.\u001b[0m\u001b[0mhandle\u001b[0m\u001b[1;33m,\u001b[0m\u001b[1;33m\u001b[0m\u001b[0m\n\u001b[0;32m   1971\u001b[0m             \u001b[0mdata\u001b[0m\u001b[1;33m.\u001b[0m\u001b[0mctypes\u001b[0m\u001b[1;33m.\u001b[0m\u001b[0mdata_as\u001b[0m\u001b[1;33m(\u001b[0m\u001b[0mctypes\u001b[0m\u001b[1;33m.\u001b[0m\u001b[0mc_void_p\u001b[0m\u001b[1;33m)\u001b[0m\u001b[1;33m,\u001b[0m\u001b[1;33m\u001b[0m\u001b[0m\n\u001b[1;32m-> 1972\u001b[1;33m             ctypes.c_size_t(data.size)))\n\u001b[0m\u001b[0;32m   1973\u001b[0m         \u001b[1;32mreturn\u001b[0m \u001b[0mdata\u001b[0m\u001b[1;33m\u001b[0m\u001b[0m\n\u001b[0;32m   1974\u001b[0m \u001b[1;33m\u001b[0m\u001b[0m\n",
      "\u001b[1;31mKeyboardInterrupt\u001b[0m: "
     ]
    }
   ],
   "source": [
    "T.train_op(100, cifar.trainset, cifar.testset)"
   ]
  },
  {
   "cell_type": "code",
   "execution_count": null,
   "metadata": {},
   "outputs": [],
   "source": []
  }
 ],
 "metadata": {
  "kernelspec": {
   "display_name": "Python [default]",
   "language": "python",
   "name": "python3"
  },
  "language_info": {
   "codemirror_mode": {
    "name": "ipython",
    "version": 3
   },
   "file_extension": ".py",
   "mimetype": "text/x-python",
   "name": "python",
   "nbconvert_exporter": "python",
   "pygments_lexer": "ipython3",
   "version": "3.6.5"
  },
  "latex_envs": {
   "LaTeX_envs_menu_present": true,
   "autoclose": false,
   "autocomplete": true,
   "bibliofile": "biblio.bib",
   "cite_by": "apalike",
   "current_citInitial": 1,
   "eqLabelWithNumbers": true,
   "eqNumInitial": 1,
   "hotkeys": {
    "equation": "Ctrl-E",
    "itemize": "Ctrl-I"
   },
   "labels_anchors": false,
   "latex_user_defs": false,
   "report_style_numbering": false,
   "user_envs_cfg": false
  },
  "nbTranslate": {
   "displayLangs": [
    "*"
   ],
   "hotkey": "alt-t",
   "langInMainMenu": true,
   "sourceLang": "en",
   "targetLang": "fr",
   "useGoogleTranslate": true
  },
  "toc": {
   "base_numbering": 1,
   "nav_menu": {},
   "number_sections": true,
   "sideBar": true,
   "skip_h1_title": false,
   "title_cell": "Table of Contents",
   "title_sidebar": "Contents",
   "toc_cell": false,
   "toc_position": {},
   "toc_section_display": true,
   "toc_window_display": false
  },
  "varInspector": {
   "cols": {
    "lenName": 16,
    "lenType": 16,
    "lenVar": 40
   },
   "kernels_config": {
    "python": {
     "delete_cmd_postfix": "",
     "delete_cmd_prefix": "del ",
     "library": "var_list.py",
     "varRefreshCmd": "print(var_dic_list())"
    },
    "r": {
     "delete_cmd_postfix": ") ",
     "delete_cmd_prefix": "rm(",
     "library": "var_list.r",
     "varRefreshCmd": "cat(var_dic_list()) "
    }
   },
   "types_to_exclude": [
    "module",
    "function",
    "builtin_function_or_method",
    "instance",
    "_Feature"
   ],
   "window_display": false
  }
 },
 "nbformat": 4,
 "nbformat_minor": 2
}
