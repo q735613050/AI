{
 "cells": [
  {
   "cell_type": "markdown",
   "metadata": {},
   "source": [
    "# [GluonCV — 计算机视觉的深度学习工具包](https://zh.mxnet.io/blog/gluon-cv)"
   ]
  },
  {
   "cell_type": "markdown",
   "metadata": {},
   "source": [
    "# GitHub：[GluonCV: a Deep Learning Toolkit for Computer Vision](http://gluon-cv.mxnet.io/)"
   ]
  },
  {
   "cell_type": "code",
   "execution_count": 2,
   "metadata": {
    "ExecuteTime": {
     "end_time": "2018-05-05T13:27:21.684882Z",
     "start_time": "2018-05-05T13:27:21.673939Z"
    }
   },
   "outputs": [],
   "source": [
    "import sys \n",
    "\n",
    "sys.path.append('E:/xinlib')\n",
    "import xintcv\n",
    "from xintcv import Cifar10\n",
    "\n",
    "from mxnet import gluon, nd, image\n",
    "\n",
    "import mxnet as mx\n",
    "import numpy as np\n",
    "\n",
    "import matplotlib.pyplot as plt\n",
    "import argparse, time, logging, random, math\n",
    "\n",
    "import numpy as np\n",
    "import mxnet as mx\n",
    "\n",
    "from mxnet import gluon, nd\n",
    "from mxnet import autograd as ag\n",
    "from mxnet.gluon import nn\n",
    "from mxnet.gluon.data.vision import transforms\n",
    "\n",
    "from gluoncv.model_zoo import get_model\n",
    "from gluoncv import utils\n",
    "from gluoncv.utils import makedirs, TrainingHistory"
   ]
  },
  {
   "cell_type": "code",
   "execution_count": 2,
   "metadata": {
    "ExecuteTime": {
     "end_time": "2018-05-05T11:05:30.677181Z",
     "start_time": "2018-05-05T11:05:29.797727Z"
    },
    "scrolled": true
   },
   "outputs": [
    {
     "name": "stdout",
     "output_type": "stream",
     "text": [
      "Populating the interactive namespace from numpy and matplotlib\n"
     ]
    },
    {
     "name": "stderr",
     "output_type": "stream",
     "text": [
      "C:\\ProgramData\\Anaconda3\\lib\\site-packages\\IPython\\core\\magics\\pylab.py:160: UserWarning: pylab import has clobbered these variables: ['random']\n",
      "`%matplotlib` prevents importing * from pylab and numpy\n",
      "  \"\\n`%matplotlib` prevents importing * from pylab and numpy\"\n"
     ]
    },
    {
     "data": {
      "image/png": "[encoded data removed]",
      "text/plain": [
       "<Figure size 432x288 with 1 Axes>"
      ]
     },
     "metadata": {},
     "output_type": "display_data"
    }
   ],
   "source": [
    "%pylab inline\n",
    "url = 'https://raw.githubusercontent.com/dmlc/web-data/master/gluoncv/classification/plane-draw.jpeg'\n",
    "im_fname = utils.download(url, path='E:/Data/MXNet')\n",
    "img = image.imread(im_fname)\n",
    "D = xintcv.LoaderCV()\n",
    "x = D.plot_image(img)"
   ]
  },
  {
   "cell_type": "code",
   "execution_count": 5,
   "metadata": {
    "ExecuteTime": {
     "end_time": "2018-05-05T11:47:41.208412Z",
     "start_time": "2018-05-05T11:33:49.655891Z"
    },
    "scrolled": false
   },
   "outputs": [
    {
     "name": "stdout",
     "output_type": "stream",
     "text": [
      "[Epoch 0] train=0.363482 val=0.455400 loss=85956.182983 time: 414.442617\n",
      "[Epoch 1] train=0.509115 val=0.564200 loss=68426.486328 time: 414.310274\n"
     ]
    },
    {
     "data": {
      "image/png": "[encoded data removed]",
      "text/plain": [
       "<Figure size 432x288 with 1 Axes>"
      ]
     },
     "metadata": {},
     "output_type": "display_data"
    }
   ],
   "source": [
    "d = xintcv.Cifar10()\n",
    "d.train(2)"
   ]
  },
  {
   "cell_type": "code",
   "execution_count": null,
   "metadata": {},
   "outputs": [],
   "source": []
  },
  {
   "cell_type": "code",
   "execution_count": 3,
   "metadata": {
    "ExecuteTime": {
     "end_time": "2018-05-05T13:27:27.292870Z",
     "start_time": "2018-05-05T13:27:27.238866Z"
    }
   },
   "outputs": [],
   "source": [
    "class Cifar(Cifar10):\n",
    "    '''\n",
    "    使用 mxboard 的可视化效果\n",
    "    `tensorboard --logdir=D:/logs --host=127.0.0.1 --port=8889`\n",
    "    '''\n",
    "    def __init__(self, net):\n",
    "        super().__init__()\n",
    "        self.dataDtype = name\n",
    "        self.logdir = 'D:/logs'\n",
    "        self.log_interval = 200\n",
    "\n",
    "    def loader(self):\n",
    "        '''\n",
    "        初始化模型并为训练和验证数据集定义数据装载器\n",
    "        '''  \n",
    "        # Batch Size for Each GPU\n",
    "        per_device_batch_size = 128\n",
    "        # Number of data loader workers\n",
    "        num_workers = 0   # Windows  系统不支持大于 `0`\n",
    "        # Calculate effective total batch size\n",
    "        batch_size = per_device_batch_size * self.num_gpus\n",
    "\n",
    "        # Set train=True for training data\n",
    "        # Set shuffle=True to shuffle the training data\n",
    "        train_data = gluon.data.DataLoader(\n",
    "            gluon.data.vision.CIFAR10(\n",
    "                train=True).transform_first(self.transform_train),\n",
    "            batch_size=batch_size,\n",
    "            shuffle=True,\n",
    "            last_batch='discard',\n",
    "            num_workers=num_workers)\n",
    "\n",
    "        # Set train=False for validation data\n",
    "        val_data = gluon.data.DataLoader(\n",
    "            gluon.data.vision.CIFAR10(\n",
    "                train=False).transform_first(self.transform_test),\n",
    "            batch_size=batch_size,\n",
    "            shuffle=False,\n",
    "            num_workers=num_workers)\n",
    "        return batch_size, train_data, val_data\n",
    "\n",
    "    def train_op(self):\n",
    "\n",
    "        # Nesterov accelerated gradient descent\n",
    "        optimizer = 'nag'\n",
    "        # Set parameters\n",
    "        optimizer_params = {\n",
    "            'learning_rate': 0.1,\n",
    "            'wd': 0.0001,\n",
    "            'momentum': 0.9\n",
    "        }\n",
    "\n",
    "        # Define our trainer for net\n",
    "        trainer = gluon.Trainer(self.net.collect_params(), optimizer,\n",
    "                                optimizer_params)\n",
    "        return trainer\n",
    "\n",
    "    def test(self, ctx, val_data):\n",
    "        '''\n",
    "        验证数据集为我们提供了一种监视培训过程的方法。\n",
    "        我们有验证数据的标签, 但它们在培训过程中被保留。\n",
    "        相反, 我们使用它们来评估不可见数据的模型性能并防止 overfitting。\n",
    "        '''\n",
    "        metric = mx.metric.Accuracy()\n",
    "        for i, batch in enumerate(val_data):\n",
    "            data = gluon.utils.split_and_load(\n",
    "                batch[0], ctx_list=ctx, batch_axis=0)\n",
    "            label = gluon.utils.split_and_load(\n",
    "                batch[1], ctx_list=ctx, batch_axis=0)\n",
    "            outputs = [self.net(X) for X in data]\n",
    "            metric.update(label, outputs)\n",
    "        return metric.get()\n",
    "\n",
    "    def train(self, epochs = 240):\n",
    "        metric = mx.metric.Accuracy()\n",
    "        sw = SummaryWriter(self.logdir, flush_secs=20)\n",
    "        self.net.initialize(ctx=self.ctx, init=mx.init.MSRAPrelu(), force_reinit=True)\n",
    "        self.net.hybridize()\n",
    "        logging.basicConfig(level=logging.DEBUG)\n",
    "        trainer = gluon.Trainer(self.net.collect_params(), 'rmsprop', {'learning_rate': 0.1, 'gamma1': 0.9})\n",
    "        batch_size, train_data, val_data = self.init_op()\n",
    "        \n",
    "        # Learning rate decay\n",
    "        lr_decay_count = 0\n",
    "        # Learning rate decay factor\n",
    "        lr_decay = 0.1\n",
    "        # Epochs where learning rate decays\n",
    "        lr_decay_epoch = [80, 160, np.inf]\n",
    "        for epoch in range(epochs):\n",
    "            tic = time.time()\n",
    "            train_metric.reset()\n",
    "            train_loss = 0\n",
    "\n",
    "            if epoch == lr_decay_epoch[lr_decay_count]:\n",
    "                trainer.set_learning_rate(trainer.learning_rate * lr_decay)\n",
    "                lr_decay_count += 1\n",
    "\n",
    "            # Loop through each batch of training data\n",
    "            for i, batch in enumerate(train_data):\n",
    "                # Extract data and label\n",
    "                data = gluon.utils.split_and_load(\n",
    "                    batch[0], ctx_list=self.ctx, batch_axis=0)\n",
    "                label = gluon.utils.split_and_load(\n",
    "                    batch[1], ctx_list=self.ctx, batch_axis=0)\n",
    "\n",
    "                # AutoGrad\n",
    "                with ag.record():\n",
    "                    output = [self.net(X) for X in data]\n",
    "                    loss = [self.loss_fn(yhat, y) for yhat, y in zip(output, label)]\n",
    "\n",
    "                # Backpropagation\n",
    "                for l in loss:\n",
    "                    l.backward()\n",
    "\n",
    "                # Optimize\n",
    "                trainer.step(batch_size)\n",
    "\n",
    "                # Update metrics\n",
    "                train_loss += sum([l.sum().asscalar() for l in loss])\n",
    "                train_metric.update(label, output)\n",
    "\n",
    "            name, acc = train_metric.get()\n",
    "            # Evaluate on Validation data\n",
    "            name, val_acc = self.test(self.ctx, val_data)\n",
    "\n",
    "            # print metrics\n",
    "            print('[Epoch %d] train=%f val=%f loss=%f time: %f' %\n",
    "                  (epoch, acc, val_acc, train_loss, time.time() - tic))"
   ]
  }
 ],
 "metadata": {
  "kernelspec": {
   "display_name": "Python 3",
   "language": "python",
   "name": "python3"
  },
  "language_info": {
   "codemirror_mode": {
    "name": "ipython",
    "version": 3
   },
   "file_extension": ".py",
   "mimetype": "text/x-python",
   "name": "python",
   "nbconvert_exporter": "python",
   "pygments_lexer": "ipython3",
   "version": "3.6.4"
  },
  "latex_envs": {
   "LaTeX_envs_menu_present": true,
   "autoclose": false,
   "autocomplete": true,
   "bibliofile": "biblio.bib",
   "cite_by": "apalike",
   "current_citInitial": 1,
   "eqLabelWithNumbers": true,
   "eqNumInitial": 1,
   "hotkeys": {
    "equation": "Ctrl-E",
    "itemize": "Ctrl-I"
   },
   "labels_anchors": false,
   "latex_user_defs": false,
   "report_style_numbering": false,
   "user_envs_cfg": false
  },
  "nbTranslate": {
   "displayLangs": [
    "*"
   ],
   "hotkey": "alt-t",
   "langInMainMenu": true,
   "sourceLang": "en",
   "targetLang": "fr",
   "useGoogleTranslate": true
  },
  "toc": {
   "nav_menu": {},
   "number_sections": true,
   "sideBar": true,
   "skip_h1_title": false,
   "title_cell": "Table of Contents",
   "title_sidebar": "Contents",
   "toc_cell": false,
   "toc_position": {},
   "toc_section_display": true,
   "toc_window_display": false
  },
  "varInspector": {
   "cols": {
    "lenName": 16,
    "lenType": 16,
    "lenVar": 40
   },
   "kernels_config": {
    "python": {
     "delete_cmd_postfix": "",
     "delete_cmd_prefix": "del ",
     "library": "var_list.py",
     "varRefreshCmd": "print(var_dic_list())"
    },
    "r": {
     "delete_cmd_postfix": ") ",
     "delete_cmd_prefix": "rm(",
     "library": "var_list.r",
     "varRefreshCmd": "cat(var_dic_list()) "
    }
   },
   "types_to_exclude": [
    "module",
    "function",
    "builtin_function_or_method",
    "instance",
    "_Feature"
   ],
   "window_display": false
  }
 },
 "nbformat": 4,
 "nbformat_minor": 2
}
