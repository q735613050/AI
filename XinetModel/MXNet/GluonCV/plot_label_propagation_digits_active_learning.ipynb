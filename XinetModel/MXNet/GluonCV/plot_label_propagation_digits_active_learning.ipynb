{
 "cells": [
  {
   "cell_type": "code",
   "execution_count": null,
   "metadata": {
    "ExecuteTime": {
     "end_time": "2018-10-01T08:42:04.100945Z",
     "start_time": "2018-10-01T08:42:00.987625Z"
    }
   },
   "outputs": [],
   "source": [
    "import sys\n",
    "sys.path.append('E:/zlab/')\n",
    "from loader import Loader, XModel\n",
    "# ------------------------------------\n",
    "import time\n",
    "from sklearn.model_selection import train_test_split\n",
    "\n",
    "import tables as tb\n",
    "import mxnet as mx\n",
    "from mxnet import nd, autograd, gluon\n",
    "import gluonbook as gb\n",
    "from mxnet import gluon, init, nd\n",
    "from mxnet.gluon import data as gdata, loss as gloss, model_zoo\n",
    "\n",
    "h5 = tb.open_file('E:/xdata/X.h5')\n",
    "\n",
    "data = h5.root.cifar10\n",
    "\n",
    "X = data.trainX[:]\n",
    "y = data.trainY[:]\n",
    "X_train, X_unlabel, y_train, y__unlabel = train_test_split(\n",
    "    X, y, test_size=0.98, random_state=42)\n",
    "\n",
    "batch_size = 32\n",
    "trainset = Loader(X_train, y_train, batch_size, shuffle=True)\n",
    "testset = Loader(data.testX, data.testY, batch_size, shuffle=False)\n",
    "\n",
    "# ------------\n",
    "num_epochs = 1\n",
    "learning_rate = 0.01\n",
    "pretrained_net = model_zoo.vision.resnet50_v2(pretrained=True)\n",
    "finetune_net = model_zoo.vision.resnet50_v2(classes=10)\n",
    "finetune_net.features = pretrained_net.features\n",
    "finetune_net.output.initialize(init.Xavier())"
   ]
  },
  {
   "cell_type": "code",
   "execution_count": null,
   "metadata": {
    "ExecuteTime": {
     "end_time": "2018-10-01T09:33:26.496365Z",
     "start_time": "2018-10-01T09:04:47.136731Z"
    },
    "scrolled": true
   },
   "outputs": [],
   "source": [
    "learning_rate = 0.1\n",
    "batch_size = 40\n",
    "epochs = 100\n",
    "model = XModel(trainset, testset, finetune_net)\n",
    "model.train(learning_rate, batch_size, epochs)"
   ]
  },
  {
   "cell_type": "code",
   "execution_count": null,
   "metadata": {
    "ExecuteTime": {
     "end_time": "2018-10-01T09:35:41.841051Z",
     "start_time": "2018-10-01T09:35:36.100861Z"
    }
   },
   "outputs": [],
   "source": [
    "from loader import aug_dataset\n",
    "\n",
    "aug = aug_dataset()\n",
    "\n",
    "X_ = nd.stack(*[aug.test(nd.array(x)) for x in X_unlabel])\n",
    "X_ = X_.as_in_context(mx.gpu(0))\n",
    "\n",
    "y_ = model.net.features(X_)"
   ]
  },
  {
   "cell_type": "code",
   "execution_count": null,
   "metadata": {
    "ExecuteTime": {
     "end_time": "2018-10-01T09:36:11.211368Z",
     "start_time": "2018-10-01T09:36:10.905312Z"
    },
    "scrolled": true
   },
   "outputs": [],
   "source": [
    "y_.argmax(axis=1)"
   ]
  },
  {
   "cell_type": "code",
   "execution_count": null,
   "metadata": {
    "ExecuteTime": {
     "end_time": "2018-10-01T09:35:08.777591Z",
     "start_time": "2018-10-01T09:35:08.745352Z"
    }
   },
   "outputs": [],
   "source": [
    "y_.argmax(axis=1)"
   ]
  },
  {
   "cell_type": "code",
   "execution_count": null,
   "metadata": {
    "ExecuteTime": {
     "end_time": "2018-10-01T08:57:52.598813Z",
     "start_time": "2018-10-01T08:57:52.126582Z"
    }
   },
   "outputs": [],
   "source": [
    "features = X_unlabel.reshape((-1, 32*32*3)).astype(np.float32)"
   ]
  },
  {
   "cell_type": "code",
   "execution_count": null,
   "metadata": {
    "ExecuteTime": {
     "end_time": "2018-10-01T08:49:42.478943Z",
     "start_time": "2018-10-01T08:49:42.394618Z"
    }
   },
   "outputs": [],
   "source": [
    "%matplotlib inline\n",
    "\n",
    "import numpy as np\n",
    "import matplotlib.pyplot as plt\n",
    "from scipy import stats\n",
    "\n",
    "from sklearn import datasets\n",
    "from sklearn.semi_supervised import label_propagation\n",
    "from sklearn.metrics import classification_report, confusion_matrix"
   ]
  },
  {
   "cell_type": "code",
   "execution_count": null,
   "metadata": {
    "ExecuteTime": {
     "end_time": "2018-10-01T08:53:25.535825Z",
     "start_time": "2018-10-01T08:53:25.531875Z"
    }
   },
   "outputs": [],
   "source": [
    "from itertools import cycle\n",
    "from time import time\n",
    "import numpy as np\n",
    "import matplotlib.pyplot as plt\n",
    "import matplotlib.colors as colors\n",
    "\n",
    "from sklearn.preprocessing import StandardScaler\n",
    "\n",
    "from sklearn.cluster import Birch, MiniBatchKMeans"
   ]
  },
  {
   "cell_type": "code",
   "execution_count": null,
   "metadata": {
    "ExecuteTime": {
     "end_time": "2018-10-01T08:58:38.998526Z",
     "start_time": "2018-10-01T08:57:56.442278Z"
    }
   },
   "outputs": [],
   "source": [
    "# Use all colors that matplotlib provides by default.\n",
    "colors_ = cycle(colors.cnames.keys())\n",
    "\n",
    "fig = plt.figure(figsize=(12, 4))\n",
    "fig.subplots_adjust(left=0.04, right=0.98, bottom=0.1, top=0.9)\n",
    "\n",
    "# Compute clustering with Birch with and without the final clustering step\n",
    "# and plot.\n",
    "birch_models = [Birch(threshold=1.7, n_clusters=None),\n",
    "                Birch(threshold=1.7, n_clusters=10)]\n",
    "final_step = ['without global clustering', 'with global clustering']\n",
    "\n",
    "for ind, (birch_model, info) in enumerate(zip(birch_models, final_step)):\n",
    "    t = time()\n",
    "    birch_model.fit(features)\n",
    "    time_ = time() - t\n",
    "    print(\"Birch %s as the final step took %0.2f seconds\" % (\n",
    "          info, (time() - t)))\n",
    "\n",
    "    # Plot result\n",
    "    labels = birch_model.labels_\n",
    "    centroids = birch_model.subcluster_centers_\n",
    "    n_clusters = np.unique(labels).size\n",
    "    print(\"n_clusters : %d\" % n_clusters)\n",
    "\n",
    "    ax = fig.add_subplot(1, 3, ind + 1)\n",
    "    for this_centroid, k, col in zip(centroids, range(n_clusters), colors_):\n",
    "        mask = labels == k\n",
    "        ax.scatter(X[mask, 0], X[mask, 1],\n",
    "                   c='w', edgecolor=col, marker='.', alpha=0.5)\n",
    "        if birch_model.n_clusters is None:\n",
    "            ax.scatter(this_centroid[0], this_centroid[1], marker='+',\n",
    "                       c='k', s=25)\n",
    "    ax.set_ylim([-25, 25])\n",
    "    ax.set_xlim([-25, 25])\n",
    "    ax.set_autoscaley_on(False)\n",
    "    ax.set_title('Birch %s' % info)\n",
    "\n",
    "# Compute clustering with MiniBatchKMeans.\n",
    "mbk = MiniBatchKMeans(init='k-means++', n_clusters=10, batch_size=100,\n",
    "                      n_init=10, max_no_improvement=10, verbose=0,\n",
    "                      random_state=0)\n",
    "t0 = time()\n",
    "mbk.fit(features)\n",
    "t_mini_batch = time() - t0\n",
    "print(\"Time taken to run MiniBatchKMeans %0.2f seconds\" % t_mini_batch)\n",
    "mbk_means_labels_unique = np.unique(mbk.labels_)\n",
    "\n",
    "ax = fig.add_subplot(1, 3, 3)\n",
    "for this_centroid, k, col in zip(mbk.cluster_centers_,\n",
    "                                 range(n_clusters), colors_):\n",
    "    mask = mbk.labels_ == k\n",
    "    ax.scatter(X[mask, 0], X[mask, 1], marker='.',\n",
    "               c='w', edgecolor=col, alpha=0.5)\n",
    "    ax.scatter(this_centroid[0], this_centroid[1], marker='+',\n",
    "               c='k', s=25)\n",
    "ax.set_xlim([-25, 25])\n",
    "ax.set_ylim([-25, 25])\n",
    "ax.set_title(\"MiniBatchKMeans\")\n",
    "ax.set_autoscaley_on(False)\n",
    "plt.show()"
   ]
  },
  {
   "cell_type": "code",
   "execution_count": null,
   "metadata": {
    "ExecuteTime": {
     "end_time": "2018-10-01T03:54:03.633039Z",
     "start_time": "2018-10-01T03:54:01.567978Z"
    }
   },
   "outputs": [],
   "source": [
    "rng = np.random.RandomState(0)\n",
    "indices = np.arange(data.trainX.nrows)\n",
    "rng.shuffle(indices)\n",
    "unlabeled_index = indices[1000:]\n",
    "\n",
    "X = data.trainX[:]\n",
    "X_ = X.reshape(X.shape[0], -1)\n",
    "Y = data.trainY[:]\n",
    "Y_train = np.copy(Y)\n",
    "Y_train[unlabeled_index] = -1"
   ]
  },
  {
   "cell_type": "code",
   "execution_count": null,
   "metadata": {
    "ExecuteTime": {
     "end_time": "2018-09-30T13:54:49.530410Z",
     "start_time": "2018-09-30T13:54:49.525484Z"
    }
   },
   "outputs": [],
   "source": [
    "X_.shape"
   ]
  },
  {
   "cell_type": "code",
   "execution_count": null,
   "metadata": {
    "ExecuteTime": {
     "end_time": "2018-10-01T03:42:56.630908Z",
     "start_time": "2018-10-01T03:41:18.825089Z"
    },
    "scrolled": false
   },
   "outputs": [],
   "source": [
    "cls = label_propagation.LabelSpreading(max_iter=100, kernel='rbf', gamma=0.1)\n",
    "cls.fit(X_[:10000], Y_train[:10000])\n",
    "print(\"Accuracy:%f\" % cls.score(X_[unlabeled_index], Y[unlabeled_index]))"
   ]
  },
  {
   "cell_type": "code",
   "execution_count": null,
   "metadata": {
    "ExecuteTime": {
     "end_time": "2018-10-01T04:00:20.639050Z",
     "start_time": "2018-10-01T04:00:17.583200Z"
    }
   },
   "outputs": [],
   "source": [
    "# 设置birch函数\n",
    "birch = Birch(n_clusters=10)\n",
    "# 训练数据\n",
    "y_pred = birch.fit_predict(X_)"
   ]
  },
  {
   "cell_type": "code",
   "execution_count": null,
   "metadata": {
    "ExecuteTime": {
     "end_time": "2018-10-01T08:26:17.995627Z",
     "start_time": "2018-10-01T08:26:17.989675Z"
    }
   },
   "outputs": [],
   "source": [
    "batch_size = 32\n"
   ]
  },
  {
   "cell_type": "code",
   "execution_count": null,
   "metadata": {
    "ExecuteTime": {
     "end_time": "2018-10-01T04:10:57.658502Z",
     "start_time": "2018-10-01T04:10:54.324359Z"
    }
   },
   "outputs": [],
   "source": [
    "kmeans = MiniBatchKMeans(n_clusters=10, random_state=rng, verbose=True)\n",
    "##训练数据\n",
    "y_pred = kmeans.fit(X_)"
   ]
  },
  {
   "cell_type": "code",
   "execution_count": null,
   "metadata": {
    "ExecuteTime": {
     "end_time": "2018-10-01T04:11:09.523815Z",
     "start_time": "2018-10-01T04:11:09.517838Z"
    }
   },
   "outputs": [],
   "source": [
    "np.unique(y_pred.labels_)"
   ]
  },
  {
   "cell_type": "code",
   "execution_count": 1,
   "metadata": {
    "ExecuteTime": {
     "end_time": "2018-10-01T11:43:35.102813Z",
     "start_time": "2018-10-01T11:43:34.097840Z"
    }
   },
   "outputs": [
    {
     "ename": "NameError",
     "evalue": "name 'LabelPropagation' is not defined",
     "output_type": "error",
     "traceback": [
      "\u001b[1;31m---------------------------------------------------------------------------\u001b[0m",
      "\u001b[1;31mNameError\u001b[0m                                 Traceback (most recent call last)",
      "\u001b[1;32m<ipython-input-1-010c2a7e467b>\u001b[0m in \u001b[0;36m<module>\u001b[1;34m()\u001b[0m\n\u001b[0;32m     26\u001b[0m \u001b[1;33m\u001b[0m\u001b[0m\n\u001b[0;32m     27\u001b[0m \u001b[0mX\u001b[0m\u001b[1;33m,\u001b[0m\u001b[0mY\u001b[0m\u001b[1;33m,\u001b[0m\u001b[0munlabeled_index\u001b[0m\u001b[1;33m=\u001b[0m\u001b[0mload_data\u001b[0m\u001b[1;33m(\u001b[0m\u001b[1;33m)\u001b[0m\u001b[1;33m\u001b[0m\u001b[0m\n\u001b[1;32m---> 28\u001b[1;33m \u001b[0mtest_LabelPropagation\u001b[0m\u001b[1;33m(\u001b[0m\u001b[0mX\u001b[0m\u001b[1;33m,\u001b[0m\u001b[0mY\u001b[0m\u001b[1;33m,\u001b[0m\u001b[0munlabeled_index\u001b[0m\u001b[1;33m)\u001b[0m\u001b[1;33m\u001b[0m\u001b[0m\n\u001b[0m",
      "\u001b[1;32m<ipython-input-1-010c2a7e467b>\u001b[0m in \u001b[0;36mtest_LabelPropagation\u001b[1;34m(*data)\u001b[0m\n\u001b[0;32m     21\u001b[0m     \u001b[0mY_train\u001b[0m\u001b[1;33m=\u001b[0m\u001b[0mnp\u001b[0m\u001b[1;33m.\u001b[0m\u001b[0mcopy\u001b[0m\u001b[1;33m(\u001b[0m\u001b[0mY\u001b[0m\u001b[1;33m)\u001b[0m\u001b[1;33m\u001b[0m\u001b[0m\n\u001b[0;32m     22\u001b[0m     \u001b[0mY_train\u001b[0m\u001b[1;33m[\u001b[0m\u001b[0munlabeled_index\u001b[0m\u001b[1;33m]\u001b[0m\u001b[1;33m=\u001b[0m\u001b[1;33m-\u001b[0m\u001b[1;36m1\u001b[0m\u001b[1;33m\u001b[0m\u001b[0m\n\u001b[1;32m---> 23\u001b[1;33m     \u001b[0mcls\u001b[0m\u001b[1;33m=\u001b[0m\u001b[0mLabelPropagation\u001b[0m\u001b[1;33m(\u001b[0m\u001b[0mmax_iter\u001b[0m\u001b[1;33m=\u001b[0m\u001b[1;36m100\u001b[0m\u001b[1;33m,\u001b[0m\u001b[0mkernel\u001b[0m\u001b[1;33m=\u001b[0m\u001b[1;34m'rbf'\u001b[0m\u001b[1;33m,\u001b[0m\u001b[0mgamma\u001b[0m\u001b[1;33m=\u001b[0m\u001b[1;36m0.1\u001b[0m\u001b[1;33m)\u001b[0m\u001b[1;33m\u001b[0m\u001b[0m\n\u001b[0m\u001b[0;32m     24\u001b[0m     \u001b[0mcls\u001b[0m\u001b[1;33m.\u001b[0m\u001b[0mfit\u001b[0m\u001b[1;33m(\u001b[0m\u001b[0mX\u001b[0m\u001b[1;33m,\u001b[0m\u001b[0mY_train\u001b[0m\u001b[1;33m)\u001b[0m\u001b[1;33m\u001b[0m\u001b[0m\n\u001b[0;32m     25\u001b[0m     \u001b[0mprint\u001b[0m\u001b[1;33m(\u001b[0m\u001b[1;34m\"Accuracy:%f\"\u001b[0m\u001b[1;33m%\u001b[0m\u001b[0mcls\u001b[0m\u001b[1;33m.\u001b[0m\u001b[0mscore\u001b[0m\u001b[1;33m(\u001b[0m\u001b[0mX\u001b[0m\u001b[1;33m[\u001b[0m\u001b[0munlabeled_index\u001b[0m\u001b[1;33m]\u001b[0m\u001b[1;33m,\u001b[0m\u001b[0mY\u001b[0m\u001b[1;33m[\u001b[0m\u001b[0munlabeled_index\u001b[0m\u001b[1;33m]\u001b[0m\u001b[1;33m)\u001b[0m\u001b[1;33m)\u001b[0m\u001b[1;33m\u001b[0m\u001b[0m\n",
      "\u001b[1;31mNameError\u001b[0m: name 'LabelPropagation' is not defined"
     ]
    }
   ],
   "source": [
    "import numpy as np\n",
    "import matplotlib.pyplot as plt\n",
    "from sklearn import metrics\n",
    "from sklearn import datasets\n",
    "\n",
    "\n",
    "def load_data():\n",
    "    digits=datasets.load_digits()\n",
    "    rng=np.random.RandomState(0)\n",
    "    index=np.arange(len(digits.data))\n",
    "    rng.shuffle(index)\n",
    "    X=digits.data[index]\n",
    "    Y=digits.target[index]\n",
    "    n_labeled_points=int(len(Y)/10)\n",
    "    unlabeled_index=np.arange(len(Y))[n_labeled_points:]\n",
    "\n",
    "    return X,Y,unlabeled_index\n",
    "\n",
    "def test_LabelPropagation(*data):\n",
    "    X,Y,unlabeled_index=data\n",
    "    Y_train=np.copy(Y)\n",
    "    Y_train[unlabeled_index]=-1\n",
    "    cls=LabelPropagation(max_iter=100,kernel='rbf',gamma=0.1)\n",
    "    cls.fit(X,Y_train)\n",
    "    print(\"Accuracy:%f\"%cls.score(X[unlabeled_index],Y[unlabeled_index]))\n",
    "\n",
    "X,Y,unlabeled_index=load_data()\n",
    "test_LabelPropagation(X,Y,unlabeled_index)"
   ]
  },
  {
   "cell_type": "code",
   "execution_count": null,
   "metadata": {},
   "outputs": [],
   "source": [
    "\n",
    "n_total_samples = len(y)\n",
    "n_labeled_points = 10\n",
    "max_iterations = 5\n",
    "\n",
    "unlabeled_indices = np.arange(n_total_samples)[n_labeled_points:]\n",
    "f = plt.figure()\n",
    "\n",
    "for i in range(max_iterations):\n",
    "    if len(unlabeled_indices) == 0:\n",
    "        print(\"No unlabeled items left to label.\")\n",
    "        break\n",
    "    y_train = np.copy(y)\n",
    "    y_train[unlabeled_indices] = -1\n",
    "\n",
    "    lp_model = label_propagation.LabelSpreading(gamma=0.25, max_iter=5)\n",
    "    lp_model.fit(X, y_train)\n",
    "\n",
    "    predicted_labels = lp_model.transduction_[unlabeled_indices]\n",
    "    true_labels = y[unlabeled_indices]\n",
    "\n",
    "    cm = confusion_matrix(true_labels, predicted_labels,\n",
    "                          labels=lp_model.classes_)\n",
    "\n",
    "    print(\"Iteration %i %s\" % (i, 70 * \"_\"))\n",
    "    print(\"Label Spreading model: %d labeled & %d unlabeled (%d total)\"\n",
    "          % (n_labeled_points, n_total_samples - n_labeled_points, n_total_samples))\n",
    "\n",
    "    print(classification_report(true_labels, predicted_labels))\n",
    "\n",
    "    print(\"Confusion matrix\")\n",
    "    print(cm)\n",
    "\n",
    "    # compute the entropies of transduced label distributions\n",
    "    pred_entropies = stats.distributions.entropy(\n",
    "        lp_model.label_distributions_.T)\n",
    "\n",
    "    # select up to 5 digit examples that the classifier is most uncertain about\n",
    "    uncertainty_index = np.argsort(pred_entropies)[::-1]\n",
    "    uncertainty_index = uncertainty_index[\n",
    "        np.in1d(uncertainty_index, unlabeled_indices)][:5]\n",
    "\n",
    "    # keep track of indices that we get labels for\n",
    "    delete_indices = np.array([])\n",
    "\n",
    "    # for more than 5 iterations, visualize the gain only on the first 5\n",
    "    if i < 5:\n",
    "        f.text(.05, (1 - (i + 1) * .183),\n",
    "               \"model %d\\n\\nfit with\\n%d labels\" %\n",
    "               ((i + 1), i * 5 + 10), size=10)\n",
    "    for index, image_index in enumerate(uncertainty_index):\n",
    "        image = images[image_index]\n",
    "\n",
    "        # for more than 5 iterations, visualize the gain only on the first 5\n",
    "        if i < 5:\n",
    "            sub = f.add_subplot(5, 5, index + 1 + (5 * i))\n",
    "            sub.imshow(image, cmap=plt.cm.gray_r)\n",
    "            sub.set_title(\"predict: %i\\ntrue: %i\" % (\n",
    "                lp_model.transduction_[image_index], y[image_index]), size=10)\n",
    "            sub.axis('off')\n",
    "\n",
    "        # labeling 5 points, remote from labeled set\n",
    "        delete_index, = np.where(unlabeled_indices == image_index)\n",
    "        delete_indices = np.concatenate((delete_indices, delete_index))\n",
    "\n",
    "    unlabeled_indices = np.delete(unlabeled_indices, delete_indices)\n",
    "    n_labeled_points += len(uncertainty_index)\n",
    "\n",
    "f.suptitle(\"Active learning with Label Propagation.\\nRows show 5 most \"\n",
    "           \"uncertain labels to learn with the next model.\")\n",
    "plt.subplots_adjust(0.12, 0.03, 0.9, 0.8, 0.2, 0.45)\n",
    "plt.show()"
   ]
  }
 ],
 "metadata": {
  "kernelspec": {
   "display_name": "Python [conda env:Anaconda3]",
   "language": "python",
   "name": "conda-env-Anaconda3-py"
  },
  "language_info": {
   "codemirror_mode": {
    "name": "ipython",
    "version": 3
   },
   "file_extension": ".py",
   "mimetype": "text/x-python",
   "name": "python",
   "nbconvert_exporter": "python",
   "pygments_lexer": "ipython3",
   "version": "3.6.5"
  },
  "latex_envs": {
   "LaTeX_envs_menu_present": true,
   "autoclose": false,
   "autocomplete": true,
   "bibliofile": "biblio.bib",
   "cite_by": "apalike",
   "current_citInitial": 1,
   "eqLabelWithNumbers": true,
   "eqNumInitial": 1,
   "hotkeys": {
    "equation": "Ctrl-E",
    "itemize": "Ctrl-I"
   },
   "labels_anchors": false,
   "latex_user_defs": false,
   "report_style_numbering": false,
   "user_envs_cfg": false
  },
  "nbTranslate": {
   "displayLangs": [
    "*"
   ],
   "hotkey": "alt-t",
   "langInMainMenu": true,
   "sourceLang": "en",
   "targetLang": "fr",
   "useGoogleTranslate": true
  },
  "toc": {
   "base_numbering": 1,
   "nav_menu": {},
   "number_sections": true,
   "sideBar": true,
   "skip_h1_title": false,
   "title_cell": "Table of Contents",
   "title_sidebar": "Contents",
   "toc_cell": false,
   "toc_position": {},
   "toc_section_display": true,
   "toc_window_display": false
  },
  "varInspector": {
   "cols": {
    "lenName": 16,
    "lenType": 16,
    "lenVar": 40
   },
   "kernels_config": {
    "python": {
     "delete_cmd_postfix": "",
     "delete_cmd_prefix": "del ",
     "library": "var_list.py",
     "varRefreshCmd": "print(var_dic_list())"
    },
    "r": {
     "delete_cmd_postfix": ") ",
     "delete_cmd_prefix": "rm(",
     "library": "var_list.r",
     "varRefreshCmd": "cat(var_dic_list()) "
    }
   },
   "types_to_exclude": [
    "module",
    "function",
    "builtin_function_or_method",
    "instance",
    "_Feature"
   ],
   "window_display": false
  }
 },
 "nbformat": 4,
 "nbformat_minor": 1
}
