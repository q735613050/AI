{
 "cells": [
  {
   "cell_type": "code",
   "execution_count": 1,
   "metadata": {
    "ExecuteTime": {
     "end_time": "2018-10-10T04:01:36.407269Z",
     "start_time": "2018-10-10T04:01:16.282939Z"
    },
    "scrolled": true
   },
   "outputs": [
    {
     "name": "stderr",
     "output_type": "stream",
     "text": [
      "C:\\ProgramData\\Anaconda3\\lib\\site-packages\\h5py\\__init__.py:36: FutureWarning: Conversion of the second argument of issubdtype from `float` to `np.floating` is deprecated. In future, it will be treated as `np.float64 == np.dtype(float).type`.\n",
      "  from ._conv import register_converters as _register_converters\n"
     ]
    }
   ],
   "source": [
    "import sys\n",
    "sys.path.append('E:/zlab/')\n",
    "from loader import Loader\n",
    "from xtrain import XModel, Bunch\n",
    "# ----------------\n",
    "\n",
    "import time\n",
    "import numpy as np\n",
    "import pandas as pd\n",
    "from sklearn.model_selection import train_test_split\n",
    "\n",
    "import tables as tb\n",
    "import mxnet as mx\n",
    "from mxnet import nd, autograd, gluon\n",
    "import gluonbook as gb\n",
    "from mxnet import gluon, init, nd\n",
    "from mxnet.gluon import data as gdata, loss as gloss, model_zoo, nn\n",
    "from mxboard import SummaryWriter"
   ]
  },
  {
   "cell_type": "markdown",
   "metadata": {},
   "source": [
    "# 载入数据"
   ]
  },
  {
   "cell_type": "code",
   "execution_count": 2,
   "metadata": {
    "ExecuteTime": {
     "end_time": "2018-10-10T04:01:36.433029Z",
     "start_time": "2018-10-10T04:01:36.428018Z"
    }
   },
   "outputs": [],
   "source": [
    "import tables as tb\n",
    "\n",
    "h5 = tb.open_file('E:/xdata/X.h5')\n",
    "#h5 = tb.open_file('./X.h5')\n",
    "\n",
    "data = h5.root.cifar10"
   ]
  },
  {
   "cell_type": "markdown",
   "metadata": {},
   "source": [
    "## 划分数据集"
   ]
  },
  {
   "cell_type": "code",
   "execution_count": 3,
   "metadata": {
    "ExecuteTime": {
     "end_time": "2018-10-10T04:01:36.799023Z",
     "start_time": "2018-10-10T04:01:36.473897Z"
    },
    "scrolled": true
   },
   "outputs": [],
   "source": [
    "from sklearn.model_selection import train_test_split\n",
    "\n",
    "X = data.trainX[:]\n",
    "y = data.trainY[:]\n",
    "X_train, X_unlabel, y_train, y_unlabel = train_test_split(\n",
    "    X, y, test_size=0.98, random_state=42)\n",
    "\n",
    "batch_size = 32\n",
    "trainset = Loader(batch_size, X_train, y_train, shuffle=True, name='train')\n",
    "testset = Loader(\n",
    "    batch_size, data.testX, data.testY, shuffle=False, name='test')\n",
    "unlabelset = Loader(\n",
    "    batch_size,\n",
    "    X_unlabel[:10000],\n",
    "    y_unlabel[:10000],\n",
    "    shuffle=False,\n",
    "    name='agent')"
   ]
  },
  {
   "cell_type": "raw",
   "metadata": {
    "ExecuteTime": {
     "end_time": "2018-10-08T02:12:57.339044Z",
     "start_time": "2018-10-08T02:12:56.491269Z"
    },
    "scrolled": true
   },
   "source": [
    "for imgs, labels in iter(trainset):\n",
    "    trainset.show_imgs(data.label_names, imgs.astype(np.uint8), labels)\n",
    "    break"
   ]
  },
  {
   "cell_type": "markdown",
   "metadata": {},
   "source": [
    "# 模型的配置"
   ]
  },
  {
   "cell_type": "code",
   "execution_count": 8,
   "metadata": {
    "ExecuteTime": {
     "end_time": "2018-10-10T04:03:18.305947Z",
     "start_time": "2018-10-10T04:03:17.917977Z"
    }
   },
   "outputs": [],
   "source": [
    "class SemiModel(nn.HybridBlock):\n",
    "    def __init__(self, features, **kwargs):\n",
    "        super().__init__(**kwargs)\n",
    "        self.features = features\n",
    "        self.output = nn.Dense(10)\n",
    "        \n",
    "    def hybrid_forward(self, F, x):\n",
    "        x = self.features(x)\n",
    "        return self.output(x)\n",
    "\n",
    "pretrain_net = model_zoo.vision.resnet50_v2(pretrained=False)\n",
    "net = SemiModel(pretrain_net.features)\n",
    "\n",
    "# 网络预设\n",
    "_net = model_zoo.vision.resnet50_v2(pretrained=True)\n",
    "net.features = _net.features\n",
    "#net.features.add(nn.Flatten())\n",
    "#net.features[-1].initialize(init.Xavier(magnitude=0.24))\n",
    "net.output.initialize(init.Xavier(magnitude=0.24))"
   ]
  },
  {
   "cell_type": "markdown",
   "metadata": {},
   "source": [
    "# 模型超参数设定"
   ]
  },
  {
   "cell_type": "code",
   "execution_count": 9,
   "metadata": {
    "ExecuteTime": {
     "end_time": "2018-10-10T04:03:22.408969Z",
     "start_time": "2018-10-10T04:03:22.036961Z"
    }
   },
   "outputs": [
    {
     "name": "stdout",
     "output_type": "stream",
     "text": [
      "training on gpu(0)\n"
     ]
    }
   ],
   "source": [
    "model = XModel(learning_rate = 0.1)\n",
    "ctx = model.ctx\n",
    "print('training on', ctx)\n",
    "net.collect_params().reset_ctx(ctx)\n",
    "net.hybridize()"
   ]
  },
  {
   "cell_type": "markdown",
   "metadata": {},
   "source": [
    "# 数据打包"
   ]
  },
  {
   "cell_type": "code",
   "execution_count": 10,
   "metadata": {
    "ExecuteTime": {
     "end_time": "2018-10-10T04:03:35.062110Z",
     "start_time": "2018-10-10T04:03:24.333849Z"
    },
    "scrolled": false
   },
   "outputs": [
    {
     "name": "stdout",
     "output_type": "stream",
     "text": [
      "微调前的预测精度:  0.0973\n"
     ]
    }
   ],
   "source": [
    "dataset = Bunch(0.025, ctx, batch_size, trainset, unlabelset)"
   ]
  },
  {
   "cell_type": "code",
   "execution_count": 11,
   "metadata": {
    "ExecuteTime": {
     "end_time": "2018-10-10T04:04:03.436886Z",
     "start_time": "2018-10-10T04:03:38.271527Z"
    }
   },
   "outputs": [
    {
     "name": "stdout",
     "output_type": "stream",
     "text": [
      "微调前的预测精度:  0.0973\n",
      "微调后的预测精度:  0.0973\n"
     ]
    }
   ],
   "source": [
    "y_pre = dataset.y_hats\n",
    "dataset.agent(net)\n",
    "y_back = dataset.y_hats"
   ]
  },
  {
   "cell_type": "markdown",
   "metadata": {},
   "source": [
    "# 训练和调优"
   ]
  },
  {
   "cell_type": "code",
   "execution_count": null,
   "metadata": {
    "ExecuteTime": {
     "end_time": "2018-10-08T03:11:26.394484Z",
     "start_time": "2018-10-08T03:10:19.153999Z"
    },
    "scrolled": false
   },
   "outputs": [],
   "source": [
    "logdir = 'D:/graph/'\n",
    "sw = SummaryWriter(logdir, flush_secs=5)  # 可视化\n",
    "\n",
    "epoch = 1\n",
    "while epoch < 1000:\n",
    "    print('微调有标签数据')\n",
    "    print('~_~' * 25)\n",
    "    sw.add_scalar('accuracy_curves',\n",
    "                  {unlabelset.name + '_SSL': dataset.agency_acc}, epoch)\n",
    "    net = model.train(net, dataset.train, testset, epochs=10, start=epoch)\n",
    "    dataset.agent(net)\n",
    "    print(unlabelset.name + '_SSL: ', dataset.agency_acc)\n",
    "    epoch += 10\n",
    "    if -1 in dataset.y_agent:\n",
    "        dataset.y_agent = y_pre\n",
    "        dataset.y_agent[dataset.y_hats != y_back] = -1 \n",
    "    else:\n",
    "        dataset.y_agent = np.ones_like(y_back)\n",
    "        dataset.y_agent[dataset.y_hats != y_pre] = -1 \n",
    "        \n",
    "    #X_u_set = Loader(batch_size,dataset.unlabel.X,dataset.y_hats,shuffle=True,name='train_agent')\n",
    "    #print('-_' * 50)\n",
    "    #print('微调带有代理标签数据')\n",
    "    #net = model.train(net, X_u_set, testset, epochs=1, start=epoch)\n",
    "    dataset.agent(net)\n",
    "    #epoch += 1"
   ]
  },
  {
   "cell_type": "code",
   "execution_count": null,
   "metadata": {},
   "outputs": [],
   "source": []
  }
 ],
 "metadata": {
  "kernelspec": {
   "display_name": "Python [default]",
   "language": "python",
   "name": "python3"
  },
  "language_info": {
   "codemirror_mode": {
    "name": "ipython",
    "version": 3
   },
   "file_extension": ".py",
   "mimetype": "text/x-python",
   "name": "python",
   "nbconvert_exporter": "python",
   "pygments_lexer": "ipython3",
   "version": "3.6.5"
  },
  "latex_envs": {
   "LaTeX_envs_menu_present": true,
   "autoclose": false,
   "autocomplete": true,
   "bibliofile": "biblio.bib",
   "cite_by": "apalike",
   "current_citInitial": 1,
   "eqLabelWithNumbers": true,
   "eqNumInitial": 1,
   "hotkeys": {
    "equation": "Ctrl-E",
    "itemize": "Ctrl-I"
   },
   "labels_anchors": false,
   "latex_user_defs": false,
   "report_style_numbering": false,
   "user_envs_cfg": false
  },
  "nbTranslate": {
   "displayLangs": [
    "*"
   ],
   "hotkey": "alt-t",
   "langInMainMenu": true,
   "sourceLang": "en",
   "targetLang": "fr",
   "useGoogleTranslate": true
  },
  "toc": {
   "base_numbering": 1,
   "nav_menu": {},
   "number_sections": true,
   "sideBar": true,
   "skip_h1_title": false,
   "title_cell": "Table of Contents",
   "title_sidebar": "Contents",
   "toc_cell": false,
   "toc_position": {},
   "toc_section_display": true,
   "toc_window_display": false
  },
  "varInspector": {
   "cols": {
    "lenName": 16,
    "lenType": 16,
    "lenVar": 40
   },
   "kernels_config": {
    "python": {
     "delete_cmd_postfix": "",
     "delete_cmd_prefix": "del ",
     "library": "var_list.py",
     "varRefreshCmd": "print(var_dic_list())"
    },
    "r": {
     "delete_cmd_postfix": ") ",
     "delete_cmd_prefix": "rm(",
     "library": "var_list.r",
     "varRefreshCmd": "cat(var_dic_list()) "
    }
   },
   "types_to_exclude": [
    "module",
    "function",
    "builtin_function_or_method",
    "instance",
    "_Feature"
   ],
   "window_display": false
  }
 },
 "nbformat": 4,
 "nbformat_minor": 2
}
