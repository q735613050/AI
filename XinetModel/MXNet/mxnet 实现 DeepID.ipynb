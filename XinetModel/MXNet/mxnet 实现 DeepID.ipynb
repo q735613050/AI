{
 "cells": [
  {
   "cell_type": "markdown",
   "metadata": {},
   "source": [
    "# [DeepID人脸识别算法之三代](http://www.cnblogs.com/mfrbuaa/p/5394742.html)"
   ]
  },
  {
   "cell_type": "code",
   "execution_count": null,
   "metadata": {},
   "outputs": [],
   "source": []
  },
  {
   "cell_type": "code",
   "execution_count": 111,
   "metadata": {
    "scrolled": true
   },
   "outputs": [
    {
     "data": {
      "text/plain": [
       "VGG(\n",
       "  (features): Sequential(\n",
       "    (0): Sequential(\n",
       "      (0): Conv2D(None -> 64, kernel_size=(3, 3), stride=(1, 1), padding=(1, 1))\n",
       "      (1): MaxPool2D(size=(2, 2), stride=(2, 2), padding=(0, 0), ceil_mode=False)\n",
       "    )\n",
       "    (1): Sequential(\n",
       "      (0): Conv2D(None -> 128, kernel_size=(3, 3), stride=(1, 1), padding=(1, 1))\n",
       "      (1): MaxPool2D(size=(2, 2), stride=(2, 2), padding=(0, 0), ceil_mode=False)\n",
       "    )\n",
       "    (2): Sequential(\n",
       "      (0): Conv2D(None -> 256, kernel_size=(3, 3), stride=(1, 1), padding=(1, 1))\n",
       "      (1): Conv2D(None -> 256, kernel_size=(3, 3), stride=(1, 1), padding=(1, 1))\n",
       "      (2): MaxPool2D(size=(2, 2), stride=(2, 2), padding=(0, 0), ceil_mode=False)\n",
       "    )\n",
       "    (3): Sequential(\n",
       "      (0): Conv2D(None -> 512, kernel_size=(3, 3), stride=(1, 1), padding=(1, 1))\n",
       "      (1): Conv2D(None -> 512, kernel_size=(3, 3), stride=(1, 1), padding=(1, 1))\n",
       "      (2): MaxPool2D(size=(2, 2), stride=(2, 2), padding=(0, 0), ceil_mode=False)\n",
       "    )\n",
       "    (4): Sequential(\n",
       "      (0): Conv2D(None -> 512, kernel_size=(3, 3), stride=(1, 1), padding=(1, 1))\n",
       "      (1): Conv2D(None -> 512, kernel_size=(3, 3), stride=(1, 1), padding=(1, 1))\n",
       "      (2): MaxPool2D(size=(2, 2), stride=(2, 2), padding=(0, 0), ceil_mode=False)\n",
       "    )\n",
       "  )\n",
       "  (dense): Sequential(\n",
       "    (0): Sequential(\n",
       "      (0): Conv2D(None -> 256, kernel_size=(1, 1), stride=(1, 1), padding=(1, 1))\n",
       "      (1): Conv2D(None -> 256, kernel_size=(1, 1), stride=(1, 1), padding=(1, 1))\n",
       "    )\n",
       "    (1): Sequential(\n",
       "      (0): Conv2D(None -> 128, kernel_size=(1, 1), stride=(1, 1), padding=(1, 1))\n",
       "    )\n",
       "    (2): GlobalAvgPool2D(size=(1, 1), stride=(1, 1), padding=(0, 0), ceil_mode=True)\n",
       "    (3): Dropout(p = 0.5, axes=())\n",
       "    (4): Dense(None -> 10, linear)\n",
       "  )\n",
       ")"
      ]
     },
     "execution_count": 111,
     "metadata": {},
     "output_type": "execute_result"
    }
   ],
   "source": [
    "import gluonbook as gb\n",
    "import numpy as np\n",
    "from mxnet import autograd, gluon, nd\n",
    "from mxnet.gluon import nn\n",
    "import mxnet as mx\n",
    "\n",
    "class VGG(nn.Block):\n",
    "    \n",
    "    def __init__(self, n_classes, **kwargs):\n",
    "        super().__init__(**kwargs)\n",
    "        self.n_classes = n_classes\n",
    "        self.conv_arch = ((1,64), (1,128), (2,256), (2,512), (2,512))\n",
    "        self.dense_arch = ((2, 256), (1, 128))\n",
    "        self._vgg_dense()\n",
    "        \n",
    "    def _vgg_block(self, num_convs, num_channels):\n",
    "        blk = nn.Sequential()\n",
    "        for _ in range(num_convs):\n",
    "            blk.add(nn.Conv2D(num_channels, kernel_size=3, padding=1, activation='relu'))\n",
    "        blk.add(nn.MaxPool2D(pool_size=2, strides=2))\n",
    "        return blk\n",
    "    \n",
    "    def _dense_block(self, num_convs, num_channels):\n",
    "        blk = nn.Sequential()\n",
    "        for _ in range(num_convs):\n",
    "            blk.add(nn.Conv2D(num_channels, kernel_size=1, padding=1, activation='relu'))\n",
    "        return blk\n",
    "        \n",
    "    def _vgg_dense(self):\n",
    "        # 卷积层部分\n",
    "        self.features = nn.Sequential()\n",
    "        for (num_convs, num_channels) in self.conv_arch:\n",
    "            self.features.add(self._vgg_block(num_convs, num_channels))\n",
    "        \n",
    "        self.dense = nn.Sequential()\n",
    "        for (num_convs, num_channels) in self.dense_arch:\n",
    "            self.dense.add(self._dense_block(num_convs, num_channels))\n",
    "        self.dense.add(\n",
    "            nn.GlobalAvgPool2D(),\n",
    "            nn.Dropout(.5),\n",
    "            nn.Dense(self.n_classes))\n",
    "    \n",
    "    def forward(self, x):\n",
    "        x = self.features(x)\n",
    "        x = self.dense(x)\n",
    "        return x\n",
    "\n",
    "net = VGG(10, prefix='vgg')\n",
    "\n",
    "net"
   ]
  },
  {
   "cell_type": "code",
   "execution_count": null,
   "metadata": {},
   "outputs": [],
   "source": [
    "lr = 0.05\n",
    "ctx = gb.try_gpu()\n",
    "net.initialize(ctx=ctx, init=mx.init.Xavier())\n",
    "trainer = gluon.Trainer(net.collect_params(), 'sgd', {'learning_rate': lr})\n",
    "train_data, test_data = gb.load_data_fashion_mnist(batch_size=8, resize=224)\n",
    "loss = gluon.loss.SoftmaxCrossEntropyLoss()\n",
    "gb.train(train_data, test_data, net, loss, trainer, ctx, num_epochs=3)"
   ]
  }
 ],
 "metadata": {
  "kernelspec": {
   "display_name": "Python 3",
   "language": "python",
   "name": "python3"
  },
  "language_info": {
   "codemirror_mode": {
    "name": "ipython",
    "version": 3
   },
   "file_extension": ".py",
   "mimetype": "text/x-python",
   "name": "python",
   "nbconvert_exporter": "python",
   "pygments_lexer": "ipython3",
   "version": "3.6.5"
  }
 },
 "nbformat": 4,
 "nbformat_minor": 2
}
