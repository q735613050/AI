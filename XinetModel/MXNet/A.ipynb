{
 "cells": [
  {
   "cell_type": "code",
   "execution_count": 2,
   "metadata": {
    "ExecuteTime": {
     "end_time": "2018-09-25T12:40:38.568154Z",
     "start_time": "2018-09-25T12:40:38.562157Z"
    }
   },
   "outputs": [],
   "source": [
    "from mxnet import nd\n",
    "from mxnet.gluon import nn\n",
    "\n",
    "class MLP(nn.Block):\n",
    "    # 声明带有模型参数的层，这里我们声明了两个全链接层。\n",
    "    def __init__(self, **kwargs):\n",
    "        # 调用 MLP 父类 Block 的构造函数来进行必要的初始化。这样在构造实例时还可以指定\n",
    "        super().__init__(**kwargs)\n",
    "        self.hidden = nn.Dense(256, activation='relu')  # 隐藏层。\n",
    "        self.output = nn.Dense(10)  # 输出层。\n",
    "\n",
    "    # 定义模型的前向计算，即如何根据输入计算输出。\n",
    "    def forward(self, x):\n",
    "        return self.output(self.hidden(x))"
   ]
  },
  {
   "cell_type": "code",
   "execution_count": 3,
   "metadata": {
    "ExecuteTime": {
     "end_time": "2018-09-25T12:41:43.220204Z",
     "start_time": "2018-09-25T12:41:43.216214Z"
    }
   },
   "outputs": [],
   "source": [
    "net = MLP()"
   ]
  },
  {
   "cell_type": "markdown",
   "metadata": {},
   "source": [
    "任何事物都有一个从创建，被使用，再到消亡的过程，在程序语言面向对象编程模型中，对象也有相似的命运：创建、初始化、使用、垃圾回收，不同的阶段由不同的方法负责执行。\n",
    "\n",
    "## `__init__` 方法\n",
    "\n",
    "负责对象的初始化，系统执行该方法前，其实该对象已经存在了，要不然初始化什么东西呢？先看例子"
   ]
  },
  {
   "cell_type": "code",
   "execution_count": 9,
   "metadata": {
    "ExecuteTime": {
     "end_time": "2018-09-25T12:54:53.853825Z",
     "start_time": "2018-09-25T12:54:53.845846Z"
    }
   },
   "outputs": [
    {
     "name": "stdout",
     "output_type": "stream",
     "text": [
      "__new__ \n",
      "__init__ \n"
     ]
    },
    {
     "data": {
      "text/plain": [
       "<__main__.A at 0x2aaaa489ba8>"
      ]
     },
     "execution_count": 9,
     "metadata": {},
     "output_type": "execute_result"
    }
   ],
   "source": [
    "# class A(object): python2 必须显示地继承object\n",
    "class A:\n",
    "    def __init__(self):\n",
    "        print(\"__init__ \")\n",
    "        super().__init__()    # 或者写作 super(A, self).__init__()\n",
    "\n",
    "    def __new__(cls):\n",
    "        print(\"__new__ \")\n",
    "        return super().__new__(cls)\n",
    "\n",
    "    def __call__(self):  # 可以定义任意参数\n",
    "        print('__call__ ')\n",
    "\n",
    "\n",
    "A()"
   ]
  },
  {
   "cell_type": "markdown",
   "metadata": {},
   "source": [
    "从输出结果来看， `__new__` 方法先被调用，返回一个实例对象，接着 `__init__` 被调用。 `__call__` 方法并没有被调用，这个我们放到最后说，先来说说前面两个方法，稍微改写成："
   ]
  },
  {
   "cell_type": "code",
   "execution_count": 12,
   "metadata": {
    "ExecuteTime": {
     "end_time": "2018-09-25T12:59:57.532326Z",
     "start_time": "2018-09-25T12:59:57.528320Z"
    }
   },
   "outputs": [
    {
     "name": "stdout",
     "output_type": "stream",
     "text": [
      "__new__ \n",
      "None\n"
     ]
    }
   ],
   "source": [
    "# class A(object): python2 必须显示地继承object\n",
    "class A:\n",
    "    def __init__(self):\n",
    "        print(\"__init__ \")\n",
    "        print(self)\n",
    "        super().__init__()    # 或者写作 super(A, self).__init__()\n",
    "\n",
    "    def __new__(cls):\n",
    "        print(\"__new__ \")\n",
    "        self = super().__init__(cls)\n",
    "        print(self)\n",
    "        return self\n",
    "\n",
    "    def __call__(self):  # 可以定义任意参数\n",
    "        print('__call__ ')\n",
    "\n",
    "\n",
    "A()"
   ]
  },
  {
   "cell_type": "markdown",
   "metadata": {},
   "source": [
    "从输出结果来看，`__new__` 方法的返回值就是类的实例对象，这个实例对象会传递给 `__init__` 方法中定义的 `self` 参数，以便实例对象可以被正确地初始化。\n",
    "\n",
    "如果 `__new__` 方法不返回值（或者说返回 `None`）那么 `__init__` 将不会得到调用，这个也说得通，因为实例对象都没创建出来，调用 `init` 也没什么意义，此外，Python 还规定，`__init__` 只能返回 `None` 值，否则报错。\n",
    "\n",
    "`__init__` 方法可以用来做一些初始化工作，比如给实例对象的状态进行初始化："
   ]
  },
  {
   "cell_type": "code",
   "execution_count": 19,
   "metadata": {
    "ExecuteTime": {
     "end_time": "2018-09-25T13:17:36.639377Z",
     "start_time": "2018-09-25T13:17:36.632398Z"
    }
   },
   "outputs": [
    {
     "name": "stdout",
     "output_type": "stream",
     "text": [
      "__new__ \n",
      "None\n"
     ]
    }
   ],
   "source": [
    "# class A(object): python2 必须显示地继承object\n",
    "class A:\n",
    "    def __init__(self, a, b):\n",
    "        self.a = a\n",
    "        self.b = b\n",
    "        super().__init__()\n",
    "        \n",
    "    def __new__(cls):\n",
    "        print(\"__new__ \")\n",
    "        self = super().__init__(cls)\n",
    "        print(self)\n",
    "        return self\n",
    "\n",
    "    def __call__(self):  # 可以定义任意参数\n",
    "        print('__call__ ')\n",
    "\n",
    "\n",
    "A()"
   ]
  },
  {
   "cell_type": "markdown",
   "metadata": {},
   "source": [
    "另外，`__init__` 方法中除了 `self` 之外定义的参数，都将与 `__new__` 方法中除 `cls` 参数之外的参数是必须保持一致或者等效。"
   ]
  },
  {
   "cell_type": "code",
   "execution_count": 15,
   "metadata": {
    "ExecuteTime": {
     "end_time": "2018-09-25T13:07:49.910892Z",
     "start_time": "2018-09-25T13:07:49.902913Z"
    }
   },
   "outputs": [
    {
     "name": "stdout",
     "output_type": "stream",
     "text": [
      "new (1, 2, 3) {}\n",
      "init (1, 2, 3) {}\n"
     ]
    },
    {
     "data": {
      "text/plain": [
       "<__main__.B at 0x2aaaa49b7f0>"
      ]
     },
     "execution_count": 15,
     "metadata": {},
     "output_type": "execute_result"
    }
   ],
   "source": [
    "class B:\n",
    "    def __init__(self, *args, **kwargs):\n",
    "        print(\"init\", args, kwargs)\n",
    "\n",
    "    def __new__(cls, *args, **kwargs):\n",
    "        print(\"new\", args, kwargs)\n",
    "        return super().__new__(cls)\n",
    "\n",
    "B(1, 2, 3)"
   ]
  },
  {
   "cell_type": "markdown",
   "metadata": {},
   "source": [
    "##  `__new__` 方法\n",
    "\n",
    "一般我们不会去重写该方法，除非你确切知道怎么做，什么时候你会去关心它呢，它作为构造函数用于创建对象，是一个工厂函数，专用于生产实例对象。著名的设计模式之一，单例模式，就可以通过此方法来实现。在自己写框架级的代码时，可能你会用到它，我们也可以从开源代码中找到它的应用场景，例如微型 Web 框架 Bootle 就用到了。参考：https://github.com/bottlepy/bottle/blob/release-0.6/bottle.py"
   ]
  },
  {
   "cell_type": "code",
   "execution_count": null,
   "metadata": {},
   "outputs": [],
   "source": []
  },
  {
   "cell_type": "markdown",
   "metadata": {},
   "source": [
    "## `__call__` 方法\n",
    "\n",
    "关于 `__call__` 方法，不得不先提到一个概念，就是可调用对象（callable），我们平时自定义的函数、内置函数和类都属于可调用对象，但凡是可以把一对括号 `()` 应用到某个对象身上都可称之为可调用对象，判断对象是否为可调用对象可以用函数 `callable`\n",
    "\n",
    "如果在类中实现了 `__call__` 方法，那么实例对象也将成为一个可调用对象，我们回到最开始的那个例子："
   ]
  },
  {
   "cell_type": "code",
   "execution_count": 24,
   "metadata": {
    "ExecuteTime": {
     "end_time": "2018-09-25T13:18:18.457414Z",
     "start_time": "2018-09-25T13:18:18.453399Z"
    }
   },
   "outputs": [
    {
     "name": "stdout",
     "output_type": "stream",
     "text": [
      "True\n"
     ]
    }
   ],
   "source": [
    "a = A\n",
    "print(callable(a))  # True"
   ]
  },
  {
   "cell_type": "code",
   "execution_count": 26,
   "metadata": {
    "ExecuteTime": {
     "end_time": "2018-09-25T13:19:17.545444Z",
     "start_time": "2018-09-25T13:19:17.538463Z"
    }
   },
   "outputs": [
    {
     "name": "stdout",
     "output_type": "stream",
     "text": [
      "10\n"
     ]
    }
   ],
   "source": [
    "class Counter:\n",
    "    def __init__(self, func):\n",
    "        self.func = func\n",
    "        self.count = 0\n",
    "\n",
    "    def __call__(self, *args, **kwargs):\n",
    "        self.count += 1\n",
    "        return self.func(*args, **kwargs)\n",
    "\n",
    "@Counter\n",
    "def foo():\n",
    "    pass\n",
    "\n",
    "for i in range(10):\n",
    "    foo()\n",
    "\n",
    "print(foo.count)  # 10"
   ]
  },
  {
   "cell_type": "markdown",
   "metadata": {},
   "source": [
    "我们把 Person 类变成一个可调用对象："
   ]
  },
  {
   "cell_type": "code",
   "execution_count": 29,
   "metadata": {
    "ExecuteTime": {
     "end_time": "2018-09-25T13:25:52.173580Z",
     "start_time": "2018-09-25T13:25:52.169568Z"
    }
   },
   "outputs": [],
   "source": [
    "class Person(object):\n",
    "    def __init__(self, name, gender):\n",
    "        self.name = name\n",
    "        self.gender = gender\n",
    "\n",
    "    def __call__(self, friend):\n",
    "        print('My name is %s...' % self.name)\n",
    "        print('My friend is %s...' % friend)"
   ]
  },
  {
   "cell_type": "markdown",
   "metadata": {},
   "source": [
    "现在可以对 Person 实例直接调用："
   ]
  },
  {
   "cell_type": "code",
   "execution_count": 32,
   "metadata": {
    "ExecuteTime": {
     "end_time": "2018-09-25T13:26:58.905794Z",
     "start_time": "2018-09-25T13:26:58.901836Z"
    }
   },
   "outputs": [
    {
     "name": "stdout",
     "output_type": "stream",
     "text": [
      "My name is Bob...\n",
      "My friend is Tim...\n"
     ]
    }
   ],
   "source": [
    "p = Person('Bob', 'male')\n",
    "p('Tim')"
   ]
  },
  {
   "cell_type": "markdown",
   "metadata": {},
   "source": [
    "单看 `p('Tim')` 你无法确定 `p` 是一个函数还是一个类实例，所以，在 Python 中，函数也是对象，对象和函数的区别并不显著。\n",
    "\n",
    "斐波那契数列:"
   ]
  },
  {
   "cell_type": "code",
   "execution_count": 28,
   "metadata": {
    "ExecuteTime": {
     "end_time": "2018-09-25T13:22:46.745482Z",
     "start_time": "2018-09-25T13:22:46.739494Z"
    }
   },
   "outputs": [
    {
     "name": "stdout",
     "output_type": "stream",
     "text": [
      "[0, 1, 1, 2, 3, 5, 8, 13, 21, 34]\n"
     ]
    }
   ],
   "source": [
    "class Fib(object):\n",
    "    def __init__(self):\n",
    "        pass\n",
    "\n",
    "    def __call__(self, num):\n",
    "        a, b = 0, 1\n",
    "        self.l = []\n",
    "\n",
    "        for i in range(num):\n",
    "            self.l.append(a)\n",
    "            a, b = b, a+b\n",
    "        return self.l\n",
    "\n",
    "    def __str__(self):\n",
    "        return str(self.l)\n",
    "    __rept__ = __str__\n",
    "\n",
    "\n",
    "f = Fib()\n",
    "print(f(10))"
   ]
  },
  {
   "cell_type": "code",
   "execution_count": null,
   "metadata": {},
   "outputs": [],
   "source": []
  }
 ],
 "metadata": {
  "kernelspec": {
   "display_name": "Python [conda env:Anaconda3]",
   "language": "python",
   "name": "conda-env-Anaconda3-py"
  },
  "language_info": {
   "codemirror_mode": {
    "name": "ipython",
    "version": 3
   },
   "file_extension": ".py",
   "mimetype": "text/x-python",
   "name": "python",
   "nbconvert_exporter": "python",
   "pygments_lexer": "ipython3",
   "version": "3.6.5"
  },
  "latex_envs": {
   "LaTeX_envs_menu_present": true,
   "autoclose": false,
   "autocomplete": true,
   "bibliofile": "biblio.bib",
   "cite_by": "apalike",
   "current_citInitial": 1,
   "eqLabelWithNumbers": true,
   "eqNumInitial": 1,
   "hotkeys": {
    "equation": "Ctrl-E",
    "itemize": "Ctrl-I"
   },
   "labels_anchors": false,
   "latex_user_defs": false,
   "report_style_numbering": false,
   "user_envs_cfg": false
  },
  "nbTranslate": {
   "displayLangs": [
    "*"
   ],
   "hotkey": "alt-t",
   "langInMainMenu": true,
   "sourceLang": "en",
   "targetLang": "fr",
   "useGoogleTranslate": true
  },
  "toc": {
   "base_numbering": 1,
   "nav_menu": {},
   "number_sections": true,
   "sideBar": true,
   "skip_h1_title": false,
   "title_cell": "Table of Contents",
   "title_sidebar": "Contents",
   "toc_cell": false,
   "toc_position": {},
   "toc_section_display": true,
   "toc_window_display": false
  },
  "varInspector": {
   "cols": {
    "lenName": 16,
    "lenType": 16,
    "lenVar": 40
   },
   "kernels_config": {
    "python": {
     "delete_cmd_postfix": "",
     "delete_cmd_prefix": "del ",
     "library": "var_list.py",
     "varRefreshCmd": "print(var_dic_list())"
    },
    "r": {
     "delete_cmd_postfix": ") ",
     "delete_cmd_prefix": "rm(",
     "library": "var_list.r",
     "varRefreshCmd": "cat(var_dic_list()) "
    }
   },
   "types_to_exclude": [
    "module",
    "function",
    "builtin_function_or_method",
    "instance",
    "_Feature"
   ],
   "window_display": false
  }
 },
 "nbformat": 4,
 "nbformat_minor": 2
}
