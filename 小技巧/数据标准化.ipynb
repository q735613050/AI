{
 "cells": [
  {
   "cell_type": "markdown",
   "metadata": {},
   "source": [
    "参考: [CNN 入门讲解：什么是标准化(Normalization)？](https://zhuanlan.zhihu.com/p/35597976)\n",
    "\n",
    "## min-max 标准化 (Min-max normalization)\n",
    "\n",
    "又名离差标准化,是对原始数据的线性转化,公式如下\n",
    "\n",
    "\\begin{equation*}\n",
    "x^* = \\frac{x-\\min}{\\max-\\min}\n",
    "\\end{equation*}\n",
    "\n",
    "\n",
    "- `max` : 样本最大值;\n",
    "- `min`: 样本最小值; \n",
    "\n",
    "**注意**: 当有新数据加入时需要重新进行数据归一化 \n",
    "\n",
    "## z-score 标准化 (zero-mean normalization)\n",
    "\n",
    "又名标准差标准化,归一化后的数据呈正态分布,即均值为零,标准差为一公式如下:\n",
    "\n",
    "\\begin{equation*}\n",
    "x^* = \\frac{x-\\mu}{\\sigma}\n",
    "\\end{equation*}\n",
    "\n",
    "\n",
    "其中 $\\mu$ 为所有样本数据的均值, $\\sigma$ 为所有样本数据的标准差.\n",
    "\n",
    "这对许多的算法更加有利, 但是其缺点在于假如原始数据没有呈高斯分布, 标准化的数据分布效果并不好.\n",
    "\n",
    "### Z-score 用 Python 代码实现\n",
    "\n",
    "实现时有 2 种不同的方式：\n",
    "\n",
    "- 使用 `sklearn.preprocessing.scale()`函数，直接将数据进行标准化。\n",
    "- 使用 `sklearn.preprocessing.StandardScaler` 类，其优点可以保存训练数据中的参数（均值、方差），也可以直接使用其对象转换 (`transform`) 其测试集数据。"
   ]
  },
  {
   "cell_type": "code",
   "execution_count": 3,
   "metadata": {
    "ExecuteTime": {
     "end_time": "2018-09-01T09:08:40.662274Z",
     "start_time": "2018-09-01T09:08:40.659795Z"
    }
   },
   "outputs": [],
   "source": [
    "from sklearn import preprocessing\n",
    "import numpy as np"
   ]
  },
  {
   "cell_type": "code",
   "execution_count": 4,
   "metadata": {
    "ExecuteTime": {
     "end_time": "2018-09-01T09:08:53.791414Z",
     "start_time": "2018-09-01T09:08:53.787446Z"
    }
   },
   "outputs": [],
   "source": [
    "X = np.array([[1., -1., 2.], [2., 0., 0.], [0., 1., -1.]])"
   ]
  },
  {
   "cell_type": "code",
   "execution_count": 6,
   "metadata": {
    "ExecuteTime": {
     "end_time": "2018-09-01T09:09:23.164618Z",
     "start_time": "2018-09-01T09:09:23.152715Z"
    }
   },
   "outputs": [
    {
     "data": {
      "text/plain": [
       "array([[ 0.        , -1.22474487,  1.33630621],\n",
       "       [ 1.22474487,  0.        , -0.26726124],\n",
       "       [-1.22474487,  1.22474487, -1.06904497]])"
      ]
     },
     "execution_count": 6,
     "metadata": {},
     "output_type": "execute_result"
    }
   ],
   "source": [
    "X_scaled = preprocessing.scale(X)\n",
    "X_scaled"
   ]
  },
  {
   "cell_type": "code",
   "execution_count": 7,
   "metadata": {
    "ExecuteTime": {
     "end_time": "2018-09-01T09:10:13.697608Z",
     "start_time": "2018-09-01T09:10:13.692143Z"
    }
   },
   "outputs": [
    {
     "data": {
      "text/plain": [
       "StandardScaler(copy=True, with_mean=True, with_std=True)"
      ]
     },
     "execution_count": 7,
     "metadata": {},
     "output_type": "execute_result"
    }
   ],
   "source": [
    "scaler = preprocessing.StandardScaler().fit(X)\n",
    "scaler"
   ]
  },
  {
   "cell_type": "code",
   "execution_count": 8,
   "metadata": {
    "ExecuteTime": {
     "end_time": "2018-09-01T09:53:21.958449Z",
     "start_time": "2018-09-01T09:53:21.953491Z"
    }
   },
   "outputs": [
    {
     "data": {
      "text/plain": [
       "array([1.        , 0.        , 0.33333333])"
      ]
     },
     "execution_count": 8,
     "metadata": {},
     "output_type": "execute_result"
    }
   ],
   "source": [
    "scaler.mean_"
   ]
  },
  {
   "cell_type": "code",
   "execution_count": 10,
   "metadata": {
    "ExecuteTime": {
     "end_time": "2018-09-01T09:54:08.217305Z",
     "start_time": "2018-09-01T09:54:08.212325Z"
    }
   },
   "outputs": [
    {
     "data": {
      "text/plain": [
       "array([0.81649658, 0.81649658, 1.24721913])"
      ]
     },
     "execution_count": 10,
     "metadata": {},
     "output_type": "execute_result"
    }
   ],
   "source": [
    "scaler.scale_"
   ]
  },
  {
   "cell_type": "code",
   "execution_count": 11,
   "metadata": {
    "ExecuteTime": {
     "end_time": "2018-09-01T09:54:22.805678Z",
     "start_time": "2018-09-01T09:54:22.799233Z"
    }
   },
   "outputs": [
    {
     "data": {
      "text/plain": [
       "array([[ 0.        , -1.22474487,  1.33630621],\n",
       "       [ 1.22474487,  0.        , -0.26726124],\n",
       "       [-1.22474487,  1.22474487, -1.06904497]])"
      ]
     },
     "execution_count": 11,
     "metadata": {},
     "output_type": "execute_result"
    }
   ],
   "source": [
    "scaler.transform(X)"
   ]
  },
  {
   "cell_type": "code",
   "execution_count": 12,
   "metadata": {
    "ExecuteTime": {
     "end_time": "2018-09-01T09:54:42.933078Z",
     "start_time": "2018-09-01T09:54:42.928122Z"
    }
   },
   "outputs": [
    {
     "data": {
      "text/plain": [
       "array([[-2.44948974,  1.22474487, -0.26726124]])"
      ]
     },
     "execution_count": 12,
     "metadata": {},
     "output_type": "execute_result"
    }
   ],
   "source": [
    "# 可以直接使用训练集对测试集数据进行转换\n",
    "\n",
    "scaler.transform([[-1.,  1., 0.]])"
   ]
  },
  {
   "cell_type": "markdown",
   "metadata": {},
   "source": [
    "## atan 反正切函数标准化\n",
    "\n",
    "公式如下:\n",
    "    \n",
    "\\begin{equation*}\n",
    "x^* = \\frac{2}{\\pi}atan(x)\n",
    "\\end{equation*}\n",
    "\n",
    "\n",
    "问题: 数据必须大于 $0$, 大于 $0$ 的函数将会被映射到 $[-1,0]$ 上.\n",
    "\n",
    "##  log 函数标准化\n",
    "\n",
    "公式如下:\n",
    "    \n",
    "\\begin{equation*}\n",
    "x^* = \\log_{10}(x)\n",
    "\\end{equation*}\n",
    "\n",
    "\n",
    "问题: \n",
    "    \n",
    "a. 数据必须大于等于 $1$. \n",
    "b. 如果数值大于 $10^10$, 那么映射的数据将大于 $1$. \n",
    "\n",
    "解决方案,改变公式为\n",
    "\n",
    "\\begin{equation*}\n",
    "x^* = \\log_{10}(x) / \\log_{10}(\\max) \n",
    "\\end{equation*}\n",
    "\n",
    "保证样本均映射到 $[0,1]$.\n",
    "\n",
    "标准化常用的是 Z-Score, 记住, 这是要减去自己数据的均值和除以自己的标准差.\n",
    "\n",
    "大家在用 Fine-tune pretrained model, 比如 Imagenet, 程序里面经常是减去的 Imagenet 的均值和方差, 这样是不对的, 大家在跑程序的时候要注意了.\n"
   ]
  }
 ],
 "metadata": {
  "kernelspec": {
   "display_name": "Python [conda env:Anaconda3]",
   "language": "python",
   "name": "conda-env-Anaconda3-py"
  },
  "language_info": {
   "codemirror_mode": {
    "name": "ipython",
    "version": 3
   },
   "file_extension": ".py",
   "mimetype": "text/x-python",
   "name": "python",
   "nbconvert_exporter": "python",
   "pygments_lexer": "ipython3",
   "version": "3.6.5"
  },
  "latex_envs": {
   "LaTeX_envs_menu_present": true,
   "autoclose": false,
   "autocomplete": true,
   "bibliofile": "biblio.bib",
   "cite_by": "apalike",
   "current_citInitial": 1,
   "eqLabelWithNumbers": true,
   "eqNumInitial": 1,
   "hotkeys": {
    "equation": "Ctrl-E",
    "itemize": "Ctrl-I"
   },
   "labels_anchors": false,
   "latex_user_defs": false,
   "report_style_numbering": false,
   "user_envs_cfg": false
  },
  "nbTranslate": {
   "displayLangs": [
    "*"
   ],
   "hotkey": "alt-t",
   "langInMainMenu": true,
   "sourceLang": "en",
   "targetLang": "fr",
   "useGoogleTranslate": true
  },
  "toc": {
   "base_numbering": 1,
   "nav_menu": {},
   "number_sections": true,
   "sideBar": true,
   "skip_h1_title": false,
   "title_cell": "Table of Contents",
   "title_sidebar": "Contents",
   "toc_cell": false,
   "toc_position": {},
   "toc_section_display": true,
   "toc_window_display": false
  },
  "varInspector": {
   "cols": {
    "lenName": 16,
    "lenType": 16,
    "lenVar": 40
   },
   "kernels_config": {
    "python": {
     "delete_cmd_postfix": "",
     "delete_cmd_prefix": "del ",
     "library": "var_list.py",
     "varRefreshCmd": "print(var_dic_list())"
    },
    "r": {
     "delete_cmd_postfix": ") ",
     "delete_cmd_prefix": "rm(",
     "library": "var_list.r",
     "varRefreshCmd": "cat(var_dic_list()) "
    }
   },
   "types_to_exclude": [
    "module",
    "function",
    "builtin_function_or_method",
    "instance",
    "_Feature"
   ],
   "window_display": false
  }
 },
 "nbformat": 4,
 "nbformat_minor": 2
}
