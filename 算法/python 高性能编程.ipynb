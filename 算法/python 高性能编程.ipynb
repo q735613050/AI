{
 "cells": [
  {
   "cell_type": "markdown",
   "metadata": {},
   "source": [
    "# 基本的计算机系统\n",
    "\n",
    "一台计算机的底层组件可被分为三个基本部分：计算单元，存储单元，以及两者之间的连接（通信层）。\n",
    "\n",
    "## 计算单元\n",
    "\n",
    "**计算单元**：具有将接收到的任意输入转换为输出的能力以及改变当前处理状态的能力。\n",
    "\n",
    "CPU，GPU 是最常见的计算单元。计算单元的主要属性是其每个周期能进行的操作数量（通过每周期完成的指令数（IPC）来衡量）以及每秒能够完成多少个周期（通过其时钟速度来衡量）。\n",
    "\n",
    "当时钟速度提高时，能够立即提高该计算单元上所有的程序运行速度（因为它们每秒能进行更多的运算），而提高 IPC 则在矢量计算能力上有相当程度上的影响。\n",
    "\n",
    "**矢量计算**是指一次提供多个数据给一个 CPU 并能同时被操作。这种类型的 CPU 指令被称为 **SIMD**（单指令多数据\n",
    "\n",
    "**超线程技术**为主机的操作系统（OS）虚拟了第二个 CPU，而聪明的硬件逻辑则试图将两个指令线程交错地插入单个 CPU 的执行单元。如果成功插入，能比单线程提升 $30\\%$。一般来讲，当两个线程的工作分布在不同的执行单元时，这样的效果不错——比如一个操作浮点而另一个操作整数。\n",
    "\n",
    "**乱序执行**允许编译器检测出一个线性程序中某个部分可以不依赖于之前的工作，也就是说两个工作能够以各种顺序执行或同时执行。只要两个工作的成果能够在正确的时简点上依次得到，哪怕它们的计算次序跟程序设计不同，程序也能继续正确运行。这使得当一些指令被阻塞（比如等待一次内存访问），另一些指令得以执行，以此来提升资源的利用率。\n",
    "\n",
    "阿姆达尔定律\n",
    "\n",
    "## 存储单元（用于保存比特）\n",
    "\n",
    "这些比特可能代表程序中的变量，或一副图片的像素。\n",
    "\n",
    "## 通信层\n",
    "\n",
    "总线"
   ]
  },
  {
   "cell_type": "code",
   "execution_count": 1,
   "metadata": {},
   "outputs": [],
   "source": [
    "import collections"
   ]
  },
  {
   "cell_type": "code",
   "execution_count": null,
   "metadata": {},
   "outputs": [],
   "source": [
    "collections."
   ]
  }
 ],
 "metadata": {
  "kernelspec": {
   "display_name": "Python 3",
   "language": "python",
   "name": "python3"
  },
  "language_info": {
   "codemirror_mode": {
    "name": "ipython",
    "version": 3
   },
   "file_extension": ".py",
   "mimetype": "text/x-python",
   "name": "python",
   "nbconvert_exporter": "python",
   "pygments_lexer": "ipython3",
   "version": "3.6.4"
  }
 },
 "nbformat": 4,
 "nbformat_minor": 2
}
