{
 "cells": [
  {
   "cell_type": "markdown",
   "metadata": {},
   "source": [
    "`class` 是 Python **语句**。`class` 语句是对象的创建者并且是一个隐含的赋值运算——执行时，它会产生类对象，并把引用值存储在前面所使用的变量名。\n",
    "\n",
    "# 存储数据\n",
    "\n",
    "使用类来管理数据："
   ]
  },
  {
   "cell_type": "code",
   "execution_count": 1,
   "metadata": {
    "ExecuteTime": {
     "end_time": "2018-10-30T10:25:24.045657Z",
     "start_time": "2018-10-30T10:25:24.042656Z"
    }
   },
   "outputs": [],
   "source": [
    "class SharedData:\n",
    "    spam = 42    # 由所有实例共享"
   ]
  },
  {
   "cell_type": "code",
   "execution_count": 3,
   "metadata": {
    "ExecuteTime": {
     "end_time": "2018-10-30T10:32:54.340761Z",
     "start_time": "2018-10-30T10:32:54.335742Z"
    }
   },
   "outputs": [],
   "source": [
    "# 创建两个实例\n",
    "x = SharedData()\n",
    "y = SharedData()"
   ]
  },
  {
   "cell_type": "code",
   "execution_count": 4,
   "metadata": {
    "ExecuteTime": {
     "end_time": "2018-10-30T10:33:25.739432Z",
     "start_time": "2018-10-30T10:33:25.728461Z"
    }
   },
   "outputs": [
    {
     "data": {
      "text/plain": [
       "(42, 42)"
      ]
     },
     "execution_count": 4,
     "metadata": {},
     "output_type": "execute_result"
    }
   ],
   "source": [
    "x.spam, y.spam"
   ]
  },
  {
   "cell_type": "code",
   "execution_count": 5,
   "metadata": {
    "ExecuteTime": {
     "end_time": "2018-10-30T10:33:42.052573Z",
     "start_time": "2018-10-30T10:33:42.048562Z"
    }
   },
   "outputs": [
    {
     "data": {
      "text/plain": [
       "(7, 42)"
      ]
     },
     "execution_count": 5,
     "metadata": {},
     "output_type": "execute_result"
    }
   ],
   "source": [
    "x.spam = 7     # 修改实例 x\n",
    "x.spam, y.spam   # y 没有被修改"
   ]
  },
  {
   "cell_type": "code",
   "execution_count": 7,
   "metadata": {
    "ExecuteTime": {
     "end_time": "2018-10-30T10:36:42.433132Z",
     "start_time": "2018-10-30T10:36:42.427146Z"
    }
   },
   "outputs": [
    {
     "data": {
      "text/plain": [
       "(7, 45)"
      ]
     },
     "execution_count": 7,
     "metadata": {},
     "output_type": "execute_result"
    }
   ],
   "source": [
    "SharedData.spam = 45 # 通过类修改数据\n",
    "x.spam, y.spam   # y 被修改"
   ]
  },
  {
   "cell_type": "markdown",
   "metadata": {},
   "source": [
    "如果想要同时修改 `x`、 `y`，你需要这样："
   ]
  },
  {
   "cell_type": "code",
   "execution_count": 16,
   "metadata": {
    "ExecuteTime": {
     "end_time": "2018-10-30T10:41:52.038505Z",
     "start_time": "2018-10-30T10:41:52.033493Z"
    }
   },
   "outputs": [
    {
     "data": {
      "text/plain": [
       "(45, 45)"
      ]
     },
     "execution_count": 16,
     "metadata": {},
     "output_type": "execute_result"
    }
   ],
   "source": [
    "SharedData.spam = 45\n",
    "x = SharedData()\n",
    "y = SharedData()\n",
    "x.spam, y.spam   # x, y 均被修改"
   ]
  },
  {
   "cell_type": "code",
   "execution_count": 17,
   "metadata": {
    "ExecuteTime": {
     "end_time": "2018-10-30T10:41:52.815736Z",
     "start_time": "2018-10-30T10:41:52.809757Z"
    }
   },
   "outputs": [
    {
     "data": {
      "text/plain": [
       "False"
      ]
     },
     "execution_count": 17,
     "metadata": {},
     "output_type": "execute_result"
    }
   ],
   "source": [
    "id(x) == id(y)"
   ]
  },
  {
   "cell_type": "code",
   "execution_count": 14,
   "metadata": {
    "ExecuteTime": {
     "end_time": "2018-10-30T10:41:10.389366Z",
     "start_time": "2018-10-30T10:41:10.385343Z"
    }
   },
   "outputs": [
    {
     "data": {
      "text/plain": [
       "(7, 45)"
      ]
     },
     "execution_count": 14,
     "metadata": {},
     "output_type": "execute_result"
    }
   ],
   "source": [
    "x.spam = 7     # 修改实例 x\n",
    "x.spam, y.spam   # y 没有被修改"
   ]
  },
  {
   "cell_type": "markdown",
   "metadata": {},
   "source": [
    "# 命名空间\n",
    "\n",
    "- 无点号运算的变量名（如，X）与作用域相对应\n",
    "- 点号的属性名（例如，object.X）使用的是对象的命名空间\n",
    "- 有些作用域会对对象的命名空间进行初始化（模块和类）\n",
    "\n",
    "# 类与模块\n",
    "\n",
    "- 模块\n",
    "    - 是数据/逻辑包\n",
    "    - 通过编写 Python 文件或 C 扩展来创建\n",
    "    - 通过导入来使用\n",
    "- 类\n",
    "    - 实现新的对象\n",
    "    - 由 `class` 语句创建\n",
    "    - 通过调用来使用\n",
    "    - 总是位于一个模块中\n",
    "\n",
    "# 运算符重载\n",
    "\n",
    "**运算符重载**只是意味着在类方法中**拦截**内置的操作——当类的实例出现在内置操作中，Python 自动调用你的方法，并且你的方法的返回值变成了相应操作的结果。\n",
    "\n",
    "- 运算符重载允许类拦截常规的 Python 操作。\n",
    "- 类可以重载所有 Python 表达式运算符。\n",
    "- 类还可以重载内置操作, 如打印、函数调用、属性访问等. \n",
    "- 重载使类实例的作用更类似于内置类型。\n",
    "- 通过在类中提供特殊命名的方法来实现重载\n",
    "\n",
    "## Constructors and Expressions: `__init__` and `__sub__` \n",
    "\n",
    "作为审查, 请考虑以下简单示例: 它的 **Number** 类, 编码在文件 `number.py` 中, 提供一种方法来拦截实例构造 (`__init__`), 以及一个用于捕获减法表达式 (`__sub__`)。特殊的方法, 如这些是挂钩, 让您连接到内置的操作:"
   ]
  },
  {
   "cell_type": "code",
   "execution_count": 24,
   "metadata": {
    "ExecuteTime": {
     "end_time": "2018-10-30T11:29:04.522402Z",
     "start_time": "2018-10-30T11:29:04.517441Z"
    }
   },
   "outputs": [],
   "source": [
    "# File number.py\n",
    "class Number:\n",
    "    def __init__(self, start):  # On Number(start)\n",
    "        self.data = start\n",
    "\n",
    "    def __sub__(self, other):  # On instance - other\n",
    "        return Number(self.data - other)  # Result is a new instance"
   ]
  },
  {
   "cell_type": "code",
   "execution_count": 25,
   "metadata": {
    "ExecuteTime": {
     "end_time": "2018-10-30T11:29:33.910567Z",
     "start_time": "2018-10-30T11:29:33.905572Z"
    }
   },
   "outputs": [
    {
     "data": {
      "text/plain": [
       "3"
      ]
     },
     "execution_count": 25,
     "metadata": {},
     "output_type": "execute_result"
    }
   ],
   "source": [
    "from number import Number  # Fetch class from module\n",
    "X = Number(5)  # Number.__init__(X, 5)\n",
    "Y = X - 2  # Number.__sub__(X, 2)\n",
    "Y.data  # Y is new Number instance"
   ]
  },
  {
   "cell_type": "markdown",
   "metadata": {},
   "source": [
    "\n",
    "### 常用的运算符重载方法\n",
    "\n",
    "方法|重载|调用\n",
    ":-|:-|:-\n",
    "`__init__`|Constructor，构造器| 建立对象: `X = Class(args)`\n",
    "`__del__`| Destructor，析构器| Object reclamation(回收) of X \n",
    "`__add__` |`+`| `X + Y`, `X += Y` if no `__iadd__` \n",
    "`__or__` |$\\vert$ (bitwise OR)| `X` $\\vert$ `Y`, `X` $\\vert$= `Y` if no `__ior__`\n",
    "`__repr__`, `__str__`| Printing, conversions(转换)| `print(X)`, `repr(X)`, `str(X)`\n",
    "`__call__`| Function calls(函数调用)| `X(*args, **kargs)`\n",
    "`__getattr__`| Attribute fetch(提取特征或属性) |`X.undefined`\n",
    "`__setattr__`| Attribute assignment，属性赋值 |`X.any = value`\n",
    "`__delattr__`| 属性删除| `del X.any`\n",
    "`__getattribute__`| Attribute fetch| `X.any`\n",
    "`__getitem__`| Indexing, slicing, iteration| `X[key]`, `X[i:j]`, for loops and other iterations if no `__iter__`\n",
    "`__setitem__`| Index and slice assignment| `X[key] = value`, `X[i:j] = iterable`\n",
    "`__delitem__`| Index and slice deletion| `del X[key]`, `del X[i:j]`\n",
    "`__len__`| 长度| `len(X)`, truth tests（真值测试） if no `__bool__`\n",
    "`__bool__`| Boolean tests|`bool(X)`\n",
    "`__lt__`, `__gt__`, `__le__`, `__ge__`, `__eq__`, `__ne__`| Comparisons| `X < Y`, `X > Y`, `X <= Y`, `X >= Y`, `X == Y`, `X != Y` \n",
    "`__radd__`| Right-side operators，右侧加法| `Other + X`\n",
    "`__iadd__`| In-place augmented operators，实地（增强的）加法| `X += Y` (or else `__add__`) \n",
    "`__iter__`, `__next__`| Iteration contexts| `I=iter(X)`, `next(I)`; for loops, in if no `__con tains__`, all comprehensions, map(F,X), others \n",
    "`__contains__` |Membership test，成员关系测试 |`item in X` (any iterable) \n",
    "`__index__` |Integer value| `hex(X)`, `bin(X)`, `oct(X)`, `O[X]`, `O[X:]` \n",
    "`__enter__`, `__exit__`| Context manager| `with obj as var:`\n",
    "`__get__`, `__set__`, `__delete__`| Descriptor attributes | `X.attr`, `X.attr = value`, `del X.attr`\n",
    "`__new__`| Creation | Object creation, before `__init__`\n",
    "\n",
    "# Indexing and Slicing: `__getitem__` and `__setitem__` \n",
    "\n",
    "**索引**（`__getitem__`）和**切片**（`__setitem__`）：当实例 `X` 出现 `X[i]` 这样的索引运算时，Python 会调用这个实例继承的 `__getitem__` 方法（如果有的话），把 `X` 当作第一个参数传递，并且方括号内的索引值传递给第二个参数。"
   ]
  },
  {
   "cell_type": "code",
   "execution_count": 26,
   "metadata": {
    "ExecuteTime": {
     "end_time": "2018-10-30T12:03:59.590990Z",
     "start_time": "2018-10-30T12:03:59.586003Z"
    }
   },
   "outputs": [],
   "source": [
    "class Indexer:\n",
    "    def __getitem__(self, index):\n",
    "        return index ** 2"
   ]
  },
  {
   "cell_type": "code",
   "execution_count": 27,
   "metadata": {
    "ExecuteTime": {
     "end_time": "2018-10-30T12:04:17.802444Z",
     "start_time": "2018-10-30T12:04:17.799427Z"
    }
   },
   "outputs": [],
   "source": [
    "X = Indexer()"
   ]
  },
  {
   "cell_type": "code",
   "execution_count": 28,
   "metadata": {
    "ExecuteTime": {
     "end_time": "2018-10-30T12:04:21.213548Z",
     "start_time": "2018-10-30T12:04:21.208561Z"
    }
   },
   "outputs": [
    {
     "data": {
      "text/plain": [
       "4"
      ]
     },
     "execution_count": 28,
     "metadata": {},
     "output_type": "execute_result"
    }
   ],
   "source": [
    "X[2]"
   ]
  },
  {
   "cell_type": "code",
   "execution_count": 29,
   "metadata": {
    "ExecuteTime": {
     "end_time": "2018-10-30T12:04:43.917785Z",
     "start_time": "2018-10-30T12:04:43.911801Z"
    }
   },
   "outputs": [
    {
     "name": "stdout",
     "output_type": "stream",
     "text": [
      "0 1 4 9 16 "
     ]
    }
   ],
   "source": [
    "for i in range(5):\n",
    "    print(X[i], end=' ')"
   ]
  },
  {
   "cell_type": "markdown",
   "metadata": {},
   "source": [
    "## 拦截分片\n",
    "\n",
    "`__getitem__` 也实现分片操作："
   ]
  },
  {
   "cell_type": "code",
   "execution_count": 30,
   "metadata": {
    "ExecuteTime": {
     "end_time": "2018-10-30T12:07:48.964603Z",
     "start_time": "2018-10-30T12:07:48.960619Z"
    }
   },
   "outputs": [],
   "source": [
    "L = [5, 6, 7, 8, 9] "
   ]
  },
  {
   "cell_type": "code",
   "execution_count": 33,
   "metadata": {
    "ExecuteTime": {
     "end_time": "2018-10-30T12:07:56.401413Z",
     "start_time": "2018-10-30T12:07:56.396424Z"
    }
   },
   "outputs": [
    {
     "data": {
      "text/plain": [
       "[7, 8]"
      ]
     },
     "execution_count": 33,
     "metadata": {},
     "output_type": "execute_result"
    }
   ],
   "source": [
    "L[2:4]"
   ]
  },
  {
   "cell_type": "code",
   "execution_count": 35,
   "metadata": {
    "ExecuteTime": {
     "end_time": "2018-10-30T12:08:05.903000Z",
     "start_time": "2018-10-30T12:08:05.899004Z"
    }
   },
   "outputs": [
    {
     "data": {
      "text/plain": [
       "[5, 6, 7]"
      ]
     },
     "execution_count": 35,
     "metadata": {},
     "output_type": "execute_result"
    }
   ],
   "source": [
    "L[:-2]"
   ]
  },
  {
   "cell_type": "code",
   "execution_count": 36,
   "metadata": {
    "ExecuteTime": {
     "end_time": "2018-10-30T12:08:15.907398Z",
     "start_time": "2018-10-30T12:08:15.903410Z"
    }
   },
   "outputs": [
    {
     "data": {
      "text/plain": [
       "[5, 7, 9]"
      ]
     },
     "execution_count": 36,
     "metadata": {},
     "output_type": "execute_result"
    }
   ],
   "source": [
    "L[::2]"
   ]
  },
  {
   "cell_type": "code",
   "execution_count": 37,
   "metadata": {
    "ExecuteTime": {
     "end_time": "2018-10-30T12:08:41.244957Z",
     "start_time": "2018-10-30T12:08:41.239970Z"
    }
   },
   "outputs": [
    {
     "data": {
      "text/plain": [
       "[7, 8]"
      ]
     },
     "execution_count": 37,
     "metadata": {},
     "output_type": "execute_result"
    }
   ],
   "source": [
    "L[slice(2, 4)]"
   ]
  },
  {
   "cell_type": "code",
   "execution_count": 38,
   "metadata": {
    "ExecuteTime": {
     "end_time": "2018-10-30T12:08:53.723060Z",
     "start_time": "2018-10-30T12:08:53.719065Z"
    }
   },
   "outputs": [
    {
     "data": {
      "text/plain": [
       "[6, 7, 8, 9]"
      ]
     },
     "execution_count": 38,
     "metadata": {},
     "output_type": "execute_result"
    }
   ],
   "source": [
    "L[slice(1, None)]"
   ]
  },
  {
   "cell_type": "code",
   "execution_count": 39,
   "metadata": {
    "ExecuteTime": {
     "end_time": "2018-10-30T12:09:09.347108Z",
     "start_time": "2018-10-30T12:09:09.343087Z"
    }
   },
   "outputs": [
    {
     "data": {
      "text/plain": [
       "[5, 6, 7]"
      ]
     },
     "execution_count": 39,
     "metadata": {},
     "output_type": "execute_result"
    }
   ],
   "source": [
    "L[slice(None,-2)]"
   ]
  },
  {
   "cell_type": "code",
   "execution_count": 40,
   "metadata": {
    "ExecuteTime": {
     "end_time": "2018-10-30T12:09:28.894294Z",
     "start_time": "2018-10-30T12:09:28.888311Z"
    }
   },
   "outputs": [
    {
     "data": {
      "text/plain": [
       "[5, 7, 9]"
      ]
     },
     "execution_count": 40,
     "metadata": {},
     "output_type": "execute_result"
    }
   ],
   "source": [
    "L[slice(None, None, 2)]"
   ]
  },
  {
   "cell_type": "markdown",
   "metadata": {},
   "source": [
    "重载："
   ]
  },
  {
   "cell_type": "code",
   "execution_count": 41,
   "metadata": {
    "ExecuteTime": {
     "end_time": "2018-10-30T12:10:24.156250Z",
     "start_time": "2018-10-30T12:10:24.152227Z"
    }
   },
   "outputs": [],
   "source": [
    "class Indexer:\n",
    "    data = [5, 6, 7, 8, 9]\n",
    "\n",
    "    def __getitem__(self, index):  # Called for index or slice\n",
    "        print('getitem:', index)\n",
    "        return self.data[index]  # Perform index or slice"
   ]
  },
  {
   "cell_type": "code",
   "execution_count": 42,
   "metadata": {
    "ExecuteTime": {
     "end_time": "2018-10-30T12:10:57.381057Z",
     "start_time": "2018-10-30T12:10:57.377041Z"
    }
   },
   "outputs": [],
   "source": [
    "X = Indexer() "
   ]
  },
  {
   "cell_type": "code",
   "execution_count": 43,
   "metadata": {
    "ExecuteTime": {
     "end_time": "2018-10-30T12:11:04.902522Z",
     "start_time": "2018-10-30T12:11:04.896508Z"
    }
   },
   "outputs": [
    {
     "name": "stdout",
     "output_type": "stream",
     "text": [
      "getitem: 0\n"
     ]
    },
    {
     "data": {
      "text/plain": [
       "5"
      ]
     },
     "execution_count": 43,
     "metadata": {},
     "output_type": "execute_result"
    }
   ],
   "source": [
    "X[0]"
   ]
  },
  {
   "cell_type": "code",
   "execution_count": 44,
   "metadata": {
    "ExecuteTime": {
     "end_time": "2018-10-30T12:11:13.596696Z",
     "start_time": "2018-10-30T12:11:13.590687Z"
    }
   },
   "outputs": [
    {
     "name": "stdout",
     "output_type": "stream",
     "text": [
      "getitem: 1\n"
     ]
    },
    {
     "data": {
      "text/plain": [
       "6"
      ]
     },
     "execution_count": 44,
     "metadata": {},
     "output_type": "execute_result"
    }
   ],
   "source": [
    "X[1]"
   ]
  },
  {
   "cell_type": "code",
   "execution_count": 45,
   "metadata": {
    "ExecuteTime": {
     "end_time": "2018-10-30T12:11:22.116946Z",
     "start_time": "2018-10-30T12:11:22.110997Z"
    }
   },
   "outputs": [
    {
     "name": "stdout",
     "output_type": "stream",
     "text": [
      "getitem: -1\n"
     ]
    },
    {
     "data": {
      "text/plain": [
       "9"
      ]
     },
     "execution_count": 45,
     "metadata": {},
     "output_type": "execute_result"
    }
   ],
   "source": [
    "X[-1]"
   ]
  },
  {
   "cell_type": "code",
   "execution_count": 46,
   "metadata": {
    "ExecuteTime": {
     "end_time": "2018-10-30T12:11:31.438391Z",
     "start_time": "2018-10-30T12:11:31.433384Z"
    }
   },
   "outputs": [
    {
     "name": "stdout",
     "output_type": "stream",
     "text": [
      "getitem: slice(2, 4, None)\n"
     ]
    },
    {
     "data": {
      "text/plain": [
       "[7, 8]"
      ]
     },
     "execution_count": 46,
     "metadata": {},
     "output_type": "execute_result"
    }
   ],
   "source": [
    "X[2:4]"
   ]
  },
  {
   "cell_type": "code",
   "execution_count": 47,
   "metadata": {
    "ExecuteTime": {
     "end_time": "2018-10-30T12:11:41.902184Z",
     "start_time": "2018-10-30T12:11:41.896192Z"
    }
   },
   "outputs": [
    {
     "name": "stdout",
     "output_type": "stream",
     "text": [
      "getitem: slice(None, None, 2)\n"
     ]
    },
    {
     "data": {
      "text/plain": [
       "[5, 7, 9]"
      ]
     },
     "execution_count": 47,
     "metadata": {},
     "output_type": "execute_result"
    }
   ],
   "source": [
    "X[::2]"
   ]
  },
  {
   "cell_type": "markdown",
   "metadata": {},
   "source": [
    "If used, the `__setitem__` index assignment method similarly intercepts both index and slice assignments it receives a slice object for the latter, which may be passed along in another index assignment or used directly in the same way: \n",
    "\n",
    "\n",
    "```py\n",
    "class IndexSetter:    \n",
    "    def __setitem__(self, index, value):    # Intercept index or slice assignment       \n",
    "        ...        \n",
    "        self.data[index] = value            # Assign index or slice \n",
    "```\n",
    "\n",
    "In fact,`__getitem__` may be called automatically in even more contexts than indexing and slicing—it’s also an iteration fallback option, as we’ll see in a moment.\n",
    "\n",
    "## Index Iteration: `__getitem__` "
   ]
  },
  {
   "cell_type": "code",
   "execution_count": 48,
   "metadata": {
    "ExecuteTime": {
     "end_time": "2018-10-30T12:20:20.611002Z",
     "start_time": "2018-10-30T12:20:20.607014Z"
    }
   },
   "outputs": [],
   "source": [
    "class StepperIndex:\n",
    "    def __getitem__(self, i): \n",
    "        return self.data[i]"
   ]
  },
  {
   "cell_type": "code",
   "execution_count": 49,
   "metadata": {
    "ExecuteTime": {
     "end_time": "2018-10-30T12:20:37.036861Z",
     "start_time": "2018-10-30T12:20:37.033855Z"
    }
   },
   "outputs": [],
   "source": [
    "X = StepperIndex()"
   ]
  },
  {
   "cell_type": "code",
   "execution_count": 51,
   "metadata": {
    "ExecuteTime": {
     "end_time": "2018-10-30T12:20:53.557824Z",
     "start_time": "2018-10-30T12:20:53.553808Z"
    }
   },
   "outputs": [],
   "source": [
    "X.data = 'Spam'"
   ]
  },
  {
   "cell_type": "code",
   "execution_count": 52,
   "metadata": {
    "ExecuteTime": {
     "end_time": "2018-10-30T12:21:01.195050Z",
     "start_time": "2018-10-30T12:21:01.190056Z"
    }
   },
   "outputs": [
    {
     "data": {
      "text/plain": [
       "'p'"
      ]
     },
     "execution_count": 52,
     "metadata": {},
     "output_type": "execute_result"
    }
   ],
   "source": [
    "X[1]"
   ]
  },
  {
   "cell_type": "code",
   "execution_count": 53,
   "metadata": {
    "ExecuteTime": {
     "end_time": "2018-10-30T12:21:42.922300Z",
     "start_time": "2018-10-30T12:21:42.918338Z"
    }
   },
   "outputs": [
    {
     "name": "stdout",
     "output_type": "stream",
     "text": [
      "S p a m "
     ]
    }
   ],
   "source": [
    "for item in X:\n",
    "    print(item, end=' ')"
   ]
  },
  {
   "cell_type": "code",
   "execution_count": 54,
   "metadata": {
    "ExecuteTime": {
     "end_time": "2018-10-30T12:22:21.330586Z",
     "start_time": "2018-10-30T12:22:21.326562Z"
    }
   },
   "outputs": [
    {
     "data": {
      "text/plain": [
       "True"
      ]
     },
     "execution_count": 54,
     "metadata": {},
     "output_type": "execute_result"
    }
   ],
   "source": [
    "'p' in X  # All call __getitem__ too"
   ]
  },
  {
   "cell_type": "code",
   "execution_count": 55,
   "metadata": {
    "ExecuteTime": {
     "end_time": "2018-10-30T12:22:39.174435Z",
     "start_time": "2018-10-30T12:22:39.168452Z"
    }
   },
   "outputs": [
    {
     "data": {
      "text/plain": [
       "['S', 'p', 'a', 'm']"
      ]
     },
     "execution_count": 55,
     "metadata": {},
     "output_type": "execute_result"
    }
   ],
   "source": [
    "[c for c in X]                    # List comprehension"
   ]
  },
  {
   "cell_type": "code",
   "execution_count": 56,
   "metadata": {
    "ExecuteTime": {
     "end_time": "2018-10-30T12:22:57.428062Z",
     "start_time": "2018-10-30T12:22:57.422078Z"
    }
   },
   "outputs": [
    {
     "data": {
      "text/plain": [
       "['S', 'P', 'A', 'M']"
      ]
     },
     "execution_count": 56,
     "metadata": {},
     "output_type": "execute_result"
    }
   ],
   "source": [
    "list(map(str.upper, X))           # map calls"
   ]
  },
  {
   "cell_type": "code",
   "execution_count": 59,
   "metadata": {
    "ExecuteTime": {
     "end_time": "2018-10-30T12:23:24.542929Z",
     "start_time": "2018-10-30T12:23:24.537935Z"
    }
   },
   "outputs": [
    {
     "data": {
      "text/plain": [
       "('S', 'a', 'm')"
      ]
     },
     "execution_count": 59,
     "metadata": {},
     "output_type": "execute_result"
    }
   ],
   "source": [
    "(a, b, c, d) = X  # Sequence assignments\n",
    "a, c, d "
   ]
  },
  {
   "cell_type": "code",
   "execution_count": 60,
   "metadata": {
    "ExecuteTime": {
     "end_time": "2018-10-30T12:23:35.620888Z",
     "start_time": "2018-10-30T12:23:35.614869Z"
    }
   },
   "outputs": [
    {
     "data": {
      "text/plain": [
       "(['S', 'p', 'a', 'm'], ('S', 'p', 'a', 'm'), 'Spam')"
      ]
     },
     "execution_count": 60,
     "metadata": {},
     "output_type": "execute_result"
    }
   ],
   "source": [
    "list(X), tuple(X), ''.join(X)     # And so on... "
   ]
  },
  {
   "cell_type": "code",
   "execution_count": 61,
   "metadata": {
    "ExecuteTime": {
     "end_time": "2018-10-30T12:23:44.517771Z",
     "start_time": "2018-10-30T12:23:44.512749Z"
    }
   },
   "outputs": [
    {
     "data": {
      "text/plain": [
       "<__main__.StepperIndex at 0x1c0ef8b3a20>"
      ]
     },
     "execution_count": 61,
     "metadata": {},
     "output_type": "execute_result"
    }
   ],
   "source": [
    "X"
   ]
  },
  {
   "cell_type": "markdown",
   "metadata": {},
   "source": [
    "# Iterable Objects: `__iter__` and `__next__`\n",
    "\n",
    "Python 中的所有迭代 context 都将先尝试 `__iter__` 方法, 然后再尝试 `__getitem__`。"
   ]
  },
  {
   "cell_type": "code",
   "execution_count": 62,
   "metadata": {
    "ExecuteTime": {
     "end_time": "2018-10-30T12:27:45.539268Z",
     "start_time": "2018-10-30T12:27:45.534249Z"
    }
   },
   "outputs": [],
   "source": [
    "# File squares.py\n",
    "class Squares:\n",
    "    def __init__(self, start, stop):    # Save state when created\n",
    "        self.value = start - 1\n",
    "        self.stop = stop\n",
    "\n",
    "    def __iter__(self):                 # Get iterator object on iter\n",
    "        return self\n",
    "\n",
    "    def __next__(self):                 # Return a square on each iteration\n",
    "        if self.value == self.stop:     # Also called by next built-in\n",
    "            raise StopIteration\n",
    "        self.value += 1\n",
    "        return self.value ** 2"
   ]
  },
  {
   "cell_type": "code",
   "execution_count": 63,
   "metadata": {
    "ExecuteTime": {
     "end_time": "2018-10-30T12:28:30.376630Z",
     "start_time": "2018-10-30T12:28:30.372603Z"
    },
    "scrolled": true
   },
   "outputs": [
    {
     "name": "stdout",
     "output_type": "stream",
     "text": [
      "1 4 9 16 25 "
     ]
    }
   ],
   "source": [
    "for i in Squares(1, 5):\n",
    "    print(i, end=' ')"
   ]
  },
  {
   "cell_type": "markdown",
   "metadata": {},
   "source": [
    "下面实现了跳跃迭代："
   ]
  },
  {
   "cell_type": "code",
   "execution_count": 64,
   "metadata": {
    "ExecuteTime": {
     "end_time": "2018-10-30T12:33:06.811886Z",
     "start_time": "2018-10-30T12:33:06.803871Z"
    }
   },
   "outputs": [
    {
     "name": "stdout",
     "output_type": "stream",
     "text": [
      "a c e\n",
      "aa ac ae ca cc ce ea ec ee "
     ]
    }
   ],
   "source": [
    "# File skipper.py\n",
    "class SkipObject:\n",
    "    def __init__(self, wrapped):  # Save item to be used\n",
    "        self.wrapped = wrapped\n",
    "\n",
    "    def __iter__(self):\n",
    "        return SkipIterator(self.wrapped)  # New iterator each time\n",
    "\n",
    "\n",
    "class SkipIterator:\n",
    "    def __init__(self, wrapped):\n",
    "        self.wrapped = wrapped  # Iterator state information\n",
    "        self.offset = 0\n",
    "\n",
    "    def __next__(self):\n",
    "        if self.offset >= len(self.wrapped):  # Terminate iterations\n",
    "            raise StopIteration\n",
    "        else:\n",
    "            item = self.wrapped[self.offset]  # else return and skip\n",
    "            self.offset += 2\n",
    "            return item\n",
    "\n",
    "\n",
    "if __name__ == '__main__':\n",
    "    alpha = 'abcdef'\n",
    "    skipper = SkipObject(alpha)  # Make container object\n",
    "    I = iter(skipper)  # Make an iterator on it\n",
    "    print(next(I), next(I), next(I))  # Visit offsets 0, 2, 4\n",
    "    for x in skipper:  # for calls __iter__ automatically\n",
    "        for y in skipper:  # Nested fors call __iter__ again each time\n",
    "            print(x + y, end=' ')  # Each iterator has its own state, offset"
   ]
  },
  {
   "cell_type": "markdown",
   "metadata": {},
   "source": [
    "## Coding Alternative: `__iter__` plus yield\n",
    "\n",
    "由于生成器函数会自动保存局部变量状态并创建所需的迭代器方法, 因此它们非常适合最小化用户定义的自定义迭代器的编码要求, 并补充了从类中获取的状态保留和其他实用程序。\n",
    "\n",
    "> As a review, recall that any function that contains a yield statement is turned into a generator function. When called, it returns a new generator object with automatic retention of local scope and code position, an automatically created `__iter__` method that simply returns itself, and an automatically created `__next__` method that starts the function or resumes it where it last left off: "
   ]
  },
  {
   "cell_type": "code",
   "execution_count": 65,
   "metadata": {
    "ExecuteTime": {
     "end_time": "2018-10-30T12:53:48.358874Z",
     "start_time": "2018-10-30T12:53:48.354848Z"
    }
   },
   "outputs": [],
   "source": [
    "def gen(x): \n",
    "    for i in range(x): \n",
    "        yield i ** 2"
   ]
  },
  {
   "cell_type": "code",
   "execution_count": 67,
   "metadata": {
    "ExecuteTime": {
     "end_time": "2018-10-30T12:55:24.083653Z",
     "start_time": "2018-10-30T12:55:24.078687Z"
    }
   },
   "outputs": [
    {
     "data": {
      "text/plain": [
       "True"
      ]
     },
     "execution_count": 67,
     "metadata": {},
     "output_type": "execute_result"
    }
   ],
   "source": [
    "G = gen(5)  # Create a generator with __iter__ and __next__\n",
    "G.__iter__() == G        # Both methods exist on the same object "
   ]
  },
  {
   "cell_type": "code",
   "execution_count": 69,
   "metadata": {
    "ExecuteTime": {
     "end_time": "2018-10-30T12:56:57.989387Z",
     "start_time": "2018-10-30T12:56:57.981409Z"
    }
   },
   "outputs": [
    {
     "data": {
      "text/plain": [
       "(0, 1)"
      ]
     },
     "execution_count": 69,
     "metadata": {},
     "output_type": "execute_result"
    }
   ],
   "source": [
    "I = iter(G)\n",
    "next(I), next(I) "
   ]
  },
  {
   "cell_type": "code",
   "execution_count": 70,
   "metadata": {
    "ExecuteTime": {
     "end_time": "2018-10-30T12:57:08.606731Z",
     "start_time": "2018-10-30T12:57:08.600746Z"
    }
   },
   "outputs": [
    {
     "data": {
      "text/plain": [
       "[0, 1, 4, 9, 16]"
      ]
     },
     "execution_count": 70,
     "metadata": {},
     "output_type": "execute_result"
    }
   ],
   "source": [
    "list(gen(5))"
   ]
  },
  {
   "cell_type": "markdown",
   "metadata": {},
   "source": [
    "即使具有`yield` 的生成器函数恰好是名为 `__iter__` 的方法, 这仍然是正确的: 每当迭代上下文工具调用时, 此类方法将返回具有必需 `__next__` 的新生成器对象。作为额外的奖励, 在类中编码为方法的生成器函数可以访问实例属性和局部范围变量中的已保存状态。"
   ]
  },
  {
   "cell_type": "code",
   "execution_count": 71,
   "metadata": {
    "ExecuteTime": {
     "end_time": "2018-10-30T12:59:42.256605Z",
     "start_time": "2018-10-30T12:59:42.252641Z"
    }
   },
   "outputs": [],
   "source": [
    "# File squares_yield.py\n",
    "class Squares:  # __iter__ + yield generator\n",
    "    def __init__(self, start, stop):  # __next__ is automatic/implied\n",
    "        self.start = start\n",
    "        self.stop = stop\n",
    "\n",
    "    def __iter__(self):\n",
    "        for value in range(self.start, self.stop + 1):\n",
    "            yield value**2"
   ]
  },
  {
   "cell_type": "code",
   "execution_count": 72,
   "metadata": {
    "ExecuteTime": {
     "end_time": "2018-10-30T13:00:14.689563Z",
     "start_time": "2018-10-30T13:00:14.685600Z"
    }
   },
   "outputs": [
    {
     "name": "stdout",
     "output_type": "stream",
     "text": [
      "1 4 9 16 25 "
     ]
    }
   ],
   "source": [
    "for i in Squares(1, 5):\n",
    "    print(i, end=' ')"
   ]
  },
  {
   "cell_type": "code",
   "execution_count": 73,
   "metadata": {
    "ExecuteTime": {
     "end_time": "2018-10-30T13:01:09.730390Z",
     "start_time": "2018-10-30T13:01:09.726401Z"
    }
   },
   "outputs": [
    {
     "data": {
      "text/plain": [
       "<__main__.Squares at 0x1c0ff230160>"
      ]
     },
     "execution_count": 73,
     "metadata": {},
     "output_type": "execute_result"
    }
   ],
   "source": [
    "S = Squares(1, 5)  # Runs __init__: class saves instance state\n",
    "S"
   ]
  },
  {
   "cell_type": "code",
   "execution_count": 86,
   "metadata": {
    "ExecuteTime": {
     "end_time": "2018-10-30T13:02:30.440858Z",
     "start_time": "2018-10-30T13:02:30.435873Z"
    }
   },
   "outputs": [],
   "source": [
    "I = iter(S)                # Runs __iter__: returns a generator "
   ]
  },
  {
   "cell_type": "code",
   "execution_count": 87,
   "metadata": {
    "ExecuteTime": {
     "end_time": "2018-10-30T13:02:31.088127Z",
     "start_time": "2018-10-30T13:02:31.083141Z"
    }
   },
   "outputs": [
    {
     "data": {
      "text/plain": [
       "(1, 4, 9, 16, 25)"
      ]
     },
     "execution_count": 87,
     "metadata": {},
     "output_type": "execute_result"
    }
   ],
   "source": [
    "next(I), next(I),  next(I), next(I), next(I) "
   ]
  },
  {
   "cell_type": "code",
   "execution_count": 88,
   "metadata": {
    "ExecuteTime": {
     "end_time": "2018-10-30T13:02:32.213117Z",
     "start_time": "2018-10-30T13:02:32.201150Z"
    }
   },
   "outputs": [
    {
     "ename": "StopIteration",
     "evalue": "",
     "output_type": "error",
     "traceback": [
      "\u001b[1;31m---------------------------------------------------------------------------\u001b[0m",
      "\u001b[1;31mStopIteration\u001b[0m                             Traceback (most recent call last)",
      "\u001b[1;32m<ipython-input-88-cba4a91f39e1>\u001b[0m in \u001b[0;36m<module>\u001b[1;34m()\u001b[0m\n\u001b[1;32m----> 1\u001b[1;33m \u001b[0mnext\u001b[0m\u001b[1;33m(\u001b[0m\u001b[0mI\u001b[0m\u001b[1;33m)\u001b[0m\u001b[1;33m\u001b[0m\u001b[0m\n\u001b[0m",
      "\u001b[1;31mStopIteration\u001b[0m: "
     ]
    }
   ],
   "source": [
    "next(I) "
   ]
  },
  {
   "cell_type": "markdown",
   "metadata": {},
   "source": [
    "# Membership: `__contains__`, `__iter__`, and `__getitem__`\n",
    "\n",
    "在迭代域中, 类可以使用 `__iter__` 或 `__getitem__` 方法实现 `in` 成员资格运算符作为迭代。不过, 为了支持更具体的成员身份, 类可以编写 `__contains__` 方法——当存在时, 此方法优先于 `__iter__`, `__iter__` 优于 `__getitem__`。`__contains__` 方法应将成员身份定义为应用于**映射**的键 (并且可以使用快速查找), 并作为对**序列**的搜索。"
   ]
  },
  {
   "cell_type": "code",
   "execution_count": 91,
   "metadata": {
    "ExecuteTime": {
     "end_time": "2018-10-30T13:21:16.872562Z",
     "start_time": "2018-10-30T13:21:16.864589Z"
    }
   },
   "outputs": [
    {
     "name": "stdout",
     "output_type": "stream",
     "text": [
      "get[0]:get[1]:get[2]:True\n",
      "get[0]:1 | get[1]:2 | get[2]:3 | get[3]:4 | get[4]:5 | get[5]:\n",
      "get[0]:get[1]:get[2]:get[3]:get[4]:get[5]:[1, 4, 9, 16, 25]\n",
      "get[0]:1 @ get[1]:2 @ get[2]:3 @ get[3]:4 @ get[4]:5 @ get[5]:"
     ]
    }
   ],
   "source": [
    "class Iters:\n",
    "    def __init__(self, value):\n",
    "        self.data = value\n",
    "\n",
    "    def __getitem__(self, i):  # Fallback for iteration\n",
    "        print('get[%s]:' % i, end='')  # Also for index, slice\n",
    "        return self.data[i]\n",
    "\n",
    "    def __next__(self):\n",
    "        print('next:', end='')\n",
    "        if self.ix == len(self.data):\n",
    "            raise StopIteration\n",
    "        item = self.data[self.ix]\n",
    "        self.ix += 1\n",
    "        return item\n",
    "\n",
    "\n",
    "if __name__ == '__main__':\n",
    "    X = Iters([1, 2, 3, 4, 5])  # Make instance\n",
    "    print(3 in X)  # Membership\n",
    "    for i in X:  # for loops\n",
    "        print(i, end=' | ')\n",
    "    print()\n",
    "    # Other iteration contexts    print( list(map(bin, X)) )\n",
    "    print([i**2 for i in X])\n",
    "    # Manual iteration (what other contexts do)\n",
    "    I = iter(X)\n",
    "    while True:\n",
    "        try:\n",
    "            print(next(I), end=' @ ')\n",
    "        except StopIteration:\n",
    "            break"
   ]
  },
  {
   "cell_type": "markdown",
   "metadata": {
    "ExecuteTime": {
     "end_time": "2018-10-30T13:22:11.310665Z",
     "start_time": "2018-10-30T13:22:11.305642Z"
    }
   },
   "source": [
    "可以看出上面的显示很乱，为此我们重载 `__iter__` 方法："
   ]
  },
  {
   "cell_type": "code",
   "execution_count": 97,
   "metadata": {
    "ExecuteTime": {
     "end_time": "2018-10-30T13:25:30.079932Z",
     "start_time": "2018-10-30T13:25:30.072952Z"
    }
   },
   "outputs": [
    {
     "name": "stdout",
     "output_type": "stream",
     "text": [
      "iter=> next:next:next:True\n",
      "iter=> next:1 | next:2 | next:3 | next:4 | next:5 | next:\n",
      "iter=> next:next:next:next:next:next:[1, 4, 9, 16, 25]\n",
      "iter=> next:1 @ next:2 @ next:3 @ next:4 @ next:5 @ next:"
     ]
    }
   ],
   "source": [
    "class Iters1(Iters):\n",
    "    def __iter__(self):  # Preferred for iteration\n",
    "        print('iter=> ', end='')  # Allows only one active iterator\n",
    "        self.ix = 0\n",
    "        return self\n",
    "    \n",
    "if __name__ == '__main__':\n",
    "    X = Iters1([1, 2, 3, 4, 5])  # Make instance\n",
    "    print(3 in X)  # Membership\n",
    "    for i in X:  # for loops\n",
    "        print(i, end=' | ')\n",
    "    print()\n",
    "    # Other iteration contexts    print( list(map(bin, X)) )\n",
    "    print([i**2 for i in X])\n",
    "    # Manual iteration (what other contexts do)\n",
    "    I = iter(X)\n",
    "    while True:\n",
    "        try:\n",
    "            print(next(I), end=' @ ')\n",
    "        except StopIteration:\n",
    "            break"
   ]
  },
  {
   "cell_type": "markdown",
   "metadata": {},
   "source": [
    "还可以进一步的改进："
   ]
  },
  {
   "cell_type": "code",
   "execution_count": 99,
   "metadata": {
    "ExecuteTime": {
     "end_time": "2018-10-30T13:27:24.823858Z",
     "start_time": "2018-10-30T13:27:24.814900Z"
    }
   },
   "outputs": [
    {
     "name": "stdout",
     "output_type": "stream",
     "text": [
      "contains: True\n",
      "iter=> next:1 | next:2 | next:3 | next:4 | next:5 | next:\n",
      "iter=> next:next:next:next:next:next:[1, 4, 9, 16, 25]\n",
      "iter=> next:1 @ next:2 @ next:3 @ next:4 @ next:5 @ next:"
     ]
    }
   ],
   "source": [
    "class Iters2(Iters1):\n",
    "    def __contains__(self, x):  # Preferred for 'in'\n",
    "        print('contains: ', end='')\n",
    "        return x in self.data\n",
    "\n",
    "\n",
    "if __name__ == '__main__':\n",
    "    X = Iters2([1, 2, 3, 4, 5])  # Make instance\n",
    "    print(3 in X)  # Membership\n",
    "    for i in X:  # for loops\n",
    "        print(i, end=' | ')\n",
    "    print()\n",
    "    # Other iteration contexts    print( list(map(bin, X)) )\n",
    "    print([i**2 for i in X])\n",
    "    # Manual iteration (what other contexts do)\n",
    "    I = iter(X)\n",
    "    while True:\n",
    "        try:\n",
    "            print(next(I), end=' @ ')\n",
    "        except StopIteration:\n",
    "            break"
   ]
  },
  {
   "cell_type": "markdown",
   "metadata": {},
   "source": [
    "最后我们将其合并为："
   ]
  },
  {
   "cell_type": "code",
   "execution_count": 100,
   "metadata": {
    "ExecuteTime": {
     "end_time": "2018-10-30T13:27:59.826861Z",
     "start_time": "2018-10-30T13:27:59.817886Z"
    }
   },
   "outputs": [
    {
     "name": "stdout",
     "output_type": "stream",
     "text": [
      "contains: True\n",
      "iter=> next:1 | next:2 | next:3 | next:4 | next:5 | next:\n",
      "iter=> next:next:next:next:next:next:[1, 4, 9, 16, 25]\n",
      "iter=> next:1 @ next:2 @ next:3 @ next:4 @ next:5 @ next:"
     ]
    }
   ],
   "source": [
    "class Iters:\n",
    "    def __init__(self, value):\n",
    "        self.data = value\n",
    "\n",
    "    def __getitem__(self, i):  # Fallback for iteration\n",
    "        print('get[%s]:' % i, end='')  # Also for index, slice\n",
    "        return self.data[i]\n",
    "\n",
    "    def __iter__(self):  # Preferred for iteration\n",
    "        print('iter=> ', end='')  # Allows only one active iterator\n",
    "        self.ix = 0\n",
    "        return self\n",
    "\n",
    "    def __next__(self):\n",
    "        print('next:', end='')\n",
    "        if self.ix == len(self.data):\n",
    "            raise StopIteration\n",
    "        item = self.data[self.ix]\n",
    "        self.ix += 1\n",
    "        return item\n",
    "\n",
    "    def __contains__(self, x):  # Preferred for 'in'\n",
    "        print('contains: ', end='')\n",
    "        return x in self.data\n",
    "\n",
    "\n",
    "if __name__ == '__main__':\n",
    "    X = Iters([1, 2, 3, 4, 5])  # Make instance\n",
    "    print(3 in X)  # Membership\n",
    "    for i in X:  # for loops\n",
    "        print(i, end=' | ')\n",
    "    print()\n",
    "    # Other iteration contexts    print( list(map(bin, X)) )\n",
    "    print([i**2 for i in X])\n",
    "    # Manual iteration (what other contexts do)\n",
    "    I = iter(X)\n",
    "    while True:\n",
    "        try:\n",
    "            print(next(I), end=' @ ')\n",
    "        except StopIteration:\n",
    "            break"
   ]
  },
  {
   "cell_type": "markdown",
   "metadata": {},
   "source": [
    "正如我们所看到的, `__getitem__` 方法更通用: 除了迭代, 它还截获显式索引以及切片。切片表达式使用包含边界的切片对象触发 `__getitem__`, 无论是内置类型还是用户定义类, 因此切片在我们的类中是自动的:"
   ]
  },
  {
   "cell_type": "code",
   "execution_count": 101,
   "metadata": {
    "ExecuteTime": {
     "end_time": "2018-10-30T13:30:01.162326Z",
     "start_time": "2018-10-30T13:30:01.156315Z"
    }
   },
   "outputs": [
    {
     "name": "stdout",
     "output_type": "stream",
     "text": [
      "get[0]:"
     ]
    },
    {
     "data": {
      "text/plain": [
       "'s'"
      ]
     },
     "execution_count": 101,
     "metadata": {},
     "output_type": "execute_result"
    }
   ],
   "source": [
    "X = Iters('spam')\n",
    "X[0]"
   ]
  },
  {
   "cell_type": "code",
   "execution_count": 102,
   "metadata": {
    "ExecuteTime": {
     "end_time": "2018-10-30T13:30:15.206066Z",
     "start_time": "2018-10-30T13:30:15.202059Z"
    }
   },
   "outputs": [
    {
     "data": {
      "text/plain": [
       "'pam'"
      ]
     },
     "execution_count": 102,
     "metadata": {},
     "output_type": "execute_result"
    }
   ],
   "source": [
    "'spam'[1:]"
   ]
  },
  {
   "cell_type": "code",
   "execution_count": 103,
   "metadata": {
    "ExecuteTime": {
     "end_time": "2018-10-30T13:30:33.061626Z",
     "start_time": "2018-10-30T13:30:33.057651Z"
    }
   },
   "outputs": [
    {
     "data": {
      "text/plain": [
       "'pam'"
      ]
     },
     "execution_count": 103,
     "metadata": {},
     "output_type": "execute_result"
    }
   ],
   "source": [
    "'spam'[slice(1, None)] "
   ]
  },
  {
   "cell_type": "code",
   "execution_count": 104,
   "metadata": {
    "ExecuteTime": {
     "end_time": "2018-10-30T13:30:43.874901Z",
     "start_time": "2018-10-30T13:30:43.869896Z"
    }
   },
   "outputs": [
    {
     "name": "stdout",
     "output_type": "stream",
     "text": [
      "get[slice(1, None, None)]:"
     ]
    },
    {
     "data": {
      "text/plain": [
       "'pam'"
      ]
     },
     "execution_count": 104,
     "metadata": {},
     "output_type": "execute_result"
    }
   ],
   "source": [
    "X[1:] "
   ]
  },
  {
   "cell_type": "code",
   "execution_count": 105,
   "metadata": {
    "ExecuteTime": {
     "end_time": "2018-10-30T13:30:55.204260Z",
     "start_time": "2018-10-30T13:30:55.199309Z"
    }
   },
   "outputs": [
    {
     "name": "stdout",
     "output_type": "stream",
     "text": [
      "get[slice(None, -1, None)]:"
     ]
    },
    {
     "data": {
      "text/plain": [
       "'spa'"
      ]
     },
     "execution_count": 105,
     "metadata": {},
     "output_type": "execute_result"
    }
   ],
   "source": [
    "X[:-1] "
   ]
  },
  {
   "cell_type": "code",
   "execution_count": 106,
   "metadata": {
    "ExecuteTime": {
     "end_time": "2018-10-30T13:31:05.782163Z",
     "start_time": "2018-10-30T13:31:05.776176Z"
    }
   },
   "outputs": [
    {
     "name": "stdout",
     "output_type": "stream",
     "text": [
      "iter=> next:next:next:next:next:"
     ]
    },
    {
     "data": {
      "text/plain": [
       "['s', 'p', 'a', 'm']"
      ]
     },
     "execution_count": 106,
     "metadata": {},
     "output_type": "execute_result"
    }
   ],
   "source": [
    "list(X) "
   ]
  },
  {
   "cell_type": "markdown",
   "metadata": {},
   "source": [
    "# Attribute Access: `__getattr__` and `__setattr__`\n",
    "\n",
    "`__getattr__` 方法是拦截属性点号运算的。具体地说, 对于从类创建的对象, 点运算符表达式对象. 属性也可以由代码实现, 用于引用、赋值和删除上下文。具体地说, 对于从类创建的对象, 点运算符表达式 `object.attribute` 也可以由代码实现, 用于引用、赋值和删除上下文。"
   ]
  },
  {
   "cell_type": "code",
   "execution_count": 107,
   "metadata": {
    "ExecuteTime": {
     "end_time": "2018-10-30T13:35:46.776808Z",
     "start_time": "2018-10-30T13:35:46.772831Z"
    }
   },
   "outputs": [],
   "source": [
    "class Empty:\n",
    "        def __getattr__(self, attrname):           # On self.undefined\n",
    "            if attrname == 'age':\n",
    "                return 40\n",
    "            else:\n",
    "                raise AttributeError(attrname)"
   ]
  },
  {
   "cell_type": "code",
   "execution_count": 108,
   "metadata": {
    "ExecuteTime": {
     "end_time": "2018-10-30T13:36:02.588640Z",
     "start_time": "2018-10-30T13:36:02.585615Z"
    }
   },
   "outputs": [
    {
     "data": {
      "text/plain": [
       "40"
      ]
     },
     "execution_count": 108,
     "metadata": {},
     "output_type": "execute_result"
    }
   ],
   "source": [
    "X = Empty()\n",
    "X.age"
   ]
  },
  {
   "cell_type": "markdown",
   "metadata": {
    "ExecuteTime": {
     "end_time": "2018-10-30T13:38:02.106812Z",
     "start_time": "2018-10-30T13:38:02.100794Z"
    }
   },
   "source": [
    " `age` 变成了一个 dynamically computed attribute（动态计算的属性）—its value is formed by running code, not fetching an object. \n",
    "\n",
    "- The `__getattribute__` method intercepts all attribute fetches, not just those that are undefined, but when using it you must be more cautious than with `__get attr__` to avoid loops. \n",
    "- The property built-in function allows us to associate methods with fetch and set operations on a specific class attribute. \n",
    "- *Descriptors* provide a protocol for associating `__get__` and `__set__` methods of a class with accesses to a specific class attribute. - Slots attributes are declared in classes but create implicit storage in each instance. \n",
    "\n",
    "# Call 表达式: `__call__`\n",
    "\n",
    "Python 为应用于您的实例的函数调用表达式运行 `__call__` 方法，这样可以让类实例类似于函数。"
   ]
  },
  {
   "cell_type": "code",
   "execution_count": 110,
   "metadata": {
    "ExecuteTime": {
     "end_time": "2018-10-30T13:49:00.724786Z",
     "start_time": "2018-10-30T13:49:00.720831Z"
    }
   },
   "outputs": [],
   "source": [
    "class Callee:\n",
    "    def __call__(self, *pargs, **kargs):  # Intercept instance calls\n",
    "        print('Called:', pargs, kargs)  # Accept arbitrary arguments"
   ]
  },
  {
   "cell_type": "code",
   "execution_count": 111,
   "metadata": {
    "ExecuteTime": {
     "end_time": "2018-10-30T13:49:14.921160Z",
     "start_time": "2018-10-30T13:49:14.916199Z"
    }
   },
   "outputs": [],
   "source": [
    "C = Callee()"
   ]
  },
  {
   "cell_type": "code",
   "execution_count": 112,
   "metadata": {
    "ExecuteTime": {
     "end_time": "2018-10-30T13:49:20.743672Z",
     "start_time": "2018-10-30T13:49:20.737681Z"
    }
   },
   "outputs": [
    {
     "name": "stdout",
     "output_type": "stream",
     "text": [
      "Called: (1, 2, 3) {}\n"
     ]
    }
   ],
   "source": [
    "C(1, 2, 3)"
   ]
  },
  {
   "cell_type": "code",
   "execution_count": 113,
   "metadata": {
    "ExecuteTime": {
     "end_time": "2018-10-30T13:49:47.060197Z",
     "start_time": "2018-10-30T13:49:47.056208Z"
    }
   },
   "outputs": [
    {
     "name": "stdout",
     "output_type": "stream",
     "text": [
      "Called: (1, 2, 3) {'x': 4, 'y': 5}\n"
     ]
    }
   ],
   "source": [
    "C(1, 2, 3, x=4, y=5)"
   ]
  },
  {
   "cell_type": "markdown",
   "metadata": {},
   "source": [
    "更正式的说，所有的参数传递方式，`__call__` 方法都支持："
   ]
  },
  {
   "cell_type": "code",
   "execution_count": 114,
   "metadata": {
    "ExecuteTime": {
     "end_time": "2018-10-30T13:52:12.222402Z",
     "start_time": "2018-10-30T13:52:12.217441Z"
    }
   },
   "outputs": [],
   "source": [
    "class C:\n",
    "    def __call__(self, a, b, c=5, d=6): ...        # Normals and defaults\n",
    "\n",
    "\n",
    "class C:\n",
    "    def __call__(self, *pargs, **\n",
    "                 kargs): ...       # Collect arbitrary arguments\n",
    "\n",
    "\n",
    "class C:\n",
    "    def __call__(self, *pargs, d=6, **kargs): ...  # keyword-only argument"
   ]
  },
  {
   "cell_type": "markdown",
   "metadata": {},
   "source": [
    "都匹配如下调用方式："
   ]
  },
  {
   "cell_type": "code",
   "execution_count": 115,
   "metadata": {
    "ExecuteTime": {
     "end_time": "2018-10-30T13:53:36.425270Z",
     "start_time": "2018-10-30T13:53:36.420283Z"
    }
   },
   "outputs": [],
   "source": [
    "X = C()\n",
    "X(1, 2)  # Omit defaults\n",
    "X(1, 2, 3, 4)  # Positionals\n",
    "X(a=1, b=2, d=4)  # Keywords\n",
    "X(*[1, 2], **dict(c=3, d=4))  # Unpack arbitrary arguments\n",
    "X(1, *(2, ), c=3, **dict(d=4))  # Mixed modes"
   ]
  }
 ],
 "metadata": {
  "kernelspec": {
   "display_name": "Python [conda root]",
   "language": "python",
   "name": "conda-root-py"
  },
  "language_info": {
   "codemirror_mode": {
    "name": "ipython",
    "version": 3
   },
   "file_extension": ".py",
   "mimetype": "text/x-python",
   "name": "python",
   "nbconvert_exporter": "python",
   "pygments_lexer": "ipython3",
   "version": "3.6.5"
  },
  "latex_envs": {
   "LaTeX_envs_menu_present": true,
   "autoclose": false,
   "autocomplete": true,
   "bibliofile": "biblio.bib",
   "cite_by": "apalike",
   "current_citInitial": 1,
   "eqLabelWithNumbers": true,
   "eqNumInitial": 1,
   "hotkeys": {
    "equation": "Ctrl-E",
    "itemize": "Ctrl-I"
   },
   "labels_anchors": false,
   "latex_user_defs": false,
   "report_style_numbering": false,
   "user_envs_cfg": false
  },
  "nbTranslate": {
   "displayLangs": [
    "*"
   ],
   "hotkey": "alt-t",
   "langInMainMenu": true,
   "sourceLang": "en",
   "targetLang": "fr",
   "useGoogleTranslate": true
  },
  "toc": {
   "base_numbering": 1,
   "nav_menu": {},
   "number_sections": true,
   "sideBar": true,
   "skip_h1_title": false,
   "title_cell": "Table of Contents",
   "title_sidebar": "Contents",
   "toc_cell": false,
   "toc_position": {},
   "toc_section_display": true,
   "toc_window_display": false
  },
  "varInspector": {
   "cols": {
    "lenName": 16,
    "lenType": 16,
    "lenVar": 40
   },
   "kernels_config": {
    "python": {
     "delete_cmd_postfix": "",
     "delete_cmd_prefix": "del ",
     "library": "var_list.py",
     "varRefreshCmd": "print(var_dic_list())"
    },
    "r": {
     "delete_cmd_postfix": ") ",
     "delete_cmd_prefix": "rm(",
     "library": "var_list.r",
     "varRefreshCmd": "cat(var_dic_list()) "
    }
   },
   "types_to_exclude": [
    "module",
    "function",
    "builtin_function_or_method",
    "instance",
    "_Feature"
   ],
   "window_display": false
  }
 },
 "nbformat": 4,
 "nbformat_minor": 2
}
