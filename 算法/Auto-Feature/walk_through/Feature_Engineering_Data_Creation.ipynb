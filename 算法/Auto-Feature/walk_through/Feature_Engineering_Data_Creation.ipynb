{
 "cells": [
  {
   "cell_type": "markdown",
   "metadata": {},
   "source": [
    "# Introduction: Data Creation\n",
    "\n",
    "In this notebook we create an example dataset to be used for automated feature engineering. I have included this code in the repository for posterity and because at some point it may come in use for generating additional example datasets."
   ]
  },
  {
   "cell_type": "code",
   "execution_count": 1,
   "metadata": {
    "ExecuteTime": {
     "end_time": "2018-09-06T06:53:45.946945Z",
     "start_time": "2018-09-06T06:53:45.373312Z"
    },
    "colab": {
     "autoexec": {
      "startup": false,
      "wait_interval": 0
     }
    },
    "colab_type": "code",
    "id": "TMJOuoK-3TwZ"
   },
   "outputs": [],
   "source": [
    "import pandas as pd\n",
    "import numpy as np\n",
    "\n",
    "from datetime import datetime\n",
    "import random\n",
    "\n",
    "rand_dates = []\n",
    "\n",
    "for _ in range(1000):\n",
    "    year = random.choice(range(2000, 2015))\n",
    "    month = random.choice(range(1, 13))\n",
    "    day = random.choice(range(1, 29))\n",
    "    rdate = datetime(year, month, day)\n",
    "    rand_dates.append(rdate)"
   ]
  },
  {
   "cell_type": "code",
   "execution_count": 2,
   "metadata": {
    "ExecuteTime": {
     "end_time": "2018-09-06T06:53:56.536218Z",
     "start_time": "2018-09-06T06:53:56.421171Z"
    },
    "colab": {
     "autoexec": {
      "startup": false,
      "wait_interval": 0
     }
    },
    "colab_type": "code",
    "id": "ZHbTWJ4W8aRO"
   },
   "outputs": [
    {
     "data": {
      "text/html": [
       "<div>\n",
       "<style scoped>\n",
       "    .dataframe tbody tr th:only-of-type {\n",
       "        vertical-align: middle;\n",
       "    }\n",
       "\n",
       "    .dataframe tbody tr th {\n",
       "        vertical-align: top;\n",
       "    }\n",
       "\n",
       "    .dataframe thead th {\n",
       "        text-align: right;\n",
       "    }\n",
       "</style>\n",
       "<table border=\"1\" class=\"dataframe\">\n",
       "  <thead>\n",
       "    <tr style=\"text-align: right;\">\n",
       "      <th></th>\n",
       "      <th>client_id</th>\n",
       "      <th>joined</th>\n",
       "      <th>income</th>\n",
       "      <th>credit_score</th>\n",
       "    </tr>\n",
       "  </thead>\n",
       "  <tbody>\n",
       "    <tr>\n",
       "      <th>0</th>\n",
       "      <td>25058</td>\n",
       "      <td>2000-03-22</td>\n",
       "      <td>233959</td>\n",
       "      <td>553</td>\n",
       "    </tr>\n",
       "    <tr>\n",
       "      <th>1</th>\n",
       "      <td>38445</td>\n",
       "      <td>2005-07-17</td>\n",
       "      <td>131055</td>\n",
       "      <td>508</td>\n",
       "    </tr>\n",
       "    <tr>\n",
       "      <th>2</th>\n",
       "      <td>30875</td>\n",
       "      <td>2001-01-22</td>\n",
       "      <td>207734</td>\n",
       "      <td>748</td>\n",
       "    </tr>\n",
       "    <tr>\n",
       "      <th>3</th>\n",
       "      <td>28436</td>\n",
       "      <td>2014-01-07</td>\n",
       "      <td>57889</td>\n",
       "      <td>714</td>\n",
       "    </tr>\n",
       "    <tr>\n",
       "      <th>4</th>\n",
       "      <td>28113</td>\n",
       "      <td>2002-03-16</td>\n",
       "      <td>160885</td>\n",
       "      <td>591</td>\n",
       "    </tr>\n",
       "  </tbody>\n",
       "</table>\n",
       "</div>"
      ],
      "text/plain": [
       "  client_id     joined  income credit_score\n",
       "0     25058 2000-03-22  233959          553\n",
       "1     38445 2005-07-17  131055          508\n",
       "2     30875 2001-01-22  207734          748\n",
       "3     28436 2014-01-07   57889          714\n",
       "4     28113 2002-03-16  160885          591"
      ]
     },
     "execution_count": 2,
     "metadata": {},
     "output_type": "execute_result"
    }
   ],
   "source": [
    "clients = pd.DataFrame(\n",
    "    columns=['client_id', 'joined', 'income', 'credit_score'])\n",
    "for _ in range(25):\n",
    "    clients = clients.append(\n",
    "        pd.DataFrame(\n",
    "            {\n",
    "                'client_id': np.random.randint(25000, 50000, size=1)[0],\n",
    "                'joined': random.choice(rand_dates),\n",
    "                'income': np.random.randint(30500, 240000, size=1)[0],\n",
    "                'credit_score': np.random.randint(500, 850, size=1)[0]\n",
    "            },\n",
    "            index=[0]),\n",
    "        ignore_index=True)\n",
    "\n",
    "clients.head()"
   ]
  },
  {
   "cell_type": "code",
   "execution_count": 3,
   "metadata": {
    "ExecuteTime": {
     "end_time": "2018-09-06T06:53:59.081625Z",
     "start_time": "2018-09-06T06:53:57.438161Z"
    },
    "colab": {
     "autoexec": {
      "startup": false,
      "wait_interval": 0
     }
    },
    "colab_type": "code",
    "id": "X7KOWMe19qBe"
   },
   "outputs": [],
   "source": [
    "loans = pd.DataFrame(columns=[\n",
    "    'client_id', 'loan_type', 'loan_amount', 'repaid', 'loan_id', 'loan_start',\n",
    "    'loan_end', 'rate'\n",
    "])\n",
    "\n",
    "for client in clients['client_id'].unique():\n",
    "    for _ in range(20):\n",
    "        time_created = pd.datetime(\n",
    "            np.random.randint(2000, 2015, size=1)[0],\n",
    "            np.random.randint(1, 13, size=1)[0],\n",
    "            np.random.randint(1, 30, size=1)[0])\n",
    "\n",
    "        time_ended = time_created + pd.Timedelta(\n",
    "            days=np.random.randint(500, 1000, size=1)[0])\n",
    "\n",
    "        loans = loans.append(\n",
    "            pd.DataFrame(\n",
    "                {\n",
    "                    'client_id':\n",
    "                    client,\n",
    "                    'loan_type':\n",
    "                    random.choice(['cash', 'credit', 'home', 'other']),\n",
    "                    'loan_amount':\n",
    "                    np.random.randint(500, 15000, size=1)[0],\n",
    "                    'repaid':\n",
    "                    random.choice([0, 1]),\n",
    "                    'loan_id':\n",
    "                    np.random.randint(10000, 12000, size=1)[0],\n",
    "                    'loan_start':\n",
    "                    time_created,\n",
    "                    'loan_end':\n",
    "                    time_ended,\n",
    "                    'rate':\n",
    "                    round(abs(4 * np.random.randn(1)[0]), 2)\n",
    "                },\n",
    "                index=[0]),\n",
    "            ignore_index=True)"
   ]
  },
  {
   "cell_type": "code",
   "execution_count": 4,
   "metadata": {
    "ExecuteTime": {
     "end_time": "2018-09-06T06:53:59.155312Z",
     "start_time": "2018-09-06T06:53:59.138448Z"
    },
    "colab": {
     "autoexec": {
      "startup": false,
      "wait_interval": 0
     }
    },
    "colab_type": "code",
    "id": "S691c7oN_uVh"
   },
   "outputs": [
    {
     "data": {
      "text/html": [
       "<div>\n",
       "<style scoped>\n",
       "    .dataframe tbody tr th:only-of-type {\n",
       "        vertical-align: middle;\n",
       "    }\n",
       "\n",
       "    .dataframe tbody tr th {\n",
       "        vertical-align: top;\n",
       "    }\n",
       "\n",
       "    .dataframe thead th {\n",
       "        text-align: right;\n",
       "    }\n",
       "</style>\n",
       "<table border=\"1\" class=\"dataframe\">\n",
       "  <thead>\n",
       "    <tr style=\"text-align: right;\">\n",
       "      <th></th>\n",
       "      <th>client_id</th>\n",
       "      <th>loan_type</th>\n",
       "      <th>loan_amount</th>\n",
       "      <th>repaid</th>\n",
       "      <th>loan_id</th>\n",
       "      <th>loan_start</th>\n",
       "      <th>loan_end</th>\n",
       "      <th>rate</th>\n",
       "    </tr>\n",
       "  </thead>\n",
       "  <tbody>\n",
       "    <tr>\n",
       "      <th>0</th>\n",
       "      <td>25058</td>\n",
       "      <td>home</td>\n",
       "      <td>3256</td>\n",
       "      <td>1</td>\n",
       "      <td>11044</td>\n",
       "      <td>2003-09-24</td>\n",
       "      <td>2006-05-15</td>\n",
       "      <td>9.74</td>\n",
       "    </tr>\n",
       "    <tr>\n",
       "      <th>1</th>\n",
       "      <td>25058</td>\n",
       "      <td>home</td>\n",
       "      <td>6448</td>\n",
       "      <td>1</td>\n",
       "      <td>10625</td>\n",
       "      <td>2011-01-10</td>\n",
       "      <td>2012-12-04</td>\n",
       "      <td>5.54</td>\n",
       "    </tr>\n",
       "    <tr>\n",
       "      <th>2</th>\n",
       "      <td>25058</td>\n",
       "      <td>other</td>\n",
       "      <td>9096</td>\n",
       "      <td>0</td>\n",
       "      <td>11720</td>\n",
       "      <td>2012-05-15</td>\n",
       "      <td>2015-01-26</td>\n",
       "      <td>2.50</td>\n",
       "    </tr>\n",
       "    <tr>\n",
       "      <th>3</th>\n",
       "      <td>25058</td>\n",
       "      <td>credit</td>\n",
       "      <td>3614</td>\n",
       "      <td>1</td>\n",
       "      <td>10222</td>\n",
       "      <td>2008-03-19</td>\n",
       "      <td>2009-12-13</td>\n",
       "      <td>1.13</td>\n",
       "    </tr>\n",
       "    <tr>\n",
       "      <th>4</th>\n",
       "      <td>25058</td>\n",
       "      <td>cash</td>\n",
       "      <td>1334</td>\n",
       "      <td>1</td>\n",
       "      <td>10320</td>\n",
       "      <td>2004-08-07</td>\n",
       "      <td>2006-02-03</td>\n",
       "      <td>11.25</td>\n",
       "    </tr>\n",
       "  </tbody>\n",
       "</table>\n",
       "</div>"
      ],
      "text/plain": [
       "  client_id loan_type loan_amount repaid loan_id loan_start   loan_end   rate\n",
       "0     25058      home        3256      1   11044 2003-09-24 2006-05-15   9.74\n",
       "1     25058      home        6448      1   10625 2011-01-10 2012-12-04   5.54\n",
       "2     25058     other        9096      0   11720 2012-05-15 2015-01-26   2.50\n",
       "3     25058    credit        3614      1   10222 2008-03-19 2009-12-13   1.13\n",
       "4     25058      cash        1334      1   10320 2004-08-07 2006-02-03  11.25"
      ]
     },
     "execution_count": 4,
     "metadata": {},
     "output_type": "execute_result"
    }
   ],
   "source": [
    "loans.head()"
   ]
  },
  {
   "cell_type": "code",
   "execution_count": 5,
   "metadata": {
    "colab": {
     "autoexec": {
      "startup": false,
      "wait_interval": 0
     }
    },
    "colab_type": "code",
    "id": "5CEOao2oAbco"
   },
   "outputs": [],
   "source": [
    "payments = pd.DataFrame(\n",
    "    columns=['loan_id', 'payment_amount', 'payment_date', 'missed'])\n",
    "\n",
    "for _, row in loans.iterrows():\n",
    "    time_created = row['loan_start']\n",
    "    payment_date = time_created + pd.Timedelta(days=30)\n",
    "    loan_amount = row['loan_amount']\n",
    "    loan_id = row['loan_id']\n",
    "    payment_id = np.random.randint(10000, 12000, size=1)[0]\n",
    "    for _ in range(np.random.randint(5, 10, size=1)[0]):\n",
    "        payment_id += 1\n",
    "        payment_date += pd.Timedelta(days=np.random.randint(10, 50, size=1)[0])\n",
    "        payments = payments.append(\n",
    "            pd.DataFrame(\n",
    "                {\n",
    "                    'loan_id':\n",
    "                    loan_id,\n",
    "                    'payment_amount':\n",
    "                    np.random.randint(\n",
    "                        int(loan_amount / 10), int(loan_amount / 5),\n",
    "                        size=1)[0],\n",
    "                    'payment_date':\n",
    "                    payment_date,\n",
    "                    'missed':\n",
    "                    random.choice([0, 1])\n",
    "                },\n",
    "                index=[0]),\n",
    "            ignore_index=True)"
   ]
  },
  {
   "cell_type": "code",
   "execution_count": 6,
   "metadata": {
    "colab": {
     "autoexec": {
      "startup": false,
      "wait_interval": 0
     }
    },
    "colab_type": "code",
    "id": "6rhMZtlzDKUg"
   },
   "outputs": [
    {
     "data": {
      "text/html": [
       "<div>\n",
       "<style scoped>\n",
       "    .dataframe tbody tr th:only-of-type {\n",
       "        vertical-align: middle;\n",
       "    }\n",
       "\n",
       "    .dataframe tbody tr th {\n",
       "        vertical-align: top;\n",
       "    }\n",
       "\n",
       "    .dataframe thead th {\n",
       "        text-align: right;\n",
       "    }\n",
       "</style>\n",
       "<table border=\"1\" class=\"dataframe\">\n",
       "  <thead>\n",
       "    <tr style=\"text-align: right;\">\n",
       "      <th></th>\n",
       "      <th>loan_id</th>\n",
       "      <th>payment_amount</th>\n",
       "      <th>payment_date</th>\n",
       "      <th>missed</th>\n",
       "    </tr>\n",
       "  </thead>\n",
       "  <tbody>\n",
       "    <tr>\n",
       "      <th>0</th>\n",
       "      <td>10243</td>\n",
       "      <td>2369</td>\n",
       "      <td>2002-05-31</td>\n",
       "      <td>1</td>\n",
       "    </tr>\n",
       "    <tr>\n",
       "      <th>1</th>\n",
       "      <td>10243</td>\n",
       "      <td>2439</td>\n",
       "      <td>2002-06-18</td>\n",
       "      <td>1</td>\n",
       "    </tr>\n",
       "    <tr>\n",
       "      <th>2</th>\n",
       "      <td>10243</td>\n",
       "      <td>2662</td>\n",
       "      <td>2002-06-29</td>\n",
       "      <td>0</td>\n",
       "    </tr>\n",
       "    <tr>\n",
       "      <th>3</th>\n",
       "      <td>10243</td>\n",
       "      <td>2268</td>\n",
       "      <td>2002-07-20</td>\n",
       "      <td>0</td>\n",
       "    </tr>\n",
       "    <tr>\n",
       "      <th>4</th>\n",
       "      <td>10243</td>\n",
       "      <td>2027</td>\n",
       "      <td>2002-07-31</td>\n",
       "      <td>1</td>\n",
       "    </tr>\n",
       "  </tbody>\n",
       "</table>\n",
       "</div>"
      ],
      "text/plain": [
       "  loan_id payment_amount payment_date missed\n",
       "0   10243           2369   2002-05-31      1\n",
       "1   10243           2439   2002-06-18      1\n",
       "2   10243           2662   2002-06-29      0\n",
       "3   10243           2268   2002-07-20      0\n",
       "4   10243           2027   2002-07-31      1"
      ]
     },
     "execution_count": 6,
     "metadata": {},
     "output_type": "execute_result"
    }
   ],
   "source": [
    "payments.head()"
   ]
  },
  {
   "cell_type": "code",
   "execution_count": 7,
   "metadata": {
    "colab": {
     "autoexec": {
      "startup": false,
      "wait_interval": 0
     }
    },
    "colab_type": "code",
    "id": "VQcf7a61DODf"
   },
   "outputs": [],
   "source": [
    "clients = clients.drop_duplicates(subset='client_id')\n",
    "loans = loans.drop_duplicates(subset='loan_id')\n",
    "\n",
    "clients.to_csv('clients.csv', index=False)\n",
    "loans.to_csv('loans.csv', index=False)\n",
    "payments.to_csv('payments.csv', index=False)"
   ]
  }
 ],
 "metadata": {
  "colab": {
   "default_view": {},
   "name": "Feature Engineering Data Creation.ipynb",
   "private_outputs": true,
   "provenance": [],
   "version": "0.3.2",
   "views": {}
  },
  "kernelspec": {
   "display_name": "Python [default]",
   "language": "python",
   "name": "python3"
  },
  "language_info": {
   "codemirror_mode": {
    "name": "ipython",
    "version": 3
   },
   "file_extension": ".py",
   "mimetype": "text/x-python",
   "name": "python",
   "nbconvert_exporter": "python",
   "pygments_lexer": "ipython3",
   "version": "3.6.5"
  },
  "latex_envs": {
   "LaTeX_envs_menu_present": true,
   "autoclose": false,
   "autocomplete": true,
   "bibliofile": "biblio.bib",
   "cite_by": "apalike",
   "current_citInitial": 1,
   "eqLabelWithNumbers": true,
   "eqNumInitial": 1,
   "hotkeys": {
    "equation": "Ctrl-E",
    "itemize": "Ctrl-I"
   },
   "labels_anchors": false,
   "latex_user_defs": false,
   "report_style_numbering": false,
   "user_envs_cfg": false
  },
  "nbTranslate": {
   "displayLangs": [
    "*"
   ],
   "hotkey": "alt-t",
   "langInMainMenu": true,
   "sourceLang": "en",
   "targetLang": "fr",
   "useGoogleTranslate": true
  },
  "toc": {
   "base_numbering": 1,
   "nav_menu": {},
   "number_sections": true,
   "sideBar": true,
   "skip_h1_title": false,
   "title_cell": "Table of Contents",
   "title_sidebar": "Contents",
   "toc_cell": false,
   "toc_position": {},
   "toc_section_display": true,
   "toc_window_display": false
  },
  "varInspector": {
   "cols": {
    "lenName": 16,
    "lenType": 16,
    "lenVar": 40
   },
   "kernels_config": {
    "python": {
     "delete_cmd_postfix": "",
     "delete_cmd_prefix": "del ",
     "library": "var_list.py",
     "varRefreshCmd": "print(var_dic_list())"
    },
    "r": {
     "delete_cmd_postfix": ") ",
     "delete_cmd_prefix": "rm(",
     "library": "var_list.r",
     "varRefreshCmd": "cat(var_dic_list()) "
    }
   },
   "types_to_exclude": [
    "module",
    "function",
    "builtin_function_or_method",
    "instance",
    "_Feature"
   ],
   "window_display": false
  }
 },
 "nbformat": 4,
 "nbformat_minor": 1
}
