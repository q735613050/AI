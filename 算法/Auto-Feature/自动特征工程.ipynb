{
 "cells": [
  {
   "cell_type": "markdown",
   "metadata": {},
   "source": [
    "所谓自动特征工程，即是将人工特征工程的过程自动化。以 featuretools 为代表的自动特征工程在整个机器学习的端到端实践中扮演的角色.\n",
    "\n",
    "- 主页: [Featuretools](https://docs.featuretools.com/index.html)"
   ]
  },
  {
   "cell_type": "code",
   "execution_count": 1,
   "metadata": {
    "ExecuteTime": {
     "end_time": "2018-09-06T05:36:03.984634Z",
     "start_time": "2018-09-06T05:36:01.653543Z"
    }
   },
   "outputs": [],
   "source": [
    "import featuretools as ft"
   ]
  },
  {
   "cell_type": "code",
   "execution_count": 2,
   "metadata": {
    "ExecuteTime": {
     "end_time": "2018-09-06T05:36:44.612215Z",
     "start_time": "2018-09-06T05:36:44.579977Z"
    }
   },
   "outputs": [],
   "source": [
    "# Load Mock Data\n",
    "data = ft.demo.load_mock_customer()   # data 为 dict 类型 "
   ]
  },
  {
   "cell_type": "code",
   "execution_count": 4,
   "metadata": {
    "ExecuteTime": {
     "end_time": "2018-09-06T05:37:46.102335Z",
     "start_time": "2018-09-06T05:37:46.096879Z"
    }
   },
   "outputs": [
    {
     "data": {
      "text/plain": [
       "dict_keys(['customers', 'sessions', 'transactions', 'products'])"
      ]
     },
     "execution_count": 4,
     "metadata": {},
     "output_type": "execute_result"
    }
   ],
   "source": [
    "data.keys()"
   ]
  },
  {
   "cell_type": "markdown",
   "metadata": {},
   "source": [
    "顾客发生了多次购买会话 (session)，每次会话产生了多次交易 (transaction).\n",
    "\n",
    "In this toy dataset, there are 3 tables. Each table is called an entity in Featuretools.\n",
    "\n",
    "- customers: unique customers who had sessions\n",
    "- sessions: unique sessions and associated attributes\n",
    "- transactions: list of events in this session"
   ]
  },
  {
   "cell_type": "code",
   "execution_count": 6,
   "metadata": {
    "ExecuteTime": {
     "end_time": "2018-09-06T05:39:21.467028Z",
     "start_time": "2018-09-06T05:39:21.463026Z"
    }
   },
   "outputs": [],
   "source": [
    "customers_df = data['customers']\n",
    "sessions_df = data['sessions']\n",
    "transactions_df = data['transactions']"
   ]
  },
  {
   "cell_type": "markdown",
   "metadata": {},
   "source": [
    "## 构建数据实体 (entity)"
   ]
  },
  {
   "cell_type": "code",
   "execution_count": 7,
   "metadata": {
    "ExecuteTime": {
     "end_time": "2018-09-06T05:41:09.138942Z",
     "start_time": "2018-09-06T05:41:09.135439Z"
    }
   },
   "outputs": [],
   "source": [
    "entities = {\n",
    "    \"customers\": (customers_df, \"customer_id\"),\n",
    "    \"sessions\": (sessions_df, \"session_id\", \"session_start\"),\n",
    "    \"transactions\": (transactions_df, \"transaction_id\", \"transaction_time\")\n",
    "}"
   ]
  },
  {
   "cell_type": "markdown",
   "metadata": {
    "ExecuteTime": {
     "end_time": "2018-09-06T05:45:16.709071Z",
     "start_time": "2018-09-06T05:45:16.704057Z"
    }
   },
   "source": [
    "## 指定关系\n",
    "\n",
    "父实体与子实体的关系，通过如下四元组来定义：\n",
    "`(parent_entity, parent_variable, child_entity, child_variable)`."
   ]
  },
  {
   "cell_type": "code",
   "execution_count": 10,
   "metadata": {
    "ExecuteTime": {
     "end_time": "2018-09-06T05:45:41.246553Z",
     "start_time": "2018-09-06T05:45:41.243069Z"
    }
   },
   "outputs": [],
   "source": [
    "relationships = [(\"sessions\", \"session_id\", \"transactions\", \"session_id\"),\n",
    "                 (\"customers\", \"customer_id\", \"sessions\", \"customer_id\")]"
   ]
  },
  {
   "cell_type": "markdown",
   "metadata": {},
   "source": [
    "## 深度特征合成 (Deep Feature Synthesis, DFS)"
   ]
  },
  {
   "cell_type": "code",
   "execution_count": 12,
   "metadata": {
    "ExecuteTime": {
     "end_time": "2018-09-06T05:47:19.360949Z",
     "start_time": "2018-09-06T05:47:19.046764Z"
    }
   },
   "outputs": [],
   "source": [
    "feature_matrix_customers, features_defs = ft.dfs(entities=entities, relationships=relationships, target_entity=\"customers\")"
   ]
  },
  {
   "cell_type": "markdown",
   "metadata": {},
   "source": [
    "# 特征工程基本概念\n",
    "\n",
    "特征工程意味着从现有的数据中构造额外特征，这些特征通常分布在多张相关的表 (tables) 中。特征工程需要从数据中提取相关信息并将其存入单张表格中，然后被用来训练机器学习模型。\n",
    "\n",
    "构造特征是一个非常耗时的过程，因为每个新的特征通常需要几步才能构造，特别是当使用多张表的信息时。我们可以将特征构造的操作分为两类：「转换」和「聚合」。以下通过几个例子来看看这些概念的实际应用。\n",
    "\n",
    "- 通过从一或多列中构造新的特征，「转换」作用于单张表 (在 Python 中，表是一个 Pandas DataFrame).\n",
    "- 另一方面，「聚合」是跨表实现的，并使用一对多的关联来对观测值分组，然后计算统计量。\n",
    "\n",
    "理想情况下，我们希望有一个解决方案能够在不同表间自动执行转换和聚合操作，并将结果整合到一张表中。尽管 Pandas 是一个很好的资源，但是仍然有许多数据操作需要我们人工完成！有关人工特征工程的更多信息，请查阅《[Python Data Science Handbook](https://notebooks.azure.com/jakevdp/libraries/pythondatasciencehandbook)》.\n",
    "\n",
    "## 特征工具\n",
    "\n",
    "幸运的是，Feature Tools 正是我们正在找寻的解决方案。这个开源的 Python 库可以从一组相关的表中自动构造特征。特征工具基于名为「深度特征合成」的方法（参见《[Deep Feature Synthesis: Towards Automating Data Science Endeavors](http://groups.csail.mit.edu/EVO-DesignOpt/groupWebSite/uploads/Site/DSAA_DSM_2015.pdf)》），这个方法的名字听起来比其本身更高大上（这个名字源于叠加了多重特征，而不是因为使用了深度学习方法！）。\n",
    "\n",
    "**深度特征合成**叠加多个转换和聚合操作，这在特征工具的词库中被称为**特征基元**，以便通过分布在多张表内的数据来构造新的特征。与机器学习中的大多数方法一样，这是建立在简单概念基础之上的复杂方法。通过一次学习一个构造块，我们可以很好地理解这个强大的方法。\n",
    "\n",
    "特征工具的前两个概念的是「实体」和「实体集」。一个实体就是一张表（或是 Pandas 中的一个 DataFrame（数据框））。一个实体集是一组表以及它们之间的关联。将一个实体集看成另一种 Python 数据结构，并带有自己的方法和属性。\n",
    "\n",
    "我们可以通过以下操作在特征工具中创建一个空的实体集："
   ]
  },
  {
   "cell_type": "code",
   "execution_count": 14,
   "metadata": {
    "ExecuteTime": {
     "end_time": "2018-09-06T06:37:37.444259Z",
     "start_time": "2018-09-06T06:37:37.441256Z"
    }
   },
   "outputs": [],
   "source": [
    "import featuretools as ft\n",
    "# Create new entityset\n",
    "es = ft.EntitySet(id='clients')"
   ]
  },
  {
   "cell_type": "code",
   "execution_count": 15,
   "metadata": {
    "ExecuteTime": {
     "end_time": "2018-09-06T06:37:41.596416Z",
     "start_time": "2018-09-06T06:37:41.591421Z"
    }
   },
   "outputs": [
    {
     "data": {
      "text/plain": [
       "Entityset: clients\n",
       "  Entities:\n",
       "  Relationships:\n",
       "    No relationships"
      ]
     },
     "execution_count": 15,
     "metadata": {},
     "output_type": "execute_result"
    }
   ],
   "source": [
    "现在我们添加实体。每个实体都必须有一个索引，该索引是一个包含所有唯一元素的列。也就是说，索引中的每个值只能出现在表中一次。"
   ]
  },
  {
   "cell_type": "code",
   "execution_count": null,
   "metadata": {},
   "outputs": [],
   "source": []
  }
 ],
 "metadata": {
  "kernelspec": {
   "display_name": "Python [conda env:Anaconda3]",
   "language": "python",
   "name": "conda-env-Anaconda3-py"
  },
  "language_info": {
   "codemirror_mode": {
    "name": "ipython",
    "version": 3
   },
   "file_extension": ".py",
   "mimetype": "text/x-python",
   "name": "python",
   "nbconvert_exporter": "python",
   "pygments_lexer": "ipython3",
   "version": "3.6.5"
  },
  "latex_envs": {
   "LaTeX_envs_menu_present": true,
   "autoclose": false,
   "autocomplete": true,
   "bibliofile": "biblio.bib",
   "cite_by": "apalike",
   "current_citInitial": 1,
   "eqLabelWithNumbers": true,
   "eqNumInitial": 1,
   "hotkeys": {
    "equation": "Ctrl-E",
    "itemize": "Ctrl-I"
   },
   "labels_anchors": false,
   "latex_user_defs": false,
   "report_style_numbering": false,
   "user_envs_cfg": false
  },
  "nbTranslate": {
   "displayLangs": [
    "*"
   ],
   "hotkey": "alt-t",
   "langInMainMenu": true,
   "sourceLang": "en",
   "targetLang": "fr",
   "useGoogleTranslate": true
  },
  "toc": {
   "base_numbering": 1,
   "nav_menu": {},
   "number_sections": true,
   "sideBar": true,
   "skip_h1_title": false,
   "title_cell": "Table of Contents",
   "title_sidebar": "Contents",
   "toc_cell": false,
   "toc_position": {},
   "toc_section_display": true,
   "toc_window_display": false
  },
  "varInspector": {
   "cols": {
    "lenName": 16,
    "lenType": 16,
    "lenVar": 40
   },
   "kernels_config": {
    "python": {
     "delete_cmd_postfix": "",
     "delete_cmd_prefix": "del ",
     "library": "var_list.py",
     "varRefreshCmd": "print(var_dic_list())"
    },
    "r": {
     "delete_cmd_postfix": ") ",
     "delete_cmd_prefix": "rm(",
     "library": "var_list.r",
     "varRefreshCmd": "cat(var_dic_list()) "
    }
   },
   "types_to_exclude": [
    "module",
    "function",
    "builtin_function_or_method",
    "instance",
    "_Feature"
   ],
   "window_display": false
  }
 },
 "nbformat": 4,
 "nbformat_minor": 2
}
