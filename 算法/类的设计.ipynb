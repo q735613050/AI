{
 "cells": [
  {
   "cell_type": "markdown",
   "metadata": {},
   "source": [
    "# Python 和 OOP \n",
    "\n",
    "- **Inheritance**（继承）: Inheritance is based on attribute lookup in Python (in `X.name` expressions). \n",
    "- **Polymorphism**（多态）: In `X.method`, the meaning of method depends on the type (class) of subject object `X`. \n",
    "- **Encapsulation**（封装）: Methods and operators implement behavior, though data hiding is a convention by default. \n",
    "\n",
    "Python 中的多态是基于对象**接口**的，而不是类型。\n",
    "\n",
    "## OOP 和委托：“包装”对象\n",
    "\n",
    "**委托**：控制器对象内情其他对象，而把运算请求传给那些对象。在 Python 中，委托通常以 `__getattr__` 钩子实现的，因为此方法会拦截对不存在属性的读取，包装类（有时称为**代理**类）可以使用 `__getattr__` 把任意读取转发给被包装的对象，包装类包有被包装对象的接口，而且自己也可以∟其他运算。"
   ]
  },
  {
   "cell_type": "code",
   "execution_count": 5,
   "metadata": {
    "ExecuteTime": {
     "end_time": "2018-10-30T14:22:22.530759Z",
     "start_time": "2018-10-30T14:22:22.526741Z"
    }
   },
   "outputs": [],
   "source": [
    "class Wrapper:\n",
    "    def __init__(self, obj):\n",
    "        self.wrapped = obj  # Save object\n",
    "\n",
    "    def __getattr__(self, attrname):\n",
    "        print('Trace: ' + attrname)  # Trace fetch\n",
    "        return getattr(self.wrapped, attrname)  # Delegate fetch"
   ]
  },
  {
   "cell_type": "code",
   "execution_count": 6,
   "metadata": {
    "ExecuteTime": {
     "end_time": "2018-10-30T14:22:23.337917Z",
     "start_time": "2018-10-30T14:22:23.333929Z"
    }
   },
   "outputs": [],
   "source": [
    "x = Wrapper([1, 2, 3])"
   ]
  },
  {
   "cell_type": "code",
   "execution_count": 7,
   "metadata": {
    "ExecuteTime": {
     "end_time": "2018-10-30T14:22:23.972427Z",
     "start_time": "2018-10-30T14:22:23.968443Z"
    }
   },
   "outputs": [
    {
     "name": "stdout",
     "output_type": "stream",
     "text": [
      "Trace: append\n"
     ]
    }
   ],
   "source": [
    "x.append(4)"
   ]
  },
  {
   "cell_type": "code",
   "execution_count": 8,
   "metadata": {
    "ExecuteTime": {
     "end_time": "2018-10-30T14:22:37.058568Z",
     "start_time": "2018-10-30T14:22:37.053582Z"
    }
   },
   "outputs": [
    {
     "data": {
      "text/plain": [
       "[1, 2, 3, 4]"
      ]
     },
     "execution_count": 8,
     "metadata": {},
     "output_type": "execute_result"
    }
   ],
   "source": [
    "x.wrapped"
   ]
  },
  {
   "cell_type": "code",
   "execution_count": 10,
   "metadata": {
    "ExecuteTime": {
     "end_time": "2018-10-30T14:23:22.797850Z",
     "start_time": "2018-10-30T14:23:22.791865Z"
    }
   },
   "outputs": [
    {
     "name": "stdout",
     "output_type": "stream",
     "text": [
      "Trace: keys\n"
     ]
    },
    {
     "data": {
      "text/plain": [
       "dict_keys(['a', 'b'])"
      ]
     },
     "execution_count": 10,
     "metadata": {},
     "output_type": "execute_result"
    }
   ],
   "source": [
    "x = Wrapper({'a': 1, 'b': 2}) \n",
    "x.keys()"
   ]
  },
  {
   "cell_type": "code",
   "execution_count": 11,
   "metadata": {
    "ExecuteTime": {
     "end_time": "2018-10-30T14:23:41.258143Z",
     "start_time": "2018-10-30T14:23:41.253155Z"
    }
   },
   "outputs": [
    {
     "data": {
      "text/plain": [
       "{'a': 1, 'b': 2}"
      ]
     },
     "execution_count": 11,
     "metadata": {},
     "output_type": "execute_result"
    }
   ],
   "source": [
    "x.wrapped"
   ]
  }
 ],
 "metadata": {
  "kernelspec": {
   "display_name": "Python [conda root]",
   "language": "python",
   "name": "conda-root-py"
  },
  "language_info": {
   "codemirror_mode": {
    "name": "ipython",
    "version": 3
   },
   "file_extension": ".py",
   "mimetype": "text/x-python",
   "name": "python",
   "nbconvert_exporter": "python",
   "pygments_lexer": "ipython3",
   "version": "3.6.5"
  },
  "latex_envs": {
   "LaTeX_envs_menu_present": true,
   "autoclose": false,
   "autocomplete": true,
   "bibliofile": "biblio.bib",
   "cite_by": "apalike",
   "current_citInitial": 1,
   "eqLabelWithNumbers": true,
   "eqNumInitial": 1,
   "hotkeys": {
    "equation": "Ctrl-E",
    "itemize": "Ctrl-I"
   },
   "labels_anchors": false,
   "latex_user_defs": false,
   "report_style_numbering": false,
   "user_envs_cfg": false
  },
  "nbTranslate": {
   "displayLangs": [
    "*"
   ],
   "hotkey": "alt-t",
   "langInMainMenu": true,
   "sourceLang": "en",
   "targetLang": "fr",
   "useGoogleTranslate": true
  },
  "toc": {
   "base_numbering": 1,
   "nav_menu": {},
   "number_sections": true,
   "sideBar": true,
   "skip_h1_title": false,
   "title_cell": "Table of Contents",
   "title_sidebar": "Contents",
   "toc_cell": false,
   "toc_position": {},
   "toc_section_display": true,
   "toc_window_display": false
  },
  "varInspector": {
   "cols": {
    "lenName": 16,
    "lenType": 16,
    "lenVar": 40
   },
   "kernels_config": {
    "python": {
     "delete_cmd_postfix": "",
     "delete_cmd_prefix": "del ",
     "library": "var_list.py",
     "varRefreshCmd": "print(var_dic_list())"
    },
    "r": {
     "delete_cmd_postfix": ") ",
     "delete_cmd_prefix": "rm(",
     "library": "var_list.r",
     "varRefreshCmd": "cat(var_dic_list()) "
    }
   },
   "types_to_exclude": [
    "module",
    "function",
    "builtin_function_or_method",
    "instance",
    "_Feature"
   ],
   "window_display": false
  }
 },
 "nbformat": 4,
 "nbformat_minor": 2
}
