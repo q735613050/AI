{
 "cells": [
  {
   "cell_type": "code",
   "execution_count": 1,
   "metadata": {
    "ExecuteTime": {
     "end_time": "2018-08-12T12:04:53.489303Z",
     "start_time": "2018-08-12T12:04:53.483287Z"
    }
   },
   "outputs": [],
   "source": [
    "import numpy as np\n",
    "\n",
    "a = 1\n",
    "b = 2\n",
    "c = np.array([3, 4])\n",
    "d = np.array([['a', 'b'], ['c', 'd']], dtype=object)"
   ]
  },
  {
   "cell_type": "code",
   "execution_count": 2,
   "metadata": {
    "ExecuteTime": {
     "end_time": "2018-08-12T12:05:20.327282Z",
     "start_time": "2018-08-12T12:05:20.256287Z"
    }
   },
   "outputs": [
    {
     "data": {
      "text/plain": [
       "2"
      ]
     },
     "execution_count": 2,
     "metadata": {},
     "output_type": "execute_result"
    }
   ],
   "source": [
    "np.multiply(a, b)  # 数乘 numpy 建议大家使用 `multiply`"
   ]
  },
  {
   "cell_type": "code",
   "execution_count": 3,
   "metadata": {
    "ExecuteTime": {
     "end_time": "2018-08-12T12:05:23.514293Z",
     "start_time": "2018-08-12T12:05:23.463287Z"
    }
   },
   "outputs": [
    {
     "data": {
      "text/plain": [
       "array([6, 8])"
      ]
     },
     "execution_count": 3,
     "metadata": {},
     "output_type": "execute_result"
    }
   ],
   "source": [
    "np.dot(b, c)"
   ]
  },
  {
   "cell_type": "code",
   "execution_count": 4,
   "metadata": {
    "ExecuteTime": {
     "end_time": "2018-08-12T12:05:34.350286Z",
     "start_time": "2018-08-12T12:05:34.344284Z"
    }
   },
   "outputs": [
    {
     "data": {
      "text/plain": [
       "array(['aaacccc', 'bbbdddd'], dtype=object)"
      ]
     },
     "execution_count": 4,
     "metadata": {},
     "output_type": "execute_result"
    }
   ],
   "source": [
    "np.dot(c, d)"
   ]
  },
  {
   "cell_type": "code",
   "execution_count": 7,
   "metadata": {
    "ExecuteTime": {
     "end_time": "2018-08-12T12:07:39.825288Z",
     "start_time": "2018-08-12T12:07:39.806283Z"
    }
   },
   "outputs": [
    {
     "data": {
      "text/plain": [
       "array([['abbb', 'aabbbb'],\n",
       "       ['cddd', 'ccdddd']], dtype=object)"
      ]
     },
     "execution_count": 7,
     "metadata": {},
     "output_type": "execute_result"
    }
   ],
   "source": [
    "e = np.array([[1, 2], [3, 4]])\n",
    "\n",
    "np.dot(d, e)  # 矩阵乘 numpy 建议大家使用 `matmul`"
   ]
  },
  {
   "cell_type": "code",
   "execution_count": 6,
   "metadata": {
    "ExecuteTime": {
     "end_time": "2018-08-12T12:07:29.060281Z",
     "start_time": "2018-08-12T12:07:29.045285Z"
    }
   },
   "outputs": [
    {
     "data": {
      "text/plain": [
       "array([['acc', 'bdd'],\n",
       "       ['aaacccc', 'bbbdddd']], dtype=object)"
      ]
     },
     "execution_count": 6,
     "metadata": {},
     "output_type": "execute_result"
    }
   ],
   "source": [
    "np.dot(e, d)"
   ]
  },
  {
   "cell_type": "markdown",
   "metadata": {},
   "source": [
    "##  [numpy.tensordot](https://www.machenxiao.com/blog/tensordot)\n",
    "\n",
    "给定两个张量（维度大于等于 $1$ 的数组）`a` 和 `b`，以及一个包含两个数组的数组， (`a_axes`, `b_axes`)，把 `a` 和 `b` 的元素的乘积沿着 `a_axes` 和 `b_axes` 加和。 如果第三个参数是一个常数 `N`，那么就沿着 `a` 的最后 $N$ 个 轴和 `b` 的前 $N$ 个 轴加和。\n",
    "\n",
    "其实 `tensordot` 无非是将两个操作数整理成了两个矩阵， 然后调用 `dot` 进行了一般的矩阵点乘，再把结果整理成了正确大小的张量。\n",
    "\n",
    "```py\n",
    "# nda 是 a 的维数，axes_a 是 a 中要被沿着加和的轴，notin 则是余下的轴\n",
    "notin = [k for k in range(nda) if k not in axes_a]\n",
    "# 把要加和的轴连在余下的轴后面\n",
    "newaxes_a = notin + axes_a\n",
    "# as_ 是 a.shape，axes_a 是要被加和的轴，所以 N2 是要被加和的那些轴方向上的大小的乘积\n",
    "N2 = 1\n",
    "for axis in axes_a:\n",
    "    N2 *= as_[axis]\n",
    "# 既然 N2 是新矩阵的列数，新矩阵的行数自然是 a.shape 中剩余元素的乘积\n",
    "newshape_a = (int(multiply.reduce([as_[ax] for ax in notin])), N2)\n",
    "# 剩余的轴方向上的大小保留在 olda 数组中\n",
    "olda = [as_[axis] for axis in notin]\n",
    "```\n",
    "\n",
    "举一个例子，比如 `a` 的形状是 `(5, 4, 2, 3)`，要加和的轴是后两轴， 那么 `N2 = 2 * 3 = 6`，最后得到的新矩阵的大小就是 `(20, 6)`。\n",
    "对于另一个操作数 `b`，tensordot 的处理是完全一致的， 只不过把 `N2` 放在了行数的位置。因为只有这样才能跟 `a` 做矩阵乘法。 由此也可以看到，`a.shape` 中与 `axes_a` 对应位置的元素的乘积 必须和 `b.shape` 中与 `axes_b` 对应位置元素的乘积是一样的。"
   ]
  },
  {
   "cell_type": "code",
   "execution_count": 13,
   "metadata": {
    "ExecuteTime": {
     "end_time": "2018-08-12T12:15:08.369302Z",
     "start_time": "2018-08-12T12:15:08.331291Z"
    }
   },
   "outputs": [
    {
     "data": {
      "text/plain": [
       "(5, 4, 2, 2, 6)"
      ]
     },
     "execution_count": 13,
     "metadata": {},
     "output_type": "execute_result"
    }
   ],
   "source": [
    "import numpy as np\n",
    "\n",
    "a = np.ones([5, 4, 2, 3])\n",
    "b = np.ones([3, 2, 6])\n",
    "np.tensordot(a, b, 1).shape"
   ]
  },
  {
   "cell_type": "code",
   "execution_count": 14,
   "metadata": {
    "ExecuteTime": {
     "end_time": "2018-08-12T12:15:24.725891Z",
     "start_time": "2018-08-12T12:15:24.706890Z"
    }
   },
   "outputs": [
    {
     "data": {
      "text/plain": [
       "(5, 4, 3, 3, 6)"
      ]
     },
     "execution_count": 14,
     "metadata": {},
     "output_type": "execute_result"
    }
   ],
   "source": [
    "np.tensordot(a, b, (2, 1)).shape"
   ]
  },
  {
   "cell_type": "code",
   "execution_count": 15,
   "metadata": {
    "ExecuteTime": {
     "end_time": "2018-08-12T12:15:33.309897Z",
     "start_time": "2018-08-12T12:15:33.302891Z"
    }
   },
   "outputs": [
    {
     "data": {
      "text/plain": [
       "(5, 4, 2, 2, 6)"
      ]
     },
     "execution_count": 15,
     "metadata": {},
     "output_type": "execute_result"
    }
   ],
   "source": [
    "np.tensordot(a, b, (3, 0)).shape"
   ]
  },
  {
   "cell_type": "code",
   "execution_count": 16,
   "metadata": {
    "ExecuteTime": {
     "end_time": "2018-08-12T12:15:44.693434Z",
     "start_time": "2018-08-12T12:15:44.677473Z"
    }
   },
   "outputs": [
    {
     "data": {
      "text/plain": [
       "(5, 4, 6)"
      ]
     },
     "execution_count": 16,
     "metadata": {},
     "output_type": "execute_result"
    }
   ],
   "source": [
    "np.tensordot(a, b, ((2, 3), (1, 0))).shape"
   ]
  },
  {
   "cell_type": "code",
   "execution_count": 17,
   "metadata": {
    "ExecuteTime": {
     "end_time": "2018-08-12T12:15:58.403452Z",
     "start_time": "2018-08-12T12:15:58.396437Z"
    }
   },
   "outputs": [
    {
     "data": {
      "text/plain": [
       "(5, 4, 6)"
      ]
     },
     "execution_count": 17,
     "metadata": {},
     "output_type": "execute_result"
    }
   ],
   "source": [
    "np.tensordot(a, b, ((-2, -1), (1, 0))).shape"
   ]
  },
  {
   "cell_type": "code",
   "execution_count": 18,
   "metadata": {
    "ExecuteTime": {
     "end_time": "2018-08-12T12:16:35.391461Z",
     "start_time": "2018-08-12T12:16:35.370434Z"
    }
   },
   "outputs": [
    {
     "data": {
      "text/plain": [
       "(5, 2)"
      ]
     },
     "execution_count": 18,
     "metadata": {},
     "output_type": "execute_result"
    }
   ],
   "source": [
    "a = np.arange(60.).reshape(3,4,5)\n",
    "b = np.arange(24.).reshape(4,3,2)\n",
    "c = np.tensordot(a,b, axes=([1,0],[0,1]))\n",
    "c.shape"
   ]
  },
  {
   "cell_type": "code",
   "execution_count": 19,
   "metadata": {
    "ExecuteTime": {
     "end_time": "2018-08-12T12:16:41.676437Z",
     "start_time": "2018-08-12T12:16:41.655436Z"
    }
   },
   "outputs": [
    {
     "data": {
      "text/plain": [
       "array([[4400., 4730.],\n",
       "       [4532., 4874.],\n",
       "       [4664., 5018.],\n",
       "       [4796., 5162.],\n",
       "       [4928., 5306.]])"
      ]
     },
     "execution_count": 19,
     "metadata": {},
     "output_type": "execute_result"
    }
   ],
   "source": [
    "c"
   ]
  },
  {
   "cell_type": "code",
   "execution_count": 20,
   "metadata": {
    "ExecuteTime": {
     "end_time": "2018-08-12T12:17:53.790967Z",
     "start_time": "2018-08-12T12:17:53.766969Z"
    }
   },
   "outputs": [],
   "source": [
    "# A slower but equivalent way of computing the same...\n",
    "d = np.zeros((5,2))\n",
    "for i in range(5):\n",
    "    for j in range(2):\n",
    "        for k in range(3):\n",
    "            for n in range(4):\n",
    "                d[i,j] += a[k,n,i] * b[n,k,j]"
   ]
  },
  {
   "cell_type": "markdown",
   "metadata": {},
   "source": [
    "也就是说，tensordot 要求参数满足上面所说的条件，是为了保证能进行这种循环运算。 即使两个 N2 相等，可以经过重新排布之后得到大小正确的张量， tensordot 也只允许用户进行这种能用循环运算表示的点乘， 避免用户（无意中）进行了没有物理意义的运算"
   ]
  },
  {
   "cell_type": "code",
   "execution_count": 21,
   "metadata": {
    "ExecuteTime": {
     "end_time": "2018-08-12T12:18:32.620971Z",
     "start_time": "2018-08-12T12:18:32.562965Z"
    }
   },
   "outputs": [
    {
     "data": {
      "text/plain": [
       "(5, 4, 2, 2, 6)"
      ]
     },
     "execution_count": 21,
     "metadata": {},
     "output_type": "execute_result"
    }
   ],
   "source": [
    "a = np.ones([5, 4, 2, 3])\n",
    "c = np.ones([2, 3, 6])\n",
    "np.dot(a, c).shape"
   ]
  },
  {
   "cell_type": "code",
   "execution_count": 22,
   "metadata": {
    "ExecuteTime": {
     "end_time": "2018-08-12T12:18:40.706494Z",
     "start_time": "2018-08-12T12:18:40.668497Z"
    }
   },
   "outputs": [
    {
     "data": {
      "text/plain": [
       "(5, 4, 2, 2, 6)"
      ]
     },
     "execution_count": 22,
     "metadata": {},
     "output_type": "execute_result"
    }
   ],
   "source": [
    "np.tensordot(a, c, (-1, -2)).shape"
   ]
  },
  {
   "cell_type": "code",
   "execution_count": null,
   "metadata": {},
   "outputs": [],
   "source": []
  }
 ],
 "metadata": {
  "kernelspec": {
   "display_name": "Python 3",
   "language": "python",
   "name": "python3"
  },
  "language_info": {
   "codemirror_mode": {
    "name": "ipython",
    "version": 3
   },
   "file_extension": ".py",
   "mimetype": "text/x-python",
   "name": "python",
   "nbconvert_exporter": "python",
   "pygments_lexer": "ipython3",
   "version": "3.6.5"
  },
  "latex_envs": {
   "LaTeX_envs_menu_present": true,
   "autoclose": false,
   "autocomplete": true,
   "bibliofile": "biblio.bib",
   "cite_by": "apalike",
   "current_citInitial": 1,
   "eqLabelWithNumbers": true,
   "eqNumInitial": 1,
   "hotkeys": {
    "equation": "Ctrl-E",
    "itemize": "Ctrl-I"
   },
   "labels_anchors": false,
   "latex_user_defs": false,
   "report_style_numbering": false,
   "user_envs_cfg": false
  },
  "nbTranslate": {
   "displayLangs": [
    "*"
   ],
   "hotkey": "alt-t",
   "langInMainMenu": true,
   "sourceLang": "en",
   "targetLang": "fr",
   "useGoogleTranslate": true
  },
  "toc": {
   "base_numbering": 1,
   "nav_menu": {},
   "number_sections": true,
   "sideBar": true,
   "skip_h1_title": false,
   "title_cell": "Table of Contents",
   "title_sidebar": "Contents",
   "toc_cell": false,
   "toc_position": {},
   "toc_section_display": true,
   "toc_window_display": false
  },
  "varInspector": {
   "cols": {
    "lenName": 16,
    "lenType": 16,
    "lenVar": 40
   },
   "kernels_config": {
    "python": {
     "delete_cmd_postfix": "",
     "delete_cmd_prefix": "del ",
     "library": "var_list.py",
     "varRefreshCmd": "print(var_dic_list())"
    },
    "r": {
     "delete_cmd_postfix": ") ",
     "delete_cmd_prefix": "rm(",
     "library": "var_list.r",
     "varRefreshCmd": "cat(var_dic_list()) "
    }
   },
   "types_to_exclude": [
    "module",
    "function",
    "builtin_function_or_method",
    "instance",
    "_Feature"
   ],
   "window_display": false
  }
 },
 "nbformat": 4,
 "nbformat_minor": 2
}
