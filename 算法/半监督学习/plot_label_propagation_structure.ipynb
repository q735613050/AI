{
 "cells": [
  {
   "cell_type": "code",
   "execution_count": 2,
   "metadata": {
    "ExecuteTime": {
     "end_time": "2018-08-11T07:54:38.882274Z",
     "start_time": "2018-08-11T07:54:38.832850Z"
    }
   },
   "outputs": [],
   "source": [
    "%matplotlib inline"
   ]
  },
  {
   "cell_type": "markdown",
   "metadata": {},
   "source": [
    "\n",
    "# Label Propagation learning a complex structure\n",
    "\n",
    "\n",
    "Example of LabelPropagation learning a complex internal structure\n",
    "to demonstrate \"manifold learning\". The outer circle should be\n",
    "labeled \"red\" and the inner circle \"blue\". Because both label groups\n",
    "lie inside their own distinct shape, we can see that the labels\n",
    "propagate correctly around the circle.\n",
    "\n"
   ]
  },
  {
   "cell_type": "code",
   "execution_count": 3,
   "metadata": {
    "ExecuteTime": {
     "end_time": "2018-08-11T07:54:41.070436Z",
     "start_time": "2018-08-11T07:54:40.624665Z"
    }
   },
   "outputs": [
    {
     "name": "stdout",
     "output_type": "stream",
     "text": [
      "Automatically created module for IPython interactive environment\n"
     ]
    },
    {
     "name": "stderr",
     "output_type": "stream",
     "text": [
      "C:\\ProgramData\\Anaconda3\\lib\\site-packages\\sklearn\\semi_supervised\\label_propagation.py:293: RuntimeWarning: invalid value encountered in true_divide\n",
      "  self.label_distributions_ /= normalizer\n"
     ]
    },
    {
     "data": {
      "image/png": "[encoded data removed]",
      "text/plain": [
       "<Figure size 612x288 with 2 Axes>"
      ]
     },
     "metadata": {},
     "output_type": "display_data"
    }
   ],
   "source": [
    "print(__doc__)\n",
    "\n",
    "# Authors: Clay Woolam <clay@woolam.org>\n",
    "#          Andreas Mueller <amueller@ais.uni-bonn.de>\n",
    "# License: BSD\n",
    "\n",
    "import numpy as np\n",
    "import matplotlib.pyplot as plt\n",
    "from sklearn.semi_supervised import label_propagation\n",
    "from sklearn.datasets import make_circles\n",
    "\n",
    "# generate ring with inner box\n",
    "n_samples = 200\n",
    "X, y = make_circles(n_samples=n_samples, shuffle=False)\n",
    "outer, inner = 0, 1\n",
    "labels = -np.ones(n_samples)\n",
    "labels[0] = outer\n",
    "labels[-1] = inner\n",
    "\n",
    "# #############################################################################\n",
    "# Learn with LabelSpreading\n",
    "label_spread = label_propagation.LabelSpreading(kernel='knn', alpha=0.2)\n",
    "label_spread.fit(X, labels)\n",
    "\n",
    "# #############################################################################\n",
    "# Plot output labels\n",
    "output_labels = label_spread.transduction_\n",
    "plt.figure(figsize=(8.5, 4))\n",
    "plt.subplot(1, 2, 1)\n",
    "plt.scatter(X[labels == outer, 0], X[labels == outer, 1], color='navy',\n",
    "            marker='s', lw=0, label=\"outer labeled\", s=10)\n",
    "plt.scatter(X[labels == inner, 0], X[labels == inner, 1], color='c',\n",
    "            marker='s', lw=0, label='inner labeled', s=10)\n",
    "plt.scatter(X[labels == -1, 0], X[labels == -1, 1], color='darkorange',\n",
    "            marker='.', label='unlabeled')\n",
    "plt.legend(scatterpoints=1, shadow=False, loc='upper right')\n",
    "plt.title(\"Raw data (2 classes=outer and inner)\")\n",
    "\n",
    "plt.subplot(1, 2, 2)\n",
    "output_label_array = np.asarray(output_labels)\n",
    "outer_numbers = np.where(output_label_array == outer)[0]\n",
    "inner_numbers = np.where(output_label_array == inner)[0]\n",
    "plt.scatter(X[outer_numbers, 0], X[outer_numbers, 1], color='navy',\n",
    "            marker='s', lw=0, s=10, label=\"outer learned\")\n",
    "plt.scatter(X[inner_numbers, 0], X[inner_numbers, 1], color='c',\n",
    "            marker='s', lw=0, s=10, label=\"inner learned\")\n",
    "plt.legend(scatterpoints=1, shadow=False, loc='upper right')\n",
    "plt.title(\"Labels learned with Label Spreading (KNN)\")\n",
    "\n",
    "plt.subplots_adjust(left=0.07, bottom=0.07, right=0.93, top=0.92)\n",
    "plt.show()"
   ]
  },
  {
   "cell_type": "code",
   "execution_count": null,
   "metadata": {},
   "outputs": [],
   "source": []
  }
 ],
 "metadata": {
  "kernelspec": {
   "display_name": "Python 3",
   "language": "python",
   "name": "python3"
  },
  "language_info": {
   "codemirror_mode": {
    "name": "ipython",
    "version": 3
   },
   "file_extension": ".py",
   "mimetype": "text/x-python",
   "name": "python",
   "nbconvert_exporter": "python",
   "pygments_lexer": "ipython3",
   "version": "3.6.5"
  },
  "latex_envs": {
   "LaTeX_envs_menu_present": true,
   "autoclose": false,
   "autocomplete": true,
   "bibliofile": "biblio.bib",
   "cite_by": "apalike",
   "current_citInitial": 1,
   "eqLabelWithNumbers": true,
   "eqNumInitial": 1,
   "hotkeys": {
    "equation": "Ctrl-E",
    "itemize": "Ctrl-I"
   },
   "labels_anchors": false,
   "latex_user_defs": false,
   "report_style_numbering": false,
   "user_envs_cfg": false
  },
  "nbTranslate": {
   "displayLangs": [
    "*"
   ],
   "hotkey": "alt-t",
   "langInMainMenu": true,
   "sourceLang": "en",
   "targetLang": "fr",
   "useGoogleTranslate": true
  },
  "toc": {
   "base_numbering": 1,
   "nav_menu": {},
   "number_sections": true,
   "sideBar": true,
   "skip_h1_title": false,
   "title_cell": "Table of Contents",
   "title_sidebar": "Contents",
   "toc_cell": false,
   "toc_position": {},
   "toc_section_display": true,
   "toc_window_display": false
  },
  "varInspector": {
   "cols": {
    "lenName": 16,
    "lenType": 16,
    "lenVar": 40
   },
   "kernels_config": {
    "python": {
     "delete_cmd_postfix": "",
     "delete_cmd_prefix": "del ",
     "library": "var_list.py",
     "varRefreshCmd": "print(var_dic_list())"
    },
    "r": {
     "delete_cmd_postfix": ") ",
     "delete_cmd_prefix": "rm(",
     "library": "var_list.r",
     "varRefreshCmd": "cat(var_dic_list()) "
    }
   },
   "types_to_exclude": [
    "module",
    "function",
    "builtin_function_or_method",
    "instance",
    "_Feature"
   ],
   "window_display": false
  }
 },
 "nbformat": 4,
 "nbformat_minor": 1
}
