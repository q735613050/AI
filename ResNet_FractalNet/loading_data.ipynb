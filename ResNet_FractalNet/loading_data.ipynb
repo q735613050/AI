{
 "cells": [
  {
   "cell_type": "code",
   "execution_count": 1,
   "metadata": {
    "collapsed": true
   },
   "outputs": [],
   "source": [
    "import pickle \n",
    "import matplotlib.pyplot as plt\n",
    "import numpy as np "
   ]
  },
  {
   "cell_type": "code",
   "execution_count": 2,
   "metadata": {
    "collapsed": true
   },
   "outputs": [],
   "source": [
    "def unpickle(file):\n",
    "    import pickle\n",
    "    with open(file, 'rb') as fo:\n",
    "        dict = pickle.load(fo, encoding='bytes')\n",
    "    return dict\n",
    "\n",
    "\n",
    "data_batch = unpickle('cifar-10-batches-py/data_batch_1')\n",
    "X1 = data_batch[b'data']\n",
    "Y1 = data_batch[b'labels']\n",
    "Y1 = np.array(Y1)\n",
    "Y1 = Y1.reshape(Y1.shape[0],1)\n",
    "\n",
    "data_batch = unpickle('cifar-10-batches-py/data_batch_2')\n",
    "X2 = data_batch[b'data']\n",
    "Y2 = data_batch[b'labels']\n",
    "Y2 = np.array(Y2)\n",
    "Y2 = Y2.reshape(Y2.shape[0],1)\n",
    "\n",
    "data_batch = unpickle('cifar-10-batches-py/data_batch_3')\n",
    "X3 = data_batch[b'data']\n",
    "Y3 = data_batch[b'labels']\n",
    "Y3 = np.array(Y3)\n",
    "Y3 = Y3.reshape(Y3.shape[0],1)\n",
    "\n",
    "data_batch = unpickle('cifar-10-batches-py/data_batch_4')\n",
    "X4 = data_batch[b'data']\n",
    "Y4 = data_batch[b'labels']\n",
    "Y4 = np.array(Y4)\n",
    "Y4 = Y4.reshape(Y4.shape[0],1)\n",
    "\n",
    "data_batch = unpickle('cifar-10-batches-py/data_batch_5')\n",
    "X5 = data_batch[b'data']\n",
    "Y5 = data_batch[b'labels']\n",
    "Y5 = np.array(Y5)\n",
    "Y5 = Y5.reshape(Y5.shape[0],1)\n",
    "\n",
    "test_batch =  unpickle('cifar-10-batches-py/test_batch')\n",
    "X_t = test_batch[b'data']\n",
    "Y_test = test_batch[b'labels']\n",
    "Y_test = np.array(Y_test)\n",
    "Y_test = Y_test.reshape(Y_test.shape[0],1)\n",
    "\n",
    "#Stacking all the training batches\n",
    "X = np.vstack([X1,X2,X3,X4,X5])\n",
    "Y_train = np.vstack([Y1,Y2,Y3,Y4,Y5])\n",
    "\n",
    "#Normalizing the input data \n",
    "X = X/255\n",
    "X_t = X_t/255\n",
    "\n",
    "#Mean centering\n",
    "X = (X - np.mean(X,axis=0).reshape(1,X.shape[1]))\n",
    "X_t = (X_t - np.mean(X,axis=0).reshape(1,X.shape[1]))"
   ]
  },
  {
   "cell_type": "code",
   "execution_count": 4,
   "metadata": {},
   "outputs": [
    {
     "data": {
      "text/plain": [
       "[b'airplane',\n",
       " b'automobile',\n",
       " b'bird',\n",
       " b'cat',\n",
       " b'deer',\n",
       " b'dog',\n",
       " b'frog',\n",
       " b'horse',\n",
       " b'ship',\n",
       " b'truck']"
      ]
     },
     "execution_count": 4,
     "metadata": {},
     "output_type": "execute_result"
    }
   ],
   "source": [
    "#label names \n",
    "def unpickle(file):\n",
    "    import pickle\n",
    "    with open(file, 'rb') as fo:\n",
    "        dict = pickle.load(fo, encoding='bytes')\n",
    "    return dict[b'label_names']\n",
    "\n",
    "unpickle('cifar-10-batches-py/batches.meta')"
   ]
  },
  {
   "cell_type": "code",
   "execution_count": 4,
   "metadata": {},
   "outputs": [
    {
     "name": "stdout",
     "output_type": "stream",
     "text": [
      "Stacked 10000 Training Images\n",
      "Stacked 20000 Training Images\n",
      "Stacked 30000 Training Images\n",
      "Stacked 40000 Training Images\n",
      "Stacked 50000 Training Images\n",
      "Stacked 10000 Testing Images\n",
      "Shape of X train:  (50000, 32, 32, 3)\n",
      "Shape of Y train:  (50000, 1)\n",
      "Shape of X test:  (10000, 32, 32, 3)\n",
      "Shape of Y test:  (10000, 1)\n"
     ]
    }
   ],
   "source": [
    "X_train = np.zeros((X.shape[0],32,32,3))\n",
    "for k in range(0,X.shape[0]): \n",
    "    img = X[k].reshape(3,32,32)\n",
    "    img = img.transpose(1,2,0)\n",
    "    X_train[k] = img\n",
    "    \n",
    "    if (k+1)%10000==0:\n",
    "        print('Stacked '+str(k+1) +' Training Images')\n",
    "        \n",
    "X_test = np.zeros((X_t.shape[0],32,32,3))\n",
    "for k in range(0,X_t.shape[0]): \n",
    "    img = X_t[k].reshape(3,32,32)\n",
    "    img = img.transpose(1,2,0)\n",
    "    X_test[k] = img\n",
    "    \n",
    "    if (k+1)%10000==0:\n",
    "        print('Stacked '+str(k+1) +' Testing Images')\n",
    "        \n",
    "print('Shape of X train: ',X_train.shape)\n",
    "print('Shape of Y train: ',Y_train.shape)\n",
    "print('Shape of X test: ',X_test.shape)\n",
    "print('Shape of Y test: ',Y_test.shape)"
   ]
  },
  {
   "cell_type": "code",
   "execution_count": 5,
   "metadata": {
    "collapsed": true
   },
   "outputs": [],
   "source": [
    "np.save('X_train.npy',X_train)\n",
    "np.save('Y_train.npy',Y_train)\n",
    "np.save('X_test.npy',X_test)\n",
    "np.save('Y_test.npy',Y_test)"
   ]
  },
  {
   "cell_type": "code",
   "execution_count": null,
   "metadata": {
    "collapsed": true
   },
   "outputs": [],
   "source": []
  },
  {
   "cell_type": "code",
   "execution_count": null,
   "metadata": {
    "collapsed": true
   },
   "outputs": [],
   "source": []
  }
 ],
 "metadata": {
  "kernelspec": {
   "display_name": "Python 3",
   "language": "python",
   "name": "python3"
  },
  "language_info": {
   "codemirror_mode": {
    "name": "ipython",
    "version": 3
   },
   "file_extension": ".py",
   "mimetype": "text/x-python",
   "name": "python",
   "nbconvert_exporter": "python",
   "pygments_lexer": "ipython3",
   "version": "3.6.3"
  }
 },
 "nbformat": 4,
 "nbformat_minor": 2
}
