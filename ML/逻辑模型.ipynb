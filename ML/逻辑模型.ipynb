{
 "cells": [
  {
   "cell_type": "markdown",
   "metadata": {},
   "source": [
    "- [减治、分治与变治](https://blog.csdn.net/zhuanzhe117/article/details/76274340)\n",
    "- [变治法](http://www.cnblogs.com/kkgreen/archive/2011/06/21/2085969.html)"
   ]
  },
  {
   "cell_type": "markdown",
   "metadata": {},
   "source": [
    "# 特征树"
   ]
  },
  {
   "cell_type": "markdown",
   "metadata": {},
   "source": [
    "对于分类任务，当某个实例集 $D$ 同一类别时，我们称 $D$ 为同质的（Homogeneous）。"
   ]
  },
  {
   "cell_type": "code",
   "execution_count": 1,
   "metadata": {},
   "outputs": [],
   "source": [
    "class FeatureTree:\n",
    "    '''\n",
    "    参数\n",
    "    ======\n",
    "    D::数据集\n",
    "    F::特征集\n",
    "    Homogeneous(D)::若 D 中实例的纯度足够高，从而可用单个类别标签来标识，则返回真，否则返回假。 \n",
    "    Label(D)::返回对于实例 D 最恰当的类别标签\n",
    "    BestSplit(D, F)::返回将要放置在根节点的文字的最优集合\n",
    "    '''\n",
    "    def __init__(self, *args):\n",
    "        Homogeneous, Label, BestSplit = args\n",
    "        self.Homogeneous = Homogeneous\n",
    "        self.Label = Label\n",
    "        self.BestSplit = BestSplit\n",
    "        \n",
    "    def GrowTree(self, D, F):\n",
    "        '''\n",
    "        依据训练数据学习一个特征树模型\n",
    "        \n",
    "        Return\n",
    "        =====\n",
    "        叶节点带有标签信息的特征树 T\n",
    "        '''\n",
    "        if self.Homogeneous(D):\n",
    "            return self.Label(D)\n",
    "        S = self.BestSplit(D, F)\n",
    "        for i, d in enumerate(S):\n",
    "            if d:\n",
    "                T = self.GrowTree(d, F)\n",
    "            else:\n",
    "                T = self.Label(D)"
   ]
  },
  {
   "cell_type": "code",
   "execution_count": null,
   "metadata": {},
   "outputs": [],
   "source": []
  }
 ],
 "metadata": {
  "kernelspec": {
   "display_name": "Python 3",
   "language": "python",
   "name": "python3"
  },
  "language_info": {
   "codemirror_mode": {
    "name": "ipython",
    "version": 3
   },
   "file_extension": ".py",
   "mimetype": "text/x-python",
   "name": "python",
   "nbconvert_exporter": "python",
   "pygments_lexer": "ipython3",
   "version": "3.6.4"
  }
 },
 "nbformat": 4,
 "nbformat_minor": 2
}
