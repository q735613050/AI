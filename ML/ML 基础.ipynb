{
 "cells": [
  {
   "cell_type": "markdown",
   "metadata": {},
   "source": [
    "本文摘录了大量 `机器学习算法原理与编程实践_郑捷著_电子工业出版社` 的原文。\n",
    "源码：[机器学习算法原理与编程实践](https://github.com/wenbo/MLBook)\n",
    "\n",
    "# 中文分词——`jieba`"
   ]
  },
  {
   "cell_type": "code",
   "execution_count": 1,
   "metadata": {},
   "outputs": [
    {
     "name": "stderr",
     "output_type": "stream",
     "text": [
      "Building prefix dict from the default dictionary ...\n",
      "Dumping model to file cache C:\\Users\\q7356\\AppData\\Local\\Temp\\jieba.cache\n",
      "Loading model cost 1.337 seconds.\n",
      "Prefix dict has been built succesfully.\n"
     ]
    },
    {
     "name": "stdout",
     "output_type": "stream",
     "text": [
      "Default Mode: 来到/ 北京/ 清华大学\n",
      "他 来到 网易 杭研 大厦\n"
     ]
    }
   ],
   "source": [
    "import jieba\n",
    "\n",
    "\n",
    "seg_list = jieba.cut(\"来到北京清华大学\", cut_all=False)\n",
    "print(\"Default Mode:\", \"/ \".join(seg_list))  # 默认模式\n",
    "\n",
    "seg_list = jieba.cut(\"他来到网易杭研大厦\")\n",
    "print(\" \".join(seg_list))"
   ]
  },
  {
   "cell_type": "markdown",
   "metadata": {},
   "source": [
    "# 数据表文件的读取"
   ]
  },
  {
   "cell_type": "code",
   "execution_count": 49,
   "metadata": {},
   "outputs": [],
   "source": [
    "import os\n",
    "import numpy as np\n",
    "import pandas as pd\n",
    "\n",
    "\n",
    "class Tables:\n",
    "    '''\n",
    "    读取和处理数据表\n",
    "    '''\n",
    "    \n",
    "    def __init__(self, root):\n",
    "        self.root = root\n",
    "        \n",
    "    def readfilelines(self, path, nmax = 0):\n",
    "        '''\n",
    "        按行读文件，读取指定行数\n",
    "        nmax=0 按行读取全部\n",
    "        '''\n",
    "        with open(self.root + path, 'rb') as fp:\n",
    "            ncount = 0 # 已读取行\n",
    "            while True:\n",
    "                content = fp.readline()\n",
    "                # 判断是否到文件尾，是否读取到\n",
    "                if content == \"\" or (ncount >= nmax and nmax != 0):\n",
    "                    break\n",
    "                yield content   # 返回读取的行\n",
    "                if nmax != 0 : \n",
    "                    ncount += 1\n",
    "                    \n",
    "    def tostring(self, path, nmax):\n",
    "        for line in T.readfilelines(path, nmax):\n",
    "            yield line.strip().decode()\n",
    "            \n",
    "    def file2matrix(self, path, delimiter):\n",
    "        '''\n",
    "        数据文件转矩阵\n",
    "\n",
    "        参数\n",
    "        ======\n",
    "        path::数据文件路径\n",
    "        delimiter::文件分隔符\n",
    "        '''\n",
    "        recordlist = []\n",
    "        with open(path, 'rb') as fp: # 读取文件内容\n",
    "            content = fp.read()\n",
    "            rowlist = content.splitlines()   # 按行转换为一维表\n",
    "            # 逐行遍历\n",
    "            # 结果按分隔符分割为行向量\n",
    "            recordlist =[row.split(delimiter) for row in rowlist if row.strip()]\n",
    "        return mat(recordlist)  # 返回转换后的矩阵形式"
   ]
  },
  {
   "cell_type": "code",
   "execution_count": 36,
   "metadata": {},
   "outputs": [],
   "source": [
    "root = 'D:/MLBook'\n",
    "T = Tables(root)"
   ]
  },
  {
   "cell_type": "code",
   "execution_count": 37,
   "metadata": {
    "scrolled": false
   },
   "outputs": [
    {
     "name": "stdout",
     "output_type": "stream",
     "text": [
      "香菜\t2.80\t4.00\t4.00\t4.00\t2.20\t山西汾阳市晋阳农副产品批发市场\t山西\t汾阳\n",
      "大葱\t2.80\t2.80\t2.80\t2.80\t2.60\t山西汾阳市晋阳农副产品批发市场\t山西\t汾阳\n",
      "葱头\t1.60\t1.60\t1.60\t1.60\t1.60\t山西汾阳市晋阳农副产品批发市场\t山西\t汾阳\n",
      "大蒜\t3.60\t3.60\t3.60\t3.60\t3.00\t山西汾阳市晋阳农副产品批发市场\t山西\t汾阳\n",
      "蒜苔\t6.20\t6.40\t6.40\t6.40\t5.20\t山西汾阳市晋阳农副产品批发市场\t山西\t汾阳\n",
      "韭菜\t5.60\t5.60\t5.60\t5.60\t4.60\t山西汾阳市晋阳农副产品批发市场\t山西\t汾阳\n",
      "青椒\t5.20\t5.00\t5.00\t5.00\t4.80\t山西汾阳市晋阳农副产品批发市场\t山西\t汾阳\n",
      "茄子\t5.40\t4.40\t4.40\t4.40\t5.40\t山西汾阳市晋阳农副产品批发市场\t山西\t汾阳\n",
      "西红柿\t4.80\t5.00\t5.00\t5.00\t5.00\t山西汾阳市晋阳农副产品批发市场\t山西\t汾阳\n",
      "黄瓜\t3.40\t4.00\t4.00\t4.00\t2.60\t山西汾阳市晋阳农副产品批发市场\t山西\t汾阳\n"
     ]
    }
   ],
   "source": [
    "# 读取 10 行\n",
    "path = \"/chapter01/testdata/01.txt\" # 数据文件所在路径\n",
    "for line in T.tostring(path, 10):\n",
    "    print(line)"
   ]
  },
  {
   "cell_type": "code",
   "execution_count": 130,
   "metadata": {},
   "outputs": [],
   "source": [
    "class File2Table:\n",
    "    def __init__(self, root):\n",
    "        self.root = root\n",
    "    \n",
    "    def file2matrix(self, path, delimiter):\n",
    "        '''\n",
    "        数据文件转矩阵\n",
    "\n",
    "        参数\n",
    "        ======\n",
    "        path::数据文件路径\n",
    "        delimiter::文件分隔符\n",
    "        '''\n",
    "        recordlist = []\n",
    "        with open(path, 'rb') as fp: # 读取文件内容\n",
    "            content = fp.read().decode()\n",
    "            rowlist = content.splitlines()   # 按行转换为一维表\n",
    "            # 逐行遍历\n",
    "            # 结果按分隔符分割为行向量\n",
    "            recordlist =[row.split(delimiter) for row in rowlist if row.strip()]\n",
    "        return np.mat(recordlist)  # 返回转换后的矩阵形式\n",
    "            \n",
    "    def to_pandas(self, delimiter):\n",
    "        '''\n",
    "        获取 root 下的所有数据表文件，并转换为 pandas.DataFrame\n",
    "        '''\n",
    "        pathlist = os.listdir(self.root) # 获取 root 下所有数据文件\n",
    "        for path in pathlist:\n",
    "            recordmat = self.file2matrix(self.root + \"/\" + path, delimiter)  # 文件到矩阵的转换\n",
    "            yield pd.DataFrame(recordmat)"
   ]
  },
  {
   "cell_type": "code",
   "execution_count": 131,
   "metadata": {},
   "outputs": [],
   "source": [
    "root1 = root + \"/chapter01/testdata\" # 数据文件所在路径\n",
    "FM = File2Table(root1)"
   ]
  },
  {
   "cell_type": "code",
   "execution_count": 138,
   "metadata": {},
   "outputs": [
    {
     "data": {
      "text/plain": [
       "matrix([['香菜', '2.80', '4.00', '4.00', '4.00', '2.20', '山西汾阳市晋阳农副产品批发市场',\n",
       "         '山西', '汾阳'],\n",
       "        ['大葱', '2.80', '2.80', '2.80', '2.80', '2.60', '山西汾阳市晋阳农副产品批发市场',\n",
       "         '山西', '汾阳'],\n",
       "        ['葱头', '1.60', '1.60', '1.60', '1.60', '1.60', '山西汾阳市晋阳农副产品批发市场',\n",
       "         '山西', '汾阳'],\n",
       "        ['大蒜', '3.60', '3.60', '3.60', '3.60', '3.00', '山西汾阳市晋阳农副产品批发市场',\n",
       "         '山西', '汾阳'],\n",
       "        ['蒜苔', '6.20', '6.40', '6.40', '6.40', '5.20', '山西汾阳市晋阳农副产品批发市场',\n",
       "         '山西', '汾阳'],\n",
       "        ['韭菜', '5.60', '5.60', '5.60', '5.60', '4.60', '山西汾阳市晋阳农副产品批发市场',\n",
       "         '山西', '汾阳']],\n",
       "       dtype='<U28')"
      ]
     },
     "execution_count": 138,
     "metadata": {},
     "output_type": "execute_result"
    }
   ],
   "source": [
    "pathlist = os.listdir(root1)\n",
    "path = root1 + \"/\" + pathlist[0]\n",
    "m = FM.file2matrix(path, '\\t')[:6]\n",
    "m"
   ]
  },
  {
   "cell_type": "code",
   "execution_count": 136,
   "metadata": {},
   "outputs": [],
   "source": [
    "for p in FM.to_pandas('\\t'):\n",
    "    break"
   ]
  },
  {
   "cell_type": "code",
   "execution_count": 137,
   "metadata": {},
   "outputs": [
    {
     "data": {
      "text/html": [
       "<div>\n",
       "<style scoped>\n",
       "    .dataframe tbody tr th:only-of-type {\n",
       "        vertical-align: middle;\n",
       "    }\n",
       "\n",
       "    .dataframe tbody tr th {\n",
       "        vertical-align: top;\n",
       "    }\n",
       "\n",
       "    .dataframe thead th {\n",
       "        text-align: right;\n",
       "    }\n",
       "</style>\n",
       "<table border=\"1\" class=\"dataframe\">\n",
       "  <thead>\n",
       "    <tr style=\"text-align: right;\">\n",
       "      <th></th>\n",
       "      <th>0</th>\n",
       "      <th>1</th>\n",
       "      <th>2</th>\n",
       "      <th>3</th>\n",
       "      <th>4</th>\n",
       "      <th>5</th>\n",
       "      <th>6</th>\n",
       "      <th>7</th>\n",
       "      <th>8</th>\n",
       "    </tr>\n",
       "  </thead>\n",
       "  <tbody>\n",
       "    <tr>\n",
       "      <th>0</th>\n",
       "      <td>香菜</td>\n",
       "      <td>2.80</td>\n",
       "      <td>4.00</td>\n",
       "      <td>4.00</td>\n",
       "      <td>4.00</td>\n",
       "      <td>2.20</td>\n",
       "      <td>山西汾阳市晋阳农副产品批发市场</td>\n",
       "      <td>山西</td>\n",
       "      <td>汾阳</td>\n",
       "    </tr>\n",
       "    <tr>\n",
       "      <th>1</th>\n",
       "      <td>大葱</td>\n",
       "      <td>2.80</td>\n",
       "      <td>2.80</td>\n",
       "      <td>2.80</td>\n",
       "      <td>2.80</td>\n",
       "      <td>2.60</td>\n",
       "      <td>山西汾阳市晋阳农副产品批发市场</td>\n",
       "      <td>山西</td>\n",
       "      <td>汾阳</td>\n",
       "    </tr>\n",
       "    <tr>\n",
       "      <th>2</th>\n",
       "      <td>葱头</td>\n",
       "      <td>1.60</td>\n",
       "      <td>1.60</td>\n",
       "      <td>1.60</td>\n",
       "      <td>1.60</td>\n",
       "      <td>1.60</td>\n",
       "      <td>山西汾阳市晋阳农副产品批发市场</td>\n",
       "      <td>山西</td>\n",
       "      <td>汾阳</td>\n",
       "    </tr>\n",
       "    <tr>\n",
       "      <th>3</th>\n",
       "      <td>大蒜</td>\n",
       "      <td>3.60</td>\n",
       "      <td>3.60</td>\n",
       "      <td>3.60</td>\n",
       "      <td>3.60</td>\n",
       "      <td>3.00</td>\n",
       "      <td>山西汾阳市晋阳农副产品批发市场</td>\n",
       "      <td>山西</td>\n",
       "      <td>汾阳</td>\n",
       "    </tr>\n",
       "    <tr>\n",
       "      <th>4</th>\n",
       "      <td>蒜苔</td>\n",
       "      <td>6.20</td>\n",
       "      <td>6.40</td>\n",
       "      <td>6.40</td>\n",
       "      <td>6.40</td>\n",
       "      <td>5.20</td>\n",
       "      <td>山西汾阳市晋阳农副产品批发市场</td>\n",
       "      <td>山西</td>\n",
       "      <td>汾阳</td>\n",
       "    </tr>\n",
       "  </tbody>\n",
       "</table>\n",
       "</div>"
      ],
      "text/plain": [
       "    0     1     2     3     4     5                6   7   8\n",
       "0  香菜  2.80  4.00  4.00  4.00  2.20  山西汾阳市晋阳农副产品批发市场  山西  汾阳\n",
       "1  大葱  2.80  2.80  2.80  2.80  2.60  山西汾阳市晋阳农副产品批发市场  山西  汾阳\n",
       "2  葱头  1.60  1.60  1.60  1.60  1.60  山西汾阳市晋阳农副产品批发市场  山西  汾阳\n",
       "3  大蒜  3.60  3.60  3.60  3.60  3.00  山西汾阳市晋阳农副产品批发市场  山西  汾阳\n",
       "4  蒜苔  6.20  6.40  6.40  6.40  5.20  山西汾阳市晋阳农副产品批发市场  山西  汾阳"
      ]
     },
     "execution_count": 137,
     "metadata": {},
     "output_type": "execute_result"
    }
   ],
   "source": [
    "p.head()"
   ]
  },
  {
   "cell_type": "markdown",
   "metadata": {},
   "source": [
    "# `pickle` 的使用"
   ]
  },
  {
   "cell_type": "code",
   "execution_count": 142,
   "metadata": {},
   "outputs": [],
   "source": [
    "import pickle"
   ]
  },
  {
   "cell_type": "code",
   "execution_count": 140,
   "metadata": {
    "scrolled": true
   },
   "outputs": [
    {
     "data": {
      "text/plain": [
       "'D:/MLBook/chapter01/testdata'"
      ]
     },
     "execution_count": 140,
     "metadata": {},
     "output_type": "execute_result"
    }
   ],
   "source": [
    "root1"
   ]
  },
  {
   "cell_type": "markdown",
   "metadata": {},
   "source": [
    "## 将数据写入磁盘"
   ]
  },
  {
   "cell_type": "code",
   "execution_count": 148,
   "metadata": {},
   "outputs": [],
   "source": [
    "with open(root1 + \"/recordmat.dat\", \"wb\") as file_obj:\n",
    "    pickle.dump(p, file_obj) "
   ]
  },
  {
   "cell_type": "markdown",
   "metadata": {},
   "source": [
    "## 将数据载入内存"
   ]
  },
  {
   "cell_type": "code",
   "execution_count": 149,
   "metadata": {
    "scrolled": false
   },
   "outputs": [
    {
     "name": "stdout",
     "output_type": "stream",
     "text": [
      "(4103, 9)\n"
     ]
    }
   ],
   "source": [
    "with open(root1 + \"/recordmat.dat\", \"rb\") as read_obj:\n",
    "    readmat = pickle.load(read_obj)\n",
    "print(readmat.shape)"
   ]
  },
  {
   "cell_type": "markdown",
   "metadata": {},
   "source": [
    "# 可视化"
   ]
  },
  {
   "cell_type": "code",
   "execution_count": 2,
   "metadata": {
    "scrolled": true
   },
   "outputs": [
    {
     "name": "stdout",
     "output_type": "stream",
     "text": [
      "Populating the interactive namespace from numpy and matplotlib\n"
     ]
    }
   ],
   "source": [
    "%pylab inline"
   ]
  },
  {
   "cell_type": "code",
   "execution_count": 4,
   "metadata": {},
   "outputs": [
    {
     "data": {
      "image/png": "[encoded data removed]",
      "text/plain": [
       "<Figure size 432x288 with 1 Axes>"
      ]
     },
     "metadata": {},
     "output_type": "display_data"
    }
   ],
   "source": [
    "fig = plt.figure()\n",
    "ax = fig.add_subplot(111)\n",
    "x0 = linspace(0,1,200)\n",
    "y0 = 2*x0\n",
    "x1 = linspace(0,1,200)\n",
    "y1 = 3*x1\n",
    "x2 = linspace(0,3,200)\n",
    "y2 = x2/3 \n",
    "x3 = linspace(0,5,200)\n",
    "y3 = 7*x3/5\n",
    "ax.plot(x0,y0,\"r\")\n",
    "plt.annotate(\"(1,2)\",xy = (1,2))\t\n",
    "ax.plot(x1,y1,\"b\")\n",
    "plt.annotate(\"(1,3)\",xy = (1,3))\t\n",
    "ax.plot(x2,y2,\"b\")\n",
    "plt.annotate(\"(3,1)\",xy = (3,1))\t\n",
    "ax.plot(x3,y3,\"r\")\n",
    "plt.annotate(\"(5,7)\",xy = (5,7))\t\n",
    "#平行四边形\n",
    "x7 = linspace(0,1,200)\n",
    "y7 = linspace(2,2,200)\n",
    "ax.plot(x7,y7,\"b\",linestyle='--')\t\n",
    "x8 = linspace(1,1,200)\n",
    "y8 = linspace(0,2,200)\n",
    "ax.plot(x8,y8,\"b\",linestyle='--')\t\n",
    "x4 = linspace(1,2,200)\n",
    "y4 = 3*x4\n",
    "ax.plot(x4,y4,\"b\",linestyle='--')\t\n",
    "x5 = linspace(2,5,200)\n",
    "y5 = 6+x0\n",
    "ax.plot(x5,y5,\"b\",linestyle='--')\n",
    "x6 = linspace(3,5,200)\n",
    "y6 = 1+6*x0\n",
    "ax.plot(x6,y6,\"b\",linestyle='--')\n",
    "plt.xlim(0, 8)\n",
    "plt.ylim(0, 8)\n",
    "plt.grid(True)\n",
    "plt.show()"
   ]
  },
  {
   "cell_type": "code",
   "execution_count": 159,
   "metadata": {},
   "outputs": [
    {
     "data": {
      "image/png": "[encoded data removed]",
      "text/plain": [
       "<Figure size 432x288 with 1 Axes>"
      ]
     },
     "metadata": {},
     "output_type": "display_data"
    }
   ],
   "source": [
    "x = np.linspace(-5, 5, 200);\n",
    "y = np.sin(x);                              # 给出 y 与 x 的基本关系\n",
    "yn = y + np.random.rand(1,len(y)) * 1.5 ;     # 加入噪声的点集\n",
    "# 绘图\n",
    "fig = plt.figure()\n",
    "ax = fig.add_subplot(111) \n",
    "ax.scatter(x, yn, c='blue',marker='o')\n",
    "ax.plot(x, y+0.75, 'r') \n",
    "plt.show()"
   ]
  },
  {
   "cell_type": "markdown",
   "metadata": {},
   "source": [
    "## Net 可视化"
   ]
  },
  {
   "cell_type": "code",
   "execution_count": 166,
   "metadata": {
    "scrolled": false
   },
   "outputs": [
    {
     "name": "stdout",
     "output_type": "stream",
     "text": [
      "[[0.1], [0.9], [0.9], [0.45], [0.9], [0.7], [0.1], [0.45]]\n",
      "[[0.1], [0.5], [0.1], [0.9], [0.8], [0.9], [0.45], [0.1]]\n"
     ]
    },
    {
     "data": {
      "image/png": "[encoded data removed]",
      "text/plain": [
       "<Figure size 432x288 with 1 Axes>"
      ]
     },
     "metadata": {},
     "output_type": "display_data"
    }
   ],
   "source": [
    "# nodelist = [\"city1\", \"city2\", \"city3\", \"city4\", \"city5\", \"city6\", \"city7\", \"city8\"]\n",
    "dist = np.array([[0.1,0.1], [0.9,0.5], \n",
    "               [0.9,0.1], [0.45,0.9],\n",
    "               [0.9,0.8], [0.7,0.9],\n",
    "               [0.1,0.45], [0.45,0.1]])\n",
    "m, n = dist.shape\n",
    "# 绘图\n",
    "fig = plt.figure()\n",
    "ax = fig.add_subplot(111) \n",
    "ax.scatter(dist.T[0], dist.T[1], c='blue', marker='o', s=100)\n",
    "for point in dist.tolist():\n",
    "    plt.annotate(\"(\"+str(point[0])+\", \"+str(point[1])+\")\", xy = (point[0],point[1]))\n",
    "xlist = []\n",
    "ylist = []\n",
    "for px,py in zip(dist.T.tolist()[0],dist.T.tolist()[1]):\n",
    "    xlist.append([px])\n",
    "    ylist.append([py])\n",
    "print(xlist)\n",
    "print(ylist)\n",
    "ax.plot(xlist, ylist, 'r') \n",
    "plt.show()"
   ]
  },
  {
   "cell_type": "markdown",
   "metadata": {},
   "source": [
    "## 绘制树"
   ]
  },
  {
   "cell_type": "code",
   "execution_count": 3,
   "metadata": {},
   "outputs": [
    {
     "data": {
      "image/png": "[encoded data removed]",
      "text/plain": [
       "<Figure size 432x288 with 1 Axes>"
      ]
     },
     "metadata": {},
     "output_type": "display_data"
    }
   ],
   "source": [
    "import sys\n",
    "sys.path.append('E:/xinlib')\n",
    "import treePlotter as tp \n",
    "\n",
    "myTree = {'root': {0: 'leaf node', 1: {'level 2': {0: 'leaf node', 1: 'leaf node'}},2:{'level2': {0: 'leaf node', 1: 'leaf node'}}}}\n",
    "tp.createPlot(myTree)"
   ]
  },
  {
   "cell_type": "markdown",
   "metadata": {},
   "source": [
    "# 初识推荐系统\n",
    "\n",
    "### [wiki](https://zh.wikipedia.org/zh-hans/推薦系統)\n",
    "\n",
    "推荐系统是一种信息过滤系统，用于预测用户对物品的「评分」或「偏好」。\n",
    "\n",
    "精彩推荐：\n",
    "- [《推荐系统实战》- 笔记与思考](https://www.cnblogs.com/buptzym/p/7140639.html)\n",
    "- [Surprise——Python的推荐系统库（1）](https://blog.csdn.net/qq_26877377/article/details/79980107)\n",
    "\n",
    "### 存在问题（背景）\n",
    "\n",
    "- **关键词**的信息量不足，基于关键词的检索在很多情况下不能精准和深刻地反映用户的潜在需求；\n",
    "- 通用的搜索引擎只有而且必须对用户提供尽量丰富而无差别的信息，这样才能应对不同种类的需求，以及需求的变换。\n",
    "\n",
    "因此，如何平衡搜索的广度与深度（精准程度）是推荐系统所要解决的主要问题。\n",
    "\n",
    "推荐系统着眼于**需求**二字：\n",
    "- 需求的定位；\n",
    "- 需求的个性化；\n",
    "- 需求的模糊性衍生。\n",
    "\n",
    "### 推荐系统的应用\n",
    "\n",
    "- 把包销售：经常一起购买的产品；\n",
    "- **协同过滤**：购买了此产品的顾客同时也购买的产品；（除了促销之外，也可以帮助用户定位购买需求）\n",
    "- 用户的商品评论列表。\n",
    "\n",
    "推荐系统通过研究用户的兴趣偏好，由智能算法进行个性化的计算，发现用户的潜在兴趣点，从而引导用户发现需求。\n",
    "\n",
    "### 推荐系统的架构\n",
    "![](http://static.zybuluo.com/xinet/nv0xlf5fudcw8jzuja1bhcl1/%E6%8D%95%E8%8E%B7.PNG)\n",
    "\n",
    "![捕获.PNG-233.8kB][1]\n",
    "![捕获1.PNG-512.6kB][2]\n",
    "\n",
    "\n",
    "  [1]: http://static.zybuluo.com/xinet/otbwdn2j9meo0b2bks3b4w4u/%E6%8D%95%E8%8E%B7.PNG\n",
    "  [2]: http://static.zybuluo.com/xinet/0gba1a2zgmrsvwv0w8fccfvt/%E6%8D%95%E8%8E%B71.PNG\n",
    "\n",
    "前两种方法较为简单，应用也不广泛。\n",
    "\n",
    "## 协同过滤（Collaborative Filtering，CF）\n",
    "\n",
    "推荐模型：\n",
    "- 基于用户的推荐技术：找到具有相似品味的人所喜欢的物品——User CF；\n",
    "- 基于物品的推荐技术：从一个人喜欢的物品中找出相似的物品——Item CF。\n",
    "\n",
    "### 数据预处理\n",
    "\n",
    "![](http://static.zybuluo.com/xinet/aisvgo78hcufm70604oz1b87/%E6%8D%95%E8%8E%B7.PNG)\n",
    "\n",
    "预处理策略：\n",
    "- 减噪\n",
    "- 归一化\n",
    "- 聚类（缩减计算量）\n",
    "\n",
    "### 使用 Scikit-Learn 的 KMeans 聚类\n",
    "\n",
    "![](http://static.zybuluo.com/xinet/0lctfv21ucngkvkarmv2mz91/%E6%8D%95%E8%8E%B7.PNG)\n",
    "\n",
    "### KMeans 的基本原理\n",
    "给定要划分的数目 $k$：\n",
    "- 首先创建一个初始划分，随机选择 $k$ 个对象，每个对象初始地代表了一个聚类中心。对于其他对象，根据其与各个聚类中心的距离，将它们赋给最近的簇。\n",
    "- 然后采用一种迭代的重定位技术，尝试通过对象在划分的簇之间移动来改进划分，直到聚类中心不发生变化为止。\n",
    "    - **重定位技术**：就是当有新的对象加入到簇中或已有对象离开簇时，重新计算聚类的平均值（作为聚类中心），然后对对象进行重新分配。"
   ]
  },
  {
   "cell_type": "code",
   "execution_count": null,
   "metadata": {},
   "outputs": [],
   "source": []
  }
 ],
 "metadata": {
  "kernelspec": {
   "display_name": "Python 3",
   "language": "python",
   "name": "python3"
  },
  "language_info": {
   "codemirror_mode": {
    "name": "ipython",
    "version": 3
   },
   "file_extension": ".py",
   "mimetype": "text/x-python",
   "name": "python",
   "nbconvert_exporter": "python",
   "pygments_lexer": "ipython3",
   "version": "3.6.4"
  }
 },
 "nbformat": 4,
 "nbformat_minor": 2
}
