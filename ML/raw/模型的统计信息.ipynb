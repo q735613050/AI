{
 "cells": [
  {
   "cell_type": "code",
   "execution_count": 57,
   "metadata": {},
   "outputs": [
    {
     "name": "stdout",
     "output_type": "stream",
     "text": [
      "Populating the interactive namespace from numpy and matplotlib\n"
     ]
    }
   ],
   "source": [
    "import numpy as np\n",
    "import matplotlib.pyplot as plt\n",
    "import pandas as pd\n",
    "from sklearn.model_selection import train_test_split\n",
    "import statsmodels.api as sm\n",
    "from statsmodels.graphics.mosaicplot import mosaic\n",
    "\n",
    "%pylab inline\n",
    "mpl.rcParams['font.sans-serif'] = ['SimHei']  # 指定默认字体\n",
    "mpl.rcParams['axes.unicode_minus'] = False  # 解决保存图像是负号 '-' 显示为方块的问题"
   ]
  },
  {
   "cell_type": "markdown",
   "metadata": {},
   "source": [
    "# 载入和分析数据"
   ]
  },
  {
   "cell_type": "code",
   "execution_count": 4,
   "metadata": {},
   "outputs": [],
   "source": [
    "def readData(path):\n",
    "    \"\"\"\n",
    "    使用pandas读取数据\n",
    "    \"\"\"\n",
    "    data = pd.read_csv(path)\n",
    "    cols = [\"age\", \"education_num\", \"capital_gain\", \"capital_loss\", \"hours_per_week\", \"label\"]\n",
    "    return data[cols]\n",
    "\n",
    "data = readData('dataset/adult.data')"
   ]
  },
  {
   "cell_type": "code",
   "execution_count": 5,
   "metadata": {},
   "outputs": [
    {
     "data": {
      "image/png": "[encoded data removed]",
      "text/plain": [
       "<Figure size 576x576 with 6 Axes>"
      ]
     },
     "metadata": {},
     "output_type": "display_data"
    }
   ],
   "source": [
    "data.hist(rwidth=0.9, grid=False, figsize=(8, 8), alpha=0.6)   # 各个变量的直方图\n",
    "plt.show()"
   ]
  },
  {
   "cell_type": "code",
   "execution_count": 6,
   "metadata": {},
   "outputs": [
    {
     "data": {
      "text/html": [
       "<div>\n",
       "<style>\n",
       "    .dataframe thead tr:only-child th {\n",
       "        text-align: right;\n",
       "    }\n",
       "\n",
       "    .dataframe thead th {\n",
       "        text-align: left;\n",
       "    }\n",
       "\n",
       "    .dataframe tbody tr th {\n",
       "        vertical-align: top;\n",
       "    }\n",
       "</style>\n",
       "<table border=\"1\" class=\"dataframe\">\n",
       "  <thead>\n",
       "    <tr style=\"text-align: right;\">\n",
       "      <th></th>\n",
       "      <th>age</th>\n",
       "      <th>education_num</th>\n",
       "      <th>capital_gain</th>\n",
       "      <th>capital_loss</th>\n",
       "      <th>hours_per_week</th>\n",
       "      <th>label</th>\n",
       "    </tr>\n",
       "  </thead>\n",
       "  <tbody>\n",
       "    <tr>\n",
       "      <th>0</th>\n",
       "      <td>39</td>\n",
       "      <td>13</td>\n",
       "      <td>2174</td>\n",
       "      <td>0</td>\n",
       "      <td>40</td>\n",
       "      <td>&lt;=50K</td>\n",
       "    </tr>\n",
       "    <tr>\n",
       "      <th>1</th>\n",
       "      <td>50</td>\n",
       "      <td>13</td>\n",
       "      <td>0</td>\n",
       "      <td>0</td>\n",
       "      <td>13</td>\n",
       "      <td>&lt;=50K</td>\n",
       "    </tr>\n",
       "    <tr>\n",
       "      <th>2</th>\n",
       "      <td>38</td>\n",
       "      <td>9</td>\n",
       "      <td>0</td>\n",
       "      <td>0</td>\n",
       "      <td>40</td>\n",
       "      <td>&lt;=50K</td>\n",
       "    </tr>\n",
       "    <tr>\n",
       "      <th>3</th>\n",
       "      <td>53</td>\n",
       "      <td>7</td>\n",
       "      <td>0</td>\n",
       "      <td>0</td>\n",
       "      <td>40</td>\n",
       "      <td>&lt;=50K</td>\n",
       "    </tr>\n",
       "    <tr>\n",
       "      <th>4</th>\n",
       "      <td>28</td>\n",
       "      <td>13</td>\n",
       "      <td>0</td>\n",
       "      <td>0</td>\n",
       "      <td>40</td>\n",
       "      <td>&lt;=50K</td>\n",
       "    </tr>\n",
       "  </tbody>\n",
       "</table>\n",
       "</div>"
      ],
      "text/plain": [
       "   age  education_num  capital_gain  capital_loss  hours_per_week   label\n",
       "0   39             13          2174             0              40   <=50K\n",
       "1   50             13             0             0              13   <=50K\n",
       "2   38              9             0             0              40   <=50K\n",
       "3   53              7             0             0              40   <=50K\n",
       "4   28             13             0             0              40   <=50K"
      ]
     },
     "execution_count": 6,
     "metadata": {},
     "output_type": "execute_result"
    }
   ],
   "source": [
    "data.head()"
   ]
  },
  {
   "cell_type": "code",
   "execution_count": 8,
   "metadata": {},
   "outputs": [],
   "source": [
    "data['label_code'] = pd.Categorical(data.label).codes   # 将文字变量转化为数字变量"
   ]
  },
  {
   "cell_type": "code",
   "execution_count": 10,
   "metadata": {},
   "outputs": [
    {
     "data": {
      "text/html": [
       "<div>\n",
       "<style>\n",
       "    .dataframe thead tr:only-child th {\n",
       "        text-align: right;\n",
       "    }\n",
       "\n",
       "    .dataframe thead th {\n",
       "        text-align: left;\n",
       "    }\n",
       "\n",
       "    .dataframe tbody tr th {\n",
       "        vertical-align: top;\n",
       "    }\n",
       "</style>\n",
       "<table border=\"1\" class=\"dataframe\">\n",
       "  <thead>\n",
       "    <tr style=\"text-align: right;\">\n",
       "      <th></th>\n",
       "      <th>label</th>\n",
       "      <th>label_code</th>\n",
       "    </tr>\n",
       "  </thead>\n",
       "  <tbody>\n",
       "    <tr>\n",
       "      <th>0</th>\n",
       "      <td>&lt;=50K</td>\n",
       "      <td>0</td>\n",
       "    </tr>\n",
       "    <tr>\n",
       "      <th>1</th>\n",
       "      <td>&lt;=50K</td>\n",
       "      <td>0</td>\n",
       "    </tr>\n",
       "    <tr>\n",
       "      <th>2</th>\n",
       "      <td>&lt;=50K</td>\n",
       "      <td>0</td>\n",
       "    </tr>\n",
       "    <tr>\n",
       "      <th>3</th>\n",
       "      <td>&lt;=50K</td>\n",
       "      <td>0</td>\n",
       "    </tr>\n",
       "    <tr>\n",
       "      <th>4</th>\n",
       "      <td>&lt;=50K</td>\n",
       "      <td>0</td>\n",
       "    </tr>\n",
       "    <tr>\n",
       "      <th>5</th>\n",
       "      <td>&lt;=50K</td>\n",
       "      <td>0</td>\n",
       "    </tr>\n",
       "    <tr>\n",
       "      <th>6</th>\n",
       "      <td>&lt;=50K</td>\n",
       "      <td>0</td>\n",
       "    </tr>\n",
       "    <tr>\n",
       "      <th>7</th>\n",
       "      <td>&gt;50K</td>\n",
       "      <td>1</td>\n",
       "    </tr>\n",
       "  </tbody>\n",
       "</table>\n",
       "</div>"
      ],
      "text/plain": [
       "    label  label_code\n",
       "0   <=50K           0\n",
       "1   <=50K           0\n",
       "2   <=50K           0\n",
       "3   <=50K           0\n",
       "4   <=50K           0\n",
       "5   <=50K           0\n",
       "6   <=50K           0\n",
       "7    >50K           1"
      ]
     },
     "execution_count": 10,
     "metadata": {},
     "output_type": "execute_result"
    }
   ],
   "source": [
    "data[['label', 'label_code']].head(8)"
   ]
  },
  {
   "cell_type": "code",
   "execution_count": 18,
   "metadata": {},
   "outputs": [],
   "source": [
    "def visualData(df):\n",
    "    \"\"\"\n",
    "    画直方图，直观了解数据\n",
    "    \"\"\"\n",
    "    df.hist(\n",
    "        rwidth=0.9, grid=False, figsize=(8, 8), alpha=0.6, color=\"grey\")\n",
    "    plt.show(block=False)"
   ]
  },
  {
   "cell_type": "code",
   "execution_count": 19,
   "metadata": {},
   "outputs": [
    {
     "data": {
      "image/png": "[encoded data removed]",
      "text/plain": [
       "<Figure size 576x576 with 6 Axes>"
      ]
     },
     "metadata": {},
     "output_type": "display_data"
    }
   ],
   "source": [
    "df = data[[\"age\", \"education_num\", \"capital_gain\", \"capital_loss\", \"hours_per_week\", \"label_code\"]]\n",
    "visualData(df)"
   ]
  },
  {
   "cell_type": "code",
   "execution_count": 20,
   "metadata": {},
   "outputs": [
    {
     "data": {
      "text/html": [
       "<div>\n",
       "<style>\n",
       "    .dataframe thead tr:only-child th {\n",
       "        text-align: right;\n",
       "    }\n",
       "\n",
       "    .dataframe thead th {\n",
       "        text-align: left;\n",
       "    }\n",
       "\n",
       "    .dataframe tbody tr th {\n",
       "        vertical-align: top;\n",
       "    }\n",
       "</style>\n",
       "<table border=\"1\" class=\"dataframe\">\n",
       "  <thead>\n",
       "    <tr style=\"text-align: right;\">\n",
       "      <th></th>\n",
       "      <th>age</th>\n",
       "      <th>education_num</th>\n",
       "      <th>capital_gain</th>\n",
       "      <th>capital_loss</th>\n",
       "      <th>hours_per_week</th>\n",
       "      <th>label_code</th>\n",
       "    </tr>\n",
       "  </thead>\n",
       "  <tbody>\n",
       "    <tr>\n",
       "      <th>count</th>\n",
       "      <td>32561.000000</td>\n",
       "      <td>32561.000000</td>\n",
       "      <td>32561.000000</td>\n",
       "      <td>32561.000000</td>\n",
       "      <td>32561.000000</td>\n",
       "      <td>32561.000000</td>\n",
       "    </tr>\n",
       "    <tr>\n",
       "      <th>mean</th>\n",
       "      <td>38.581647</td>\n",
       "      <td>10.080679</td>\n",
       "      <td>1077.648844</td>\n",
       "      <td>87.303830</td>\n",
       "      <td>40.437456</td>\n",
       "      <td>0.240810</td>\n",
       "    </tr>\n",
       "    <tr>\n",
       "      <th>std</th>\n",
       "      <td>13.640433</td>\n",
       "      <td>2.572720</td>\n",
       "      <td>7385.292085</td>\n",
       "      <td>402.960219</td>\n",
       "      <td>12.347429</td>\n",
       "      <td>0.427581</td>\n",
       "    </tr>\n",
       "    <tr>\n",
       "      <th>min</th>\n",
       "      <td>17.000000</td>\n",
       "      <td>1.000000</td>\n",
       "      <td>0.000000</td>\n",
       "      <td>0.000000</td>\n",
       "      <td>1.000000</td>\n",
       "      <td>0.000000</td>\n",
       "    </tr>\n",
       "    <tr>\n",
       "      <th>25%</th>\n",
       "      <td>28.000000</td>\n",
       "      <td>9.000000</td>\n",
       "      <td>0.000000</td>\n",
       "      <td>0.000000</td>\n",
       "      <td>40.000000</td>\n",
       "      <td>0.000000</td>\n",
       "    </tr>\n",
       "    <tr>\n",
       "      <th>50%</th>\n",
       "      <td>37.000000</td>\n",
       "      <td>10.000000</td>\n",
       "      <td>0.000000</td>\n",
       "      <td>0.000000</td>\n",
       "      <td>40.000000</td>\n",
       "      <td>0.000000</td>\n",
       "    </tr>\n",
       "    <tr>\n",
       "      <th>75%</th>\n",
       "      <td>48.000000</td>\n",
       "      <td>12.000000</td>\n",
       "      <td>0.000000</td>\n",
       "      <td>0.000000</td>\n",
       "      <td>45.000000</td>\n",
       "      <td>0.000000</td>\n",
       "    </tr>\n",
       "    <tr>\n",
       "      <th>max</th>\n",
       "      <td>90.000000</td>\n",
       "      <td>16.000000</td>\n",
       "      <td>99999.000000</td>\n",
       "      <td>4356.000000</td>\n",
       "      <td>99.000000</td>\n",
       "      <td>1.000000</td>\n",
       "    </tr>\n",
       "  </tbody>\n",
       "</table>\n",
       "</div>"
      ],
      "text/plain": [
       "                age  education_num  capital_gain  capital_loss  \\\n",
       "count  32561.000000   32561.000000  32561.000000  32561.000000   \n",
       "mean      38.581647      10.080679   1077.648844     87.303830   \n",
       "std       13.640433       2.572720   7385.292085    402.960219   \n",
       "min       17.000000       1.000000      0.000000      0.000000   \n",
       "25%       28.000000       9.000000      0.000000      0.000000   \n",
       "50%       37.000000      10.000000      0.000000      0.000000   \n",
       "75%       48.000000      12.000000      0.000000      0.000000   \n",
       "max       90.000000      16.000000  99999.000000   4356.000000   \n",
       "\n",
       "       hours_per_week    label_code  \n",
       "count    32561.000000  32561.000000  \n",
       "mean        40.437456      0.240810  \n",
       "std         12.347429      0.427581  \n",
       "min          1.000000      0.000000  \n",
       "25%         40.000000      0.000000  \n",
       "50%         40.000000      0.000000  \n",
       "75%         45.000000      0.000000  \n",
       "max         99.000000      1.000000  "
      ]
     },
     "execution_count": 20,
     "metadata": {},
     "output_type": "execute_result"
    }
   ],
   "source": [
    "data.describe()  # 仅仅显示数值型变量的基本统计信息，若要显示全部变量的统计信息只需传入参数 `include='all'`"
   ]
  },
  {
   "cell_type": "markdown",
   "metadata": {},
   "source": [
    "## 交叉报表\n",
    "\n",
    "**交叉报表**用来描述两个变量之间的关系。"
   ]
  },
  {
   "cell_type": "markdown",
   "metadata": {},
   "source": [
    "- 按四分位数划分为 $4$ 个区间"
   ]
  },
  {
   "cell_type": "code",
   "execution_count": 23,
   "metadata": {
    "scrolled": true
   },
   "outputs": [
    {
     "data": {
      "text/plain": [
       "0         (12.0, 16.0]\n",
       "1         (12.0, 16.0]\n",
       "2        (8.999, 10.0]\n",
       "3                  NaN\n",
       "4         (12.0, 16.0]\n",
       "5         (12.0, 16.0]\n",
       "6                  NaN\n",
       "7        (8.999, 10.0]\n",
       "8         (12.0, 16.0]\n",
       "9         (12.0, 16.0]\n",
       "10       (8.999, 10.0]\n",
       "11        (12.0, 16.0]\n",
       "12        (12.0, 16.0]\n",
       "13        (10.0, 12.0]\n",
       "14        (10.0, 12.0]\n",
       "15                 NaN\n",
       "16       (8.999, 10.0]\n",
       "17       (8.999, 10.0]\n",
       "18                 NaN\n",
       "19        (12.0, 16.0]\n",
       "20        (12.0, 16.0]\n",
       "21       (8.999, 10.0]\n",
       "22                 NaN\n",
       "23                 NaN\n",
       "24       (8.999, 10.0]\n",
       "25        (12.0, 16.0]\n",
       "26       (8.999, 10.0]\n",
       "27       (8.999, 10.0]\n",
       "28       (8.999, 10.0]\n",
       "29       (8.999, 10.0]\n",
       "             ...      \n",
       "32531     (12.0, 16.0]\n",
       "32532     (12.0, 16.0]\n",
       "32533     (12.0, 16.0]\n",
       "32534    (8.999, 10.0]\n",
       "32535              NaN\n",
       "32536     (12.0, 16.0]\n",
       "32537    (8.999, 10.0]\n",
       "32538     (12.0, 16.0]\n",
       "32539     (12.0, 16.0]\n",
       "32540    (8.999, 10.0]\n",
       "32541    (8.999, 10.0]\n",
       "32542    (8.999, 10.0]\n",
       "32543     (10.0, 12.0]\n",
       "32544     (12.0, 16.0]\n",
       "32545     (10.0, 12.0]\n",
       "32546     (10.0, 12.0]\n",
       "32547    (8.999, 10.0]\n",
       "32548     (12.0, 16.0]\n",
       "32549    (8.999, 10.0]\n",
       "32550    (8.999, 10.0]\n",
       "32551              NaN\n",
       "32552     (10.0, 12.0]\n",
       "32553     (12.0, 16.0]\n",
       "32554     (12.0, 16.0]\n",
       "32555    (8.999, 10.0]\n",
       "32556     (10.0, 12.0]\n",
       "32557    (8.999, 10.0]\n",
       "32558    (8.999, 10.0]\n",
       "32559    (8.999, 10.0]\n",
       "32560    (8.999, 10.0]\n",
       "Name: education_num, Length: 32561, dtype: category\n",
       "Categories (3, interval[float64]): [(8.999, 10.0] < (10.0, 12.0] < (12.0, 16.0]]"
      ]
     },
     "execution_count": 23,
     "metadata": {},
     "output_type": "execute_result"
    }
   ],
   "source": [
    "qeducation_num = pd.qcut(data['education_num'], [.25, .5, .75, 1])  \n",
    "qeducation_num"
   ]
  },
  {
   "cell_type": "markdown",
   "metadata": {},
   "source": [
    "- 计算 `education_num` 和 `label` 的交叉报表"
   ]
  },
  {
   "cell_type": "code",
   "execution_count": 48,
   "metadata": {},
   "outputs": [
    {
     "data": {
      "text/html": [
       "<div>\n",
       "<style>\n",
       "    .dataframe thead tr:only-child th {\n",
       "        text-align: right;\n",
       "    }\n",
       "\n",
       "    .dataframe thead th {\n",
       "        text-align: left;\n",
       "    }\n",
       "\n",
       "    .dataframe tbody tr th {\n",
       "        vertical-align: top;\n",
       "    }\n",
       "</style>\n",
       "<table border=\"1\" class=\"dataframe\">\n",
       "  <thead>\n",
       "    <tr style=\"text-align: right;\">\n",
       "      <th>education_num</th>\n",
       "      <th>(8.999, 10.0]</th>\n",
       "      <th>(10.0, 12.0]</th>\n",
       "      <th>(12.0, 16.0]</th>\n",
       "    </tr>\n",
       "    <tr>\n",
       "      <th>label</th>\n",
       "      <th></th>\n",
       "      <th></th>\n",
       "      <th></th>\n",
       "    </tr>\n",
       "  </thead>\n",
       "  <tbody>\n",
       "    <tr>\n",
       "      <th>&lt;=50K</th>\n",
       "      <td>14730</td>\n",
       "      <td>1823</td>\n",
       "      <td>4158</td>\n",
       "    </tr>\n",
       "    <tr>\n",
       "      <th>&gt;50K</th>\n",
       "      <td>3062</td>\n",
       "      <td>626</td>\n",
       "      <td>3909</td>\n",
       "    </tr>\n",
       "  </tbody>\n",
       "</table>\n",
       "</div>"
      ],
      "text/plain": [
       "education_num  (8.999, 10.0]  (10.0, 12.0]  (12.0, 16.0]\n",
       "label                                                   \n",
       " <=50K                 14730          1823          4158\n",
       " >50K                   3062           626          3909"
      ]
     },
     "execution_count": 48,
     "metadata": {},
     "output_type": "execute_result"
    }
   ],
   "source": [
    "cross1 = pd.crosstab(data['label'], qeducation_num)\n",
    "cross1"
   ]
  },
  {
   "cell_type": "markdown",
   "metadata": {},
   "source": [
    "将 `cross1` 图表化"
   ]
  },
  {
   "cell_type": "code",
   "execution_count": 65,
   "metadata": {},
   "outputs": [
    {
     "data": {
      "image/png": "[encoded data removed]",
      "text/plain": [
       "<Figure size 432x288 with 3 Axes>"
      ]
     },
     "metadata": {},
     "output_type": "display_data"
    }
   ],
   "source": [
    "props = lambda key: {\"color\": \"0.45\"} if ' >50K' in key else {\"color\": \"#C6E2FF\"}\n",
    "mosaic(cross1.stack(), gap=0.05,properties=props, title='label 和 education_num 的交叉报表')\n",
    "plt.show()"
   ]
  },
  {
   "cell_type": "markdown",
   "metadata": {},
   "source": [
    "# 搭建模型，并训练模型\n",
    "\n",
    "`statsmodels` 建模时可以使用类似文字的表达式:\n",
    "\n",
    "`formula` 定义了模型的形式, `~` 相当于等号."
   ]
  },
  {
   "cell_type": "code",
   "execution_count": 67,
   "metadata": {},
   "outputs": [],
   "source": [
    "def trainModel(data):\n",
    "    \"\"\"\n",
    "    搭建逻辑回归模型，并训练模型\n",
    "    \"\"\"\n",
    "    formula = \"label_code ~ age + education_num + capital_gain + capital_loss + hours_per_week\"\n",
    "    model = sm.Logit.from_formula(formula, data=data)\n",
    "    re = model.fit()\n",
    "    return re"
   ]
  },
  {
   "cell_type": "code",
   "execution_count": 70,
   "metadata": {},
   "outputs": [],
   "source": [
    "def modelSummary(re):\n",
    "    \"\"\"\n",
    "    分析逻辑回归模型的统计性质\n",
    "    \"\"\"\n",
    "    # 整体统计分析结果\n",
    "    print(re.summary())\n",
    "    # 用f test检验education_num的系数是否显著\n",
    "    print(\"检验假设education_num的系数等于0：\")\n",
    "    print(re.f_test(\"education_num=0\"))\n",
    "    # 用f test检验两个假设是否同时成立\n",
    "    print(\"检验假设education_num的系数等于0.32和hours_per_week的系数等于0.04同时成立：\")\n",
    "    print(re.f_test(\"education_num=0.32, hours_per_week=0.04\"))\n",
    "\n",
    "def interpretModel(re):\n",
    "    \"\"\"\n",
    "    理解模型结果\n",
    "\n",
    "    参数\n",
    "    ----\n",
    "    re ：BinaryResults，训练好的逻辑回归模型\n",
    "    \"\"\"\n",
    "    conf = re.conf_int()\n",
    "    conf['OR'] = re.params\n",
    "    # 计算各个变量对事件发生比的影响\n",
    "    # conf里面的三列，分别对应着估计值的下界、上界和估计值本身\n",
    "    conf.columns = ['2.5%', '97.5%', 'OR']\n",
    "    print(\"各个变量对事件发生比的影响：\")\n",
    "    print(np.exp(conf))\n",
    "    # 计算各个变量的边际效应\n",
    "    print(\"各个变量的边际效应：\")\n",
    "    print(re.get_margeff(at=\"overall\").summary())\n",
    "\n",
    "\n",
    "def makePrediction(re, testSet, alpha=0.5):\n",
    "    \"\"\"\n",
    "    使用训练好的模型对测试数据做预测\n",
    "    \"\"\"\n",
    "    # 关闭pandas有关chain_assignment的警告\n",
    "    pd.options.mode.chained_assignment = None\n",
    "    # 计算事件发生的概率\n",
    "    testSet[\"prob\"] = re.predict(testSet)\n",
    "    print(\"事件发生概率（预测概率）大于0.6的数据个数：\")\n",
    "    print(testSet[testSet[\"prob\"] > 0.6].shape[0])  # 输出值为576\n",
    "    print(\"事件发生概率（预测概率）大于0.5的数据个数：\")\n",
    "    print(testSet[testSet[\"prob\"] > 0.5].shape[0])  # 输出值为834\n",
    "    # 根据预测的概率，得出最终的预测\n",
    "    testSet[\"pred\"] = testSet.apply(lambda x: 1 if x[\"prob\"] > alpha else 0, axis=1)\n",
    "    return testSet\n",
    "\n",
    "\n",
    "def evaluation(re):\n",
    "    \"\"\"\n",
    "    计算预测结果的查准查全率以及f1\n",
    "\n",
    "    参数\n",
    "    ----\n",
    "    re ：DataFrame，预测结果，里面包含两列：真实值‘lable_code’、预测值‘pred’\n",
    "    \"\"\"\n",
    "    bins = np.array([0, 0.5, 1])\n",
    "    label = re[\"label_code\"]\n",
    "    pred = re[\"pred\"]\n",
    "    tp, fp, fn, tn = np.histogram2d(label, pred, bins=bins)[0].flatten()\n",
    "    precision = tp / (tp + fp)  # 0.951\n",
    "    recall = tp / (tp + fn)  # 0.826\n",
    "    f1 = 2 * precision * recall / (precision + recall)  # 0.884\n",
    "    print(\"查准率: %.3f, 查全率: %.3f, f1: %.3f\" % (precision, recall, f1))\n"
   ]
  },
  {
   "cell_type": "code",
   "execution_count": 72,
   "metadata": {},
   "outputs": [
    {
     "name": "stdout",
     "output_type": "stream",
     "text": [
      "Optimization terminated successfully.\n",
      "         Current function value: 0.406094\n",
      "         Iterations 8\n",
      "                           Logit Regression Results                           \n",
      "==============================================================================\n",
      "Dep. Variable:             label_code   No. Observations:                26048\n",
      "Model:                          Logit   Df Residuals:                    26042\n",
      "Method:                           MLE   Df Model:                            5\n",
      "Date:                Wed, 22 Aug 2018   Pseudo R-squ.:                  0.2639\n",
      "Time:                        19:29:31   Log-Likelihood:                -10578.\n",
      "converged:                       True   LL-Null:                       -14370.\n",
      "                                        LLR p-value:                     0.000\n",
      "==================================================================================\n",
      "                     coef    std err          z      P>|z|      [0.025      0.975]\n",
      "----------------------------------------------------------------------------------\n",
      "Intercept         -8.2970      0.128    -64.623      0.000      -8.549      -8.045\n",
      "age                0.0435      0.001     31.726      0.000       0.041       0.046\n",
      "education_num      0.3215      0.008     42.231      0.000       0.307       0.336\n",
      "capital_gain       0.0003   1.07e-05     29.650      0.000       0.000       0.000\n",
      "capital_loss       0.0007   3.64e-05     20.055      0.000       0.001       0.001\n",
      "hours_per_week     0.0399      0.001     26.995      0.000       0.037       0.043\n",
      "==================================================================================\n",
      "检验假设education_num的系数等于0：\n",
      "<F test: F=array([[1783.4276255]]), p=0.0, df_denom=26042, df_num=1>\n",
      "检验假设education_num的系数等于0.32和hours_per_week的系数等于0.04同时成立：\n",
      "<F test: F=array([[0.01940236]]), p=0.9807846677772952, df_denom=26042, df_num=2>\n",
      "各个变量对事件发生比的影响：\n",
      "                    2.5%     97.5%        OR\n",
      "Intercept       0.000194  0.000321  0.000249\n",
      "age             1.041611  1.047218  1.044411\n",
      "education_num   1.358725  1.399879  1.379149\n",
      "capital_gain    1.000298  1.000340  1.000319\n",
      "capital_loss    1.000659  1.000802  1.000731\n",
      "hours_per_week  1.037733  1.043769  1.040746\n",
      "各个变量的边际效应：\n",
      "        Logit Marginal Effects       \n",
      "=====================================\n",
      "Dep. Variable:             label_code\n",
      "Method:                          dydx\n",
      "At:                           overall\n",
      "==================================================================================\n",
      "                    dy/dx    std err          z      P>|z|      [0.025      0.975]\n",
      "----------------------------------------------------------------------------------\n",
      "age                0.0056      0.000     33.563      0.000       0.005       0.006\n",
      "education_num      0.0413      0.001     47.313      0.000       0.040       0.043\n",
      "capital_gain     4.09e-05    1.3e-06     31.500      0.000    3.84e-05    4.34e-05\n",
      "capital_loss    9.372e-05   4.54e-06     20.648      0.000    8.48e-05       0.000\n",
      "hours_per_week     0.0051      0.000     28.167      0.000       0.005       0.005\n",
      "==================================================================================\n"
     ]
    }
   ],
   "source": [
    "# 将数据分为训练集和测试集\n",
    "trainSet, testSet = train_test_split(data, test_size=0.2, random_state=2310)\n",
    "\n",
    "# 训练模型并分析模型效果\n",
    "re = trainModel(trainSet)\n",
    "modelSummary(re)\n",
    "interpretModel(re)"
   ]
  },
  {
   "cell_type": "code",
   "execution_count": 73,
   "metadata": {
    "scrolled": true
   },
   "outputs": [
    {
     "name": "stdout",
     "output_type": "stream",
     "text": [
      "事件发生概率（预测概率）大于0.6的数据个数：\n",
      "576\n",
      "事件发生概率（预测概率）大于0.5的数据个数：\n",
      "834\n",
      "查准率: 0.951, 查全率: 0.826, f1: 0.884\n"
     ]
    }
   ],
   "source": [
    "re = makePrediction(re, testSet)\n",
    "evaluation(re)"
   ]
  },
  {
   "cell_type": "code",
   "execution_count": null,
   "metadata": {},
   "outputs": [],
   "source": []
  }
 ],
 "metadata": {
  "kernelspec": {
   "display_name": "Python [default]",
   "language": "python",
   "name": "python3"
  },
  "language_info": {
   "codemirror_mode": {
    "name": "ipython",
    "version": 3
   },
   "file_extension": ".py",
   "mimetype": "text/x-python",
   "name": "python",
   "nbconvert_exporter": "python",
   "pygments_lexer": "ipython3",
   "version": "3.6.5"
  },
  "latex_envs": {
   "LaTeX_envs_menu_present": true,
   "autoclose": false,
   "autocomplete": true,
   "bibliofile": "biblio.bib",
   "cite_by": "apalike",
   "current_citInitial": 1,
   "eqLabelWithNumbers": true,
   "eqNumInitial": 1,
   "hotkeys": {
    "equation": "Ctrl-E",
    "itemize": "Ctrl-I"
   },
   "labels_anchors": false,
   "latex_user_defs": false,
   "report_style_numbering": false,
   "user_envs_cfg": false
  },
  "nbTranslate": {
   "displayLangs": [
    "*"
   ],
   "hotkey": "alt-t",
   "langInMainMenu": true,
   "sourceLang": "en",
   "targetLang": "fr",
   "useGoogleTranslate": true
  },
  "toc": {
   "base_numbering": 1,
   "nav_menu": {},
   "number_sections": true,
   "sideBar": true,
   "skip_h1_title": false,
   "title_cell": "Table of Contents",
   "title_sidebar": "Contents",
   "toc_cell": false,
   "toc_position": {},
   "toc_section_display": true,
   "toc_window_display": false
  },
  "varInspector": {
   "cols": {
    "lenName": 16,
    "lenType": 16,
    "lenVar": 40
   },
   "kernels_config": {
    "python": {
     "delete_cmd_postfix": "",
     "delete_cmd_prefix": "del ",
     "library": "var_list.py",
     "varRefreshCmd": "print(var_dic_list())"
    },
    "r": {
     "delete_cmd_postfix": ") ",
     "delete_cmd_prefix": "rm(",
     "library": "var_list.r",
     "varRefreshCmd": "cat(var_dic_list()) "
    }
   },
   "types_to_exclude": [
    "module",
    "function",
    "builtin_function_or_method",
    "instance",
    "_Feature"
   ],
   "window_display": false
  }
 },
 "nbformat": 4,
 "nbformat_minor": 2
}
