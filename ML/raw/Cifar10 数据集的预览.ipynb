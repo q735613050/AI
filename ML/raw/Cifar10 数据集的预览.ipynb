{
 "cells": [
  {
   "cell_type": "code",
   "execution_count": 1,
   "metadata": {
    "ExecuteTime": {
     "end_time": "2018-08-15T05:15:00.616490Z",
     "start_time": "2018-08-15T05:14:58.760580Z"
    }
   },
   "outputs": [],
   "source": [
    "import tables as tb\n",
    "import numpy as np"
   ]
  },
  {
   "cell_type": "markdown",
   "metadata": {},
   "source": [
    "载入我的一个自定义数据库, 详细介绍见: [Bunch 转换为 HDF5 文件：高效存储 Cifar 等数据集](https://www.cnblogs.com/q735613050/p/9244223.html)"
   ]
  },
  {
   "cell_type": "code",
   "execution_count": 2,
   "metadata": {
    "ExecuteTime": {
     "end_time": "2018-08-15T05:15:03.003221Z",
     "start_time": "2018-08-15T05:15:02.891207Z"
    }
   },
   "outputs": [],
   "source": [
    "h5 = tb.open_file('E:/xdata/X.h5')   "
   ]
  },
  {
   "cell_type": "code",
   "execution_count": 3,
   "metadata": {
    "ExecuteTime": {
     "end_time": "2018-08-15T05:15:03.543493Z",
     "start_time": "2018-08-15T05:15:03.535495Z"
    }
   },
   "outputs": [],
   "source": [
    "cifar = h5.root.cifar10    # 获取 cifar10 数据集"
   ]
  },
  {
   "cell_type": "code",
   "execution_count": 4,
   "metadata": {
    "ExecuteTime": {
     "end_time": "2018-08-15T05:15:03.875501Z",
     "start_time": "2018-08-15T05:15:03.843497Z"
    }
   },
   "outputs": [
    {
     "name": "stdout",
     "output_type": "stream",
     "text": [
      "['airplane' 'automobile' 'bird' 'cat' 'deer' 'dog' 'frog' 'horse' 'ship'\n",
      " 'truck']\n"
     ]
    }
   ],
   "source": [
    "label_names = np.asanyarray(cifar.label_names, dtype='U')\n",
    "print(label_names)   # 打印类别名字"
   ]
  },
  {
   "cell_type": "code",
   "execution_count": 5,
   "metadata": {
    "ExecuteTime": {
     "end_time": "2018-08-15T05:15:04.535493Z",
     "start_time": "2018-08-15T05:15:04.183496Z"
    }
   },
   "outputs": [
    {
     "name": "stdout",
     "output_type": "stream",
     "text": [
      "[0 1 2 3 4 5 6 7 8 9]\n",
      "[0 1 2 3 4 5 6 7 8 9]\n"
     ]
    }
   ],
   "source": [
    "print(np.unique(cifar.testY))   # 验证类别数是否符合\n",
    "print(np.unique(cifar.trainY))"
   ]
  },
  {
   "cell_type": "markdown",
   "metadata": {},
   "source": [
    "- `np.unique` 的作用是: 去除重复元素. 符合要求.\n",
    "- `np.bincount` 对整数数组的元素计数."
   ]
  },
  {
   "cell_type": "code",
   "execution_count": 6,
   "metadata": {
    "ExecuteTime": {
     "end_time": "2018-08-15T05:15:05.507492Z",
     "start_time": "2018-08-15T05:15:05.135494Z"
    },
    "scrolled": true
   },
   "outputs": [
    {
     "name": "stdout",
     "output_type": "stream",
     "text": [
      "[1000 1000 1000 1000 1000 1000 1000 1000 1000 1000]\n",
      "[5000 5000 5000 5000 5000 5000 5000 5000 5000 5000]\n"
     ]
    }
   ],
   "source": [
    "print(np.bincount(cifar.testY))\n",
    "print(np.bincount(cifar.trainY)) "
   ]
  },
  {
   "cell_type": "markdown",
   "metadata": {},
   "source": [
    "从结果可以看出, `cifar10` 数据集是均衡的."
   ]
  },
  {
   "cell_type": "code",
   "execution_count": 17,
   "metadata": {
    "ExecuteTime": {
     "end_time": "2018-08-15T05:21:18.356603Z",
     "start_time": "2018-08-15T05:21:14.111204Z"
    }
   },
   "outputs": [],
   "source": [
    "X_train = np.asanyarray(cifar.trainX, dtype=np.float).reshape((-1, 32*32*3))\n",
    "X_test = np.asanyarray(cifar.testX, dtype=np.float).reshape((-1, 32*32*3))"
   ]
  },
  {
   "cell_type": "code",
   "execution_count": 18,
   "metadata": {
    "ExecuteTime": {
     "end_time": "2018-08-15T05:21:38.974663Z",
     "start_time": "2018-08-15T05:21:23.807396Z"
    }
   },
   "outputs": [],
   "source": [
    "from sklearn.preprocessing import StandardScaler\n",
    "\n",
    "# 标准化处理\n",
    "sc = StandardScaler()  \n",
    "sc.fit(X_train)   # 计算数据中的每个特征的样本均值和标准差\n",
    "X_train_std = sc.transform(X_train)   # 使用样本均值和标准差做标准化处理\n",
    "X_test_std = sc.transform(X_test)"
   ]
  },
  {
   "cell_type": "code",
   "execution_count": null,
   "metadata": {},
   "outputs": [],
   "source": []
  },
  {
   "cell_type": "code",
   "execution_count": null,
   "metadata": {},
   "outputs": [],
   "source": []
  },
  {
   "cell_type": "code",
   "execution_count": null,
   "metadata": {},
   "outputs": [],
   "source": []
  }
 ],
 "metadata": {
  "kernelspec": {
   "display_name": "Python 3",
   "language": "python",
   "name": "python3"
  },
  "language_info": {
   "codemirror_mode": {
    "name": "ipython",
    "version": 3
   },
   "file_extension": ".py",
   "mimetype": "text/x-python",
   "name": "python",
   "nbconvert_exporter": "python",
   "pygments_lexer": "ipython3",
   "version": "3.6.5"
  },
  "latex_envs": {
   "LaTeX_envs_menu_present": true,
   "autoclose": false,
   "autocomplete": true,
   "bibliofile": "biblio.bib",
   "cite_by": "apalike",
   "current_citInitial": 1,
   "eqLabelWithNumbers": true,
   "eqNumInitial": 1,
   "hotkeys": {
    "equation": "Ctrl-E",
    "itemize": "Ctrl-I"
   },
   "labels_anchors": false,
   "latex_user_defs": false,
   "report_style_numbering": false,
   "user_envs_cfg": false
  },
  "nbTranslate": {
   "displayLangs": [
    "*"
   ],
   "hotkey": "alt-t",
   "langInMainMenu": true,
   "sourceLang": "en",
   "targetLang": "fr",
   "useGoogleTranslate": true
  },
  "toc": {
   "base_numbering": 1,
   "nav_menu": {},
   "number_sections": true,
   "sideBar": true,
   "skip_h1_title": false,
   "title_cell": "Table of Contents",
   "title_sidebar": "Contents",
   "toc_cell": false,
   "toc_position": {},
   "toc_section_display": true,
   "toc_window_display": false
  },
  "varInspector": {
   "cols": {
    "lenName": 16,
    "lenType": 16,
    "lenVar": 40
   },
   "kernels_config": {
    "python": {
     "delete_cmd_postfix": "",
     "delete_cmd_prefix": "del ",
     "library": "var_list.py",
     "varRefreshCmd": "print(var_dic_list())"
    },
    "r": {
     "delete_cmd_postfix": ") ",
     "delete_cmd_prefix": "rm(",
     "library": "var_list.r",
     "varRefreshCmd": "cat(var_dic_list()) "
    }
   },
   "types_to_exclude": [
    "module",
    "function",
    "builtin_function_or_method",
    "instance",
    "_Feature"
   ],
   "window_display": false
  }
 },
 "nbformat": 4,
 "nbformat_minor": 2
}
