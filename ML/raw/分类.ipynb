{
 "cells": [
  {
   "cell_type": "markdown",
   "metadata": {},
   "source": [
    "机器学习中的对象通常被称为**实例**（instance）。所有可能的实例所构成的集合被称为**实例空间**（instance space），记为 ${\\scr{X}}$。将标签空间（label space）记为 $\\scr L$，而将输出空间（output space）记为 $\\scr y$。\n",
    "\n",
    "样本：（labelled instance）$(\\cal x, {\\scr l}(x))$ 构成**训练集**（training set）$Tr$，其中 ${\\scr l}: {\\scr X \\rightarrow L}$ 是一个标记函数。\n",
    "\n",
    "**测试集**记为 $Te$。\n",
    "\n",
    "预测型机器学习场景\n",
    "\n",
    "**任务**|**标签空间**|**输出空间**|**学习问题**\n",
    ":-|:-|:-:|:-\n",
    "分类|${\\scr L = l}$|${\\scr y = l}    $|学习一个对真实标记函数 $c$ 的近似 $\\hat c: {\\scr X \\rightarrow l}$\n",
    "评分与排序|${\\scr L = l}$|${\\Bbb R}^{|\\scr l|}$|学习一个能输出各类别得分的向量\n",
    "概率估计|${\\scr L = l}$|${\\scr [1,2]^{|l|}}$|学习一个能输出各类别样本出现概率的概率向量\n",
    "回归|${\\scr L} = {\\Bbb R}$|${\\scr y} = {\\Bbb R}$|学习对真实标记函数 $f$ 的近似 $\\hat f: {\\scr X \\rightarrow {\\Bbb R}}$\n",
    "\n",
    "当实例由固定数目的特征（或称属性、预测变量、解释变量或独立变量）描述时，便对应最简单的一种输入空间。记每维特征的定义域为 $\\scr F_i$，则有$\\scr X = F_1 \\times \\cdots \\times F_d$，这样每个实例对应一个 $d$ 维向量。"
   ]
  },
  {
   "cell_type": "markdown",
   "metadata": {},
   "source": [
    "# 分类\n",
    "\n",
    "分类器本质上是一个映射 $\\hat c: {\\scr X \\rightarrow l}$，其中 ${\\scr l} = \\{C_1, C_2, \\cdots, C_k\\}$ 为一个基数很小的由**类别标签**（class label）构成的有限集。有时，我们会用 $C_i$ 来指代第 $i$ 类的样本集。\n",
    "\n",
    "用于训练分类器的样本的形式是 $(x, c(x))$，其中 $x \\in {\\scr l}$ 为一个实例，而 $c(x)$ 为该实例所属的真实类别。分类器学习的目的在于构造一个函数 $\\hat c$，以使它尽可能地逼近 $c$（不仅仅局限于训练集上，最理想的情况是在整个实例空间 $\\scr X$ 中都有良好的逼近效果）。\n",
    "\n",
    "# 评分与排序\n",
    "\n",
    "**评分分类器**（scoring classifier）可表述为一个从实例空间到 $k$ 维实向量的映射：$\\hat s:{\\scr X} \\rightarrow {\\Bbb R}^k$\n",
    "\n",
    "$\\hat s = \\{\\hat s_1, \\cdots, \\hat s_k\\}$\n",
    "\n",
    "$\\hat s_i(x)$ 表示将实例 $x$ 划分到第 $C_i$ 类时所获得的分数。"
   ]
  },
  {
   "cell_type": "code",
   "execution_count": null,
   "metadata": {},
   "outputs": [],
   "source": []
  }
 ],
 "metadata": {
  "kernelspec": {
   "display_name": "Python 3",
   "language": "python",
   "name": "python3"
  },
  "language_info": {
   "codemirror_mode": {
    "name": "ipython",
    "version": 3
   },
   "file_extension": ".py",
   "mimetype": "text/x-python",
   "name": "python",
   "nbconvert_exporter": "python",
   "pygments_lexer": "ipython3",
   "version": "3.6.4"
  }
 },
 "nbformat": 4,
 "nbformat_minor": 2
}
