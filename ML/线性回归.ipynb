{
 "cells": [
  {
   "cell_type": "markdown",
   "metadata": {},
   "source": [
    "## 随机生成线性回归模型的训练数据"
   ]
  },
  {
   "cell_type": "code",
   "execution_count": 14,
   "metadata": {
    "ExecuteTime": {
     "end_time": "2018-08-13T13:08:43.206592Z",
     "start_time": "2018-08-13T13:08:42.808575Z"
    }
   },
   "outputs": [
    {
     "name": "stdout",
     "output_type": "stream",
     "text": [
      "Populating the interactive namespace from numpy and matplotlib\n"
     ]
    }
   ],
   "source": [
    "import numpy as np\n",
    "import pandas as pd\n",
    "%pylab inline"
   ]
  },
  {
   "cell_type": "code",
   "execution_count": 27,
   "metadata": {
    "ExecuteTime": {
     "end_time": "2018-08-13T13:15:42.899745Z",
     "start_time": "2018-08-13T13:15:42.878701Z"
    }
   },
   "outputs": [],
   "source": [
    "def generateData():\n",
    "    \"\"\"\n",
    "    随机生成数据\n",
    "    \"\"\"\n",
    "    np.random.seed(49)\n",
    "    x = np.arange(10, 40)\n",
    "    error = np.round(np.random.randn(30), 2)  # 保留小数点后两位有效数字\n",
    "    y = 0.7 * x + error\n",
    "    return pd.DataFrame({\"x\": x, \"y\": y})\n",
    "\n",
    "def visualizeData(data):\n",
    "    \"\"\"\n",
    "    数据可视化\n",
    "    \"\"\"\n",
    "    # 为在 Matplotlib 中显示中文，设置特殊字体\n",
    "    plt.rcParams[\"font.sans-serif\"] = [\"SimHei\"]\n",
    "    # 创建一个图形框，在里面只画一幅图\n",
    "    fig = plt.figure(figsize=(6, 6), dpi=80)\n",
    "    ax = fig.add_subplot(111)\n",
    "    # 在 Matplotlib 中显示中文，需要使用 unicode\n",
    "    # 在 Python3 中，str 不需要 decode\n",
    "    if sys.version_info[0] == 3:\n",
    "        ax.set_title(\"%s\" % \"线性回归示例\")\n",
    "    else:\n",
    "        ax.set_title(\"%s\" % \"线性回归示例\".decode(\"utf-8\"))\n",
    "    ax.set_xlabel(\"$x$\")\n",
    "    ax.set_xticks(np.arange(10, 40, 5))\n",
    "    ax.set_ylabel(\"$y$\")\n",
    "    ax.set_yticks(np.arange(10, 40, 5))\n",
    "    # 画点图，点的颜色为蓝色\n",
    "    ax.scatter(data.x, data.y, color=\"b\", label=\"$y = 0.7x + \\epsilon$\")\n",
    "    legend = plt.legend(shadow=True)\n",
    "    legend.get_frame().set_facecolor(\"#6F93AE\")\n",
    "    # 展示上面所画的图片。图片将阻断程序的运行，直至所有的图片被关闭\n",
    "    # 在Python shell里面，可以设置参数\"block=False\"，使阻断失效。\n",
    "    plt.show()"
   ]
  },
  {
   "cell_type": "code",
   "execution_count": 29,
   "metadata": {
    "ExecuteTime": {
     "end_time": "2018-08-13T13:17:06.389235Z",
     "start_time": "2018-08-13T13:17:06.208242Z"
    }
   },
   "outputs": [
    {
     "data": {
      "image/png": "[encoded data removed]",
      "text/plain": [
       "<Figure size 480x480 with 1 Axes>"
      ]
     },
     "metadata": {},
     "output_type": "display_data"
    }
   ],
   "source": [
    "data = generateData()\n",
    "visualizeData(data)"
   ]
  },
  {
   "cell_type": "code",
   "execution_count": null,
   "metadata": {},
   "outputs": [],
   "source": []
  }
 ],
 "metadata": {
  "kernelspec": {
   "display_name": "Python 3",
   "language": "python",
   "name": "python3"
  },
  "language_info": {
   "codemirror_mode": {
    "name": "ipython",
    "version": 3
   },
   "file_extension": ".py",
   "mimetype": "text/x-python",
   "name": "python",
   "nbconvert_exporter": "python",
   "pygments_lexer": "ipython3",
   "version": "3.6.5"
  },
  "latex_envs": {
   "LaTeX_envs_menu_present": true,
   "autoclose": false,
   "autocomplete": true,
   "bibliofile": "biblio.bib",
   "cite_by": "apalike",
   "current_citInitial": 1,
   "eqLabelWithNumbers": true,
   "eqNumInitial": 1,
   "hotkeys": {
    "equation": "Ctrl-E",
    "itemize": "Ctrl-I"
   },
   "labels_anchors": false,
   "latex_user_defs": false,
   "report_style_numbering": false,
   "user_envs_cfg": false
  },
  "nbTranslate": {
   "displayLangs": [
    "*"
   ],
   "hotkey": "alt-t",
   "langInMainMenu": true,
   "sourceLang": "en",
   "targetLang": "fr",
   "useGoogleTranslate": true
  },
  "toc": {
   "base_numbering": 1,
   "nav_menu": {},
   "number_sections": true,
   "sideBar": true,
   "skip_h1_title": false,
   "title_cell": "Table of Contents",
   "title_sidebar": "Contents",
   "toc_cell": false,
   "toc_position": {},
   "toc_section_display": true,
   "toc_window_display": false
  },
  "varInspector": {
   "cols": {
    "lenName": 16,
    "lenType": 16,
    "lenVar": 40
   },
   "kernels_config": {
    "python": {
     "delete_cmd_postfix": "",
     "delete_cmd_prefix": "del ",
     "library": "var_list.py",
     "varRefreshCmd": "print(var_dic_list())"
    },
    "r": {
     "delete_cmd_postfix": ") ",
     "delete_cmd_prefix": "rm(",
     "library": "var_list.r",
     "varRefreshCmd": "cat(var_dic_list()) "
    }
   },
   "types_to_exclude": [
    "module",
    "function",
    "builtin_function_or_method",
    "instance",
    "_Feature"
   ],
   "window_display": false
  }
 },
 "nbformat": 4,
 "nbformat_minor": 2
}
