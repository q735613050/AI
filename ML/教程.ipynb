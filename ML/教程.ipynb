{
 "cells": [
  {
   "attachments": {},
   "cell_type": "markdown",
   "metadata": {},
   "source": [
    "# 矩阵\n",
    "\n",
    "![](http://static.zybuluo.com/xinet/raste4sru6uzuvz08bhx4rj2/%E6%8D%95%E8%8E%B7.PNG)\n",
    "\n",
    "一般而言，一个对象应该被视为完整的个体，表现实中有意义的事物，不能轻易拆分。\n",
    "\n",
    "**对象**是被特征化的客观事物，而**表**（或矩阵）是容纳这些对象的容器。换句话说，对象是表中的元素，表是对象的集合（表中的每个对象都有相同的特征和维度，对象对于每个特征都有一定的取值）。\n",
    "\n",
    "**分类**或**聚类**可以看作根据对象特征的相似性与差异性，对矩阵空间的一种划分。\n",
    "\n",
    "**预测**或**回归**可以看作根据对象在某种序列（时间）上的相关性，表现为特征取值变化的一种趋势。"
   ]
  },
  {
   "cell_type": "code",
   "execution_count": 1,
   "metadata": {},
   "outputs": [],
   "source": [
    "import numpy as np"
   ]
  },
  {
   "cell_type": "code",
   "execution_count": 7,
   "metadata": {},
   "outputs": [
    {
     "data": {
      "text/plain": [
       "array([[0, 1, 2],\n",
       "       [3, 4, 5],\n",
       "       [6, 7, 8]])"
      ]
     },
     "execution_count": 7,
     "metadata": {},
     "output_type": "execute_result"
    }
   ],
   "source": [
    "a = np.arange(9).reshape((3, -1))\n",
    "a"
   ]
  },
  {
   "cell_type": "code",
   "execution_count": 10,
   "metadata": {},
   "outputs": [],
   "source": [
    "b = a.copy()"
   ]
  },
  {
   "cell_type": "code",
   "execution_count": 11,
   "metadata": {},
   "outputs": [
    {
     "data": {
      "text/plain": [
       "False"
      ]
     },
     "execution_count": 11,
     "metadata": {},
     "output_type": "execute_result"
    }
   ],
   "source": [
    "id(a) == id(b)"
   ]
  },
  {
   "cell_type": "code",
   "execution_count": 14,
   "metadata": {},
   "outputs": [
    {
     "data": {
      "text/plain": [
       "True"
      ]
     },
     "execution_count": 14,
     "metadata": {},
     "output_type": "execute_result"
    }
   ],
   "source": [
    "repr(a) == repr(b)"
   ]
  },
  {
   "cell_type": "markdown",
   "metadata": {},
   "source": [
    "## Linalg"
   ]
  },
  {
   "cell_type": "code",
   "execution_count": 15,
   "metadata": {},
   "outputs": [],
   "source": [
    "A = np.mat([[1, 2, 4, 5, 7], [9,12 ,11, 8, 2], [6, 4, 3, 2, 1], [9, 1, 3, 4, 5], [0, 2, 3, 4 ,1]])"
   ]
  },
  {
   "cell_type": "markdown",
   "metadata": {},
   "source": [
    "### 行列式"
   ]
  },
  {
   "cell_type": "code",
   "execution_count": 16,
   "metadata": {},
   "outputs": [
    {
     "data": {
      "text/plain": [
       "-812.00000000000068"
      ]
     },
     "execution_count": 16,
     "metadata": {},
     "output_type": "execute_result"
    }
   ],
   "source": [
    "np.linalg.det(A)"
   ]
  },
  {
   "cell_type": "markdown",
   "metadata": {},
   "source": [
    "### 逆"
   ]
  },
  {
   "cell_type": "code",
   "execution_count": 17,
   "metadata": {},
   "outputs": [
    {
     "data": {
      "text/plain": [
       "matrix([[ -7.14285714e-02,  -1.23152709e-02,   5.29556650e-02,\n",
       "           9.60591133e-02,  -8.62068966e-03],\n",
       "        [  2.14285714e-01,  -3.76847291e-01,   1.22044335e+00,\n",
       "          -4.60591133e-01,   3.36206897e-01],\n",
       "        [ -2.14285714e-01,   8.25123153e-01,  -2.04802956e+00,\n",
       "           5.64039409e-01,  -9.22413793e-01],\n",
       "        [  5.11521867e-17,  -4.13793103e-01,   8.79310345e-01,\n",
       "          -1.72413793e-01,   8.10344828e-01],\n",
       "        [  2.14285714e-01,  -6.65024631e-02,   1.85960591e-01,\n",
       "          -8.12807882e-02,  -1.46551724e-01]])"
      ]
     },
     "execution_count": 17,
     "metadata": {},
     "output_type": "execute_result"
    }
   ],
   "source": [
    "np.linalg.inv(A)"
   ]
  },
  {
   "cell_type": "markdown",
   "metadata": {},
   "source": [
    "### 转置"
   ]
  },
  {
   "cell_type": "code",
   "execution_count": 18,
   "metadata": {},
   "outputs": [
    {
     "data": {
      "text/plain": [
       "matrix([[ 1,  9,  6,  9,  0],\n",
       "        [ 2, 12,  4,  1,  2],\n",
       "        [ 4, 11,  3,  3,  3],\n",
       "        [ 5,  8,  2,  4,  4],\n",
       "        [ 7,  2,  1,  5,  1]])"
      ]
     },
     "execution_count": 18,
     "metadata": {},
     "output_type": "execute_result"
    }
   ],
   "source": [
    "A.T"
   ]
  },
  {
   "cell_type": "code",
   "execution_count": 19,
   "metadata": {},
   "outputs": [
    {
     "data": {
      "text/plain": [
       "matrix([[ 95, 131,  43,  78,  43],\n",
       "        [131, 414, 153, 168,  91],\n",
       "        [ 43, 153,  66,  80,  26],\n",
       "        [ 78, 168,  80, 132,  32],\n",
       "        [ 43,  91,  26,  32,  30]])"
      ]
     },
     "execution_count": 19,
     "metadata": {},
     "output_type": "execute_result"
    }
   ],
   "source": [
    "A * A.T"
   ]
  },
  {
   "cell_type": "markdown",
   "metadata": {},
   "source": [
    "### 秩"
   ]
  },
  {
   "cell_type": "code",
   "execution_count": 20,
   "metadata": {},
   "outputs": [
    {
     "data": {
      "text/plain": [
       "5"
      ]
     },
     "execution_count": 20,
     "metadata": {},
     "output_type": "execute_result"
    }
   ],
   "source": [
    "np.linalg.matrix_rank(A)"
   ]
  },
  {
   "cell_type": "markdown",
   "metadata": {},
   "source": [
    "### 解方程\n",
    "\n",
    "$$Ax = b$$"
   ]
  },
  {
   "cell_type": "code",
   "execution_count": 22,
   "metadata": {},
   "outputs": [
    {
     "data": {
      "text/plain": [
       "array([-0.0270936 ,  1.77093596, -3.18472906,  1.68965517,  0.25369458])"
      ]
     },
     "execution_count": 22,
     "metadata": {},
     "output_type": "execute_result"
    }
   ],
   "source": [
    "b = [1, 0, 1, 0, 1]\n",
    "\n",
    "S = np.linalg.solve(A, b)\n",
    "S"
   ]
  },
  {
   "cell_type": "markdown",
   "metadata": {},
   "source": [
    "现代数学三大基石：\n",
    "- **概率论**说明了事物可能会是什么样；\n",
    "- **数值分析**揭示了它们为什么这样，以及如何变成这样；\n",
    "- **线性代数**告诉我们事物从来不只有一个样子，使我们能够从多个角度来观察事物。\n",
    "\n",
    "# 相似性度量\n",
    "\n",
    "比较常见是**范数**（如*欧式距离*（$L_2$）、*曼哈顿距离*（$L_1$）、*切比雪夫距离*（$L_{\\infty}$））和**夹角余弦**。下面我主要说明一下其他的几个比较有意思的度量：\n",
    "\n",
    "## 汉明距离（Hamming）\n",
    "\n",
    "定义：两个等长字符串 `s1` 与 `s2` 之间的汉明距离定义为将其中一个变成另外一个所需要的最小替换次数。\n",
    "\n",
    "应用：信息编码（为了增强容错性，应该使得编码间的最小汉明距离尽可能大）。"
   ]
  },
  {
   "cell_type": "code",
   "execution_count": 30,
   "metadata": {},
   "outputs": [],
   "source": [
    "A = np.mat([[1, 1, 0, 1, 0, 1, 0, 0, 1], [0, 1, 1, 0, 0, 0, 1, 1, 1]])\n",
    "\n",
    "smstr = np.nonzero(A[0] - A[1])"
   ]
  },
  {
   "cell_type": "code",
   "execution_count": 32,
   "metadata": {},
   "outputs": [
    {
     "data": {
      "text/plain": [
       "matrix([[ 1,  0, -1,  1,  0,  1, -1, -1,  0]])"
      ]
     },
     "execution_count": 32,
     "metadata": {},
     "output_type": "execute_result"
    }
   ],
   "source": [
    "A[0] - A[1]"
   ]
  },
  {
   "cell_type": "code",
   "execution_count": 33,
   "metadata": {},
   "outputs": [
    {
     "data": {
      "text/plain": [
       "(array([0, 0, 0, 0, 0, 0], dtype=int64),\n",
       " array([0, 2, 3, 5, 6, 7], dtype=int64))"
      ]
     },
     "execution_count": 33,
     "metadata": {},
     "output_type": "execute_result"
    }
   ],
   "source": [
    "smstr"
   ]
  },
  {
   "cell_type": "code",
   "execution_count": 37,
   "metadata": {},
   "outputs": [
    {
     "data": {
      "text/plain": [
       "6"
      ]
     },
     "execution_count": 37,
     "metadata": {},
     "output_type": "execute_result"
    }
   ],
   "source": [
    "d = smstr[0].shape[0]\n",
    "d"
   ]
  },
  {
   "cell_type": "markdown",
   "metadata": {},
   "source": [
    "## 杰卡德相似系数（Jaccard Similarity Coefficient）\n",
    "\n",
    "相似度：\n",
    "$$\n",
    "J(A, B) = \\frac{|\\;A \\bigcap B\\;|}{|\\;A \\bigcup B\\;|}\n",
    "$$\n",
    "\n",
    "## 杰卡德距离（Jaccard Distance）\n",
    "\n",
    "区分度：\n",
    "$$\n",
    "J_{\\delta}(A, B) = 1 - J(A, B) = 1 - \\frac{|\\;A \\bigcap B\\;|}{|\\;A \\bigcup B\\;|}\n",
    "$$\n",
    "\n",
    "应用：\n",
    "\n",
    "样本 $A$ 和样本  $B$ 所有维度的取值为 $0$ 或 $1$，表示包含某个元素与否。"
   ]
  },
  {
   "cell_type": "code",
   "execution_count": 39,
   "metadata": {},
   "outputs": [],
   "source": [
    "import scipy.spatial.distance as dist"
   ]
  },
  {
   "cell_type": "code",
   "execution_count": 40,
   "metadata": {},
   "outputs": [
    {
     "data": {
      "text/plain": [
       "matrix([[1, 1, 0, 1, 0, 1, 0, 0, 1],\n",
       "        [0, 1, 1, 0, 0, 0, 1, 1, 1]])"
      ]
     },
     "execution_count": 40,
     "metadata": {},
     "output_type": "execute_result"
    }
   ],
   "source": [
    "A"
   ]
  },
  {
   "cell_type": "code",
   "execution_count": 41,
   "metadata": {},
   "outputs": [
    {
     "data": {
      "text/plain": [
       "array([ 0.75])"
      ]
     },
     "execution_count": 41,
     "metadata": {},
     "output_type": "execute_result"
    }
   ],
   "source": [
    "dist.pdist(A, 'jaccard')"
   ]
  },
  {
   "cell_type": "markdown",
   "metadata": {},
   "source": [
    "# 蝴蝶效应（洛伦兹动力学方程）：确定性与随机性相统一\n",
    "\n",
    "- 系统未来的所有运动都被限制在一个明确的范围之内——**确定性**；\n",
    "- 运动轨迹变化缠绕的规则是随机性的，任何时候你都无法准确判定下一次运动的轨迹将落在「蝴蝶」的哪侧翅膀上的哪个点上——**随机性**。\n",
    "\n",
    "总而言之，系统运动大的范围是确定的、可测的，但是运动的细节是随机的、不可测的。\n",
    "\n",
    "从统计学角度来看，蝴蝶效应说明了：\n",
    "- 样本总体（特征向量或对象）的取值范围一般是确定的，所有样本对象（包括已经存在的和未出现的）的取值都位于此空间内；\n",
    "- 无论收集再多的样本对象，也不能使这种随机性降低或消失。\n",
    "\n",
    "**随机性**是事物的一种根本的、内在的、无法根除的性质，也是一切事物（概率）的本质属性。\n",
    "\n",
    "衡量事物运动的随机性，必须从整体而不是局部来认知事物，因为从每个局部，事物可能看起来都是不同的（或相同的）。\n",
    "\n",
    "概率论便是度量随机性的一个工具。一般地，上述所说的矩阵，被称为**设计矩阵**，基本概念重写：\n",
    "- **样本（样本点）**：原指随机试验的一个结果，可以理解为设计矩阵中的一个对象，如苹果、小猪等。\n",
    "- **样本空间**：原指随机试验所有可能结果的集合，可以理解为矩阵的所有对象，引申为对象特征的取值范围：$10$ 个苹果，$2$ 只小猪。\n",
    "- **随机事件**：原指样本空间的一个子集，可以理解为某个分类，它实际指向一种概率分布：苹果为红色，小猪为白色\n",
    "- **随机变量**：可以理解为指向某个事件的一个变量：$X\\{x_i = \\text{黄色}\\}$\n",
    "- **随机变量的概率分布**：给定随机变量的取值范围，导致某种随机事件出现的可能性。可以理解为符合随机变量取值范围的某个对象属于某个类别或服从某种趋势的可能性。\n",
    "\n",
    "# 空间变换\n",
    "\n",
    "由特征列的取值所构成的矩阵空间应具有完整性，即能够反映事物的空间形式或变换规律。\n",
    "\n",
    "向量：具有大小和方向。\n",
    "\n",
    "向量与矩阵的乘积就是一个向量从一个线性空间（坐标系），通过线性变换，选取一个新的基底，变换到这个新的基底所构成的另一个线性空间的过程。\n",
    "\n",
    "矩阵与矩阵的乘法 $C = A \\cdot B$：\n",
    "- $A$：向量组\n",
    "- $B$：线性变换下的矩阵\n",
    "\n",
    "假设我们考察一组对象 $\\scr{A} = \\{\\alpha_1, \\cdots, \\alpha_m\\}$，它们在两个不同维度的空间 $V^n$ 和 $V^p$ 的基底分别是 $\\{e_1, \\cdots, e_n\\}$ 和 $\\{d_1, \\cdots, d_p\\}$，$T$ 即为 $V^n$ 到 $V^p$ 的线性变换，且有（$k = \\{1, \\cdots, m\\}$）：\n",
    "\\begin{align}\n",
    "T\n",
    "\\begin{pmatrix}\n",
    "\\begin{bmatrix} \n",
    "e_1 \\\\ \\vdots \\\\ e_n\n",
    "\\end{bmatrix}\n",
    "\\end{pmatrix} =\n",
    "A\n",
    "\\begin{bmatrix} \n",
    "d_1 \\\\ \\vdots \\\\ d_p\n",
    "\\end{bmatrix}\n",
    "\\end{align}\n",
    "\n",
    "\\begin{align}\n",
    "\\alpha_k = \n",
    "\\begin{bmatrix} \n",
    "x_1^{k} & \\cdots & x_n^k\n",
    "\\end{bmatrix}\n",
    "\\begin{bmatrix} \n",
    "e_1 \\\\ \\vdots \\\\ e_n\n",
    "\\end{bmatrix} = \n",
    "\\begin{bmatrix} \n",
    "y_1^{k} & \\cdots & y_p^k\n",
    "\\end{bmatrix}\n",
    "\\begin{bmatrix} \n",
    "d_1 \\\\ \\vdots \\\\ d_p\n",
    "\\end{bmatrix}\n",
    "\\end{align}\n",
    "\n",
    "令\n",
    "\\begin{cases}\n",
    "X^k = \n",
    "\\begin{bmatrix} \n",
    "x_1^{k} & \\cdots & x_n^k\n",
    "\\end{bmatrix}\\\\\n",
    "Y^k = \n",
    "\\begin{bmatrix} \n",
    "y_1^{k} & \\cdots & y_p^k\n",
    "\\end{bmatrix}\n",
    "\\end{cases}\n",
    "\n",
    "则记：\n",
    "\\begin{cases}\n",
    "X = \n",
    "\\begin{bmatrix} \n",
    "X^{1} \\\\ \\vdots \\\\ X^m\n",
    "\\end{bmatrix}\\\\\n",
    "Y = \n",
    "\\begin{bmatrix} \n",
    "Y^{1} \\\\ \\vdots \\\\ Y^m\n",
    "\\end{bmatrix}\n",
    "\\end{cases}\n",
    "\n",
    "我的博客展示：https://www.cnblogs.com/q735613050/p/9126826.html"
   ]
  },
  {
   "cell_type": "markdown",
   "metadata": {},
   "source": [
    "# 使用 Numpy 求解矩阵的特征值和特征向量\n",
    "\n",
    "$$\n",
    "A = \\lambda v\n",
    "$$"
   ]
  },
  {
   "cell_type": "code",
   "execution_count": 49,
   "metadata": {},
   "outputs": [],
   "source": [
    "A = [[8, 7, 6], [3, 5, 7], [4, 9, 1]]\n",
    "\n",
    "evals, evecs = np.linalg.eig(A)"
   ]
  },
  {
   "cell_type": "code",
   "execution_count": 50,
   "metadata": {},
   "outputs": [
    {
     "name": "stdout",
     "output_type": "stream",
     "text": [
      "特征值：\n",
      "[ 16.43231925   2.84713925  -5.2794585 ]\n",
      "特征向量：\n",
      "[[ 0.73717284  0.86836047 -0.09167612]\n",
      " [ 0.48286213 -0.4348687  -0.54207062]\n",
      " [ 0.47267364 -0.23840995  0.83531726]]\n"
     ]
    }
   ],
   "source": [
    "print('特征值：\\n%s\\n特征向量：\\n%s'%(evals, evecs))"
   ]
  },
  {
   "cell_type": "markdown",
   "metadata": {},
   "source": [
    "有了特征值和特征向量，我们便可以还原矩阵：\n",
    "$$\n",
    "A = Q \\Sigma Q^{-1}\n",
    "$$"
   ]
  },
  {
   "cell_type": "code",
   "execution_count": 53,
   "metadata": {},
   "outputs": [
    {
     "data": {
      "text/plain": [
       "array([[ 16.43231925,   0.        ,  -0.        ],\n",
       "       [  0.        ,   2.84713925,  -0.        ],\n",
       "       [  0.        ,   0.        ,  -5.2794585 ]])"
      ]
     },
     "execution_count": 53,
     "metadata": {},
     "output_type": "execute_result"
    }
   ],
   "source": [
    "sigma = evals * np.eye(3)\n",
    "sigma"
   ]
  },
  {
   "cell_type": "markdown",
   "metadata": {},
   "source": [
    "或者，利用 `np.diag`："
   ]
  },
  {
   "cell_type": "code",
   "execution_count": 57,
   "metadata": {},
   "outputs": [
    {
     "data": {
      "text/plain": [
       "array([[ 16.43231925,   0.        ,   0.        ],\n",
       "       [  0.        ,   2.84713925,   0.        ],\n",
       "       [  0.        ,   0.        ,  -5.2794585 ]])"
      ]
     },
     "execution_count": 57,
     "metadata": {},
     "output_type": "execute_result"
    }
   ],
   "source": [
    "np.diag(evals)"
   ]
  },
  {
   "cell_type": "code",
   "execution_count": 60,
   "metadata": {},
   "outputs": [
    {
     "data": {
      "text/plain": [
       "array([[ 8.,  7.,  6.],\n",
       "       [ 3.,  5.,  7.],\n",
       "       [ 4.,  9.,  1.]])"
      ]
     },
     "execution_count": 60,
     "metadata": {},
     "output_type": "execute_result"
    }
   ],
   "source": [
    "np.dot(np.dot(evecs, sigma), np.linalg.inv(evecs))"
   ]
  },
  {
   "cell_type": "code",
   "execution_count": null,
   "metadata": {},
   "outputs": [],
   "source": []
  }
 ],
 "metadata": {
  "kernelspec": {
   "display_name": "Python 3",
   "language": "python",
   "name": "python3"
  },
  "language_info": {
   "codemirror_mode": {
    "name": "ipython",
    "version": 3
   },
   "file_extension": ".py",
   "mimetype": "text/x-python",
   "name": "python",
   "nbconvert_exporter": "python",
   "pygments_lexer": "ipython3",
   "version": "3.6.4"
  }
 },
 "nbformat": 4,
 "nbformat_minor": 2
}
