{
 "cells": [
  {
   "cell_type": "markdown",
   "metadata": {},
   "source": [
    "参考：[Python读取图片中的汉字](https://zhuanlan.zhihu.com/p/34253981)"
   ]
  },
  {
   "cell_type": "markdown",
   "metadata": {},
   "source": [
    "# 数据集\n",
    "- [中科院中文CASIA Online and Offline Chinese Handwriting Databases](http://www.nlpr.ia.ac.cn/databases/handwriting/Download.html)"
   ]
  },
  {
   "cell_type": "code",
   "execution_count": 1,
   "metadata": {},
   "outputs": [],
   "source": [
    "root = 'E:/Data/OCR/CASIA/'"
   ]
  },
  {
   "cell_type": "code",
   "execution_count": 9,
   "metadata": {},
   "outputs": [],
   "source": [
    "import os\n",
    "import sys\n",
    "\n",
    "sys.path.append('E:/xinlib')\n",
    "from base.file import NameBunch, ZFile, Bunch"
   ]
  },
  {
   "cell_type": "code",
   "execution_count": 3,
   "metadata": {},
   "outputs": [
    {
     "data": {
      "text/plain": [
       "{'1.0test-GB1': <zipfile.ZipFile filename='E:/Data/OCR/CASIA/1.0test-GB1.zip' mode='r'>,\n",
       " '1.0train-GB1': <zipfile.ZipFile filename='E:/Data/OCR/CASIA/1.0train-GB1.zip' mode='r'>,\n",
       " 'competition-dgr': <zipfile.ZipFile filename='E:/Data/OCR/CASIA/competition-dgr.zip' mode='r'>,\n",
       " 'competition-gnt': <zipfile.ZipFile filename='E:/Data/OCR/CASIA/competition-gnt.zip' mode='r'>,\n",
       " 'competition_POT': <zipfile.ZipFile filename='E:/Data/OCR/CASIA/competition_POT.zip' mode='r'>,\n",
       " 'Competition_ptts': <zipfile.ZipFile filename='E:/Data/OCR/CASIA/Competition_ptts.zip' mode='r'>,\n",
       " 'HWDB1.0trn': <zipfile.ZipFile filename='E:/Data/OCR/CASIA/HWDB1.0trn.zip' mode='r'>,\n",
       " 'HWDB1.0tst': <zipfile.ZipFile filename='E:/Data/OCR/CASIA/HWDB1.0tst.zip' mode='r'>,\n",
       " 'HWDB1.1trn': <zipfile.ZipFile filename='E:/Data/OCR/CASIA/HWDB1.1trn.zip' mode='r'>,\n",
       " 'HWDB1.1trn_gnt': <zipfile.ZipFile filename='E:/Data/OCR/CASIA/HWDB1.1trn_gnt.zip' mode='r'>,\n",
       " 'HWDB1.1tst': <zipfile.ZipFile filename='E:/Data/OCR/CASIA/HWDB1.1tst.zip' mode='r'>,\n",
       " 'HWDB1.1tst_gnt': <zipfile.ZipFile filename='E:/Data/OCR/CASIA/HWDB1.1tst_gnt.zip' mode='r'>,\n",
       " 'OLHWDB1.0trn': <zipfile.ZipFile filename='E:/Data/OCR/CASIA/OLHWDB1.0trn.zip' mode='r'>,\n",
       " 'OLHWDB1.0tst': <zipfile.ZipFile filename='E:/Data/OCR/CASIA/OLHWDB1.0tst.zip' mode='r'>,\n",
       " 'OLHWDB1.1trn': <zipfile.ZipFile filename='E:/Data/OCR/CASIA/OLHWDB1.1trn.zip' mode='r'>,\n",
       " 'OLHWDB1.1trn_pot': <zipfile.ZipFile filename='E:/Data/OCR/CASIA/OLHWDB1.1trn_pot.zip' mode='r'>,\n",
       " 'OLHWDB1.1tst': <zipfile.ZipFile filename='E:/Data/OCR/CASIA/OLHWDB1.1tst.zip' mode='r'>,\n",
       " 'OLHWDB1.1tst_pot': <zipfile.ZipFile filename='E:/Data/OCR/CASIA/OLHWDB1.1tst_pot.zip' mode='r'>}"
      ]
     },
     "execution_count": 3,
     "metadata": {},
     "output_type": "execute_result"
    }
   ],
   "source": [
    "nb = NameBunch(root)\n",
    "nb.N2B"
   ]
  },
  {
   "cell_type": "code",
   "execution_count": 96,
   "metadata": {},
   "outputs": [],
   "source": [
    "H1Z = nb.N2B['HWDB1.1trn']"
   ]
  },
  {
   "cell_type": "code",
   "execution_count": 97,
   "metadata": {},
   "outputs": [],
   "source": [
    "class ZFile:\n",
    "    def __init__(self, Z):\n",
    "        self.B = Bunch\n",
    "        self.Z = Z\n",
    "        Images = [filename for filename, file in Z.NameToInfo.items() \\\n",
    "                  if not (file.is_dir() or filename.endswith('.txt'))]\n",
    "        self.Z2B = self.B(Images=Images, Anns=[])"
   ]
  },
  {
   "cell_type": "code",
   "execution_count": 98,
   "metadata": {},
   "outputs": [],
   "source": [
    "zf = ZFile(H1Z)"
   ]
  },
  {
   "cell_type": "code",
   "execution_count": 99,
   "metadata": {},
   "outputs": [
    {
     "data": {
      "text/plain": [
       "['HWDB1.1trn/1001.mpf',\n",
       " 'HWDB1.1trn/1002.mpf',\n",
       " 'HWDB1.1trn/1003.mpf',\n",
       " 'HWDB1.1trn/1004.mpf',\n",
       " 'HWDB1.1trn/1005.mpf',\n",
       " 'HWDB1.1trn/1006.mpf',\n",
       " 'HWDB1.1trn/1007.mpf',\n",
       " 'HWDB1.1trn/1008.mpf',\n",
       " 'HWDB1.1trn/1009.mpf',\n",
       " 'HWDB1.1trn/1010.mpf',\n",
       " 'HWDB1.1trn/1011.mpf',\n",
       " 'HWDB1.1trn/1012.mpf',\n",
       " 'HWDB1.1trn/1013.mpf',\n",
       " 'HWDB1.1trn/1014.mpf',\n",
       " 'HWDB1.1trn/1015.mpf',\n",
       " 'HWDB1.1trn/1016.mpf',\n",
       " 'HWDB1.1trn/1017.mpf',\n",
       " 'HWDB1.1trn/1018.mpf',\n",
       " 'HWDB1.1trn/1019.mpf',\n",
       " 'HWDB1.1trn/1020.mpf',\n",
       " 'HWDB1.1trn/1021.mpf',\n",
       " 'HWDB1.1trn/1022.mpf',\n",
       " 'HWDB1.1trn/1023.mpf',\n",
       " 'HWDB1.1trn/1024.mpf',\n",
       " 'HWDB1.1trn/1025.mpf',\n",
       " 'HWDB1.1trn/1026.mpf',\n",
       " 'HWDB1.1trn/1027.mpf',\n",
       " 'HWDB1.1trn/1028.mpf',\n",
       " 'HWDB1.1trn/1029.mpf',\n",
       " 'HWDB1.1trn/1030.mpf',\n",
       " 'HWDB1.1trn/1031.mpf',\n",
       " 'HWDB1.1trn/1032.mpf',\n",
       " 'HWDB1.1trn/1033.mpf',\n",
       " 'HWDB1.1trn/1034.mpf',\n",
       " 'HWDB1.1trn/1035.mpf',\n",
       " 'HWDB1.1trn/1036.mpf',\n",
       " 'HWDB1.1trn/1037.mpf',\n",
       " 'HWDB1.1trn/1038.mpf',\n",
       " 'HWDB1.1trn/1039.mpf',\n",
       " 'HWDB1.1trn/1040.mpf',\n",
       " 'HWDB1.1trn/1041.mpf',\n",
       " 'HWDB1.1trn/1042.mpf',\n",
       " 'HWDB1.1trn/1043.mpf',\n",
       " 'HWDB1.1trn/1044.mpf',\n",
       " 'HWDB1.1trn/1045.mpf',\n",
       " 'HWDB1.1trn/1046.mpf',\n",
       " 'HWDB1.1trn/1047.mpf',\n",
       " 'HWDB1.1trn/1048.mpf',\n",
       " 'HWDB1.1trn/1049.mpf',\n",
       " 'HWDB1.1trn/1050.mpf',\n",
       " 'HWDB1.1trn/1051.mpf',\n",
       " 'HWDB1.1trn/1052.mpf',\n",
       " 'HWDB1.1trn/1053.mpf',\n",
       " 'HWDB1.1trn/1054.mpf',\n",
       " 'HWDB1.1trn/1055.mpf',\n",
       " 'HWDB1.1trn/1056.mpf',\n",
       " 'HWDB1.1trn/1057.mpf',\n",
       " 'HWDB1.1trn/1058.mpf',\n",
       " 'HWDB1.1trn/1059.mpf',\n",
       " 'HWDB1.1trn/1060.mpf',\n",
       " 'HWDB1.1trn/1061.mpf',\n",
       " 'HWDB1.1trn/1062.mpf',\n",
       " 'HWDB1.1trn/1063.mpf',\n",
       " 'HWDB1.1trn/1064.mpf',\n",
       " 'HWDB1.1trn/1065.mpf',\n",
       " 'HWDB1.1trn/1066.mpf',\n",
       " 'HWDB1.1trn/1067.mpf',\n",
       " 'HWDB1.1trn/1068.mpf',\n",
       " 'HWDB1.1trn/1069.mpf',\n",
       " 'HWDB1.1trn/1070.mpf',\n",
       " 'HWDB1.1trn/1071.mpf',\n",
       " 'HWDB1.1trn/1072.mpf',\n",
       " 'HWDB1.1trn/1073.mpf',\n",
       " 'HWDB1.1trn/1074.mpf',\n",
       " 'HWDB1.1trn/1075.mpf',\n",
       " 'HWDB1.1trn/1076.mpf',\n",
       " 'HWDB1.1trn/1077.mpf',\n",
       " 'HWDB1.1trn/1078.mpf',\n",
       " 'HWDB1.1trn/1079.mpf',\n",
       " 'HWDB1.1trn/1080.mpf',\n",
       " 'HWDB1.1trn/1081.mpf',\n",
       " 'HWDB1.1trn/1082.mpf',\n",
       " 'HWDB1.1trn/1083.mpf',\n",
       " 'HWDB1.1trn/1084.mpf',\n",
       " 'HWDB1.1trn/1085.mpf',\n",
       " 'HWDB1.1trn/1086.mpf',\n",
       " 'HWDB1.1trn/1087.mpf',\n",
       " 'HWDB1.1trn/1088.mpf',\n",
       " 'HWDB1.1trn/1089.mpf',\n",
       " 'HWDB1.1trn/1090.mpf',\n",
       " 'HWDB1.1trn/1091.mpf',\n",
       " 'HWDB1.1trn/1092.mpf',\n",
       " 'HWDB1.1trn/1093.mpf',\n",
       " 'HWDB1.1trn/1094.mpf',\n",
       " 'HWDB1.1trn/1095.mpf',\n",
       " 'HWDB1.1trn/1096.mpf',\n",
       " 'HWDB1.1trn/1097.mpf',\n",
       " 'HWDB1.1trn/1098.mpf',\n",
       " 'HWDB1.1trn/1099.mpf',\n",
       " 'HWDB1.1trn/1100.mpf',\n",
       " 'HWDB1.1trn/1101.mpf',\n",
       " 'HWDB1.1trn/1102.mpf',\n",
       " 'HWDB1.1trn/1103.mpf',\n",
       " 'HWDB1.1trn/1104.mpf',\n",
       " 'HWDB1.1trn/1105.mpf',\n",
       " 'HWDB1.1trn/1106.mpf',\n",
       " 'HWDB1.1trn/1107.mpf',\n",
       " 'HWDB1.1trn/1108.mpf',\n",
       " 'HWDB1.1trn/1109.mpf',\n",
       " 'HWDB1.1trn/1110.mpf',\n",
       " 'HWDB1.1trn/1111.mpf',\n",
       " 'HWDB1.1trn/1112.mpf',\n",
       " 'HWDB1.1trn/1113.mpf',\n",
       " 'HWDB1.1trn/1114.mpf',\n",
       " 'HWDB1.1trn/1115.mpf',\n",
       " 'HWDB1.1trn/1116.mpf',\n",
       " 'HWDB1.1trn/1117.mpf',\n",
       " 'HWDB1.1trn/1118.mpf',\n",
       " 'HWDB1.1trn/1119.mpf',\n",
       " 'HWDB1.1trn/1120.mpf',\n",
       " 'HWDB1.1trn/1121.mpf',\n",
       " 'HWDB1.1trn/1122.mpf',\n",
       " 'HWDB1.1trn/1123.mpf',\n",
       " 'HWDB1.1trn/1124.mpf',\n",
       " 'HWDB1.1trn/1125.mpf',\n",
       " 'HWDB1.1trn/1126.mpf',\n",
       " 'HWDB1.1trn/1127.mpf',\n",
       " 'HWDB1.1trn/1128.mpf',\n",
       " 'HWDB1.1trn/1129.mpf',\n",
       " 'HWDB1.1trn/1130.mpf',\n",
       " 'HWDB1.1trn/1131.mpf',\n",
       " 'HWDB1.1trn/1132.mpf',\n",
       " 'HWDB1.1trn/1133.mpf',\n",
       " 'HWDB1.1trn/1134.mpf',\n",
       " 'HWDB1.1trn/1135.mpf',\n",
       " 'HWDB1.1trn/1136.mpf',\n",
       " 'HWDB1.1trn/1137.mpf',\n",
       " 'HWDB1.1trn/1138.mpf',\n",
       " 'HWDB1.1trn/1139.mpf',\n",
       " 'HWDB1.1trn/1140.mpf',\n",
       " 'HWDB1.1trn/1141.mpf',\n",
       " 'HWDB1.1trn/1142.mpf',\n",
       " 'HWDB1.1trn/1143.mpf',\n",
       " 'HWDB1.1trn/1144.mpf',\n",
       " 'HWDB1.1trn/1145.mpf',\n",
       " 'HWDB1.1trn/1146.mpf',\n",
       " 'HWDB1.1trn/1147.mpf',\n",
       " 'HWDB1.1trn/1148.mpf',\n",
       " 'HWDB1.1trn/1149.mpf',\n",
       " 'HWDB1.1trn/1150.mpf',\n",
       " 'HWDB1.1trn/1151.mpf',\n",
       " 'HWDB1.1trn/1152.mpf',\n",
       " 'HWDB1.1trn/1153.mpf',\n",
       " 'HWDB1.1trn/1154.mpf',\n",
       " 'HWDB1.1trn/1155.mpf',\n",
       " 'HWDB1.1trn/1156.mpf',\n",
       " 'HWDB1.1trn/1157.mpf',\n",
       " 'HWDB1.1trn/1158.mpf',\n",
       " 'HWDB1.1trn/1159.mpf',\n",
       " 'HWDB1.1trn/1160.mpf',\n",
       " 'HWDB1.1trn/1161.mpf',\n",
       " 'HWDB1.1trn/1162.mpf',\n",
       " 'HWDB1.1trn/1163.mpf',\n",
       " 'HWDB1.1trn/1164.mpf',\n",
       " 'HWDB1.1trn/1165.mpf',\n",
       " 'HWDB1.1trn/1166.mpf',\n",
       " 'HWDB1.1trn/1167.mpf',\n",
       " 'HWDB1.1trn/1168.mpf',\n",
       " 'HWDB1.1trn/1169.mpf',\n",
       " 'HWDB1.1trn/1170.mpf',\n",
       " 'HWDB1.1trn/1171.mpf',\n",
       " 'HWDB1.1trn/1172.mpf',\n",
       " 'HWDB1.1trn/1173.mpf',\n",
       " 'HWDB1.1trn/1174.mpf',\n",
       " 'HWDB1.1trn/1175.mpf',\n",
       " 'HWDB1.1trn/1176.mpf',\n",
       " 'HWDB1.1trn/1177.mpf',\n",
       " 'HWDB1.1trn/1178.mpf',\n",
       " 'HWDB1.1trn/1179.mpf',\n",
       " 'HWDB1.1trn/1180.mpf',\n",
       " 'HWDB1.1trn/1181.mpf',\n",
       " 'HWDB1.1trn/1182.mpf',\n",
       " 'HWDB1.1trn/1183.mpf',\n",
       " 'HWDB1.1trn/1184.mpf',\n",
       " 'HWDB1.1trn/1185.mpf',\n",
       " 'HWDB1.1trn/1186.mpf',\n",
       " 'HWDB1.1trn/1187.mpf',\n",
       " 'HWDB1.1trn/1188.mpf',\n",
       " 'HWDB1.1trn/1189.mpf',\n",
       " 'HWDB1.1trn/1190.mpf',\n",
       " 'HWDB1.1trn/1191.mpf',\n",
       " 'HWDB1.1trn/1192.mpf',\n",
       " 'HWDB1.1trn/1193.mpf',\n",
       " 'HWDB1.1trn/1194.mpf',\n",
       " 'HWDB1.1trn/1195.mpf',\n",
       " 'HWDB1.1trn/1196.mpf',\n",
       " 'HWDB1.1trn/1197.mpf',\n",
       " 'HWDB1.1trn/1198.mpf',\n",
       " 'HWDB1.1trn/1199.mpf',\n",
       " 'HWDB1.1trn/1200.mpf',\n",
       " 'HWDB1.1trn/1201.mpf',\n",
       " 'HWDB1.1trn/1202.mpf',\n",
       " 'HWDB1.1trn/1203.mpf',\n",
       " 'HWDB1.1trn/1204.mpf',\n",
       " 'HWDB1.1trn/1205.mpf',\n",
       " 'HWDB1.1trn/1206.mpf',\n",
       " 'HWDB1.1trn/1207.mpf',\n",
       " 'HWDB1.1trn/1208.mpf',\n",
       " 'HWDB1.1trn/1209.mpf',\n",
       " 'HWDB1.1trn/1210.mpf',\n",
       " 'HWDB1.1trn/1211.mpf',\n",
       " 'HWDB1.1trn/1212.mpf',\n",
       " 'HWDB1.1trn/1213.mpf',\n",
       " 'HWDB1.1trn/1214.mpf',\n",
       " 'HWDB1.1trn/1215.mpf',\n",
       " 'HWDB1.1trn/1216.mpf',\n",
       " 'HWDB1.1trn/1217.mpf',\n",
       " 'HWDB1.1trn/1218.mpf',\n",
       " 'HWDB1.1trn/1219.mpf',\n",
       " 'HWDB1.1trn/1220.mpf',\n",
       " 'HWDB1.1trn/1221.mpf',\n",
       " 'HWDB1.1trn/1222.mpf',\n",
       " 'HWDB1.1trn/1223.mpf',\n",
       " 'HWDB1.1trn/1224.mpf',\n",
       " 'HWDB1.1trn/1225.mpf',\n",
       " 'HWDB1.1trn/1226.mpf',\n",
       " 'HWDB1.1trn/1227.mpf',\n",
       " 'HWDB1.1trn/1228.mpf',\n",
       " 'HWDB1.1trn/1229.mpf',\n",
       " 'HWDB1.1trn/1230.mpf',\n",
       " 'HWDB1.1trn/1231.mpf',\n",
       " 'HWDB1.1trn/1232.mpf',\n",
       " 'HWDB1.1trn/1233.mpf',\n",
       " 'HWDB1.1trn/1234.mpf',\n",
       " 'HWDB1.1trn/1235.mpf',\n",
       " 'HWDB1.1trn/1236.mpf',\n",
       " 'HWDB1.1trn/1237.mpf',\n",
       " 'HWDB1.1trn/1238.mpf',\n",
       " 'HWDB1.1trn/1239.mpf',\n",
       " 'HWDB1.1trn/1240.mpf']"
      ]
     },
     "execution_count": 99,
     "metadata": {},
     "output_type": "execute_result"
    }
   ],
   "source": [
    "zf.Z2B.Images"
   ]
  },
  {
   "cell_type": "code",
   "execution_count": 100,
   "metadata": {},
   "outputs": [
    {
     "data": {
      "text/plain": [
       "array([232,   0,   0, ...,   6,   2,   0], dtype=uint8)"
      ]
     },
     "execution_count": 100,
     "metadata": {},
     "output_type": "execute_result"
    }
   ],
   "source": [
    "import cv2\n",
    "import numpy as np\n",
    "\n",
    "buffer = zf.Z.read('HWDB1.1trn/1158.mpf')\n",
    "image = np.frombuffer(buffer, dtype=\"uint8\")\n",
    "image"
   ]
  },
  {
   "cell_type": "code",
   "execution_count": 101,
   "metadata": {},
   "outputs": [
    {
     "ename": "TypeError",
     "evalue": "bad argument type for built-in operation",
     "output_type": "error",
     "traceback": [
      "\u001b[1;31m---------------------------------------------------------------------------\u001b[0m",
      "\u001b[1;31mTypeError\u001b[0m                                 Traceback (most recent call last)",
      "\u001b[1;32m<ipython-input-101-a0eeb9417dcb>\u001b[0m in \u001b[0;36m<module>\u001b[1;34m()\u001b[0m\n\u001b[1;32m----> 1\u001b[1;33m \u001b[0mcv2\u001b[0m\u001b[1;33m.\u001b[0m\u001b[0mimencode\u001b[0m\u001b[1;33m(\u001b[0m\u001b[0mimage\u001b[0m\u001b[1;33m,\u001b[0m \u001b[0mcv2\u001b[0m\u001b[1;33m.\u001b[0m\u001b[0mIMREAD_IGNORE_ORIENTATION\u001b[0m\u001b[1;33m)\u001b[0m\u001b[1;33m\u001b[0m\u001b[0m\n\u001b[0m",
      "\u001b[1;31mTypeError\u001b[0m: bad argument type for built-in operation"
     ]
    }
   ],
   "source": [
    "cv2.imencode(image, cv2.IMREAD_IGNORE_ORIENTATION)"
   ]
  },
  {
   "cell_type": "code",
   "execution_count": 102,
   "metadata": {},
   "outputs": [],
   "source": [
    "root1 = 'E:/Data/MSRA-TD500.zip'"
   ]
  },
  {
   "cell_type": "code",
   "execution_count": 103,
   "metadata": {},
   "outputs": [],
   "source": [
    "import zipfile"
   ]
  },
  {
   "cell_type": "code",
   "execution_count": 104,
   "metadata": {},
   "outputs": [],
   "source": [
    "z = zipfile.ZipFile(root1)"
   ]
  },
  {
   "cell_type": "code",
   "execution_count": 127,
   "metadata": {},
   "outputs": [
    {
     "name": "stdout",
     "output_type": "stream",
     "text": [
      "MSRA-TD500/MSRA Text Detection 500 Database (MSRA-TD500) Readme.doc\n"
     ]
    }
   ],
   "source": [
    "for filename in z.namelist():\n",
    "    if filename.endswith('.doc'):\n",
    "        z.extract(filename, 'E:/Data/')\n",
    "        print(filename)"
   ]
  },
  {
   "cell_type": "code",
   "execution_count": null,
   "metadata": {},
   "outputs": [],
   "source": []
  }
 ],
 "metadata": {
  "kernelspec": {
   "display_name": "Python 3",
   "language": "python",
   "name": "python3"
  },
  "language_info": {
   "codemirror_mode": {
    "name": "ipython",
    "version": 3
   },
   "file_extension": ".py",
   "mimetype": "text/x-python",
   "name": "python",
   "nbconvert_exporter": "python",
   "pygments_lexer": "ipython3",
   "version": "3.6.5"
  }
 },
 "nbformat": 4,
 "nbformat_minor": 2
}
