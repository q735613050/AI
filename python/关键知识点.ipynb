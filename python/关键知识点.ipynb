{
 "cells": [
  {
   "cell_type": "markdown",
   "metadata": {},
   "source": [
    "学习资源：[笨方法学习 python3](https://learnpythonthehardway.org/python3/)\n",
    "\n",
    "\n",
    "# 将变量传递给脚本——`argv`\n",
    "\n",
    "- **脚本**：你编写的 `.py` 文件。\n",
    "- `argv` 参数变量（argument variable）保存着你运行 python 脚本的参数。\n",
    "\n",
    "# `input()` 脚本运行过程需要输入参数\n",
    "\n",
    "```py\n",
    "from sys import argv\n",
    "\n",
    "script, user_name = argv  # 解包\n",
    "prompt = '> '    # 提示符\n",
    "\n",
    "print(f\"Hi {user_name}, I'm the {script} script.\")\n",
    "print(\"I'd like to ask you a few question.\")\n",
    "print(f\"Do you like me {user_name}?\")\n",
    "likes = input(prompt)\n",
    "\n",
    "print(f\"Where do you live {user_name}?\")\n",
    "lives = input(prompt)\n",
    "\n",
    "print(\"What kind of computer do you have?\")\n",
    "computer = input(prompt)\n",
    "\n",
    "print(f'''\n",
    "Alright, so you said {likes} about liking me.\n",
    "You live in {lives}. Not sure where that is.\n",
    "And you have a {computer} computer. Nice.\n",
    "''')\n",
    "```"
   ]
  },
  {
   "cell_type": "code",
   "execution_count": 11,
   "metadata": {},
   "outputs": [
    {
     "name": "stdout",
     "output_type": "stream",
     "text": [
      "sd ffgdf\n"
     ]
    }
   ],
   "source": [
    "x = input('sd ffg')"
   ]
  },
  {
   "cell_type": "code",
   "execution_count": 12,
   "metadata": {},
   "outputs": [
    {
     "data": {
      "text/plain": [
       "str"
      ]
     },
     "execution_count": 12,
     "metadata": {},
     "output_type": "execute_result"
    }
   ],
   "source": [
    "type(x)"
   ]
  },
  {
   "cell_type": "code",
   "execution_count": 13,
   "metadata": {},
   "outputs": [
    {
     "data": {
      "text/plain": [
       "'df'"
      ]
     },
     "execution_count": 13,
     "metadata": {},
     "output_type": "execute_result"
    }
   ],
   "source": [
    "x"
   ]
  },
  {
   "cell_type": "markdown",
   "metadata": {},
   "source": [
    "```sh\n",
    "echo 'This is a text file.' > a.txt   # 创建文件 \n",
    "```\n",
    "\n",
    "```sh\n",
    "cat a.txt    # 查看文件\n",
    "```\n",
    "\n",
    "```sh\n",
    "man cat   # 查看 cat 的帮助文档\n",
    "```"
   ]
  },
  {
   "cell_type": "markdown",
   "metadata": {},
   "source": [
    "# 函数中的 `*args`\n",
    "告诉 python 把函数的所有参数都接收进来，然后放到名叫 `args` 的列表中去。"
   ]
  },
  {
   "cell_type": "code",
   "execution_count": 20,
   "metadata": {},
   "outputs": [],
   "source": [
    "def print_two(*args):\n",
    "    arg1, arg2 = args\n",
    "    print(f'arg1: {arg1}, arg2: {arg2}')"
   ]
  },
  {
   "cell_type": "code",
   "execution_count": 21,
   "metadata": {},
   "outputs": [
    {
     "name": "stdout",
     "output_type": "stream",
     "text": [
      "arg1: Zed, arg2: Shaw\n"
     ]
    }
   ],
   "source": [
    "print_two('Zed', 'Shaw')"
   ]
  },
  {
   "cell_type": "markdown",
   "metadata": {},
   "source": [
    "# 字符串 & 字节串 & 字符编码\n",
    "\n",
    "```py\n",
    "import sys\n",
    "\n",
    "script, encoding, error = sys.argv\n",
    "\n",
    "def main(language_file, encoding, errors):\n",
    "    line = language_file.readline()\n",
    "    if line:\n",
    "        print_line(line, encoding, errors)\n",
    "        return main(language_file, encoding, errors)\n",
    "\n",
    "def print_line(line, encoding, errors):\n",
    "    next_lang = line.strip()\n",
    "    raw_bytes = next_lang.encode(encoding, errors = errors)\n",
    "    cooked_string = raw_bytes.decode(encoding, errors = errors)\n",
    "    \n",
    "    print(raw_bytes, \"<===>\", cooked_string)\n",
    "\n",
    "languages = open('E:/Data/languages.txt', encoding = 'utf-8')\n",
    "\n",
    "main(languages, encoding, error)\n",
    "```\n",
    "\n",
    "PowerShell：\n",
    "```sh\n",
    "python .\\str_bytes_test.py utf-8 strict\n",
    "```"
   ]
  },
  {
   "cell_type": "code",
   "execution_count": 27,
   "metadata": {},
   "outputs": [],
   "source": [
    "def main(language_file, encoding, errors):\n",
    "    line = language_file.readline()\n",
    "    if line:\n",
    "        print_line(line, encoding, errors)\n",
    "        return main(language_file, encoding, errors)\n",
    "\n",
    "def print_line(line, encoding, errors):\n",
    "    next_lang = line.strip()     # 删除每行结尾的 \"\\n\"\n",
    "    raw_bytes = next_lang.encode(encoding, errors = errors)\n",
    "    cooked_string = raw_bytes.decode(encoding, errors = errors)\n",
    "\n",
    "    print(raw_bytes, \"<===>\", cooked_string)"
   ]
  },
  {
   "cell_type": "code",
   "execution_count": 45,
   "metadata": {
    "scrolled": true
   },
   "outputs": [
    {
     "name": "stdout",
     "output_type": "stream",
     "text": [
      "b'Afrikaans' <===> Afrikaans\n",
      "b'\\xe1\\x8a\\xa0\\xe1\\x88\\x9b\\xe1\\x88\\xad\\xe1\\x8a\\x9b' <===> አማርኛ\n",
      "b'\\xd0\\x90\\xd2\\xa7\\xd1\\x81\\xd1\\x88\\xd3\\x99\\xd0\\xb0' <===> Аҧсшәа\n",
      "b'\\xd8\\xa7\\xd9\\x84\\xd8\\xb9\\xd8\\xb1\\xd8\\xa8\\xd9\\x8a\\xd8\\xa9' <===> العربية\n",
      "b'Aragon\\xc3\\xa9s' <===> Aragonés\n",
      "b'Arpetan' <===> Arpetan\n",
      "b'Az\\xc9\\x99rbaycanca' <===> Azərbaycanca\n",
      "b'Bamanankan' <===> Bamanankan\n",
      "b'\\xe0\\xa6\\xac\\xe0\\xa6\\xbe\\xe0\\xa6\\x82\\xe0\\xa6\\xb2\\xe0\\xa6\\xbe' <===> বাংলা\n",
      "b'B\\xc3\\xa2n-l\\xc3\\xa2m-g\\xc3\\xba' <===> Bân-lâm-gú\n",
      "b'\\xd0\\x91\\xd0\\xb5\\xd0\\xbb\\xd0\\xb0\\xd1\\x80\\xd1\\x83\\xd1\\x81\\xd0\\xba\\xd0\\xb0\\xd1\\x8f' <===> Беларуская\n",
      "b'\\xd0\\x91\\xd1\\x8a\\xd0\\xbb\\xd0\\xb3\\xd0\\xb0\\xd1\\x80\\xd1\\x81\\xd0\\xba\\xd0\\xb8' <===> Български\n",
      "b'Boarisch' <===> Boarisch\n",
      "b'Bosanski' <===> Bosanski\n",
      "b'\\xd0\\x91\\xd1\\x83\\xd1\\x80\\xd1\\x8f\\xd0\\xb0\\xd0\\xb4' <===> Буряад\n",
      "b'Catal\\xc3\\xa0' <===> Català\n",
      "b'\\xd0\\xa7\\xd3\\x91\\xd0\\xb2\\xd0\\xb0\\xd1\\x88\\xd0\\xbb\\xd0\\xb0' <===> Чӑвашла\n",
      "b'\\xc4\\x8ce\\xc5\\xa1tina' <===> Čeština\n",
      "b'Cymraeg' <===> Cymraeg\n",
      "b'Dansk' <===> Dansk\n",
      "b'Deutsch' <===> Deutsch\n",
      "b'Eesti' <===> Eesti\n",
      "b'\\xce\\x95\\xce\\xbb\\xce\\xbb\\xce\\xb7\\xce\\xbd\\xce\\xb9\\xce\\xba\\xce\\xac' <===> Ελληνικά\n",
      "b'Espa\\xc3\\xb1ol' <===> Español\n",
      "b'Esperanto' <===> Esperanto\n",
      "b'\\xd9\\x81\\xd8\\xa7\\xd8\\xb1\\xd8\\xb3\\xdb\\x8c' <===> فارسی\n",
      "b'Fran\\xc3\\xa7ais' <===> Français\n",
      "b'Frysk' <===> Frysk\n",
      "b'Gaelg' <===> Gaelg\n",
      "b'G\\xc3\\xa0idhlig' <===> Gàidhlig\n",
      "b'Galego' <===> Galego\n",
      "b'\\xed\\x95\\x9c\\xea\\xb5\\xad\\xec\\x96\\xb4' <===> 한국어\n",
      "b'\\xd5\\x80\\xd5\\xa1\\xd5\\xb5\\xd5\\xa5\\xd6\\x80\\xd5\\xa5\\xd5\\xb6' <===> Հայերեն\n",
      "b'\\xe0\\xa4\\xb9\\xe0\\xa4\\xbf\\xe0\\xa4\\xa8\\xe0\\xa5\\x8d\\xe0\\xa4\\xa6\\xe0\\xa5\\x80' <===> हिन्दी\n",
      "b'Hrvatski' <===> Hrvatski\n",
      "b'Ido' <===> Ido\n",
      "b'Interlingua' <===> Interlingua\n",
      "b'Italiano' <===> Italiano\n",
      "b'\\xd7\\xa2\\xd7\\x91\\xd7\\xa8\\xd7\\x99\\xd7\\xaa' <===> עברית\n",
      "b'\\xe0\\xb2\\x95\\xe0\\xb2\\xa8\\xe0\\xb3\\x8d\\xe0\\xb2\\xa8\\xe0\\xb2\\xa1' <===> ಕನ್ನಡ\n",
      "b'Kapampangan' <===> Kapampangan\n",
      "b'\\xe1\\x83\\xa5\\xe1\\x83\\x90\\xe1\\x83\\xa0\\xe1\\x83\\x97\\xe1\\x83\\xa3\\xe1\\x83\\x9a\\xe1\\x83\\x98' <===> ქართული\n",
      "b'\\xd2\\x9a\\xd0\\xb0\\xd0\\xb7\\xd0\\xb0\\xd2\\x9b\\xd1\\x88\\xd0\\xb0' <===> Қазақша\n",
      "b'Krey\\xc3\\xb2l ayisyen' <===> Kreyòl ayisyen\n",
      "b'Latga\\xc4\\xbcu' <===> Latgaļu\n",
      "b'Latina' <===> Latina\n",
      "b'Latvie\\xc5\\xa1u' <===> Latviešu\n",
      "b'L\\xc3\\xabtzebuergesch' <===> Lëtzebuergesch\n",
      "b'Lietuvi\\xc5\\xb3' <===> Lietuvių\n",
      "b'Magyar' <===> Magyar\n",
      "b'\\xd0\\x9c\\xd0\\xb0\\xd0\\xba\\xd0\\xb5\\xd0\\xb4\\xd0\\xbe\\xd0\\xbd\\xd1\\x81\\xd0\\xba\\xd0\\xb8' <===> Македонски\n",
      "b'Malti' <===> Malti\n",
      "b'\\xe0\\xa4\\xae\\xe0\\xa4\\xb0\\xe0\\xa4\\xbe\\xe0\\xa4\\xa0\\xe0\\xa5\\x80' <===> मराठी\n",
      "b'\\xe1\\x83\\x9b\\xe1\\x83\\x90\\xe1\\x83\\xa0\\xe1\\x83\\x92\\xe1\\x83\\x90\\xe1\\x83\\x9a\\xe1\\x83\\xa3\\xe1\\x83\\xa0\\xe1\\x83\\x98' <===> მარგალური\n",
      "b'\\xd9\\x85\\xd8\\xa7\\xd8\\xb2\\xd9\\x90\\xd8\\xb1\\xd9\\x88\\xd9\\x86\\xdb\\x8c' <===> مازِرونی\n",
      "b'Bahasa Melayu' <===> Bahasa Melayu\n",
      "b'\\xd0\\x9c\\xd0\\xbe\\xd0\\xbd\\xd0\\xb3\\xd0\\xbe\\xd0\\xbb' <===> Монгол\n",
      "b'Nederlands' <===> Nederlands\n",
      "b'\\xe0\\xa4\\xa8\\xe0\\xa5\\x87\\xe0\\xa4\\xaa\\xe0\\xa4\\xbe\\xe0\\xa4\\xb2 \\xe0\\xa4\\xad\\xe0\\xa4\\xbe\\xe0\\xa4\\xb7\\xe0\\xa4\\xbe' <===> नेपाल भाषा\n",
      "b'\\xe6\\x97\\xa5\\xe6\\x9c\\xac\\xe8\\xaa\\x9e' <===> 日本語\n",
      "b'Norsk bokm\\xc3\\xa5l' <===> Norsk bokmål\n",
      "b'Nouormand' <===> Nouormand\n",
      "b'Occitan' <===> Occitan\n",
      "b'O\\xca\\xbbzbekcha/\\xd1\\x9e\\xd0\\xb7\\xd0\\xb1\\xd0\\xb5\\xd0\\xba\\xd1\\x87\\xd0\\xb0' <===> Oʻzbekcha/ўзбекча\n",
      "b'\\xe0\\xa8\\xaa\\xe0\\xa9\\xb0\\xe0\\xa8\\x9c\\xe0\\xa8\\xbe\\xe0\\xa8\\xac\\xe0\\xa9\\x80' <===> ਪੰਜਾਬੀ\n",
      "b'\\xd9\\xbe\\xd9\\x86\\xd8\\xac\\xd8\\xa7\\xd8\\xa8\\xdb\\x8c' <===> پنجابی\n",
      "b'\\xd9\\xbe\\xda\\x9a\\xd8\\xaa\\xd9\\x88' <===> پښتو\n",
      "b'Plattd\\xc3\\xbc\\xc3\\xbctsch' <===> Plattdüütsch\n",
      "b'Polski' <===> Polski\n",
      "b'Portugu\\xc3\\xaas' <===> Português\n",
      "b'Rom\\xc3\\xa2n\\xc4\\x83' <===> Română\n",
      "b'Romani' <===> Romani\n",
      "b'\\xd0\\xa0\\xd1\\x83\\xd1\\x81\\xd1\\x81\\xd0\\xba\\xd0\\xb8\\xd0\\xb9' <===> Русский\n",
      "b'Seeltersk' <===> Seeltersk\n",
      "b'Shqip' <===> Shqip\n",
      "b'Simple English' <===> Simple English\n",
      "b'Sloven\\xc4\\x8dina' <===> Slovenčina\n",
      "b'\\xda\\xa9\\xd9\\x88\\xd8\\xb1\\xd8\\xaf\\xdb\\x8c\\xdb\\x8c \\xd9\\x86\\xd8\\xa7\\xd9\\x88\\xdb\\x95\\xd9\\x86\\xd8\\xaf\\xdb\\x8c' <===> کوردیی ناوەندی\n",
      "b'\\xd0\\xa1\\xd1\\x80\\xd0\\xbf\\xd1\\x81\\xd0\\xba\\xd0\\xb8 / srpski' <===> Српски / srpski\n",
      "b'Suomi' <===> Suomi\n",
      "b'Svenska' <===> Svenska\n",
      "b'Tagalog' <===> Tagalog\n",
      "b'\\xe0\\xae\\xa4\\xe0\\xae\\xae\\xe0\\xae\\xbf\\xe0\\xae\\xb4\\xe0\\xaf\\x8d' <===> தமிழ்\n",
      "b'\\xe0\\xb8\\xa0\\xe0\\xb8\\xb2\\xe0\\xb8\\xa9\\xe0\\xb8\\xb2\\xe0\\xb9\\x84\\xe0\\xb8\\x97\\xe0\\xb8\\xa2' <===> ภาษาไทย\n",
      "b'Taqbaylit' <===> Taqbaylit\n",
      "b'\\xd0\\xa2\\xd0\\xb0\\xd1\\x82\\xd0\\xb0\\xd1\\x80\\xd1\\x87\\xd0\\xb0/tatar\\xc3\\xa7a' <===> Татарча/tatarça\n",
      "b'\\xe0\\xb0\\xa4\\xe0\\xb1\\x86\\xe0\\xb0\\xb2\\xe0\\xb1\\x81\\xe0\\xb0\\x97\\xe0\\xb1\\x81' <===> తెలుగు\n",
      "b'\\xd0\\xa2\\xd0\\xbe\\xd2\\xb7\\xd0\\xb8\\xd0\\xba\\xd3\\xa3' <===> Тоҷикӣ\n",
      "b'T\\xc3\\xbcrk\\xc3\\xa7e' <===> Türkçe\n",
      "b'\\xd0\\xa3\\xd0\\xba\\xd1\\x80\\xd0\\xb0\\xd1\\x97\\xd0\\xbd\\xd1\\x81\\xd1\\x8c\\xd0\\xba\\xd0\\xb0' <===> Українська\n",
      "b'\\xd8\\xa7\\xd8\\xb1\\xd8\\xaf\\xd9\\x88' <===> اردو\n",
      "b'Ti\\xe1\\xba\\xbfng Vi\\xe1\\xbb\\x87t' <===> Tiếng Việt\n",
      "b'V\\xc3\\xb5ro' <===> Võro\n",
      "b'\\xe6\\x96\\x87\\xe8\\xa8\\x80' <===> 文言\n",
      "b'\\xe5\\x90\\xb4\\xe8\\xaf\\xad' <===> 吴语\n",
      "b'\\xd7\\x99\\xd7\\x99\\xd6\\xb4\\xd7\\x93\\xd7\\x99\\xd7\\xa9' <===> ייִדיש\n",
      "b'\\xe4\\xb8\\xad\\xe6\\x96\\x87' <===> 中文\n"
     ]
    }
   ],
   "source": [
    "with open('E:/Data/languages.txt', encoding = 'utf-8') as fp:\n",
    "    main(fp, 'utf-8', 'strict')"
   ]
  },
  {
   "cell_type": "markdown",
   "metadata": {},
   "source": [
    "现代的计算机本质上是一个巨大的开关阵列。计算机用电来触发这些开关的开启或关闭。这些开关用 `1` 表示开启、有电、接通，用 `0` 表示关闭、没电、切断。我们称这些 `1` 和 `0` 为『位』（bit）。\n",
    "\n",
    "我们用「字节」（byte）表示一个 $8$ 位（`0` 和 `1`）的序列。\n",
    "\n",
    "美国信息交换标准代码（ASCII）把数字与字母相对应。"
   ]
  },
  {
   "cell_type": "code",
   "execution_count": 31,
   "metadata": {},
   "outputs": [
    {
     "data": {
      "text/plain": [
       "90"
      ]
     },
     "execution_count": 31,
     "metadata": {},
     "output_type": "execute_result"
    }
   ],
   "source": [
    "0b1011010   # 二进制的 90"
   ]
  },
  {
   "cell_type": "code",
   "execution_count": 32,
   "metadata": {},
   "outputs": [
    {
     "data": {
      "text/plain": [
       "90"
      ]
     },
     "execution_count": 32,
     "metadata": {},
     "output_type": "execute_result"
    }
   ],
   "source": [
    "ord('Z')  # 字母 Z 的对应数字"
   ]
  },
  {
   "cell_type": "code",
   "execution_count": 33,
   "metadata": {},
   "outputs": [
    {
     "data": {
      "text/plain": [
       "'Z'"
      ]
     },
     "execution_count": 33,
     "metadata": {},
     "output_type": "execute_result"
    }
   ],
   "source": [
    "chr(90) "
   ]
  },
  {
   "cell_type": "markdown",
   "metadata": {},
   "source": [
    "有了 ASCII 这个约定，我们就可以用 $8$ 位（也就是 $1$ 字节）编码一个字符，然后就可以把字符串联在一起，合成一个单词。例如：`'Zed A. Shaw'` 我们可以用一组字节序列来表示：`[90, 101, 100, 32, 65, 46, 32, 83, 104, 97, 119]`，代码如下："
   ]
  },
  {
   "cell_type": "code",
   "execution_count": 35,
   "metadata": {},
   "outputs": [
    {
     "data": {
      "text/plain": [
       "[90, 101, 100, 32, 65, 46, 32, 83, 104, 97, 119]"
      ]
     },
     "execution_count": 35,
     "metadata": {},
     "output_type": "execute_result"
    }
   ],
   "source": [
    "[ord(name) for name in 'Zed A. Shaw']"
   ]
  },
  {
   "cell_type": "markdown",
   "metadata": {},
   "source": [
    "再说一遍，类似上面的约定的序列最终还是会转换为开关的通断。\n",
    "\n",
    "一个字节可以存放 $256$（即 $2 ^ 8$）个数字：\n",
    "$$\n",
    "0 \\sim 255 \\; \\text{或} \\; 00000000 \\sim 11111111\n",
    "$$\n",
    "\n",
    "为了统一编码方式，Unicode（universal encoding）便出现了。\n",
    "\n",
    "UTF-8（Unicode Transformation Format 8 Bits）：把大部分常用的字符用 $8$ 位编码，如果需要编码更多的字符，就「逃」去使用更大的数；这种编码方式很大的程度节省了存储空间。\n",
    "\n",
    "在 python 中，`string` 是 UTF-8 编码的字符序列，是显示和处理文本的基础。`bytes` 则是 python 用来存储 UTF-8 字符串的原始字节序列，使用`b\"\"` 表示**字节串**。\n",
    "\n",
    "因而，如果要处理的是原始字节串（bytes），那么你就需要通过 `.decode()` 来获取字符串（string）。原始字节串不包含编码方式，它们就是字节序列，一堆数字而已，所以你必须告诉 python **把它解码成 UTF 字符串**。即\n",
    "> 解码字节串，编码字符串\n",
    "（decode bytes, encode strings）\n",
    "\n",
    "# 短路逻辑\n",
    "\n",
    "- 任何以 `False` 开头的 `and` 语句都会直接处理成 `False`，不会继续检查后面的语句。\n",
    "- 任何包含 `True` 的 `or` 语句，只要处理到 `True`，就不会继续向下推算，而是直接返回 `True` 了。\n",
    "- **Python 只会运行它遇到的是 `True` 的第一个块**，所以如果有多个 `elif` 块，只有第一个为 `True` 的块才会运行。"
   ]
  },
  {
   "cell_type": "code",
   "execution_count": 52,
   "metadata": {},
   "outputs": [],
   "source": [
    "from sys import exit"
   ]
  },
  {
   "cell_type": "code",
   "execution_count": 55,
   "metadata": {},
   "outputs": [],
   "source": [
    "def glod_room():\n",
    "    print(\"This room is full of gold. How much do you take?\")\n",
    "    \n",
    "    choice = input('> ')\n",
    "    if '0' in choice or '1' in choice:\n",
    "        how_much = int(choice)\n",
    "    else:\n",
    "        dead(\"Man, learn to type a number.\")\n",
    "        \n",
    "    if how_much < 50:\n",
    "        print(\"Nice, you're not greedy, you win!\")\n",
    "        exit(0)\n",
    "    else:\n",
    "        dead(\"You greedy bastard!\")\n",
    "        \n",
    "\n",
    "def dead(why):\n",
    "    print(why, \"Good Job!\")\n",
    "    exit(0)"
   ]
  },
  {
   "cell_type": "code",
   "execution_count": 56,
   "metadata": {},
   "outputs": [
    {
     "name": "stdout",
     "output_type": "stream",
     "text": [
      "This room is full of gold. How much do you take?\n",
      "> 7\n",
      "Man, learn to type a number. Good Job!\n"
     ]
    },
    {
     "ename": "SystemExit",
     "evalue": "0",
     "output_type": "error",
     "traceback": [
      "An exception has occurred, use %tb to see the full traceback.\n",
      "\u001b[1;31mSystemExit\u001b[0m\u001b[1;31m:\u001b[0m 0\n"
     ]
    },
    {
     "name": "stderr",
     "output_type": "stream",
     "text": [
      "C:\\ProgramData\\Anaconda3\\lib\\site-packages\\IPython\\core\\interactiveshell.py:2971: UserWarning: To exit: use 'exit', 'quit', or Ctrl-D.\n",
      "  warn(\"To exit: use 'exit', 'quit', or Ctrl-D.\", stacklevel=1)\n"
     ]
    }
   ],
   "source": [
    "glod_room()"
   ]
  },
  {
   "cell_type": "markdown",
   "metadata": {},
   "source": [
    "`exit(0)` 可以中止某个程序，而其中的数字参数用来表示程序是否是遇到错误而中止的。`exit(0)` 表示程序正常退出。\n",
    "\n",
    "# `if` 语句的规则\n",
    "\n",
    "1. 每一条 `if` 语句必须包含一个 `else`。（为了防止出现未考虑到的条件出现）\n",
    "2. 若这个 `else` 永远都不应该被执行到，因为它本身没有任何意义，则必须在 `else` 语句后面使用一个叫 `die` 的函数，让它打印出出错消息并且「死」给你看。\n",
    "3. `if` 语句的嵌套不要超过两层，最好尽量保持只有一层。\n",
    "4. 将 `if` 语句当作段落来对待，其中的每一个 `if-elif-else` 组合就跟一个段落的句子组合一样。在这种组合的最前面和最后面留一个空行以作区分。\n",
    "5. 你的布尔测试应该很简单，如果它们很复杂，你需要在函数里面将它们的运算顺序事先放到一个变量里，并且为变量取一个名字。\n",
    "\n",
    "# 调试小技巧\n",
    "\n",
    "- 最好的调试方法是使用 `print` 在各个要检查的关键点将变量打印出来，从而检查那里是否有错。\n",
    "- 让程序一部分一部分地运行起来。不要等到写了一大堆代码文件后才去运行它们，写一点，运行一点，再修改一点。\n",
    "\n",
    "# `.join()` & `.split()`"
   ]
  },
  {
   "cell_type": "code",
   "execution_count": 4,
   "metadata": {},
   "outputs": [
    {
     "data": {
      "text/plain": [
       "['Apples', 'Oranges', 'Crows', 'Telephone', 'Light', 'Sugar']"
      ]
     },
     "execution_count": 4,
     "metadata": {},
     "output_type": "execute_result"
    }
   ],
   "source": [
    "ten_things = 'Apples Oranges Crows Telephone Light Sugar'\n",
    "stuff = ten_things.split(' ')\n",
    "stuff"
   ]
  },
  {
   "cell_type": "code",
   "execution_count": 6,
   "metadata": {},
   "outputs": [
    {
     "data": {
      "text/plain": [
       "'Apples & Oranges & Crows & Telephone & Light & Sugar'"
      ]
     },
     "execution_count": 6,
     "metadata": {},
     "output_type": "execute_result"
    }
   ],
   "source": [
    "' & '.join(stuff)"
   ]
  },
  {
   "cell_type": "markdown",
   "metadata": {},
   "source": [
    "# 面向对象（OOP）\n",
    "\n",
    "练习：\n",
    "```py\n",
    "import random\n",
    "from urllib.request import urlopen\n",
    "import sys\n",
    "\n",
    "WORD_URL = 'http://learncodethehardway.org/words.txt'\n",
    "WORDS = []\n",
    "\n",
    "PHRASES = {\n",
    "    'class %%%(%%%):':\n",
    "    \"Make a class named %%% that is-a %%%.\",\n",
    "    'class %%%(object):\\n\\tdef __init__(self, ***)':\n",
    "    'class %%% has-a __init__ that takes self and *** params.',\n",
    "    'class %%%(object):\\n\\tdef ***(self, @@@)':\n",
    "    'class %%% has-a function *** that takes self ang @@@ params.',\n",
    "    '*** = %%%()':\n",
    "    'Set *** to an instance of class %%%',\n",
    "    \"***.***(@@@)\":\n",
    "    'From *** get *** function, call it with params self, @@@.',\n",
    "    \"***.*** = '***'\":\n",
    "    \"From *** get the attribute and set it to '***'.\"\n",
    "    \n",
    "}\n",
    "\n",
    "# do they want to drill phrases（短语） first\n",
    "if len(sys.argv) == 2 and sys.argv[1] == 'english':\n",
    "    PHRASES_FIRST = True\n",
    "else:\n",
    "    PHRASES_FIRST = False\n",
    "    \n",
    "# load up the words from website\n",
    "for word in urlopen(WORD_URL).readlines():\n",
    "    WORDS.append(str(word.strip(), encoding = 'utf-8'))\n",
    "    \n",
    "\n",
    "def convert(snippet, phrase):\n",
    "    class_names = [w.capitalize() for w in random.sample(WORDS, snippet.count(\"%%%\"))]\n",
    "    other_names = random.sample(WORDS, snippet.count(\"***\"))\n",
    "    results = []\n",
    "    param_names = []\n",
    "    \n",
    "    for i in range(0, snippet.count('@@@')):\n",
    "        param_count = random.randint(1, 3)\n",
    "        param_names.append(', '.join(random.sample(WORDS, param_count)))\n",
    "        \n",
    "    for sentence in snippet, phrase:\n",
    "        result = sentence[:]\n",
    "        \n",
    "        # fake class names\n",
    "        for word in class_names:\n",
    "            result = result.replace(\"%%%\", word, 1)\n",
    "            \n",
    "        # fake other names\n",
    "        for word in other_names:\n",
    "            result = result.replace(\"***\", word, 1)\n",
    "            \n",
    "        # fake parameter lists\n",
    "        for word in param_names:\n",
    "            result = result.replace(\"@@@\", word, 1)\n",
    "            \n",
    "        results.append(result)\n",
    "        \n",
    "    return results\n",
    "\n",
    "\n",
    "# keep going until they hit CTRAL-D\n",
    "try:\n",
    "    while True:\n",
    "        snippets = list(PHRASES.keys())\n",
    "        random.shuffle(snippets)\n",
    "        \n",
    "        for snippet in snippets:\n",
    "            phrase = PHRASES[snippet]\n",
    "            question, answer = convert(snippet, phrase)\n",
    "            if PHRASES_FIRST:\n",
    "                question, answer = question, answer\n",
    "            \n",
    "            print(question)\n",
    "            \n",
    "            input(\"> \")\n",
    "            print(f\"ANSWER: {answer}\\n\\n\")\n",
    "except EOFError:\n",
    "    print('\\nBye')\n",
    "```\n",
    "\n",
    "## 关于 `class Name(object)`\n",
    "\n",
    "在 python 3  中，你不需要在类名后面添加 `object`，但是 python 圈子的人相信「显式优于隐式」，所以，一般还是需要写上。\n",
    "\n",
    "## 关于 `super()`\n",
    "\n",
    "在 python 3 中 `super()` 等价于 `super(Child, self)`"
   ]
  },
  {
   "cell_type": "code",
   "execution_count": 50,
   "metadata": {},
   "outputs": [
    {
     "name": "stdout",
     "output_type": "stream",
     "text": [
      "PARENT altered()\n",
      "========================================\n",
      "CHILD, BEFORE PARENT altered()\n",
      "PARENT altered()\n",
      "CHILD, AFTER PARENT altered()\n"
     ]
    }
   ],
   "source": [
    "class Parent(object):\n",
    "    \n",
    "    def altered(self):\n",
    "        print(\"PARENT altered()\")\n",
    "        \n",
    "class Child(Parent):\n",
    "    \n",
    "    def altered(self):\n",
    "        print(\"CHILD, BEFORE PARENT altered()\")\n",
    "        super(Child, self).altered()\n",
    "        print(\"CHILD, AFTER PARENT altered()\")\n",
    "        \n",
    "dad = Parent()\n",
    "son = Child()\n",
    "\n",
    "dad.altered()\n",
    "print('=='* 20)\n",
    "son.altered()"
   ]
  },
  {
   "cell_type": "code",
   "execution_count": 51,
   "metadata": {},
   "outputs": [
    {
     "name": "stdout",
     "output_type": "stream",
     "text": [
      "PARENT altered()\n",
      "========================================\n",
      "CHILD, BEFORE PARENT altered()\n",
      "PARENT altered()\n",
      "CHILD, AFTER PARENT altered()\n"
     ]
    }
   ],
   "source": [
    "class Parent(object):\n",
    "    \n",
    "    def altered(self):\n",
    "        print(\"PARENT altered()\")\n",
    "        \n",
    "class Child(Parent):\n",
    "    \n",
    "    def altered(self):\n",
    "        print(\"CHILD, BEFORE PARENT altered()\")\n",
    "        super().altered()\n",
    "        print(\"CHILD, AFTER PARENT altered()\")\n",
    "        \n",
    "dad = Parent()\n",
    "son = Child()\n",
    "\n",
    "dad.altered()\n",
    "print('=='* 20)\n",
    "son.altered()"
   ]
  },
  {
   "cell_type": "markdown",
   "metadata": {},
   "source": []
  },
  {
   "cell_type": "code",
   "execution_count": null,
   "metadata": {},
   "outputs": [],
   "source": []
  }
 ],
 "metadata": {
  "kernelspec": {
   "display_name": "Python 3",
   "language": "python",
   "name": "python3"
  },
  "language_info": {
   "codemirror_mode": {
    "name": "ipython",
    "version": 3
   },
   "file_extension": ".py",
   "mimetype": "text/x-python",
   "name": "python",
   "nbconvert_exporter": "python",
   "pygments_lexer": "ipython3",
   "version": "3.6.5"
  }
 },
 "nbformat": 4,
 "nbformat_minor": 2
}
