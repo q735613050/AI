{
 "cells": [
  {
   "cell_type": "code",
   "execution_count": null,
   "metadata": {
    "ExecuteTime": {
     "end_time": "2018-11-17T02:09:06.905118Z",
     "start_time": "2018-11-17T02:09:06.896584Z"
    }
   },
   "outputs": [],
   "source": [
    "import tensorflow as tf\n",
    "import numpy as np\n",
    "\n",
    "graph = tf.Graph()\n",
    "\n",
    "with graph.as_default():\n",
    "    # 数据的载入和初始化\n",
    "    with tf.name_scope('variables'):\n",
    "        # 追踪数据流图运行次数\n",
    "        global_step = tf.Variable(0, dtype=tf.int32, trainable=False, name='global_step')\n",
    "        \n",
    "        # 追踪所有输出随时间的累加和\n",
    "        total_output = tf.Variable(0.0, dtype=tf.float32, trainable=False, name='total_output')\n",
    "    \n",
    "    # 主要的变换\n",
    "    with tf.name_scope('transformation'):\n",
    "        \n",
    "        # 独立的输入层\n",
    "        with tf.name_scope('inputs'):\n",
    "            x = tf.placeholder(tf.float32, shape=[None, 28, 28, 1], name='x')\n",
    "            y = tf.placeholder(tf.float32, shape=[None,], name='y')\n",
    "        \n",
    "        # t特征提取层\n",
    "        with tf.name_scope('features'):\n",
    "            conv1 = tf.layers.conv2d(filters=6, strides=1, kernel_size=(5,5), padding='valid', name = 'conv1')\n",
    "            \n",
    "        # 独立的输出层\n",
    "        with tf.name_scope('output'):\n",
    "            output = \n",
    "            \n",
    "    with tf.name_scope('update'):\n",
    "        # 更新 \"variables\"\n",
    "        update_total = total_output.assign_add(output)\n",
    "        increment_step = global_step.assign_add(1)\n",
    "        \n",
    "    "
   ]
  },
  {
   "cell_type": "markdown",
   "metadata": {},
   "source": [
    "[详解tensorflow实现迁移学习实例](https://www.jb51.net/article/134918.htm)"
   ]
  },
  {
   "cell_type": "code",
   "execution_count": null,
   "metadata": {
    "ExecuteTime": {
     "end_time": "2018-11-17T02:09:08.613585Z",
     "start_time": "2018-11-17T02:09:07.511599Z"
    }
   },
   "outputs": [],
   "source": [
    "import tables as tb\n",
    "\n",
    "h5 = tb.open_file('E:/xdata/X.h5')"
   ]
  },
  {
   "cell_type": "code",
   "execution_count": null,
   "metadata": {},
   "outputs": [],
   "source": []
  }
 ],
 "metadata": {
  "kernelspec": {
   "display_name": "Python [conda root]",
   "language": "python",
   "name": "conda-root-py"
  },
  "language_info": {
   "codemirror_mode": {
    "name": "ipython",
    "version": 3
   },
   "file_extension": ".py",
   "mimetype": "text/x-python",
   "name": "python",
   "nbconvert_exporter": "python",
   "pygments_lexer": "ipython3",
   "version": "3.6.5"
  },
  "latex_envs": {
   "LaTeX_envs_menu_present": true,
   "autoclose": false,
   "autocomplete": true,
   "bibliofile": "biblio.bib",
   "cite_by": "apalike",
   "current_citInitial": 1,
   "eqLabelWithNumbers": true,
   "eqNumInitial": 1,
   "hotkeys": {
    "equation": "Ctrl-E",
    "itemize": "Ctrl-I"
   },
   "labels_anchors": false,
   "latex_user_defs": false,
   "report_style_numbering": false,
   "user_envs_cfg": false
  },
  "nbTranslate": {
   "displayLangs": [
    "*"
   ],
   "hotkey": "alt-t",
   "langInMainMenu": true,
   "sourceLang": "en",
   "targetLang": "fr",
   "useGoogleTranslate": true
  },
  "toc": {
   "base_numbering": 1,
   "nav_menu": {},
   "number_sections": true,
   "sideBar": true,
   "skip_h1_title": false,
   "title_cell": "Table of Contents",
   "title_sidebar": "Contents",
   "toc_cell": false,
   "toc_position": {},
   "toc_section_display": true,
   "toc_window_display": false
  },
  "varInspector": {
   "cols": {
    "lenName": 16,
    "lenType": 16,
    "lenVar": 40
   },
   "kernels_config": {
    "python": {
     "delete_cmd_postfix": "",
     "delete_cmd_prefix": "del ",
     "library": "var_list.py",
     "varRefreshCmd": "print(var_dic_list())"
    },
    "r": {
     "delete_cmd_postfix": ") ",
     "delete_cmd_prefix": "rm(",
     "library": "var_list.r",
     "varRefreshCmd": "cat(var_dic_list()) "
    }
   },
   "types_to_exclude": [
    "module",
    "function",
    "builtin_function_or_method",
    "instance",
    "_Feature"
   ],
   "window_display": false
  }
 },
 "nbformat": 4,
 "nbformat_minor": 2
}
