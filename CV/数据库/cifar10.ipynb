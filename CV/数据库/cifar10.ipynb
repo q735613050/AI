{
 "cells": [
  {
   "cell_type": "code",
   "execution_count": 1,
   "metadata": {
    "ExecuteTime": {
     "end_time": "2018-09-03T08:02:47.382506Z",
     "start_time": "2018-09-03T08:02:45.298110Z"
    }
   },
   "outputs": [
    {
     "name": "stdout",
     "output_type": "stream",
     "text": [
      "Populating the interactive namespace from numpy and matplotlib\n"
     ]
    }
   ],
   "source": [
    "import tables as tb\n",
    "import numpy as np\n",
    "from sklearn import preprocessing # 标准化数据模块\n",
    "from sklearn.model_selection import train_test_split\n",
    "from scipy import stats\n",
    "from sklearn.semi_supervised import label_propagation\n",
    "from sklearn.metrics import classification_report, confusion_matrix\n",
    "%pylab inline\n",
    "\n",
    "mpl.rcParams['font.sans-serif'] = ['SimHei']  # 指定默认字体\n",
    "mpl.rcParams['axes.unicode_minus'] = False  # 解决保存图像是负号 '-' 显示为方块的问题"
   ]
  },
  {
   "cell_type": "code",
   "execution_count": 2,
   "metadata": {
    "ExecuteTime": {
     "end_time": "2018-09-03T08:02:47.758530Z",
     "start_time": "2018-09-03T08:02:47.404448Z"
    }
   },
   "outputs": [],
   "source": [
    "h5 = tb.open_file('E:/xdata/X.h5')\n",
    "\n",
    "cifar10 = h5.root.cifar10"
   ]
  },
  {
   "cell_type": "code",
   "execution_count": 17,
   "metadata": {
    "ExecuteTime": {
     "end_time": "2018-09-03T08:07:55.872188Z",
     "start_time": "2018-09-03T08:07:50.552430Z"
    }
   },
   "outputs": [],
   "source": [
    "X,y = np.array(cifar10.trainX).astype('float'), np.array(cifar10.trainY)\n",
    "\n",
    "X = preprocessing.scale(X.reshape(-1,32*32*3))"
   ]
  },
  {
   "cell_type": "code",
   "execution_count": 18,
   "metadata": {
    "ExecuteTime": {
     "end_time": "2018-09-03T08:07:57.520886Z",
     "start_time": "2018-09-03T08:07:56.670130Z"
    }
   },
   "outputs": [],
   "source": [
    "# 分割数据并\n",
    "X_train, X_test, y_train, y_test = train_test_split(X, y, test_size=0.3, random_state=4)"
   ]
  },
  {
   "cell_type": "code",
   "execution_count": 19,
   "metadata": {
    "ExecuteTime": {
     "end_time": "2018-09-03T08:07:58.688888Z",
     "start_time": "2018-09-03T08:07:58.684906Z"
    }
   },
   "outputs": [
    {
     "data": {
      "text/plain": [
       "35000"
      ]
     },
     "execution_count": 19,
     "metadata": {},
     "output_type": "execute_result"
    }
   ],
   "source": [
    "n_total_samples"
   ]
  },
  {
   "cell_type": "code",
   "execution_count": 20,
   "metadata": {
    "ExecuteTime": {
     "end_time": "2018-09-03T08:08:00.620356Z",
     "start_time": "2018-09-03T08:08:00.617390Z"
    }
   },
   "outputs": [],
   "source": [
    "n_total_samples = len(y_train)\n",
    "n_labeled_points = 1000\n",
    "max_iterations = 5\n",
    "\n",
    "train_y = np.copy(y_train)\n",
    "train_y[n_labeled_points:] = -1"
   ]
  },
  {
   "cell_type": "code",
   "execution_count": 21,
   "metadata": {
    "ExecuteTime": {
     "end_time": "2018-09-03T08:08:01.790355Z",
     "start_time": "2018-09-03T08:08:01.786400Z"
    }
   },
   "outputs": [],
   "source": [
    "lp_model = label_propagation.LabelSpreading(gamma=0.25, max_iter=5)"
   ]
  },
  {
   "cell_type": "code",
   "execution_count": null,
   "metadata": {
    "ExecuteTime": {
     "start_time": "2018-09-03T08:08:30.715Z"
    },
    "scrolled": true
   },
   "outputs": [],
   "source": [
    "lp_model.fit(X_train, train_y)"
   ]
  },
  {
   "cell_type": "code",
   "execution_count": null,
   "metadata": {
    "ExecuteTime": {
     "end_time": "2018-09-03T07:49:15.401910Z",
     "start_time": "2018-09-03T07:49:15.383949Z"
    }
   },
   "outputs": [],
   "source": [
    "for i in range(max_iterations):\n",
    "    if len(unlabeled_indices) == 0:\n",
    "        print(\"No unlabeled items left to label.\")\n",
    "        break\n",
    "    trainY = np.copy(y_train)\n",
    "    y_train[unlabeledY] = -1\n",
    "\n",
    "    lp_model = label_propagation.LabelSpreading(gamma=0.25, max_iter=5)\n",
    "    lp_model.fit(X, y_train)\n",
    "\n",
    "    predicted_labels = lp_model.transduction_[unlabeled_indices]\n",
    "    true_labels = y[unlabeled_indices]\n",
    "\n",
    "    cm = confusion_matrix(true_labels, predicted_labels,\n",
    "                          labels=lp_model.classes_)\n",
    "\n",
    "    print(\"Iteration %i %s\" % (i, 70 * \"_\"))\n",
    "    print(\"Label Spreading model: %d labeled & %d unlabeled (%d total)\"\n",
    "          % (n_labeled_points, n_total_samples - n_labeled_points, n_total_samples))\n",
    "\n",
    "    print(classification_report(true_labels, predicted_labels))\n",
    "\n",
    "    print(\"Confusion matrix\")\n",
    "    print(cm)\n",
    "\n",
    "    # compute the entropies of transduced label distributions\n",
    "    pred_entropies = stats.distributions.entropy(\n",
    "        lp_model.label_distributions_.T)\n",
    "\n",
    "    # select up to 5 digit examples that the classifier is most uncertain about\n",
    "    uncertainty_index = np.argsort(pred_entropies)[::-1]\n",
    "    uncertainty_index = uncertainty_index[\n",
    "        np.in1d(uncertainty_index, unlabeled_indices)][:5]\n",
    "\n",
    "    # keep track of indices that we get labels for\n",
    "    delete_indices = np.array([])\n",
    "\n",
    "    # for more than 5 iterations, visualize the gain only on the first 5\n",
    "    if i < 5:\n",
    "        f.text(.05, (1 - (i + 1) * .183),\n",
    "               \"model %d\\n\\nfit with\\n%d labels\" %\n",
    "               ((i + 1), i * 5 + 10), size=10)\n",
    "    for index, image_index in enumerate(uncertainty_index):\n",
    "        image = images[image_index]\n",
    "\n",
    "        # for more than 5 iterations, visualize the gain only on the first 5\n",
    "        if i < 5:\n",
    "            sub = f.add_subplot(5, 5, index + 1 + (5 * i))\n",
    "            sub.imshow(image, cmap=plt.cm.gray_r)\n",
    "            sub.set_title(\"predict: %i\\ntrue: %i\" % (\n",
    "                lp_model.transduction_[image_index], y[image_index]), size=10)\n",
    "            sub.axis('off')\n",
    "\n",
    "        # labeling 5 points, remote from labeled set\n",
    "        delete_index, = np.where(unlabeled_indices == image_index)\n",
    "        delete_indices = np.concatenate((delete_indices, delete_index))\n",
    "\n",
    "    unlabeled_indices = np.delete(unlabeled_indices, delete_indices)\n",
    "    n_labeled_points += len(uncertainty_index)\n",
    "\n",
    "f.suptitle(\"Active learning with Label Propagation.\\nRows show 5 most \"\n",
    "           \"uncertain labels to learn with the next model.\")\n",
    "plt.subplots_adjust(0.12, 0.03, 0.9, 0.8, 0.2, 0.45)\n",
    "plt.show()"
   ]
  },
  {
   "cell_type": "code",
   "execution_count": null,
   "metadata": {},
   "outputs": [],
   "source": []
  }
 ],
 "metadata": {
  "kernelspec": {
   "display_name": "Python [conda env:Anaconda3]",
   "language": "python",
   "name": "conda-env-Anaconda3-py"
  },
  "language_info": {
   "codemirror_mode": {
    "name": "ipython",
    "version": 3
   },
   "file_extension": ".py",
   "mimetype": "text/x-python",
   "name": "python",
   "nbconvert_exporter": "python",
   "pygments_lexer": "ipython3",
   "version": "3.6.5"
  },
  "latex_envs": {
   "LaTeX_envs_menu_present": true,
   "autoclose": false,
   "autocomplete": true,
   "bibliofile": "biblio.bib",
   "cite_by": "apalike",
   "current_citInitial": 1,
   "eqLabelWithNumbers": true,
   "eqNumInitial": 1,
   "hotkeys": {
    "equation": "Ctrl-E",
    "itemize": "Ctrl-I"
   },
   "labels_anchors": false,
   "latex_user_defs": false,
   "report_style_numbering": false,
   "user_envs_cfg": false
  },
  "nbTranslate": {
   "displayLangs": [
    "*"
   ],
   "hotkey": "alt-t",
   "langInMainMenu": true,
   "sourceLang": "en",
   "targetLang": "fr",
   "useGoogleTranslate": true
  },
  "toc": {
   "base_numbering": 1,
   "nav_menu": {
    "height": "58px",
    "width": "188px"
   },
   "number_sections": true,
   "sideBar": true,
   "skip_h1_title": false,
   "title_cell": "Table of Contents",
   "title_sidebar": "Contents",
   "toc_cell": false,
   "toc_position": {},
   "toc_section_display": true,
   "toc_window_display": false
  },
  "varInspector": {
   "cols": {
    "lenName": 16,
    "lenType": 16,
    "lenVar": 40
   },
   "kernels_config": {
    "python": {
     "delete_cmd_postfix": "",
     "delete_cmd_prefix": "del ",
     "library": "var_list.py",
     "varRefreshCmd": "print(var_dic_list())"
    },
    "r": {
     "delete_cmd_postfix": ") ",
     "delete_cmd_prefix": "rm(",
     "library": "var_list.r",
     "varRefreshCmd": "cat(var_dic_list()) "
    }
   },
   "types_to_exclude": [
    "module",
    "function",
    "builtin_function_or_method",
    "instance",
    "_Feature"
   ],
   "window_display": false
  }
 },
 "nbformat": 4,
 "nbformat_minor": 2
}
