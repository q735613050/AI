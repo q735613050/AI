{
 "cells": [
  {
   "cell_type": "markdown",
   "metadata": {},
   "source": [
    "# Python 描述符\n",
    "\n",
    "每一个对象均有 `__dict__` 属性，它的作用是：字典类型，存放对象的属性。\n",
    "\n",
    "对象属性的访问顺序：\n",
    "\n",
    "1. 实例属性\n",
    "2. 类属性\n",
    "3. 父属性\n",
    "4. `__getattr__` 方法"
   ]
  },
  {
   "cell_type": "code",
   "execution_count": 49,
   "metadata": {
    "ExecuteTime": {
     "end_time": "2018-10-31T07:38:01.015774Z",
     "start_time": "2018-10-31T07:38:01.010789Z"
    }
   },
   "outputs": [],
   "source": [
    "class Test:\n",
    "    cls_val = 1\n",
    "    def __init__(self):\n",
    "        self.ins_val = 10"
   ]
  },
  {
   "cell_type": "code",
   "execution_count": 52,
   "metadata": {
    "ExecuteTime": {
     "end_time": "2018-10-31T07:38:44.166119Z",
     "start_time": "2018-10-31T07:38:44.161097Z"
    }
   },
   "outputs": [
    {
     "data": {
      "text/plain": [
       "mappingproxy({'__module__': '__main__',\n",
       "              'cls_val': 1,\n",
       "              '__init__': <function __main__.Test.__init__(self)>,\n",
       "              '__dict__': <attribute '__dict__' of 'Test' objects>,\n",
       "              '__weakref__': <attribute '__weakref__' of 'Test' objects>,\n",
       "              '__doc__': None})"
      ]
     },
     "execution_count": 52,
     "metadata": {},
     "output_type": "execute_result"
    }
   ],
   "source": [
    "Test.__dict__"
   ]
  },
  {
   "cell_type": "code",
   "execution_count": 51,
   "metadata": {
    "ExecuteTime": {
     "end_time": "2018-10-31T07:38:18.530537Z",
     "start_time": "2018-10-31T07:38:18.524553Z"
    }
   },
   "outputs": [
    {
     "data": {
      "text/plain": [
       "{'ins_val': 10}"
      ]
     },
     "execution_count": 51,
     "metadata": {},
     "output_type": "execute_result"
    }
   ],
   "source": [
    "t = Test()\n",
    "t.__dict__"
   ]
  },
  {
   "cell_type": "code",
   "execution_count": 54,
   "metadata": {
    "ExecuteTime": {
     "end_time": "2018-10-31T07:39:27.487395Z",
     "start_time": "2018-10-31T07:39:27.482409Z"
    }
   },
   "outputs": [
    {
     "data": {
      "text/plain": [
       "__main__.Test"
      ]
     },
     "execution_count": 54,
     "metadata": {},
     "output_type": "execute_result"
    }
   ],
   "source": [
    "type(t)"
   ]
  },
  {
   "cell_type": "markdown",
   "metadata": {},
   "source": [
    "更改实例 `t` 的属性 `cls_val`, 只是新增了该属性，并不影响类 `Test` 的属性 `cls_val`："
   ]
  },
  {
   "cell_type": "code",
   "execution_count": 55,
   "metadata": {
    "ExecuteTime": {
     "end_time": "2018-10-31T07:41:57.168041Z",
     "start_time": "2018-10-31T07:41:57.162089Z"
    }
   },
   "outputs": [
    {
     "data": {
      "text/plain": [
       "{'ins_val': 10, 'cls_val': 20}"
      ]
     },
     "execution_count": 55,
     "metadata": {},
     "output_type": "execute_result"
    }
   ],
   "source": [
    "t.cls_val = 20\n",
    "t.__dict__"
   ]
  },
  {
   "cell_type": "code",
   "execution_count": 57,
   "metadata": {
    "ExecuteTime": {
     "end_time": "2018-10-31T07:42:51.582850Z",
     "start_time": "2018-10-31T07:42:51.577864Z"
    }
   },
   "outputs": [
    {
     "data": {
      "text/plain": [
       "mappingproxy({'__module__': '__main__',\n",
       "              'cls_val': 1,\n",
       "              '__init__': <function __main__.Test.__init__(self)>,\n",
       "              '__dict__': <attribute '__dict__' of 'Test' objects>,\n",
       "              '__weakref__': <attribute '__weakref__' of 'Test' objects>,\n",
       "              '__doc__': None})"
      ]
     },
     "execution_count": 57,
     "metadata": {},
     "output_type": "execute_result"
    }
   ],
   "source": [
    "Test.__dict__"
   ]
  },
  {
   "cell_type": "markdown",
   "metadata": {},
   "source": [
    "更改类 `Test` 的属性 `cls_val`, 由于事先增加了实例 `t` 的 `cls_val` 属性，因此不会改变实例 `t` 的属性 `cls_val` (井水不犯河水)："
   ]
  },
  {
   "cell_type": "code",
   "execution_count": 58,
   "metadata": {
    "ExecuteTime": {
     "end_time": "2018-10-31T07:46:18.932896Z",
     "start_time": "2018-10-31T07:46:18.928907Z"
    }
   },
   "outputs": [],
   "source": [
    "Test.cls_val = 30"
   ]
  },
  {
   "cell_type": "code",
   "execution_count": 59,
   "metadata": {
    "ExecuteTime": {
     "end_time": "2018-10-31T07:46:23.057470Z",
     "start_time": "2018-10-31T07:46:23.052457Z"
    }
   },
   "outputs": [
    {
     "data": {
      "text/plain": [
       "{'ins_val': 10, 'cls_val': 20}"
      ]
     },
     "execution_count": 59,
     "metadata": {},
     "output_type": "execute_result"
    }
   ],
   "source": [
    "t.__dict__"
   ]
  },
  {
   "cell_type": "code",
   "execution_count": 60,
   "metadata": {
    "ExecuteTime": {
     "end_time": "2018-10-31T07:46:39.480012Z",
     "start_time": "2018-10-31T07:46:39.474028Z"
    }
   },
   "outputs": [
    {
     "data": {
      "text/plain": [
       "mappingproxy({'__module__': '__main__',\n",
       "              'cls_val': 30,\n",
       "              '__init__': <function __main__.Test.__init__(self)>,\n",
       "              '__dict__': <attribute '__dict__' of 'Test' objects>,\n",
       "              '__weakref__': <attribute '__weakref__' of 'Test' objects>,\n",
       "              '__doc__': None})"
      ]
     },
     "execution_count": 60,
     "metadata": {},
     "output_type": "execute_result"
    }
   ],
   "source": [
    "Test.__dict__"
   ]
  },
  {
   "cell_type": "markdown",
   "metadata": {},
   "source": [
    "从上面的分析可以看出：实例 `t` 的属性并不包含 `cls_val`, `cls_val` 属于类 `Test`。\n",
    "\n",
    "## 魔法方法\n",
    "\n",
    "- `__get__(self, instance, owner)`\n",
    "- `__set__(self, instance, value)`\n",
    "- `__del__(self, instance)`"
   ]
  },
  {
   "cell_type": "code",
   "execution_count": 80,
   "metadata": {
    "ExecuteTime": {
     "end_time": "2018-10-31T08:34:41.235033Z",
     "start_time": "2018-10-31T08:34:41.229049Z"
    }
   },
   "outputs": [],
   "source": [
    "class Desc:\n",
    "    def __get__(self, instance, owner):\n",
    "        '''\n",
    "        返回属性对象\n",
    "        '''\n",
    "        print('__get__...')\n",
    "        print('self: \\t\\t', self)\n",
    "        print('instance:\\t', instance)\n",
    "        print('owner: \\t', owner)\n",
    "        print('='*50,'\\n')\n",
    "        \n",
    "    def __set__(self, instance, value):\n",
    "        print('__set__...')\n",
    "        print('self: \\t\\t', self)\n",
    "        print('instance:\\t', instance)\n",
    "        print('value: \\t', value)\n",
    "        print('='*50,'\\n')"
   ]
  },
  {
   "cell_type": "code",
   "execution_count": 81,
   "metadata": {
    "ExecuteTime": {
     "end_time": "2018-10-31T08:34:42.070248Z",
     "start_time": "2018-10-31T08:34:42.066259Z"
    }
   },
   "outputs": [],
   "source": [
    "class TestDesc:\n",
    "    x = Desc()"
   ]
  },
  {
   "cell_type": "code",
   "execution_count": 82,
   "metadata": {
    "ExecuteTime": {
     "end_time": "2018-10-31T08:34:42.585631Z",
     "start_time": "2018-10-31T08:34:42.580642Z"
    }
   },
   "outputs": [
    {
     "name": "stdout",
     "output_type": "stream",
     "text": [
      "__get__...\n",
      "self: \t\t <__main__.Desc object at 0x0000020F83CB7BA8>\n",
      "instance:\t <__main__.TestDesc object at 0x0000020F83CB7240>\n",
      "owner: \t <class '__main__.TestDesc'>\n",
      "================================================== \n",
      "\n"
     ]
    }
   ],
   "source": [
    "t = TestDesc()\n",
    "\n",
    "t.x"
   ]
  },
  {
   "cell_type": "markdown",
   "metadata": {
    "ExecuteTime": {
     "end_time": "2018-10-31T08:03:21.283511Z",
     "start_time": "2018-10-31T08:03:21.277520Z"
    }
   },
   "source": [
    "可以看出实例化之后，调用对象 `t` 的属性 `x`，会自动调用类 `Desc` 的 `__get__` 方法，且：\n",
    "\n",
    "- `self`：`Desc` 的实例对象，其实就是 `TestDesc` 的属性 `x`\n",
    "- `instance`：`TestDesc` 的实例对象，其实就是 `t`\n",
    "- `owner`：即谁拥有这些东西，当然是 `testDesc` 这个类，它是最高统治者，其他的一些都是包含在它内部或者由它生成的\n",
    "\n",
    "# 装饰器\n",
    "\n",
    "具有**自动重绑定**操作。\n",
    "\n",
    "## 函数装饰器\n",
    "\n",
    "函数装饰器是一种关于函数的**运行时声明**，函数的定义需要遵守此声明。装饰器在紧挨着定义一个函数或方法的 `def` 语句之前的一行编写，并且由 `@` 符号以及紧随其后的对于**元函数**的一个引用组成——这是管理另一个函数的一个函数（或其他的可调用对象）。"
   ]
  },
  {
   "cell_type": "code",
   "execution_count": 84,
   "metadata": {
    "ExecuteTime": {
     "end_time": "2018-10-31T10:16:47.794124Z",
     "start_time": "2018-10-31T10:16:47.774176Z"
    }
   },
   "outputs": [
    {
     "name": "stdout",
     "output_type": "stream",
     "text": [
      "Hello World_I am f\n",
      "I am g\n"
     ]
    }
   ],
   "source": [
    "def deco(func):  # 修饰器deco\n",
    "    def wrappedFunc():  # 内嵌函数wrappedFunc(所有对于传入函数的修饰逻辑都将在此内嵌函数中实现。)\n",
    "        return 'Hello World_'+func()\n",
    "    return wrappedFunc\n",
    "\n",
    "# 在程序中若有函数需要修饰器修饰，只需在函数定义前使用“`@+修饰器名`”即可使用此修饰器。\n",
    "\n",
    "\n",
    "@deco\n",
    "def f():    # 调用修饰器\n",
    "    return 'I am f'\n",
    "\n",
    "\n",
    "def g():     # 没有调用修饰器\n",
    "    return 'I am g'\n",
    "\n",
    "\n",
    "print(f())\n",
    "print(g())"
   ]
  },
  {
   "cell_type": "code",
   "execution_count": 85,
   "metadata": {
    "ExecuteTime": {
     "end_time": "2018-10-31T10:23:31.022837Z",
     "start_time": "2018-10-31T10:23:31.016878Z"
    }
   },
   "outputs": [
    {
     "name": "stdout",
     "output_type": "stream",
     "text": [
      "[1, 2, 3, 4, 56]\n"
     ]
    }
   ],
   "source": [
    "def deco(f):\n",
    "    def g():\n",
    "        return [f()[i] for i in range(5)]\n",
    "    return g\n",
    "\n",
    "\n",
    "@deco\n",
    "def h():\n",
    "    return [1, 2, 3, 4, 56, 7, '75s']\n",
    "\n",
    "\n",
    "print(h())"
   ]
  },
  {
   "cell_type": "code",
   "execution_count": 87,
   "metadata": {
    "ExecuteTime": {
     "end_time": "2018-10-31T10:43:44.360861Z",
     "start_time": "2018-10-31T10:43:44.355908Z"
    }
   },
   "outputs": [
    {
     "name": "stdout",
     "output_type": "stream",
     "text": [
      "in foo()\n",
      "used: 5.412343540456277e-05\n"
     ]
    }
   ],
   "source": [
    "import time\n",
    "\n",
    "\n",
    "# 定义一个计时器，传入一个，并返回另一个附加了计时功能的方法\n",
    "def timeit(func):\n",
    "\n",
    "    # 定义一个内嵌的包装函数，给传入的函数加上计时功能的包装\n",
    "    def wrapper():\n",
    "        start = time.clock()\n",
    "        func()\n",
    "        end = time.clock()\n",
    "        print('used:', end - start)\n",
    "\n",
    "    # 将包装后的函数返回\n",
    "    return wrapper\n",
    "\n",
    "\n",
    "@timeit\n",
    "def foo():\n",
    "    print('in foo()')\n",
    "\n",
    "\n",
    "foo()"
   ]
  },
  {
   "cell_type": "code",
   "execution_count": null,
   "metadata": {},
   "outputs": [],
   "source": []
  }
 ],
 "metadata": {
  "kernelspec": {
   "display_name": "Python [conda root]",
   "language": "python",
   "name": "conda-root-py"
  },
  "language_info": {
   "codemirror_mode": {
    "name": "ipython",
    "version": 3
   },
   "file_extension": ".py",
   "mimetype": "text/x-python",
   "name": "python",
   "nbconvert_exporter": "python",
   "pygments_lexer": "ipython3",
   "version": "3.6.5"
  },
  "latex_envs": {
   "LaTeX_envs_menu_present": true,
   "autoclose": false,
   "autocomplete": true,
   "bibliofile": "biblio.bib",
   "cite_by": "apalike",
   "current_citInitial": 1,
   "eqLabelWithNumbers": true,
   "eqNumInitial": 1,
   "hotkeys": {
    "equation": "Ctrl-E",
    "itemize": "Ctrl-I"
   },
   "labels_anchors": false,
   "latex_user_defs": false,
   "report_style_numbering": false,
   "user_envs_cfg": false
  },
  "nbTranslate": {
   "displayLangs": [
    "*"
   ],
   "hotkey": "alt-t",
   "langInMainMenu": true,
   "sourceLang": "en",
   "targetLang": "fr",
   "useGoogleTranslate": true
  },
  "toc": {
   "base_numbering": 1,
   "nav_menu": {},
   "number_sections": true,
   "sideBar": true,
   "skip_h1_title": false,
   "title_cell": "Table of Contents",
   "title_sidebar": "Contents",
   "toc_cell": false,
   "toc_position": {},
   "toc_section_display": true,
   "toc_window_display": false
  },
  "varInspector": {
   "cols": {
    "lenName": 16,
    "lenType": 16,
    "lenVar": 40
   },
   "kernels_config": {
    "python": {
     "delete_cmd_postfix": "",
     "delete_cmd_prefix": "del ",
     "library": "var_list.py",
     "varRefreshCmd": "print(var_dic_list())"
    },
    "r": {
     "delete_cmd_postfix": ") ",
     "delete_cmd_prefix": "rm(",
     "library": "var_list.r",
     "varRefreshCmd": "cat(var_dic_list()) "
    }
   },
   "types_to_exclude": [
    "module",
    "function",
    "builtin_function_or_method",
    "instance",
    "_Feature"
   ],
   "window_display": false
  }
 },
 "nbformat": 4,
 "nbformat_minor": 2
}
