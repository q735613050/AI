{
 "cells": [
  {
   "cell_type": "markdown",
   "metadata": {},
   "source": [
    "# MXNet"
   ]
  },
  {
   "cell_type": "code",
   "execution_count": 1,
   "metadata": {
    "ExecuteTime": {
     "end_time": "2018-10-19T06:04:52.600787Z",
     "start_time": "2018-10-19T06:04:26.941588Z"
    }
   },
   "outputs": [
    {
     "name": "stderr",
     "output_type": "stream",
     "text": [
      "C:\\ProgramData\\Anaconda3\\lib\\site-packages\\h5py\\__init__.py:36: FutureWarning: Conversion of the second argument of issubdtype from `float` to `np.floating` is deprecated. In future, it will be treated as `np.float64 == np.dtype(float).type`.\n",
      "  from ._conv import register_converters as _register_converters\n"
     ]
    },
    {
     "name": "stdout",
     "output_type": "stream",
     "text": [
      "Populating the interactive namespace from numpy and matplotlib\n"
     ]
    }
   ],
   "source": [
    "import numpy as np\n",
    "import mxnet as mx\n",
    "from mxnet.gluon.model_zoo.vision import get_model\n",
    "from mxnet import nd\n",
    "\n",
    "%pylab inline\n",
    "ctx = mx.gpu(0)\n",
    "net = get_model('resnet50_v2', pretrained=True, ctx=ctx)\n",
    "#pretrain_net = get_model('cifar_resnet20_v1')"
   ]
  },
  {
   "cell_type": "code",
   "execution_count": 2,
   "metadata": {
    "ExecuteTime": {
     "end_time": "2018-10-19T06:04:52.612756Z",
     "start_time": "2018-10-19T06:04:52.606776Z"
    }
   },
   "outputs": [],
   "source": [
    "from mxnet.gluon.data.vision import transforms\n",
    "\n",
    "train_trans = transforms.Compose([\n",
    "    transforms.RandomResizedCrop(224),\n",
    "    transforms.ToTensor()\n",
    "])"
   ]
  },
  {
   "cell_type": "code",
   "execution_count": 3,
   "metadata": {
    "ExecuteTime": {
     "end_time": "2018-10-19T06:05:02.439420Z",
     "start_time": "2018-10-19T06:04:52.615747Z"
    }
   },
   "outputs": [
    {
     "name": "stderr",
     "output_type": "stream",
     "text": [
      "Using CNTK backend\n"
     ]
    },
    {
     "data": {
      "text/plain": [
       "[[('n03534580', 'hoopskirt', 0.93103606),\n",
       "  ('n03866082', 'overskirt', 0.0652155),\n",
       "  ('n03450230', 'gown', 0.003236853),\n",
       "  ('n03045698', 'cloak', 0.00010351293),\n",
       "  ('n03637318', 'lampshade', 5.800926e-05)]]"
      ]
     },
     "execution_count": 3,
     "metadata": {},
     "output_type": "execute_result"
    }
   ],
   "source": [
    "from mxnet import image\n",
    "from keras.applications.imagenet_utils import decode_predictions\n",
    "\n",
    "img = image.imread('thSHVG48RQ.jpg').astype(np.float32)  # 裙子\n",
    "img = train_trans(img)\n",
    "imgs = nd.expand_dims(img, axis=0).as_in_context(ctx)\n",
    "out = nd.softmax(net(imgs)).asnumpy()\n",
    "decode_predictions(out)"
   ]
  },
  {
   "cell_type": "code",
   "execution_count": 4,
   "metadata": {
    "ExecuteTime": {
     "end_time": "2018-10-19T06:05:02.446417Z",
     "start_time": "2018-10-19T06:05:02.441416Z"
    }
   },
   "outputs": [
    {
     "data": {
      "text/plain": [
       "(1, 1000)"
      ]
     },
     "execution_count": 4,
     "metadata": {},
     "output_type": "execute_result"
    }
   ],
   "source": [
    "out.shape"
   ]
  },
  {
   "cell_type": "markdown",
   "metadata": {},
   "source": [
    "# Torch"
   ]
  },
  {
   "cell_type": "code",
   "execution_count": 2,
   "metadata": {
    "ExecuteTime": {
     "end_time": "2018-10-23T05:49:07.118278Z",
     "start_time": "2018-10-23T05:49:07.112313Z"
    }
   },
   "outputs": [],
   "source": [
    "from torchvision import datasets, models, transforms\n",
    "from torch import unsqueeze\n",
    "import torch.nn.functional as F\n",
    "\n",
    "import cv2\n",
    "import torch\n",
    "from torch import tensor\n",
    "from keras.applications.imagenet_utils import decode_predictions\n",
    "from PIL import Image"
   ]
  },
  {
   "cell_type": "code",
   "execution_count": 3,
   "metadata": {
    "ExecuteTime": {
     "end_time": "2018-10-23T05:49:47.202639Z",
     "start_time": "2018-10-23T05:49:47.016139Z"
    },
    "scrolled": true
   },
   "outputs": [
    {
     "data": {
      "text/plain": [
       "torch.Size([1, 3, 224, 224])"
      ]
     },
     "execution_count": 3,
     "metadata": {},
     "output_type": "execute_result"
    }
   ],
   "source": [
    "train_transforms = transforms.Compose(\n",
    "    [transforms.CenterCrop(224),\n",
    "     transforms.ToTensor()])\n",
    "\n",
    "img = Image.open('thSHVG48RQ.jpg')  # 裙子\n",
    "img = train_transforms(img)\n",
    "imgs= unsqueeze(img, 0)\n",
    "#或者 imgs = img.expand(1, *img.size())\n",
    "imgs.shape"
   ]
  },
  {
   "cell_type": "code",
   "execution_count": 4,
   "metadata": {
    "ExecuteTime": {
     "end_time": "2018-10-23T05:49:53.178328Z",
     "start_time": "2018-10-23T05:49:53.173342Z"
    },
    "scrolled": false
   },
   "outputs": [
    {
     "data": {
      "text/plain": [
       "torch.Size([3, 224, 224])"
      ]
     },
     "execution_count": 4,
     "metadata": {},
     "output_type": "execute_result"
    }
   ],
   "source": [
    "img.size()"
   ]
  },
  {
   "cell_type": "code",
   "execution_count": 5,
   "metadata": {
    "ExecuteTime": {
     "end_time": "2018-10-23T05:49:57.582447Z",
     "start_time": "2018-10-23T05:49:56.381654Z"
    }
   },
   "outputs": [
    {
     "data": {
      "text/plain": [
       "[[('n03534580', 'hoopskirt', 0.8575592),\n",
       "  ('n03866082', 'overskirt', 0.09788194),\n",
       "  ('n03450230', 'gown', 0.044282656),\n",
       "  ('n10148035', 'groom', 0.000107728316),\n",
       "  ('n04525038', 'velvet', 2.5167436e-05)]]"
      ]
     },
     "execution_count": 5,
     "metadata": {},
     "output_type": "execute_result"
    }
   ],
   "source": [
    "model_ft = models.resnet50(pretrained=True)\n",
    "model_ft.eval()\n",
    "out = model_ft(imgs)\n",
    "y = F.softmax(out, 1)\n",
    "\n",
    "decode_predictions(y.detach().numpy())"
   ]
  },
  {
   "cell_type": "code",
   "execution_count": null,
   "metadata": {},
   "outputs": [],
   "source": []
  }
 ],
 "metadata": {
  "kernelspec": {
   "display_name": "Python [default]",
   "language": "python",
   "name": "python3"
  },
  "language_info": {
   "codemirror_mode": {
    "name": "ipython",
    "version": 3
   },
   "file_extension": ".py",
   "mimetype": "text/x-python",
   "name": "python",
   "nbconvert_exporter": "python",
   "pygments_lexer": "ipython3",
   "version": "3.6.5"
  },
  "latex_envs": {
   "LaTeX_envs_menu_present": true,
   "autoclose": false,
   "autocomplete": true,
   "bibliofile": "biblio.bib",
   "cite_by": "apalike",
   "current_citInitial": 1,
   "eqLabelWithNumbers": true,
   "eqNumInitial": 1,
   "hotkeys": {
    "equation": "Ctrl-E",
    "itemize": "Ctrl-I"
   },
   "labels_anchors": false,
   "latex_user_defs": false,
   "report_style_numbering": false,
   "user_envs_cfg": false
  },
  "nbTranslate": {
   "displayLangs": [
    "*"
   ],
   "hotkey": "alt-t",
   "langInMainMenu": true,
   "sourceLang": "en",
   "targetLang": "fr",
   "useGoogleTranslate": true
  },
  "toc": {
   "base_numbering": 1,
   "nav_menu": {},
   "number_sections": true,
   "sideBar": true,
   "skip_h1_title": false,
   "title_cell": "Table of Contents",
   "title_sidebar": "Contents",
   "toc_cell": false,
   "toc_position": {},
   "toc_section_display": true,
   "toc_window_display": false
  },
  "varInspector": {
   "cols": {
    "lenName": 16,
    "lenType": 16,
    "lenVar": 40
   },
   "kernels_config": {
    "python": {
     "delete_cmd_postfix": "",
     "delete_cmd_prefix": "del ",
     "library": "var_list.py",
     "varRefreshCmd": "print(var_dic_list())"
    },
    "r": {
     "delete_cmd_postfix": ") ",
     "delete_cmd_prefix": "rm(",
     "library": "var_list.r",
     "varRefreshCmd": "cat(var_dic_list()) "
    }
   },
   "types_to_exclude": [
    "module",
    "function",
    "builtin_function_or_method",
    "instance",
    "_Feature"
   ],
   "window_display": false
  }
 },
 "nbformat": 4,
 "nbformat_minor": 2
}
