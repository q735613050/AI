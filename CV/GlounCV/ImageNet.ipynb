{
 "cells": [
  {
   "cell_type": "code",
   "execution_count": 1,
   "metadata": {
    "ExecuteTime": {
     "end_time": "2018-10-13T13:05:20.222626Z",
     "start_time": "2018-10-13T13:05:19.882500Z"
    }
   },
   "outputs": [],
   "source": [
    "%matplotlib inline"
   ]
  },
  {
   "cell_type": "code",
   "execution_count": 2,
   "metadata": {
    "ExecuteTime": {
     "end_time": "2018-10-13T13:05:37.982794Z",
     "start_time": "2018-10-13T13:05:20.448985Z"
    }
   },
   "outputs": [
    {
     "name": "stderr",
     "output_type": "stream",
     "text": [
      "C:\\ProgramData\\Anaconda3\\lib\\site-packages\\h5py\\__init__.py:36: FutureWarning: Conversion of the second argument of issubdtype from `float` to `np.floating` is deprecated. In future, it will be treated as `np.float64 == np.dtype(float).type`.\n",
      "  from ._conv import register_converters as _register_converters\n"
     ]
    }
   ],
   "source": [
    "import zipfile, os\n",
    "from gluoncv.utils import download\n",
    "\n",
    "file_url = 'https://raw.githubusercontent.com/dmlc/web-data/master/gluoncv/classification/minc-2500-tiny.zip'\n",
    "zip_file = download(file_url, path='./')\n",
    "with zipfile.ZipFile(zip_file, 'r') as zin:\n",
    "    zin.extractall(os.path.expanduser('./'))"
   ]
  },
  {
   "cell_type": "markdown",
   "metadata": {},
   "source": [
    "Hyperparameters\n",
    "----------\n",
    "\n",
    "First, let's import all other necessary libraries.\n",
    "\n"
   ]
  },
  {
   "cell_type": "code",
   "execution_count": 3,
   "metadata": {
    "ExecuteTime": {
     "end_time": "2018-10-13T13:05:38.054414Z",
     "start_time": "2018-10-13T13:05:38.049426Z"
    }
   },
   "outputs": [],
   "source": [
    "import mxnet as mx\n",
    "import numpy as np\n",
    "import os, time, shutil\n",
    "\n",
    "from mxnet import gluon, image, init, nd\n",
    "from mxnet import autograd as ag\n",
    "from mxnet.gluon import nn\n",
    "from mxnet.gluon.data.vision import transforms\n",
    "from gluoncv.utils import makedirs\n",
    "from gluoncv.model_zoo import get_model"
   ]
  },
  {
   "cell_type": "markdown",
   "metadata": {},
   "source": [
    "We set the hyperparameters as following:\n",
    "\n"
   ]
  },
  {
   "cell_type": "code",
   "execution_count": 4,
   "metadata": {
    "ExecuteTime": {
     "end_time": "2018-10-13T13:05:41.137711Z",
     "start_time": "2018-10-13T13:05:41.132753Z"
    }
   },
   "outputs": [],
   "source": [
    "classes = 23\n",
    "\n",
    "epochs = 5\n",
    "lr = 0.001\n",
    "per_device_batch_size = 1\n",
    "momentum = 0.9\n",
    "wd = 0.0001\n",
    "\n",
    "lr_factor = 0.75\n",
    "lr_steps = [10, 20, 30, np.inf]\n",
    "\n",
    "ctx = mx.gpu(0)\n",
    "batch_size = 8"
   ]
  },
  {
   "cell_type": "code",
   "execution_count": 5,
   "metadata": {
    "ExecuteTime": {
     "end_time": "2018-10-13T13:05:41.985485Z",
     "start_time": "2018-10-13T13:05:41.970515Z"
    }
   },
   "outputs": [],
   "source": [
    "path = './minc-2500-tiny'\n",
    "train_path = os.path.join(path, 'train')\n",
    "val_path = os.path.join(path, 'val')\n",
    "test_path = os.path.join(path, 'test')\n",
    "train_data = gluon.data.DataLoader(\n",
    "    gluon.data.vision.ImageFolderDataset(train_path),\n",
    "    batch_size=batch_size, shuffle=True)\n",
    "\n",
    "val_data = gluon.data.DataLoader(\n",
    "    gluon.data.vision.ImageFolderDataset(val_path),\n",
    "    batch_size=batch_size, shuffle=False)\n",
    "\n",
    "test_data = gluon.data.DataLoader(\n",
    "    gluon.data.vision.ImageFolderDataset(test_path),\n",
    "    batch_size=batch_size, shuffle=False)"
   ]
  },
  {
   "cell_type": "markdown",
   "metadata": {},
   "source": [
    "Note that only ``train_data`` uses ``transform_train``, while\n",
    "``val_data`` and ``test_data`` use ``transform_test`` to produce deterministic\n",
    "results for evaluation.\n",
    "\n",
    "Model and Trainer\n",
    "-----------------\n",
    "\n",
    "We use a pre-trained ``ResNet50_v2`` model, which has balanced accuracy and\n",
    "computation cost.\n",
    "\n"
   ]
  },
  {
   "cell_type": "code",
   "execution_count": 6,
   "metadata": {
    "ExecuteTime": {
     "end_time": "2018-10-13T13:05:49.536032Z",
     "start_time": "2018-10-13T13:05:45.875322Z"
    }
   },
   "outputs": [],
   "source": [
    "model_name = 'ResNet50_v2'\n",
    "net = get_model(model_name, pretrained=True, ctx = ctx)"
   ]
  },
  {
   "cell_type": "code",
   "execution_count": 7,
   "metadata": {
    "ExecuteTime": {
     "end_time": "2018-10-13T13:05:51.553696Z",
     "start_time": "2018-10-13T13:05:51.494820Z"
    }
   },
   "outputs": [],
   "source": [
    "import sys\n",
    "sys.path.append('E:/zlab/')\n",
    "from gluonx.loader import Transforms\n",
    "\n",
    "T = Transforms()"
   ]
  },
  {
   "cell_type": "code",
   "execution_count": 8,
   "metadata": {
    "ExecuteTime": {
     "end_time": "2018-10-13T13:05:54.890786Z",
     "start_time": "2018-10-13T13:05:54.208596Z"
    }
   },
   "outputs": [],
   "source": [
    "accs = []\n",
    "for batch in train_data:\n",
    "    Xs = nd.stack(*[T.test_aug(x) for x in batch[0]])\n",
    "    Xs = Xs.as_in_context(ctx)\n",
    "    yhats = net(Xs)\n",
    "    ys = batch[1]\n",
    "    break"
   ]
  },
  {
   "cell_type": "code",
   "execution_count": 12,
   "metadata": {
    "ExecuteTime": {
     "end_time": "2018-10-13T13:07:24.433391Z",
     "start_time": "2018-10-13T13:07:24.167008Z"
    }
   },
   "outputs": [
    {
     "data": {
      "text/plain": [
       "\n",
       "[598. 598. 861.  45. 905. 648. 720. 471.]\n",
       "<NDArray 8 @gpu(0)>"
      ]
     },
     "execution_count": 12,
     "metadata": {},
     "output_type": "execute_result"
    }
   ],
   "source": [
    "label_names"
   ]
  },
  {
   "cell_type": "code",
   "execution_count": 11,
   "metadata": {
    "ExecuteTime": {
     "end_time": "2018-10-13T13:06:46.034674Z",
     "start_time": "2018-10-13T13:06:45.671471Z"
    }
   },
   "outputs": [],
   "source": [
    "import json\n",
    "\n",
    "with open('E:/zlab/gluonx/imagenet_label_names.json') as fp:\n",
    "    label_names  =json.load(fp)"
   ]
  },
  {
   "cell_type": "code",
   "execution_count": null,
   "metadata": {},
   "outputs": [],
   "source": []
  },
  {
   "cell_type": "code",
   "execution_count": 73,
   "metadata": {
    "ExecuteTime": {
     "end_time": "2018-10-13T13:41:03.785965Z",
     "start_time": "2018-10-13T13:41:03.780963Z"
    }
   },
   "outputs": [],
   "source": [
    "def get_data(batch, aug):\n",
    "    Xs = nd.stack(*[aug(x)for x in batch[0]]).as_in_context(ctx)\n",
    "    ys = batch[1].as_in_context(ctx)\n",
    "    return Xs, ys\n",
    "\n",
    "\n",
    "def test_metric(net, val_data):\n",
    "    yhats = []\n",
    "    Y = []\n",
    "    for i, batch in enumerate(val_data):\n",
    "        Xs, ys = get_data(batch, T.test_aug)\n",
    "        outputs = net(Xs)\n",
    "        yhats.extend(outputs.argmax(axis=1).asnumpy().astype(np.int32).astype(str))\n",
    "        Y.extend(ys.asnumpy().astype(np.int32))\n",
    "    return yhats, Y"
   ]
  },
  {
   "cell_type": "code",
   "execution_count": 74,
   "metadata": {
    "ExecuteTime": {
     "end_time": "2018-10-13T13:41:05.914258Z",
     "start_time": "2018-10-13T13:41:05.533286Z"
    },
    "scrolled": true
   },
   "outputs": [],
   "source": [
    "model_name = 'ResNet50_v2'\n",
    "net = get_model(model_name, pretrained=True, ctx = mx.gpu(0))"
   ]
  },
  {
   "cell_type": "code",
   "execution_count": 86,
   "metadata": {
    "ExecuteTime": {
     "end_time": "2018-10-13T13:46:31.213618Z",
     "start_time": "2018-10-13T13:46:21.289157Z"
    }
   },
   "outputs": [],
   "source": [
    "yhats, ys = test_metric(net, val_data)"
   ]
  },
  {
   "cell_type": "code",
   "execution_count": 87,
   "metadata": {
    "ExecuteTime": {
     "end_time": "2018-10-13T13:46:39.653051Z",
     "start_time": "2018-10-13T13:46:39.591217Z"
    },
    "scrolled": true
   },
   "outputs": [
    {
     "name": "stdout",
     "output_type": "stream",
     "text": [
      "picket fence, paling\n",
      "window shade\n",
      "prayer rug, prayer mat\n",
      "doormat, welcome mat\n",
      "bakery, bakeshop, bakehouse\n",
      "bathtub, bathing tub, bath, tub\n",
      "radiator\n",
      "dining table, board\n",
      "dining table, board\n",
      "vault\n",
      "dining table, board\n",
      "hot pot, hotpot\n",
      "sliding door\n",
      "washbasin, handbasin, washbowl, lavabo, wash-hand basin\n",
      "screwdriver\n",
      "bow tie, bow-tie, bowtie\n",
      "dining table, board\n",
      "home theater, home theatre\n",
      "television, television system\n",
      "bannister, banister, balustrade, balusters, handrail\n",
      "sliding door\n",
      "washer, automatic washer, washing machine\n",
      "table lamp\n",
      "patio, terrace\n",
      "throne\n",
      "home theater, home theatre\n",
      "bookcase\n",
      "bookcase\n",
      "rain barrel\n",
      "washer, automatic washer, washing machine\n",
      "microwave, microwave oven\n",
      "vase\n",
      "park bench\n",
      "jersey, T-shirt, tee shirt\n",
      "church, church building\n",
      "park bench\n",
      "fire screen, fireguard\n",
      "stone wall\n",
      "shower curtain\n",
      "medicine chest, medicine cabinet\n",
      "jigsaw puzzle\n",
      "chiffonier, commode\n",
      "lakeside, lakeshore\n",
      "fountain\n",
      "china cabinet, china closet\n",
      "dishwasher, dish washer, dishwashing machine\n"
     ]
    }
   ],
   "source": [
    "for name in yhats:\n",
    "    print(label_names[name])"
   ]
  },
  {
   "cell_type": "code",
   "execution_count": 88,
   "metadata": {
    "ExecuteTime": {
     "end_time": "2018-10-13T13:46:46.667304Z",
     "start_time": "2018-10-13T13:46:46.602472Z"
    },
    "scrolled": true
   },
   "outputs": [
    {
     "name": "stdout",
     "output_type": "stream",
     "text": [
      "brick\n",
      "brick\n",
      "carpet\n",
      "carpet\n",
      "ceramic\n",
      "ceramic\n",
      "fabric\n",
      "fabric\n",
      "foliage\n",
      "foliage\n",
      "food\n",
      "food\n",
      "glass\n",
      "glass\n",
      "hair\n",
      "hair\n",
      "leather\n",
      "leather\n",
      "metal\n",
      "metal\n",
      "mirror\n",
      "mirror\n",
      "other\n",
      "other\n",
      "painted\n",
      "painted\n",
      "paper\n",
      "paper\n",
      "plastic\n",
      "plastic\n",
      "polishedstone\n",
      "polishedstone\n",
      "skin\n",
      "skin\n",
      "sky\n",
      "sky\n",
      "stone\n",
      "stone\n",
      "tile\n",
      "tile\n",
      "wallpaper\n",
      "wallpaper\n",
      "water\n",
      "water\n",
      "wood\n",
      "wood\n"
     ]
    }
   ],
   "source": [
    "labels = {1+i:name for i, name in enumerate(os.listdir(val_path)[1:])}\n",
    "\n",
    "for y in ys:\n",
    "    print(labels[y])"
   ]
  },
  {
   "cell_type": "markdown",
   "metadata": {},
   "source": [
    "Training Loop\n",
    "-------------\n",
    "\n",
    "Following is the main training loop. It is the same as the loop in\n",
    "`CIFAR10 <dive_deep_cifar10.html>`__\n",
    "and ImageNet.\n",
    "\n",
    "<div class=\"alert alert-info\"><h4>Note</h4><p>Once again, in order to go through the tutorial faster, we are training on a small\n",
    "    subset of the original ``MINC-2500`` dataset, and for only 5 epochs. By training on the\n",
    "    full dataset with 40 epochs, it is expected to get accuracy around 80% on test data.</p></div>\n",
    "\n"
   ]
  },
  {
   "cell_type": "code",
   "execution_count": null,
   "metadata": {
    "ExecuteTime": {
     "end_time": "2018-10-13T11:46:13.787760Z",
     "start_time": "2018-10-13T11:27:10.197051Z"
    },
    "scrolled": true
   },
   "outputs": [],
   "source": [
    "lr_counter = 0\n",
    "num_batch = len(train_data)\n",
    "\n",
    "for epoch in range(epochs):\n",
    "    if epoch == lr_steps[lr_counter]:\n",
    "        trainer.set_learning_rate(trainer.learning_rate*lr_factor)\n",
    "        lr_counter += 1\n",
    "\n",
    "    tic = time.time()\n",
    "    train_loss = 0\n",
    "    metric.reset()\n",
    "\n",
    "    for i, batch in enumerate(train_data):\n",
    "        data = gluon.utils.split_and_load(batch[0], ctx_list=ctx, batch_axis=0, even_split=False)\n",
    "        label = gluon.utils.split_and_load(batch[1], ctx_list=ctx, batch_axis=0, even_split=False)\n",
    "        with ag.record():\n",
    "            outputs = [finetune_net(X) for X in data]\n",
    "            loss = [L(yhat, y) for yhat, y in zip(outputs, label)]\n",
    "        for l in loss:\n",
    "            l.backward()\n",
    "\n",
    "        trainer.step(batch_size)\n",
    "        train_loss += sum([l.mean().asscalar() for l in loss]) / len(loss)\n",
    "\n",
    "        metric.update(label, outputs)\n",
    "\n",
    "    _, train_acc = metric.get()\n",
    "    train_loss /= num_batch\n",
    "\n",
    "    _, val_acc = test(finetune_net, val_data, ctx)\n",
    "\n",
    "    print('[Epoch %d] Train-acc: %.3f, loss: %.3f | Val-acc: %.3f | time: %.1f' %\n",
    "             (epoch, train_acc, train_loss, val_acc, time.time() - tic))\n",
    "\n",
    "_, test_acc = test(finetune_net, test_data, ctx)\n",
    "print('[Finished] Test-acc: %.3f' % (test_acc))"
   ]
  },
  {
   "cell_type": "markdown",
   "metadata": {},
   "source": [
    "Next\n",
    "----\n",
    "\n",
    "Now that you have learned to muster the power of transfer\n",
    "learning, to learn more about training a model on\n",
    "ImageNet, please read `this tutorial <dive_deep_imagenet.html>`__.\n",
    "\n",
    "The idea of transfer learning is the basis of\n",
    "`object detection <../examples_detection/index.html>`_ and\n",
    "`semantic segmentation <../examples_segmentation/index.html>`_,\n",
    "the next two chapters of our tutorial.\n",
    "\n",
    ".. |image-minc| image:: https://raw.githubusercontent.com/dmlc/web-data/master/gluoncv/datasets/MINC-2500.png\n",
    ".. |image-model| image:: https://zh.gluon.ai/_images/fine-tuning.svg\n",
    "\n"
   ]
  }
 ],
 "metadata": {
  "kernelspec": {
   "display_name": "Python [default]",
   "language": "python",
   "name": "python3"
  },
  "language_info": {
   "codemirror_mode": {
    "name": "ipython",
    "version": 3
   },
   "file_extension": ".py",
   "mimetype": "text/x-python",
   "name": "python",
   "nbconvert_exporter": "python",
   "pygments_lexer": "ipython3",
   "version": "3.6.5"
  },
  "latex_envs": {
   "LaTeX_envs_menu_present": true,
   "autoclose": false,
   "autocomplete": true,
   "bibliofile": "biblio.bib",
   "cite_by": "apalike",
   "current_citInitial": 1,
   "eqLabelWithNumbers": true,
   "eqNumInitial": 1,
   "hotkeys": {
    "equation": "Ctrl-E",
    "itemize": "Ctrl-I"
   },
   "labels_anchors": false,
   "latex_user_defs": false,
   "report_style_numbering": false,
   "user_envs_cfg": false
  },
  "nbTranslate": {
   "displayLangs": [
    "*"
   ],
   "hotkey": "alt-t",
   "langInMainMenu": true,
   "sourceLang": "en",
   "targetLang": "fr",
   "useGoogleTranslate": true
  },
  "toc": {
   "base_numbering": 1,
   "nav_menu": {},
   "number_sections": true,
   "sideBar": true,
   "skip_h1_title": false,
   "title_cell": "Table of Contents",
   "title_sidebar": "Contents",
   "toc_cell": false,
   "toc_position": {},
   "toc_section_display": true,
   "toc_window_display": false
  },
  "varInspector": {
   "cols": {
    "lenName": 16,
    "lenType": 16,
    "lenVar": 40
   },
   "kernels_config": {
    "python": {
     "delete_cmd_postfix": "",
     "delete_cmd_prefix": "del ",
     "library": "var_list.py",
     "varRefreshCmd": "print(var_dic_list())"
    },
    "r": {
     "delete_cmd_postfix": ") ",
     "delete_cmd_prefix": "rm(",
     "library": "var_list.r",
     "varRefreshCmd": "cat(var_dic_list()) "
    }
   },
   "types_to_exclude": [
    "module",
    "function",
    "builtin_function_or_method",
    "instance",
    "_Feature"
   ],
   "window_display": false
  }
 },
 "nbformat": 4,
 "nbformat_minor": 1
}
