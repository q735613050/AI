{
 "cells": [
  {
   "cell_type": "code",
   "execution_count": 1,
   "metadata": {
    "collapsed": false
   },
   "outputs": [],
   "source": [
    "from __future__ import print_function\n",
    "import numpy as np\n",
    "import tensorflow as tf\n",
    "import matplotlib.pyplot as plt\n",
    "\n",
    "from model import *\n",
    "\n",
    "unlabel_prob = 0.95 # probability of labels to be unlabeled\n",
    "percentile = 0     # when a graph is not given, construct a graph \n",
    "                    # dropping nodes under this percentile \n",
    "\n",
    "iris = False        # use iris data\n",
    "hard = False\n",
    "sigma = 1.5           # sigma hyperparameter for RBF kernel\n",
    "\n",
    "%matplotlib inline"
   ]
  },
  {
   "cell_type": "markdown",
   "metadata": {},
   "source": [
    "### Get Data"
   ]
  },
  {
   "cell_type": "code",
   "execution_count": 2,
   "metadata": {
    "collapsed": false
   },
   "outputs": [],
   "source": [
    "if iris:\n",
    "    true_labels, features, graph = Data.Data.load_iris()\n",
    "else:\n",
    "    true_labels, features, graph = Data.Data.load_cora()"
   ]
  },
  {
   "cell_type": "code",
   "execution_count": 3,
   "metadata": {
    "collapsed": false
   },
   "outputs": [
    {
     "name": "stdout",
     "output_type": "stream",
     "text": [
      "graph given\n"
     ]
    }
   ],
   "source": [
    "labels, is_labeled, labeled_indices, unlabeled_indices = utils.random_unlabel(true_labels,unlabel_prob=unlabel_prob,hard=hard)\n",
    "solution  = true_labels[unlabeled_indices]\n",
    "weights   = utils.rbf_kernel(features,s=sigma,G=graph,percentile=percentile)\n",
    "num_nodes = len(labels)\n",
    "data, validation_data = Data.Data.prepare(labels,labeled_indices,true_labels)"
   ]
  },
  {
   "cell_type": "code",
   "execution_count": 4,
   "metadata": {
    "collapsed": false
   },
   "outputs": [
    {
     "data": {
      "text/plain": [
       "array([[ 0.,  0.,  0., ...,  0.,  0.,  0.],\n",
       "       [ 0.,  0.,  0., ...,  0.,  0.,  0.],\n",
       "       [ 0.,  0.,  0., ...,  0.,  0.,  0.],\n",
       "       ..., \n",
       "       [ 0.,  0.,  0., ...,  0.,  0.,  0.],\n",
       "       [ 0.,  0.,  0., ...,  0.,  0.,  0.],\n",
       "       [ 0.,  0.,  0., ...,  0.,  0.,  0.]])"
      ]
     },
     "execution_count": 4,
     "metadata": {},
     "output_type": "execute_result"
    }
   ],
   "source": [
    "weights"
   ]
  },
  {
   "cell_type": "code",
   "execution_count": 5,
   "metadata": {
    "collapsed": false
   },
   "outputs": [
    {
     "name": "stdout",
     "output_type": "stream",
     "text": [
      "[Baseline]　Accuracy: 0.707203389831 RMSE: 0.292796610169\n"
     ]
    }
   ],
   "source": [
    "baseline_prediction = np.rint(labels[unlabeled_indices])\n",
    "print(\"[Baseline]　Accuracy:\", utils.accuracy(solution, baseline_prediction), \n",
    "      \"RMSE:\", utils.rmse(solution, baseline_prediction))"
   ]
  },
  {
   "cell_type": "markdown",
   "metadata": {},
   "source": [
    "### Label Propagation"
   ]
  },
  {
   "cell_type": "code",
   "execution_count": 6,
   "metadata": {
    "collapsed": false
   },
   "outputs": [],
   "source": [
    "lp = LP.LP()\n",
    "# lp_closed_prediction = np.rint(lp.closed(labels,\n",
    "#                                   weights,\n",
    "#                                   labeled_indices,\n",
    "#                                   unlabeled_indices))\n",
    "lp_iter_prediction = np.rint(lp.iter(labels,\n",
    "                                  weights,\n",
    "                                  is_labeled,\n",
    "                                  num_iter=100))"
   ]
  },
  {
   "cell_type": "code",
   "execution_count": 7,
   "metadata": {
    "collapsed": false
   },
   "outputs": [
    {
     "name": "stdout",
     "output_type": "stream",
     "text": [
      "[Iter]　Accuracy: 0.823728813559 RMSE: 0.176271186441\n"
     ]
    }
   ],
   "source": [
    "# print(\"[Closed]　Accuracy:\", utils.accuracy(solution, lp_closed_prediction), \n",
    "#       \"RMSE:\", utils.rmse(solution, lp_closed_prediction))\n",
    "print(\"[Iter]　Accuracy:\", utils.accuracy(solution, lp_iter_prediction[unlabeled_indices]), \n",
    "      \"RMSE:\", utils.rmse(solution, lp_iter_prediction[unlabeled_indices]))"
   ]
  },
  {
   "cell_type": "code",
   "execution_count": 65,
   "metadata": {
    "collapsed": false
   },
   "outputs": [
    {
     "name": "stdout",
     "output_type": "stream",
     "text": [
      "1\n",
      "Accuracy: 0.716949152542\n",
      "RMSE: 0.283050847458\n",
      "2\n",
      "Accuracy: 0.774576271186\n",
      "RMSE: 0.225423728814\n",
      "3\n",
      "Accuracy: 0.829237288136\n",
      "RMSE: 0.170762711864\n",
      "4\n",
      "Accuracy: 0.855084745763\n",
      "RMSE: 0.144915254237\n",
      "5\n",
      "Accuracy: 0.865254237288\n",
      "RMSE: 0.134745762712\n",
      "10\n",
      "Accuracy: 0.881355932203\n",
      "RMSE: 0.118644067797\n",
      "100\n",
      "Accuracy: 0.823728813559\n",
      "RMSE: 0.176271186441\n",
      "1000\n",
      "Accuracy: 0.783050847458\n",
      "RMSE: 0.216949152542\n",
      "2000\n",
      "Accuracy: 0.783050847458\n",
      "RMSE: 0.216949152542\n"
     ]
    }
   ],
   "source": [
    "for num_iter in [1,2,3,4,5,10,100,1000,2000]:\n",
    "    print(num_iter)\n",
    "    lp_iter_prediction = np.rint(lp.iter(labels,\n",
    "                                  weights,\n",
    "                                  is_labeled,\n",
    "                                  num_iter=num_iter))\n",
    "#     print(\"Objective:\", utils.objective(labels[labeled_indices],lp_iter_prediction,weights))\n",
    "    print(\"Accuracy:\", utils.accuracy(solution,lp_iter_prediction[unlabeled_indices]))\n",
    "    print(\"RMSE:\", utils.rmse(solution,lp_iter_prediction[unlabeled_indices]))"
   ]
  },
  {
   "cell_type": "markdown",
   "metadata": {},
   "source": [
    "### DeepLP"
   ]
  },
  {
   "cell_type": "code",
   "execution_count": 66,
   "metadata": {
    "collapsed": false
   },
   "outputs": [
    {
     "name": "stdout",
     "output_type": "stream",
     "text": [
      "{'loss': 0.13140424, 'labeled_loss': 0.0, 'accuracy': 0.8237288, 'true_loss': 0.13140424, 'true_accuracy': 0.8237288}\n",
      "[DeepLP]　Accuracy: 0.823728813559 RMSE: 0.176271186441\n"
     ]
    }
   ],
   "source": [
    "dlp = DeepLP.DeepLP(100,num_nodes,weights,0.1)\n",
    "pred, _ = dlp.labelprop(validation_data)\n",
    "dlp_prediction = np.rint(pred).reshape(num_nodes)[unlabeled_indices]\n",
    "print(\"[DeepLP]　Accuracy:\", utils.accuracy(solution, dlp_prediction), \n",
    "      \"RMSE:\", utils.rmse(solution, dlp_prediction))\n"
   ]
  },
  {
   "cell_type": "markdown",
   "metadata": {},
   "source": [
    "### DeepLP_RBF"
   ]
  },
  {
   "cell_type": "code",
   "execution_count": 16,
   "metadata": {
    "collapsed": false
   },
   "outputs": [],
   "source": [
    "dlp_rbf = DeepLP_RBF.DeepLP_RBF(100, num_nodes, features, graph, 1, 1)"
   ]
  },
  {
   "cell_type": "code",
   "execution_count": 17,
   "metadata": {
    "collapsed": false
   },
   "outputs": [
    {
     "name": "stdout",
     "output_type": "stream",
     "text": [
      "{'loss': 0.13427219, 'labeled_loss': 0.0, 'accuracy': 0.87203389, 'true_loss': 0.13427219, 'true_accuracy': 0.87203389}\n"
     ]
    }
   ],
   "source": [
    "dlp_rbf_prediction,_ = dlp_rbf.labelprop(validation_data)"
   ]
  },
  {
   "cell_type": "code",
   "execution_count": null,
   "metadata": {
    "collapsed": false
   },
   "outputs": [],
   "source": [
    "dlp_rbf.train(data,validation_data,200)"
   ]
  },
  {
   "cell_type": "code",
   "execution_count": 19,
   "metadata": {
    "collapsed": false
   },
   "outputs": [
    {
     "data": {
      "image/png": "[encoded data removed]",
      "text/plain": [
       "<matplotlib.figure.Figure at 0x11dadf860>"
      ]
     },
     "metadata": {},
     "output_type": "display_data"
    },
    {
     "data": {
      "image/png": "[encoded data removed]",
      "text/plain": [
       "<matplotlib.figure.Figure at 0x11daf3748>"
      ]
     },
     "metadata": {},
     "output_type": "display_data"
    },
    {
     "data": {
      "image/png": "[encoded data removed]",
      "text/plain": [
       "<matplotlib.figure.Figure at 0x11dcfb898>"
      ]
     },
     "metadata": {},
     "output_type": "display_data"
    }
   ],
   "source": [
    "dlp_rbf.plot()"
   ]
  },
  {
   "cell_type": "markdown",
   "metadata": {},
   "source": [
    "# DeepLP_WeightedRBF"
   ]
  },
  {
   "cell_type": "code",
   "execution_count": 81,
   "metadata": {
    "collapsed": false
   },
   "outputs": [
    {
     "ename": "TypeError",
     "evalue": "labelprop() takes 2 positional arguments but 3 were given",
     "output_type": "error",
     "traceback": [
      "\u001b[0;31m-------------------------\u001b[0m",
      "\u001b[0;31mTypeError\u001b[0mTraceback (most recent call last)",
      "\u001b[0;32m<ipython-input-81-91991ca65b9e>\u001b[0m in \u001b[0;36m<module>\u001b[0;34m()\u001b[0m\n\u001b[1;32m      1\u001b[0m \u001b[0mtheta\u001b[0m \u001b[0;34m=\u001b[0m \u001b[0mnp\u001b[0m\u001b[0;34m.\u001b[0m\u001b[0mones\u001b[0m\u001b[0;34m(\u001b[0m\u001b[0mfeatures\u001b[0m\u001b[0;34m.\u001b[0m\u001b[0mshape\u001b[0m\u001b[0;34m[\u001b[0m\u001b[0;36m1\u001b[0m\u001b[0;34m]\u001b[0m\u001b[0;34m)\u001b[0m\u001b[0;34m.\u001b[0m\u001b[0mreshape\u001b[0m\u001b[0;34m(\u001b[0m\u001b[0;36m1\u001b[0m\u001b[0;34m,\u001b[0m\u001b[0mfeatures\u001b[0m\u001b[0;34m.\u001b[0m\u001b[0mshape\u001b[0m\u001b[0;34m[\u001b[0m\u001b[0;36m1\u001b[0m\u001b[0;34m]\u001b[0m\u001b[0;34m)\u001b[0m\u001b[0;34m\u001b[0m\u001b[0m\n\u001b[1;32m      2\u001b[0m \u001b[0mdlp_wrbf\u001b[0m \u001b[0;34m=\u001b[0m \u001b[0mDeepLP_WeightedRBF\u001b[0m\u001b[0;34m.\u001b[0m\u001b[0mDeepLP_WeightedRBF\u001b[0m\u001b[0;34m(\u001b[0m\u001b[0;36m100\u001b[0m\u001b[0;34m,\u001b[0m \u001b[0mnum_nodes\u001b[0m\u001b[0;34m,\u001b[0m \u001b[0mfeatures\u001b[0m\u001b[0;34m,\u001b[0m \u001b[0mgraph\u001b[0m\u001b[0;34m,\u001b[0m \u001b[0msigma\u001b[0m\u001b[0;34m,\u001b[0m \u001b[0mtheta\u001b[0m\u001b[0;34m,\u001b[0m \u001b[0;36m1\u001b[0m\u001b[0;34m,\u001b[0m \u001b[0mregularize\u001b[0m\u001b[0;34m=\u001b[0m\u001b[0;36m0\u001b[0m\u001b[0;34m)\u001b[0m\u001b[0;34m\u001b[0m\u001b[0m\n\u001b[0;32m----> 3\u001b[0;31m \u001b[0mdlp_wrbf_prediction\u001b[0m \u001b[0;34m=\u001b[0m \u001b[0mnp\u001b[0m\u001b[0;34m.\u001b[0m\u001b[0mrint\u001b[0m\u001b[0;34m(\u001b[0m\u001b[0mdlp_wrbf\u001b[0m\u001b[0;34m.\u001b[0m\u001b[0mlabelprop\u001b[0m\u001b[0;34m(\u001b[0m\u001b[0mvalidation_data\u001b[0m\u001b[0;34m,\u001b[0m\u001b[0mtheta\u001b[0m\u001b[0;34m)\u001b[0m\u001b[0;34m)\u001b[0m\u001b[0;34m.\u001b[0m\u001b[0mreshape\u001b[0m\u001b[0;34m(\u001b[0m\u001b[0mnum_nodes\u001b[0m\u001b[0;34m)\u001b[0m\u001b[0;34m[\u001b[0m\u001b[0munlabeled_indices\u001b[0m\u001b[0;34m]\u001b[0m\u001b[0;34m\u001b[0m\u001b[0m\n\u001b[0m\u001b[1;32m      4\u001b[0m print(\"[DeepLP Weighted RBF]　Accuracy:\", utils.accuracy(solution, dlp_wrbf_prediction), \n\u001b[1;32m      5\u001b[0m       \"RMSE:\", utils.rmse(solution, dlp_wrbf_prediction))\n",
      "\u001b[0;31mTypeError\u001b[0m: labelprop() takes 2 positional arguments but 3 were given"
     ]
    }
   ],
   "source": [
    "theta = np.ones(features.shape[1]).reshape(1,features.shape[1])\n",
    "dlp_wrbf = DeepLP_WeightedRBF.DeepLP_WeightedRBF(100, num_nodes, features, graph, sigma, theta, 1, regularize=0)\n",
    "dlp_wrbf_prediction = np.rint(dlp_wrbf.labelprop(validation_data)).reshape(num_nodes)[unlabeled_indices]\n",
    "print(\"[DeepLP Weighted RBF]　Accuracy:\", utils.accuracy(solution, dlp_wrbf_prediction), \n",
    "      \"RMSE:\", utils.rmse(solution, dlp_wrbf_prediction))"
   ]
  },
  {
   "cell_type": "code",
   "execution_count": 20,
   "metadata": {
    "collapsed": true
   },
   "outputs": [],
   "source": [
    "theta = np.ones(features.shape[1]).reshape(1,features.shape[1])"
   ]
  },
  {
   "cell_type": "code",
   "execution_count": 21,
   "metadata": {
    "collapsed": false
   },
   "outputs": [
    {
     "name": "stdout",
     "output_type": "stream",
     "text": [
      "{'loss': 0.13427219, 'labeled_loss': 0.0, 'accuracy': 0.87203389, 'true_loss': 0.13427219, 'true_accuracy': 0.87203389}\n"
     ]
    }
   ],
   "source": [
    "dlp_wrbf = DeepLP_WeightedRBF.DeepLP_WeightedRBF(100, num_nodes, features, graph, 1, theta, lr = 0.1, regularize = 0.1)\n",
    "dlp_wrbf_prediction,_ = dlp_wrbf.labelprop(validation_data)\n"
   ]
  },
  {
   "cell_type": "code",
   "execution_count": 23,
   "metadata": {
    "collapsed": false
   },
   "outputs": [
    {
     "name": "stdout",
     "output_type": "stream",
     "text": [
      "epoch: -1 labeled loss: 0.128999 unlabeled loss: 0.134654 accuracy: 0.871285 true unlabeled loss: 0.134272 true accuracy: 0.872034\n",
      "--- 35.948538064956665 seconds ---\n",
      "theta: [[ 1.  1.  1.  1.  1.  1.  1.  1.  1.  1.  1.  1.  1.  1.  1.  1.  1.  1.\n",
      "   1.]]\n",
      "--- 12.454074144363403 seconds ---\n",
      "epoch: 0 labeled loss: 0.123153 unlabeled loss: 0.130847 accuracy: 0.845706 true unlabeled loss: 0.130488 true accuracy: 0.845763\n",
      "--- 4.892277717590332 seconds ---\n",
      "theta: [[ 0.90000582  1.09999502  0.90001118  1.09999359  0.90001673  0.90001369\n",
      "   0.90000582  0.90008932  0.90001011  0.90000749  1.09999108  1.09997725\n",
      "   0.90000975  0.90000558  0.90001547  0.90001357  0.9000051   0.90003538\n",
      "   0.90000659]]\n",
      "--- 16.846147060394287 seconds ---\n",
      "epoch: 1 labeled loss: 0.118511 unlabeled loss: 0.128791 accuracy: 0.840684 true unlabeled loss: 0.128452 true accuracy: 0.841525\n",
      "--- 5.917832851409912 seconds ---\n",
      "theta: [[ 0.80330467  1.19885576  0.80995798  1.19933438  0.80463284  0.80923569\n",
      "   0.80616695  0.93217081  0.80028385  0.80466336  1.19996214  1.19900823\n",
      "   0.79988533  0.80776078  0.80954677  0.82506937  0.79987389  0.80223775\n",
      "   0.81143922]]\n",
      "--- 14.000547885894775 seconds ---\n",
      "epoch: 2 labeled loss: 0.114485 unlabeled loss: 0.127629 accuracy: 0.836164 true unlabeled loss: 0.127306 true accuracy: 0.836864\n",
      "--- 4.648661136627197 seconds ---\n",
      "theta: [[ 0.71226978  1.29674172  0.748685    1.29863262  0.72094196  0.74335891\n",
      "   0.72420657  0.9987734   0.70018172  0.71644062  1.29933596  1.29840076\n",
      "   0.69955611  0.72915238  0.74551421  0.77014118  0.69953632  0.70864129\n",
      "   0.74594659]]\n",
      "--- 12.487385034561157 seconds ---\n",
      "epoch: 3 labeled loss: 0.110976 unlabeled loss: 0.126717 accuracy: 0.83464 true unlabeled loss: 0.126405 true accuracy: 0.834746\n",
      "--- 4.339838981628418 seconds ---\n",
      "theta: [[ 0.62792659  1.39361537  0.72397763  1.39853978  0.65721244  0.71614867\n",
      "   0.66158521  1.07828021  0.60045469  0.63538456  1.39851928  1.39829385\n",
      "   0.5991534   0.6667096   0.72170031  0.72145706  0.59945673  0.62089002\n",
      "   0.70556045]]\n",
      "--- 12.127108097076416 seconds ---\n",
      "epoch: 4 labeled loss: 0.108139 unlabeled loss: 0.125853 accuracy: 0.837188 true unlabeled loss: 0.125548 true accuracy: 0.837712\n",
      "--- 4.446499824523926 seconds ---\n",
      "theta: [[ 0.55061644  1.48755431  0.72813088  1.49880207  0.61946625  0.72456223\n",
      "   0.62401104  1.16427481  0.5045144   0.56084818  1.49837387  1.49581647\n",
      "   0.49913543  0.6196366   0.73505419  0.67285264  0.50125355  0.53759015\n",
      "   0.68299323]]\n",
      "--- 12.992240905761719 seconds ---\n",
      "epoch: 5 labeled loss: 0.106007 unlabeled loss: 0.125116 accuracy: 0.836578 true unlabeled loss: 0.124816 true accuracy: 0.836864\n",
      "--- 4.337046146392822 seconds ---\n",
      "theta: [[ 0.48023468  1.57381248  0.75130308  1.59801471  0.60863072  0.75764608\n",
      "   0.61068559  1.25253832  0.41719872  0.49210829  1.59894812  1.5855726\n",
      "   0.40040281  0.58537143  0.77458084  0.62293899  0.40694022  0.45844173\n",
      "   0.66884756]]\n",
      "--- 12.706477880477905 seconds ---\n",
      "epoch: 6 labeled loss: 0.104435 unlabeled loss: 0.124608 accuracy: 0.838763 true unlabeled loss: 0.124311 true accuracy: 0.838983\n",
      "--- 4.334999084472656 seconds ---\n",
      "theta: [[ 0.41638055  1.64661968  0.78639752  1.69435775  0.62121958  0.80615056\n",
      "   0.61667091  1.33591914  0.3416774   0.42848343  1.6995436   1.66389883\n",
      "   0.30435127  0.56100076  0.83116978  0.57255214  0.31801265  0.38517758\n",
      "   0.65506536]]\n",
      "--- 13.327747106552124 seconds ---\n",
      "epoch: 7 labeled loss: 0.103225 unlabeled loss: 0.124337 accuracy: 0.839502 true unlabeled loss: 0.124042 true accuracy: 0.839407\n",
      "--- 5.621140003204346 seconds ---\n",
      "theta: [[ 0.35848191  1.70179164  0.82848215  1.78645134  0.65219951  0.86303645\n",
      "   0.63710904  1.39882803  0.27831256  0.36936989  1.79961801  1.72912014\n",
      "   0.21267593  0.54397088  0.89883882  0.52455449  0.23539945  0.31884882\n",
      "   0.63584447]]\n",
      "--- 17.777984857559204 seconds ---\n",
      "epoch: 8 labeled loss: 0.102179 unlabeled loss: 0.124226 accuracy: 0.839848 true unlabeled loss: 0.123934 true accuracy: 0.839831\n",
      "--- 4.577049016952515 seconds ---\n",
      "theta: [[ 0.30589622  1.73699319  0.87378782  1.873649    0.69704545  0.92125291\n",
      "   0.66840458  1.42525017  0.22575176  0.31428972  1.89918256  1.78004205\n",
      "   0.12695578  0.53218955  0.97340757  0.48250115  0.15959154  0.25897416\n",
      "   0.60797334]]\n",
      "--- 12.66101598739624 seconds ---\n",
      "epoch: 9 labeled loss: 0.101161 unlabeled loss: 0.124192 accuracy: 0.845418 true unlabeled loss: 0.123903 true accuracy: 0.845763\n",
      "--- 5.282699108123779 seconds ---\n",
      "theta: [[ 0.25800312  1.75045848  0.91919005  1.95599258  0.75232434  0.9714787\n",
      "   0.70796204  1.41835165  0.18214913  0.26290879  1.99848783  1.81575179\n",
      "   0.04828154  0.52392465  1.05116105  0.44849053  0.09067939  0.20438153\n",
      "   0.57053053]]\n",
      "--- 15.87925910949707 seconds ---\n",
      "epoch: 10 labeled loss: 0.100092 unlabeled loss: 0.124173 accuracy: 0.844032 true unlabeled loss: 0.123888 true accuracy: 0.845339\n",
      "--- 5.680278062820435 seconds ---\n",
      "theta: [[ 0.21427283  1.74153447  0.9619984   2.03409839  0.81550431  1.00299096\n",
      "   0.75368267  1.38955963  0.14576609  0.21500608  2.09753942  1.83604324\n",
      "  -0.02288803  0.51774216  1.12799466  0.42224357  0.02840035  0.15397698\n",
      "   0.52411515]]\n",
      "--- 17.290024042129517 seconds ---\n",
      "epoch: 11 labeled loss: 0.0989612 unlabeled loss: 0.124117 accuracy: 0.840434 true unlabeled loss: 0.123837 true accuracy: 0.840254\n",
      "--- 5.685306072235107 seconds ---\n",
      "theta: [[ 0.17428882  1.71278059  0.99987972  2.10898066  0.88445592  1.00999963\n",
      "   0.80374509  1.34740973  0.11514662  0.17044179  2.19586754  1.84155917\n",
      "  -0.08663234  0.51254839  1.19942582  0.40211704 -0.02772831  0.10704334\n",
      "   0.47017413]]\n",
      "--- 17.91207981109619 seconds ---\n",
      "epoch: 12 labeled loss: 0.0978664 unlabeled loss: 0.123992 accuracy: 0.840786 true unlabeled loss: 0.123717 true accuracy: 0.841102\n",
      "--- 6.741693019866943 seconds ---\n",
      "theta: [[ 0.13772708  1.66902471  1.03086448  2.18179059  0.95692497  0.99426246\n",
      "   0.85653532  1.29749429  0.08912098  0.12913203  2.29223871  1.83352625\n",
      "  -0.14335868  0.50764918  1.26144707  0.3863773  -0.07819461  0.06325138\n",
      "   0.41064659]]\n",
      "--- 17.18438982963562 seconds ---\n",
      "epoch: 13 labeled loss: 0.096924 unlabeled loss: 0.123771 accuracy: 0.837384 true unlabeled loss: 0.1235 true accuracy: 0.838136\n",
      "--- 7.241420030593872 seconds ---\n",
      "theta: [[ 0.10432123  1.6151278   1.05343473  2.25352859  1.03046036  0.96063\n",
      "   0.91060078  1.24370599  0.06676619  0.09102407  2.38456821  1.81335998\n",
      "  -0.19358471  0.50273883  1.31140101  0.37397614 -0.12332387  0.022592\n",
      "   0.34758005]]\n",
      "--- 17.42006778717041 seconds ---\n",
      "epoch: 14 labeled loss: 0.0962346 unlabeled loss: 0.123464 accuracy: 0.837635 true unlabeled loss: 0.123196 true accuracy: 0.838136\n",
      "--- 6.479407072067261 seconds ---\n",
      "theta: [[ 0.07383294  1.55554724  1.06661594  2.324821    1.1029799   0.9137221\n",
      "   0.96461415  1.18899381  0.04734915  0.05605891  2.47009134  1.78241611\n",
      "  -0.2377674   0.49782038  1.34822261  0.36483097 -0.16329429 -0.01467415\n",
      "   0.28275001]]\n",
      "--- 18.77342176437378 seconds ---\n",
      "epoch: 15 labeled loss: 0.0958307 unlabeled loss: 0.123136 accuracy: 0.839177 true unlabeled loss: 0.12287 true accuracy: 0.838559\n",
      "--- 6.441335916519165 seconds ---\n",
      "theta: [[ 0.04603704  1.49508774  1.07001519  2.39581847  1.17311692  0.85723972\n",
      "   1.01718807  1.13574409  0.03027425  0.02413419  2.54499102  1.7420491\n",
      "  -0.27622342  0.4931002   1.37212276  0.35969055 -0.19820136 -0.04810372\n",
      "   0.21762776]]\n",
      "--- 16.541054010391235 seconds ---\n",
      "epoch: 16 labeled loss: 0.0956216 unlabeled loss: 0.12285 accuracy: 0.834958 true unlabeled loss: 0.122585 true accuracy: 0.835169\n",
      "--- 7.2191078662872314 seconds ---\n",
      "theta: [[ 0.02071937  1.43823493  1.06381464  2.46624255  1.23992038  0.79414219\n",
      "   1.06646252  1.08591533  0.01506366 -0.00490963  2.6064806   1.69403064\n",
      "  -0.30914724  0.48889655  1.38411784  0.35967574 -0.22803231 -0.07731631\n",
      "   0.1535289 ]]\n",
      "--- 16.23304510116577 seconds ---\n",
      "epoch: 17 labeled loss: 0.0955349 unlabeled loss: 0.122635 accuracy: 0.834043 true unlabeled loss: 0.122371 true accuracy: 0.834322\n",
      "--- 5.776254892349243 seconds ---\n",
      "theta: [[ -2.31809542e-03   1.38830304e+00   1.04871881e+00   2.53553224e+00\n",
      "    1.30246258e+00   7.26898313e-01   1.10960364e+00   1.04109085e+00\n",
      "    1.35737937e-03  -3.12734433e-02   2.65477657e+00   1.64110446e+00\n",
      "   -3.36670816e-01   4.85579014e-01   1.38567090e+00   3.65478545e-01\n",
      "   -2.52613187e-01  -1.02418102e-01   9.17050838e-02]]\n",
      "--- 18.124545097351074 seconds ---\n",
      "epoch: 18 labeled loss: 0.0955382 unlabeled loss: 0.122498 accuracy: 0.832542 true unlabeled loss: 0.122235 true accuracy: 0.832627\n",
      "--- 5.649064064025879 seconds ---\n",
      "theta: [[-0.02325004  1.34779382  1.0258497   2.60301781  1.35959578  0.65765482\n",
      "   1.14284992  1.00249612 -0.01109299 -0.0551701   2.69169283  1.5871768\n",
      "  -0.35891384  0.48353413  1.37850177  0.37690285 -0.27160719 -0.12428234\n",
      "   0.03332232]]\n",
      "--- 12.865907192230225 seconds ---\n",
      "epoch: 19 labeled loss: 0.0955833 unlabeled loss: 0.122431 accuracy: 0.833654 true unlabeled loss: 0.122169 true accuracy: 0.835169\n",
      "--- 4.469752073287964 seconds ---\n",
      "theta: [[-0.0422236   1.3183893   0.99664009  2.66806197  1.40992069  0.588328\n",
      "   1.16287851  0.97098476 -0.02244536 -0.07679665  2.71918464  1.53659856\n",
      "  -0.37600759  0.48314157  1.36453664  0.39314905 -0.28463015 -0.14424893\n",
      "  -0.0205861 ]]\n",
      "--- 11.957231044769287 seconds ---\n",
      "epoch: 20 labeled loss: 0.0956172 unlabeled loss: 0.122421 accuracy: 0.835273 true unlabeled loss: 0.12216 true accuracy: 0.834322\n",
      "--- 4.267671823501587 seconds ---\n",
      "theta: [[-0.05936399  1.30062795  0.96274418  2.73014641  1.45197475  0.52063638\n",
      "   1.16856217  0.94701153 -0.0327994  -0.09631725  2.73885679  1.49283242\n",
      "  -0.38809827  0.48474666  1.34593332  0.41327327 -0.29142249 -0.16348794\n",
      "  -0.06911372]]\n",
      "--- 11.884518146514893 seconds ---\n",
      "epoch: 21 labeled loss: 0.0956131 unlabeled loss: 0.122453 accuracy: 0.831038 true unlabeled loss: 0.122194 true accuracy: 0.830085\n",
      "--- 4.3131420612335205 seconds ---\n",
      "theta: [[-0.07478844  1.29397213  0.92594635  2.78890729  1.48455179  0.45608088\n",
      "   1.16125441  0.93063641 -0.04222952 -0.11385635  2.75191212  1.45774055\n",
      "  -0.39534578  0.48862743  1.32509112  0.43621841 -0.29195121 -0.18261193\n",
      "  -0.11144246]]\n",
      "--- 15.043086051940918 seconds ---\n",
      "epoch: 22 labeled loss: 0.0955714 unlabeled loss: 0.122519 accuracy: 0.831 true unlabeled loss: 0.122262 true accuracy: 0.832627\n",
      "--- 4.917492151260376 seconds ---\n",
      "theta: [[-0.08862055  1.2971698   0.88805264  2.84413433  1.50698161  0.39588127\n",
      "   1.14387989  0.92157745 -0.0508109  -0.12949935  2.75921226  1.43176639\n",
      "  -0.39792937  0.49496734  1.30459428  0.46054778 -0.28642642 -0.20160188\n",
      "  -0.14684054]]\n",
      "--- 12.843178033828735 seconds ---\n",
      "epoch: 23 labeled loss: 0.0955046 unlabeled loss: 0.122611 accuracy: 0.830553 true unlabeled loss: 0.122356 true accuracy: 0.83178\n",
      "--- 4.38328218460083 seconds ---\n",
      "theta: [[-0.10099865  1.30859685  0.85076964  2.89574862  1.51924539  0.3409006\n",
      "   1.12006259  0.91929257 -0.05863588 -0.14329658  2.76134562  1.41440558\n",
      "  -0.39606044  0.50384557  1.28705132  0.48421597 -0.27527732 -0.21984062\n",
      "  -0.17471315]]\n",
      "--- 13.424837827682495 seconds ---\n",
      "epoch: 24 labeled loss: 0.0954237 unlabeled loss: 0.122717 accuracy: 0.834385 true unlabeled loss: 0.122463 true accuracy: 0.830508\n",
      "--- 8.976397037506104 seconds ---\n",
      "theta: [[-0.11207576  1.32648587  0.81558549  2.94377255  1.52192199  0.29159835\n",
      "   1.09362888  0.92307049 -0.06582057 -0.15527035  2.75868177  1.40459943\n",
      "  -0.38999587  0.51524746  1.274845    0.50458342 -0.25911424 -0.23618117\n",
      "  -0.19467883]]\n",
      "--- 15.738118886947632 seconds ---\n",
      "epoch: 25 labeled loss: 0.0953303 unlabeled loss: 0.122822 accuracy: 0.829767 true unlabeled loss: 0.12257 true accuracy: 0.830085\n",
      "--- 6.433682918548584 seconds ---\n",
      "theta: [[-0.12201246  1.34907043  0.78367126  2.9883008   1.51604116  0.2480382\n",
      "   1.06826341  0.93210757 -0.07250234 -0.16542535  2.75141072  1.40099168\n",
      "  -0.38004589  0.5290904   1.269858    0.51881349 -0.23868437 -0.24908072\n",
      "  -0.20663336]]\n",
      "--- 13.93276333808899 seconds ---\n",
      "epoch: 26 labeled loss: 0.095218 unlabeled loss: 0.122914 accuracy: 0.830255 true unlabeled loss: 0.122664 true accuracy: 0.830508\n",
      "--- 4.679796934127808 seconds ---\n",
      "theta: [[-0.13096517  1.37468231  0.75581974  3.02947593  1.50291991  0.2099494\n",
      "   1.04715848  0.9455688  -0.07883091 -0.17376103  2.73957658  1.40208972\n",
      "  -0.36657482  0.54525578  1.2732625   0.52461654 -0.21482603 -0.256834\n",
      "  -0.21077652]]\n",
      "--- 15.418401002883911 seconds ---\n",
      "epoch: 27 labeled loss: 0.0950777 unlabeled loss: 0.122986 accuracy: 0.829316 true unlabeled loss: 0.122736 true accuracy: 0.829661\n",
      "--- 6.47603702545166 seconds ---\n",
      "theta: [[-0.13907415  1.40181899  0.7324304   3.06746912  1.48402143  0.17682044\n",
      "   1.03268552  0.96261966 -0.08495738 -0.18028486  2.72311115  1.40638173\n",
      "  -0.34999591  0.56361639  1.28544557  0.52097183 -0.18842182 -0.2578975\n",
      "  -0.20759353]]\n",
      "--- 14.670274019241333 seconds ---\n",
      "epoch: 28 labeled loss: 0.0949039 unlabeled loss: 0.123038 accuracy: 0.829235 true unlabeled loss: 0.122788 true accuracy: 0.829661\n",
      "--- 4.468429088592529 seconds ---\n",
      "theta: [[-0.14645432  1.42918944  0.71353596  3.10246563  1.46084929  0.14800066\n",
      "   1.0262022   0.98243892 -0.0910259  -0.18502389  2.70187712  1.41244864\n",
      "  -0.3307628   0.58405167  1.30606151  0.50833941 -0.160354   -0.25122339\n",
      "  -0.19780622]]\n",
      "--- 15.67888617515564 seconds ---\n",
      "epoch: 29 labeled loss: 0.0946983 unlabeled loss: 0.123074 accuracy: 0.829025 true unlabeled loss: 0.122825 true accuracy: 0.830085\n",
      "--- 5.143355131149292 seconds ---\n",
      "theta: [[-0.15318975  1.4557339   0.69886047  3.13465452  1.4348731   0.12279107\n",
      "   1.02805066  1.00420904 -0.09716864 -0.18803217  2.67573524  1.41908264\n",
      "  -0.30935773  0.60644859  1.33415139  0.48832452 -0.13146392 -0.23648483\n",
      "  -0.18231046]]\n",
      "--- 12.875771045684814 seconds ---\n",
      "epoch: 30 labeled loss: 0.0944705 unlabeled loss: 0.123106 accuracy: 0.829777 true unlabeled loss: 0.122858 true accuracy: 0.830508\n",
      "--- 4.720455884933472 seconds ---\n",
      "theta: [[-0.15933174  1.48060203  0.68789476  3.16422176  1.40747797  0.10051589\n",
      "   1.0376972   1.0271008  -0.10350432 -0.18939351  2.64464307  1.42539358\n",
      "  -0.28627616  0.63069427  1.36826968  0.46314761 -0.10251807 -0.21411422\n",
      "  -0.16211511]]\n",
      "--- 13.221396923065186 seconds ---\n",
      "epoch: 31 labeled loss: 0.0942387 unlabeled loss: 0.123145 accuracy: 0.829723 true unlabeled loss: 0.122895 true accuracy: 0.830085\n",
      "--- 5.390004873275757 seconds ---\n",
      "theta: [[-0.16490051  1.50307226  0.67998105  3.19134426  1.37993348  0.08057395\n",
      "   1.05391884  1.05025625 -0.11013876 -0.18922035  2.6087954   1.43087101\n",
      "  -0.26200852  0.65666521  1.40658736  0.43519565 -0.0741841  -0.18518031\n",
      "  -0.13829087]]\n"
     ]
    },
    {
     "ename": "KeyboardInterrupt",
     "evalue": "",
     "output_type": "error",
     "traceback": [
      "\u001b[0;31m-------------------------\u001b[0m",
      "\u001b[0;31mKeyboardInterrupt\u001b[0mTraceback (most recent call last)",
      "\u001b[0;32m<ipython-input-23-e525315293d9>\u001b[0m in \u001b[0;36m<module>\u001b[0;34m()\u001b[0m\n\u001b[0;32m----> 1\u001b[0;31m \u001b[0mdlp_wrbf\u001b[0m\u001b[0;34m.\u001b[0m\u001b[0mtrain\u001b[0m\u001b[0;34m(\u001b[0m\u001b[0mdata\u001b[0m\u001b[0;34m,\u001b[0m\u001b[0mvalidation_data\u001b[0m\u001b[0;34m,\u001b[0m\u001b[0;36m200\u001b[0m\u001b[0;34m)\u001b[0m\u001b[0;34m\u001b[0m\u001b[0m\n\u001b[0m",
      "\u001b[0;32m~/projects/graph_based_semi_supervised_learning/model/DeepLP_WeightedRBF.py\u001b[0m in \u001b[0;36mtrain\u001b[0;34m(self, data, full_data, epochs)\u001b[0m\n\u001b[1;32m     44\u001b[0m     \u001b[0;32mdef\u001b[0m \u001b[0mtrain\u001b[0m\u001b[0;34m(\u001b[0m\u001b[0mself\u001b[0m\u001b[0;34m,\u001b[0m\u001b[0mdata\u001b[0m\u001b[0;34m,\u001b[0m\u001b[0mfull_data\u001b[0m\u001b[0;34m,\u001b[0m\u001b[0mepochs\u001b[0m\u001b[0;34m)\u001b[0m\u001b[0;34m:\u001b[0m\u001b[0;34m\u001b[0m\u001b[0m\n\u001b[1;32m     45\u001b[0m         \u001b[0mself\u001b[0m\u001b[0;34m.\u001b[0m\u001b[0mthetas\u001b[0m \u001b[0;34m=\u001b[0m \u001b[0;34m[\u001b[0m\u001b[0;34m]\u001b[0m\u001b[0;34m\u001b[0m\u001b[0m\n\u001b[0;32m---> 46\u001b[0;31m         \u001b[0msuper\u001b[0m\u001b[0;34m(\u001b[0m\u001b[0;34m)\u001b[0m\u001b[0;34m.\u001b[0m\u001b[0mtrain\u001b[0m\u001b[0;34m(\u001b[0m\u001b[0mdata\u001b[0m\u001b[0;34m,\u001b[0m\u001b[0mfull_data\u001b[0m\u001b[0;34m,\u001b[0m\u001b[0mepochs\u001b[0m\u001b[0;34m)\u001b[0m\u001b[0;34m\u001b[0m\u001b[0m\n\u001b[0m\u001b[1;32m     47\u001b[0m \u001b[0;34m\u001b[0m\u001b[0m\n\u001b[1;32m     48\u001b[0m     \u001b[0;31m# def labelprop(self,data,theta):\u001b[0m\u001b[0;34m\u001b[0m\u001b[0;34m\u001b[0m\u001b[0m\n",
      "\u001b[0;32m~/projects/graph_based_semi_supervised_learning/model/DeepLP_RBF.py\u001b[0m in \u001b[0;36mtrain\u001b[0;34m(self, data, full_data, epochs)\u001b[0m\n\u001b[1;32m     48\u001b[0m     \u001b[0;32mdef\u001b[0m \u001b[0mtrain\u001b[0m\u001b[0;34m(\u001b[0m\u001b[0mself\u001b[0m\u001b[0;34m,\u001b[0m\u001b[0mdata\u001b[0m\u001b[0;34m,\u001b[0m\u001b[0mfull_data\u001b[0m\u001b[0;34m,\u001b[0m\u001b[0mepochs\u001b[0m\u001b[0;34m)\u001b[0m\u001b[0;34m:\u001b[0m\u001b[0;34m\u001b[0m\u001b[0m\n\u001b[1;32m     49\u001b[0m         \u001b[0mself\u001b[0m\u001b[0;34m.\u001b[0m\u001b[0msigmas\u001b[0m \u001b[0;34m=\u001b[0m \u001b[0;34m[\u001b[0m\u001b[0;34m]\u001b[0m\u001b[0;34m\u001b[0m\u001b[0m\n\u001b[0;32m---> 50\u001b[0;31m         \u001b[0msuper\u001b[0m\u001b[0;34m(\u001b[0m\u001b[0;34m)\u001b[0m\u001b[0;34m.\u001b[0m\u001b[0mtrain\u001b[0m\u001b[0;34m(\u001b[0m\u001b[0mdata\u001b[0m\u001b[0;34m,\u001b[0m\u001b[0mfull_data\u001b[0m\u001b[0;34m,\u001b[0m\u001b[0mepochs\u001b[0m\u001b[0;34m)\u001b[0m\u001b[0;34m\u001b[0m\u001b[0m\n\u001b[0m\u001b[1;32m     51\u001b[0m \u001b[0;34m\u001b[0m\u001b[0m\n\u001b[1;32m     52\u001b[0m     \u001b[0;31m# def labelprop(self,data,sigma):\u001b[0m\u001b[0;34m\u001b[0m\u001b[0;34m\u001b[0m\u001b[0m\n",
      "\u001b[0;32m~/projects/graph_based_semi_supervised_learning/model/DeepLP.py\u001b[0m in \u001b[0;36mtrain\u001b[0;34m(self, data, validation_data, epochs)\u001b[0m\n\u001b[1;32m    220\u001b[0m         \u001b[0;32mfor\u001b[0m \u001b[0mepoch\u001b[0m \u001b[0;32min\u001b[0m \u001b[0mrange\u001b[0m\u001b[0;34m(\u001b[0m\u001b[0mepochs\u001b[0m\u001b[0;34m)\u001b[0m\u001b[0;34m:\u001b[0m\u001b[0;34m\u001b[0m\u001b[0m\n\u001b[1;32m    221\u001b[0m             \u001b[0;31m# Train with each example\u001b[0m\u001b[0;34m\u001b[0m\u001b[0;34m\u001b[0m\u001b[0m\n\u001b[0;32m--> 222\u001b[0;31m             \u001b[0mself\u001b[0m\u001b[0;34m.\u001b[0m\u001b[0m_eval\u001b[0m\u001b[0;34m(\u001b[0m\u001b[0mself\u001b[0m\u001b[0;34m.\u001b[0m\u001b[0mupdate\u001b[0m\u001b[0;34m,\u001b[0m\u001b[0mdata\u001b[0m\u001b[0;34m)\u001b[0m\u001b[0;34m\u001b[0m\u001b[0m\n\u001b[0m\u001b[1;32m    223\u001b[0m             \u001b[0mprint\u001b[0m\u001b[0;34m(\u001b[0m\u001b[0;34m\"--- %s seconds ---\"\u001b[0m \u001b[0;34m%\u001b[0m \u001b[0;34m(\u001b[0m\u001b[0mtime\u001b[0m\u001b[0;34m.\u001b[0m\u001b[0mtime\u001b[0m\u001b[0;34m(\u001b[0m\u001b[0;34m)\u001b[0m \u001b[0;34m-\u001b[0m \u001b[0mself\u001b[0m\u001b[0;34m.\u001b[0m\u001b[0mstart_time\u001b[0m\u001b[0;34m)\u001b[0m\u001b[0;34m)\u001b[0m\u001b[0;34m\u001b[0m\u001b[0m\n\u001b[1;32m    224\u001b[0m             \u001b[0mself\u001b[0m\u001b[0;34m.\u001b[0m\u001b[0mstart_time\u001b[0m \u001b[0;34m=\u001b[0m \u001b[0mtime\u001b[0m\u001b[0;34m.\u001b[0m\u001b[0mtime\u001b[0m\u001b[0;34m(\u001b[0m\u001b[0;34m)\u001b[0m\u001b[0;34m\u001b[0m\u001b[0m\n",
      "\u001b[0;32m~/projects/graph_based_semi_supervised_learning/model/DeepLP.py\u001b[0m in \u001b[0;36m_eval\u001b[0;34m(self, vals, data)\u001b[0m\n\u001b[1;32m    182\u001b[0m                                               \u001b[0mself\u001b[0m\u001b[0;34m.\u001b[0m\u001b[0mlabeled\u001b[0m\u001b[0;34m:\u001b[0m\u001b[0mdata\u001b[0m\u001b[0;34m[\u001b[0m\u001b[0;34m'labeled'\u001b[0m\u001b[0;34m]\u001b[0m\u001b[0;34m,\u001b[0m\u001b[0;34m\u001b[0m\u001b[0m\n\u001b[1;32m    183\u001b[0m                                               \u001b[0mself\u001b[0m\u001b[0;34m.\u001b[0m\u001b[0mtrue_labeled\u001b[0m\u001b[0;34m:\u001b[0m\u001b[0mdata\u001b[0m\u001b[0;34m[\u001b[0m\u001b[0;34m'true_labeled'\u001b[0m\u001b[0;34m]\u001b[0m\u001b[0;34m,\u001b[0m\u001b[0;34m\u001b[0m\u001b[0m\n\u001b[0;32m--> 184\u001b[0;31m                                               self.masked:data['masked']})\n\u001b[0m\u001b[1;32m    185\u001b[0m \u001b[0;34m\u001b[0m\u001b[0m\n\u001b[1;32m    186\u001b[0m     \u001b[0;32mdef\u001b[0m \u001b[0m_save_params\u001b[0m\u001b[0;34m(\u001b[0m\u001b[0mself\u001b[0m\u001b[0;34m,\u001b[0m\u001b[0mepoch\u001b[0m\u001b[0;34m,\u001b[0m\u001b[0mdata\u001b[0m\u001b[0;34m,\u001b[0m\u001b[0mn\u001b[0m\u001b[0;34m)\u001b[0m\u001b[0;34m:\u001b[0m\u001b[0;34m\u001b[0m\u001b[0m\n",
      "\u001b[0;32m~/anaconda/envs/ml/lib/python3.6/site-packages/tensorflow/python/client/session.py\u001b[0m in \u001b[0;36mrun\u001b[0;34m(self, fetches, feed_dict, options, run_metadata)\u001b[0m\n\u001b[1;32m    776\u001b[0m     \u001b[0;32mtry\u001b[0m\u001b[0;34m:\u001b[0m\u001b[0;34m\u001b[0m\u001b[0m\n\u001b[1;32m    777\u001b[0m       result = self._run(None, fetches, feed_dict, options_ptr,\n\u001b[0;32m--> 778\u001b[0;31m                          run_metadata_ptr)\n\u001b[0m\u001b[1;32m    779\u001b[0m       \u001b[0;32mif\u001b[0m \u001b[0mrun_metadata\u001b[0m\u001b[0;34m:\u001b[0m\u001b[0;34m\u001b[0m\u001b[0m\n\u001b[1;32m    780\u001b[0m         \u001b[0mproto_data\u001b[0m \u001b[0;34m=\u001b[0m \u001b[0mtf_session\u001b[0m\u001b[0;34m.\u001b[0m\u001b[0mTF_GetBuffer\u001b[0m\u001b[0;34m(\u001b[0m\u001b[0mrun_metadata_ptr\u001b[0m\u001b[0;34m)\u001b[0m\u001b[0;34m\u001b[0m\u001b[0m\n",
      "\u001b[0;32m~/anaconda/envs/ml/lib/python3.6/site-packages/tensorflow/python/client/session.py\u001b[0m in \u001b[0;36m_run\u001b[0;34m(self, handle, fetches, feed_dict, options, run_metadata)\u001b[0m\n\u001b[1;32m    980\u001b[0m     \u001b[0;32mif\u001b[0m \u001b[0mfinal_fetches\u001b[0m \u001b[0;32mor\u001b[0m \u001b[0mfinal_targets\u001b[0m\u001b[0;34m:\u001b[0m\u001b[0;34m\u001b[0m\u001b[0m\n\u001b[1;32m    981\u001b[0m       results = self._do_run(handle, final_targets, final_fetches,\n\u001b[0;32m--> 982\u001b[0;31m                              feed_dict_string, options, run_metadata)\n\u001b[0m\u001b[1;32m    983\u001b[0m     \u001b[0;32melse\u001b[0m\u001b[0;34m:\u001b[0m\u001b[0;34m\u001b[0m\u001b[0m\n\u001b[1;32m    984\u001b[0m       \u001b[0mresults\u001b[0m \u001b[0;34m=\u001b[0m \u001b[0;34m[\u001b[0m\u001b[0;34m]\u001b[0m\u001b[0;34m\u001b[0m\u001b[0m\n",
      "\u001b[0;32m~/anaconda/envs/ml/lib/python3.6/site-packages/tensorflow/python/client/session.py\u001b[0m in \u001b[0;36m_do_run\u001b[0;34m(self, handle, target_list, fetch_list, feed_dict, options, run_metadata)\u001b[0m\n\u001b[1;32m   1030\u001b[0m     \u001b[0;32mif\u001b[0m \u001b[0mhandle\u001b[0m \u001b[0;32mis\u001b[0m \u001b[0;32mNone\u001b[0m\u001b[0;34m:\u001b[0m\u001b[0;34m\u001b[0m\u001b[0m\n\u001b[1;32m   1031\u001b[0m       return self._do_call(_run_fn, self._session, feed_dict, fetch_list,\n\u001b[0;32m-> 1032\u001b[0;31m                            target_list, options, run_metadata)\n\u001b[0m\u001b[1;32m   1033\u001b[0m     \u001b[0;32melse\u001b[0m\u001b[0;34m:\u001b[0m\u001b[0;34m\u001b[0m\u001b[0m\n\u001b[1;32m   1034\u001b[0m       return self._do_call(_prun_fn, self._session, handle, feed_dict,\n",
      "\u001b[0;32m~/anaconda/envs/ml/lib/python3.6/site-packages/tensorflow/python/client/session.py\u001b[0m in \u001b[0;36m_do_call\u001b[0;34m(self, fn, *args)\u001b[0m\n\u001b[1;32m   1037\u001b[0m   \u001b[0;32mdef\u001b[0m \u001b[0m_do_call\u001b[0m\u001b[0;34m(\u001b[0m\u001b[0mself\u001b[0m\u001b[0;34m,\u001b[0m \u001b[0mfn\u001b[0m\u001b[0;34m,\u001b[0m \u001b[0;34m*\u001b[0m\u001b[0margs\u001b[0m\u001b[0;34m)\u001b[0m\u001b[0;34m:\u001b[0m\u001b[0;34m\u001b[0m\u001b[0m\n\u001b[1;32m   1038\u001b[0m     \u001b[0;32mtry\u001b[0m\u001b[0;34m:\u001b[0m\u001b[0;34m\u001b[0m\u001b[0m\n\u001b[0;32m-> 1039\u001b[0;31m       \u001b[0;32mreturn\u001b[0m \u001b[0mfn\u001b[0m\u001b[0;34m(\u001b[0m\u001b[0;34m*\u001b[0m\u001b[0margs\u001b[0m\u001b[0;34m)\u001b[0m\u001b[0;34m\u001b[0m\u001b[0m\n\u001b[0m\u001b[1;32m   1040\u001b[0m     \u001b[0;32mexcept\u001b[0m \u001b[0merrors\u001b[0m\u001b[0;34m.\u001b[0m\u001b[0mOpError\u001b[0m \u001b[0;32mas\u001b[0m \u001b[0me\u001b[0m\u001b[0;34m:\u001b[0m\u001b[0;34m\u001b[0m\u001b[0m\n\u001b[1;32m   1041\u001b[0m       \u001b[0mmessage\u001b[0m \u001b[0;34m=\u001b[0m \u001b[0mcompat\u001b[0m\u001b[0;34m.\u001b[0m\u001b[0mas_text\u001b[0m\u001b[0;34m(\u001b[0m\u001b[0me\u001b[0m\u001b[0;34m.\u001b[0m\u001b[0mmessage\u001b[0m\u001b[0;34m)\u001b[0m\u001b[0;34m\u001b[0m\u001b[0m\n",
      "\u001b[0;32m~/anaconda/envs/ml/lib/python3.6/site-packages/tensorflow/python/client/session.py\u001b[0m in \u001b[0;36m_run_fn\u001b[0;34m(session, feed_dict, fetch_list, target_list, options, run_metadata)\u001b[0m\n\u001b[1;32m   1019\u001b[0m         return tf_session.TF_Run(session, options,\n\u001b[1;32m   1020\u001b[0m                                  \u001b[0mfeed_dict\u001b[0m\u001b[0;34m,\u001b[0m \u001b[0mfetch_list\u001b[0m\u001b[0;34m,\u001b[0m \u001b[0mtarget_list\u001b[0m\u001b[0;34m,\u001b[0m\u001b[0;34m\u001b[0m\u001b[0m\n\u001b[0;32m-> 1021\u001b[0;31m                                  status, run_metadata)\n\u001b[0m\u001b[1;32m   1022\u001b[0m \u001b[0;34m\u001b[0m\u001b[0m\n\u001b[1;32m   1023\u001b[0m     \u001b[0;32mdef\u001b[0m \u001b[0m_prun_fn\u001b[0m\u001b[0;34m(\u001b[0m\u001b[0msession\u001b[0m\u001b[0;34m,\u001b[0m \u001b[0mhandle\u001b[0m\u001b[0;34m,\u001b[0m \u001b[0mfeed_dict\u001b[0m\u001b[0;34m,\u001b[0m \u001b[0mfetch_list\u001b[0m\u001b[0;34m)\u001b[0m\u001b[0;34m:\u001b[0m\u001b[0;34m\u001b[0m\u001b[0m\n",
      "\u001b[0;31mKeyboardInterrupt\u001b[0m: "
     ]
    }
   ],
   "source": [
    "dlp_wrbf.train(data,validation_data,200)"
   ]
  },
  {
   "cell_type": "code",
   "execution_count": 24,
   "metadata": {
    "collapsed": false
   },
   "outputs": [
    {
     "data": {
      "image/png": "[encoded data removed]",
      "text/plain": [
       "<matplotlib.figure.Figure at 0x11dd481d0>"
      ]
     },
     "metadata": {},
     "output_type": "display_data"
    },
    {
     "data": {
      "image/png": "[encoded data removed]",
      "text/plain": [
       "<matplotlib.figure.Figure at 0x10e2f3f98>"
      ]
     },
     "metadata": {},
     "output_type": "display_data"
    },
    {
     "ename": "ValueError",
     "evalue": "x and y can be no greater than 2-D, but have shapes (33,) and (33, 1, 19)",
     "output_type": "error",
     "traceback": [
      "\u001b[0;31m-------------------------\u001b[0m",
      "\u001b[0;31mValueError\u001b[0mTraceback (most recent call last)",
      "\u001b[0;32m<ipython-input-24-fb9f9d124a8b>\u001b[0m in \u001b[0;36m<module>\u001b[0;34m()\u001b[0m\n\u001b[0;32m----> 1\u001b[0;31m \u001b[0mdlp_wrbf\u001b[0m\u001b[0;34m.\u001b[0m\u001b[0mplot\u001b[0m\u001b[0;34m(\u001b[0m\u001b[0;34m)\u001b[0m\u001b[0;34m\u001b[0m\u001b[0m\n\u001b[0m",
      "\u001b[0;32m~/projects/graph_based_semi_supervised_learning/model/DeepLP.py\u001b[0m in \u001b[0;36mplot\u001b[0;34m(self)\u001b[0m\n\u001b[1;32m    247\u001b[0m         \u001b[0mself\u001b[0m\u001b[0;34m.\u001b[0m\u001b[0m_plot_loss\u001b[0m\u001b[0;34m(\u001b[0m\u001b[0;34m)\u001b[0m\u001b[0;34m\u001b[0m\u001b[0m\n\u001b[1;32m    248\u001b[0m         \u001b[0mself\u001b[0m\u001b[0;34m.\u001b[0m\u001b[0m_plot_accuracy\u001b[0m\u001b[0;34m(\u001b[0m\u001b[0;34m)\u001b[0m\u001b[0;34m\u001b[0m\u001b[0m\n\u001b[0;32m--> 249\u001b[0;31m         \u001b[0mself\u001b[0m\u001b[0;34m.\u001b[0m\u001b[0m_plot_params\u001b[0m\u001b[0;34m(\u001b[0m\u001b[0;34m)\u001b[0m\u001b[0;34m\u001b[0m\u001b[0m\n\u001b[0m",
      "\u001b[0;32m~/projects/graph_based_semi_supervised_learning/model/DeepLP_WeightedRBF.py\u001b[0m in \u001b[0;36m_plot_params\u001b[0;34m(self)\u001b[0m\n\u001b[1;32m     55\u001b[0m \u001b[0;34m\u001b[0m\u001b[0m\n\u001b[1;32m     56\u001b[0m     \u001b[0;32mdef\u001b[0m \u001b[0m_plot_params\u001b[0m\u001b[0;34m(\u001b[0m\u001b[0mself\u001b[0m\u001b[0;34m)\u001b[0m\u001b[0;34m:\u001b[0m\u001b[0;34m\u001b[0m\u001b[0m\n\u001b[0;32m---> 57\u001b[0;31m         \u001b[0mplt\u001b[0m\u001b[0;34m.\u001b[0m\u001b[0mplot\u001b[0m\u001b[0;34m(\u001b[0m\u001b[0mself\u001b[0m\u001b[0;34m.\u001b[0m\u001b[0mthetas\u001b[0m\u001b[0;34m)\u001b[0m\u001b[0;34m\u001b[0m\u001b[0m\n\u001b[0m\u001b[1;32m     58\u001b[0m         \u001b[0mplt\u001b[0m\u001b[0;34m.\u001b[0m\u001b[0mtitle\u001b[0m\u001b[0;34m(\u001b[0m\u001b[0;34m\"parameters\"\u001b[0m\u001b[0;34m)\u001b[0m\u001b[0;34m\u001b[0m\u001b[0m\n\u001b[1;32m     59\u001b[0m         \u001b[0mplt\u001b[0m\u001b[0;34m.\u001b[0m\u001b[0mshow\u001b[0m\u001b[0;34m(\u001b[0m\u001b[0;34m)\u001b[0m\u001b[0;34m\u001b[0m\u001b[0m\n",
      "\u001b[0;32m~/anaconda/envs/ml/lib/python3.6/site-packages/matplotlib/pyplot.py\u001b[0m in \u001b[0;36mplot\u001b[0;34m(*args, **kwargs)\u001b[0m\n\u001b[1;32m   3238\u001b[0m                       mplDeprecation)\n\u001b[1;32m   3239\u001b[0m     \u001b[0;32mtry\u001b[0m\u001b[0;34m:\u001b[0m\u001b[0;34m\u001b[0m\u001b[0m\n\u001b[0;32m-> 3240\u001b[0;31m         \u001b[0mret\u001b[0m \u001b[0;34m=\u001b[0m \u001b[0max\u001b[0m\u001b[0;34m.\u001b[0m\u001b[0mplot\u001b[0m\u001b[0;34m(\u001b[0m\u001b[0;34m*\u001b[0m\u001b[0margs\u001b[0m\u001b[0;34m,\u001b[0m \u001b[0;34m**\u001b[0m\u001b[0mkwargs\u001b[0m\u001b[0;34m)\u001b[0m\u001b[0;34m\u001b[0m\u001b[0m\n\u001b[0m\u001b[1;32m   3241\u001b[0m     \u001b[0;32mfinally\u001b[0m\u001b[0;34m:\u001b[0m\u001b[0;34m\u001b[0m\u001b[0m\n\u001b[1;32m   3242\u001b[0m         \u001b[0max\u001b[0m\u001b[0;34m.\u001b[0m\u001b[0m_hold\u001b[0m \u001b[0;34m=\u001b[0m \u001b[0mwashold\u001b[0m\u001b[0;34m\u001b[0m\u001b[0m\n",
      "\u001b[0;32m~/anaconda/envs/ml/lib/python3.6/site-packages/matplotlib/__init__.py\u001b[0m in \u001b[0;36minner\u001b[0;34m(ax, *args, **kwargs)\u001b[0m\n\u001b[1;32m   1708\u001b[0m                     warnings.warn(msg % (label_namer, func.__name__),\n\u001b[1;32m   1709\u001b[0m                                   RuntimeWarning, stacklevel=2)\n\u001b[0;32m-> 1710\u001b[0;31m             \u001b[0;32mreturn\u001b[0m \u001b[0mfunc\u001b[0m\u001b[0;34m(\u001b[0m\u001b[0max\u001b[0m\u001b[0;34m,\u001b[0m \u001b[0;34m*\u001b[0m\u001b[0margs\u001b[0m\u001b[0;34m,\u001b[0m \u001b[0;34m**\u001b[0m\u001b[0mkwargs\u001b[0m\u001b[0;34m)\u001b[0m\u001b[0;34m\u001b[0m\u001b[0m\n\u001b[0m\u001b[1;32m   1711\u001b[0m         \u001b[0mpre_doc\u001b[0m \u001b[0;34m=\u001b[0m \u001b[0minner\u001b[0m\u001b[0;34m.\u001b[0m\u001b[0m__doc__\u001b[0m\u001b[0;34m\u001b[0m\u001b[0m\n\u001b[1;32m   1712\u001b[0m         \u001b[0;32mif\u001b[0m \u001b[0mpre_doc\u001b[0m \u001b[0;32mis\u001b[0m \u001b[0;32mNone\u001b[0m\u001b[0;34m:\u001b[0m\u001b[0;34m\u001b[0m\u001b[0m\n",
      "\u001b[0;32m~/anaconda/envs/ml/lib/python3.6/site-packages/matplotlib/axes/_axes.py\u001b[0m in \u001b[0;36mplot\u001b[0;34m(self, *args, **kwargs)\u001b[0m\n\u001b[1;32m   1435\u001b[0m         \u001b[0mkwargs\u001b[0m \u001b[0;34m=\u001b[0m \u001b[0mcbook\u001b[0m\u001b[0;34m.\u001b[0m\u001b[0mnormalize_kwargs\u001b[0m\u001b[0;34m(\u001b[0m\u001b[0mkwargs\u001b[0m\u001b[0;34m,\u001b[0m \u001b[0m_alias_map\u001b[0m\u001b[0;34m)\u001b[0m\u001b[0;34m\u001b[0m\u001b[0m\n\u001b[1;32m   1436\u001b[0m \u001b[0;34m\u001b[0m\u001b[0m\n\u001b[0;32m-> 1437\u001b[0;31m         \u001b[0;32mfor\u001b[0m \u001b[0mline\u001b[0m \u001b[0;32min\u001b[0m \u001b[0mself\u001b[0m\u001b[0;34m.\u001b[0m\u001b[0m_get_lines\u001b[0m\u001b[0;34m(\u001b[0m\u001b[0;34m*\u001b[0m\u001b[0margs\u001b[0m\u001b[0;34m,\u001b[0m \u001b[0;34m**\u001b[0m\u001b[0mkwargs\u001b[0m\u001b[0;34m)\u001b[0m\u001b[0;34m:\u001b[0m\u001b[0;34m\u001b[0m\u001b[0m\n\u001b[0m\u001b[1;32m   1438\u001b[0m             \u001b[0mself\u001b[0m\u001b[0;34m.\u001b[0m\u001b[0madd_line\u001b[0m\u001b[0;34m(\u001b[0m\u001b[0mline\u001b[0m\u001b[0;34m)\u001b[0m\u001b[0;34m\u001b[0m\u001b[0m\n\u001b[1;32m   1439\u001b[0m             \u001b[0mlines\u001b[0m\u001b[0;34m.\u001b[0m\u001b[0mappend\u001b[0m\u001b[0;34m(\u001b[0m\u001b[0mline\u001b[0m\u001b[0;34m)\u001b[0m\u001b[0;34m\u001b[0m\u001b[0m\n",
      "\u001b[0;32m~/anaconda/envs/ml/lib/python3.6/site-packages/matplotlib/axes/_base.py\u001b[0m in \u001b[0;36m_grab_next_args\u001b[0;34m(self, *args, **kwargs)\u001b[0m\n\u001b[1;32m    402\u001b[0m                 \u001b[0mthis\u001b[0m \u001b[0;34m+=\u001b[0m \u001b[0margs\u001b[0m\u001b[0;34m[\u001b[0m\u001b[0;36m0\u001b[0m\u001b[0;34m]\u001b[0m\u001b[0;34m,\u001b[0m\u001b[0;34m\u001b[0m\u001b[0m\n\u001b[1;32m    403\u001b[0m                 \u001b[0margs\u001b[0m \u001b[0;34m=\u001b[0m \u001b[0margs\u001b[0m\u001b[0;34m[\u001b[0m\u001b[0;36m1\u001b[0m\u001b[0;34m:\u001b[0m\u001b[0;34m]\u001b[0m\u001b[0;34m\u001b[0m\u001b[0m\n\u001b[0;32m--> 404\u001b[0;31m             \u001b[0;32mfor\u001b[0m \u001b[0mseg\u001b[0m \u001b[0;32min\u001b[0m \u001b[0mself\u001b[0m\u001b[0;34m.\u001b[0m\u001b[0m_plot_args\u001b[0m\u001b[0;34m(\u001b[0m\u001b[0mthis\u001b[0m\u001b[0;34m,\u001b[0m \u001b[0mkwargs\u001b[0m\u001b[0;34m)\u001b[0m\u001b[0;34m:\u001b[0m\u001b[0;34m\u001b[0m\u001b[0m\n\u001b[0m\u001b[1;32m    405\u001b[0m                 \u001b[0;32myield\u001b[0m \u001b[0mseg\u001b[0m\u001b[0;34m\u001b[0m\u001b[0m\n\u001b[1;32m    406\u001b[0m \u001b[0;34m\u001b[0m\u001b[0m\n",
      "\u001b[0;32m~/anaconda/envs/ml/lib/python3.6/site-packages/matplotlib/axes/_base.py\u001b[0m in \u001b[0;36m_plot_args\u001b[0;34m(self, tup, kwargs)\u001b[0m\n\u001b[1;32m    382\u001b[0m             \u001b[0mx\u001b[0m\u001b[0;34m,\u001b[0m \u001b[0my\u001b[0m \u001b[0;34m=\u001b[0m \u001b[0mindex_of\u001b[0m\u001b[0;34m(\u001b[0m\u001b[0mtup\u001b[0m\u001b[0;34m[\u001b[0m\u001b[0;34m-\u001b[0m\u001b[0;36m1\u001b[0m\u001b[0;34m]\u001b[0m\u001b[0;34m)\u001b[0m\u001b[0;34m\u001b[0m\u001b[0m\n\u001b[1;32m    383\u001b[0m \u001b[0;34m\u001b[0m\u001b[0m\n\u001b[0;32m--> 384\u001b[0;31m         \u001b[0mx\u001b[0m\u001b[0;34m,\u001b[0m \u001b[0my\u001b[0m \u001b[0;34m=\u001b[0m \u001b[0mself\u001b[0m\u001b[0;34m.\u001b[0m\u001b[0m_xy_from_xy\u001b[0m\u001b[0;34m(\u001b[0m\u001b[0mx\u001b[0m\u001b[0;34m,\u001b[0m \u001b[0my\u001b[0m\u001b[0;34m)\u001b[0m\u001b[0;34m\u001b[0m\u001b[0m\n\u001b[0m\u001b[1;32m    385\u001b[0m \u001b[0;34m\u001b[0m\u001b[0m\n\u001b[1;32m    386\u001b[0m         \u001b[0;32mif\u001b[0m \u001b[0mself\u001b[0m\u001b[0;34m.\u001b[0m\u001b[0mcommand\u001b[0m \u001b[0;34m==\u001b[0m \u001b[0;34m'plot'\u001b[0m\u001b[0;34m:\u001b[0m\u001b[0;34m\u001b[0m\u001b[0m\n",
      "\u001b[0;32m~/anaconda/envs/ml/lib/python3.6/site-packages/matplotlib/axes/_base.py\u001b[0m in \u001b[0;36m_xy_from_xy\u001b[0;34m(self, x, y)\u001b[0m\n\u001b[1;32m    244\u001b[0m         \u001b[0;32mif\u001b[0m \u001b[0mx\u001b[0m\u001b[0;34m.\u001b[0m\u001b[0mndim\u001b[0m \u001b[0;34m>\u001b[0m \u001b[0;36m2\u001b[0m \u001b[0;32mor\u001b[0m \u001b[0my\u001b[0m\u001b[0;34m.\u001b[0m\u001b[0mndim\u001b[0m \u001b[0;34m>\u001b[0m \u001b[0;36m2\u001b[0m\u001b[0;34m:\u001b[0m\u001b[0;34m\u001b[0m\u001b[0m\n\u001b[1;32m    245\u001b[0m             raise ValueError(\"x and y can be no greater than 2-D, but have \"\n\u001b[0;32m--> 246\u001b[0;31m                              \"shapes {} and {}\".format(x.shape, y.shape))\n\u001b[0m\u001b[1;32m    247\u001b[0m \u001b[0;34m\u001b[0m\u001b[0m\n\u001b[1;32m    248\u001b[0m         \u001b[0;32mif\u001b[0m \u001b[0mx\u001b[0m\u001b[0;34m.\u001b[0m\u001b[0mndim\u001b[0m \u001b[0;34m==\u001b[0m \u001b[0;36m1\u001b[0m\u001b[0;34m:\u001b[0m\u001b[0;34m\u001b[0m\u001b[0m\n",
      "\u001b[0;31mValueError\u001b[0m: x and y can be no greater than 2-D, but have shapes (33,) and (33, 1, 19)"
     ]
    },
    {
     "data": {
      "image/png": "[encoded data removed]",
      "text/plain": [
       "<matplotlib.figure.Figure at 0x11b3d20b8>"
      ]
     },
     "metadata": {},
     "output_type": "display_data"
    }
   ],
   "source": [
    "dlp_wrbf.plot()"
   ]
  },
  {
   "cell_type": "code",
   "execution_count": 25,
   "metadata": {
    "collapsed": false
   },
   "outputs": [],
   "source": [
    "a = dlp_wrbf.thetas"
   ]
  },
  {
   "cell_type": "code",
   "execution_count": 26,
   "metadata": {
    "collapsed": false
   },
   "outputs": [],
   "source": [
    "res=[]\n",
    "for el in a:\n",
    "    res.append(list(el[0]))"
   ]
  },
  {
   "cell_type": "code",
   "execution_count": 27,
   "metadata": {
    "collapsed": false
   },
   "outputs": [],
   "source": [
    "a = np.array(res)"
   ]
  },
  {
   "cell_type": "code",
   "execution_count": 28,
   "metadata": {
    "collapsed": false
   },
   "outputs": [
    {
     "data": {
      "text/plain": [
       "[<matplotlib.lines.Line2D at 0x11d9abfd0>,\n",
       " <matplotlib.lines.Line2D at 0x11d9b6208>,\n",
       " <matplotlib.lines.Line2D at 0x11d9b6358>,\n",
       " <matplotlib.lines.Line2D at 0x11d9b64a8>,\n",
       " <matplotlib.lines.Line2D at 0x11d9b65f8>,\n",
       " <matplotlib.lines.Line2D at 0x11d9b6748>,\n",
       " <matplotlib.lines.Line2D at 0x11d9b6898>,\n",
       " <matplotlib.lines.Line2D at 0x11d9b69e8>,\n",
       " <matplotlib.lines.Line2D at 0x11d9b6b38>,\n",
       " <matplotlib.lines.Line2D at 0x11d9b6c88>,\n",
       " <matplotlib.lines.Line2D at 0x11d993128>,\n",
       " <matplotlib.lines.Line2D at 0x11d9b6ef0>,\n",
       " <matplotlib.lines.Line2D at 0x11d9bc080>,\n",
       " <matplotlib.lines.Line2D at 0x11d9bc1d0>,\n",
       " <matplotlib.lines.Line2D at 0x11d9bc320>,\n",
       " <matplotlib.lines.Line2D at 0x11d9bc470>,\n",
       " <matplotlib.lines.Line2D at 0x11d9bc5c0>,\n",
       " <matplotlib.lines.Line2D at 0x11d9bc710>,\n",
       " <matplotlib.lines.Line2D at 0x11d9bc860>]"
      ]
     },
     "execution_count": 28,
     "metadata": {},
     "output_type": "execute_result"
    },
    {
     "data": {
      "image/png": "[encoded data removed]",
      "text/plain": [
       "<matplotlib.figure.Figure at 0x11c433e48>"
      ]
     },
     "metadata": {},
     "output_type": "display_data"
    }
   ],
   "source": [
    "plt.plot(a)"
   ]
  },
  {
   "cell_type": "code",
   "execution_count": 9,
   "metadata": {
    "collapsed": false
   },
   "outputs": [],
   "source": [
    "sigmas = [i for i in np.arange(0.1,5,0.1)]"
   ]
  },
  {
   "cell_type": "code",
   "execution_count": 13,
   "metadata": {
    "collapsed": false
   },
   "outputs": [],
   "source": [
    "from scipy.spatial.distance import pdist, squareform\n",
    "import scipy as sp\n",
    "def rbf_kernel(X,theta,s=3,G=[],percentile=3):\n",
    "    '''\n",
    "    Use RBF kernel to calculate the weights of edges.\n",
    "    If given a graph G, drop edges not in G.\n",
    "    If not, drop edges that are not in the top percentile.\n",
    "    '''\n",
    "    # use rbf kernel to estimate weights\n",
    "    X = theta * X\n",
    "    pairwise_dists = squareform(pdist(X, 'euclidean'))\n",
    "    K = sp.exp(-pairwise_dists ** 2 / s ** 2)\n",
    "#     X = theta * X\n",
    "#     norm = (np.sum(np.abs(X)**2,axis=-1)**(1./2)).reshape(1,2485)\n",
    "#     K = np.exp((1 - X @ X.T / (norm.T @ norm) * s ** 2))\n",
    "\n",
    "    if G == []:\n",
    "        print('graph constructed')\n",
    "        threshold = np.percentile(K,percentile)\n",
    "        np.fill_diagonal(K, 0)\n",
    "\n",
    "        Knew = (K * K > threshold)\n",
    "        argmax = np.argmax(K,axis=1)\n",
    "        Knew[np.arange(len(K)), argmax] = K[np.arange(len(K)), argmax]\n",
    "        Knew[argmax,np.arange(len(K))] = K[np.arange(len(K)), argmax]\n",
    "        K = Knew\n",
    "    else:\n",
    "        print('graph given')\n",
    "        K = K * G\n",
    "\n",
    "    return K"
   ]
  },
  {
   "cell_type": "code",
   "execution_count": null,
   "metadata": {
    "collapsed": true
   },
   "outputs": [],
   "source": [
    "    dlp_rbf = DeepLP_RBF.DeepLP_RBF(100, num_nodes, features, graph, sigma_, 0.1)\n",
    "    pred,metrics = dlp_rbf.labelprop(data)"
   ]
  },
  {
   "cell_type": "code",
   "execution_count": 25,
   "metadata": {
    "collapsed": true
   },
   "outputs": [],
   "source": [
    "y            = tf.placeholder(\"float\", shape=[1,3])\n",
    "yhat            = tf.placeholder(\"float\", shape=[2,3])"
   ]
  },
  {
   "cell_type": "code",
   "execution_count": 26,
   "metadata": {
    "collapsed": true
   },
   "outputs": [],
   "source": [
    "sess=tf.Session()\n"
   ]
  },
  {
   "cell_type": "code",
   "execution_count": 29,
   "metadata": {
    "collapsed": false
   },
   "outputs": [
    {
     "data": {
      "text/plain": [
       "array([[  1.,   4.,   9.],\n",
       "       [  4.,  10.,  18.]], dtype=float32)"
      ]
     },
     "execution_count": 29,
     "metadata": {},
     "output_type": "execute_result"
    }
   ],
   "source": [
    "sess.run(tf.multiply(yhat,y),feed_dict={y:np.array([[1,2,3]]),yhat:np.array([[1,2,3],[4,5,6]])})"
   ]
  },
  {
   "cell_type": "code",
   "execution_count": 22,
   "metadata": {
    "collapsed": false
   },
   "outputs": [
    {
     "data": {
      "text/plain": [
       "array([[ 0.,  0.,  0., ...,  0.,  0.,  0.],\n",
       "       [ 0.,  0.,  0., ...,  0.,  0.,  0.],\n",
       "       [ 0.,  0.,  0., ...,  0.,  0.,  0.],\n",
       "       ..., \n",
       "       [ 0.,  0.,  0., ...,  1.,  0.,  0.],\n",
       "       [ 0.,  0.,  0., ...,  0.,  1.,  0.],\n",
       "       [ 0.,  0.,  0., ...,  0.,  0.,  1.]])"
      ]
     },
     "execution_count": 22,
     "metadata": {},
     "output_type": "execute_result"
    }
   ],
   "source": [
    "data['masked']"
   ]
  },
  {
   "cell_type": "code",
   "execution_count": 19,
   "metadata": {
    "collapsed": false
   },
   "outputs": [
    {
     "ename": "FailedPreconditionError",
     "evalue": "Attempting to use uninitialized value Variable_46\n\t [[Node: Variable_46/read = Identity[T=DT_FLOAT, _class=[\"loc:@Variable_46\"], _device=\"/job:localhost/replica:0/task:0/cpu:0\"](Variable_46)]]\n\nCaused by op 'Variable_46/read', defined at:\n  File \"/Users/kojin/anaconda/envs/ml/lib/python3.6/runpy.py\", line 193, in _run_module_as_main\n    \"__main__\", mod_spec)\n  File \"/Users/kojin/anaconda/envs/ml/lib/python3.6/runpy.py\", line 85, in _run_code\n    exec(code, run_globals)\n  File \"/Users/kojin/anaconda/envs/ml/lib/python3.6/site-packages/ipykernel_launcher.py\", line 16, in <module>\n    app.launch_new_instance()\n  File \"/Users/kojin/anaconda/envs/ml/lib/python3.6/site-packages/traitlets/config/application.py\", line 658, in launch_instance\n    app.start()\n  File \"/Users/kojin/anaconda/envs/ml/lib/python3.6/site-packages/ipykernel/kernelapp.py\", line 477, in start\n    ioloop.IOLoop.instance().start()\n  File \"/Users/kojin/anaconda/envs/ml/lib/python3.6/site-packages/zmq/eventloop/ioloop.py\", line 177, in start\n    super(ZMQIOLoop, self).start()\n  File \"/Users/kojin/anaconda/envs/ml/lib/python3.6/site-packages/tornado/ioloop.py\", line 888, in start\n    handler_func(fd_obj, events)\n  File \"/Users/kojin/anaconda/envs/ml/lib/python3.6/site-packages/tornado/stack_context.py\", line 277, in null_wrapper\n    return fn(*args, **kwargs)\n  File \"/Users/kojin/anaconda/envs/ml/lib/python3.6/site-packages/zmq/eventloop/zmqstream.py\", line 440, in _handle_events\n    self._handle_recv()\n  File \"/Users/kojin/anaconda/envs/ml/lib/python3.6/site-packages/zmq/eventloop/zmqstream.py\", line 472, in _handle_recv\n    self._run_callback(callback, msg)\n  File \"/Users/kojin/anaconda/envs/ml/lib/python3.6/site-packages/zmq/eventloop/zmqstream.py\", line 414, in _run_callback\n    callback(*args, **kwargs)\n  File \"/Users/kojin/anaconda/envs/ml/lib/python3.6/site-packages/tornado/stack_context.py\", line 277, in null_wrapper\n    return fn(*args, **kwargs)\n  File \"/Users/kojin/anaconda/envs/ml/lib/python3.6/site-packages/ipykernel/kernelbase.py\", line 283, in dispatcher\n    return self.dispatch_shell(stream, msg)\n  File \"/Users/kojin/anaconda/envs/ml/lib/python3.6/site-packages/ipykernel/kernelbase.py\", line 235, in dispatch_shell\n    handler(stream, idents, msg)\n  File \"/Users/kojin/anaconda/envs/ml/lib/python3.6/site-packages/ipykernel/kernelbase.py\", line 399, in execute_request\n    user_expressions, allow_stdin)\n  File \"/Users/kojin/anaconda/envs/ml/lib/python3.6/site-packages/ipykernel/ipkernel.py\", line 196, in do_execute\n    res = shell.run_cell(code, store_history=store_history, silent=silent)\n  File \"/Users/kojin/anaconda/envs/ml/lib/python3.6/site-packages/ipykernel/zmqshell.py\", line 533, in run_cell\n    return super(ZMQInteractiveShell, self).run_cell(*args, **kwargs)\n  File \"/Users/kojin/anaconda/envs/ml/lib/python3.6/site-packages/IPython/core/interactiveshell.py\", line 2728, in run_cell\n    interactivity=interactivity, compiler=compiler, result=result)\n  File \"/Users/kojin/anaconda/envs/ml/lib/python3.6/site-packages/IPython/core/interactiveshell.py\", line 2850, in run_ast_nodes\n    if self.run_code(code, result):\n  File \"/Users/kojin/anaconda/envs/ml/lib/python3.6/site-packages/IPython/core/interactiveshell.py\", line 2910, in run_code\n    exec(code_obj, self.user_global_ns, self.user_ns)\n  File \"<ipython-input-14-d1f6408fa589>\", line 5, in <module>\n    dlp_rbf = DeepLP_RBF.DeepLP_RBF(100, num_nodes, features, graph, sigma_, 0.1)\n  File \"/Users/kojin/projects/graph_based_semi_supervised_learning/model/DeepLP_RBF.py\", line 24, in __init__\n    self.sigma   = tf.Variable(sigma, dtype=tf.float32)\n  File \"/Users/kojin/anaconda/envs/ml/lib/python3.6/site-packages/tensorflow/python/ops/variables.py\", line 197, in __init__\n    expected_shape=expected_shape)\n  File \"/Users/kojin/anaconda/envs/ml/lib/python3.6/site-packages/tensorflow/python/ops/variables.py\", line 316, in _init_from_args\n    self._snapshot = array_ops.identity(self._variable, name=\"read\")\n  File \"/Users/kojin/anaconda/envs/ml/lib/python3.6/site-packages/tensorflow/python/ops/gen_array_ops.py\", line 1338, in identity\n    result = _op_def_lib.apply_op(\"Identity\", input=input, name=name)\n  File \"/Users/kojin/anaconda/envs/ml/lib/python3.6/site-packages/tensorflow/python/framework/op_def_library.py\", line 768, in apply_op\n    op_def=op_def)\n  File \"/Users/kojin/anaconda/envs/ml/lib/python3.6/site-packages/tensorflow/python/framework/ops.py\", line 2336, in create_op\n    original_op=self._default_original_op, op_def=op_def)\n  File \"/Users/kojin/anaconda/envs/ml/lib/python3.6/site-packages/tensorflow/python/framework/ops.py\", line 1228, in __init__\n    self._traceback = _extract_stack()\n\nFailedPreconditionError (see above for traceback): Attempting to use uninitialized value Variable_46\n\t [[Node: Variable_46/read = Identity[T=DT_FLOAT, _class=[\"loc:@Variable_46\"], _device=\"/job:localhost/replica:0/task:0/cpu:0\"](Variable_46)]]\n",
     "output_type": "error",
     "traceback": [
      "\u001b[0;31m-------------------------\u001b[0m",
      "\u001b[0;31mFailedPreconditionError\u001b[0mTraceback (most recent call last)",
      "\u001b[0;32m~/anaconda/envs/ml/lib/python3.6/site-packages/tensorflow/python/client/session.py\u001b[0m in \u001b[0;36m_do_call\u001b[0;34m(self, fn, *args)\u001b[0m\n\u001b[1;32m   1038\u001b[0m     \u001b[0;32mtry\u001b[0m\u001b[0;34m:\u001b[0m\u001b[0;34m\u001b[0m\u001b[0m\n\u001b[0;32m-> 1039\u001b[0;31m       \u001b[0;32mreturn\u001b[0m \u001b[0mfn\u001b[0m\u001b[0;34m(\u001b[0m\u001b[0;34m*\u001b[0m\u001b[0margs\u001b[0m\u001b[0;34m)\u001b[0m\u001b[0;34m\u001b[0m\u001b[0m\n\u001b[0m\u001b[1;32m   1040\u001b[0m     \u001b[0;32mexcept\u001b[0m \u001b[0merrors\u001b[0m\u001b[0;34m.\u001b[0m\u001b[0mOpError\u001b[0m \u001b[0;32mas\u001b[0m \u001b[0me\u001b[0m\u001b[0;34m:\u001b[0m\u001b[0;34m\u001b[0m\u001b[0m\n",
      "\u001b[0;32m~/anaconda/envs/ml/lib/python3.6/site-packages/tensorflow/python/client/session.py\u001b[0m in \u001b[0;36m_run_fn\u001b[0;34m(session, feed_dict, fetch_list, target_list, options, run_metadata)\u001b[0m\n\u001b[1;32m   1020\u001b[0m                                  \u001b[0mfeed_dict\u001b[0m\u001b[0;34m,\u001b[0m \u001b[0mfetch_list\u001b[0m\u001b[0;34m,\u001b[0m \u001b[0mtarget_list\u001b[0m\u001b[0;34m,\u001b[0m\u001b[0;34m\u001b[0m\u001b[0m\n\u001b[0;32m-> 1021\u001b[0;31m                                  status, run_metadata)\n\u001b[0m\u001b[1;32m   1022\u001b[0m \u001b[0;34m\u001b[0m\u001b[0m\n",
      "\u001b[0;32m~/anaconda/envs/ml/lib/python3.6/contextlib.py\u001b[0m in \u001b[0;36m__exit__\u001b[0;34m(self, type, value, traceback)\u001b[0m\n\u001b[1;32m     87\u001b[0m             \u001b[0;32mtry\u001b[0m\u001b[0;34m:\u001b[0m\u001b[0;34m\u001b[0m\u001b[0m\n\u001b[0;32m---> 88\u001b[0;31m                 \u001b[0mnext\u001b[0m\u001b[0;34m(\u001b[0m\u001b[0mself\u001b[0m\u001b[0;34m.\u001b[0m\u001b[0mgen\u001b[0m\u001b[0;34m)\u001b[0m\u001b[0;34m\u001b[0m\u001b[0m\n\u001b[0m\u001b[1;32m     89\u001b[0m             \u001b[0;32mexcept\u001b[0m \u001b[0mStopIteration\u001b[0m\u001b[0;34m:\u001b[0m\u001b[0;34m\u001b[0m\u001b[0m\n",
      "\u001b[0;32m~/anaconda/envs/ml/lib/python3.6/site-packages/tensorflow/python/framework/errors_impl.py\u001b[0m in \u001b[0;36mraise_exception_on_not_ok_status\u001b[0;34m()\u001b[0m\n\u001b[1;32m    465\u001b[0m           \u001b[0mcompat\u001b[0m\u001b[0;34m.\u001b[0m\u001b[0mas_text\u001b[0m\u001b[0;34m(\u001b[0m\u001b[0mpywrap_tensorflow\u001b[0m\u001b[0;34m.\u001b[0m\u001b[0mTF_Message\u001b[0m\u001b[0;34m(\u001b[0m\u001b[0mstatus\u001b[0m\u001b[0;34m)\u001b[0m\u001b[0;34m)\u001b[0m\u001b[0;34m,\u001b[0m\u001b[0;34m\u001b[0m\u001b[0m\n\u001b[0;32m--> 466\u001b[0;31m           pywrap_tensorflow.TF_GetCode(status))\n\u001b[0m\u001b[1;32m    467\u001b[0m   \u001b[0;32mfinally\u001b[0m\u001b[0;34m:\u001b[0m\u001b[0;34m\u001b[0m\u001b[0m\n",
      "\u001b[0;31mFailedPreconditionError\u001b[0m: Attempting to use uninitialized value Variable_46\n\t [[Node: Variable_46/read = Identity[T=DT_FLOAT, _class=[\"loc:@Variable_46\"], _device=\"/job:localhost/replica:0/task:0/cpu:0\"](Variable_46)]]",
      "\nDuring handling of the above exception, another exception occurred:\n",
      "\u001b[0;31mFailedPreconditionError\u001b[0mTraceback (most recent call last)",
      "\u001b[0;32m<ipython-input-19-95f5b54ae090>\u001b[0m in \u001b[0;36m<module>\u001b[0;34m()\u001b[0m\n\u001b[0;32m----> 1\u001b[0;31m \u001b[0mdlp_rbf\u001b[0m\u001b[0;34m.\u001b[0m\u001b[0m_eval\u001b[0m\u001b[0;34m(\u001b[0m\u001b[0mdlp_rbf\u001b[0m\u001b[0;34m.\u001b[0m\u001b[0myhat\u001b[0m\u001b[0;34m,\u001b[0m\u001b[0mdata\u001b[0m\u001b[0;34m)\u001b[0m\u001b[0;34m\u001b[0m\u001b[0m\n\u001b[0m",
      "\u001b[0;32m~/projects/graph_based_semi_supervised_learning/model/DeepLP.py\u001b[0m in \u001b[0;36m_eval\u001b[0;34m(self, vals, data)\u001b[0m\n\u001b[1;32m    179\u001b[0m                                               \u001b[0mself\u001b[0m\u001b[0;34m.\u001b[0m\u001b[0mlabeled\u001b[0m\u001b[0;34m:\u001b[0m\u001b[0mdata\u001b[0m\u001b[0;34m[\u001b[0m\u001b[0;34m'labeled'\u001b[0m\u001b[0;34m]\u001b[0m\u001b[0;34m,\u001b[0m\u001b[0;34m\u001b[0m\u001b[0m\n\u001b[1;32m    180\u001b[0m                                               \u001b[0mself\u001b[0m\u001b[0;34m.\u001b[0m\u001b[0mtrue_labeled\u001b[0m\u001b[0;34m:\u001b[0m\u001b[0mdata\u001b[0m\u001b[0;34m[\u001b[0m\u001b[0;34m'true_labeled'\u001b[0m\u001b[0;34m]\u001b[0m\u001b[0;34m,\u001b[0m\u001b[0;34m\u001b[0m\u001b[0m\n\u001b[0;32m--> 181\u001b[0;31m                                               self.masked:data['masked']})\n\u001b[0m\u001b[1;32m    182\u001b[0m \u001b[0;34m\u001b[0m\u001b[0m\n\u001b[1;32m    183\u001b[0m     \u001b[0;32mdef\u001b[0m \u001b[0m_save_params\u001b[0m\u001b[0;34m(\u001b[0m\u001b[0mself\u001b[0m\u001b[0;34m,\u001b[0m\u001b[0mepoch\u001b[0m\u001b[0;34m,\u001b[0m\u001b[0mdata\u001b[0m\u001b[0;34m,\u001b[0m\u001b[0mn\u001b[0m\u001b[0;34m)\u001b[0m\u001b[0;34m:\u001b[0m\u001b[0;34m\u001b[0m\u001b[0m\n",
      "\u001b[0;32m~/anaconda/envs/ml/lib/python3.6/site-packages/tensorflow/python/client/session.py\u001b[0m in \u001b[0;36mrun\u001b[0;34m(self, fetches, feed_dict, options, run_metadata)\u001b[0m\n\u001b[1;32m    776\u001b[0m     \u001b[0;32mtry\u001b[0m\u001b[0;34m:\u001b[0m\u001b[0;34m\u001b[0m\u001b[0m\n\u001b[1;32m    777\u001b[0m       result = self._run(None, fetches, feed_dict, options_ptr,\n\u001b[0;32m--> 778\u001b[0;31m                          run_metadata_ptr)\n\u001b[0m\u001b[1;32m    779\u001b[0m       \u001b[0;32mif\u001b[0m \u001b[0mrun_metadata\u001b[0m\u001b[0;34m:\u001b[0m\u001b[0;34m\u001b[0m\u001b[0m\n\u001b[1;32m    780\u001b[0m         \u001b[0mproto_data\u001b[0m \u001b[0;34m=\u001b[0m \u001b[0mtf_session\u001b[0m\u001b[0;34m.\u001b[0m\u001b[0mTF_GetBuffer\u001b[0m\u001b[0;34m(\u001b[0m\u001b[0mrun_metadata_ptr\u001b[0m\u001b[0;34m)\u001b[0m\u001b[0;34m\u001b[0m\u001b[0m\n",
      "\u001b[0;32m~/anaconda/envs/ml/lib/python3.6/site-packages/tensorflow/python/client/session.py\u001b[0m in \u001b[0;36m_run\u001b[0;34m(self, handle, fetches, feed_dict, options, run_metadata)\u001b[0m\n\u001b[1;32m    980\u001b[0m     \u001b[0;32mif\u001b[0m \u001b[0mfinal_fetches\u001b[0m \u001b[0;32mor\u001b[0m \u001b[0mfinal_targets\u001b[0m\u001b[0;34m:\u001b[0m\u001b[0;34m\u001b[0m\u001b[0m\n\u001b[1;32m    981\u001b[0m       results = self._do_run(handle, final_targets, final_fetches,\n\u001b[0;32m--> 982\u001b[0;31m                              feed_dict_string, options, run_metadata)\n\u001b[0m\u001b[1;32m    983\u001b[0m     \u001b[0;32melse\u001b[0m\u001b[0;34m:\u001b[0m\u001b[0;34m\u001b[0m\u001b[0m\n\u001b[1;32m    984\u001b[0m       \u001b[0mresults\u001b[0m \u001b[0;34m=\u001b[0m \u001b[0;34m[\u001b[0m\u001b[0;34m]\u001b[0m\u001b[0;34m\u001b[0m\u001b[0m\n",
      "\u001b[0;32m~/anaconda/envs/ml/lib/python3.6/site-packages/tensorflow/python/client/session.py\u001b[0m in \u001b[0;36m_do_run\u001b[0;34m(self, handle, target_list, fetch_list, feed_dict, options, run_metadata)\u001b[0m\n\u001b[1;32m   1030\u001b[0m     \u001b[0;32mif\u001b[0m \u001b[0mhandle\u001b[0m \u001b[0;32mis\u001b[0m \u001b[0;32mNone\u001b[0m\u001b[0;34m:\u001b[0m\u001b[0;34m\u001b[0m\u001b[0m\n\u001b[1;32m   1031\u001b[0m       return self._do_call(_run_fn, self._session, feed_dict, fetch_list,\n\u001b[0;32m-> 1032\u001b[0;31m                            target_list, options, run_metadata)\n\u001b[0m\u001b[1;32m   1033\u001b[0m     \u001b[0;32melse\u001b[0m\u001b[0;34m:\u001b[0m\u001b[0;34m\u001b[0m\u001b[0m\n\u001b[1;32m   1034\u001b[0m       return self._do_call(_prun_fn, self._session, handle, feed_dict,\n",
      "\u001b[0;32m~/anaconda/envs/ml/lib/python3.6/site-packages/tensorflow/python/client/session.py\u001b[0m in \u001b[0;36m_do_call\u001b[0;34m(self, fn, *args)\u001b[0m\n\u001b[1;32m   1050\u001b[0m         \u001b[0;32mexcept\u001b[0m \u001b[0mKeyError\u001b[0m\u001b[0;34m:\u001b[0m\u001b[0;34m\u001b[0m\u001b[0m\n\u001b[1;32m   1051\u001b[0m           \u001b[0;32mpass\u001b[0m\u001b[0;34m\u001b[0m\u001b[0m\n\u001b[0;32m-> 1052\u001b[0;31m       \u001b[0;32mraise\u001b[0m \u001b[0mtype\u001b[0m\u001b[0;34m(\u001b[0m\u001b[0me\u001b[0m\u001b[0;34m)\u001b[0m\u001b[0;34m(\u001b[0m\u001b[0mnode_def\u001b[0m\u001b[0;34m,\u001b[0m \u001b[0mop\u001b[0m\u001b[0;34m,\u001b[0m \u001b[0mmessage\u001b[0m\u001b[0;34m)\u001b[0m\u001b[0;34m\u001b[0m\u001b[0m\n\u001b[0m\u001b[1;32m   1053\u001b[0m \u001b[0;34m\u001b[0m\u001b[0m\n\u001b[1;32m   1054\u001b[0m   \u001b[0;32mdef\u001b[0m \u001b[0m_extend_graph\u001b[0m\u001b[0;34m(\u001b[0m\u001b[0mself\u001b[0m\u001b[0;34m)\u001b[0m\u001b[0;34m:\u001b[0m\u001b[0;34m\u001b[0m\u001b[0m\n",
      "\u001b[0;31mFailedPreconditionError\u001b[0m: Attempting to use uninitialized value Variable_46\n\t [[Node: Variable_46/read = Identity[T=DT_FLOAT, _class=[\"loc:@Variable_46\"], _device=\"/job:localhost/replica:0/task:0/cpu:0\"](Variable_46)]]\n\nCaused by op 'Variable_46/read', defined at:\n  File \"/Users/kojin/anaconda/envs/ml/lib/python3.6/runpy.py\", line 193, in _run_module_as_main\n    \"__main__\", mod_spec)\n  File \"/Users/kojin/anaconda/envs/ml/lib/python3.6/runpy.py\", line 85, in _run_code\n    exec(code, run_globals)\n  File \"/Users/kojin/anaconda/envs/ml/lib/python3.6/site-packages/ipykernel_launcher.py\", line 16, in <module>\n    app.launch_new_instance()\n  File \"/Users/kojin/anaconda/envs/ml/lib/python3.6/site-packages/traitlets/config/application.py\", line 658, in launch_instance\n    app.start()\n  File \"/Users/kojin/anaconda/envs/ml/lib/python3.6/site-packages/ipykernel/kernelapp.py\", line 477, in start\n    ioloop.IOLoop.instance().start()\n  File \"/Users/kojin/anaconda/envs/ml/lib/python3.6/site-packages/zmq/eventloop/ioloop.py\", line 177, in start\n    super(ZMQIOLoop, self).start()\n  File \"/Users/kojin/anaconda/envs/ml/lib/python3.6/site-packages/tornado/ioloop.py\", line 888, in start\n    handler_func(fd_obj, events)\n  File \"/Users/kojin/anaconda/envs/ml/lib/python3.6/site-packages/tornado/stack_context.py\", line 277, in null_wrapper\n    return fn(*args, **kwargs)\n  File \"/Users/kojin/anaconda/envs/ml/lib/python3.6/site-packages/zmq/eventloop/zmqstream.py\", line 440, in _handle_events\n    self._handle_recv()\n  File \"/Users/kojin/anaconda/envs/ml/lib/python3.6/site-packages/zmq/eventloop/zmqstream.py\", line 472, in _handle_recv\n    self._run_callback(callback, msg)\n  File \"/Users/kojin/anaconda/envs/ml/lib/python3.6/site-packages/zmq/eventloop/zmqstream.py\", line 414, in _run_callback\n    callback(*args, **kwargs)\n  File \"/Users/kojin/anaconda/envs/ml/lib/python3.6/site-packages/tornado/stack_context.py\", line 277, in null_wrapper\n    return fn(*args, **kwargs)\n  File \"/Users/kojin/anaconda/envs/ml/lib/python3.6/site-packages/ipykernel/kernelbase.py\", line 283, in dispatcher\n    return self.dispatch_shell(stream, msg)\n  File \"/Users/kojin/anaconda/envs/ml/lib/python3.6/site-packages/ipykernel/kernelbase.py\", line 235, in dispatch_shell\n    handler(stream, idents, msg)\n  File \"/Users/kojin/anaconda/envs/ml/lib/python3.6/site-packages/ipykernel/kernelbase.py\", line 399, in execute_request\n    user_expressions, allow_stdin)\n  File \"/Users/kojin/anaconda/envs/ml/lib/python3.6/site-packages/ipykernel/ipkernel.py\", line 196, in do_execute\n    res = shell.run_cell(code, store_history=store_history, silent=silent)\n  File \"/Users/kojin/anaconda/envs/ml/lib/python3.6/site-packages/ipykernel/zmqshell.py\", line 533, in run_cell\n    return super(ZMQInteractiveShell, self).run_cell(*args, **kwargs)\n  File \"/Users/kojin/anaconda/envs/ml/lib/python3.6/site-packages/IPython/core/interactiveshell.py\", line 2728, in run_cell\n    interactivity=interactivity, compiler=compiler, result=result)\n  File \"/Users/kojin/anaconda/envs/ml/lib/python3.6/site-packages/IPython/core/interactiveshell.py\", line 2850, in run_ast_nodes\n    if self.run_code(code, result):\n  File \"/Users/kojin/anaconda/envs/ml/lib/python3.6/site-packages/IPython/core/interactiveshell.py\", line 2910, in run_code\n    exec(code_obj, self.user_global_ns, self.user_ns)\n  File \"<ipython-input-14-d1f6408fa589>\", line 5, in <module>\n    dlp_rbf = DeepLP_RBF.DeepLP_RBF(100, num_nodes, features, graph, sigma_, 0.1)\n  File \"/Users/kojin/projects/graph_based_semi_supervised_learning/model/DeepLP_RBF.py\", line 24, in __init__\n    self.sigma   = tf.Variable(sigma, dtype=tf.float32)\n  File \"/Users/kojin/anaconda/envs/ml/lib/python3.6/site-packages/tensorflow/python/ops/variables.py\", line 197, in __init__\n    expected_shape=expected_shape)\n  File \"/Users/kojin/anaconda/envs/ml/lib/python3.6/site-packages/tensorflow/python/ops/variables.py\", line 316, in _init_from_args\n    self._snapshot = array_ops.identity(self._variable, name=\"read\")\n  File \"/Users/kojin/anaconda/envs/ml/lib/python3.6/site-packages/tensorflow/python/ops/gen_array_ops.py\", line 1338, in identity\n    result = _op_def_lib.apply_op(\"Identity\", input=input, name=name)\n  File \"/Users/kojin/anaconda/envs/ml/lib/python3.6/site-packages/tensorflow/python/framework/op_def_library.py\", line 768, in apply_op\n    op_def=op_def)\n  File \"/Users/kojin/anaconda/envs/ml/lib/python3.6/site-packages/tensorflow/python/framework/ops.py\", line 2336, in create_op\n    original_op=self._default_original_op, op_def=op_def)\n  File \"/Users/kojin/anaconda/envs/ml/lib/python3.6/site-packages/tensorflow/python/framework/ops.py\", line 1228, in __init__\n    self._traceback = _extract_stack()\n\nFailedPreconditionError (see above for traceback): Attempting to use uninitialized value Variable_46\n\t [[Node: Variable_46/read = Identity[T=DT_FLOAT, _class=[\"loc:@Variable_46\"], _device=\"/job:localhost/replica:0/task:0/cpu:0\"](Variable_46)]]\n"
     ]
    }
   ],
   "source": [
    "dlp_rbf._eval(dlp_rbf.yhat,data)"
   ]
  },
  {
   "cell_type": "code",
   "execution_count": 53,
   "metadata": {
    "collapsed": true
   },
   "outputs": [],
   "source": [
    "graph = weights > 0"
   ]
  },
  {
   "cell_type": "code",
   "execution_count": 41,
   "metadata": {
    "collapsed": false
   },
   "outputs": [
    {
     "data": {
      "text/plain": [
       "4205.842258470374"
      ]
     },
     "execution_count": 41,
     "metadata": {},
     "output_type": "execute_result"
    }
   ],
   "source": [
    "np.sum(weights)"
   ]
  },
  {
   "cell_type": "code",
   "execution_count": 54,
   "metadata": {
    "collapsed": false
   },
   "outputs": [
    {
     "data": {
      "text/plain": [
       "array([[False,  True,  True, ...,  True,  True,  True],\n",
       "       [ True, False,  True, ...,  True,  True,  True],\n",
       "       [ True,  True, False, ...,  True,  True,  True],\n",
       "       ..., \n",
       "       [ True,  True,  True, ..., False,  True,  True],\n",
       "       [ True,  True,  True, ...,  True, False,  True],\n",
       "       [ True,  True,  True, ...,  True,  True, False]], dtype=bool)"
      ]
     },
     "execution_count": 54,
     "metadata": {},
     "output_type": "execute_result"
    }
   ],
   "source": [
    "graph"
   ]
  },
  {
   "cell_type": "code",
   "execution_count": 74,
   "metadata": {
    "collapsed": false
   },
   "outputs": [
    {
     "name": "stdout",
     "output_type": "stream",
     "text": [
      "{'loss': 0.23238951, 'labeled_loss': 0.22380109, 'accuracy': 0.72415078, 'true_loss': 29.049143, 'true_accuracy': 90.516525}\n",
      "0 0.223801 0.724151\n",
      "{'loss': 0.22933, 'labeled_loss': 0.22150078, 'accuracy': 0.78902501, 'true_loss': 28.666664, 'true_accuracy': 98.627968}\n",
      "1 0.221501 0.789025\n",
      "{'loss': 0.21277826, 'labeled_loss': 0.20819628, 'accuracy': 0.84215504, 'true_loss': 26.597527, 'true_accuracy': 105.26991}\n",
      "2 0.208196 0.842155\n",
      "{'loss': 0.18930146, 'labeled_loss': 0.18676446, 'accuracy': 0.88537741, 'true_loss': 23.662817, 'true_accuracy': 110.67458}\n",
      "3 0.186764 0.885377\n",
      "{'loss': 0.16607875, 'labeled_loss': 0.16302545, 'accuracy': 0.88968742, 'true_loss': 20.760008, 'true_accuracy': 111.21272}\n",
      "4 0.163025 0.889687\n",
      "{'loss': 0.14951381, 'labeled_loss': 0.14472817, 'accuracy': 0.8913613, 'true_loss': 18.68948, 'true_accuracy': 111.42161}\n",
      "5 0.144728 0.891361\n",
      "{'loss': 0.13979338, 'labeled_loss': 0.13406181, 'accuracy': 0.89203221, 'true_loss': 17.474478, 'true_accuracy': 111.50594}\n",
      "6 0.134062 0.892032\n",
      "{'loss': 0.13465413, 'labeled_loss': 0.12899879, 'accuracy': 0.87128502, 'true_loss': 16.832067, 'true_accuracy': 108.91144}\n",
      "7 0.128999 0.871285\n",
      "{'loss': 0.13223176, 'labeled_loss': 0.12633982, 'accuracy': 0.85721982, 'true_loss': 16.529284, 'true_accuracy': 107.15254}\n",
      "8 0.12634 0.85722\n",
      "{'loss': 0.13131566, 'labeled_loss': 0.12466378, 'accuracy': 0.84511989, 'true_loss': 16.41481, 'true_accuracy': 105.63898}\n",
      "9 0.124664 0.84512\n",
      "{'loss': 0.13116775, 'labeled_loss': 0.12358096, 'accuracy': 0.83952224, 'true_loss': 16.396372, 'true_accuracy': 104.93983}\n",
      "10 0.123581 0.839522\n",
      "{'loss': 0.13137507, 'labeled_loss': 0.1228782, 'accuracy': 0.83113933, 'true_loss': 16.422335, 'true_accuracy': 103.8911}\n",
      "11 0.122878 0.831139\n",
      "{'loss': 0.13172369, 'labeled_loss': 0.12241522, 'accuracy': 0.82297331, 'true_loss': 16.465956, 'true_accuracy': 102.87034}\n",
      "12 0.122415 0.822973\n",
      "{'loss': 0.13210975, 'labeled_loss': 0.12210618, 'accuracy': 0.81589156, 'true_loss': 16.514246, 'true_accuracy': 101.98475}\n",
      "13 0.122106 0.815892\n",
      "{'loss': 0.13248515, 'labeled_loss': 0.12189819, 'accuracy': 0.8134045, 'true_loss': 16.561205, 'true_accuracy': 101.67373}\n",
      "14 0.121898 0.813405\n",
      "{'loss': 0.13283035, 'labeled_loss': 0.12175774, 'accuracy': 0.81170011, 'true_loss': 16.60438, 'true_accuracy': 101.46059}\n",
      "15 0.121758 0.8117\n",
      "{'loss': 0.13313931, 'labeled_loss': 0.12166306, 'accuracy': 0.80781025, 'true_loss': 16.643023, 'true_accuracy': 100.97415}\n",
      "16 0.121663 0.80781\n",
      "{'loss': 0.13341241, 'labeled_loss': 0.12159977, 'accuracy': 0.80631256, 'true_loss': 16.677177, 'true_accuracy': 100.78687}\n",
      "17 0.1216 0.806313\n",
      "{'loss': 0.13365239, 'labeled_loss': 0.12155815, 'accuracy': 0.80485898, 'true_loss': 16.707188, 'true_accuracy': 100.60509}\n",
      "18 0.121558 0.804859\n",
      "{'loss': 0.13386285, 'labeled_loss': 0.12153167, 'accuracy': 0.80305296, 'true_loss': 16.733507, 'true_accuracy': 100.37923}\n",
      "19 0.121532 0.803053\n",
      "{'loss': 0.1340477, 'labeled_loss': 0.12151573, 'accuracy': 0.80203301, 'true_loss': 16.756628, 'true_accuracy': 100.25169}\n",
      "20 0.121516 0.802033\n",
      "{'loss': 0.13421024, 'labeled_loss': 0.12150721, 'accuracy': 0.80112153, 'true_loss': 16.776953, 'true_accuracy': 100.13771}\n",
      "21 0.121507 0.801122\n",
      "{'loss': 0.13435377, 'labeled_loss': 0.12150389, 'accuracy': 0.7998746, 'true_loss': 16.794903, 'true_accuracy': 99.981781}\n",
      "22 0.121504 0.799875\n",
      "{'loss': 0.1344806, 'labeled_loss': 0.12150422, 'accuracy': 0.79934943, 'true_loss': 16.81076, 'true_accuracy': 99.9161}\n",
      "23 0.121504 0.799349\n",
      "{'loss': 0.1345937, 'labeled_loss': 0.12150708, 'accuracy': 0.79884797, 'true_loss': 16.824907, 'true_accuracy': 99.853394}\n",
      "24 0.121507 0.798848\n",
      "{'loss': 0.13469408, 'labeled_loss': 0.12151165, 'accuracy': 0.79824144, 'true_loss': 16.83746, 'true_accuracy': 99.777969}\n",
      "25 0.121512 0.798241\n",
      "{'loss': 0.13478406, 'labeled_loss': 0.12151737, 'accuracy': 0.79780096, 'true_loss': 16.848709, 'true_accuracy': 99.722885}\n",
      "26 0.121517 0.797801\n",
      "{'loss': 0.13486512, 'labeled_loss': 0.12152381, 'accuracy': 0.79740447, 'true_loss': 16.858847, 'true_accuracy': 99.673302}\n",
      "27 0.121524 0.797404\n",
      "{'loss': 0.13493785, 'labeled_loss': 0.1215307, 'accuracy': 0.79698771, 'true_loss': 16.867943, 'true_accuracy': 99.621185}\n",
      "28 0.121531 0.796988\n",
      "{'loss': 0.13500381, 'labeled_loss': 0.12153781, 'accuracy': 0.79630667, 'true_loss': 16.876188, 'true_accuracy': 99.536018}\n",
      "29 0.121538 0.796307\n",
      "{'loss': 0.13506356, 'labeled_loss': 0.12154499, 'accuracy': 0.79584581, 'true_loss': 16.883659, 'true_accuracy': 99.478394}\n",
      "30 0.121545 0.795846\n"
     ]
    },
    {
     "ename": "KeyboardInterrupt",
     "evalue": "",
     "output_type": "error",
     "traceback": [
      "\u001b[0;31m-------------------------\u001b[0m",
      "\u001b[0;31mKeyboardInterrupt\u001b[0mTraceback (most recent call last)",
      "\u001b[0;32m<ipython-input-74-47574c33ac1d>\u001b[0m in \u001b[0;36m<module>\u001b[0;34m()\u001b[0m\n\u001b[1;32m      4\u001b[0m \u001b[0;32mfor\u001b[0m \u001b[0mi\u001b[0m\u001b[0;34m,\u001b[0m\u001b[0msigma_\u001b[0m \u001b[0;32min\u001b[0m \u001b[0menumerate\u001b[0m\u001b[0;34m(\u001b[0m\u001b[0msorted\u001b[0m\u001b[0;34m(\u001b[0m\u001b[0msigmas\u001b[0m\u001b[0;34m)\u001b[0m\u001b[0;34m)\u001b[0m\u001b[0;34m:\u001b[0m\u001b[0;34m\u001b[0m\u001b[0m\n\u001b[1;32m      5\u001b[0m     \u001b[0mdlp_rbf\u001b[0m \u001b[0;34m=\u001b[0m \u001b[0mDeepLP_RBF\u001b[0m\u001b[0;34m.\u001b[0m\u001b[0mDeepLP_RBF\u001b[0m\u001b[0;34m(\u001b[0m\u001b[0;36m100\u001b[0m\u001b[0;34m,\u001b[0m \u001b[0mnum_nodes\u001b[0m\u001b[0;34m,\u001b[0m \u001b[0mfeatures\u001b[0m\u001b[0;34m,\u001b[0m \u001b[0mgraph\u001b[0m\u001b[0;34m,\u001b[0m \u001b[0msigma_\u001b[0m\u001b[0;34m,\u001b[0m \u001b[0;36m0.1\u001b[0m\u001b[0;34m)\u001b[0m\u001b[0;34m\u001b[0m\u001b[0m\n\u001b[0;32m----> 6\u001b[0;31m     \u001b[0mpred\u001b[0m\u001b[0;34m,\u001b[0m\u001b[0mmetrics\u001b[0m \u001b[0;34m=\u001b[0m \u001b[0mdlp_rbf\u001b[0m\u001b[0;34m.\u001b[0m\u001b[0mlabelprop\u001b[0m\u001b[0;34m(\u001b[0m\u001b[0mdata\u001b[0m\u001b[0;34m)\u001b[0m\u001b[0;34m\u001b[0m\u001b[0m\n\u001b[0m\u001b[1;32m      7\u001b[0m     \u001b[0mlolosses\u001b[0m\u001b[0;34m.\u001b[0m\u001b[0mappend\u001b[0m\u001b[0;34m(\u001b[0m\u001b[0mmetrics\u001b[0m\u001b[0;34m[\u001b[0m\u001b[0;34m'labeled_loss'\u001b[0m\u001b[0;34m]\u001b[0m\u001b[0;34m)\u001b[0m\u001b[0;34m\u001b[0m\u001b[0m\n\u001b[1;32m      8\u001b[0m     \u001b[0maccuracies\u001b[0m\u001b[0;34m.\u001b[0m\u001b[0mappend\u001b[0m\u001b[0;34m(\u001b[0m\u001b[0mmetrics\u001b[0m\u001b[0;34m[\u001b[0m\u001b[0;34m'accuracy'\u001b[0m\u001b[0;34m]\u001b[0m\u001b[0;34m)\u001b[0m\u001b[0;34m\u001b[0m\u001b[0m\n",
      "\u001b[0;32m~/projects/graph_based_semi_supervised_learning/model/DeepLP.py\u001b[0m in \u001b[0;36mlabelprop\u001b[0;34m(self, data)\u001b[0m\n\u001b[1;32m    165\u001b[0m         \u001b[0mtrue_accuracy\u001b[0m \u001b[0;34m=\u001b[0m \u001b[0mself\u001b[0m\u001b[0;34m.\u001b[0m\u001b[0m_calc_accuracy\u001b[0m\u001b[0;34m(\u001b[0m\u001b[0mself\u001b[0m\u001b[0;34m.\u001b[0m\u001b[0my\u001b[0m\u001b[0;34m,\u001b[0m\u001b[0mself\u001b[0m\u001b[0;34m.\u001b[0m\u001b[0myhat\u001b[0m\u001b[0;34m,\u001b[0m\u001b[0;36m1\u001b[0m\u001b[0;34m-\u001b[0m\u001b[0mself\u001b[0m\u001b[0;34m.\u001b[0m\u001b[0mtrue_labeled\u001b[0m\u001b[0;34m)\u001b[0m\u001b[0;34m\u001b[0m\u001b[0m\n\u001b[1;32m    166\u001b[0m \u001b[0;34m\u001b[0m\u001b[0m\n\u001b[0;32m--> 167\u001b[0;31m         \u001b[0mpred\u001b[0m\u001b[0;34m,\u001b[0m\u001b[0ml_o_loss_\u001b[0m\u001b[0;34m,\u001b[0m\u001b[0mloss_\u001b[0m\u001b[0;34m,\u001b[0m\u001b[0maccuracy_\u001b[0m\u001b[0;34m,\u001b[0m\u001b[0mtrue_loss_\u001b[0m\u001b[0;34m,\u001b[0m\u001b[0mtrue_accuracy_\u001b[0m \u001b[0;34m=\u001b[0m \u001b[0mself\u001b[0m\u001b[0;34m.\u001b[0m\u001b[0m_eval\u001b[0m\u001b[0;34m(\u001b[0m\u001b[0;34m[\u001b[0m\u001b[0mself\u001b[0m\u001b[0;34m.\u001b[0m\u001b[0myhat\u001b[0m\u001b[0;34m,\u001b[0m\u001b[0ml_o_loss\u001b[0m\u001b[0;34m,\u001b[0m\u001b[0mloss\u001b[0m\u001b[0;34m,\u001b[0m\u001b[0maccuracy\u001b[0m\u001b[0;34m,\u001b[0m\u001b[0mtrue_loss\u001b[0m\u001b[0;34m,\u001b[0m\u001b[0mtrue_accuracy\u001b[0m\u001b[0;34m]\u001b[0m\u001b[0;34m,\u001b[0m\u001b[0mdata\u001b[0m\u001b[0;34m)\u001b[0m\u001b[0;34m\u001b[0m\u001b[0m\n\u001b[0m\u001b[1;32m    168\u001b[0m         metrics = {\n\u001b[1;32m    169\u001b[0m             \u001b[0;34m'loss'\u001b[0m\u001b[0;34m:\u001b[0m \u001b[0mloss_\u001b[0m\u001b[0;34m,\u001b[0m\u001b[0;34m\u001b[0m\u001b[0m\n",
      "\u001b[0;32m~/projects/graph_based_semi_supervised_learning/model/DeepLP.py\u001b[0m in \u001b[0;36m_eval\u001b[0;34m(self, vals, data)\u001b[0m\n\u001b[1;32m    182\u001b[0m                                               \u001b[0mself\u001b[0m\u001b[0;34m.\u001b[0m\u001b[0mlabeled\u001b[0m\u001b[0;34m:\u001b[0m\u001b[0mdata\u001b[0m\u001b[0;34m[\u001b[0m\u001b[0;34m'labeled'\u001b[0m\u001b[0;34m]\u001b[0m\u001b[0;34m,\u001b[0m\u001b[0;34m\u001b[0m\u001b[0m\n\u001b[1;32m    183\u001b[0m                                               \u001b[0mself\u001b[0m\u001b[0;34m.\u001b[0m\u001b[0mtrue_labeled\u001b[0m\u001b[0;34m:\u001b[0m\u001b[0mdata\u001b[0m\u001b[0;34m[\u001b[0m\u001b[0;34m'true_labeled'\u001b[0m\u001b[0;34m]\u001b[0m\u001b[0;34m,\u001b[0m\u001b[0;34m\u001b[0m\u001b[0m\n\u001b[0;32m--> 184\u001b[0;31m                                               self.masked:data['masked']})\n\u001b[0m\u001b[1;32m    185\u001b[0m \u001b[0;34m\u001b[0m\u001b[0m\n\u001b[1;32m    186\u001b[0m     \u001b[0;32mdef\u001b[0m \u001b[0m_save_params\u001b[0m\u001b[0;34m(\u001b[0m\u001b[0mself\u001b[0m\u001b[0;34m,\u001b[0m\u001b[0mepoch\u001b[0m\u001b[0;34m,\u001b[0m\u001b[0mdata\u001b[0m\u001b[0;34m,\u001b[0m\u001b[0mn\u001b[0m\u001b[0;34m)\u001b[0m\u001b[0;34m:\u001b[0m\u001b[0;34m\u001b[0m\u001b[0m\n",
      "\u001b[0;32m~/anaconda/envs/ml/lib/python3.6/site-packages/tensorflow/python/client/session.py\u001b[0m in \u001b[0;36mrun\u001b[0;34m(self, fetches, feed_dict, options, run_metadata)\u001b[0m\n\u001b[1;32m    776\u001b[0m     \u001b[0;32mtry\u001b[0m\u001b[0;34m:\u001b[0m\u001b[0;34m\u001b[0m\u001b[0m\n\u001b[1;32m    777\u001b[0m       result = self._run(None, fetches, feed_dict, options_ptr,\n\u001b[0;32m--> 778\u001b[0;31m                          run_metadata_ptr)\n\u001b[0m\u001b[1;32m    779\u001b[0m       \u001b[0;32mif\u001b[0m \u001b[0mrun_metadata\u001b[0m\u001b[0;34m:\u001b[0m\u001b[0;34m\u001b[0m\u001b[0m\n\u001b[1;32m    780\u001b[0m         \u001b[0mproto_data\u001b[0m \u001b[0;34m=\u001b[0m \u001b[0mtf_session\u001b[0m\u001b[0;34m.\u001b[0m\u001b[0mTF_GetBuffer\u001b[0m\u001b[0;34m(\u001b[0m\u001b[0mrun_metadata_ptr\u001b[0m\u001b[0;34m)\u001b[0m\u001b[0;34m\u001b[0m\u001b[0m\n",
      "\u001b[0;32m~/anaconda/envs/ml/lib/python3.6/site-packages/tensorflow/python/client/session.py\u001b[0m in \u001b[0;36m_run\u001b[0;34m(self, handle, fetches, feed_dict, options, run_metadata)\u001b[0m\n\u001b[1;32m    980\u001b[0m     \u001b[0;32mif\u001b[0m \u001b[0mfinal_fetches\u001b[0m \u001b[0;32mor\u001b[0m \u001b[0mfinal_targets\u001b[0m\u001b[0;34m:\u001b[0m\u001b[0;34m\u001b[0m\u001b[0m\n\u001b[1;32m    981\u001b[0m       results = self._do_run(handle, final_targets, final_fetches,\n\u001b[0;32m--> 982\u001b[0;31m                              feed_dict_string, options, run_metadata)\n\u001b[0m\u001b[1;32m    983\u001b[0m     \u001b[0;32melse\u001b[0m\u001b[0;34m:\u001b[0m\u001b[0;34m\u001b[0m\u001b[0m\n\u001b[1;32m    984\u001b[0m       \u001b[0mresults\u001b[0m \u001b[0;34m=\u001b[0m \u001b[0;34m[\u001b[0m\u001b[0;34m]\u001b[0m\u001b[0;34m\u001b[0m\u001b[0m\n",
      "\u001b[0;32m~/anaconda/envs/ml/lib/python3.6/site-packages/tensorflow/python/client/session.py\u001b[0m in \u001b[0;36m_do_run\u001b[0;34m(self, handle, target_list, fetch_list, feed_dict, options, run_metadata)\u001b[0m\n\u001b[1;32m   1030\u001b[0m     \u001b[0;32mif\u001b[0m \u001b[0mhandle\u001b[0m \u001b[0;32mis\u001b[0m \u001b[0;32mNone\u001b[0m\u001b[0;34m:\u001b[0m\u001b[0;34m\u001b[0m\u001b[0m\n\u001b[1;32m   1031\u001b[0m       return self._do_call(_run_fn, self._session, feed_dict, fetch_list,\n\u001b[0;32m-> 1032\u001b[0;31m                            target_list, options, run_metadata)\n\u001b[0m\u001b[1;32m   1033\u001b[0m     \u001b[0;32melse\u001b[0m\u001b[0;34m:\u001b[0m\u001b[0;34m\u001b[0m\u001b[0m\n\u001b[1;32m   1034\u001b[0m       return self._do_call(_prun_fn, self._session, handle, feed_dict,\n",
      "\u001b[0;32m~/anaconda/envs/ml/lib/python3.6/site-packages/tensorflow/python/client/session.py\u001b[0m in \u001b[0;36m_do_call\u001b[0;34m(self, fn, *args)\u001b[0m\n\u001b[1;32m   1037\u001b[0m   \u001b[0;32mdef\u001b[0m \u001b[0m_do_call\u001b[0m\u001b[0;34m(\u001b[0m\u001b[0mself\u001b[0m\u001b[0;34m,\u001b[0m \u001b[0mfn\u001b[0m\u001b[0;34m,\u001b[0m \u001b[0;34m*\u001b[0m\u001b[0margs\u001b[0m\u001b[0;34m)\u001b[0m\u001b[0;34m:\u001b[0m\u001b[0;34m\u001b[0m\u001b[0m\n\u001b[1;32m   1038\u001b[0m     \u001b[0;32mtry\u001b[0m\u001b[0;34m:\u001b[0m\u001b[0;34m\u001b[0m\u001b[0m\n\u001b[0;32m-> 1039\u001b[0;31m       \u001b[0;32mreturn\u001b[0m \u001b[0mfn\u001b[0m\u001b[0;34m(\u001b[0m\u001b[0;34m*\u001b[0m\u001b[0margs\u001b[0m\u001b[0;34m)\u001b[0m\u001b[0;34m\u001b[0m\u001b[0m\n\u001b[0m\u001b[1;32m   1040\u001b[0m     \u001b[0;32mexcept\u001b[0m \u001b[0merrors\u001b[0m\u001b[0;34m.\u001b[0m\u001b[0mOpError\u001b[0m \u001b[0;32mas\u001b[0m \u001b[0me\u001b[0m\u001b[0;34m:\u001b[0m\u001b[0;34m\u001b[0m\u001b[0m\n\u001b[1;32m   1041\u001b[0m       \u001b[0mmessage\u001b[0m \u001b[0;34m=\u001b[0m \u001b[0mcompat\u001b[0m\u001b[0;34m.\u001b[0m\u001b[0mas_text\u001b[0m\u001b[0;34m(\u001b[0m\u001b[0me\u001b[0m\u001b[0;34m.\u001b[0m\u001b[0mmessage\u001b[0m\u001b[0;34m)\u001b[0m\u001b[0;34m\u001b[0m\u001b[0m\n",
      "\u001b[0;32m~/anaconda/envs/ml/lib/python3.6/site-packages/tensorflow/python/client/session.py\u001b[0m in \u001b[0;36m_run_fn\u001b[0;34m(session, feed_dict, fetch_list, target_list, options, run_metadata)\u001b[0m\n\u001b[1;32m   1019\u001b[0m         return tf_session.TF_Run(session, options,\n\u001b[1;32m   1020\u001b[0m                                  \u001b[0mfeed_dict\u001b[0m\u001b[0;34m,\u001b[0m \u001b[0mfetch_list\u001b[0m\u001b[0;34m,\u001b[0m \u001b[0mtarget_list\u001b[0m\u001b[0;34m,\u001b[0m\u001b[0;34m\u001b[0m\u001b[0m\n\u001b[0;32m-> 1021\u001b[0;31m                                  status, run_metadata)\n\u001b[0m\u001b[1;32m   1022\u001b[0m \u001b[0;34m\u001b[0m\u001b[0m\n\u001b[1;32m   1023\u001b[0m     \u001b[0;32mdef\u001b[0m \u001b[0m_prun_fn\u001b[0m\u001b[0;34m(\u001b[0m\u001b[0msession\u001b[0m\u001b[0;34m,\u001b[0m \u001b[0mhandle\u001b[0m\u001b[0;34m,\u001b[0m \u001b[0mfeed_dict\u001b[0m\u001b[0;34m,\u001b[0m \u001b[0mfetch_list\u001b[0m\u001b[0;34m)\u001b[0m\u001b[0;34m:\u001b[0m\u001b[0;34m\u001b[0m\u001b[0m\n",
      "\u001b[0;31mKeyboardInterrupt\u001b[0m: "
     ]
    }
   ],
   "source": [
    "sigmas = [i for i in np.arange(0.3,4,0.1)]\n",
    "lolosses = []\n",
    "accuracies = []\n",
    "for i,sigma_ in enumerate(sorted(sigmas)):\n",
    "    dlp_rbf = DeepLP_RBF.DeepLP_RBF(100, num_nodes, features, graph, sigma_, 0.1)\n",
    "    pred,metrics = dlp_rbf.labelprop(data)\n",
    "    lolosses.append(metrics['labeled_loss'])\n",
    "    accuracies.append(metrics['accuracy'])\n",
    "    print(i,lolosses[-1],accuracies[-1])"
   ]
  },
  {
   "cell_type": "code",
   "execution_count": 75,
   "metadata": {
    "collapsed": false
   },
   "outputs": [
    {
     "data": {
      "text/plain": [
       "[<matplotlib.lines.Line2D at 0x1258efcc0>]"
      ]
     },
     "execution_count": 75,
     "metadata": {},
     "output_type": "execute_result"
    },
    {
     "data": {
      "image/png": "[encoded data removed]",
      "text/plain": [
       "<matplotlib.figure.Figure at 0x1258e20b8>"
      ]
     },
     "metadata": {},
     "output_type": "display_data"
    }
   ],
   "source": [
    "plt.plot(sigmas[:30],lolosses[:30])\n"
   ]
  },
  {
   "cell_type": "code",
   "execution_count": 76,
   "metadata": {
    "collapsed": false
   },
   "outputs": [
    {
     "data": {
      "text/plain": [
       "[<matplotlib.lines.Line2D at 0x12ae0a358>]"
      ]
     },
     "execution_count": 76,
     "metadata": {},
     "output_type": "execute_result"
    },
    {
     "data": {
      "image/png": "[encoded data removed]",
      "text/plain": [
       "<matplotlib.figure.Figure at 0x1192fc748>"
      ]
     },
     "metadata": {},
     "output_type": "display_data"
    }
   ],
   "source": [
    "plt.plot(sigmas[:30],accuracies[:30])"
   ]
  },
  {
   "cell_type": "code",
   "execution_count": 72,
   "metadata": {
    "collapsed": true
   },
   "outputs": [],
   "source": [
    "sigmas = [i for i in np.arange(0.1,4,0.1)]"
   ]
  },
  {
   "cell_type": "code",
   "execution_count": 73,
   "metadata": {
    "collapsed": false
   },
   "outputs": [
    {
     "name": "stdout",
     "output_type": "stream",
     "text": [
      "0\n",
      "0\n",
      "graph given\n"
     ]
    },
    {
     "ename": "TypeError",
     "evalue": "iter() got multiple values for argument 'num_iter'",
     "output_type": "error",
     "traceback": [
      "\u001b[0;31m-------------------------\u001b[0m",
      "\u001b[0;31mTypeError\u001b[0mTraceback (most recent call last)",
      "\u001b[0;32m<ipython-input-73-229a7cbb6502>\u001b[0m in \u001b[0;36m<module>\u001b[0;34m()\u001b[0m\n\u001b[1;32m     17\u001b[0m                                       \u001b[0mlabeled_indices\u001b[0m\u001b[0;34m,\u001b[0m\u001b[0;34m\u001b[0m\u001b[0m\n\u001b[1;32m     18\u001b[0m                                       \u001b[0munlabeled_indices\u001b[0m\u001b[0;34m,\u001b[0m\u001b[0;34m\u001b[0m\u001b[0m\n\u001b[0;32m---> 19\u001b[0;31m                                       num_iter=100))\n\u001b[0m\u001b[1;32m     20\u001b[0m     \u001b[0maccuracy_lp\u001b[0m \u001b[0;34m=\u001b[0m \u001b[0mutils\u001b[0m\u001b[0;34m.\u001b[0m\u001b[0maccuracy\u001b[0m\u001b[0;34m(\u001b[0m\u001b[0msolution\u001b[0m\u001b[0;34m,\u001b[0m \u001b[0mlp_iter_prediction\u001b[0m\u001b[0;34m)\u001b[0m\u001b[0;34m\u001b[0m\u001b[0m\n\u001b[1;32m     21\u001b[0m     \u001b[0mrmse_lp\u001b[0m \u001b[0;34m=\u001b[0m \u001b[0mutils\u001b[0m\u001b[0;34m.\u001b[0m\u001b[0mrmse\u001b[0m\u001b[0;34m(\u001b[0m\u001b[0msolution\u001b[0m\u001b[0;34m,\u001b[0m \u001b[0mlp_iter_prediction\u001b[0m\u001b[0;34m)\u001b[0m\u001b[0;34m\u001b[0m\u001b[0m\n",
      "\u001b[0;31mTypeError\u001b[0m: iter() got multiple values for argument 'num_iter'"
     ]
    }
   ],
   "source": [
    "accuracies_dlp = []\n",
    "rmses_dlp = []\n",
    "accuracies_lp = []\n",
    "rmses_lp = []\n",
    "\n",
    "for i,sigma_ in enumerate(sorted(sigmas)):\n",
    "    print(i)\n",
    "    if i % 50 == 0:\n",
    "        print(i)\n",
    "        \n",
    "    weights   = utils.rbf_kernel(features,s=sigma_,G=graph,percentile=percentile)    \n",
    "#     theta_ = np.random.uniform(0.5,4,features.shape[1])\n",
    "#     weights = rbf_kernel(features,theta=theta_,s=sigma,G=graph,percentile=percentile)    \n",
    "    lp = LP.LP()\n",
    "    lp_iter_prediction = np.rint(lp.iter(labels,\n",
    "                                      weights,\n",
    "                                      labeled_indices,\n",
    "                                      unlabeled_indices,\n",
    "                                      num_iter=100))\n",
    "    accuracy_lp = utils.accuracy(solution, lp_iter_prediction)\n",
    "    rmse_lp = utils.rmse(solution, lp_iter_prediction)\n",
    "    accuracies_lp.append(accuracy_lp)\n",
    "    rmses_lp.append(rmse_lp)\n",
    "    \n",
    "    dlp_rbf = DeepLP_RBF.DeepLP_RBF(100, num_nodes, features, graph, sigma_, 0.1)\n",
    "    dlp_rbf_prediction = np.rint(dlp_rbf.labelprop(validation_data,sigma_)).reshape(num_nodes)[unlabeled_indices]\n",
    "    accuracy_dlp = utils.accuracy(solution, dlp_rbf_prediction)\n",
    "    rmse_dlp = utils.rmse(solution, dlp_rbf_prediction)\n",
    "    accuracies_dlp.append(accuracy_dlp)\n",
    "    rmses_dlp.append(rmse_dlp)\n",
    "\n",
    "    print(sigma_,accuracies_lp[-1],accuracies_dlp[-1])\n",
    "#     print(sigma_,accuracies_lp[-1])\n",
    "#     print(sigma_,accuracies_lp[-1])"
   ]
  },
  {
   "cell_type": "code",
   "execution_count": 10,
   "metadata": {
    "collapsed": false
   },
   "outputs": [
    {
     "data": {
      "image/png": "[encoded data removed]",
      "text/plain": [
       "<matplotlib.figure.Figure at 0x118dc4780>"
      ]
     },
     "metadata": {},
     "output_type": "display_data"
    }
   ],
   "source": [
    "\n",
    "plt.plot(sigmas[3:20],accuracies_dlp[3:20])\n",
    "plt.show()"
   ]
  },
  {
   "cell_type": "code",
   "execution_count": 9,
   "metadata": {
    "collapsed": false
   },
   "outputs": [
    {
     "data": {
      "text/plain": [
       "[0.0,\n",
       " 0.0,\n",
       " 0.73135593220338979,\n",
       " 0.7974576271186441,\n",
       " 0.84533898305084743,\n",
       " 0.88601694915254237,\n",
       " 0.89025423728813557,\n",
       " 0.89194915254237284,\n",
       " 0.89449152542372878,\n",
       " 0.87203389830508471,\n",
       " 0.85805084745762716,\n",
       " 0.84533898305084743,\n",
       " 0.84067796610169487,\n",
       " 0.83135593220338988,\n",
       " 0.82372881355932204,\n",
       " 0.81610169491525419,\n",
       " 0.81313559322033901,\n",
       " 0.81228813559322033,\n",
       " 0.80805084745762712,\n",
       " 0.8067796610169492,\n",
       " 0.8046610169491526,\n",
       " 0.80381355932203391,\n",
       " 0.80296610169491522,\n",
       " 0.80127118644067796]"
      ]
     },
     "execution_count": 9,
     "metadata": {},
     "output_type": "execute_result"
    }
   ],
   "source": [
    "accuracies_dlp"
   ]
  },
  {
   "cell_type": "code",
   "execution_count": 31,
   "metadata": {
    "collapsed": false
   },
   "outputs": [
    {
     "data": {
      "image/png": "[encoded data removed]",
      "text/plain": [
       "<matplotlib.figure.Figure at 0x1158a2d30>"
      ]
     },
     "metadata": {},
     "output_type": "display_data"
    }
   ],
   "source": [
    "plt.plot(sigmas,rmses_lp)\n",
    "# plt.plot(sigmas[:20],accuracies_dlp[:20])\n",
    "plt.show()"
   ]
  },
  {
   "cell_type": "code",
   "execution_count": 30,
   "metadata": {
    "collapsed": false
   },
   "outputs": [
    {
     "data": {
      "text/plain": [
       "0.764406779661017"
      ]
     },
     "execution_count": 30,
     "metadata": {},
     "output_type": "execute_result"
    }
   ],
   "source": [
    "accuracies_lp[-1]"
   ]
  },
  {
   "cell_type": "code",
   "execution_count": 39,
   "metadata": {
    "collapsed": false
   },
   "outputs": [
    {
     "data": {
      "text/plain": [
       "array([[0, 0, 0, ..., 1, 0, 0],\n",
       "       [0, 0, 0, ..., 0, 0, 1],\n",
       "       [0, 0, 0, ..., 0, 0, 1],\n",
       "       ..., \n",
       "       [0, 0, 0, ..., 0, 0, 0],\n",
       "       [1, 0, 0, ..., 0, 0, 0],\n",
       "       [0, 1, 0, ..., 0, 0, 0]])"
      ]
     },
     "execution_count": 39,
     "metadata": {},
     "output_type": "execute_result"
    }
   ],
   "source": [
    "features"
   ]
  },
  {
   "cell_type": "code",
   "execution_count": 25,
   "metadata": {
    "collapsed": false
   },
   "outputs": [
    {
     "data": {
      "text/plain": [
       "[0.0,\n",
       " 0.0,\n",
       " 0.0,\n",
       " 0.8182203389830508,\n",
       " 0.81864406779661014,\n",
       " 0.83220338983050846,\n",
       " 0.84067796610169487,\n",
       " 0.84999999999999998,\n",
       " 0.84788135593220337,\n",
       " 0.84745762711864403,\n",
       " 0.84322033898305082,\n",
       " 0.83940677966101696,\n",
       " 0.83305084745762714,\n",
       " 0.83305084745762714,\n",
       " 0.83559322033898309,\n",
       " 0.8347457627118644,\n",
       " 0.83432203389830506,\n",
       " 0.83432203389830506,\n",
       " 0.83389830508474572,\n",
       " 0.83347457627118648,\n",
       " 0.83389830508474572,\n",
       " 0.83516949152542375,\n",
       " 0.8347457627118644,\n",
       " 0.83432203389830506]"
      ]
     },
     "execution_count": 25,
     "metadata": {},
     "output_type": "execute_result"
    }
   ],
   "source": [
    "accuracies_dlp"
   ]
  },
  {
   "cell_type": "code",
   "execution_count": 24,
   "metadata": {
    "collapsed": false
   },
   "outputs": [
    {
     "data": {
      "text/plain": [
       "(24, 25)"
      ]
     },
     "execution_count": 24,
     "metadata": {},
     "output_type": "execute_result"
    }
   ],
   "source": [
    "len(accuracies_dlp),len(accuracies_lp)"
   ]
  },
  {
   "cell_type": "code",
   "execution_count": 39,
   "metadata": {
    "collapsed": false
   },
   "outputs": [],
   "source": [
    "\n",
    "\n",
    "\n",
    "def _get_val(val):\n",
    "    return sess.run(val)\n",
    "\n",
    "def _init_weights(weights_np):\n",
    "    \"\"\" Weight initialization. \"\"\"\n",
    "    weights = tf.convert_to_tensor(weights_np, np.float32)\n",
    "    return tf.Variable(weights)\n",
    "\n",
    "def _tnorm(weights):\n",
    "    Tnorm = weights / tf.reduce_sum(weights, axis = 1, keep_dims=True)\n",
    "    return Tnorm\n",
    "\n",
    "def _forwardprop(X,\n",
    "                       weights,\n",
    "                       labeled,\n",
    "                       num_iter):\n",
    "    '''\n",
    "    Forward prop which mimicks LP.\n",
    "    '''\n",
    "\n",
    "    Tnorm = _tnorm(weights)\n",
    "\n",
    "    def layer(i,h,X,Tnorm):\n",
    "        # propagate labels\n",
    "        h = tf.matmul(h,Tnorm,transpose_b=True)\n",
    "        # don't update labeled nodes\n",
    "        h = tf.multiply(h, (1-labeled)) + tf.multiply(X, labeled)\n",
    "        return [i+1,h,X,Tnorm]\n",
    "\n",
    "    def condition(i,X,trueX,Tnorm):\n",
    "        return num_iter > i\n",
    "\n",
    "    _,yhat,_,_ = tf.while_loop(condition, layer, loop_vars=[0,X,X,Tnorm])\n",
    "    return yhat\n",
    "\n",
    "def _regularize_loss():\n",
    "    return 0\n",
    "    # tf.nn.l2_loss(theta-1)\n",
    "    \n",
    "# set instance variables\n",
    "num_iter     = 100\n",
    "lr           = 0.1\n",
    "regularize   = False\n",
    "graph_sparse = False\n",
    "print_freq   = 10\n",
    "multi_class  = False\n",
    "\n",
    "weights      = _init_weights(weights)\n",
    "\n",
    "# initialize placeholders\n",
    "shape             = [None, num_nodes]\n",
    "X            = tf.placeholder(\"float\", shape=shape)\n",
    "y            = tf.placeholder(\"float\", shape=shape)\n",
    "labeled      = tf.placeholder(\"float\", shape=shape)\n",
    "true_labeled = tf.placeholder(\"float\", shape=shape)\n",
    "masked       = tf.placeholder(\"float\", shape=shape)\n",
    "\n",
    "yhat         = _forwardprop(X,\n",
    "                                      weights,\n",
    "                                      labeled,\n",
    "                                      num_iter)\n"
   ]
  },
  {
   "cell_type": "code",
   "execution_count": 40,
   "metadata": {
    "collapsed": false
   },
   "outputs": [],
   "source": [
    "sess=tf.Session()\n",
    "sess.run(tf.global_variables_initializer())\n"
   ]
  },
  {
   "cell_type": "code",
   "execution_count": 41,
   "metadata": {
    "collapsed": false
   },
   "outputs": [],
   "source": [
    "yhatnp = sess.run(yhat,feed_dict={X:data['X'],\n",
    "                                              y:data['y'],\n",
    "                                              labeled:data['labeled'],\n",
    "                                              true_labeled:data['true_labeled'],\n",
    "                                              masked:data['masked']})"
   ]
  },
  {
   "cell_type": "code",
   "execution_count": 10,
   "metadata": {
    "collapsed": false
   },
   "outputs": [],
   "source": [
    "def _calc_loss(y,yhat,mask):\n",
    "    loss_mat = tf.multiply(mask, (y-yhat) ** 2 )\n",
    "    return tf.reduce_sum(loss_mat) / tf.count_nonzero(mask,dtype=tf.float32)\n"
   ]
  },
  {
   "cell_type": "code",
   "execution_count": 21,
   "metadata": {
    "collapsed": false
   },
   "outputs": [
    {
     "data": {
      "text/plain": [
       "array([[ 0.,  0.,  0., ...,  0.,  0.,  0.],\n",
       "       [ 0.,  0.,  0., ...,  0.,  0.,  0.],\n",
       "       [ 0.,  0.,  0., ...,  0.,  0.,  0.],\n",
       "       ..., \n",
       "       [ 0.,  0.,  0., ...,  1.,  0.,  0.],\n",
       "       [ 0.,  0.,  0., ...,  0.,  1.,  0.],\n",
       "       [ 0.,  0.,  0., ...,  0.,  0.,  1.]])"
      ]
     },
     "execution_count": 21,
     "metadata": {},
     "output_type": "execute_result"
    }
   ],
   "source": [
    "data['masked']"
   ]
  },
  {
   "cell_type": "code",
   "execution_count": 11,
   "metadata": {
    "collapsed": false
   },
   "outputs": [
    {
     "data": {
      "text/plain": [
       "(<tf.Tensor 'Placeholder_1:0' shape=(?, 2485) dtype=float32>,\n",
       " <tf.Tensor 'while/Exit_1:0' shape=(?, 2485) dtype=float32>,\n",
       " <tf.Tensor 'Placeholder_4:0' shape=(?, 2485) dtype=float32>)"
      ]
     },
     "execution_count": 11,
     "metadata": {},
     "output_type": "execute_result"
    }
   ],
   "source": [
    "y,yhat,masked"
   ]
  },
  {
   "cell_type": "code",
   "execution_count": 16,
   "metadata": {
    "collapsed": false
   },
   "outputs": [],
   "source": [
    "res = _calc_loss(y,yhat,masked)"
   ]
  },
  {
   "cell_type": "code",
   "execution_count": 17,
   "metadata": {
    "collapsed": true
   },
   "outputs": [],
   "source": [
    "resval = sess.run(res,feed_dict={X:data['X'],\n",
    "                                              y:data['y'],\n",
    "                                              labeled:data['labeled'],\n",
    "                                              true_labeled:data['true_labeled'],\n",
    "                                              masked:data['masked']})"
   ]
  },
  {
   "cell_type": "code",
   "execution_count": 23,
   "metadata": {
    "collapsed": false
   },
   "outputs": [
    {
     "data": {
      "text/plain": [
       "{'X': array([[ 0.5,  0.5,  0.5, ...,  0. ,  0. ,  1. ],\n",
       "        [ 0.5,  0.5,  0.5, ...,  0. ,  0. ,  1. ],\n",
       "        [ 0.5,  0.5,  0.5, ...,  0. ,  0. ,  1. ],\n",
       "        ..., \n",
       "        [ 0.5,  0.5,  0.5, ...,  0.5,  0. ,  1. ],\n",
       "        [ 0.5,  0.5,  0.5, ...,  0. ,  0.5,  1. ],\n",
       "        [ 0.5,  0.5,  0.5, ...,  0. ,  0. ,  0.5]]),\n",
       " 'labeled': array([[ 0.,  0.,  0., ...,  1.,  1.,  1.],\n",
       "        [ 0.,  0.,  0., ...,  1.,  1.,  1.],\n",
       "        [ 0.,  0.,  0., ...,  1.,  1.,  1.],\n",
       "        ..., \n",
       "        [ 0.,  0.,  0., ...,  0.,  1.,  1.],\n",
       "        [ 0.,  0.,  0., ...,  1.,  0.,  1.],\n",
       "        [ 0.,  0.,  0., ...,  1.,  1.,  0.]]),\n",
       " 'masked': array([[ 0.,  0.,  0., ...,  0.,  0.,  0.],\n",
       "        [ 0.,  0.,  0., ...,  0.,  0.,  0.],\n",
       "        [ 0.,  0.,  0., ...,  0.,  0.,  0.],\n",
       "        ..., \n",
       "        [ 0.,  0.,  0., ...,  1.,  0.,  0.],\n",
       "        [ 0.,  0.,  0., ...,  0.,  1.,  0.],\n",
       "        [ 0.,  0.,  0., ...,  0.,  0.,  1.]]),\n",
       " 'true_labeled': array([[ 0.,  0.,  0., ...,  1.,  1.,  1.]]),\n",
       " 'y': array([[1, 0, 0, ..., 0, 0, 1]])}"
      ]
     },
     "execution_count": 23,
     "metadata": {},
     "output_type": "execute_result"
    }
   ],
   "source": [
    "data"
   ]
  },
  {
   "cell_type": "code",
   "execution_count": 11,
   "metadata": {
    "collapsed": false
   },
   "outputs": [],
   "source": [
    "ynp=data['y']\n",
    "maskednp=data['masked']"
   ]
  },
  {
   "cell_type": "code",
   "execution_count": 20,
   "metadata": {
    "collapsed": false
   },
   "outputs": [
    {
     "data": {
      "text/plain": [
       "array([[ 0.,  0.,  0., ...,  0.,  0.,  0.],\n",
       "       [ 0.,  0.,  0., ...,  0.,  0.,  0.],\n",
       "       [ 0.,  0.,  0., ...,  0.,  0.,  0.],\n",
       "       ..., \n",
       "       [ 0.,  0.,  0., ...,  0.,  0.,  0.],\n",
       "       [ 0.,  0.,  0., ...,  0.,  0.,  0.],\n",
       "       [ 0.,  0.,  0., ...,  0.,  0.,  0.]])"
      ]
     },
     "execution_count": 20,
     "metadata": {},
     "output_type": "execute_result"
    }
   ],
   "source": [
    "weights"
   ]
  },
  {
   "cell_type": "code",
   "execution_count": 15,
   "metadata": {
    "collapsed": true
   },
   "outputs": [],
   "source": [
    "a=np.array([1,2])"
   ]
  },
  {
   "cell_type": "code",
   "execution_count": 17,
   "metadata": {
    "collapsed": false
   },
   "outputs": [
    {
     "data": {
      "text/plain": [
       "array([2])"
      ]
     },
     "execution_count": 17,
     "metadata": {},
     "output_type": "execute_result"
    }
   ],
   "source": [
    "np.delete(a,np.argwhere(a==1))"
   ]
  },
  {
   "cell_type": "code",
   "execution_count": 11,
   "metadata": {
    "collapsed": false
   },
   "outputs": [
    {
     "data": {
      "text/plain": [
       "array([1, 2])"
      ]
     },
     "execution_count": 11,
     "metadata": {},
     "output_type": "execute_result"
    }
   ],
   "source": [
    "a"
   ]
  },
  {
   "cell_type": "code",
   "execution_count": 29,
   "metadata": {
    "collapsed": false
   },
   "outputs": [],
   "source": [
    "lp = LP.LP()\n",
    "lp_closed_prediction = lp.closed(labels,\n",
    "                                      weights,\n",
    "                                      labeled_indices,\n",
    "                                      unlabeled_indices)"
   ]
  },
  {
   "cell_type": "code",
   "execution_count": 27,
   "metadata": {
    "collapsed": false
   },
   "outputs": [],
   "source": [
    "lp_iter_prediction = lp.iter(labels,\n",
    "                                      weights,\n",
    "                                      is_labeled,\n",
    "                                      100)"
   ]
  },
  {
   "cell_type": "code",
   "execution_count": 37,
   "metadata": {
    "collapsed": false
   },
   "outputs": [
    {
     "data": {
      "text/plain": [
       "2485.0000000000009"
      ]
     },
     "execution_count": 37,
     "metadata": {},
     "output_type": "execute_result"
    }
   ],
   "source": [
    "np.sum(weights / np.sum(weights, axis=1, keepdims=True))"
   ]
  },
  {
   "cell_type": "code",
   "execution_count": 33,
   "metadata": {
    "collapsed": false
   },
   "outputs": [
    {
     "data": {
      "text/plain": [
       "array([ 0.52565302,  0.1161457 ,  0.25350705,  0.27912343,  0.36684511,\n",
       "        0.18430351,  0.12652251,  0.52046414,  0.52568683,  0.11626604,\n",
       "        0.28967816,  0.34800238,  0.23613731,  0.10795482,  0.53047153,\n",
       "        0.34597792,  0.25035015,  0.42443368,  0.43189553,  0.11098947])"
      ]
     },
     "execution_count": 33,
     "metadata": {},
     "output_type": "execute_result"
    }
   ],
   "source": [
    "lp_closed_prediction[:20]"
   ]
  },
  {
   "cell_type": "code",
   "execution_count": 36,
   "metadata": {
    "collapsed": false
   },
   "outputs": [
    {
     "data": {
      "text/plain": [
       "array([ 0.56907634,  0.1488534 ,  0.29756529,  0.32336253,  0.4311877 ,\n",
       "        0.26226235,  0.16594075,  0.56074106,  0.56902315,  0.15972446,\n",
       "        0.29553803,  0.39816231,  0.33672749,  0.14298132,  0.57364065,\n",
       "        0.38557258,  0.29706831,  0.46896884,  0.4795729 ,  0.12297364])"
      ]
     },
     "execution_count": 36,
     "metadata": {},
     "output_type": "execute_result"
    }
   ],
   "source": [
    "lp_iter_prediction[0][:20]"
   ]
  },
  {
   "cell_type": "code",
   "execution_count": 5,
   "metadata": {
    "collapsed": false
   },
   "outputs": [
    {
     "name": "stdout",
     "output_type": "stream",
     "text": [
      "1\n",
      "2\n",
      "3\n",
      "4\n",
      "5\n",
      "6\n",
      "7\n",
      "8\n",
      "9\n",
      "10\n",
      "11\n",
      "12\n",
      "13\n",
      "14\n",
      "15\n",
      "16\n",
      "17\n",
      "18\n",
      "19\n",
      "20\n",
      "21\n",
      "22\n",
      "23\n",
      "24\n",
      "25\n",
      "26\n",
      "27\n",
      "28\n",
      "29\n",
      "30\n",
      "31\n",
      "32\n",
      "33\n",
      "34\n",
      "35\n",
      "36\n",
      "37\n",
      "38\n",
      "39\n",
      "40\n",
      "41\n",
      "42\n",
      "43\n",
      "44\n",
      "45\n",
      "46\n",
      "47\n",
      "48\n",
      "49\n",
      "50\n",
      "51\n",
      "52\n",
      "53\n",
      "54\n",
      "55\n",
      "56\n",
      "57\n",
      "58\n",
      "59\n",
      "60\n",
      "61\n",
      "62\n",
      "63\n",
      "64\n",
      "65\n",
      "66\n",
      "67\n",
      "68\n",
      "69\n",
      "70\n",
      "71\n",
      "72\n",
      "73\n",
      "74\n",
      "75\n",
      "76\n",
      "77\n",
      "78\n",
      "79\n",
      "80\n",
      "81\n",
      "82\n",
      "83\n",
      "84\n",
      "85\n",
      "86\n",
      "87\n",
      "88\n",
      "89\n",
      "90\n",
      "91\n",
      "92\n",
      "93\n",
      "94\n",
      "95\n",
      "96\n",
      "97\n",
      "98\n",
      "99\n",
      "100\n",
      "101\n",
      "102\n",
      "103\n",
      "104\n",
      "105\n",
      "106\n",
      "107\n",
      "108\n",
      "109\n",
      "110\n",
      "111\n",
      "112\n",
      "113\n",
      "114\n",
      "115\n",
      "116\n",
      "117\n",
      "118\n",
      "119\n",
      "120\n",
      "121\n",
      "122\n",
      "123\n",
      "124\n",
      "125\n"
     ]
    }
   ],
   "source": [
    "reslp = []\n",
    "i=0\n",
    "for x,masked,labeled in zip(data['X'],data['masked'],data['labeled']):\n",
    "    lp = LP.LP()\n",
    "    labeled=labeled.reshape(1,2485)\n",
    "    masked=masked.reshape(1,2485)\n",
    "    is_labeled=is_labeled.reshape(1,2485)\n",
    "    x=x.reshape(1,2485)\n",
    "    labeled_new = is_labeled * labeled\n",
    "    \n",
    "    lp_iter_prediction = lp.iter(x,\n",
    "                                      weights,\n",
    "                                      labeled_new,\n",
    "                                      num_iter=100)\n",
    "    \n",
    "    reslp.append(np.sum(lp_iter_prediction * masked))\n",
    "    i+=1\n",
    "    print(i)\n"
   ]
  },
  {
   "cell_type": "code",
   "execution_count": 38,
   "metadata": {
    "collapsed": false
   },
   "outputs": [
    {
     "ename": "NameError",
     "evalue": "name 'yhatnp' is not defined",
     "output_type": "error",
     "traceback": [
      "\u001b[0;31m-------------------------\u001b[0m",
      "\u001b[0;31mNameError\u001b[0mTraceback (most recent call last)",
      "\u001b[0;32m<ipython-input-38-26c533d2670e>\u001b[0m in \u001b[0;36m<module>\u001b[0;34m()\u001b[0m\n\u001b[0;32m----> 1\u001b[0;31m \u001b[0mreslp\u001b[0m\u001b[0;34m,\u001b[0m\u001b[0myhatnp\u001b[0m\u001b[0;34m\u001b[0m\u001b[0m\n\u001b[0m",
      "\u001b[0;31mNameError\u001b[0m: name 'yhatnp' is not defined"
     ]
    }
   ],
   "source": [
    "reslp,yhatnp"
   ]
  },
  {
   "cell_type": "code",
   "execution_count": 46,
   "metadata": {
    "collapsed": false
   },
   "outputs": [
    {
     "data": {
      "text/plain": [
       "array([  2.03196049e-01,   2.84753859e-01,   8.26150298e-01,\n",
       "         2.14462459e-01,   2.19110742e-01,   1.93070590e-01,\n",
       "         3.16278160e-01,   5.74218750e-01,   2.11974978e-01,\n",
       "         4.69786704e-01,   4.71218348e-01,   4.73106921e-01,\n",
       "         5.77281833e-01,   1.81173906e-01,   8.62874985e-01,\n",
       "         2.24175602e-01,   1.07314549e-01,   5.51628947e-01,\n",
       "         1.83522001e-01,   1.89263210e-01,   3.81870627e-01,\n",
       "         1.92041367e-01,   1.84636742e-01,   4.65285242e-01,\n",
       "         2.01302722e-01,   4.75971907e-01,   1.49426252e-01,\n",
       "         5.02998412e-01,   1.84825316e-01,   1.59925550e-01,\n",
       "         2.06095085e-01,   5.35488605e-01,   7.21602678e-01,\n",
       "         5.85253656e-01,   1.93428934e-01,   1.36784658e-01,\n",
       "         1.87277302e-01,   1.41803563e-01,   1.85357243e-01,\n",
       "         1.63290054e-01,   1.95773661e-01,   8.78956974e-01,\n",
       "         2.27847010e-01,   1.05522372e-01,   1.51403919e-01,\n",
       "         7.91487217e-01,   8.77067566e-01,   7.72174954e-01,\n",
       "         3.81263763e-01,   7.42883980e-02,   9.68867242e-02,\n",
       "         6.07397109e-02,   1.70659825e-01,   2.28171125e-01,\n",
       "         5.77945113e-01,   1.95584446e-01,   4.44089210e-16,\n",
       "         1.47186086e-01,   1.00000000e+00,   1.07362494e-01,\n",
       "         2.50988513e-01,   2.01703176e-01,   2.38503933e-01,\n",
       "         2.29210854e-01,   1.82254687e-01,   2.45750606e-01,\n",
       "         2.62880802e-01,   2.14126796e-01,   2.10826248e-01,\n",
       "         1.86760694e-01,   2.53638983e-01,   4.42970619e-02,\n",
       "         2.14064524e-01,   1.64518673e-02,   1.81193337e-01,\n",
       "         2.46373743e-01,   2.12883174e-01,   4.42725569e-01,\n",
       "         2.04022616e-01,   3.39898288e-01,   2.37228960e-01,\n",
       "         1.12179689e-01,   2.63436049e-01,   3.15965950e-01,\n",
       "         2.30178684e-01,   3.49074900e-01,   8.25437605e-02,\n",
       "         8.38486791e-01,   9.90663916e-02,   2.12152585e-01,\n",
       "         3.45009148e-01,   2.45862633e-01,   5.05074143e-01,\n",
       "         7.68043399e-01,   2.62238204e-01,   2.01025069e-01,\n",
       "         1.89013049e-01,   2.44900912e-01,   5.54627419e-01,\n",
       "         2.50799626e-01,   9.99999881e-01,   5.69189340e-02,\n",
       "         1.82358921e-01,   3.96289468e-01,   2.95507222e-01,\n",
       "         4.79899049e-01,   1.48349956e-01,   3.35556149e-01,\n",
       "         3.56659651e-01,   4.74416874e-02,   1.00489765e-01,\n",
       "         1.73390314e-01,   3.91202688e-01,   2.36589760e-01,\n",
       "         5.48354268e-01,   1.17884316e-01,   1.47345886e-01,\n",
       "         2.12538198e-01,   6.34392872e-02,   1.39195710e-01,\n",
       "         1.54922321e-01,   4.74416874e-02,   2.28020906e-01,\n",
       "         5.44793367e-01], dtype=float32)"
      ]
     },
     "execution_count": 46,
     "metadata": {},
     "output_type": "execute_result"
    }
   ],
   "source": [
    "yhatnp[np.nonzero(yhatnp * data['masked'])]"
   ]
  },
  {
   "cell_type": "code",
   "execution_count": 29,
   "metadata": {
    "collapsed": false
   },
   "outputs": [
    {
     "data": {
      "text/plain": [
       "0.12296216991775176"
      ]
     },
     "execution_count": 29,
     "metadata": {},
     "output_type": "execute_result"
    }
   ],
   "source": [
    "np.mean((np.squeeze(reslp)-true_labels[labeled_indices])**2)"
   ]
  },
  {
   "cell_type": "code",
   "execution_count": 30,
   "metadata": {
    "collapsed": false
   },
   "outputs": [
    {
     "data": {
      "text/plain": [
       "array([  2.03196074e-01,   2.87959753e-01,   8.26753723e-01,\n",
       "         2.16379085e-01,   2.21073347e-01,   1.96423095e-01,\n",
       "         3.19918076e-01,   5.75353029e-01,   2.22183183e-01,\n",
       "         4.71341015e-01,   4.72555465e-01,   4.74835892e-01,\n",
       "         5.78606449e-01,   1.81550799e-01,   8.63268201e-01,\n",
       "         2.29422260e-01,   1.07546065e-01,   5.52745981e-01,\n",
       "         1.86997632e-01,   2.27172089e-01,   3.83511769e-01,\n",
       "         1.94804397e-01,   1.92870219e-01,   4.66334824e-01,\n",
       "         2.05486046e-01,   4.76283807e-01,   1.53767108e-01,\n",
       "         5.03377242e-01,   1.89654509e-01,   1.60275170e-01,\n",
       "         2.09600151e-01,   5.36860488e-01,   7.22451201e-01,\n",
       "         5.85253659e-01,   1.96991479e-01,   1.38192404e-01,\n",
       "         1.87794393e-01,   1.43444632e-01,   1.86285786e-01,\n",
       "         1.64507386e-01,   2.00180785e-01,   8.79465753e-01,\n",
       "         2.30298700e-01,   1.05694215e-01,   1.55582833e-01,\n",
       "         7.92916256e-01,   8.77423368e-01,   7.73719126e-01,\n",
       "         3.82284207e-01,   7.50920264e-02,   9.83757252e-02,\n",
       "         6.13965173e-02,   1.77321735e-01,   2.31539830e-01,\n",
       "         5.78923276e-01,   1.99059867e-01,   4.44089210e-16,\n",
       "         1.48104103e-01,   1.00000000e+00,   1.08878581e-01,\n",
       "         2.53277666e-01,   2.03891013e-01,   2.40890974e-01,\n",
       "         2.31351575e-01,   1.85077236e-01,   2.48954864e-01,\n",
       "         2.65799258e-01,   2.23148154e-01,   2.12681775e-01,\n",
       "         1.88659856e-01,   2.57482139e-01,   4.47897536e-02,\n",
       "         2.26525533e-01,   1.66367213e-02,   1.83676439e-01,\n",
       "         2.47664804e-01,   2.25591903e-01,   4.44248348e-01,\n",
       "         2.06915342e-01,   3.41138961e-01,   2.39649961e-01,\n",
       "         1.18808246e-01,   2.65662785e-01,   3.19213876e-01,\n",
       "         2.32143604e-01,   3.51610282e-01,   8.26428580e-02,\n",
       "         8.38908083e-01,   1.02228297e-01,   2.14613313e-01,\n",
       "         3.46857003e-01,   2.47373434e-01,   0.00000000e+00,\n",
       "         5.06241085e-01,   7.68573584e-01,   2.64973036e-01,\n",
       "         2.04604968e-01,   1.91654681e-01,   2.47570547e-01,\n",
       "         5.55945050e-01,   2.53947746e-01,   1.00000000e+00,\n",
       "         5.70487768e-02,   1.82874510e-01,   3.98871665e-01,\n",
       "         2.95756335e-01,   4.81339656e-01,   1.50951185e-01,\n",
       "         3.36574367e-01,   3.59077551e-01,   4.78791215e-02,\n",
       "         1.01513101e-01,   1.76733579e-01,   3.93525818e-01,\n",
       "         2.36781915e-01,   5.49187253e-01,   1.23294984e-01,\n",
       "         1.49372763e-01,   2.12752882e-01,   6.37297896e-02,\n",
       "         1.40344964e-01,   1.56780352e-01,   4.78791215e-02,\n",
       "         2.32408911e-01,   5.46201044e-01])"
      ]
     },
     "execution_count": 30,
     "metadata": {},
     "output_type": "execute_result"
    }
   ],
   "source": [
    "np.squeeze(reslp)"
   ]
  },
  {
   "cell_type": "code",
   "execution_count": 14,
   "metadata": {
    "collapsed": false
   },
   "outputs": [
    {
     "data": {
      "text/plain": [
       "((125, 2361), (125, 2360))"
      ]
     },
     "execution_count": 14,
     "metadata": {},
     "output_type": "execute_result"
    }
   ],
   "source": [
    "np.array(reslp).shape,yhatnp[:,unlabeled_indices].shape"
   ]
  },
  {
   "cell_type": "code",
   "execution_count": 15,
   "metadata": {
    "collapsed": true
   },
   "outputs": [],
   "source": [
    "a=np.array(reslp)\n",
    "b=yhatnp[:,unlabeled_indices]"
   ]
  },
  {
   "cell_type": "code",
   "execution_count": 16,
   "metadata": {
    "collapsed": false
   },
   "outputs": [
    {
     "data": {
      "text/plain": [
       "(array([[ 0.57163985,  0.15829404,  0.30376943, ...,  0.33926387,\n",
       "          0.37069697,  0.5       ],\n",
       "        [ 0.56971756,  0.14949207,  0.29821789, ...,  0.38817211,\n",
       "          0.37166759,  0.5       ],\n",
       "        [ 0.56849028,  0.1484912 ,  0.29627202, ...,  0.33445545,\n",
       "          0.36753107,  0.5       ],\n",
       "        ..., \n",
       "        [ 0.56949236,  0.14945657,  0.29884948, ...,  0.33658866,\n",
       "          0.36877492,  0.5       ],\n",
       "        [ 0.56986875,  0.15161162,  0.30056026, ...,  0.33738106,\n",
       "          0.36904941,  0.5       ],\n",
       "        [ 0.56758845,  0.14807309,  0.29635351, ...,  0.33096636,\n",
       "          0.36722701,  0.5       ]]),\n",
       " array([[ 0.57068408,  0.15365428,  0.30098453, ...,  0.19597585,\n",
       "          0.33799326,  0.36994815],\n",
       "        [ 0.56954861,  0.14930478,  0.2980383 , ...,  0.19312583,\n",
       "          0.36703902,  0.37066436],\n",
       "        [ 0.5688839 ,  0.14873442,  0.29713422, ...,  0.19212209,\n",
       "          0.33546871,  0.36813751],\n",
       "        ..., \n",
       "        [ 0.56916571,  0.1489667 ,  0.29779294, ...,  0.19256021,\n",
       "          0.33609578,  0.36851561],\n",
       "        [ 0.56970346,  0.15077305,  0.29963773, ...,  0.19378017,\n",
       "          0.33704931,  0.36894467],\n",
       "        [ 0.56779408,  0.14818054,  0.2965194 , ...,  0.19126411,\n",
       "          0.33160999,  0.36739218]], dtype=float32))"
      ]
     },
     "execution_count": 16,
     "metadata": {},
     "output_type": "execute_result"
    }
   ],
   "source": [
    "a,b"
   ]
  },
  {
   "cell_type": "code",
   "execution_count": 12,
   "metadata": {
    "collapsed": false
   },
   "outputs": [
    {
     "data": {
      "text/plain": [
       "0.074084131630359568"
      ]
     },
     "execution_count": 12,
     "metadata": {},
     "output_type": "execute_result"
    }
   ],
   "source": [
    "np.sum(maskednp * (ynp-yhatnp) ** 2) / np.count_nonzero(maskednp)"
   ]
  },
  {
   "cell_type": "code",
   "execution_count": 24,
   "metadata": {
    "collapsed": false
   },
   "outputs": [
    {
     "data": {
      "text/plain": [
       "array([[1, 0, 0, ..., 0, 0, 1]])"
      ]
     },
     "execution_count": 24,
     "metadata": {},
     "output_type": "execute_result"
    }
   ],
   "source": [
    "ynp"
   ]
  },
  {
   "cell_type": "code",
   "execution_count": 8,
   "metadata": {
    "collapsed": false
   },
   "outputs": [
    {
     "data": {
      "text/plain": [
       "array([2, 2, 4, ..., 3, 1, 3])"
      ]
     },
     "execution_count": 8,
     "metadata": {},
     "output_type": "execute_result"
    }
   ],
   "source": [
    "np.sum(features * features, axis=1)"
   ]
  },
  {
   "cell_type": "code",
   "execution_count": 11,
   "metadata": {
    "collapsed": false
   },
   "outputs": [
    {
     "data": {
      "text/plain": [
       "array([[2, 0, 0, ..., 0, 0, 0],\n",
       "       [0, 2, 2, ..., 1, 0, 0],\n",
       "       [0, 2, 4, ..., 2, 0, 0],\n",
       "       ..., \n",
       "       [0, 1, 2, ..., 3, 0, 0],\n",
       "       [0, 0, 0, ..., 0, 1, 0],\n",
       "       [0, 0, 0, ..., 0, 0, 3]])"
      ]
     },
     "execution_count": 11,
     "metadata": {},
     "output_type": "execute_result"
    }
   ],
   "source": [
    "features @ features.T"
   ]
  },
  {
   "cell_type": "code",
   "execution_count": 55,
   "metadata": {
    "collapsed": false
   },
   "outputs": [
    {
     "data": {
      "text/plain": [
       "array([0, 0, 0, 0, 0, 0, 0, 0, 0, 0, 0, 0, 0, 0, 0, 1, 0, 0, 1])"
      ]
     },
     "execution_count": 55,
     "metadata": {},
     "output_type": "execute_result"
    }
   ],
   "source": [
    "features[1]"
   ]
  },
  {
   "cell_type": "code",
   "execution_count": 21,
   "metadata": {
    "collapsed": false
   },
   "outputs": [
    {
     "name": "stdout",
     "output_type": "stream",
     "text": [
      "0\n",
      "hi\n",
      "[ 2.02628044  1.19450436  2.57404266  0.96248108  3.06456589  2.71033147\n",
      "  2.46038856  1.94946962  3.00232759  3.42431212  1.84317861  3.48630929\n",
      "  2.56762759  1.63096131  2.74101107  3.02932748  1.64176901  2.15518114\n",
      "  3.49563196]\n",
      "0.844491525424\n",
      "hi\n",
      "[ 1.63771657  1.80822701  3.92800206  1.64847068  1.1071544   2.33827566\n",
      "  3.58681737  1.20495782  1.04006146  3.37578736  2.92288964  2.04798005\n",
      "  3.06065114  1.43610955  2.09173424  0.59781255  0.82008608  1.71243731\n",
      "  2.59884328]\n",
      "0.841949152542\n",
      "hi\n",
      "[ 3.90943552  1.73965757  3.68955532  3.72284978  1.33334503  2.18024058\n",
      "  3.2774972   1.67303502  1.01951588  3.47232145  3.08663811  3.01407815\n",
      "  2.22722414  1.10678607  2.55053819  3.00973293  1.38884229  1.55755151\n",
      "  3.83865509]\n",
      "0.851271186441\n",
      "hi\n",
      "[ 2.28063716  3.37116237  3.19164961  3.87481998  1.92550923  2.33911803\n",
      "  3.70932432  3.06925816  1.34350713  1.77447154  2.63138941  1.70803587\n",
      "  3.41494771  1.73380821  1.20447592  2.31934395  3.93757738  2.82139935\n",
      "  1.66842561]\n",
      "0.858474576271\n",
      "hi\n",
      "[ 2.72792782  2.74911632  2.5938465   0.54825152  1.05333682  3.9714915\n",
      "  2.90480083  3.86680941  2.38631977  1.00358643  3.35162525  1.1296604\n",
      "  1.96981473  2.36769577  2.45102847  2.20662633  1.27941791  2.44076024\n",
      "  2.27332069]\n",
      "0.847457627119\n",
      "hi\n",
      "[ 2.46089116  0.69562705  3.44567245  1.29151726  2.22553815  2.22078346\n",
      "  3.43988124  2.91033248  3.32042616  2.77025124  2.99161176  2.99291487\n",
      "  3.95816218  2.92346694  2.73456722  2.27337607  3.16049431  0.55996412\n",
      "  0.50510479]\n",
      "0.841101694915\n",
      "hi\n",
      "[ 2.80602563  3.76392202  0.87422525  2.98984484  3.97734584  1.38084288\n",
      "  3.41293029  1.90828921  1.62820892  2.10161443  3.43010848  3.28764531\n",
      "  1.74657465  3.60330649  2.57332115  2.68764097  0.74535269  2.4398241\n",
      "  3.14956734]\n",
      "0.850423728814\n",
      "hi\n",
      "[ 3.98008991  2.54963469  1.46495328  2.72491639  0.71497191  1.81288261\n",
      "  3.61711347  1.78090495  3.26775877  3.28170534  1.27628876  1.4326756\n",
      "  2.00789258  3.89695113  3.08816753  0.94149452  2.10175502  0.92643424\n",
      "  1.55486121]\n",
      "0.849576271186\n",
      "hi\n",
      "[ 3.85090219  2.17846301  0.70736252  2.77740439  3.4975868   2.65963405\n",
      "  0.8967438   2.07551769  1.51421264  0.76623924  3.19697608  2.25254327\n",
      "  2.70865041  1.93622232  3.92187034  3.99555675  3.52918809  3.15614485\n",
      "  2.99513669]\n",
      "0.848305084746\n",
      "hi\n",
      "[ 2.51725703  3.98210334  1.82966166  0.81225408  1.7274251   3.94884209\n",
      "  1.55369496  1.25312425  1.88728788  0.66187791  1.26660977  0.53705038\n",
      "  2.91218625  2.22815175  0.56992188  1.82913896  0.83443945  2.99421558\n",
      "  2.95619454]\n",
      "0.858474576271\n",
      "10\n",
      "hi\n",
      "[ 0.55559277  1.6570144   1.75846403  0.99710666  3.7916494   1.70697207\n",
      "  3.03549567  3.30799152  2.38317602  1.15155655  2.55157641  3.75901079\n",
      "  3.90803538  3.86823191  0.8949113   3.44067207  3.37792934  3.94096587\n",
      "  1.72846195]\n",
      "0.841949152542\n",
      "hi\n",
      "[ 2.00676259  1.67900605  0.51020047  1.19458032  1.52981076  1.19193854\n",
      "  2.78335384  1.00552491  2.1814056   0.71675554  0.93918239  0.80281448\n",
      "  3.41058835  1.05709407  2.02879073  1.39434417  1.428507    2.20453214\n",
      "  1.61613283]\n",
      "0.838983050847\n",
      "hi\n",
      "[ 1.92991244  1.24400241  1.00423806  2.85914324  3.06851296  1.77872806\n",
      "  1.6606395   3.99864927  0.89513553  0.77620798  3.28185587  3.83202665\n",
      "  1.32560565  2.46159722  2.27292968  3.99324033  1.22892782  2.25548313\n",
      "  0.93999595]\n",
      "0.847033898305\n",
      "hi\n",
      "[ 2.32248975  2.8140736   0.89374738  1.71096022  2.95408189  2.84035784\n",
      "  1.47158467  2.68779081  0.9666971   3.18847336  3.37980815  0.58543145\n",
      "  3.43239917  3.31775578  0.55409427  1.80737617  3.09343093  0.73480281\n",
      "  3.37606382]\n",
      "0.862288135593\n",
      "hi\n",
      "[ 3.81526263  3.71527398  3.93353381  1.24827228  2.38005478  2.94838321\n",
      "  2.32727955  2.00201572  2.21380911  3.01693093  1.63663104  2.18558872\n",
      "  2.95785042  3.0585789   3.12247565  0.69088858  2.05230913  3.85620742\n",
      "  2.16475296]\n",
      "0.85593220339\n",
      "hi\n",
      "[ 1.49283988  1.37633602  1.30760777  0.82389496  0.57407544  1.49190408\n",
      "  1.38296445  2.46455442  3.56770826  3.56532859  2.83035949  0.57021211\n",
      "  1.32599723  2.05643017  1.08128556  3.67253919  0.6955765   2.93923418\n",
      "  2.78839608]\n",
      "0.848728813559\n",
      "hi\n",
      "[ 0.91052356  3.1434011   2.54880312  2.56473677  2.53209231  0.99667727\n",
      "  0.62368366  2.49872705  3.01081847  2.53694892  0.65113505  2.22411655\n",
      "  2.32124131  2.26039021  3.19523398  0.90052944  2.41119925  1.25927827\n",
      "  2.23570951]\n",
      "0.856779661017\n",
      "hi\n",
      "[ 2.77863242  0.5982031   3.6186445   1.70321266  3.8880441   3.87510528\n",
      "  3.16967005  1.59929966  3.14413994  1.64886546  2.52879202  1.04259195\n",
      "  1.18785544  1.12106381  2.09668666  3.59720618  3.06125409  0.52185241\n",
      "  0.91609116]\n",
      "0.842372881356\n",
      "hi\n",
      "[ 3.43453618  1.43273921  1.74291899  3.91413282  2.31320299  2.38193967\n",
      "  1.84555137  2.90555438  1.78977424  2.42808111  3.4376763   2.46260895\n",
      "  1.05613325  3.28233343  2.02076497  2.35345947  2.25712533  3.37012342\n",
      "  3.36097309]\n",
      "0.856779661017\n",
      "hi\n",
      "[ 3.03935518  1.76786061  3.94478347  3.46470038  1.99721763  3.07221386\n",
      "  1.91762426  1.50951314  3.27768411  1.27598529  1.71953435  1.13190798\n",
      "  3.09049781  3.30244476  1.78779694  1.34486588  1.43488228  3.31099012\n",
      "  3.02813369]\n",
      "0.851694915254\n",
      "20\n"
     ]
    },
    {
     "ename": "KeyboardInterrupt",
     "evalue": "",
     "output_type": "error",
     "traceback": [
      "\u001b[0;31m---------------------------------------------------------------------------\u001b[0m",
      "\u001b[0;31mKeyboardInterrupt\u001b[0m                         Traceback (most recent call last)",
      "\u001b[0;32m<ipython-input-21-337d153a6335>\u001b[0m in \u001b[0;36m<module>\u001b[0;34m()\u001b[0m\n\u001b[1;32m      9\u001b[0m     \u001b[0mdlp_wrbf\u001b[0m \u001b[0;34m=\u001b[0m \u001b[0mDeepLP_WeightedRBF\u001b[0m\u001b[0;34m.\u001b[0m\u001b[0mDeepLP_WeightedRBF\u001b[0m\u001b[0;34m(\u001b[0m\u001b[0;36m100\u001b[0m\u001b[0;34m,\u001b[0m \u001b[0mnum_nodes\u001b[0m\u001b[0;34m,\u001b[0m \u001b[0mfeatures\u001b[0m\u001b[0;34m,\u001b[0m \u001b[0mgraph\u001b[0m\u001b[0;34m,\u001b[0m \u001b[0msigma\u001b[0m\u001b[0;34m,\u001b[0m \u001b[0mtheta_\u001b[0m\u001b[0;34m,\u001b[0m \u001b[0;36m1\u001b[0m\u001b[0;34m,\u001b[0m \u001b[0mregularize\u001b[0m\u001b[0;34m=\u001b[0m\u001b[0;36m0\u001b[0m\u001b[0;34m)\u001b[0m\u001b[0;34m\u001b[0m\u001b[0m\n\u001b[1;32m     10\u001b[0m \u001b[0;34m\u001b[0m\u001b[0m\n\u001b[0;32m---> 11\u001b[0;31m     \u001b[0mdlp_wrbf_prediction\u001b[0m \u001b[0;34m=\u001b[0m \u001b[0mnp\u001b[0m\u001b[0;34m.\u001b[0m\u001b[0mrint\u001b[0m\u001b[0;34m(\u001b[0m\u001b[0mdlp_wrbf\u001b[0m\u001b[0;34m.\u001b[0m\u001b[0mlabelprop\u001b[0m\u001b[0;34m(\u001b[0m\u001b[0mvalidation_data\u001b[0m\u001b[0;34m,\u001b[0m\u001b[0mtheta_\u001b[0m\u001b[0;34m)\u001b[0m\u001b[0;34m)\u001b[0m\u001b[0;34m.\u001b[0m\u001b[0mreshape\u001b[0m\u001b[0;34m(\u001b[0m\u001b[0mnum_nodes\u001b[0m\u001b[0;34m)\u001b[0m\u001b[0;34m[\u001b[0m\u001b[0munlabeled_indices\u001b[0m\u001b[0;34m]\u001b[0m\u001b[0;34m\u001b[0m\u001b[0m\n\u001b[0m\u001b[1;32m     12\u001b[0m     \u001b[0maccuracy\u001b[0m \u001b[0;34m=\u001b[0m \u001b[0mutils\u001b[0m\u001b[0;34m.\u001b[0m\u001b[0maccuracy\u001b[0m\u001b[0;34m(\u001b[0m\u001b[0msolution\u001b[0m\u001b[0;34m,\u001b[0m \u001b[0mdlp_wrbf_prediction\u001b[0m\u001b[0;34m)\u001b[0m\u001b[0;34m\u001b[0m\u001b[0m\n\u001b[1;32m     13\u001b[0m     \u001b[0mrmse\u001b[0m \u001b[0;34m=\u001b[0m \u001b[0mutils\u001b[0m\u001b[0;34m.\u001b[0m\u001b[0mrmse\u001b[0m\u001b[0;34m(\u001b[0m\u001b[0msolution\u001b[0m\u001b[0;34m,\u001b[0m \u001b[0mdlp_wrbf_prediction\u001b[0m\u001b[0;34m)\u001b[0m\u001b[0;34m\u001b[0m\u001b[0m\n",
      "\u001b[0;32m~/projects/graph_based_semi_supervised_learning/model/DeepLP_WeightedRBF.py\u001b[0m in \u001b[0;36mlabelprop\u001b[0;34m(self, data, theta)\u001b[0m\n\u001b[1;32m     47\u001b[0m \u001b[0;34m\u001b[0m\u001b[0m\n\u001b[1;32m     48\u001b[0m     \u001b[0;32mdef\u001b[0m \u001b[0mlabelprop\u001b[0m\u001b[0;34m(\u001b[0m\u001b[0mself\u001b[0m\u001b[0;34m,\u001b[0m\u001b[0mdata\u001b[0m\u001b[0;34m,\u001b[0m\u001b[0mtheta\u001b[0m\u001b[0;34m)\u001b[0m\u001b[0;34m:\u001b[0m\u001b[0;34m\u001b[0m\u001b[0m\n\u001b[0;32m---> 49\u001b[0;31m         \u001b[0mself\u001b[0m\u001b[0;34m.\u001b[0m\u001b[0m_open_sess\u001b[0m\u001b[0;34m(\u001b[0m\u001b[0;34m)\u001b[0m\u001b[0;34m\u001b[0m\u001b[0m\n\u001b[0m\u001b[1;32m     50\u001b[0m         \u001b[0mprint\u001b[0m\u001b[0;34m(\u001b[0m\u001b[0;34m'hi'\u001b[0m\u001b[0;34m)\u001b[0m\u001b[0;34m\u001b[0m\u001b[0m\n\u001b[1;32m     51\u001b[0m         \u001b[0mself\u001b[0m\u001b[0;34m.\u001b[0m\u001b[0mtheta\u001b[0m   \u001b[0;34m=\u001b[0m \u001b[0mtf\u001b[0m\u001b[0;34m.\u001b[0m\u001b[0mVariable\u001b[0m\u001b[0;34m(\u001b[0m\u001b[0mtf\u001b[0m\u001b[0;34m.\u001b[0m\u001b[0mconvert_to_tensor\u001b[0m\u001b[0;34m(\u001b[0m\u001b[0mtheta\u001b[0m\u001b[0;34m,\u001b[0m \u001b[0mdtype\u001b[0m\u001b[0;34m=\u001b[0m\u001b[0mtf\u001b[0m\u001b[0;34m.\u001b[0m\u001b[0mfloat32\u001b[0m\u001b[0;34m)\u001b[0m\u001b[0;34m)\u001b[0m\u001b[0;34m\u001b[0m\u001b[0m\n",
      "\u001b[0;32m~/projects/graph_based_semi_supervised_learning/model/DeepLP.py\u001b[0m in \u001b[0;36m_open_sess\u001b[0;34m(self)\u001b[0m\n\u001b[1;32m    150\u001b[0m         \u001b[0mself\u001b[0m\u001b[0;34m.\u001b[0m\u001b[0msess\u001b[0m \u001b[0;34m=\u001b[0m \u001b[0mtf\u001b[0m\u001b[0;34m.\u001b[0m\u001b[0mSession\u001b[0m\u001b[0;34m(\u001b[0m\u001b[0;34m)\u001b[0m\u001b[0;34m\u001b[0m\u001b[0m\n\u001b[1;32m    151\u001b[0m         \u001b[0minit\u001b[0m      \u001b[0;34m=\u001b[0m \u001b[0mtf\u001b[0m\u001b[0;34m.\u001b[0m\u001b[0mglobal_variables_initializer\u001b[0m\u001b[0;34m(\u001b[0m\u001b[0;34m)\u001b[0m\u001b[0;34m\u001b[0m\u001b[0m\n\u001b[0;32m--> 152\u001b[0;31m         \u001b[0mself\u001b[0m\u001b[0;34m.\u001b[0m\u001b[0msess\u001b[0m\u001b[0;34m.\u001b[0m\u001b[0mrun\u001b[0m\u001b[0;34m(\u001b[0m\u001b[0minit\u001b[0m\u001b[0;34m)\u001b[0m\u001b[0;34m\u001b[0m\u001b[0m\n\u001b[0m\u001b[1;32m    153\u001b[0m \u001b[0;34m\u001b[0m\u001b[0m\n\u001b[1;32m    154\u001b[0m     \u001b[0;32mdef\u001b[0m \u001b[0mlabelprop\u001b[0m\u001b[0;34m(\u001b[0m\u001b[0mself\u001b[0m\u001b[0;34m,\u001b[0m\u001b[0mdata\u001b[0m\u001b[0;34m)\u001b[0m\u001b[0;34m:\u001b[0m\u001b[0;34m\u001b[0m\u001b[0m\n",
      "\u001b[0;32m~/anaconda/envs/ml/lib/python3.6/site-packages/tensorflow/python/client/session.py\u001b[0m in \u001b[0;36mrun\u001b[0;34m(self, fetches, feed_dict, options, run_metadata)\u001b[0m\n\u001b[1;32m    776\u001b[0m     \u001b[0;32mtry\u001b[0m\u001b[0;34m:\u001b[0m\u001b[0;34m\u001b[0m\u001b[0m\n\u001b[1;32m    777\u001b[0m       result = self._run(None, fetches, feed_dict, options_ptr,\n\u001b[0;32m--> 778\u001b[0;31m                          run_metadata_ptr)\n\u001b[0m\u001b[1;32m    779\u001b[0m       \u001b[0;32mif\u001b[0m \u001b[0mrun_metadata\u001b[0m\u001b[0;34m:\u001b[0m\u001b[0;34m\u001b[0m\u001b[0m\n\u001b[1;32m    780\u001b[0m         \u001b[0mproto_data\u001b[0m \u001b[0;34m=\u001b[0m \u001b[0mtf_session\u001b[0m\u001b[0;34m.\u001b[0m\u001b[0mTF_GetBuffer\u001b[0m\u001b[0;34m(\u001b[0m\u001b[0mrun_metadata_ptr\u001b[0m\u001b[0;34m)\u001b[0m\u001b[0;34m\u001b[0m\u001b[0m\n",
      "\u001b[0;32m~/anaconda/envs/ml/lib/python3.6/site-packages/tensorflow/python/client/session.py\u001b[0m in \u001b[0;36m_run\u001b[0;34m(self, handle, fetches, feed_dict, options, run_metadata)\u001b[0m\n\u001b[1;32m    980\u001b[0m     \u001b[0;32mif\u001b[0m \u001b[0mfinal_fetches\u001b[0m \u001b[0;32mor\u001b[0m \u001b[0mfinal_targets\u001b[0m\u001b[0;34m:\u001b[0m\u001b[0;34m\u001b[0m\u001b[0m\n\u001b[1;32m    981\u001b[0m       results = self._do_run(handle, final_targets, final_fetches,\n\u001b[0;32m--> 982\u001b[0;31m                              feed_dict_string, options, run_metadata)\n\u001b[0m\u001b[1;32m    983\u001b[0m     \u001b[0;32melse\u001b[0m\u001b[0;34m:\u001b[0m\u001b[0;34m\u001b[0m\u001b[0m\n\u001b[1;32m    984\u001b[0m       \u001b[0mresults\u001b[0m \u001b[0;34m=\u001b[0m \u001b[0;34m[\u001b[0m\u001b[0;34m]\u001b[0m\u001b[0;34m\u001b[0m\u001b[0m\n",
      "\u001b[0;32m~/anaconda/envs/ml/lib/python3.6/site-packages/tensorflow/python/client/session.py\u001b[0m in \u001b[0;36m_do_run\u001b[0;34m(self, handle, target_list, fetch_list, feed_dict, options, run_metadata)\u001b[0m\n\u001b[1;32m   1030\u001b[0m     \u001b[0;32mif\u001b[0m \u001b[0mhandle\u001b[0m \u001b[0;32mis\u001b[0m \u001b[0;32mNone\u001b[0m\u001b[0;34m:\u001b[0m\u001b[0;34m\u001b[0m\u001b[0m\n\u001b[1;32m   1031\u001b[0m       return self._do_call(_run_fn, self._session, feed_dict, fetch_list,\n\u001b[0;32m-> 1032\u001b[0;31m                            target_list, options, run_metadata)\n\u001b[0m\u001b[1;32m   1033\u001b[0m     \u001b[0;32melse\u001b[0m\u001b[0;34m:\u001b[0m\u001b[0;34m\u001b[0m\u001b[0m\n\u001b[1;32m   1034\u001b[0m       return self._do_call(_prun_fn, self._session, handle, feed_dict,\n",
      "\u001b[0;32m~/anaconda/envs/ml/lib/python3.6/site-packages/tensorflow/python/client/session.py\u001b[0m in \u001b[0;36m_do_call\u001b[0;34m(self, fn, *args)\u001b[0m\n\u001b[1;32m   1037\u001b[0m   \u001b[0;32mdef\u001b[0m \u001b[0m_do_call\u001b[0m\u001b[0;34m(\u001b[0m\u001b[0mself\u001b[0m\u001b[0;34m,\u001b[0m \u001b[0mfn\u001b[0m\u001b[0;34m,\u001b[0m \u001b[0;34m*\u001b[0m\u001b[0margs\u001b[0m\u001b[0;34m)\u001b[0m\u001b[0;34m:\u001b[0m\u001b[0;34m\u001b[0m\u001b[0m\n\u001b[1;32m   1038\u001b[0m     \u001b[0;32mtry\u001b[0m\u001b[0;34m:\u001b[0m\u001b[0;34m\u001b[0m\u001b[0m\n\u001b[0;32m-> 1039\u001b[0;31m       \u001b[0;32mreturn\u001b[0m \u001b[0mfn\u001b[0m\u001b[0;34m(\u001b[0m\u001b[0;34m*\u001b[0m\u001b[0margs\u001b[0m\u001b[0;34m)\u001b[0m\u001b[0;34m\u001b[0m\u001b[0m\n\u001b[0m\u001b[1;32m   1040\u001b[0m     \u001b[0;32mexcept\u001b[0m \u001b[0merrors\u001b[0m\u001b[0;34m.\u001b[0m\u001b[0mOpError\u001b[0m \u001b[0;32mas\u001b[0m \u001b[0me\u001b[0m\u001b[0;34m:\u001b[0m\u001b[0;34m\u001b[0m\u001b[0m\n\u001b[1;32m   1041\u001b[0m       \u001b[0mmessage\u001b[0m \u001b[0;34m=\u001b[0m \u001b[0mcompat\u001b[0m\u001b[0;34m.\u001b[0m\u001b[0mas_text\u001b[0m\u001b[0;34m(\u001b[0m\u001b[0me\u001b[0m\u001b[0;34m.\u001b[0m\u001b[0mmessage\u001b[0m\u001b[0;34m)\u001b[0m\u001b[0;34m\u001b[0m\u001b[0m\n",
      "\u001b[0;32m~/anaconda/envs/ml/lib/python3.6/site-packages/tensorflow/python/client/session.py\u001b[0m in \u001b[0;36m_run_fn\u001b[0;34m(session, feed_dict, fetch_list, target_list, options, run_metadata)\u001b[0m\n\u001b[1;32m   1015\u001b[0m                 run_metadata):\n\u001b[1;32m   1016\u001b[0m       \u001b[0;31m# Ensure any changes to the graph are reflected in the runtime.\u001b[0m\u001b[0;34m\u001b[0m\u001b[0;34m\u001b[0m\u001b[0m\n\u001b[0;32m-> 1017\u001b[0;31m       \u001b[0mself\u001b[0m\u001b[0;34m.\u001b[0m\u001b[0m_extend_graph\u001b[0m\u001b[0;34m(\u001b[0m\u001b[0;34m)\u001b[0m\u001b[0;34m\u001b[0m\u001b[0m\n\u001b[0m\u001b[1;32m   1018\u001b[0m       \u001b[0;32mwith\u001b[0m \u001b[0merrors\u001b[0m\u001b[0;34m.\u001b[0m\u001b[0mraise_exception_on_not_ok_status\u001b[0m\u001b[0;34m(\u001b[0m\u001b[0;34m)\u001b[0m \u001b[0;32mas\u001b[0m \u001b[0mstatus\u001b[0m\u001b[0;34m:\u001b[0m\u001b[0;34m\u001b[0m\u001b[0m\n\u001b[1;32m   1019\u001b[0m         return tf_session.TF_Run(session, options,\n",
      "\u001b[0;32m~/anaconda/envs/ml/lib/python3.6/site-packages/tensorflow/python/client/session.py\u001b[0m in \u001b[0;36m_extend_graph\u001b[0;34m(self)\u001b[0m\n\u001b[1;32m   1064\u001b[0m         \u001b[0;32mwith\u001b[0m \u001b[0merrors\u001b[0m\u001b[0;34m.\u001b[0m\u001b[0mraise_exception_on_not_ok_status\u001b[0m\u001b[0;34m(\u001b[0m\u001b[0;34m)\u001b[0m \u001b[0;32mas\u001b[0m \u001b[0mstatus\u001b[0m\u001b[0;34m:\u001b[0m\u001b[0;34m\u001b[0m\u001b[0m\n\u001b[1;32m   1065\u001b[0m           tf_session.TF_ExtendGraph(\n\u001b[0;32m-> 1066\u001b[0;31m               self._session, graph_def.SerializeToString(), status)\n\u001b[0m\u001b[1;32m   1067\u001b[0m         \u001b[0mself\u001b[0m\u001b[0;34m.\u001b[0m\u001b[0m_opened\u001b[0m \u001b[0;34m=\u001b[0m \u001b[0;32mTrue\u001b[0m\u001b[0;34m\u001b[0m\u001b[0m\n\u001b[1;32m   1068\u001b[0m \u001b[0;34m\u001b[0m\u001b[0m\n",
      "\u001b[0;31mKeyboardInterrupt\u001b[0m: "
     ]
    }
   ],
   "source": [
    "accuracies = []\n",
    "rmses = []\n",
    "thetas = []\n",
    "\n",
    "for i in range(100): \n",
    "    theta_ = np.random.uniform(0.5,4,features.shape[1])\n",
    "    if i % 10 == 0:\n",
    "        print(i)\n",
    "    dlp_wrbf = DeepLP_WeightedRBF.DeepLP_WeightedRBF(100, num_nodes, features, graph, sigma, theta_, 1, regularize=0)\n",
    "\n",
    "    dlp_wrbf_prediction = np.rint(dlp_wrbf.labelprop(validation_data,theta_)).reshape(num_nodes)[unlabeled_indices]\n",
    "    accuracy = utils.accuracy(solution, dlp_wrbf_prediction)\n",
    "    rmse = utils.rmse(solution, dlp_wrbf_prediction)\n",
    "    accuracies.append(accuracy)\n",
    "    rmses.append(rmse)\n",
    "  \n",
    "    print(theta_)\n",
    "    print(accuracy)"
   ]
  },
  {
   "cell_type": "code",
   "execution_count": 9,
   "metadata": {
    "collapsed": false
   },
   "outputs": [],
   "source": [
    "theta_df = pd.DataFrame(thetas)\n",
    "accuracy_df = pd.DataFrame(accuracies)\n",
    "\n",
    "theta_df.reset_index(drop=True, inplace=True)\n",
    "accuracy_df.reset_index(drop=True, inplace=True)\n",
    "\n",
    "df = pd.concat( [theta_df,accuracy_df], axis=1) \n",
    "df.columns = ['theta1','theta2','theta3','theta4','accuracy']"
   ]
  },
  {
   "cell_type": "code",
   "execution_count": 15,
   "metadata": {
    "collapsed": false
   },
   "outputs": [
    {
     "data": {
      "image/png": "[encoded data removed]",
      "text/plain": [
       "<matplotlib.figure.Figure at 0x1024f8198>"
      ]
     },
     "metadata": {},
     "output_type": "display_data"
    }
   ],
   "source": [
    "a = parallel_coordinates(df, 'accuracy', colormap=\"binary\")"
   ]
  },
  {
   "cell_type": "code",
   "execution_count": null,
   "metadata": {
    "collapsed": true
   },
   "outputs": [],
   "source": []
  }
 ],
 "metadata": {
  "kernelspec": {
   "display_name": "ml",
   "language": "python",
   "name": "ml"
  },
  "language_info": {
   "codemirror_mode": {
    "name": "ipython",
    "version": 3
   },
   "file_extension": ".py",
   "mimetype": "text/x-python",
   "name": "python",
   "nbconvert_exporter": "python",
   "pygments_lexer": "ipython3",
   "version": "3.6.3"
  }
 },
 "nbformat": 4,
 "nbformat_minor": 1
}
