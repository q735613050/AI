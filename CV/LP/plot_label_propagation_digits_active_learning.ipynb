{
 "cells": [
  {
   "cell_type": "code",
   "execution_count": 1,
   "metadata": {
    "ExecuteTime": {
     "end_time": "2018-10-04T13:05:19.949316Z",
     "start_time": "2018-10-04T13:05:19.554034Z"
    }
   },
   "outputs": [],
   "source": [
    "%matplotlib inline"
   ]
  },
  {
   "cell_type": "markdown",
   "metadata": {},
   "source": [
    "\n",
    "# Label Propagation digits active learning\n",
    "\n",
    "\n",
    "Demonstrates an active learning technique to learn handwritten digits\n",
    "using label propagation.\n",
    "\n",
    "We start by training a label propagation model with only 10 labeled points,\n",
    "then we select the top five most uncertain points to label. Next, we train\n",
    "with 15 labeled points (original 10 + 5 new ones). We repeat this process\n",
    "four times to have a model trained with 30 labeled examples. Note you can\n",
    "increase this to label more than 30 by changing `max_iterations`. Labeling\n",
    "more than 30 can be useful to get a sense for the speed of convergence of\n",
    "this active learning technique.\n",
    "\n",
    "A plot will appear showing the top 5 most uncertain digits for each iteration\n",
    "of training. These may or may not contain mistakes, but we will train the next\n",
    "model with their true labels.\n",
    "\n"
   ]
  },
  {
   "cell_type": "code",
   "execution_count": 2,
   "metadata": {
    "ExecuteTime": {
     "end_time": "2018-10-04T13:05:22.659679Z",
     "start_time": "2018-10-04T13:05:21.006988Z"
    }
   },
   "outputs": [
    {
     "name": "stdout",
     "output_type": "stream",
     "text": [
      "Automatically created module for IPython interactive environment\n"
     ]
    },
    {
     "name": "stderr",
     "output_type": "stream",
     "text": [
      "C:\\ProgramData\\Anaconda3\\lib\\site-packages\\sklearn\\semi_supervised\\label_propagation.py:288: ConvergenceWarning: max_iter=5 was reached without convergence.\n",
      "  category=ConvergenceWarning\n",
      "C:\\ProgramData\\Anaconda3\\lib\\site-packages\\sklearn\\metrics\\classification.py:1135: UndefinedMetricWarning: Precision and F-score are ill-defined and being set to 0.0 in labels with no predicted samples.\n",
      "  'precision', 'predicted', average, warn_for)\n",
      "C:\\ProgramData\\Anaconda3\\lib\\site-packages\\ipykernel\\__main__.py:87: DeprecationWarning: using a non-integer array as obj in delete will result in an error in the future\n"
     ]
    },
    {
     "name": "stdout",
     "output_type": "stream",
     "text": [
      "Iteration 0 ______________________________________________________________________\n",
      "Label Spreading model: 10 labeled & 320 unlabeled (330 total)\n",
      "             precision    recall  f1-score   support\n",
      "\n",
      "          0       0.00      0.00      0.00        24\n",
      "          1       0.51      0.86      0.64        29\n",
      "          2       0.83      0.97      0.90        31\n",
      "          3       0.00      0.00      0.00        28\n",
      "          4       0.00      0.00      0.00        27\n",
      "          5       0.85      0.49      0.62        35\n",
      "          6       0.84      0.95      0.89        40\n",
      "          7       0.70      0.92      0.80        36\n",
      "          8       0.57      0.76      0.65        33\n",
      "          9       0.41      0.86      0.55        37\n",
      "\n",
      "avg / total       0.51      0.62      0.54       320\n",
      "\n",
      "Confusion matrix\n",
      "[[25  3  0  0  0  0  1]\n",
      " [ 1 30  0  0  0  0  0]\n",
      " [ 0  0 17  7  0  1 10]\n",
      " [ 2  0  0 38  0  0  0]\n",
      " [ 0  3  0  0 33  0  0]\n",
      " [ 8  0  0  0  0 25  0]\n",
      " [ 0  0  3  0  0  2 32]]\n",
      "Iteration 1 ______________________________________________________________________\n",
      "Label Spreading model: 15 labeled & 315 unlabeled (330 total)\n",
      "             precision    recall  f1-score   support\n",
      "\n",
      "          0       0.00      0.00      0.00        24\n",
      "          1       0.51      0.75      0.61        28\n",
      "          2       0.91      0.97      0.94        31\n",
      "          3       0.00      0.00      0.00        28\n",
      "          4       0.00      0.00      0.00        27\n",
      "          5       0.84      0.97      0.90        33\n",
      "          6       1.00      0.95      0.97        40\n",
      "          7       0.75      0.92      0.83        36\n",
      "          8       0.46      0.81      0.59        31\n",
      "          9       0.43      0.78      0.56        37\n",
      "\n",
      "avg / total       0.53      0.66      0.58       315\n",
      "\n",
      "Confusion matrix\n",
      "[[21  0  0  0  0  6  1]\n",
      " [ 1 30  0  0  0  0  0]\n",
      " [ 0  0 32  0  0  0  1]\n",
      " [ 2  0  0 38  0  0  0]\n",
      " [ 0  3  0  0 33  0  0]\n",
      " [ 6  0  0  0  0 25  0]\n",
      " [ 0  0  6  0  0  2 29]]\n",
      "Iteration 2 ______________________________________________________________________\n",
      "Label Spreading model: 20 labeled & 310 unlabeled (330 total)\n",
      "             precision    recall  f1-score   support\n",
      "\n",
      "          0       1.00      1.00      1.00        22\n",
      "          1       0.67      0.71      0.69        28\n",
      "          2       0.94      0.97      0.95        31\n",
      "          3       0.00      0.00      0.00        28\n",
      "          4       0.85      0.92      0.88        24\n",
      "          5       0.89      0.97      0.93        33\n",
      "          6       1.00      0.95      0.97        40\n",
      "          7       1.00      0.92      0.96        36\n",
      "          8       0.50      0.81      0.62        31\n",
      "          9       0.67      0.78      0.72        37\n",
      "\n",
      "avg / total       0.76      0.81      0.78       310\n",
      "\n",
      "Confusion matrix\n",
      "[[22  0  0  0  0  0  0  0  0]\n",
      " [ 0 20  0  1  0  0  0  6  1]\n",
      " [ 0  1 30  0  0  0  0  0  0]\n",
      " [ 0  1  0 22  0  0  0  1  0]\n",
      " [ 0  0  0  0 32  0  0  0  1]\n",
      " [ 0  2  0  0  0 38  0  0  0]\n",
      " [ 0  0  2  1  0  0 33  0  0]\n",
      " [ 0  6  0  0  0  0  0 25  0]\n",
      " [ 0  0  0  2  4  0  0  2 29]]\n",
      "Iteration 3 ______________________________________________________________________\n",
      "Label Spreading model: 25 labeled & 305 unlabeled (330 total)\n",
      "             precision    recall  f1-score   support\n",
      "\n",
      "          0       1.00      1.00      1.00        22\n",
      "          1       0.68      0.85      0.75        27\n",
      "          2       1.00      0.90      0.95        31\n",
      "          3       1.00      0.77      0.87        26\n",
      "          4       1.00      0.92      0.96        24\n",
      "          5       0.89      0.97      0.93        33\n",
      "          6       1.00      0.97      0.99        39\n",
      "          7       0.95      1.00      0.97        35\n",
      "          8       0.66      0.81      0.72        31\n",
      "          9       0.97      0.78      0.87        37\n",
      "\n",
      "avg / total       0.91      0.90      0.90       305\n",
      "\n",
      "Confusion matrix\n",
      "[[22  0  0  0  0  0  0  0  0  0]\n",
      " [ 0 23  0  0  0  0  0  0  4  0]\n",
      " [ 0  1 28  0  0  0  0  2  0  0]\n",
      " [ 0  0  0 20  0  0  0  0  6  0]\n",
      " [ 0  1  0  0 22  0  0  0  1  0]\n",
      " [ 0  0  0  0  0 32  0  0  0  1]\n",
      " [ 0  1  0  0  0  0 38  0  0  0]\n",
      " [ 0  0  0  0  0  0  0 35  0  0]\n",
      " [ 0  6  0  0  0  0  0  0 25  0]\n",
      " [ 0  2  0  0  0  4  0  0  2 29]]\n",
      "Iteration 4 ______________________________________________________________________\n",
      "Label Spreading model: 30 labeled & 300 unlabeled (330 total)\n",
      "             precision    recall  f1-score   support\n",
      "\n",
      "          0       1.00      1.00      1.00        22\n",
      "          1       0.68      0.85      0.75        27\n",
      "          2       1.00      0.87      0.93        31\n",
      "          3       0.92      1.00      0.96        23\n",
      "          4       1.00      0.92      0.96        24\n",
      "          5       0.97      0.94      0.95        33\n",
      "          6       1.00      0.97      0.99        39\n",
      "          7       0.95      1.00      0.97        35\n",
      "          8       0.81      0.81      0.81        31\n",
      "          9       0.94      0.86      0.90        35\n",
      "\n",
      "avg / total       0.93      0.92      0.92       300\n",
      "\n",
      "Confusion matrix\n",
      "[[22  0  0  0  0  0  0  0  0  0]\n",
      " [ 0 23  0  0  0  0  0  0  4  0]\n",
      " [ 0  1 27  1  0  0  0  2  0  0]\n",
      " [ 0  0  0 23  0  0  0  0  0  0]\n",
      " [ 0  1  0  0 22  0  0  0  1  0]\n",
      " [ 0  0  0  0  0 31  0  0  0  2]\n",
      " [ 0  1  0  0  0  0 38  0  0  0]\n",
      " [ 0  0  0  0  0  0  0 35  0  0]\n",
      " [ 0  6  0  0  0  0  0  0 25  0]\n",
      " [ 0  2  0  1  0  1  0  0  1 30]]\n"
     ]
    },
    {
     "data": {
      "image/png": "[encoded data removed]",
      "text/plain": [
       "<Figure size 432x288 with 25 Axes>"
      ]
     },
     "metadata": {},
     "output_type": "display_data"
    }
   ],
   "source": [
    "print(__doc__)\n",
    "\n",
    "# Authors: Clay Woolam <clay@woolam.org>\n",
    "# License: BSD\n",
    "\n",
    "import numpy as np\n",
    "import matplotlib.pyplot as plt\n",
    "from scipy import stats\n",
    "\n",
    "from sklearn import datasets\n",
    "from sklearn.semi_supervised import label_propagation\n",
    "from sklearn.metrics import classification_report, confusion_matrix\n",
    "\n",
    "digits = datasets.load_digits()\n",
    "rng = np.random.RandomState(0)\n",
    "indices = np.arange(len(digits.data))\n",
    "rng.shuffle(indices)\n",
    "\n",
    "X = digits.data[indices[:330]]\n",
    "y = digits.target[indices[:330]]\n",
    "images = digits.images[indices[:330]]\n",
    "\n",
    "n_total_samples = len(y)\n",
    "n_labeled_points = 10\n",
    "max_iterations = 5\n",
    "\n",
    "unlabeled_indices = np.arange(n_total_samples)[n_labeled_points:]\n",
    "f = plt.figure()\n",
    "\n",
    "for i in range(max_iterations):\n",
    "    if len(unlabeled_indices) == 0:\n",
    "        print(\"No unlabeled items left to label.\")\n",
    "        break\n",
    "    y_train = np.copy(y)\n",
    "    y_train[unlabeled_indices] = -1\n",
    "\n",
    "    lp_model = label_propagation.LabelSpreading(gamma=0.25, max_iter=5)\n",
    "    lp_model.fit(X, y_train)\n",
    "\n",
    "    predicted_labels = lp_model.transduction_[unlabeled_indices]\n",
    "    true_labels = y[unlabeled_indices]\n",
    "\n",
    "    cm = confusion_matrix(true_labels, predicted_labels,\n",
    "                          labels=lp_model.classes_)\n",
    "\n",
    "    print(\"Iteration %i %s\" % (i, 70 * \"_\"))\n",
    "    print(\"Label Spreading model: %d labeled & %d unlabeled (%d total)\"\n",
    "          % (n_labeled_points, n_total_samples - n_labeled_points, n_total_samples))\n",
    "\n",
    "    print(classification_report(true_labels, predicted_labels))\n",
    "\n",
    "    print(\"Confusion matrix\")\n",
    "    print(cm)\n",
    "\n",
    "    # compute the entropies of transduced label distributions\n",
    "    pred_entropies = stats.distributions.entropy(\n",
    "        lp_model.label_distributions_.T)\n",
    "\n",
    "    # select up to 5 digit examples that the classifier is most uncertain about\n",
    "    uncertainty_index = np.argsort(pred_entropies)[::-1]\n",
    "    uncertainty_index = uncertainty_index[\n",
    "        np.in1d(uncertainty_index, unlabeled_indices)][:5]\n",
    "\n",
    "    # keep track of indices that we get labels for\n",
    "    delete_indices = np.array([])\n",
    "\n",
    "    # for more than 5 iterations, visualize the gain only on the first 5\n",
    "    if i < 5:\n",
    "        f.text(.05, (1 - (i + 1) * .183),\n",
    "               \"model %d\\n\\nfit with\\n%d labels\" %\n",
    "               ((i + 1), i * 5 + 10), size=10)\n",
    "    for index, image_index in enumerate(uncertainty_index):\n",
    "        image = images[image_index]\n",
    "\n",
    "        # for more than 5 iterations, visualize the gain only on the first 5\n",
    "        if i < 5:\n",
    "            sub = f.add_subplot(5, 5, index + 1 + (5 * i))\n",
    "            sub.imshow(image, cmap=plt.cm.gray_r)\n",
    "            sub.set_title(\"predict: %i\\ntrue: %i\" % (\n",
    "                lp_model.transduction_[image_index], y[image_index]), size=10)\n",
    "            sub.axis('off')\n",
    "\n",
    "        # labeling 5 points, remote from labeled set\n",
    "        delete_index, = np.where(unlabeled_indices == image_index)\n",
    "        delete_indices = np.concatenate((delete_indices, delete_index))\n",
    "\n",
    "    unlabeled_indices = np.delete(unlabeled_indices, delete_indices)\n",
    "    n_labeled_points += len(uncertainty_index)\n",
    "\n",
    "f.suptitle(\"Active learning with Label Propagation.\\nRows show 5 most \"\n",
    "           \"uncertain labels to learn with the next model.\")\n",
    "plt.subplots_adjust(0.12, 0.03, 0.9, 0.8, 0.2, 0.45)\n",
    "plt.show()"
   ]
  },
  {
   "cell_type": "code",
   "execution_count": 3,
   "metadata": {
    "ExecuteTime": {
     "end_time": "2018-10-04T13:05:36.156161Z",
     "start_time": "2018-10-04T13:05:36.150144Z"
    }
   },
   "outputs": [
    {
     "data": {
      "text/plain": [
       "array([ 2,  8,  2,  6,  6,  7,  1,  9,  8,  5, -1, -1, -1, -1, -1, -1, -1,\n",
       "       -1, -1, -1, -1, -1, -1,  4, -1, -1, -1, -1, -1, -1, -1, -1, -1, -1,\n",
       "       -1, -1, -1, -1, -1, -1,  8, -1, -1, -1, -1, -1, -1, -1, -1, -1, -1,\n",
       "       -1, -1, -1, -1, -1, -1, -1, -1, -1, -1, -1, -1, -1,  1, -1, -1, -1,\n",
       "       -1, -1, -1,  3, -1, -1, -1, -1, -1, -1, -1, -1, -1, -1, -1, -1, -1,\n",
       "        3, -1, -1, -1, -1, -1, -1, -1, -1, -1, -1, -1, -1, -1, -1, -1,  5,\n",
       "       -1, -1, -1,  0, -1, -1, -1, -1,  3, -1, -1, -1, -1,  9, -1, -1, -1,\n",
       "       -1, -1, -1, -1, -1,  8, -1, -1, -1, -1, -1, -1, -1, -1, -1, -1, -1,\n",
       "       -1, -1, -1, -1, -1, -1, -1, -1, -1, -1, -1, -1, -1, -1, -1, -1, -1,\n",
       "       -1, -1, -1, -1, -1, -1, -1, -1, -1, -1, -1, -1,  0, -1, -1, -1, -1,\n",
       "       -1, -1, -1, -1, -1, -1, -1, -1, -1, -1,  4, -1, -1, -1, -1, -1, -1,\n",
       "       -1, -1, -1, -1, -1, -1, -1, -1, -1, -1, -1, -1,  4, -1, -1, -1, -1,\n",
       "       -1, -1, -1, -1, -1, -1, -1, -1, -1,  1, -1, -1, -1,  6, -1, -1, -1,\n",
       "       -1, -1, -1, -1, -1, -1, -1, -1, -1, -1, -1, -1, -1, -1, -1, -1, -1,\n",
       "       -1, -1, -1, -1, -1, -1, -1, -1, -1, -1, -1, -1,  5, -1,  3, -1, -1,\n",
       "       -1, -1, -1, -1, -1, -1, -1, -1, -1, -1, -1, -1, -1, -1, -1, -1, -1,\n",
       "       -1, -1, -1, -1, -1, -1, -1, -1, -1, -1, -1, -1, -1, -1, -1, -1, -1,\n",
       "       -1, -1, -1, -1, -1, -1,  3, -1, -1, -1, -1, -1, -1,  7, -1, -1, -1,\n",
       "       -1, -1, -1, -1, -1, -1, -1, -1, -1, -1, -1, -1, -1, -1, -1, -1, -1,\n",
       "       -1,  9, -1, -1, -1, -1, -1])"
      ]
     },
     "execution_count": 3,
     "metadata": {},
     "output_type": "execute_result"
    }
   ],
   "source": [
    "y_train"
   ]
  },
  {
   "cell_type": "code",
   "execution_count": null,
   "metadata": {},
   "outputs": [],
   "source": []
  }
 ],
 "metadata": {
  "kernelspec": {
   "display_name": "Python [conda env:Anaconda3]",
   "language": "python",
   "name": "conda-env-Anaconda3-py"
  },
  "language_info": {
   "codemirror_mode": {
    "name": "ipython",
    "version": 3
   },
   "file_extension": ".py",
   "mimetype": "text/x-python",
   "name": "python",
   "nbconvert_exporter": "python",
   "pygments_lexer": "ipython3",
   "version": "3.6.5"
  },
  "latex_envs": {
   "LaTeX_envs_menu_present": true,
   "autoclose": false,
   "autocomplete": true,
   "bibliofile": "biblio.bib",
   "cite_by": "apalike",
   "current_citInitial": 1,
   "eqLabelWithNumbers": true,
   "eqNumInitial": 1,
   "hotkeys": {
    "equation": "Ctrl-E",
    "itemize": "Ctrl-I"
   },
   "labels_anchors": false,
   "latex_user_defs": false,
   "report_style_numbering": false,
   "user_envs_cfg": false
  },
  "nbTranslate": {
   "displayLangs": [
    "*"
   ],
   "hotkey": "alt-t",
   "langInMainMenu": true,
   "sourceLang": "en",
   "targetLang": "fr",
   "useGoogleTranslate": true
  },
  "toc": {
   "base_numbering": 1,
   "nav_menu": {},
   "number_sections": true,
   "sideBar": true,
   "skip_h1_title": false,
   "title_cell": "Table of Contents",
   "title_sidebar": "Contents",
   "toc_cell": false,
   "toc_position": {},
   "toc_section_display": true,
   "toc_window_display": false
  },
  "varInspector": {
   "cols": {
    "lenName": 16,
    "lenType": 16,
    "lenVar": 40
   },
   "kernels_config": {
    "python": {
     "delete_cmd_postfix": "",
     "delete_cmd_prefix": "del ",
     "library": "var_list.py",
     "varRefreshCmd": "print(var_dic_list())"
    },
    "r": {
     "delete_cmd_postfix": ") ",
     "delete_cmd_prefix": "rm(",
     "library": "var_list.r",
     "varRefreshCmd": "cat(var_dic_list()) "
    }
   },
   "types_to_exclude": [
    "module",
    "function",
    "builtin_function_or_method",
    "instance",
    "_Feature"
   ],
   "window_display": false
  }
 },
 "nbformat": 4,
 "nbformat_minor": 1
}
