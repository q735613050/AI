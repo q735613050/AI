{
 "cells": [
  {
   "cell_type": "markdown",
   "metadata": {},
   "source": [
    "# 文献：\n",
    "- Cover, T.M., Thomas, J.A.: Elements of Information Theory. Wiley-Interscience (2006)\n",
    "\n",
    "##  Data Processing Inequality（数据处理不等式）\n",
    "DPI: \n",
    "$X \\rightarrow Y \\rightarrow Z$ 是一个马尔可夫链，$I$ 表示互信息\n",
    "    $$I(X;Y) \\geq I(X;Z)$$\n",
    "    \n",
    "即信息传播过程，只有可能丢失，而不可能增加信息。"
   ]
  },
  {
   "cell_type": "code",
   "execution_count": null,
   "metadata": {},
   "outputs": [],
   "source": [
    "sys.path.append"
   ]
  }
 ],
 "metadata": {
  "kernelspec": {
   "display_name": "Python 3",
   "language": "python",
   "name": "python3"
  },
  "language_info": {
   "codemirror_mode": {
    "name": "ipython",
    "version": 3
   },
   "file_extension": ".py",
   "mimetype": "text/x-python",
   "name": "python",
   "nbconvert_exporter": "python",
   "pygments_lexer": "ipython3",
   "version": "3.6.5"
  }
 },
 "nbformat": 4,
 "nbformat_minor": 2
}
