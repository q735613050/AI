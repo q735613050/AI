{
 "cells": [
  {
   "cell_type": "markdown",
   "metadata": {},
   "source": [
    "主要参考 [数据挖掘](http://www.dataminingbook.info/pmwiki.php/Main/BookResources)\n",
    "\n",
    "\n",
    "# 几个常用数据集预览\n",
    "\n",
    "下载链接：http://www.dataminingbook.info/pmwiki.php/Main/BookPathUploads?action=download&upname=datasets.zip"
   ]
  },
  {
   "cell_type": "code",
   "execution_count": 1,
   "metadata": {},
   "outputs": [
    {
     "name": "stdout",
     "output_type": "stream",
     "text": [
      "iris.txt -- 4 dimensions + class labels\n",
      "\n",
      "\n",
      "iris-slw.dat -- Iris 2D data: sepal length and sepal width\n",
      "\n",
      "\n",
      "categorial-3way.dat -- discretized 3-way data for chap3\n",
      "\t\t\tsepal length, sepal width, class\n",
      "\n",
      "\n",
      "iris-layout.txt -- Iris graph from chap4\n",
      "\teach edge is denoted as\n",
      "\t\t\"e\" xi xj w(xi, xj) \n",
      "\teach vertex is denoted as\n",
      "\t\t\"v\" vi x-pos y-pos class\n",
      "\n",
      "\n",
      "hprd.txt -- human protein interaction network for chap4, example 4.9\n",
      "\teach line has an edge \n",
      "\t\tvi vj\n",
      "\n",
      "\n",
      "iris-slwpl.dat -- Iris 3D data for chap7\n",
      "\t\tsepal length, sepal width, petal length\n",
      "\n",
      "\n",
      "iris-2d-nonlinear.dat -- Non-linear 2D Iris data for chap7, example 7.7\n",
      "\t\n",
      "\n",
      "iris-conv.txt -- discretized 4D + class Iris dataset for chap12,\n",
      "\tfirst used in example 12.9.\n",
      "\n",
      "\n",
      "iris-PC.txt -- Iris 2D Principal Components dataset, \n",
      "\t\tfirst used in chap13, example 13.2\n",
      "\n",
      "\n",
      "kerneldata.txt -- dataset for kernel kmeans, chap12, example 13.3\n",
      "\n",
      "\n",
      "t7-4k.txt -- density-based dataset for chap15, \n",
      "\t\tfirst used in figure 15.1\n",
      "\t\tignore the last dimension\n",
      "\n",
      "\n",
      "iris-clusters-normalized.txt -- iris similarity graph for chap16.\n",
      "     each vertex is denoted as\n",
      "\t\t\"v\" vi x-pos y-pos class class-val\n",
      "\t each edge is denoted as\n",
      "\t\t\"e\" xi xj w(xi, xj) val\n",
      "\n",
      "\n",
      "iris-slwc.txt -- Iris 2D, 2 class dataset for classification in chap18, \n",
      "\t\twith Iris-setosa as c1 (-1) and others as c2 (+1)\n",
      "                 chap19, chap20, chap21\n",
      "\t\tsepal length, sepal width, class (+1 or -1)\n",
      "\n",
      "\n",
      "iris-PC-versicolor.txt -- Iris 2D Principal Components dataset, \n",
      "\t\twith two classes (Iris versicolor:c1(-1) versus rest:c2(+1)).\n",
      "\t\t\"non-linear\" class boundary\n",
      "\n",
      "\t\tUsed in chap20, example 20.4\n",
      "\t\tUsed in chap21, example 21.8, 21.10\n",
      "\t\tUsed in chap 22, example 22.3, 22.12, 22.13, 22.14\n",
      "\n",
      "\n",
      "ldata.txt -- example dataset used in example 21.1 and 21.2\n",
      "\n"
     ]
    }
   ],
   "source": [
    "root = 'E:/datamining/datasets/'\n",
    "\n",
    "with open(f'{root}README.txt', 'r') as fp:\n",
    "    R = fp.read()\n",
    "    \n",
    "print(R)"
   ]
  },
  {
   "cell_type": "code",
   "execution_count": 2,
   "metadata": {},
   "outputs": [],
   "source": [
    "import os\n",
    "import pandas as pd\n",
    "import numpy as np"
   ]
  },
  {
   "cell_type": "code",
   "execution_count": 3,
   "metadata": {
    "scrolled": true
   },
   "outputs": [
    {
     "data": {
      "text/plain": [
       "['categorial-3way.dat',\n",
       " 'hprd.txt',\n",
       " 'iris-2d-nonlinear.dat',\n",
       " 'iris-clusters-normalized.txt',\n",
       " 'iris-conv.txt',\n",
       " 'iris-layout.txt',\n",
       " 'iris-PC-versicolor.txt',\n",
       " 'iris-PC-virginica.txt',\n",
       " 'iris-PC.txt',\n",
       " 'iris-slw.dat',\n",
       " 'iris-slwc.txt',\n",
       " 'iris-slwpl.dat',\n",
       " 'iris.txt',\n",
       " 'kerneldata.txt',\n",
       " 'ldata.txt',\n",
       " 'README.txt',\n",
       " 't7-4k.txt']"
      ]
     },
     "execution_count": 3,
     "metadata": {},
     "output_type": "execute_result"
    }
   ],
   "source": [
    "os.listdir(root)"
   ]
  },
  {
   "cell_type": "markdown",
   "metadata": {},
   "source": [
    "# `iris.txt`\n",
    "\n",
    "## NumPy 读取数据"
   ]
  },
  {
   "cell_type": "code",
   "execution_count": 4,
   "metadata": {
    "scrolled": true
   },
   "outputs": [],
   "source": [
    "with open(f'{root}iris.txt') as fp:\n",
    "    iris_ = fp.read()\n",
    "\n",
    "iris_ = np.array([fea.replace('\"', '').split(',') for fea in iris_.splitlines()])\n",
    "#iris = pd.DataFrame(iris)\n",
    "\n",
    "df = pd.DataFrame(iris_, columns=['萼片长度', '萼片宽度', '花瓣长度', '花瓣宽度', '鸢尾花类型'])\n",
    "\n",
    "iris = df.iloc[:,:3].astype('float')\n",
    "\n",
    "iris['鸢尾花类型'] = df['鸢尾花类型']"
   ]
  },
  {
   "cell_type": "code",
   "execution_count": 6,
   "metadata": {
    "scrolled": true
   },
   "outputs": [
    {
     "data": {
      "text/plain": [
       "萼片长度     float64\n",
       "萼片宽度     float64\n",
       "花瓣长度     float64\n",
       "鸢尾花类型     object\n",
       "dtype: object"
      ]
     },
     "execution_count": 6,
     "metadata": {},
     "output_type": "execute_result"
    }
   ],
   "source": [
    "iris.dtypes"
   ]
  },
  {
   "cell_type": "markdown",
   "metadata": {},
   "source": [
    "## Pandas 直接读取数据"
   ]
  },
  {
   "cell_type": "code",
   "execution_count": 19,
   "metadata": {},
   "outputs": [
    {
     "data": {
      "text/plain": [
       "萼片长度     float64\n",
       "萼片宽度     float64\n",
       "花瓣长度     float64\n",
       "花瓣宽度     float64\n",
       "鸢尾花类型     object\n",
       "dtype: object"
      ]
     },
     "execution_count": 19,
     "metadata": {},
     "output_type": "execute_result"
    }
   ],
   "source": [
    "iris = pd.read_table(f'{root}iris.txt', sep=',', header=None, names=['萼片长度', '萼片宽度', '花瓣长度', '花瓣宽度', '鸢尾花类型'])\n",
    "iris.dtypes"
   ]
  },
  {
   "cell_type": "code",
   "execution_count": 20,
   "metadata": {},
   "outputs": [
    {
     "data": {
      "text/html": [
       "<div>\n",
       "<style scoped>\n",
       "    .dataframe tbody tr th:only-of-type {\n",
       "        vertical-align: middle;\n",
       "    }\n",
       "\n",
       "    .dataframe tbody tr th {\n",
       "        vertical-align: top;\n",
       "    }\n",
       "\n",
       "    .dataframe thead th {\n",
       "        text-align: right;\n",
       "    }\n",
       "</style>\n",
       "<table border=\"1\" class=\"dataframe\">\n",
       "  <thead>\n",
       "    <tr style=\"text-align: right;\">\n",
       "      <th></th>\n",
       "      <th>萼片长度</th>\n",
       "      <th>萼片宽度</th>\n",
       "      <th>花瓣长度</th>\n",
       "      <th>花瓣宽度</th>\n",
       "      <th>鸢尾花类型</th>\n",
       "    </tr>\n",
       "  </thead>\n",
       "  <tbody>\n",
       "    <tr>\n",
       "      <th>0</th>\n",
       "      <td>5.9</td>\n",
       "      <td>3.0</td>\n",
       "      <td>4.2</td>\n",
       "      <td>1.5</td>\n",
       "      <td>Iris-versicolor</td>\n",
       "    </tr>\n",
       "    <tr>\n",
       "      <th>1</th>\n",
       "      <td>6.9</td>\n",
       "      <td>3.1</td>\n",
       "      <td>4.9</td>\n",
       "      <td>1.5</td>\n",
       "      <td>Iris-versicolor</td>\n",
       "    </tr>\n",
       "    <tr>\n",
       "      <th>2</th>\n",
       "      <td>6.6</td>\n",
       "      <td>2.9</td>\n",
       "      <td>4.6</td>\n",
       "      <td>1.3</td>\n",
       "      <td>Iris-versicolor</td>\n",
       "    </tr>\n",
       "    <tr>\n",
       "      <th>3</th>\n",
       "      <td>4.6</td>\n",
       "      <td>3.2</td>\n",
       "      <td>1.4</td>\n",
       "      <td>0.2</td>\n",
       "      <td>Iris-setosa</td>\n",
       "    </tr>\n",
       "    <tr>\n",
       "      <th>4</th>\n",
       "      <td>6.0</td>\n",
       "      <td>2.2</td>\n",
       "      <td>4.0</td>\n",
       "      <td>1.0</td>\n",
       "      <td>Iris-versicolor</td>\n",
       "    </tr>\n",
       "  </tbody>\n",
       "</table>\n",
       "</div>"
      ],
      "text/plain": [
       "   萼片长度  萼片宽度  花瓣长度  花瓣宽度            鸢尾花类型\n",
       "0   5.9   3.0   4.2   1.5  Iris-versicolor\n",
       "1   6.9   3.1   4.9   1.5  Iris-versicolor\n",
       "2   6.6   2.9   4.6   1.3  Iris-versicolor\n",
       "3   4.6   3.2   1.4   0.2      Iris-setosa\n",
       "4   6.0   2.2   4.0   1.0  Iris-versicolor"
      ]
     },
     "execution_count": 20,
     "metadata": {},
     "output_type": "execute_result"
    }
   ],
   "source": [
    "iris.head()"
   ]
  },
  {
   "cell_type": "markdown",
   "metadata": {},
   "source": [
    "## 可视化"
   ]
  },
  {
   "cell_type": "code",
   "execution_count": 23,
   "metadata": {},
   "outputs": [],
   "source": [
    "from pylab import plt, mpl\n",
    "mpl.rcParams['font.sans-serif'] = ['SimHei']  # 指定默认字体\n",
    "mpl.rcParams['axes.unicode_minus'] = False  # 解决保存图像是负号 '-' 显示为方块的问题"
   ]
  },
  {
   "cell_type": "code",
   "execution_count": 24,
   "metadata": {},
   "outputs": [
    {
     "data": {
      "text/plain": [
       "array([[<matplotlib.axes._subplots.AxesSubplot object at 0x000002415A7A67F0>,\n",
       "        <matplotlib.axes._subplots.AxesSubplot object at 0x000002415A85C240>],\n",
       "       [<matplotlib.axes._subplots.AxesSubplot object at 0x000002415A8858D0>,\n",
       "        <matplotlib.axes._subplots.AxesSubplot object at 0x000002415A8AEF60>]],\n",
       "      dtype=object)"
      ]
     },
     "execution_count": 24,
     "metadata": {},
     "output_type": "execute_result"
    },
    {
     "data": {
      "image/png": "[encoded data removed]",
      "text/plain": [
       "<Figure size 432x288 with 4 Axes>"
      ]
     },
     "metadata": {},
     "output_type": "display_data"
    }
   ],
   "source": [
    "iris.hist()"
   ]
  },
  {
   "cell_type": "code",
   "execution_count": 36,
   "metadata": {},
   "outputs": [
    {
     "data": {
      "text/plain": [
       "<matplotlib.axes._subplots.AxesSubplot at 0x2415a945e10>"
      ]
     },
     "execution_count": 36,
     "metadata": {},
     "output_type": "execute_result"
    },
    {
     "data": {
      "image/png": "[encoded data removed]",
      "text/plain": [
       "<Figure size 432x288 with 1 Axes>"
      ]
     },
     "metadata": {},
     "output_type": "display_data"
    }
   ],
   "source": [
    "iris.plot.scatter('萼片长度', '萼片宽度')"
   ]
  },
  {
   "cell_type": "code",
   "execution_count": null,
   "metadata": {},
   "outputs": [],
   "source": []
  }
 ],
 "metadata": {
  "kernelspec": {
   "display_name": "Python 3",
   "language": "python",
   "name": "python3"
  },
  "language_info": {
   "codemirror_mode": {
    "name": "ipython",
    "version": 3
   },
   "file_extension": ".py",
   "mimetype": "text/x-python",
   "name": "python",
   "nbconvert_exporter": "python",
   "pygments_lexer": "ipython3",
   "version": "3.6.5"
  }
 },
 "nbformat": 4,
 "nbformat_minor": 2
}
