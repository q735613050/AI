{
 "cells": [
  {
   "cell_type": "markdown",
   "metadata": {},
   "source": [
    "一本很不错的书籍 [Data Mining and Analysis](http://www.dataminingbook.info/pmwiki.php/Main/BookResources), 我已经下载到: [books](books/DataMining-and-Analysis.pdf), 同时也提供了该书的数据集[下载链接](http://www.dataminingbook.info/pmwiki.php/Main/BookPathUploads?action=download&upname=datasets.zip). 我将数据集下载到本地并重命名为 `sample.zip`.\n",
    "\n",
    "下面我们来看看该数据集的组成："
   ]
  },
  {
   "cell_type": "code",
   "execution_count": 1,
   "metadata": {
    "ExecuteTime": {
     "end_time": "2019-03-01T12:44:17.044516Z",
     "start_time": "2019-03-01T12:44:17.025519Z"
    },
    "scrolled": false
   },
   "outputs": [
    {
     "data": {
      "text/plain": [
       "['datasets/',\n",
       " 'datasets/categorial-3way.dat',\n",
       " 'datasets/hprd.txt',\n",
       " 'datasets/iris-2d-nonlinear.dat',\n",
       " 'datasets/iris-clusters-normalized.txt',\n",
       " 'datasets/iris-conv.txt',\n",
       " 'datasets/iris-layout.txt',\n",
       " 'datasets/iris-PC-virginica.txt',\n",
       " 'datasets/iris-PC.txt',\n",
       " 'datasets/iris-slw.dat',\n",
       " 'datasets/iris-slwc.txt',\n",
       " 'datasets/iris-slwpl.dat',\n",
       " 'datasets/iris.txt',\n",
       " 'datasets/kerneldata.txt',\n",
       " 'datasets/ldata.txt',\n",
       " 'datasets/README.txt',\n",
       " 'datasets/t7-4k.txt',\n",
       " 'datasets/iris-PC-versicolor.txt']"
      ]
     },
     "execution_count": 1,
     "metadata": {},
     "output_type": "execute_result"
    }
   ],
   "source": [
    "import zipfile\n",
    "\n",
    "Z = zipfile.ZipFile('datasets/sample.zip')\n",
    "Z.namelist()"
   ]
  },
  {
   "cell_type": "markdown",
   "metadata": {},
   "source": [
    "数据集概览:"
   ]
  },
  {
   "cell_type": "code",
   "execution_count": 3,
   "metadata": {
    "ExecuteTime": {
     "end_time": "2019-03-01T12:45:30.042092Z",
     "start_time": "2019-03-01T12:45:30.037090Z"
    },
    "scrolled": true
   },
   "outputs": [
    {
     "name": "stdout",
     "output_type": "stream",
     "text": [
      "iris.txt -- 4 dimensions + class labels\n",
      "\n",
      "\n",
      "iris-slw.dat -- Iris 2D data: sepal length and sepal width\n",
      "\n",
      "\n",
      "categorial-3way.dat -- discretized 3-way data for chap3\n",
      "\t\t\tsepal length, sepal width, class\n",
      "\n",
      "\n",
      "iris-layout.txt -- Iris graph from chap4\n",
      "\teach edge is denoted as\n",
      "\t\t\"e\" xi xj w(xi, xj) \n",
      "\teach vertex is denoted as\n",
      "\t\t\"v\" vi x-pos y-pos class\n",
      "\n",
      "\n",
      "hprd.txt -- human protein interaction network for chap4, example 4.9\n",
      "\teach line has an edge \n",
      "\t\tvi vj\n",
      "\n",
      "\n",
      "iris-slwpl.dat -- Iris 3D data for chap7\n",
      "\t\tsepal length, sepal width, petal length\n",
      "\n",
      "\n",
      "iris-2d-nonlinear.dat -- Non-linear 2D Iris data for chap7, example 7.7\n",
      "\t\n",
      "\n",
      "iris-conv.txt -- discretized 4D + class Iris dataset for chap12,\n",
      "\tfirst used in example 12.9.\n",
      "\n",
      "\n",
      "iris-PC.txt -- Iris 2D Principal Components dataset, \n",
      "\t\tfirst used in chap13, example 13.2\n",
      "\n",
      "\n",
      "kerneldata.txt -- dataset for kernel kmeans, chap12, example 13.3\n",
      "\n",
      "\n",
      "t7-4k.txt -- density-based dataset for chap15, \n",
      "\t\tfirst used in figure 15.1\n",
      "\t\tignore the last dimension\n",
      "\n",
      "\n",
      "iris-clusters-normalized.txt -- iris similarity graph for chap16.\n",
      "     each vertex is denoted as\n",
      "\t\t\"v\" vi x-pos y-pos class class-val\n",
      "\t each edge is denoted as\n",
      "\t\t\"e\" xi xj w(xi, xj) val\n",
      "\n",
      "\n",
      "iris-slwc.txt -- Iris 2D, 2 class dataset for classification in chap18, \n",
      "\t\twith Iris-setosa as c1 (-1) and others as c2 (+1)\n",
      "                 chap19, chap20, chap21\n",
      "\t\tsepal length, sepal width, class (+1 or -1)\n",
      "\n",
      "\n",
      "iris-PC-versicolor.txt -- Iris 2D Principal Components dataset, \n",
      "\t\twith two classes (Iris versicolor:c1(-1) versus rest:c2(+1)).\n",
      "\t\t\"non-linear\" class boundary\n",
      "\n",
      "\t\tUsed in chap20, example 20.4\n",
      "\t\tUsed in chap21, example 21.8, 21.10\n",
      "\t\tUsed in chap 22, example 22.3, 22.12, 22.13, 22.14\n",
      "\n",
      "\n",
      "ldata.txt -- example dataset used in example 21.1 and 21.2\n",
      "\n"
     ]
    }
   ],
   "source": [
    "intros = Z.read('datasets/README.txt').decode('utf-8')\n",
    "\n",
    "print(intros)"
   ]
  },
  {
   "cell_type": "code",
   "execution_count": 9,
   "metadata": {
    "ExecuteTime": {
     "end_time": "2019-03-01T12:48:44.084544Z",
     "start_time": "2019-03-01T12:48:44.079762Z"
    }
   },
   "outputs": [],
   "source": [
    "import pandas as pd\n",
    "import numpy as np"
   ]
  },
  {
   "cell_type": "markdown",
   "metadata": {},
   "source": [
    "下面以 `iris.txt` 为例来说明如何使用该数据集?\n",
    "\n",
    "## NumPy 读取数据\n",
    "\n",
    "参考：[在 Pandas 中更改列的数据类型](https://www.cnblogs.com/q735613050/p/9130312.html)"
   ]
  },
  {
   "cell_type": "code",
   "execution_count": 22,
   "metadata": {
    "ExecuteTime": {
     "end_time": "2019-03-01T12:54:21.847368Z",
     "start_time": "2019-03-01T12:54:21.835285Z"
    }
   },
   "outputs": [
    {
     "data": {
      "text/plain": [
       "萼片长度     float64\n",
       "萼片宽度     float64\n",
       "花瓣长度     float64\n",
       "鸢尾花类型     object\n",
       "dtype: object"
      ]
     },
     "execution_count": 22,
     "metadata": {},
     "output_type": "execute_result"
    }
   ],
   "source": [
    "iris_ = Z.read('datasets/iris.txt').decode('utf-8')\n",
    "iris_ = np.array([fea.replace('\"', '').split(',') for fea in iris_.splitlines()])\n",
    "#iris = pd.DataFrame(iris)\n",
    "\n",
    "df = pd.DataFrame(iris_, columns=['萼片长度', '萼片宽度', '花瓣长度', '花瓣宽度', '鸢尾花类型'])\n",
    "\n",
    "iris = df.iloc[:,:3].astype('float')\n",
    "\n",
    "iris['鸢尾花类型'] = df['鸢尾花类型']\n",
    "\n",
    "iris.dtypes"
   ]
  },
  {
   "cell_type": "code",
   "execution_count": 23,
   "metadata": {
    "ExecuteTime": {
     "end_time": "2019-03-01T12:54:22.406261Z",
     "start_time": "2019-03-01T12:54:22.395300Z"
    }
   },
   "outputs": [
    {
     "data": {
      "text/html": [
       "<div>\n",
       "<style scoped>\n",
       "    .dataframe tbody tr th:only-of-type {\n",
       "        vertical-align: middle;\n",
       "    }\n",
       "\n",
       "    .dataframe tbody tr th {\n",
       "        vertical-align: top;\n",
       "    }\n",
       "\n",
       "    .dataframe thead th {\n",
       "        text-align: right;\n",
       "    }\n",
       "</style>\n",
       "<table border=\"1\" class=\"dataframe\">\n",
       "  <thead>\n",
       "    <tr style=\"text-align: right;\">\n",
       "      <th></th>\n",
       "      <th>萼片长度</th>\n",
       "      <th>萼片宽度</th>\n",
       "      <th>花瓣长度</th>\n",
       "      <th>鸢尾花类型</th>\n",
       "    </tr>\n",
       "  </thead>\n",
       "  <tbody>\n",
       "    <tr>\n",
       "      <th>0</th>\n",
       "      <td>5.9</td>\n",
       "      <td>3.0</td>\n",
       "      <td>4.2</td>\n",
       "      <td>Iris-versicolor</td>\n",
       "    </tr>\n",
       "    <tr>\n",
       "      <th>1</th>\n",
       "      <td>6.9</td>\n",
       "      <td>3.1</td>\n",
       "      <td>4.9</td>\n",
       "      <td>Iris-versicolor</td>\n",
       "    </tr>\n",
       "    <tr>\n",
       "      <th>2</th>\n",
       "      <td>6.6</td>\n",
       "      <td>2.9</td>\n",
       "      <td>4.6</td>\n",
       "      <td>Iris-versicolor</td>\n",
       "    </tr>\n",
       "    <tr>\n",
       "      <th>3</th>\n",
       "      <td>4.6</td>\n",
       "      <td>3.2</td>\n",
       "      <td>1.4</td>\n",
       "      <td>Iris-setosa</td>\n",
       "    </tr>\n",
       "    <tr>\n",
       "      <th>4</th>\n",
       "      <td>6.0</td>\n",
       "      <td>2.2</td>\n",
       "      <td>4.0</td>\n",
       "      <td>Iris-versicolor</td>\n",
       "    </tr>\n",
       "  </tbody>\n",
       "</table>\n",
       "</div>"
      ],
      "text/plain": [
       "   萼片长度  萼片宽度  花瓣长度            鸢尾花类型\n",
       "0   5.9   3.0   4.2  Iris-versicolor\n",
       "1   6.9   3.1   4.9  Iris-versicolor\n",
       "2   6.6   2.9   4.6  Iris-versicolor\n",
       "3   4.6   3.2   1.4      Iris-setosa\n",
       "4   6.0   2.2   4.0  Iris-versicolor"
      ]
     },
     "execution_count": 23,
     "metadata": {},
     "output_type": "execute_result"
    }
   ],
   "source": [
    "iris.head()"
   ]
  },
  {
   "cell_type": "markdown",
   "metadata": {},
   "source": [
    "## 可视化"
   ]
  },
  {
   "cell_type": "code",
   "execution_count": 24,
   "metadata": {
    "ExecuteTime": {
     "end_time": "2019-03-01T12:54:47.844119Z",
     "start_time": "2019-03-01T12:54:47.480073Z"
    }
   },
   "outputs": [],
   "source": [
    "from pylab import plt\n",
    "plt.rcParams['font.sans-serif'] = ['SimHei']  # 指定默认字体\n",
    "plt.rcParams['axes.unicode_minus'] = False  # 解决保存图像是负号 '-' 显示为方块的问题"
   ]
  },
  {
   "cell_type": "code",
   "execution_count": 25,
   "metadata": {
    "ExecuteTime": {
     "end_time": "2019-03-01T12:54:48.798218Z",
     "start_time": "2019-03-01T12:54:48.396178Z"
    }
   },
   "outputs": [
    {
     "data": {
      "image/png": "[encoded data removed]",
      "text/plain": [
       "<Figure size 432x288 with 4 Axes>"
      ]
     },
     "metadata": {},
     "output_type": "display_data"
    }
   ],
   "source": [
    "iris.hist()\n",
    "plt.show()"
   ]
  },
  {
   "cell_type": "code",
   "execution_count": 26,
   "metadata": {
    "ExecuteTime": {
     "end_time": "2019-03-01T12:54:51.918479Z",
     "start_time": "2019-03-01T12:54:51.736824Z"
    }
   },
   "outputs": [
    {
     "data": {
      "image/png": "[encoded data removed]",
      "text/plain": [
       "<Figure size 432x288 with 1 Axes>"
      ]
     },
     "metadata": {},
     "output_type": "display_data"
    }
   ],
   "source": [
    "iris.plot.scatter('萼片长度', '萼片宽度')\n",
    "plt.show()"
   ]
  },
  {
   "cell_type": "code",
   "execution_count": 27,
   "metadata": {
    "ExecuteTime": {
     "end_time": "2019-03-01T12:54:52.893485Z",
     "start_time": "2019-03-01T12:54:52.546475Z"
    },
    "scrolled": true
   },
   "outputs": [
    {
     "data": {
      "image/png": "[encoded data removed]",
      "text/plain": [
       "<Figure size 432x288 with 1 Axes>"
      ]
     },
     "metadata": {},
     "output_type": "display_data"
    }
   ],
   "source": [
    "X = iris[['萼片长度', '萼片宽度']]\n",
    "\n",
    "XM = (X - X.mean(0)) / X.std(0)\n",
    "\n",
    "fig, ax = plt.subplots()\n",
    "rect = plt.Rectangle((1,1), width=5, height=12)\n",
    "ax.scatter(X['萼片长度'], X['萼片宽度'])\n",
    "ax.scatter(XM['萼片长度'], XM['萼片宽度'])\n",
    "plt.show()"
   ]
  },
  {
   "cell_type": "code",
   "execution_count": 28,
   "metadata": {
    "ExecuteTime": {
     "end_time": "2019-03-01T12:54:58.062711Z",
     "start_time": "2019-03-01T12:54:58.054711Z"
    }
   },
   "outputs": [
    {
     "data": {
      "text/plain": [
       "萼片长度    0.828066\n",
       "萼片宽度    0.433594\n",
       "dtype: float64"
      ]
     },
     "execution_count": 28,
     "metadata": {},
     "output_type": "execute_result"
    }
   ],
   "source": [
    "X.std(0)"
   ]
  },
  {
   "cell_type": "code",
   "execution_count": 29,
   "metadata": {
    "ExecuteTime": {
     "end_time": "2019-03-01T12:54:58.687373Z",
     "start_time": "2019-03-01T12:54:58.679711Z"
    }
   },
   "outputs": [
    {
     "data": {
      "text/plain": [
       "0.8678728888888891"
      ]
     },
     "execution_count": 29,
     "metadata": {},
     "output_type": "execute_result"
    }
   ],
   "source": [
    "np.mean((np.linalg.norm(X - X.mean(0), axis=1)) ** 2)"
   ]
  },
  {
   "cell_type": "code",
   "execution_count": 30,
   "metadata": {
    "ExecuteTime": {
     "end_time": "2019-03-01T12:54:59.310547Z",
     "start_time": "2019-03-01T12:54:59.302962Z"
    },
    "scrolled": true
   },
   "outputs": [
    {
     "data": {
      "text/plain": [
       "array([6.6189123 , 7.56439026, 7.20902213, 5.60357029, 6.39061812,\n",
       "       5.68594759, 7.15891053, 6.39765582, 7.38241153, 7.15122367,\n",
       "       6.3007936 , 6.36003145, 6.44127317, 6.79779376, 5.79827561,\n",
       "       6.04648658, 6.04648658, 6.35059052, 5.99082632, 7.87908624,\n",
       "       6.6189123 , 7.15891053, 7.20069441, 6.04152299, 5.50090902,\n",
       "       6.10327781, 5.96154342, 5.5470713 , 7.8       , 7.51531769,\n",
       "       6.66108099, 5.93632883, 6.22414653, 6.35609943, 5.67978873,\n",
       "       6.13269924, 6.39765582, 6.36003145, 6.70671305, 6.77790528,\n",
       "       6.35295207, 6.79779376, 7.43236167, 7.85493475, 6.21691242,\n",
       "       5.66038868, 7.70778827, 6.26498204, 6.46374504, 6.85054742,\n",
       "       6.39531078, 6.26099034, 5.32541078, 7.11196175, 6.38122245,\n",
       "       7.15891053, 7.56439026, 8.26377638, 6.71192968, 6.30634601,\n",
       "       6.63098786, 6.94622199, 6.10327781, 6.07453702, 6.35295207,\n",
       "       6.17737808, 6.44049688, 5.79827561, 5.84123275, 6.21288983,\n",
       "       8.76641318, 8.12711511, 6.71192968, 6.51920241, 5.72013986,\n",
       "       5.68594759, 5.26972485, 6.80294054, 5.66038868, 6.66408283,\n",
       "       7.07106781, 5.50363516, 7.15541753, 6.93541635, 7.34098086,\n",
       "       5.38516481, 6.71192968, 7.46860094, 6.66108099, 6.8541958 ,\n",
       "       5.88217647, 5.4405882 , 7.15541753, 6.57875368, 6.39061812,\n",
       "       7.91201618, 5.45618915, 7.69675256, 6.00083328, 7.11196175,\n",
       "       7.35391052, 6.75425792, 7.24499827, 7.46860094, 7.38241153,\n",
       "       5.88217647, 5.74543297, 7.60591875, 5.05371151, 5.24309069,\n",
       "       5.85918083, 6.16116872, 7.02637887, 6.26817358, 6.39765582,\n",
       "       6.92026011, 8.17067929, 6.89420046, 7.11125868, 6.77790528,\n",
       "       6.39765582, 5.83095189, 7.38241153, 6.57951366, 6.18546684,\n",
       "       5.71401785, 6.35059052, 6.36003145, 7.24982758, 6.98569968,\n",
       "       6.62193325, 6.98569968, 8.19328994, 7.04556598, 5.79827561,\n",
       "       6.54599114, 6.18546684, 6.89637586, 7.15891053, 6.00083328,\n",
       "       8.04984472, 7.56439026, 6.84470598, 7.07742891, 6.70820393,\n",
       "       6.38122245, 6.08358447, 7.34098086, 8.58661749, 6.12943717])"
      ]
     },
     "execution_count": 30,
     "metadata": {},
     "output_type": "execute_result"
    }
   ],
   "source": [
    "np.linalg.norm(X, axis=1)"
   ]
  },
  {
   "cell_type": "code",
   "execution_count": 35,
   "metadata": {
    "ExecuteTime": {
     "end_time": "2019-03-01T12:56:22.595064Z",
     "start_time": "2019-03-01T12:56:22.588032Z"
    }
   },
   "outputs": [
    {
     "data": {
      "text/plain": [
       "{'encoding': 'ascii', 'confidence': 1.0, 'language': ''}"
      ]
     },
     "execution_count": 35,
     "metadata": {},
     "output_type": "execute_result"
    }
   ],
   "source": [
    "import chardet\n",
    "\n",
    "chardet.detect(Z.read('datasets/iris.txt')) # 检测字符串编码方式"
   ]
  }
 ],
 "metadata": {
  "kernelspec": {
   "display_name": "Python [default]",
   "language": "python",
   "name": "python3"
  },
  "language_info": {
   "codemirror_mode": {
    "name": "ipython",
    "version": 3
   },
   "file_extension": ".py",
   "mimetype": "text/x-python",
   "name": "python",
   "nbconvert_exporter": "python",
   "pygments_lexer": "ipython3",
   "version": "3.6.5"
  },
  "latex_envs": {
   "LaTeX_envs_menu_present": true,
   "autoclose": false,
   "autocomplete": true,
   "bibliofile": "biblio.bib",
   "cite_by": "apalike",
   "current_citInitial": 1,
   "eqLabelWithNumbers": true,
   "eqNumInitial": 1,
   "hotkeys": {
    "equation": "Ctrl-E",
    "itemize": "Ctrl-I"
   },
   "labels_anchors": false,
   "latex_user_defs": false,
   "report_style_numbering": false,
   "user_envs_cfg": false
  },
  "nbTranslate": {
   "displayLangs": [
    "*"
   ],
   "hotkey": "alt-t",
   "langInMainMenu": true,
   "sourceLang": "en",
   "targetLang": "fr",
   "useGoogleTranslate": true
  },
  "toc": {
   "base_numbering": 1,
   "nav_menu": {},
   "number_sections": true,
   "sideBar": true,
   "skip_h1_title": false,
   "title_cell": "Table of Contents",
   "title_sidebar": "Contents",
   "toc_cell": false,
   "toc_position": {},
   "toc_section_display": true,
   "toc_window_display": false
  },
  "varInspector": {
   "cols": {
    "lenName": 16,
    "lenType": 16,
    "lenVar": 40
   },
   "kernels_config": {
    "python": {
     "delete_cmd_postfix": "",
     "delete_cmd_prefix": "del ",
     "library": "var_list.py",
     "varRefreshCmd": "print(var_dic_list())"
    },
    "r": {
     "delete_cmd_postfix": ") ",
     "delete_cmd_prefix": "rm(",
     "library": "var_list.r",
     "varRefreshCmd": "cat(var_dic_list()) "
    }
   },
   "types_to_exclude": [
    "module",
    "function",
    "builtin_function_or_method",
    "instance",
    "_Feature"
   ],
   "window_display": false
  }
 },
 "nbformat": 4,
 "nbformat_minor": 2
}
