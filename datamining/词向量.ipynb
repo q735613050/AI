{
 "cells": [
  {
   "cell_type": "markdown",
   "metadata": {},
   "source": [
    "# 词向量（Word2Vec）"
   ]
  },
  {
   "cell_type": "code",
   "execution_count": 1,
   "metadata": {
    "ExecuteTime": {
     "end_time": "2019-03-02T07:05:42.082058Z",
     "start_time": "2019-03-02T07:05:37.928001Z"
    }
   },
   "outputs": [],
   "source": [
    "from sklearn.datasets import fetch_20newsgroups\n",
    "\n",
    "news = fetch_20newsgroups(subset='all')\n",
    "\n",
    "X, y = news.data, news.target\n",
    "\n",
    "from bs4 import BeautifulSoup"
   ]
  },
  {
   "cell_type": "code",
   "execution_count": 2,
   "metadata": {
    "ExecuteTime": {
     "end_time": "2019-03-02T07:05:42.742911Z",
     "start_time": "2019-03-02T07:05:42.083894Z"
    }
   },
   "outputs": [],
   "source": [
    "import nltk, re\n",
    "\n",
    "\n",
    "def news_to_sentences(news):\n",
    "    news_text = BeautifulSoup(news, \"lxml\").get_text()\n",
    "\n",
    "    tokenizer = nltk.data.load('tokenizers/punkt/english.pickle')\n",
    "    raw_sentences = tokenizer.tokenize(news_text)\n",
    "\n",
    "    sentences = []\n",
    "\n",
    "    for sent in raw_sentences:\n",
    "        sentences.append(\n",
    "            re.sub('[^a-zA-Z]', ' ',\n",
    "                   sent.lower().strip()).split())\n",
    "\n",
    "    return sentences"
   ]
  },
  {
   "cell_type": "code",
   "execution_count": 3,
   "metadata": {
    "ExecuteTime": {
     "end_time": "2019-03-02T07:06:07.375047Z",
     "start_time": "2019-03-02T07:05:42.745344Z"
    }
   },
   "outputs": [],
   "source": [
    "sentences = []\n",
    "\n",
    "for x in X:\n",
    "    sentences += news_to_sentences(x)"
   ]
  },
  {
   "cell_type": "code",
   "execution_count": 4,
   "metadata": {
    "ExecuteTime": {
     "end_time": "2019-03-02T07:06:07.396971Z",
     "start_time": "2019-03-02T07:06:07.378007Z"
    }
   },
   "outputs": [
    {
     "data": {
      "text/plain": [
       "303560"
      ]
     },
     "execution_count": 4,
     "metadata": {},
     "output_type": "execute_result"
    }
   ],
   "source": [
    "len(sentences)"
   ]
  },
  {
   "cell_type": "code",
   "execution_count": 5,
   "metadata": {
    "ExecuteTime": {
     "end_time": "2019-03-02T07:06:48.382893Z",
     "start_time": "2019-03-02T07:06:07.400920Z"
    }
   },
   "outputs": [],
   "source": [
    "from gensim.models import word2vec\n",
    "\n",
    "# Set values for various parameters\n",
    "num_features = 300  # Word vector dimensionality\n",
    "min_word_count = 20  # Minimum word count\n",
    "num_workers = 2  # Number of threads to run in parallel\n",
    "context = 5  # Context window size\n",
    "downsampling = 1e-3  # Downsample setting for frequent words\n",
    "\n",
    "# Initialize and train the model (this will take some time)\n",
    "from gensim.models import word2vec\n",
    "\n",
    "model = word2vec.Word2Vec(sentences, workers=num_workers,\n",
    "                          size=num_features, min_count=min_word_count,\n",
    "                          window=context, sample=downsampling)\n",
    "\n",
    "# If you don't plan to train the model any further, calling\n",
    "# init_sims will make the model much more memory-efficient.\n",
    "model.init_sims(replace=True)"
   ]
  },
  {
   "cell_type": "code",
   "execution_count": 6,
   "metadata": {
    "ExecuteTime": {
     "end_time": "2019-03-02T07:06:48.396900Z",
     "start_time": "2019-03-02T07:06:48.386713Z"
    }
   },
   "outputs": [
    {
     "data": {
      "text/plain": [
       "[('afternoon', 0.8302181959152222),\n",
       " ('weekend', 0.7642990350723267),\n",
       " ('evening', 0.7547295093536377),\n",
       " ('saturday', 0.7247110605239868),\n",
       " ('night', 0.7060050964355469),\n",
       " ('friday', 0.6802293658256531),\n",
       " ('sunday', 0.6414958238601685),\n",
       " ('newspaper', 0.6384304761886597),\n",
       " ('summer', 0.6323332786560059),\n",
       " ('thursday', 0.6183165311813354)]"
      ]
     },
     "execution_count": 6,
     "metadata": {},
     "output_type": "execute_result"
    }
   ],
   "source": [
    "model.wv.most_similar('morning')"
   ]
  },
  {
   "cell_type": "code",
   "execution_count": 7,
   "metadata": {
    "ExecuteTime": {
     "end_time": "2019-03-02T07:06:48.415018Z",
     "start_time": "2019-03-02T07:06:48.398896Z"
    }
   },
   "outputs": [
    {
     "data": {
      "text/plain": [
       "[('mail', 0.7392966747283936),\n",
       " ('contact', 0.6957465410232544),\n",
       " ('address', 0.6555604934692383),\n",
       " ('replies', 0.6515315771102905),\n",
       " ('mailed', 0.6399132013320923),\n",
       " ('request', 0.6332578659057617),\n",
       " ('send', 0.6203031539916992),\n",
       " ('listserv', 0.6189593076705933),\n",
       " ('sas', 0.616413950920105),\n",
       " ('compuserve', 0.590954065322876)]"
      ]
     },
     "execution_count": 7,
     "metadata": {},
     "output_type": "execute_result"
    }
   ],
   "source": [
    "model.wv.most_similar('email')"
   ]
  }
 ],
 "metadata": {
  "kernelspec": {
   "display_name": "Python [conda env:Anaconda3]",
   "language": "python",
   "name": "conda-env-Anaconda3-py"
  },
  "language_info": {
   "codemirror_mode": {
    "name": "ipython",
    "version": 3
   },
   "file_extension": ".py",
   "mimetype": "text/x-python",
   "name": "python",
   "nbconvert_exporter": "python",
   "pygments_lexer": "ipython3",
   "version": "3.6.5"
  },
  "latex_envs": {
   "LaTeX_envs_menu_present": true,
   "autoclose": false,
   "autocomplete": true,
   "bibliofile": "biblio.bib",
   "cite_by": "apalike",
   "current_citInitial": 1,
   "eqLabelWithNumbers": true,
   "eqNumInitial": 1,
   "hotkeys": {
    "equation": "Ctrl-E",
    "itemize": "Ctrl-I"
   },
   "labels_anchors": false,
   "latex_user_defs": false,
   "report_style_numbering": false,
   "user_envs_cfg": false
  },
  "nbTranslate": {
   "displayLangs": [
    "*"
   ],
   "hotkey": "alt-t",
   "langInMainMenu": true,
   "sourceLang": "en",
   "targetLang": "fr",
   "useGoogleTranslate": true
  },
  "toc": {
   "base_numbering": 1,
   "nav_menu": {},
   "number_sections": true,
   "sideBar": true,
   "skip_h1_title": false,
   "title_cell": "Table of Contents",
   "title_sidebar": "Contents",
   "toc_cell": false,
   "toc_position": {},
   "toc_section_display": true,
   "toc_window_display": false
  },
  "varInspector": {
   "cols": {
    "lenName": 16,
    "lenType": 16,
    "lenVar": 40
   },
   "kernels_config": {
    "python": {
     "delete_cmd_postfix": "",
     "delete_cmd_prefix": "del ",
     "library": "var_list.py",
     "varRefreshCmd": "print(var_dic_list())"
    },
    "r": {
     "delete_cmd_postfix": ") ",
     "delete_cmd_prefix": "rm(",
     "library": "var_list.r",
     "varRefreshCmd": "cat(var_dic_list()) "
    }
   },
   "types_to_exclude": [
    "module",
    "function",
    "builtin_function_or_method",
    "instance",
    "_Feature"
   ],
   "window_display": false
  }
 },
 "nbformat": 4,
 "nbformat_minor": 1
}
