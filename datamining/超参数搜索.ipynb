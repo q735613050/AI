{
 "cells": [
  {
   "cell_type": "markdown",
   "metadata": {},
   "source": [
    "# 网格搜索"
   ]
  },
  {
   "cell_type": "code",
   "execution_count": 1,
   "metadata": {
    "ExecuteTime": {
     "end_time": "2019-03-02T06:37:57.980295Z",
     "start_time": "2019-03-02T06:31:45.908644Z"
    },
    "scrolled": true
   },
   "outputs": [
    {
     "name": "stdout",
     "output_type": "stream",
     "text": [
      "Fitting 3 folds for each of 12 candidates, totalling 36 fits\n",
      "[CV] svc__C=0.1, svc__gamma=0.01 .....................................\n"
     ]
    },
    {
     "name": "stderr",
     "output_type": "stream",
     "text": [
      "[Parallel(n_jobs=1)]: Using backend SequentialBackend with 1 concurrent workers.\n"
     ]
    },
    {
     "name": "stdout",
     "output_type": "stream",
     "text": [
      "[CV] ...................... svc__C=0.1, svc__gamma=0.01, total=   6.6s\n",
      "[CV] svc__C=0.1, svc__gamma=0.01 .....................................\n"
     ]
    },
    {
     "name": "stderr",
     "output_type": "stream",
     "text": [
      "[Parallel(n_jobs=1)]: Done   1 out of   1 | elapsed:    9.6s remaining:    0.0s\n"
     ]
    },
    {
     "name": "stdout",
     "output_type": "stream",
     "text": [
      "[CV] ...................... svc__C=0.1, svc__gamma=0.01, total=   6.7s\n",
      "[CV] svc__C=0.1, svc__gamma=0.01 .....................................\n",
      "[CV] ...................... svc__C=0.1, svc__gamma=0.01, total=   6.3s\n",
      "[CV] svc__C=0.1, svc__gamma=0.1 ......................................\n",
      "[CV] ....................... svc__C=0.1, svc__gamma=0.1, total=   6.6s\n",
      "[CV] svc__C=0.1, svc__gamma=0.1 ......................................\n",
      "[CV] ....................... svc__C=0.1, svc__gamma=0.1, total=   6.8s\n",
      "[CV] svc__C=0.1, svc__gamma=0.1 ......................................\n",
      "[CV] ....................... svc__C=0.1, svc__gamma=0.1, total=   7.6s\n",
      "[CV] svc__C=0.1, svc__gamma=1.0 ......................................\n",
      "[CV] ....................... svc__C=0.1, svc__gamma=1.0, total=   7.1s\n",
      "[CV] svc__C=0.1, svc__gamma=1.0 ......................................\n",
      "[CV] ....................... svc__C=0.1, svc__gamma=1.0, total=   6.6s\n",
      "[CV] svc__C=0.1, svc__gamma=1.0 ......................................\n",
      "[CV] ....................... svc__C=0.1, svc__gamma=1.0, total=   6.7s\n",
      "[CV] svc__C=0.1, svc__gamma=10.0 .....................................\n",
      "[CV] ...................... svc__C=0.1, svc__gamma=10.0, total=   6.3s\n",
      "[CV] svc__C=0.1, svc__gamma=10.0 .....................................\n",
      "[CV] ...................... svc__C=0.1, svc__gamma=10.0, total=   6.2s\n",
      "[CV] svc__C=0.1, svc__gamma=10.0 .....................................\n",
      "[CV] ...................... svc__C=0.1, svc__gamma=10.0, total=   6.3s\n",
      "[CV] svc__C=1.0, svc__gamma=0.01 .....................................\n",
      "[CV] ...................... svc__C=1.0, svc__gamma=0.01, total=   6.0s\n",
      "[CV] svc__C=1.0, svc__gamma=0.01 .....................................\n",
      "[CV] ...................... svc__C=1.0, svc__gamma=0.01, total=   6.5s\n",
      "[CV] svc__C=1.0, svc__gamma=0.01 .....................................\n",
      "[CV] ...................... svc__C=1.0, svc__gamma=0.01, total=   6.8s\n",
      "[CV] svc__C=1.0, svc__gamma=0.1 ......................................\n",
      "[CV] ....................... svc__C=1.0, svc__gamma=0.1, total=   6.4s\n",
      "[CV] svc__C=1.0, svc__gamma=0.1 ......................................\n",
      "[CV] ....................... svc__C=1.0, svc__gamma=0.1, total=   6.3s\n",
      "[CV] svc__C=1.0, svc__gamma=0.1 ......................................\n",
      "[CV] ....................... svc__C=1.0, svc__gamma=0.1, total=   6.5s\n",
      "[CV] svc__C=1.0, svc__gamma=1.0 ......................................\n",
      "[CV] ....................... svc__C=1.0, svc__gamma=1.0, total=   6.3s\n",
      "[CV] svc__C=1.0, svc__gamma=1.0 ......................................\n",
      "[CV] ....................... svc__C=1.0, svc__gamma=1.0, total=   6.6s\n",
      "[CV] svc__C=1.0, svc__gamma=1.0 ......................................\n",
      "[CV] ....................... svc__C=1.0, svc__gamma=1.0, total=   6.4s\n",
      "[CV] svc__C=1.0, svc__gamma=10.0 .....................................\n",
      "[CV] ...................... svc__C=1.0, svc__gamma=10.0, total=   6.6s\n",
      "[CV] svc__C=1.0, svc__gamma=10.0 .....................................\n",
      "[CV] ...................... svc__C=1.0, svc__gamma=10.0, total=   6.4s\n",
      "[CV] svc__C=1.0, svc__gamma=10.0 .....................................\n",
      "[CV] ...................... svc__C=1.0, svc__gamma=10.0, total=   6.4s\n",
      "[CV] svc__C=10.0, svc__gamma=0.01 ....................................\n",
      "[CV] ..................... svc__C=10.0, svc__gamma=0.01, total=   6.2s\n",
      "[CV] svc__C=10.0, svc__gamma=0.01 ....................................\n",
      "[CV] ..................... svc__C=10.0, svc__gamma=0.01, total=   6.2s\n",
      "[CV] svc__C=10.0, svc__gamma=0.01 ....................................\n",
      "[CV] ..................... svc__C=10.0, svc__gamma=0.01, total=   6.7s\n",
      "[CV] svc__C=10.0, svc__gamma=0.1 .....................................\n",
      "[CV] ...................... svc__C=10.0, svc__gamma=0.1, total=   7.1s\n",
      "[CV] svc__C=10.0, svc__gamma=0.1 .....................................\n",
      "[CV] ...................... svc__C=10.0, svc__gamma=0.1, total=   6.7s\n",
      "[CV] svc__C=10.0, svc__gamma=0.1 .....................................\n",
      "[CV] ...................... svc__C=10.0, svc__gamma=0.1, total=   6.5s\n",
      "[CV] svc__C=10.0, svc__gamma=1.0 .....................................\n",
      "[CV] ...................... svc__C=10.0, svc__gamma=1.0, total=   6.3s\n",
      "[CV] svc__C=10.0, svc__gamma=1.0 .....................................\n",
      "[CV] ...................... svc__C=10.0, svc__gamma=1.0, total=   7.1s\n",
      "[CV] svc__C=10.0, svc__gamma=1.0 .....................................\n",
      "[CV] ...................... svc__C=10.0, svc__gamma=1.0, total=   7.4s\n",
      "[CV] svc__C=10.0, svc__gamma=10.0 ....................................\n",
      "[CV] ..................... svc__C=10.0, svc__gamma=10.0, total=   7.0s\n",
      "[CV] svc__C=10.0, svc__gamma=10.0 ....................................\n",
      "[CV] ..................... svc__C=10.0, svc__gamma=10.0, total=   6.9s\n",
      "[CV] svc__C=10.0, svc__gamma=10.0 ....................................\n",
      "[CV] ..................... svc__C=10.0, svc__gamma=10.0, total=   6.5s\n"
     ]
    },
    {
     "name": "stderr",
     "output_type": "stream",
     "text": [
      "[Parallel(n_jobs=1)]: Done  36 out of  36 | elapsed:  5.9min finished\n"
     ]
    },
    {
     "name": "stdout",
     "output_type": "stream",
     "text": [
      "Wall time: 6min 6s\n",
      "0.8226666666666667\n"
     ]
    }
   ],
   "source": [
    "# 从sklearn.datasets中导入20类新闻文本抓取器。\n",
    "from sklearn.datasets import fetch_20newsgroups\n",
    "# 导入numpy，并且重命名为np。\n",
    "import numpy as np\n",
    "\n",
    "# 使用新闻抓取器从互联网上下载所有数据，并且存储在变量news中。\n",
    "news = fetch_20newsgroups(subset='all')\n",
    "\n",
    "# 从sklearn.cross_validation导入train_test_split用来分割数据。\n",
    "from sklearn.model_selection import train_test_split\n",
    "\n",
    "# 对前3000条新闻文本进行数据分割，25%文本用于未来测试。\n",
    "X_train, X_test, y_train, y_test = train_test_split(\n",
    "    news.data[:3000], news.target[:3000], test_size=0.25, random_state=33)\n",
    "\n",
    "# 导入支持向量机（分类）模型。\n",
    "from sklearn.svm import SVC\n",
    "# 导入TfidfVectorizer文本抽取器。\n",
    "from sklearn.feature_extraction.text import TfidfVectorizer\n",
    "# 导入Pipeline。\n",
    "from sklearn.pipeline import Pipeline\n",
    "\n",
    "# 使用Pipeline 简化系统搭建流程，将文本抽取与分类器模型串联起来。\n",
    "clf = Pipeline([('vect', TfidfVectorizer(\n",
    "    stop_words='english', analyzer='word')), ('svc', SVC())])\n",
    "\n",
    "# 这里需要试验的2个超参数的的个数分别是4、3， svc__gamma的参数共有10^-2, 10^-1... 。这样我们一共有12种的超参数组合，12个不同参数下的模型。\n",
    "parameters = {\n",
    "    'svc__gamma': np.logspace(-2, 1, 4),\n",
    "    'svc__C': np.logspace(-1, 1, 3)\n",
    "}\n",
    "\n",
    "# 从sklearn.grid_search中导入网格搜索模块GridSearchCV。\n",
    "from sklearn.model_selection  import GridSearchCV\n",
    "\n",
    "# 将12组参数组合以及初始化的Pipline包括3折交叉验证的要求全部告知GridSearchCV。请大家务必注意refit=True这样一个设定 。\n",
    "gs = GridSearchCV(clf, parameters, verbose=2, refit=True, cv=3)\n",
    "\n",
    "# 执行单线程网格搜索。\n",
    "%time _ = gs.fit(X_train, y_train)\n",
    "gs.best_params_, gs.best_score_\n",
    "\n",
    "# 输出最佳模型在测试集上的准确性。\n",
    "print(gs.score(X_test, y_test))"
   ]
  },
  {
   "cell_type": "markdown",
   "metadata": {},
   "source": [
    "# 并行搜索"
   ]
  },
  {
   "cell_type": "code",
   "execution_count": 2,
   "metadata": {
    "ExecuteTime": {
     "end_time": "2019-03-02T06:39:34.060245Z",
     "start_time": "2019-03-02T06:37:57.984905Z"
    }
   },
   "outputs": [
    {
     "name": "stdout",
     "output_type": "stream",
     "text": [
      "Fitting 3 folds for each of 12 candidates, totalling 36 fits\n"
     ]
    },
    {
     "name": "stderr",
     "output_type": "stream",
     "text": [
      "[Parallel(n_jobs=-1)]: Using backend LokyBackend with 8 concurrent workers.\n",
      "[Parallel(n_jobs=-1)]: Done  36 out of  36 | elapsed:  1.3min finished\n"
     ]
    },
    {
     "name": "stdout",
     "output_type": "stream",
     "text": [
      "Wall time: 1min 33s\n",
      "0.8226666666666667\n"
     ]
    }
   ],
   "source": [
    "# 从sklearn.datasets中导入20类新闻文本抓取器。\n",
    "from sklearn.datasets import fetch_20newsgroups\n",
    "# 导入numpy，并且重命名为np。\n",
    "import numpy as np\n",
    "\n",
    "# 使用新闻抓取器从互联网上下载所有数据，并且存储在变量news中。\n",
    "news = fetch_20newsgroups(subset='all')\n",
    "\n",
    "# 从sklearn.cross_validation导入train_test_split用来分割数据。\n",
    "from sklearn.model_selection import train_test_split\n",
    "\n",
    "# 对前3000条新闻文本进行数据分割，25%文本用于未来测试。\n",
    "X_train, X_test, y_train, y_test = train_test_split(news.data[:3000], news.target[:3000], test_size=0.25, random_state=33)\n",
    "\n",
    "# 导入支持向量机（分类）模型。\n",
    "from sklearn.svm import SVC\n",
    "\n",
    "# 导入TfidfVectorizer文本抽取器。\n",
    "from sklearn.feature_extraction.text import TfidfVectorizer\n",
    "# 导入Pipeline。\n",
    "from sklearn.pipeline import Pipeline\n",
    "\n",
    "#使用Pipeline 简化系统搭建流程，将文本抽取与分类器模型串联起来。\n",
    "clf = Pipeline([('vect', TfidfVectorizer(stop_words='english', analyzer='word')), ('svc', SVC())])\n",
    "\n",
    "# 这里需要试验的2个超参数的的个数分别是4、3， svc__gamma的参数共有10^-2, 10^-1... 。这样我们一共有12种的超参数组合，12个不同参数下的模型。\n",
    "parameters = {'svc__gamma': np.logspace(-2, 1, 4), 'svc__C': np.logspace(-1, 1, 3)}\n",
    "\n",
    "# 从sklearn.grid_search中导入网格搜索模块GridSearchCV。\n",
    "from sklearn.model_selection  import GridSearchCV\n",
    "\n",
    "# 初始化配置并行网格搜索，n_jobs=-1代表使用该计算机全部的CPU。\n",
    "gs = GridSearchCV(clf, parameters, verbose=2, refit=True, cv=3, n_jobs=-1)\n",
    "\n",
    "# 执行多线程并行网格搜索。\n",
    "%time _= gs.fit(X_train, y_train)\n",
    "gs.best_params_, gs.best_score_\n",
    "\n",
    "# 输出最佳模型在测试集上的准确性。\n",
    "print(gs.score(X_test, y_test))"
   ]
  }
 ],
 "metadata": {
  "kernelspec": {
   "display_name": "Python [conda env:Anaconda3]",
   "language": "python",
   "name": "conda-env-Anaconda3-py"
  },
  "language_info": {
   "codemirror_mode": {
    "name": "ipython",
    "version": 3
   },
   "file_extension": ".py",
   "mimetype": "text/x-python",
   "name": "python",
   "nbconvert_exporter": "python",
   "pygments_lexer": "ipython3",
   "version": "3.6.5"
  },
  "latex_envs": {
   "LaTeX_envs_menu_present": true,
   "autoclose": false,
   "autocomplete": true,
   "bibliofile": "biblio.bib",
   "cite_by": "apalike",
   "current_citInitial": 1,
   "eqLabelWithNumbers": true,
   "eqNumInitial": 1,
   "hotkeys": {
    "equation": "Ctrl-E",
    "itemize": "Ctrl-I"
   },
   "labels_anchors": false,
   "latex_user_defs": false,
   "report_style_numbering": false,
   "user_envs_cfg": false
  },
  "nbTranslate": {
   "displayLangs": [
    "*"
   ],
   "hotkey": "alt-t",
   "langInMainMenu": true,
   "sourceLang": "en",
   "targetLang": "fr",
   "useGoogleTranslate": true
  },
  "toc": {
   "base_numbering": 1,
   "nav_menu": {},
   "number_sections": true,
   "sideBar": true,
   "skip_h1_title": false,
   "title_cell": "Table of Contents",
   "title_sidebar": "Contents",
   "toc_cell": false,
   "toc_position": {},
   "toc_section_display": true,
   "toc_window_display": false
  },
  "varInspector": {
   "cols": {
    "lenName": 16,
    "lenType": 16,
    "lenVar": 40
   },
   "kernels_config": {
    "python": {
     "delete_cmd_postfix": "",
     "delete_cmd_prefix": "del ",
     "library": "var_list.py",
     "varRefreshCmd": "print(var_dic_list())"
    },
    "r": {
     "delete_cmd_postfix": ") ",
     "delete_cmd_prefix": "rm(",
     "library": "var_list.r",
     "varRefreshCmd": "cat(var_dic_list()) "
    }
   },
   "types_to_exclude": [
    "module",
    "function",
    "builtin_function_or_method",
    "instance",
    "_Feature"
   ],
   "window_display": false
  }
 },
 "nbformat": 4,
 "nbformat_minor": 1
}
