{
 "cells": [
  {
   "cell_type": "code",
   "execution_count": 1,
   "metadata": {
    "ExecuteTime": {
     "end_time": "2019-03-01T14:47:18.538360Z",
     "start_time": "2019-03-01T14:47:15.774628Z"
    },
    "scrolled": true
   },
   "outputs": [
    {
     "name": "stdout",
     "output_type": "stream",
     "text": [
      ".. _boston_dataset:\n",
      "\n",
      "Boston house prices dataset\n",
      "---------------------------\n",
      "\n",
      "**Data Set Characteristics:**  \n",
      "\n",
      "    :Number of Instances: 506 \n",
      "\n",
      "    :Number of Attributes: 13 numeric/categorical predictive. Median Value (attribute 14) is usually the target.\n",
      "\n",
      "    :Attribute Information (in order):\n",
      "        - CRIM     per capita crime rate by town\n",
      "        - ZN       proportion of residential land zoned for lots over 25,000 sq.ft.\n",
      "        - INDUS    proportion of non-retail business acres per town\n",
      "        - CHAS     Charles River dummy variable (= 1 if tract bounds river; 0 otherwise)\n",
      "        - NOX      nitric oxides concentration (parts per 10 million)\n",
      "        - RM       average number of rooms per dwelling\n",
      "        - AGE      proportion of owner-occupied units built prior to 1940\n",
      "        - DIS      weighted distances to five Boston employment centres\n",
      "        - RAD      index of accessibility to radial highways\n",
      "        - TAX      full-value property-tax rate per $10,000\n",
      "        - PTRATIO  pupil-teacher ratio by town\n",
      "        - B        1000(Bk - 0.63)^2 where Bk is the proportion of blacks by town\n",
      "        - LSTAT    % lower status of the population\n",
      "        - MEDV     Median value of owner-occupied homes in $1000's\n",
      "\n",
      "    :Missing Attribute Values: None\n",
      "\n",
      "    :Creator: Harrison, D. and Rubinfeld, D.L.\n",
      "\n",
      "This is a copy of UCI ML housing dataset.\n",
      "https://archive.ics.uci.edu/ml/machine-learning-databases/housing/\n",
      "\n",
      "\n",
      "This dataset was taken from the StatLib library which is maintained at Carnegie Mellon University.\n",
      "\n",
      "The Boston house-price data of Harrison, D. and Rubinfeld, D.L. 'Hedonic\n",
      "prices and the demand for clean air', J. Environ. Economics & Management,\n",
      "vol.5, 81-102, 1978.   Used in Belsley, Kuh & Welsch, 'Regression diagnostics\n",
      "...', Wiley, 1980.   N.B. Various transformations are used in the table on\n",
      "pages 244-261 of the latter.\n",
      "\n",
      "The Boston house-price data has been used in many machine learning papers that address regression\n",
      "problems.   \n",
      "     \n",
      ".. topic:: References\n",
      "\n",
      "   - Belsley, Kuh & Welsch, 'Regression diagnostics: Identifying Influential Data and Sources of Collinearity', Wiley, 1980. 244-261.\n",
      "   - Quinlan,R. (1993). Combining Instance-Based and Model-Based Learning. In Proceedings on the Tenth International Conference of Machine Learning, 236-243, University of Massachusetts, Amherst. Morgan Kaufmann.\n",
      "\n"
     ]
    }
   ],
   "source": [
    "# 从sklearn.datasets导入波士顿房价数据读取器。\n",
    "from sklearn.datasets import load_boston\n",
    "# 从读取房价数据存储在变量boston中。\n",
    "boston = load_boston()\n",
    "# 输出数据描述。\n",
    "print(boston.DESCR)"
   ]
  },
  {
   "cell_type": "code",
   "execution_count": 3,
   "metadata": {
    "ExecuteTime": {
     "end_time": "2019-03-01T14:47:49.883077Z",
     "start_time": "2019-03-01T14:47:49.838038Z"
    }
   },
   "outputs": [
    {
     "name": "stdout",
     "output_type": "stream",
     "text": [
      "The max target value is 50.0\n",
      "The min target value is 5.0\n",
      "The average target value is 22.532806324110677\n"
     ]
    }
   ],
   "source": [
    "# 从sklearn.cross_validation导入数据分割器。\n",
    "from sklearn.model_selection import train_test_split\n",
    "\n",
    "# 导入numpy并重命名为np。\n",
    "import numpy as np\n",
    "\n",
    "X = boston.data\n",
    "y = boston.target\n",
    "\n",
    "# 随机采样25%的数据构建测试样本，其余作为训练样本。\n",
    "X_train, X_test, y_train, y_test = train_test_split(\n",
    "    X, y, random_state=33, test_size=0.25)\n",
    "\n",
    "# 分析回归目标值的差异。\n",
    "print(\"The max target value is\", np.max(boston.target))\n",
    "print(\"The min target value is\", np.min(boston.target))\n",
    "print(\"The average target value is\", np.mean(boston.target))"
   ]
  },
  {
   "cell_type": "code",
   "execution_count": 6,
   "metadata": {
    "ExecuteTime": {
     "end_time": "2019-03-01T14:49:09.542839Z",
     "start_time": "2019-03-01T14:49:09.534793Z"
    },
    "scrolled": true
   },
   "outputs": [],
   "source": [
    "# 从sklearn.preprocessing导入数据标准化模块。\n",
    "from sklearn.preprocessing import StandardScaler\n",
    "\n",
    "# 分别初始化对特征和目标值的标准化器。\n",
    "ss_X = StandardScaler()\n",
    "ss_y = StandardScaler()\n",
    "\n",
    "# 分别对训练和测试数据的特征以及目标值进行标准化处理。\n",
    "X_train = ss_X.fit_transform(X_train)\n",
    "X_test = ss_X.transform(X_test)\n",
    "\n",
    "y_train = ss_y.fit_transform(y_train.reshape(-1, 1))\n",
    "y_test = ss_y.transform(y_test.reshape(-1, 1))"
   ]
  },
  {
   "cell_type": "code",
   "execution_count": 7,
   "metadata": {
    "ExecuteTime": {
     "end_time": "2019-03-01T14:49:10.960748Z",
     "start_time": "2019-03-01T14:49:10.747707Z"
    }
   },
   "outputs": [],
   "source": [
    "# 从sklearn.linear_model导入LinearRegression。\n",
    "from sklearn.linear_model import LinearRegression\n",
    "\n",
    "# 使用默认配置初始化线性回归器LinearRegression。\n",
    "lr = LinearRegression()\n",
    "# 使用训练数据进行参数估计。\n",
    "lr.fit(X_train, y_train)\n",
    "# 对测试数据进行回归预测。\n",
    "lr_y_predict = lr.predict(X_test)"
   ]
  },
  {
   "cell_type": "code",
   "execution_count": 8,
   "metadata": {
    "ExecuteTime": {
     "end_time": "2019-03-01T14:49:11.617710Z",
     "start_time": "2019-03-01T14:49:11.608702Z"
    }
   },
   "outputs": [
    {
     "name": "stderr",
     "output_type": "stream",
     "text": [
      "C:\\ProgramData\\Anaconda3\\lib\\site-packages\\sklearn\\linear_model\\stochastic_gradient.py:144: FutureWarning: max_iter and tol parameters have been added in SGDRegressor in 0.19. If both are left unset, they default to max_iter=5 and tol=None. If tol is not None, max_iter defaults to max_iter=1000. From 0.21, default max_iter will be 1000, and default tol will be 1e-3.\n",
      "  FutureWarning)\n",
      "C:\\ProgramData\\Anaconda3\\lib\\site-packages\\sklearn\\utils\\validation.py:752: DataConversionWarning: A column-vector y was passed when a 1d array was expected. Please change the shape of y to (n_samples, ), for example using ravel().\n",
      "  y = column_or_1d(y, warn=True)\n"
     ]
    }
   ],
   "source": [
    "# 从sklearn.linear_model导入SGDRegressor。\n",
    "from sklearn.linear_model import SGDRegressor\n",
    "\n",
    "# 使用默认配置初始化线性回归器SGDRegressor。\n",
    "sgdr = SGDRegressor()\n",
    "# 使用训练数据进行参数估计。\n",
    "sgdr.fit(X_train, y_train)\n",
    "# 对测试数据进行回归预测。\n",
    "sgdr_y_predict = sgdr.predict(X_test)"
   ]
  },
  {
   "cell_type": "code",
   "execution_count": null,
   "metadata": {},
   "outputs": [],
   "source": [
    "# 使用LinearRegression模型自带的评估模块，并输出评估结果。\n",
    "print('The value of default measurement of LinearRegression is',\n",
    "      lr.score(X_test, y_test))\n",
    "\n",
    "# 从sklearn.metrics依次导入r2_score、mean_squared_error以及mean_absoluate_error用于回归性能的评估。\n",
    "from sklearn.metrics import r2_score, mean_squared_error, mean_absolute_error\n",
    "\n",
    "# 使用r2_score模块，并输出评估结果。\n",
    "print('The value of R-squared of LinearRegression is',\n",
    "      r2_score(y_test, lr_y_predict))\n",
    "\n",
    "# 使用mean_squared_error模块，并输出评估结果。\n",
    "print('The mean squared error of LinearRegression is', mean_squared_error(\n",
    "    ss_y.inverse_transform(y_test), ss_y.inverse_transform(lr_y_predict)))\n",
    "\n",
    "# 使用mean_absolute_error模块，并输出评估结果。\n",
    "print('The mean absoluate error of LinearRegression is', mean_absolute_error(\n",
    "    ss_y.inverse_transform(y_test), ss_y.inverse_transform(lr_y_predict)))"
   ]
  },
  {
   "cell_type": "code",
   "execution_count": null,
   "metadata": {},
   "outputs": [],
   "source": [
    "# 使用SGDRegressor模型自带的评估模块，并输出评估结果。\n",
    "print('The value of default measurement of SGDRegressor is',\n",
    "      sgdr.score(X_test, y_test))\n",
    "\n",
    "# 使用r2_score模块，并输出评估结果。\n",
    "print('The value of R-squared of SGDRegressor is',\n",
    "      r2_score(y_test, sgdr_y_predict))\n",
    "\n",
    "# 使用mean_squared_error模块，并输出评估结果。\n",
    "print(\n",
    "    'The mean squared error of SGDRegressor is',\n",
    "    mean_squared_error(\n",
    "        ss_y.inverse_transform(y_test),\n",
    "        ss_y.inverse_transform(sgdr_y_predict)))\n",
    "\n",
    "# 使用mean_absolute_error模块，并输出评估结果。\n",
    "print(\n",
    "    'The mean absoluate error of SGDRegressor is',\n",
    "    mean_absolute_error(\n",
    "        ss_y.inverse_transform(y_test),\n",
    "        ss_y.inverse_transform(sgdr_y_predict)))"
   ]
  },
  {
   "cell_type": "code",
   "execution_count": null,
   "metadata": {},
   "outputs": [],
   "source": [
    "# 从sklearn.svm中导入支持向量机（回归）模型。\n",
    "from sklearn.svm import SVR\n",
    "\n",
    "# 使用线性核函数配置的支持向量机进行回归训练，并且对测试样本进行预测。\n",
    "linear_svr = SVR(kernel='linear')\n",
    "linear_svr.fit(X_train, y_train)\n",
    "linear_svr_y_predict = linear_svr.predict(X_test)\n",
    "\n",
    "# 使用多项式核函数配置的支持向量机进行回归训练，并且对测试样本进行预测。\n",
    "poly_svr = SVR(kernel='poly')\n",
    "poly_svr.fit(X_train, y_train)\n",
    "poly_svr_y_predict = poly_svr.predict(X_test)\n",
    "\n",
    "# 使用径向基核函数配置的支持向量机进行回归训练，并且对测试样本进行预测。\n",
    "rbf_svr = SVR(kernel='rbf')\n",
    "rbf_svr.fit(X_train, y_train)\n",
    "rbf_svr_y_predict = rbf_svr.predict(X_test)"
   ]
  },
  {
   "cell_type": "code",
   "execution_count": null,
   "metadata": {},
   "outputs": [],
   "source": [
    "# 使用R-squared、MSE和MAE指标对三种配置的支持向量机（回归）模型在相同测试集上进行性能评估。\n",
    "from sklearn.metrics import r2_score, mean_absolute_error, mean_squared_error\n",
    "print('R-squared value of linear SVR is', linear_svr.score(X_test, y_test))\n",
    "print(\n",
    "    'The mean squared error of linear SVR is',\n",
    "    mean_squared_error(\n",
    "        ss_y.inverse_transform(y_test),\n",
    "        ss_y.inverse_transform(linear_svr_y_predict)))\n",
    "print(\n",
    "    'The mean absoluate error of linear SVR is',\n",
    "    mean_absolute_error(\n",
    "        ss_y.inverse_transform(y_test),\n",
    "        ss_y.inverse_transform(linear_svr_y_predict)))"
   ]
  },
  {
   "cell_type": "code",
   "execution_count": null,
   "metadata": {},
   "outputs": [],
   "source": [
    "print('R-squared value of Poly SVR is', poly_svr.score(X_test, y_test))\n",
    "print(\n",
    "    'The mean squared error of Poly SVR is',\n",
    "    mean_squared_error(\n",
    "        ss_y.inverse_transform(y_test),\n",
    "        ss_y.inverse_transform(poly_svr_y_predict)))\n",
    "print(\n",
    "    'The mean absoluate error of Poly SVR is',\n",
    "    mean_absolute_error(\n",
    "        ss_y.inverse_transform(y_test),\n",
    "        ss_y.inverse_transform(poly_svr_y_predict)))"
   ]
  },
  {
   "cell_type": "code",
   "execution_count": null,
   "metadata": {},
   "outputs": [],
   "source": [
    "print('R-squared value of RBF SVR is', rbf_svr.score(X_test, y_test))\n",
    "print(\n",
    "    'The mean squared error of RBF SVR is',\n",
    "    mean_squared_error(\n",
    "        ss_y.inverse_transform(y_test),\n",
    "        ss_y.inverse_transform(rbf_svr_y_predict)))\n",
    "print(\n",
    "    'The mean absoluate error of RBF SVR is',\n",
    "    mean_absolute_error(\n",
    "        ss_y.inverse_transform(y_test),\n",
    "        ss_y.inverse_transform(rbf_svr_y_predict)))"
   ]
  },
  {
   "cell_type": "code",
   "execution_count": null,
   "metadata": {},
   "outputs": [],
   "source": [
    "# 从sklearn.neighbors导入KNeighborRegressor（K近邻回归器）。\n",
    "from sklearn.neighbors import KNeighborsRegressor\n",
    "\n",
    "# 初始化K近邻回归器，并且调整配置，使得预测的方式为平均回归：weights='uniform'。\n",
    "uni_knr = KNeighborsRegressor(weights='uniform')\n",
    "uni_knr.fit(X_train, y_train)\n",
    "uni_knr_y_predict = uni_knr.predict(X_test)\n",
    "\n",
    "# 初始化K近邻回归器，并且调整配置，使得预测的方式为根据距离加权回归：weights='distance'。\n",
    "dis_knr = KNeighborsRegressor(weights='distance')\n",
    "dis_knr.fit(X_train, y_train)\n",
    "dis_knr_y_predict = dis_knr.predict(X_test)"
   ]
  },
  {
   "cell_type": "code",
   "execution_count": null,
   "metadata": {},
   "outputs": [],
   "source": [
    "# 使用R-squared、MSE以及MAE三种指标对平均回归配置的K近邻模型在测试集上进行性能评估。\n",
    "print('R-squared value of uniform-weighted KNeighorRegression:',\n",
    "      uni_knr.score(X_test, y_test))\n",
    "print(\n",
    "    'The mean squared error of uniform-weighted KNeighorRegression:',\n",
    "    mean_squared_error(\n",
    "        ss_y.inverse_transform(y_test),\n",
    "        ss_y.inverse_transform(uni_knr_y_predict)))\n",
    "print(\n",
    "    'The mean absoluate error of uniform-weighted KNeighorRegression',\n",
    "    mean_absolute_error(\n",
    "        ss_y.inverse_transform(y_test),\n",
    "        ss_y.inverse_transform(uni_knr_y_predict)))"
   ]
  },
  {
   "cell_type": "code",
   "execution_count": null,
   "metadata": {},
   "outputs": [],
   "source": [
    "# 使用R-squared、MSE以及MAE三种指标对根据距离加权回归配置的K近邻模型在测试集上进行性能评估。\n",
    "print('R-squared value of distance-weighted KNeighorRegression:',\n",
    "      dis_knr.score(X_test, y_test))\n",
    "print(\n",
    "    'The mean squared error of distance-weighted KNeighorRegression:',\n",
    "    mean_squared_error(\n",
    "        ss_y.inverse_transform(y_test),\n",
    "        ss_y.inverse_transform(dis_knr_y_predict)))\n",
    "print(\n",
    "    'The mean absoluate error of distance-weighted KNeighorRegression:',\n",
    "    mean_absolute_error(\n",
    "        ss_y.inverse_transform(y_test),\n",
    "        ss_y.inverse_transform(dis_knr_y_predict)))"
   ]
  },
  {
   "cell_type": "code",
   "execution_count": null,
   "metadata": {},
   "outputs": [],
   "source": [
    "# 从sklearn.tree中导入DecisionTreeRegressor。\n",
    "from sklearn.tree import DecisionTreeRegressor\n",
    "# 使用默认配置初始化DecisionTreeRegressor。\n",
    "dtr = DecisionTreeRegressor()\n",
    "# 用波士顿房价的训练数据构建回归树。\n",
    "dtr.fit(X_train, y_train)\n",
    "# 使用默认配置的单一回归树对测试数据进行预测，并将预测值存储在变量dtr_y_predict中。\n",
    "dtr_y_predict = dtr.predict(X_test)"
   ]
  },
  {
   "cell_type": "code",
   "execution_count": null,
   "metadata": {},
   "outputs": [],
   "source": [
    "# 使用R-squared、MSE以及MAE指标对默认配置的回归树在测试集上进行性能评估。\n",
    "print('R-squared value of DecisionTreeRegressor:', dtr.score(X_test, y_test))\n",
    "print(\n",
    "    'The mean squared error of DecisionTreeRegressor:',\n",
    "    mean_squared_error(\n",
    "        ss_y.inverse_transform(y_test), ss_y.inverse_transform(dtr_y_predict)))\n",
    "print(\n",
    "    'The mean absoluate error of DecisionTreeRegressor:',\n",
    "    mean_absolute_error(\n",
    "        ss_y.inverse_transform(y_test), ss_y.inverse_transform(dtr_y_predict)))"
   ]
  },
  {
   "cell_type": "code",
   "execution_count": null,
   "metadata": {},
   "outputs": [],
   "source": [
    "# 从sklearn.ensemble中导入RandomForestRegressor、ExtraTreesGressor以及GradientBoostingRegressor。\n",
    "from sklearn.ensemble import RandomForestRegressor, ExtraTreesRegressor, GradientBoostingRegressor\n",
    "\n",
    "# 使用RandomForestRegressor训练模型，并对测试数据做出预测，结果存储在变量rfr_y_predict中。\n",
    "rfr = RandomForestRegressor()\n",
    "rfr.fit(X_train, y_train)\n",
    "rfr_y_predict = rfr.predict(X_test)\n",
    "\n",
    "# 使用ExtraTreesRegressor训练模型，并对测试数据做出预测，结果存储在变量etr_y_predict中。\n",
    "etr = ExtraTreesRegressor()\n",
    "etr.fit(X_train, y_train)\n",
    "etr_y_predict = etr.predict(X_test)\n",
    "\n",
    "# 使用GradientBoostingRegressor训练模型，并对测试数据做出预测，结果存储在变量gbr_y_predict中。\n",
    "gbr = GradientBoostingRegressor()\n",
    "gbr.fit(X_train, y_train)\n",
    "gbr_y_predict = gbr.predict(X_test)"
   ]
  },
  {
   "cell_type": "code",
   "execution_count": null,
   "metadata": {},
   "outputs": [],
   "source": [
    "# 使用R-squared、MSE以及MAE指标对默认配置的随机回归森林在测试集上进行性能评估。\n",
    "print('R-squared value of RandomForestRegressor:', rfr.score(X_test, y_test))\n",
    "print(\n",
    "    'The mean squared error of RandomForestRegressor:',\n",
    "    mean_squared_error(\n",
    "        ss_y.inverse_transform(y_test), ss_y.inverse_transform(rfr_y_predict)))\n",
    "print(\n",
    "    'The mean absoluate error of RandomForestRegressor:',\n",
    "    mean_absolute_error(\n",
    "        ss_y.inverse_transform(y_test), ss_y.inverse_transform(rfr_y_predict)))"
   ]
  },
  {
   "cell_type": "code",
   "execution_count": null,
   "metadata": {},
   "outputs": [],
   "source": [
    "# 使用R-squared、MSE以及MAE指标对默认配置的极端回归森林在测试集上进行性能评估。\n",
    "print('R-squared value of ExtraTreesRegessor:', etr.score(X_test, y_test))\n",
    "print(\n",
    "    'The mean squared error of  ExtraTreesRegessor:',\n",
    "    mean_squared_error(\n",
    "        ss_y.inverse_transform(y_test), ss_y.inverse_transform(etr_y_predict)))\n",
    "print(\n",
    "    'The mean absoluate error of ExtraTreesRegessor:',\n",
    "    mean_absolute_error(\n",
    "        ss_y.inverse_transform(y_test), ss_y.inverse_transform(etr_y_predict)))\n",
    "\n",
    "# 利用训练好的极端回归森林模型，输出每种特征对预测目标的贡献度。\n",
    "print(\n",
    "    np.sort(list(zip(etr.feature_importances_, boston.feature_names)), axis=0))"
   ]
  },
  {
   "cell_type": "code",
   "execution_count": null,
   "metadata": {},
   "outputs": [],
   "source": [
    "# 使用R-squared、MSE以及MAE指标对默认配置的梯度提升回归树在测试集上进行性能评估。\n",
    "print('R-squared value of GradientBoostingRegressor:', gbr.score(\n",
    "    X_test, y_test))\n",
    "print(\n",
    "    'The mean squared error of GradientBoostingRegressor:',\n",
    "    mean_squared_error(\n",
    "        ss_y.inverse_transform(y_test), ss_y.inverse_transform(gbr_y_predict)))\n",
    "print(\n",
    "    'The mean absoluate error of GradientBoostingRegressor:',\n",
    "    mean_absolute_error(\n",
    "        ss_y.inverse_transform(y_test), ss_y.inverse_transform(gbr_y_predict)))"
   ]
  },
  {
   "cell_type": "code",
   "execution_count": null,
   "metadata": {},
   "outputs": [],
   "source": []
  }
 ],
 "metadata": {
  "kernelspec": {
   "display_name": "Python [conda env:Anaconda3]",
   "language": "python",
   "name": "conda-env-Anaconda3-py"
  },
  "language_info": {
   "codemirror_mode": {
    "name": "ipython",
    "version": 3
   },
   "file_extension": ".py",
   "mimetype": "text/x-python",
   "name": "python",
   "nbconvert_exporter": "python",
   "pygments_lexer": "ipython3",
   "version": "3.6.5"
  },
  "latex_envs": {
   "LaTeX_envs_menu_present": true,
   "autoclose": false,
   "autocomplete": true,
   "bibliofile": "biblio.bib",
   "cite_by": "apalike",
   "current_citInitial": 1,
   "eqLabelWithNumbers": true,
   "eqNumInitial": 1,
   "hotkeys": {
    "equation": "Ctrl-E",
    "itemize": "Ctrl-I"
   },
   "labels_anchors": false,
   "latex_user_defs": false,
   "report_style_numbering": false,
   "user_envs_cfg": false
  },
  "nbTranslate": {
   "displayLangs": [
    "*"
   ],
   "hotkey": "alt-t",
   "langInMainMenu": true,
   "sourceLang": "en",
   "targetLang": "fr",
   "useGoogleTranslate": true
  },
  "toc": {
   "base_numbering": 1,
   "nav_menu": {},
   "number_sections": true,
   "sideBar": true,
   "skip_h1_title": false,
   "title_cell": "Table of Contents",
   "title_sidebar": "Contents",
   "toc_cell": false,
   "toc_position": {},
   "toc_section_display": true,
   "toc_window_display": false
  },
  "varInspector": {
   "cols": {
    "lenName": 16,
    "lenType": 16,
    "lenVar": 40
   },
   "kernels_config": {
    "python": {
     "delete_cmd_postfix": "",
     "delete_cmd_prefix": "del ",
     "library": "var_list.py",
     "varRefreshCmd": "print(var_dic_list())"
    },
    "r": {
     "delete_cmd_postfix": ") ",
     "delete_cmd_prefix": "rm(",
     "library": "var_list.r",
     "varRefreshCmd": "cat(var_dic_list()) "
    }
   },
   "types_to_exclude": [
    "module",
    "function",
    "builtin_function_or_method",
    "instance",
    "_Feature"
   ],
   "window_display": false
  }
 },
 "nbformat": 4,
 "nbformat_minor": 1
}
