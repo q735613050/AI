{
 "cells": [
  {
   "cell_type": "markdown",
   "metadata": {
    "_uuid": "4963f0c07b8841bc59a167582bc11509278edf6c"
   },
   "source": [
    "## Introduction\n",
    "Greetings! This is an automatically generated kernel with starter code demonstrating how to read in the data and begin exploring. If you're inspired to dig deeper, click the blue \"Fork Notebook\" button at the top of this kernel to begin editing your own copy."
   ]
  },
  {
   "cell_type": "markdown",
   "metadata": {
    "_uuid": "50f8b4eaf66a7b9400cfe98acc3e6b13e0041509"
   },
   "source": [
    "## Exploratory Analysis\n",
    "To begin this exploratory analysis, first import libraries and define functions for plotting the data using `matplotlib`. Depending on the data, not all plots will be made.Remember, I'm only a kerneling bot, not Jeff Dean or a Kaggle Competitions Grandmaster!"
   ]
  },
  {
   "cell_type": "code",
   "execution_count": 1,
   "metadata": {
    "ExecuteTime": {
     "end_time": "2018-08-08T05:34:23.807566Z",
     "start_time": "2018-08-08T05:34:21.360562Z"
    },
    "_kg_hide-input": false,
    "_uuid": "48bad4e1b2861bb2d2f0fc52dafca6b884aaa276"
   },
   "outputs": [],
   "source": [
    "from mpl_toolkits.mplot3d import Axes3D\n",
    "from sklearn.decomposition import PCA\n",
    "from sklearn.preprocessing import StandardScaler\n",
    "import matplotlib.pyplot as plt # plotting\n",
    "import numpy as np # linear algebra\n",
    "import os # accessing directory structure\n",
    "import pandas as pd # data processing, CSV file I/O (e.g. pd.read_csv)"
   ]
  },
  {
   "cell_type": "markdown",
   "metadata": {
    "_uuid": "ae2695c1e5d84f02cbf961d7446912a7bdd2fd1d"
   },
   "source": [
    "There are 12 csv files in the current version of the dataset:\n"
   ]
  },
  {
   "cell_type": "code",
   "execution_count": 2,
   "metadata": {
    "ExecuteTime": {
     "end_time": "2018-08-08T05:34:26.504846Z",
     "start_time": "2018-08-08T05:34:26.135849Z"
    },
    "_kg_hide-input": false,
    "_uuid": "c2c1f478cccdd688cc04a950a927f113e19e63fd"
   },
   "outputs": [
    {
     "ename": "FileNotFoundError",
     "evalue": "[WinError 3] 系统找不到指定的路径。: '../input'",
     "output_type": "error",
     "traceback": [
      "\u001b[1;31m---------------------------------------------------------------------------\u001b[0m",
      "\u001b[1;31mFileNotFoundError\u001b[0m                         Traceback (most recent call last)",
      "\u001b[1;32m<ipython-input-2-038b5647050c>\u001b[0m in \u001b[0;36m<module>\u001b[1;34m()\u001b[0m\n\u001b[1;32m----> 1\u001b[1;33m \u001b[0mprint\u001b[0m\u001b[1;33m(\u001b[0m\u001b[0mos\u001b[0m\u001b[1;33m.\u001b[0m\u001b[0mlistdir\u001b[0m\u001b[1;33m(\u001b[0m\u001b[1;34m'../input'\u001b[0m\u001b[1;33m)\u001b[0m\u001b[1;33m)\u001b[0m\u001b[1;33m\u001b[0m\u001b[0m\n\u001b[0m\u001b[0;32m      2\u001b[0m \u001b[0mprint\u001b[0m\u001b[1;33m(\u001b[0m\u001b[0mos\u001b[0m\u001b[1;33m.\u001b[0m\u001b[0mlistdir\u001b[0m\u001b[1;33m(\u001b[0m\u001b[1;34m'../input/moeimouto-faces/moeimouto-faces/007_nagato_yuki'\u001b[0m\u001b[1;33m)\u001b[0m\u001b[1;33m)\u001b[0m\u001b[1;33m\u001b[0m\u001b[0m\n\u001b[0;32m      3\u001b[0m \u001b[0mprint\u001b[0m\u001b[1;33m(\u001b[0m\u001b[0mos\u001b[0m\u001b[1;33m.\u001b[0m\u001b[0mlistdir\u001b[0m\u001b[1;33m(\u001b[0m\u001b[1;34m'../input/moeimouto-faces/moeimouto-faces/046_alice_margatroid'\u001b[0m\u001b[1;33m)\u001b[0m\u001b[1;33m)\u001b[0m\u001b[1;33m\u001b[0m\u001b[0m\n\u001b[0;32m      4\u001b[0m \u001b[0mprint\u001b[0m\u001b[1;33m(\u001b[0m\u001b[0mos\u001b[0m\u001b[1;33m.\u001b[0m\u001b[0mlistdir\u001b[0m\u001b[1;33m(\u001b[0m\u001b[1;34m'../input/moeimouto-faces/moeimouto-faces/065_sanzenin_nagi'\u001b[0m\u001b[1;33m)\u001b[0m\u001b[1;33m)\u001b[0m\u001b[1;33m\u001b[0m\u001b[0m\n\u001b[0;32m      5\u001b[0m \u001b[0mprint\u001b[0m\u001b[1;33m(\u001b[0m\u001b[0mos\u001b[0m\u001b[1;33m.\u001b[0m\u001b[0mlistdir\u001b[0m\u001b[1;33m(\u001b[0m\u001b[1;34m'../input/moeimouto-faces/moeimouto-faces/080_koizumi_itsuki'\u001b[0m\u001b[1;33m)\u001b[0m\u001b[1;33m)\u001b[0m\u001b[1;33m\u001b[0m\u001b[0m\n",
      "\u001b[1;31mFileNotFoundError\u001b[0m: [WinError 3] 系统找不到指定的路径。: '../input'"
     ]
    }
   ],
   "source": [
    "print(os.listdir('../input'))\n",
    "print(os.listdir('../input/moeimouto-faces/moeimouto-faces/007_nagato_yuki'))\n",
    "print(os.listdir('../input/moeimouto-faces/moeimouto-faces/046_alice_margatroid'))\n",
    "print(os.listdir('../input/moeimouto-faces/moeimouto-faces/065_sanzenin_nagi'))\n",
    "print(os.listdir('../input/moeimouto-faces/moeimouto-faces/080_koizumi_itsuki'))\n",
    "print(os.listdir('../input/moeimouto-faces/moeimouto-faces/096_golden_darkness'))\n",
    "print(os.listdir('../input/moeimouto-faces/moeimouto-faces/116_pastel_ink'))\n",
    "print(os.listdir('../input/moeimouto-faces/moeimouto-faces/140_seto_san'))\n",
    "print(os.listdir('../input/moeimouto-faces/moeimouto-faces/144_kotegawa_yui'))\n",
    "print(os.listdir('../input/moeimouto-faces/moeimouto-faces/164_shindou_chihiro'))\n",
    "print(os.listdir('../input/moeimouto-faces/moeimouto-faces/165_rollo_lamperouge'))\n",
    "print(os.listdir('../input/moeimouto-faces/moeimouto-faces/199_kusugawa_sasara'))\n",
    "print(os.listdir('../input/moeimouto-faces/moeimouto-faces/997_ana_coppola'))"
   ]
  },
  {
   "cell_type": "markdown",
   "metadata": {
    "_uuid": "2f1d30e466ae8342108565b3a94605c554aead02"
   },
   "source": [
    "The next hidden code cells define functions for plotting data. Click on the \"Code\" button in the published kernel to reveal the hidden code."
   ]
  },
  {
   "cell_type": "code",
   "execution_count": null,
   "metadata": {
    "_kg_hide-input": true,
    "_uuid": "453904d6c40627b7418a63aeab507d36d10b2ddb",
    "collapsed": true
   },
   "outputs": [],
   "source": [
    "# Plot the PCA with either 2 or 3 reduced components\n",
    "def plotPCA(df, nComponents):\n",
    "\tdf = df.select_dtypes(include =[np.number]) # keep only numerical columns\n",
    "\tdf = df.dropna('columns') # drop columns with NaN\n",
    "\tif df.shape[1] < nComponents:\n",
    "\t\tprint(f'No PCA graph shown: The number of numeric columns ({df.shape[1]}) is less than the number of PCA components ({nComponents})')\n",
    "\t\treturn\n",
    "\tdf = df.astype('float64') # Cast to float for sklearn functions\n",
    "\tdf = StandardScaler().fit_transform(df) # Standardize features by removing the mean and scaling to unit variance\n",
    "\tpca = PCA(n_components = nComponents)\n",
    "\tprincipalComponents = pca.fit_transform(df)\n",
    "\tprincipalDf = pd.DataFrame(data = principalComponents, columns = ['Principal Component ' + str(i) for i in range(1, nComponents + 1)])\n",
    "\tfig = plt.figure(figsize = (8, 8))\n",
    "\tif (nComponents == 3):\n",
    "\t\tax = fig.add_subplot(111, projection = '3d')\n",
    "\t\tax.set_xlabel('Principal Component 1', fontsize = 15)\n",
    "\t\tax.set_ylabel('Principal Component 2', fontsize = 15)\n",
    "\t\tax.set_zlabel('Principal Component 3', fontsize = 15)\n",
    "\t\tax.set_title('3 component PCA', fontsize = 20)\n",
    "\t\tax.scatter(xs = principalDf.iloc[:, 0], ys = principalDf.iloc[:, 1], zs = principalDf.iloc[:, 2])\n",
    "\telse:\n",
    "\t\tax = fig.add_subplot(111)\n",
    "\t\tax.set_xlabel('Principal Component 1', fontsize = 15)\n",
    "\t\tax.set_ylabel('Principal Component 2', fontsize = 15)\n",
    "\t\tax.set_title('2 component PCA', fontsize = 20)\n",
    "\t\tax.scatter(x = principalDf.iloc[:, 0], y = principalDf.iloc[:, 1])\n"
   ]
  },
  {
   "cell_type": "code",
   "execution_count": null,
   "metadata": {
    "_kg_hide-input": true,
    "_uuid": "165fe240b9d8996f1ddffd66791202a938187839",
    "collapsed": true
   },
   "outputs": [],
   "source": [
    "# Histogram of column data\n",
    "def plotHistogram(df, nHistogramShown, nHistogramPerRow):\n",
    "\tnunique = df.nunique()\n",
    "\tdf = df[[col for col in df if nunique[col] > 1 and nunique[col] < 50]] # For displaying purposes, pick columns that have between 1 and 50 unique values\n",
    "\tnRow, nCol = df.shape\n",
    "\tcolumnNames = list(df)\n",
    "\tnHistRow = (nCol + nHistogramPerRow - 1) / nHistogramPerRow\n",
    "\tplt.figure(num=None, figsize=(6*nHistogramPerRow, 8*nHistRow), dpi=80, facecolor='w', edgecolor='k')\n",
    "\tfor i in range(min(nCol, nHistogramShown)):\n",
    "\t\tplt.subplot(nHistRow, nHistogramPerRow, i+1)\n",
    "\t\tdf.iloc[:,i].hist()\n",
    "\t\tplt.ylabel('counts')\n",
    "\t\tplt.xticks(rotation=90)\n",
    "\t\tplt.title(f'{columnNames[i]} (column {i})')\n",
    "\tplt.tight_layout(pad=1.0, w_pad=1.0, h_pad=1.0)\n",
    "\tplt.show()\n"
   ]
  },
  {
   "cell_type": "code",
   "execution_count": null,
   "metadata": {
    "_kg_hide-input": true,
    "_uuid": "d22c043a915ad6af004b9138b5bc2804669f373f",
    "collapsed": true
   },
   "outputs": [],
   "source": [
    "# Correlation matrix\n",
    "def plotCorrelationMatrix(df, graphWidth):\n",
    "\tfilename = df.dataframeName\n",
    "\tdf = df.dropna('columns') # drop columns with NaN\n",
    "\tdf = df[[col for col in df if df[col].nunique() > 1]] # keep columns where there are more than 1 unique values\n",
    "\tif df.shape[1] < 2:\n",
    "\t\tprint(f'No correlation plots shown: The number of non-NaN or constant columns ({df.shape[1]}) is less than 2')\n",
    "\t\treturn\n",
    "\tcorr = df.corr()\n",
    "\tplt.figure(num=None, figsize=(graphWidth, graphWidth), dpi=80, facecolor='w', edgecolor='k')\n",
    "\tcorrMat = plt.matshow(corr, fignum = 1)\n",
    "\tplt.xticks(range(len(corr.columns)), corr.columns, rotation=90)\n",
    "\tplt.yticks(range(len(corr.columns)), corr.columns)\n",
    "\tplt.gca().xaxis.tick_bottom()\n",
    "\tplt.colorbar(corrMat)\n",
    "\tplt.title(f'Correlation Matrix for {filename}', fontsize=15)\n",
    "\tplt.show()\n"
   ]
  },
  {
   "cell_type": "code",
   "execution_count": null,
   "metadata": {
    "_kg_hide-input": true,
    "_uuid": "b3b0f25e4a2f7ba70de36384b5c2be92c51808f8",
    "collapsed": true
   },
   "outputs": [],
   "source": [
    "# Scatter and density plots\n",
    "def plotScatterMatrix(df, plotSize, textSize):\n",
    "\tdf = df.select_dtypes(include =[np.number]) # keep only numerical columns\n",
    "\t# Remove rows and columns that would lead to df being singular\n",
    "\tdf = df.dropna('columns')\n",
    "\tdf = df[[col for col in df if df[col].nunique() > 1]] # keep columns where there are more than 1 unique values\n",
    "\tcolumnNames = list(df)\n",
    "\tif len(columnNames) > 10: # reduce the number of columns for matrix inversion of kernel density plots\n",
    "\t\tcolumnNames = columnNames[:10]\n",
    "\tdf = df[columnNames]\n",
    "\tax = pd.plotting.scatter_matrix(df, alpha=0.75, figsize=[plotSize, plotSize], diagonal='kde')\n",
    "\tcorrs = df.corr().values\n",
    "\tfor i, j in zip(*plt.np.triu_indices_from(ax, k = 1)):\n",
    "\t\tax[i, j].annotate('Corr. coef = %.3f' % corrs[i, j], (0.8, 0.2), xycoords='axes fraction', ha='center', va='center', size=textSize)\n",
    "\tplt.suptitle('Scatter and Density Plot')\n",
    "\tplt.show()\n"
   ]
  },
  {
   "cell_type": "markdown",
   "metadata": {
    "_uuid": "db340db4b5aaeeb563439c6e2c64a9892907feae"
   },
   "source": [
    "Now, read in the data and use the plotting functions to visualize the data."
   ]
  },
  {
   "cell_type": "markdown",
   "metadata": {
    "_uuid": "b2f3f3dbff0349b8c04be2290c3c3e9dfa7c864f"
   },
   "source": [
    "### Let's check 1st file: ../input/moeimouto-faces/moeimouto-faces/080_koizumi_itsuki/color.csv"
   ]
  },
  {
   "cell_type": "code",
   "execution_count": null,
   "metadata": {
    "_kg_hide-input": false,
    "_uuid": "ae476a9498a90c1993d10cc22a69a5193c19ddff",
    "collapsed": true
   },
   "outputs": [],
   "source": [
    "nRowsRead = 100 # specify 'None' if want to read whole file\n",
    "# color.csv may have more rows in reality, but we are only loading/previewing the first 100 rows\n",
    "df1 = pd.read_csv('../input/moeimouto-faces/moeimouto-faces/080_koizumi_itsuki/color.csv', delimiter=',', nrows = nRowsRead)\n",
    "df1.dataframeName = 'color.csv'\n",
    "nRow, nCol = df1.shape\n",
    "print(f'There are {nRow} rows and {nCol} columns')"
   ]
  },
  {
   "cell_type": "markdown",
   "metadata": {
    "_uuid": "07bb2c2b170d6a99aeebf137541da0c43beca877"
   },
   "source": [
    "Let's take a quick look at what the data looks like:"
   ]
  },
  {
   "cell_type": "code",
   "execution_count": null,
   "metadata": {
    "_kg_hide-input": false,
    "_uuid": "b4f2c81f72199a983d8917ccd8ddeb043c58da5e",
    "collapsed": true
   },
   "outputs": [],
   "source": [
    "df1.head(5)"
   ]
  },
  {
   "cell_type": "markdown",
   "metadata": {
    "_uuid": "d0a02dd370ef219d16fc8d6bb37a994742c07683"
   },
   "source": [
    "Histogram of sampled columns:"
   ]
  },
  {
   "cell_type": "code",
   "execution_count": null,
   "metadata": {
    "_kg_hide-input": false,
    "_uuid": "fca28281db58e0080a1b6eb8d386ec632807e06c",
    "collapsed": true
   },
   "outputs": [],
   "source": [
    "plotHistogram(df1, 10, 5)"
   ]
  },
  {
   "cell_type": "markdown",
   "metadata": {
    "_uuid": "e43ba58fc18fc51b8e7bcba9107ee6fa0d5e56d7"
   },
   "source": [
    "2D and 3D PCA Plots"
   ]
  },
  {
   "cell_type": "code",
   "execution_count": null,
   "metadata": {
    "_kg_hide-input": false,
    "_uuid": "7305706e11b80d6d53e56bf2ea9575ecd7d42076",
    "collapsed": true
   },
   "outputs": [],
   "source": [
    "plotPCA(df1, 2) # 2D PCA\n",
    "plotPCA(df1, 3) # 3D PCA"
   ]
  },
  {
   "cell_type": "markdown",
   "metadata": {
    "_uuid": "38c5cee6a4ac22bb5c0627e5e421417864922985"
   },
   "source": [
    "### Let's check 2nd file: ../input/moeimouto-faces/moeimouto-faces/199_kusugawa_sasara/color.csv"
   ]
  },
  {
   "cell_type": "code",
   "execution_count": null,
   "metadata": {
    "_kg_hide-input": false,
    "_uuid": "818aeb1f02352c3ccdc0c37cf3c26390d844b99a",
    "collapsed": true
   },
   "outputs": [],
   "source": [
    "nRowsRead = 100 # specify 'None' if want to read whole file\n",
    "# color.csv may have more rows in reality, but we are only loading/previewing the first 100 rows\n",
    "df2 = pd.read_csv('../input/moeimouto-faces/moeimouto-faces/199_kusugawa_sasara/color.csv', delimiter=',', nrows = nRowsRead)\n",
    "df2.dataframeName = 'color.csv'\n",
    "nRow, nCol = df2.shape\n",
    "print(f'There are {nRow} rows and {nCol} columns')"
   ]
  },
  {
   "cell_type": "markdown",
   "metadata": {
    "_uuid": "1e891d29070cdd039cfbda237cc537f9552c3ff4"
   },
   "source": [
    "Let's take a quick look at what the data looks like:"
   ]
  },
  {
   "cell_type": "code",
   "execution_count": null,
   "metadata": {
    "_kg_hide-input": false,
    "_uuid": "0ab74243aae7bae492c9e9610c4ed42baaf822b1",
    "collapsed": true
   },
   "outputs": [],
   "source": [
    "df2.head(5)"
   ]
  },
  {
   "cell_type": "markdown",
   "metadata": {
    "_uuid": "9dabe72cd5186cdc430fefe6108a9f51544faa40"
   },
   "source": [
    "Histogram of sampled columns:"
   ]
  },
  {
   "cell_type": "code",
   "execution_count": null,
   "metadata": {
    "_kg_hide-input": false,
    "_uuid": "2822b2920b22b60b2cd9b15d5cb1a3697ca3a925",
    "collapsed": true
   },
   "outputs": [],
   "source": [
    "plotHistogram(df2, 10, 5)"
   ]
  },
  {
   "cell_type": "markdown",
   "metadata": {
    "_uuid": "3c754f6758a78bed24d7ee91eb24e592ccecfa07"
   },
   "source": [
    "2D and 3D PCA Plots"
   ]
  },
  {
   "cell_type": "code",
   "execution_count": null,
   "metadata": {
    "_kg_hide-input": false,
    "_uuid": "de02a8e5212961a878cd404acf9c822c49ee5ff4",
    "collapsed": true
   },
   "outputs": [],
   "source": [
    "plotPCA(df2, 2) # 2D PCA\n",
    "plotPCA(df2, 3) # 3D PCA"
   ]
  },
  {
   "cell_type": "markdown",
   "metadata": {
    "_uuid": "97d19a4ee6d26ccdf6a7f6a9f09d7eaa0aa03c6b"
   },
   "source": [
    "### Let's check 3rd file: ../input/moeimouto-faces/moeimouto-faces/007_nagato_yuki/color.csv"
   ]
  },
  {
   "cell_type": "code",
   "execution_count": null,
   "metadata": {
    "_kg_hide-input": false,
    "_uuid": "4c0771f6443929586f5772757fb8484577129cff",
    "collapsed": true
   },
   "outputs": [],
   "source": [
    "nRowsRead = 100 # specify 'None' if want to read whole file\n",
    "# color.csv may have more rows in reality, but we are only loading/previewing the first 100 rows\n",
    "df3 = pd.read_csv('../input/moeimouto-faces/moeimouto-faces/007_nagato_yuki/color.csv', delimiter=',', nrows = nRowsRead)\n",
    "df3.dataframeName = 'color.csv'\n",
    "nRow, nCol = df3.shape\n",
    "print(f'There are {nRow} rows and {nCol} columns')"
   ]
  },
  {
   "cell_type": "markdown",
   "metadata": {
    "_uuid": "0a3023d79fc259eea38ce5d00100c0c43f4c806c"
   },
   "source": [
    "Let's take a quick look at what the data looks like:"
   ]
  },
  {
   "cell_type": "code",
   "execution_count": null,
   "metadata": {
    "_kg_hide-input": false,
    "_uuid": "eefb534f182a458f19e58b514721a5dc10cf8357",
    "collapsed": true
   },
   "outputs": [],
   "source": [
    "df3.head(5)"
   ]
  },
  {
   "cell_type": "markdown",
   "metadata": {
    "_uuid": "7e0f857e367de8acc0e0a4754593e21000bb2640"
   },
   "source": [
    "Histogram of sampled columns:"
   ]
  },
  {
   "cell_type": "code",
   "execution_count": null,
   "metadata": {
    "_kg_hide-input": false,
    "_uuid": "d54a8c9fabf6edf271ac4ea5eaa4dc286a77cb8e",
    "collapsed": true
   },
   "outputs": [],
   "source": [
    "plotHistogram(df3, 10, 5)"
   ]
  },
  {
   "cell_type": "markdown",
   "metadata": {
    "_uuid": "64ddf5f49da44fe6ea3d31692293e7485cbf78a0"
   },
   "source": [
    "2D and 3D PCA Plots"
   ]
  },
  {
   "cell_type": "code",
   "execution_count": null,
   "metadata": {
    "_kg_hide-input": false,
    "_uuid": "df69c03c16c373d32afdec0cdb54951fd9e36cee",
    "collapsed": true
   },
   "outputs": [],
   "source": [
    "plotPCA(df3, 2) # 2D PCA\n",
    "plotPCA(df3, 3) # 3D PCA"
   ]
  },
  {
   "cell_type": "markdown",
   "metadata": {
    "_uuid": "b5c0558b40ac603ad5451003f776aa9a9d63e6ab"
   },
   "source": [
    "## Conclusion\n",
    "This concludes this starter analysis! To continue from here, click the blue \"Fork Notebook\" button at the top. This will create a copy of the code and environment for you to edit, delete, modify, and add code as you please. Happy Kaggling!"
   ]
  }
 ],
 "metadata": {
  "kernelspec": {
   "display_name": "Python 3",
   "language": "python",
   "name": "python3"
  },
  "language_info": {
   "codemirror_mode": {
    "name": "ipython",
    "version": 3
   },
   "file_extension": ".py",
   "mimetype": "text/x-python",
   "name": "python",
   "nbconvert_exporter": "python",
   "pygments_lexer": "ipython3",
   "version": "3.6.5"
  },
  "latex_envs": {
   "LaTeX_envs_menu_present": true,
   "autoclose": false,
   "autocomplete": true,
   "bibliofile": "biblio.bib",
   "cite_by": "apalike",
   "current_citInitial": 1,
   "eqLabelWithNumbers": true,
   "eqNumInitial": 1,
   "hotkeys": {
    "equation": "Ctrl-E",
    "itemize": "Ctrl-I"
   },
   "labels_anchors": false,
   "latex_user_defs": false,
   "report_style_numbering": false,
   "user_envs_cfg": false
  },
  "nbTranslate": {
   "displayLangs": [
    "*"
   ],
   "hotkey": "alt-t",
   "langInMainMenu": true,
   "sourceLang": "en",
   "targetLang": "fr",
   "useGoogleTranslate": true
  },
  "toc": {
   "base_numbering": 1,
   "nav_menu": {},
   "number_sections": true,
   "sideBar": true,
   "skip_h1_title": false,
   "title_cell": "Table of Contents",
   "title_sidebar": "Contents",
   "toc_cell": false,
   "toc_position": {},
   "toc_section_display": true,
   "toc_window_display": false
  },
  "varInspector": {
   "cols": {
    "lenName": 16,
    "lenType": 16,
    "lenVar": 40
   },
   "kernels_config": {
    "python": {
     "delete_cmd_postfix": "",
     "delete_cmd_prefix": "del ",
     "library": "var_list.py",
     "varRefreshCmd": "print(var_dic_list())"
    },
    "r": {
     "delete_cmd_postfix": ") ",
     "delete_cmd_prefix": "rm(",
     "library": "var_list.r",
     "varRefreshCmd": "cat(var_dic_list()) "
    }
   },
   "types_to_exclude": [
    "module",
    "function",
    "builtin_function_or_method",
    "instance",
    "_Feature"
   ],
   "window_display": false
  }
 },
 "nbformat": 4,
 "nbformat_minor": 1
}
