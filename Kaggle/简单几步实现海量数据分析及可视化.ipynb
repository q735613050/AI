{
 "cells": [
  {
   "cell_type": "markdown",
   "metadata": {},
   "source": [
    "参考：\n",
    "- [Kaggle放大招：简单几步实现海量数据分析及可视化](https://mp.weixin.qq.com/s?__biz=MzI3MTA0MTk1MA%3D%3D&mid=2652024020&idx=3&sn=b9ad86f2d0ffb6f3304156d4db5de924#wechat_redirect)\n",
    "- [Kaggle Kerneler bot](https://www.kaggle.com/kerneler/kernels)\n",
    "\n",
    "Kaggle 发布了新的数据分析及可视化工具——Kaggle Kerneler bot，用户只需上传数据集，便可用 Python 为用户自动获取相关的深度数据分析结果。本文将带领读者体验一下这款便捷而又高效的工具。\n",
    "\n",
    "**Kaggle Kerneler bot 是一个自动生成的 kernel，其中包含了演示如何读取数据以及分析工作的 starter 代码**。用户可以进入任意一个已经发布的项目，点击顶部的“Fork Notebook”来编辑自己的副本。"
   ]
  },
  {
   "cell_type": "code",
   "execution_count": 4,
   "metadata": {
    "ExecuteTime": {
     "end_time": "2018-08-08T06:50:24.598939Z",
     "start_time": "2018-08-08T06:50:24.553939Z"
    }
   },
   "outputs": [
    {
     "name": "stdout",
     "output_type": "stream",
     "text": [
      "Populating the interactive namespace from numpy and matplotlib\n"
     ]
    }
   ],
   "source": [
    "from mpl_toolkits.mplot3d import Axes3D\n",
    "from sklearn.decomposition import PCA\n",
    "from sklearn.preprocessing import StandardScaler\n",
    "import matplotlib.pyplot as plt # plotting\n",
    "import numpy as np # linear algebra\n",
    "import os # accessing directory structure\n",
    "import pandas as pd # data processing, CSV file I/O (e.g. pd.read_csv)\n",
    "%pylab inline"
   ]
  },
  {
   "cell_type": "code",
   "execution_count": 5,
   "metadata": {
    "ExecuteTime": {
     "end_time": "2018-08-08T06:50:27.825586Z",
     "start_time": "2018-08-08T06:50:27.817571Z"
    }
   },
   "outputs": [],
   "source": [
    "# Plot the PCA with either 2 or 3 reduced components\n",
    "def plotPCA(df, nComponents):\n",
    "    df = df.select_dtypes(include=[np.number])  # keep only numerical columns\n",
    "    df = df.dropna('columns')  # drop columns with NaN\n",
    "    if df.shape[1] < nComponents:\n",
    "        print(\n",
    "            f'No PCA graph shown: The number of numeric columns ({df.shape[1]}) is less than the number of PCA components ({nComponents})')\n",
    "        return\n",
    "    df = df.astype('float64')  # Cast to float for sklearn functions\n",
    "    # Standardize features by removing the mean and scaling to unit variance\n",
    "    df = StandardScaler().fit_transform(df)\n",
    "    pca = PCA(n_components=nComponents)\n",
    "    principalComponents = pca.fit_transform(df)\n",
    "    principalDf = pd.DataFrame(data=principalComponents, columns=[\n",
    "                               'Principal Component ' + str(i) for i in range(1, nComponents + 1)])\n",
    "    fig = plt.figure(figsize=(8, 8))\n",
    "    if (nComponents == 3):\n",
    "        ax = fig.add_subplot(111, projection='3d')\n",
    "        ax.set_xlabel('Principal Component 1', fontsize=15)\n",
    "        ax.set_ylabel('Principal Component 2', fontsize=15)\n",
    "        ax.set_zlabel('Principal Component 3', fontsize=15)\n",
    "        ax.set_title('3 component PCA', fontsize=20)\n",
    "        ax.scatter(\n",
    "            xs=principalDf.iloc[:, 0], ys=principalDf.iloc[:, 1], zs=principalDf.iloc[:, 2])\n",
    "    else:\n",
    "        ax = fig.add_subplot(111)\n",
    "        ax.set_xlabel('Principal Component 1', fontsize=15)\n",
    "        ax.set_ylabel('Principal Component 2', fontsize=15)\n",
    "        ax.set_title('2 component PCA', fontsize=20)\n",
    "        ax.scatter(x=principalDf.iloc[:, 0], y=principalDf.iloc[:, 1])"
   ]
  },
  {
   "cell_type": "code",
   "execution_count": 7,
   "metadata": {
    "ExecuteTime": {
     "end_time": "2018-08-08T06:52:05.197648Z",
     "start_time": "2018-08-08T06:52:05.189650Z"
    }
   },
   "outputs": [],
   "source": [
    "# Histogram of column data\n",
    "def plotHistogram(df, nHistogramShown, nHistogramPerRow):\n",
    "    nunique = df.nunique()\n",
    "    # For displaying purposes, pick columns that have between 1 and 50 unique values\n",
    "    df = df[[col for col in df if nunique[col] > 1 and nunique[col] < 50]]\n",
    "    nRow, nCol = df.shape\n",
    "    columnNames = list(df)\n",
    "    nHistRow = (nCol + nHistogramPerRow - 1) / nHistogramPerRow\n",
    "    plt.figure(num=None, figsize=(6*nHistogramPerRow, 8*nHistRow),\n",
    "               dpi=80, facecolor='w', edgecolor='k')\n",
    "    for i in range(min(nCol, nHistogramShown)):\n",
    "        plt.subplot(nHistRow, nHistogramPerRow, i+1)\n",
    "        df.iloc[:, i].hist()\n",
    "        plt.ylabel('counts')\n",
    "        plt.xticks(rotation=90)\n",
    "        plt.title(f'{columnNames[i]} (column {i})')\n",
    "    plt.tight_layout(pad=1.0, w_pad=1.0, h_pad=1.0)\n",
    "    plt.show()"
   ]
  },
  {
   "cell_type": "code",
   "execution_count": 8,
   "metadata": {
    "ExecuteTime": {
     "end_time": "2018-08-08T06:52:19.182876Z",
     "start_time": "2018-08-08T06:52:19.173855Z"
    }
   },
   "outputs": [],
   "source": [
    "# Correlation matrix\n",
    "def plotCorrelationMatrix(df, graphWidth):\n",
    "    filename = df.dataframeName\n",
    "    df = df.dropna('columns')  # drop columns with NaN\n",
    "    # keep columns where there are more than 1 unique values\n",
    "    df = df[[col for col in df if df[col].nunique() > 1]]\n",
    "    if df.shape[1] < 2:\n",
    "        print(\n",
    "            f'No correlation plots shown: The number of non-NaN or constant columns ({df.shape[1]}) is less than 2')\n",
    "        return\n",
    "    corr = df.corr()\n",
    "    plt.figure(num=None, figsize=(graphWidth, graphWidth),\n",
    "               dpi=80, facecolor='w', edgecolor='k')\n",
    "    corrMat = plt.matshow(corr, fignum=1)\n",
    "    plt.xticks(range(len(corr.columns)), corr.columns, rotation=90)\n",
    "    plt.yticks(range(len(corr.columns)), corr.columns)\n",
    "    plt.gca().xaxis.tick_bottom()\n",
    "    plt.colorbar(corrMat)\n",
    "    plt.title(f'Correlation Matrix for {filename}', fontsize=15)\n",
    "    plt.show()"
   ]
  },
  {
   "cell_type": "code",
   "execution_count": 9,
   "metadata": {
    "ExecuteTime": {
     "end_time": "2018-08-08T06:52:31.339551Z",
     "start_time": "2018-08-08T06:52:31.328550Z"
    }
   },
   "outputs": [],
   "source": [
    "# Scatter and density plots\n",
    "def plotScatterMatrix(df, plotSize, textSize):\n",
    "    df = df.select_dtypes(include=[np.number])  # keep only numerical columns\n",
    "    # Remove rows and columns that would lead to df being singular\n",
    "    df = df.dropna('columns')\n",
    "    # keep columns where there are more than 1 unique values\n",
    "    df = df[[col for col in df if df[col].nunique() > 1]]\n",
    "    columnNames = list(df)\n",
    "    if len(columnNames) > 10:  # reduce the number of columns for matrix inversion of kernel density plots\n",
    "        columnNames = columnNames[:10]\n",
    "    df = df[columnNames]\n",
    "    ax = pd.plotting.scatter_matrix(df, alpha=0.75, figsize=[\n",
    "                                    plotSize, plotSize], diagonal='kde')\n",
    "    corrs = df.corr().values\n",
    "    for i, j in zip(*plt.np.triu_indices_from(ax, k=1)):\n",
    "        ax[i, j].annotate('Corr. coef = %.3f' % corrs[i, j], (0.8, 0.2),\n",
    "                          xycoords='axes fraction', ha='center', va='center', size=textSize)\n",
    "    plt.suptitle('Scatter and Density Plot')\n",
    "    plt.show()"
   ]
  },
  {
   "cell_type": "code",
   "execution_count": null,
   "metadata": {},
   "outputs": [],
   "source": []
  }
 ],
 "metadata": {
  "kernelspec": {
   "display_name": "Python 3",
   "language": "python",
   "name": "python3"
  },
  "language_info": {
   "codemirror_mode": {
    "name": "ipython",
    "version": 3
   },
   "file_extension": ".py",
   "mimetype": "text/x-python",
   "name": "python",
   "nbconvert_exporter": "python",
   "pygments_lexer": "ipython3",
   "version": "3.6.5"
  },
  "latex_envs": {
   "LaTeX_envs_menu_present": true,
   "autoclose": false,
   "autocomplete": true,
   "bibliofile": "biblio.bib",
   "cite_by": "apalike",
   "current_citInitial": 1,
   "eqLabelWithNumbers": true,
   "eqNumInitial": 1,
   "hotkeys": {
    "equation": "Ctrl-E",
    "itemize": "Ctrl-I"
   },
   "labels_anchors": false,
   "latex_user_defs": false,
   "report_style_numbering": false,
   "user_envs_cfg": false
  },
  "nbTranslate": {
   "displayLangs": [
    "*"
   ],
   "hotkey": "alt-t",
   "langInMainMenu": true,
   "sourceLang": "en",
   "targetLang": "fr",
   "useGoogleTranslate": true
  },
  "toc": {
   "base_numbering": 1,
   "nav_menu": {},
   "number_sections": true,
   "sideBar": true,
   "skip_h1_title": false,
   "title_cell": "Table of Contents",
   "title_sidebar": "Contents",
   "toc_cell": false,
   "toc_position": {},
   "toc_section_display": true,
   "toc_window_display": false
  },
  "varInspector": {
   "cols": {
    "lenName": 16,
    "lenType": 16,
    "lenVar": 40
   },
   "kernels_config": {
    "python": {
     "delete_cmd_postfix": "",
     "delete_cmd_prefix": "del ",
     "library": "var_list.py",
     "varRefreshCmd": "print(var_dic_list())"
    },
    "r": {
     "delete_cmd_postfix": ") ",
     "delete_cmd_prefix": "rm(",
     "library": "var_list.r",
     "varRefreshCmd": "cat(var_dic_list()) "
    }
   },
   "types_to_exclude": [
    "module",
    "function",
    "builtin_function_or_method",
    "instance",
    "_Feature"
   ],
   "window_display": false
  }
 },
 "nbformat": 4,
 "nbformat_minor": 2
}
