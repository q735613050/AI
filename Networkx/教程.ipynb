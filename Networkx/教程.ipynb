{
 "cells": [
  {
   "cell_type": "markdown",
   "metadata": {},
   "source": [
    "详细的官方教程：https://networkx.github.io/documentation/stable/reference/linalg.html\n",
    "\n",
    "# 定义图的节点和边  "
   ]
  },
  {
   "cell_type": "code",
   "execution_count": 2,
   "metadata": {
    "ExecuteTime": {
     "end_time": "2018-08-06T08:03:32.654807Z",
     "start_time": "2018-08-06T08:03:32.646816Z"
    }
   },
   "outputs": [],
   "source": [
    "nodes = ['0', '1', '2', '3', '4', '5', 'a', 'b', 'c']\n",
    "\n",
    "edges = [('0', '0', 1), ('0', '1', 1), ('0', '5', 1), ('0', '5', 2),\n",
    "         ('1', '2', 3), ('1', '4', 5), ('2', '1', 7), ('2', '4', 6),\n",
    "         ('a', 'b', 0.5), ('b', 'c', 0.5), ('c', 'a', 0.5)]"
   ]
  },
  {
   "cell_type": "markdown",
   "metadata": {},
   "source": [
    "# 定义一个无向图和有向图  "
   ]
  },
  {
   "cell_type": "code",
   "execution_count": 6,
   "metadata": {
    "ExecuteTime": {
     "end_time": "2018-08-06T08:05:02.805716Z",
     "start_time": "2018-08-06T08:05:00.189718Z"
    }
   },
   "outputs": [],
   "source": [
    "import networkx as nx"
   ]
  },
  {
   "cell_type": "code",
   "execution_count": 10,
   "metadata": {
    "ExecuteTime": {
     "end_time": "2018-08-06T08:07:15.374246Z",
     "start_time": "2018-08-06T08:07:15.366246Z"
    }
   },
   "outputs": [],
   "source": [
    "G1 = nx.Graph()\n",
    "G1.add_nodes_from(nodes)\n",
    "G1.add_weighted_edges_from(edges)\n",
    "\n",
    "\n",
    "G2 = nx.DiGraph()\n",
    "G2.add_nodes_from(nodes)\n",
    "G2.add_weighted_edges_from(edges)\n",
    "\n",
    "pos1 = nx.circular_layout(G1)\n",
    "pos2 = nx.circular_layout(G2)"
   ]
  },
  {
   "cell_type": "markdown",
   "metadata": {},
   "source": [
    "# 画出无向图和有向图"
   ]
  },
  {
   "cell_type": "code",
   "execution_count": 12,
   "metadata": {
    "ExecuteTime": {
     "end_time": "2018-08-06T08:09:01.705696Z",
     "start_time": "2018-08-06T08:09:01.490705Z"
    },
    "scrolled": true
   },
   "outputs": [
    {
     "name": "stdout",
     "output_type": "stream",
     "text": [
      "Populating the interactive namespace from numpy and matplotlib\n"
     ]
    },
    {
     "data": {
      "image/png": "[encoded data removed]",
      "text/plain": [
       "<Figure size 720x216 with 2 Axes>"
      ]
     },
     "metadata": {},
     "output_type": "display_data"
    }
   ],
   "source": [
    "%pylab inline\n",
    "mpl.rcParams['font.sans-serif'] = ['SimHei']  # 指定默认字体\n",
    "mpl.rcParams['axes.unicode_minus'] = False  # 解决保存图像是负号 '-' 显示为方块的问题\n",
    "\n",
    "plt.subplots(1, 2, figsize=(10, 3))\n",
    "\n",
    "plt.subplot(121)\n",
    "nx.draw(G1, pos1, with_labels=True, font_weight='bold')\n",
    "plt.title('无向图')\n",
    "plt.axis('on')\n",
    "plt.xticks([])\n",
    "plt.yticks([])\n",
    "\n",
    "plt.subplot(122)\n",
    "nx.draw(G2, pos2, with_labels=True, font_weight='bold')\n",
    "plt.title('有向图')\n",
    "plt.axis('on')\n",
    "plt.xticks([])\n",
    "plt.yticks([])\n",
    "\n",
    "plt.show()"
   ]
  },
  {
   "cell_type": "markdown",
   "metadata": {},
   "source": [
    "# 控制 numpy 输出小数位数"
   ]
  },
  {
   "cell_type": "code",
   "execution_count": 13,
   "metadata": {
    "ExecuteTime": {
     "end_time": "2018-08-06T08:10:13.745832Z",
     "start_time": "2018-08-06T08:10:13.741873Z"
    }
   },
   "outputs": [],
   "source": [
    "import numpy as np\n",
    "\n",
    "np.set_printoptions(precision = 3)"
   ]
  },
  {
   "cell_type": "markdown",
   "metadata": {
    "ExecuteTime": {
     "end_time": "2018-08-06T08:10:30.826256Z",
     "start_time": "2018-08-06T08:10:30.822253Z"
    }
   },
   "source": [
    "# 邻接矩阵"
   ]
  },
  {
   "cell_type": "code",
   "execution_count": 15,
   "metadata": {
    "ExecuteTime": {
     "end_time": "2018-08-06T08:10:47.265984Z",
     "start_time": "2018-08-06T08:10:47.255005Z"
    },
    "scrolled": true
   },
   "outputs": [
    {
     "name": "stdout",
     "output_type": "stream",
     "text": [
      "邻接矩阵:\n",
      " [[1.  1.  0.  0.  0.  2.  0.  0.  0. ]\n",
      " [1.  0.  7.  0.  5.  0.  0.  0.  0. ]\n",
      " [0.  7.  0.  0.  6.  0.  0.  0.  0. ]\n",
      " [0.  0.  0.  0.  0.  0.  0.  0.  0. ]\n",
      " [0.  5.  6.  0.  0.  0.  0.  0.  0. ]\n",
      " [2.  0.  0.  0.  0.  0.  0.  0.  0. ]\n",
      " [0.  0.  0.  0.  0.  0.  0.  0.5 0.5]\n",
      " [0.  0.  0.  0.  0.  0.  0.5 0.  0.5]\n",
      " [0.  0.  0.  0.  0.  0.  0.5 0.5 0. ]]\n"
     ]
    }
   ],
   "source": [
    "A = nx.adjacency_matrix(G1)\n",
    "\n",
    "print('邻接矩阵:\\n', A.todense())"
   ]
  },
  {
   "cell_type": "markdown",
   "metadata": {},
   "source": [
    "# 关联矩阵"
   ]
  },
  {
   "cell_type": "code",
   "execution_count": 16,
   "metadata": {
    "ExecuteTime": {
     "end_time": "2018-08-06T08:11:16.805098Z",
     "start_time": "2018-08-06T08:11:16.796083Z"
    }
   },
   "outputs": [
    {
     "name": "stdout",
     "output_type": "stream",
     "text": [
      "\n",
      "关联矩阵:\n",
      " [[0. 1. 1. 0. 0. 0. 0. 0. 0.]\n",
      " [0. 1. 0. 1. 1. 0. 0. 0. 0.]\n",
      " [0. 0. 0. 1. 0. 1. 0. 0. 0.]\n",
      " [0. 0. 0. 0. 0. 0. 0. 0. 0.]\n",
      " [0. 0. 0. 0. 1. 1. 0. 0. 0.]\n",
      " [0. 0. 1. 0. 0. 0. 0. 0. 0.]\n",
      " [0. 0. 0. 0. 0. 0. 1. 1. 0.]\n",
      " [0. 0. 0. 0. 0. 0. 1. 0. 1.]\n",
      " [0. 0. 0. 0. 0. 0. 0. 1. 1.]]\n"
     ]
    }
   ],
   "source": [
    "I = nx.incidence_matrix(G1)\n",
    "\n",
    "print('\\n关联矩阵:\\n', I.todense())"
   ]
  },
  {
   "cell_type": "markdown",
   "metadata": {},
   "source": [
    "# 拉普拉斯矩阵"
   ]
  },
  {
   "cell_type": "code",
   "execution_count": 17,
   "metadata": {
    "ExecuteTime": {
     "end_time": "2018-08-06T08:11:43.328997Z",
     "start_time": "2018-08-06T08:11:43.316994Z"
    }
   },
   "outputs": [
    {
     "name": "stdout",
     "output_type": "stream",
     "text": [
      "\n",
      "拉普拉斯矩阵:\n",
      " [[ 3.  -1.   0.   0.   0.  -2.   0.   0.   0. ]\n",
      " [-1.  13.  -7.   0.  -5.   0.   0.   0.   0. ]\n",
      " [ 0.  -7.  13.   0.  -6.   0.   0.   0.   0. ]\n",
      " [ 0.   0.   0.   0.   0.   0.   0.   0.   0. ]\n",
      " [ 0.  -5.  -6.   0.  11.   0.   0.   0.   0. ]\n",
      " [-2.   0.   0.   0.   0.   2.   0.   0.   0. ]\n",
      " [ 0.   0.   0.   0.   0.   0.   1.  -0.5 -0.5]\n",
      " [ 0.   0.   0.   0.   0.   0.  -0.5  1.  -0.5]\n",
      " [ 0.   0.   0.   0.   0.   0.  -0.5 -0.5  1. ]]\n"
     ]
    }
   ],
   "source": [
    "L = nx.laplacian_matrix(G1)\n",
    "\n",
    "print('\\n拉普拉斯矩阵:\\n', L.todense())"
   ]
  },
  {
   "cell_type": "markdown",
   "metadata": {},
   "source": [
    "## 标准化的拉普拉斯矩阵"
   ]
  },
  {
   "cell_type": "code",
   "execution_count": 18,
   "metadata": {
    "ExecuteTime": {
     "end_time": "2018-08-06T08:12:14.508006Z",
     "start_time": "2018-08-06T08:12:14.499049Z"
    },
    "scrolled": false
   },
   "outputs": [
    {
     "name": "stdout",
     "output_type": "stream",
     "text": [
      "\n",
      "标准化的拉普拉斯矩阵:\n",
      " [[ 0.75  -0.139  0.     0.     0.    -0.707  0.     0.     0.   ]\n",
      " [-0.139  1.    -0.538  0.    -0.418  0.     0.     0.     0.   ]\n",
      " [ 0.    -0.538  1.     0.    -0.502  0.     0.     0.     0.   ]\n",
      " [ 0.     0.     0.     0.     0.     0.     0.     0.     0.   ]\n",
      " [ 0.    -0.418 -0.502  0.     1.     0.     0.     0.     0.   ]\n",
      " [-0.707  0.     0.     0.     0.     1.     0.     0.     0.   ]\n",
      " [ 0.     0.     0.     0.     0.     0.     1.    -0.5   -0.5  ]\n",
      " [ 0.     0.     0.     0.     0.     0.    -0.5    1.    -0.5  ]\n",
      " [ 0.     0.     0.     0.     0.     0.    -0.5   -0.5    1.   ]]\n"
     ]
    }
   ],
   "source": [
    "NL = nx.normalized_laplacian_matrix(G1)\n",
    "\n",
    "print('\\n标准化的拉普拉斯矩阵:\\n', NL.todense())"
   ]
  },
  {
   "cell_type": "markdown",
   "metadata": {},
   "source": [
    "## 有向图拉普拉斯矩阵"
   ]
  },
  {
   "cell_type": "code",
   "execution_count": 20,
   "metadata": {
    "ExecuteTime": {
     "end_time": "2018-08-06T08:12:53.229184Z",
     "start_time": "2018-08-06T08:12:53.220181Z"
    },
    "scrolled": false
   },
   "outputs": [
    {
     "name": "stdout",
     "output_type": "stream",
     "text": [
      "\n",
      "有向拉普拉斯矩阵:\n",
      " [[ 0.757 -0.097 -0.006 -0.052 -0.087 -0.278 -0.012 -0.012 -0.012]\n",
      " [-0.097  0.994 -0.434 -0.041 -0.319 -0.051 -0.009 -0.009 -0.009]\n",
      " [-0.006 -0.434  0.994 -0.045 -0.242 -0.056 -0.01  -0.01  -0.01 ]\n",
      " [-0.052 -0.041 -0.045  0.889 -0.129 -0.114 -0.025 -0.025 -0.025]\n",
      " [-0.087 -0.319 -0.242 -0.129  0.889 -0.117 -0.029 -0.029 -0.029]\n",
      " [-0.278 -0.051 -0.056 -0.114 -0.117  0.889 -0.026 -0.026 -0.026]\n",
      " [-0.012 -0.009 -0.01  -0.025 -0.029 -0.026  0.994 -0.481 -0.481]\n",
      " [-0.012 -0.009 -0.01  -0.025 -0.029 -0.026 -0.481  0.994 -0.481]\n",
      " [-0.012 -0.009 -0.01  -0.025 -0.029 -0.026 -0.481 -0.481  0.994]]\n"
     ]
    }
   ],
   "source": [
    "DL = nx.directed_laplacian_matrix(G2)\n",
    "\n",
    "print('\\n有向拉普拉斯矩阵:\\n', DL)"
   ]
  },
  {
   "cell_type": "markdown",
   "metadata": {},
   "source": [
    "# 拉普拉斯算子的特征值"
   ]
  },
  {
   "cell_type": "code",
   "execution_count": 21,
   "metadata": {
    "ExecuteTime": {
     "end_time": "2018-08-06T08:13:27.721555Z",
     "start_time": "2018-08-06T08:13:27.708580Z"
    }
   },
   "outputs": [
    {
     "name": "stdout",
     "output_type": "stream",
     "text": [
      "\n",
      "拉普拉斯算子的特征值:\n",
      " [-1.277e-15 -1.103e-15 -5.551e-17  7.000e-01  1.500e+00  1.500e+00\n",
      "  4.576e+00  1.660e+01  2.013e+01]\n"
     ]
    }
   ],
   "source": [
    "LS = nx.laplacian_spectrum(G1)\n",
    "\n",
    "print('\\n拉普拉斯算子的特征值:\\n', LS)"
   ]
  },
  {
   "cell_type": "markdown",
   "metadata": {},
   "source": [
    "# 邻接矩阵的特征值"
   ]
  },
  {
   "cell_type": "code",
   "execution_count": 22,
   "metadata": {
    "ExecuteTime": {
     "end_time": "2018-08-06T08:13:58.725737Z",
     "start_time": "2018-08-06T08:13:58.714735Z"
    }
   },
   "outputs": [
    {
     "name": "stdout",
     "output_type": "stream",
     "text": [
      "\n",
      "邻接矩阵的特征值:\n",
      " [12.068+0.j  2.588+0.j -1.513+0.j -7.219+0.j -4.925+0.j -0.5  +0.j\n",
      "  1.   +0.j -0.5  +0.j  0.   +0.j]\n"
     ]
    }
   ],
   "source": [
    "AS = nx.adjacency_spectrum(G1)\n",
    "\n",
    "print('\\n邻接矩阵的特征值:\\n', AS)"
   ]
  },
  {
   "cell_type": "markdown",
   "metadata": {},
   "source": [
    "# 无向图的代数连通性"
   ]
  },
  {
   "cell_type": "code",
   "execution_count": 23,
   "metadata": {
    "ExecuteTime": {
     "end_time": "2018-08-06T08:14:17.999748Z",
     "start_time": "2018-08-06T08:14:17.995749Z"
    },
    "scrolled": true
   },
   "outputs": [
    {
     "name": "stdout",
     "output_type": "stream",
     "text": [
      "\n",
      "无向图的代数连通性:\n",
      " 0.0\n"
     ]
    }
   ],
   "source": [
    "AC = nx.algebraic_connectivity(G1)\n",
    "\n",
    "print('\\n无向图的代数连通性:\\n', AC)"
   ]
  },
  {
   "cell_type": "markdown",
   "metadata": {},
   "source": [
    "# 图的光谱排序"
   ]
  },
  {
   "cell_type": "code",
   "execution_count": 24,
   "metadata": {
    "ExecuteTime": {
     "end_time": "2018-08-06T08:14:38.944277Z",
     "start_time": "2018-08-06T08:14:38.909269Z"
    }
   },
   "outputs": [
    {
     "name": "stdout",
     "output_type": "stream",
     "text": [
      "\n",
      "图的光谱排序:\n",
      " ['4', '2', '1', '0', '5', '3', 'a', 'b', 'c']\n"
     ]
    }
   ],
   "source": [
    "SO = nx.spectral_ordering(G1)\n",
    "\n",
    "print('\\n图的光谱排序:\\n', SO)"
   ]
  },
  {
   "cell_type": "markdown",
   "metadata": {},
   "source": [
    "# NetworkX 系列教程\n",
    "- [创建 graph](http://www.cnblogs.com/wushaogui/p/9199726.html)\n",
    "- [图论---问题篇 ](http://www.cnblogs.com/wushaogui/p/9222828.html)"
   ]
  },
  {
   "cell_type": "code",
   "execution_count": null,
   "metadata": {},
   "outputs": [],
   "source": []
  },
  {
   "cell_type": "code",
   "execution_count": null,
   "metadata": {},
   "outputs": [],
   "source": []
  }
 ],
 "metadata": {
  "kernelspec": {
   "display_name": "Python 3",
   "language": "python",
   "name": "python3"
  },
  "language_info": {
   "codemirror_mode": {
    "name": "ipython",
    "version": 3
   },
   "file_extension": ".py",
   "mimetype": "text/x-python",
   "name": "python",
   "nbconvert_exporter": "python",
   "pygments_lexer": "ipython3",
   "version": "3.6.5"
  },
  "latex_envs": {
   "LaTeX_envs_menu_present": true,
   "autoclose": false,
   "autocomplete": true,
   "bibliofile": "biblio.bib",
   "cite_by": "apalike",
   "current_citInitial": 1,
   "eqLabelWithNumbers": true,
   "eqNumInitial": 1,
   "hotkeys": {
    "equation": "Ctrl-E",
    "itemize": "Ctrl-I"
   },
   "labels_anchors": false,
   "latex_user_defs": false,
   "report_style_numbering": false,
   "user_envs_cfg": false
  },
  "nbTranslate": {
   "displayLangs": [
    "*"
   ],
   "hotkey": "alt-t",
   "langInMainMenu": true,
   "sourceLang": "en",
   "targetLang": "fr",
   "useGoogleTranslate": true
  },
  "toc": {
   "base_numbering": 1,
   "nav_menu": {},
   "number_sections": true,
   "sideBar": true,
   "skip_h1_title": false,
   "title_cell": "Table of Contents",
   "title_sidebar": "Contents",
   "toc_cell": false,
   "toc_position": {},
   "toc_section_display": true,
   "toc_window_display": false
  },
  "varInspector": {
   "cols": {
    "lenName": 16,
    "lenType": 16,
    "lenVar": 40
   },
   "kernels_config": {
    "python": {
     "delete_cmd_postfix": "",
     "delete_cmd_prefix": "del ",
     "library": "var_list.py",
     "varRefreshCmd": "print(var_dic_list())"
    },
    "r": {
     "delete_cmd_postfix": ") ",
     "delete_cmd_prefix": "rm(",
     "library": "var_list.r",
     "varRefreshCmd": "cat(var_dic_list()) "
    }
   },
   "types_to_exclude": [
    "module",
    "function",
    "builtin_function_or_method",
    "instance",
    "_Feature"
   ],
   "window_display": false
  }
 },
 "nbformat": 4,
 "nbformat_minor": 2
}
